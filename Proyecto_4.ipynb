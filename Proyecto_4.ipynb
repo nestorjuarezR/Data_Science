{
  "nbformat": 4,
  "nbformat_minor": 0,
  "metadata": {
    "colab": {
      "name": "Proyecto_4.ipynb",
      "provenance": [],
      "collapsed_sections": [
        "tg3x6N2R_omF",
        "RjdcDTtpMCuh"
      ],
      "mount_file_id": "1no_bAX0iIuW44Rfnh17UUanpb-Awo2KA",
      "authorship_tag": "ABX9TyMg5kY5O7v7oKweA3JcvScN"
    },
    "kernelspec": {
      "name": "python3",
      "display_name": "Python 3"
    }
  },
  "cells": [
    {
      "cell_type": "code",
      "metadata": {
        "colab": {
          "base_uri": "https://localhost:8080/"
        },
        "id": "RJ667jdwrO_W",
        "outputId": "764b7f5f-0cbd-4d99-a3da-4114852f43c5"
      },
      "source": [
        "pip install Keras"
      ],
      "execution_count": 1,
      "outputs": [
        {
          "output_type": "stream",
          "text": [
            "Requirement already satisfied: Keras in /usr/local/lib/python3.6/dist-packages (2.4.3)\n",
            "Requirement already satisfied: h5py in /usr/local/lib/python3.6/dist-packages (from Keras) (2.10.0)\n",
            "Requirement already satisfied: pyyaml in /usr/local/lib/python3.6/dist-packages (from Keras) (3.13)\n",
            "Requirement already satisfied: numpy>=1.9.1 in /usr/local/lib/python3.6/dist-packages (from Keras) (1.19.4)\n",
            "Requirement already satisfied: scipy>=0.14 in /usr/local/lib/python3.6/dist-packages (from Keras) (1.4.1)\n",
            "Requirement already satisfied: six in /usr/local/lib/python3.6/dist-packages (from h5py->Keras) (1.15.0)\n"
          ],
          "name": "stdout"
        }
      ]
    },
    {
      "cell_type": "code",
      "metadata": {
        "id": "Xx05QhnO6jPm"
      },
      "source": [
        "import numpy as np\n",
        "import pandas as pd\n",
        "import matplotlib.pyplot as plt\n",
        "import seaborn as sns\n",
        "\n",
        "#Escalado de Datos\n",
        "from sklearn.preprocessing import StandardScaler\n",
        "\n",
        "#Polynomial\n",
        "from sklearn.preprocessing import PolynomialFeatures\n",
        "\n",
        "#Models\n",
        "from sklearn.model_selection import cross_val_score, train_test_split\n",
        "from sklearn.linear_model import LinearRegression, LassoCV, RidgeCV\n",
        "\n",
        "#Metricas \n",
        "from sklearn.metrics import mean_squared_error\n",
        "from sklearn.metrics import mean_absolute_error\n",
        "\n",
        "import warnings\n",
        "warnings.filterwarnings('ignore')"
      ],
      "execution_count": 1,
      "outputs": []
    },
    {
      "cell_type": "code",
      "metadata": {
        "id": "8JvGisVC6x4u"
      },
      "source": [
        "url = '/content/drive/MyDrive/Data/properati.csv'\n",
        "data = pd.read_csv(url)"
      ],
      "execution_count": 2,
      "outputs": []
    },
    {
      "cell_type": "code",
      "metadata": {
        "id": "2GMiK9T-7EMl"
      },
      "source": [
        "def valores_nulos(dataset):\n",
        "  print('<------------->')\n",
        "  print('Porcentaje de Valores nulos\\n')\n",
        "  print(dataset.isnull().sum() / dataset.shape[0] * 100)"
      ],
      "execution_count": 3,
      "outputs": []
    },
    {
      "cell_type": "markdown",
      "metadata": {
        "id": "ZkszXqYWqgGk"
      },
      "source": [
        "https://medium.com/@manilwagle/predicting-house-prices-using-machine-learning-cab0b82cd3f\n",
        "\n",
        "https://towardsdatascience.com/predicting-house-prices-with-linear-regression-machine-learning-from-scratch-part-ii-47a0238aeac\n",
        "\n"
      ]
    },
    {
      "cell_type": "markdown",
      "metadata": {
        "id": "eOlZ59Botaim"
      },
      "source": [
        ""
      ]
    },
    {
      "cell_type": "markdown",
      "metadata": {
        "id": "6-jDCvmM9DS5"
      },
      "source": [
        "# Filtrado de Información"
      ]
    },
    {
      "cell_type": "markdown",
      "metadata": {
        "id": "kKQoQlK074zS"
      },
      "source": [
        "Empleo el mismo filtro que se solicitaba en el Proyecto 1, en donde se emplea únicamente los Datos de propiedades registradas en Capital Federal."
      ]
    },
    {
      "cell_type": "code",
      "metadata": {
        "id": "pXZ9YXIg8RP9"
      },
      "source": [
        "data_ml=data[(data.l2 == 'Capital Federal') & (data.property_type.isin(['Departamento', 'Casa', 'PH']))]"
      ],
      "execution_count": 4,
      "outputs": []
    },
    {
      "cell_type": "code",
      "metadata": {
        "colab": {
          "base_uri": "https://localhost:8080/"
        },
        "id": "rRHvPOt37tUT",
        "outputId": "9035bb8e-dbf2-49aa-a171-e45940cb04a8"
      },
      "source": [
        "data_ml = data_ml[(data_ml.surface_total >= 15)] \n",
        "data_ml = data_ml[(data_ml.surface_total <= 1000)]\n",
        "print('valor minimo en superficie total', data_ml.surface_total.min())\n",
        "print('valor maximo en superficie total', data_ml.surface_total.max())"
      ],
      "execution_count": 5,
      "outputs": [
        {
          "output_type": "stream",
          "text": [
            "valor minimo en superficie total 15.0\n",
            "valor maximo en superficie total 1000.0\n"
          ],
          "name": "stdout"
        }
      ]
    },
    {
      "cell_type": "code",
      "metadata": {
        "id": "zOAWYic58sO8"
      },
      "source": [
        "data_ml = data_ml[(data_ml.price <= 4000000 )]"
      ],
      "execution_count": 6,
      "outputs": []
    },
    {
      "cell_type": "code",
      "metadata": {
        "id": "AcDNvry38z5t"
      },
      "source": [
        "data_ml = data_ml[['l3','property_type','rooms', 'bathrooms', 'surface_total', 'surface_covered', 'price']]"
      ],
      "execution_count": 7,
      "outputs": []
    },
    {
      "cell_type": "code",
      "metadata": {
        "colab": {
          "base_uri": "https://localhost:8080/"
        },
        "id": "V2ZTIA7R83B-",
        "outputId": "d65cb49f-d545-4fbb-ca83-0deb381236cd"
      },
      "source": [
        "valores_nulos(data_ml)"
      ],
      "execution_count": 8,
      "outputs": [
        {
          "output_type": "stream",
          "text": [
            "<------------->\n",
            "Porcentaje de Valores nulos\n",
            "\n",
            "l3                 0.000000\n",
            "property_type      0.000000\n",
            "rooms              0.000000\n",
            "bathrooms          1.068311\n",
            "surface_total      0.000000\n",
            "surface_covered    0.627633\n",
            "price              0.000000\n",
            "dtype: float64\n"
          ],
          "name": "stdout"
        }
      ]
    },
    {
      "cell_type": "code",
      "metadata": {
        "colab": {
          "base_uri": "https://localhost:8080/"
        },
        "id": "Y1spidKN8_fY",
        "outputId": "2825baa5-b65a-4520-fa5c-02e81e3bb746"
      },
      "source": [
        "#¿Presencia de valores invertidos?\n",
        "datos_invertidos= data_ml.loc[data_ml.surface_total < data_ml.surface_covered]\n",
        "print('Existen', len(datos_invertidos),'datos invertidos')"
      ],
      "execution_count": 9,
      "outputs": [
        {
          "output_type": "stream",
          "text": [
            "Existen 751 datos invertidos\n"
          ],
          "name": "stdout"
        }
      ]
    },
    {
      "cell_type": "code",
      "metadata": {
        "id": "pfBEyZZf9USE"
      },
      "source": [
        "#Limpieza de valores invertidos\n",
        "data_ml = data_ml[(data_ml.surface_total >= data_ml.surface_covered)]"
      ],
      "execution_count": 10,
      "outputs": []
    },
    {
      "cell_type": "code",
      "metadata": {
        "colab": {
          "base_uri": "https://localhost:8080/"
        },
        "id": "-S_VzqfL9lVr",
        "outputId": "08d22a0b-8257-45bf-c660-19633026f8df"
      },
      "source": [
        "#Comprobación \n",
        "datos_invertidos_2= data_ml.loc[data_ml.surface_total < data_ml.surface_covered]\n",
        "print('Existen', len(datos_invertidos_2),'datos invertidos')"
      ],
      "execution_count": 11,
      "outputs": [
        {
          "output_type": "stream",
          "text": [
            "Existen 0 datos invertidos\n"
          ],
          "name": "stdout"
        }
      ]
    },
    {
      "cell_type": "code",
      "metadata": {
        "colab": {
          "base_uri": "https://localhost:8080/"
        },
        "id": "PVQq9mi690Xy",
        "outputId": "14c5fdeb-8ab2-4fe9-fffb-f99888e211d1"
      },
      "source": [
        "valores_nulos(data_ml)"
      ],
      "execution_count": 12,
      "outputs": [
        {
          "output_type": "stream",
          "text": [
            "<------------->\n",
            "Porcentaje de Valores nulos\n",
            "\n",
            "l3                 0.000000\n",
            "property_type      0.000000\n",
            "rooms              0.000000\n",
            "bathrooms          1.022132\n",
            "surface_total      0.000000\n",
            "surface_covered    0.000000\n",
            "price              0.000000\n",
            "dtype: float64\n"
          ],
          "name": "stdout"
        }
      ]
    },
    {
      "cell_type": "code",
      "metadata": {
        "id": "kijnd5Jb-J4P"
      },
      "source": [
        "#Eliminar informacion duplicada\n",
        "data_ml.drop_duplicates(inplace=True)"
      ],
      "execution_count": 13,
      "outputs": []
    },
    {
      "cell_type": "code",
      "metadata": {
        "id": "C6QUv05d9l4e"
      },
      "source": [
        "#Copia\n",
        "data_py2 = data_ml.copy()"
      ],
      "execution_count": 14,
      "outputs": []
    },
    {
      "cell_type": "markdown",
      "metadata": {
        "id": "B5YbbF-9-VS6"
      },
      "source": [
        "#EDA"
      ]
    },
    {
      "cell_type": "markdown",
      "metadata": {
        "id": "l5G6aEkm-Y4M"
      },
      "source": [
        "## Imputación de Valores faltantes"
      ]
    },
    {
      "cell_type": "code",
      "metadata": {
        "colab": {
          "base_uri": "https://localhost:8080/"
        },
        "id": "CrQaM-mO9yg9",
        "outputId": "fd2740c7-e8fc-4468-a74d-44ca45e1ec07"
      },
      "source": [
        "valores_nulos(data_ml)"
      ],
      "execution_count": 15,
      "outputs": [
        {
          "output_type": "stream",
          "text": [
            "<------------->\n",
            "Porcentaje de Valores nulos\n",
            "\n",
            "l3                 0.00000\n",
            "property_type      0.00000\n",
            "rooms              0.00000\n",
            "bathrooms          1.47145\n",
            "surface_total      0.00000\n",
            "surface_covered    0.00000\n",
            "price              0.00000\n",
            "dtype: float64\n"
          ],
          "name": "stdout"
        }
      ]
    },
    {
      "cell_type": "code",
      "metadata": {
        "id": "cGXTswwD-eE0"
      },
      "source": [
        "#Elimino valores nulos en dataset copia\n",
        "data_py2.dropna(inplace=True)"
      ],
      "execution_count": 16,
      "outputs": []
    },
    {
      "cell_type": "code",
      "metadata": {
        "id": "vAWVaNv--pgH"
      },
      "source": [
        "#Agrupación segun el tipo de propiedad\n",
        "mean_bt = data_py2.groupby('property_type')['bathrooms'].mean().round(0)"
      ],
      "execution_count": 17,
      "outputs": []
    },
    {
      "cell_type": "code",
      "metadata": {
        "colab": {
          "base_uri": "https://localhost:8080/"
        },
        "id": "cZ7g2gO4-00t",
        "outputId": "e1fea04f-8d91-4e13-ef6f-91e794269b59"
      },
      "source": [
        "mean_bt = dict(round(mean_bt))\n",
        "mean_bt"
      ],
      "execution_count": 18,
      "outputs": [
        {
          "output_type": "execute_result",
          "data": {
            "text/plain": [
              "{'Casa': 2.0, 'Departamento': 2.0, 'PH': 1.0}"
            ]
          },
          "metadata": {
            "tags": []
          },
          "execution_count": 18
        }
      ]
    },
    {
      "cell_type": "code",
      "metadata": {
        "id": "fgOZm0eSKeoo"
      },
      "source": [
        "data_ml.bathrooms = data_ml.bathrooms.fillna(data_ml.property_type.map(mean_bt))"
      ],
      "execution_count": 19,
      "outputs": []
    },
    {
      "cell_type": "code",
      "metadata": {
        "colab": {
          "base_uri": "https://localhost:8080/"
        },
        "id": "isuR6Sd3Kzdq",
        "outputId": "b7e63a02-f62a-44f3-b7ef-fdcad5e62070"
      },
      "source": [
        "valores_nulos(data_ml)"
      ],
      "execution_count": 20,
      "outputs": [
        {
          "output_type": "stream",
          "text": [
            "<------------->\n",
            "Porcentaje de Valores nulos\n",
            "\n",
            "l3                 0.0\n",
            "property_type      0.0\n",
            "rooms              0.0\n",
            "bathrooms          0.0\n",
            "surface_total      0.0\n",
            "surface_covered    0.0\n",
            "price              0.0\n",
            "dtype: float64\n"
          ],
          "name": "stdout"
        }
      ]
    },
    {
      "cell_type": "code",
      "metadata": {
        "colab": {
          "base_uri": "https://localhost:8080/",
          "height": 129
        },
        "id": "2TPZp1xbgbG6",
        "outputId": "a147516c-6d94-4909-d6dc-718a19cd7b79"
      },
      "source": [
        "break"
      ],
      "execution_count": 22,
      "outputs": [
        {
          "output_type": "error",
          "ename": "SyntaxError",
          "evalue": "ignored",
          "traceback": [
            "\u001b[0;36m  File \u001b[0;32m\"<ipython-input-22-6aaf1f276005>\"\u001b[0;36m, line \u001b[0;32m1\u001b[0m\n\u001b[0;31m    break\u001b[0m\n\u001b[0m         ^\u001b[0m\n\u001b[0;31mSyntaxError\u001b[0m\u001b[0;31m:\u001b[0m 'break' outside loop\n"
          ]
        }
      ]
    },
    {
      "cell_type": "markdown",
      "metadata": {
        "id": "NKAQISveQ2yB"
      },
      "source": [
        "# Intento"
      ]
    },
    {
      "cell_type": "markdown",
      "metadata": {
        "id": "DiXJ9NBalnGA"
      },
      "source": [
        "https://github.com/traintestbritt/predicting_house_prices/blob/master/notebook-house_price_predictions-brittany_allen.ipynb"
      ]
    },
    {
      "cell_type": "code",
      "metadata": {
        "colab": {
          "base_uri": "https://localhost:8080/",
          "height": 517
        },
        "id": "pDWE7YBiQ2kQ",
        "outputId": "edc17a08-99a4-48f1-fbc7-235788b2cc02"
      },
      "source": [
        "fig, ax = plt.subplots(figsize = (11, 8))\n",
        "sns.distplot(data_ml.price, kde=False, color='#A15EDB', bins=10)\n",
        "\n",
        "plt.xlabel('Sale Price', fontsize=19, labelpad=11)\n",
        "plt.xticks(fontsize=14)\n",
        "plt.ylabel('Count', fontsize=19, labelpad=11)\n",
        "plt.yticks(fontsize=14);"
      ],
      "execution_count": 21,
      "outputs": [
        {
          "output_type": "display_data",
          "data": {
            "image/png": "[encoded data removed]",
            "text/plain": [
              "<Figure size 792x576 with 1 Axes>"
            ]
          },
          "metadata": {
            "tags": [],
            "needs_background": "light"
          }
        }
      ]
    },
    {
      "cell_type": "code",
      "metadata": {
        "colab": {
          "base_uri": "https://localhost:8080/"
        },
        "id": "gmTzn85hQ2ep",
        "outputId": "2aada544-0fa5-4ed4-fd64-dd78b6d24e76"
      },
      "source": [
        "data_ml.price.describe()"
      ],
      "execution_count": 22,
      "outputs": [
        {
          "output_type": "execute_result",
          "data": {
            "text/plain": [
              "count    4.777600e+04\n",
              "mean     2.638013e+05\n",
              "std      2.914023e+05\n",
              "min      6.000000e+03\n",
              "25%      1.230000e+05\n",
              "50%      1.780000e+05\n",
              "75%      2.890000e+05\n",
              "max      4.000000e+06\n",
              "Name: price, dtype: float64"
            ]
          },
          "metadata": {
            "tags": []
          },
          "execution_count": 22
        }
      ]
    },
    {
      "cell_type": "code",
      "metadata": {
        "colab": {
          "base_uri": "https://localhost:8080/",
          "height": 517
        },
        "id": "zyBOnPSHQ2ZS",
        "outputId": "7169dcc6-c81c-444a-9e49-587c90fdca33"
      },
      "source": [
        "fig, ax = plt.subplots(figsize = (11, 8))\n",
        "sns.distplot(np.log(data_ml.price), kde=False, color='#A15EDB', bins=10)\n",
        "\n",
        "plt.xlabel('Sale Price', fontsize=19, labelpad=11)\n",
        "plt.xticks(fontsize=14)\n",
        "plt.ylabel('Count', fontsize=19, labelpad=11)\n",
        "plt.yticks(fontsize=14);"
      ],
      "execution_count": 23,
      "outputs": [
        {
          "output_type": "display_data",
          "data": {
            "image/png": "[encoded data removed]",
            "text/plain": [
              "<Figure size 792x576 with 1 Axes>"
            ]
          },
          "metadata": {
            "tags": [],
            "needs_background": "light"
          }
        }
      ]
    },
    {
      "cell_type": "code",
      "metadata": {
        "colab": {
          "base_uri": "https://localhost:8080/",
          "height": 650
        },
        "id": "92N0x76qU9Fm",
        "outputId": "c807bf4c-7bc6-467b-8088-c6818948465e"
      },
      "source": [
        "fig, ax = plt.subplots(figsize = (20, 11))\n",
        "\n",
        "cmap = sns.diverging_palette(150, 275, as_cmap=True)\n",
        "sns.heatmap(data_ml.corr()[['price']][round(data_ml.corr()['price'].sort_values(ascending=False), 1) >= .5], annot=True, linewidths=.4, fmt=\".1f\", cmap=cmap, ax=ax);"
      ],
      "execution_count": 24,
      "outputs": [
        {
          "output_type": "display_data",
          "data": {
            "image/png": "[encoded data removed]",
            "text/plain": [
              "<Figure size 1440x792 with 2 Axes>"
            ]
          },
          "metadata": {
            "tags": [],
            "needs_background": "light"
          }
        }
      ]
    },
    {
      "cell_type": "code",
      "metadata": {
        "colab": {
          "base_uri": "https://localhost:8080/",
          "height": 689
        },
        "id": "EcHw2jALVRt7",
        "outputId": "cb65f491-fbdb-4e6b-eb7f-e2457f30c06e"
      },
      "source": [
        "fig, ax = plt.subplots(nrows = 2, ncols = 3, figsize = (18,11), sharey=True)\n",
        "fig.subplots_adjust(wspace=.2, hspace=.35)\n",
        "#sns.set(font_scale=.5)\n",
        "\n",
        "sns.scatterplot(x=data_ml.rooms, y=data_ml.price, ax=ax[0, 0], color='#69547C', )\n",
        "sns.scatterplot(x=data_ml.bathrooms, y=data_ml.price, ax=ax[0, 1], color='#69547C')\n",
        "sns.scatterplot(x=data_ml.surface_covered, y=data_ml.price, ax=ax[0, 2], color='#69547C')\n",
        "sns.scatterplot(x=data_ml.surface_total, y=data_ml.price, ax=ax[1, 0], color='#69547C')\n",
        "\n"
      ],
      "execution_count": 25,
      "outputs": [
        {
          "output_type": "execute_result",
          "data": {
            "text/plain": [
              "<matplotlib.axes._subplots.AxesSubplot at 0x7f98c4df56d8>"
            ]
          },
          "metadata": {
            "tags": []
          },
          "execution_count": 25
        },
        {
          "output_type": "display_data",
          "data": {
            "image/png": "[encoded data removed]",
            "text/plain": [
              "<Figure size 1296x792 with 6 Axes>"
            ]
          },
          "metadata": {
            "tags": [],
            "needs_background": "light"
          }
        }
      ]
    },
    {
      "cell_type": "code",
      "metadata": {
        "id": "ddo0MfbbVRpE"
      },
      "source": [
        "data_ml.price = data_ml.price.map(np.log)"
      ],
      "execution_count": 26,
      "outputs": []
    },
    {
      "cell_type": "code",
      "metadata": {
        "colab": {
          "base_uri": "https://localhost:8080/",
          "height": 111
        },
        "id": "4PzzU3fxX438",
        "outputId": "607702cb-bfab-4244-f1a3-ddd5d2abb94f"
      },
      "source": [
        "data_ml.head(2)"
      ],
      "execution_count": 27,
      "outputs": [
        {
          "output_type": "execute_result",
          "data": {
            "text/html": [
              "<div>\n",
              "<style scoped>\n",
              "    .dataframe tbody tr th:only-of-type {\n",
              "        vertical-align: middle;\n",
              "    }\n",
              "\n",
              "    .dataframe tbody tr th {\n",
              "        vertical-align: top;\n",
              "    }\n",
              "\n",
              "    .dataframe thead th {\n",
              "        text-align: right;\n",
              "    }\n",
              "</style>\n",
              "<table border=\"1\" class=\"dataframe\">\n",
              "  <thead>\n",
              "    <tr style=\"text-align: right;\">\n",
              "      <th></th>\n",
              "      <th>l3</th>\n",
              "      <th>property_type</th>\n",
              "      <th>rooms</th>\n",
              "      <th>bathrooms</th>\n",
              "      <th>surface_total</th>\n",
              "      <th>surface_covered</th>\n",
              "      <th>price</th>\n",
              "    </tr>\n",
              "  </thead>\n",
              "  <tbody>\n",
              "    <tr>\n",
              "      <th>0</th>\n",
              "      <td>San Cristobal</td>\n",
              "      <td>Departamento</td>\n",
              "      <td>7.0</td>\n",
              "      <td>2.0</td>\n",
              "      <td>140.0</td>\n",
              "      <td>140.0</td>\n",
              "      <td>11.938193</td>\n",
              "    </tr>\n",
              "    <tr>\n",
              "      <th>1</th>\n",
              "      <td>Boedo</td>\n",
              "      <td>PH</td>\n",
              "      <td>2.0</td>\n",
              "      <td>2.0</td>\n",
              "      <td>70.0</td>\n",
              "      <td>58.0</td>\n",
              "      <td>11.976659</td>\n",
              "    </tr>\n",
              "  </tbody>\n",
              "</table>\n",
              "</div>"
            ],
            "text/plain": [
              "              l3 property_type  ...  surface_covered      price\n",
              "0  San Cristobal  Departamento  ...            140.0  11.938193\n",
              "1          Boedo            PH  ...             58.0  11.976659\n",
              "\n",
              "[2 rows x 7 columns]"
            ]
          },
          "metadata": {
            "tags": []
          },
          "execution_count": 27
        }
      ]
    },
    {
      "cell_type": "code",
      "metadata": {
        "colab": {
          "base_uri": "https://localhost:8080/"
        },
        "id": "ItTvH7XxZfoN",
        "outputId": "10326c47-3611-4d6b-bc8f-3a1fa3e95e6f"
      },
      "source": [
        "data_ml._get_numeric_data().columns"
      ],
      "execution_count": 28,
      "outputs": [
        {
          "output_type": "execute_result",
          "data": {
            "text/plain": [
              "Index(['rooms', 'bathrooms', 'surface_total', 'surface_covered', 'price'], dtype='object')"
            ]
          },
          "metadata": {
            "tags": []
          },
          "execution_count": 28
        }
      ]
    },
    {
      "cell_type": "code",
      "metadata": {
        "id": "ubdn6pAxZ2j9"
      },
      "source": [
        "#Separo datos en X e Y\n",
        "X = data_ml[['rooms', 'bathrooms', 'surface_total', 'surface_covered']]\n",
        "Y = data_ml[['price']]"
      ],
      "execution_count": 29,
      "outputs": []
    },
    {
      "cell_type": "code",
      "metadata": {
        "colab": {
          "base_uri": "https://localhost:8080/"
        },
        "id": "uYN-WxcNgiDB",
        "outputId": "6c6d5e2f-7c90-49a5-80dd-e9b6ababe4d3"
      },
      "source": [
        "X.shape, Y.shape"
      ],
      "execution_count": 30,
      "outputs": [
        {
          "output_type": "execute_result",
          "data": {
            "text/plain": [
              "((47776, 4), (47776, 1))"
            ]
          },
          "metadata": {
            "tags": []
          },
          "execution_count": 30
        }
      ]
    },
    {
      "cell_type": "markdown",
      "metadata": {
        "id": "bkz_2RAjaJ7a"
      },
      "source": [
        "# Polynomial Features"
      ]
    },
    {
      "cell_type": "code",
      "metadata": {
        "id": "GQQcUTjXaG_l"
      },
      "source": [
        "poly = PolynomialFeatures(degree=2)"
      ],
      "execution_count": 31,
      "outputs": []
    },
    {
      "cell_type": "code",
      "metadata": {
        "id": "RWpawkggaG8R"
      },
      "source": [
        "features_poly = poly.fit_transform(X)"
      ],
      "execution_count": 32,
      "outputs": []
    },
    {
      "cell_type": "code",
      "metadata": {
        "id": "yq57Y0mUaGe2"
      },
      "source": [
        "poly_df = pd.DataFrame(features_poly, columns=poly.get_feature_names())"
      ],
      "execution_count": 33,
      "outputs": []
    },
    {
      "cell_type": "code",
      "metadata": {
        "colab": {
          "base_uri": "https://localhost:8080/",
          "height": 111
        },
        "id": "CQ7guftjavR0",
        "outputId": "e8e8294a-7fc0-413c-945a-ecc6daab078e"
      },
      "source": [
        "poly_df.head(2)"
      ],
      "execution_count": 34,
      "outputs": [
        {
          "output_type": "execute_result",
          "data": {
            "text/html": [
              "<div>\n",
              "<style scoped>\n",
              "    .dataframe tbody tr th:only-of-type {\n",
              "        vertical-align: middle;\n",
              "    }\n",
              "\n",
              "    .dataframe tbody tr th {\n",
              "        vertical-align: top;\n",
              "    }\n",
              "\n",
              "    .dataframe thead th {\n",
              "        text-align: right;\n",
              "    }\n",
              "</style>\n",
              "<table border=\"1\" class=\"dataframe\">\n",
              "  <thead>\n",
              "    <tr style=\"text-align: right;\">\n",
              "      <th></th>\n",
              "      <th>1</th>\n",
              "      <th>x0</th>\n",
              "      <th>x1</th>\n",
              "      <th>x2</th>\n",
              "      <th>x3</th>\n",
              "      <th>x0^2</th>\n",
              "      <th>x0 x1</th>\n",
              "      <th>x0 x2</th>\n",
              "      <th>x0 x3</th>\n",
              "      <th>x1^2</th>\n",
              "      <th>x1 x2</th>\n",
              "      <th>x1 x3</th>\n",
              "      <th>x2^2</th>\n",
              "      <th>x2 x3</th>\n",
              "      <th>x3^2</th>\n",
              "    </tr>\n",
              "  </thead>\n",
              "  <tbody>\n",
              "    <tr>\n",
              "      <th>0</th>\n",
              "      <td>1.0</td>\n",
              "      <td>7.0</td>\n",
              "      <td>2.0</td>\n",
              "      <td>140.0</td>\n",
              "      <td>140.0</td>\n",
              "      <td>49.0</td>\n",
              "      <td>14.0</td>\n",
              "      <td>980.0</td>\n",
              "      <td>980.0</td>\n",
              "      <td>4.0</td>\n",
              "      <td>280.0</td>\n",
              "      <td>280.0</td>\n",
              "      <td>19600.0</td>\n",
              "      <td>19600.0</td>\n",
              "      <td>19600.0</td>\n",
              "    </tr>\n",
              "    <tr>\n",
              "      <th>1</th>\n",
              "      <td>1.0</td>\n",
              "      <td>2.0</td>\n",
              "      <td>2.0</td>\n",
              "      <td>70.0</td>\n",
              "      <td>58.0</td>\n",
              "      <td>4.0</td>\n",
              "      <td>4.0</td>\n",
              "      <td>140.0</td>\n",
              "      <td>116.0</td>\n",
              "      <td>4.0</td>\n",
              "      <td>140.0</td>\n",
              "      <td>116.0</td>\n",
              "      <td>4900.0</td>\n",
              "      <td>4060.0</td>\n",
              "      <td>3364.0</td>\n",
              "    </tr>\n",
              "  </tbody>\n",
              "</table>\n",
              "</div>"
            ],
            "text/plain": [
              "     1   x0   x1     x2     x3  ...  x1 x2  x1 x3     x2^2    x2 x3     x3^2\n",
              "0  1.0  7.0  2.0  140.0  140.0  ...  280.0  280.0  19600.0  19600.0  19600.0\n",
              "1  1.0  2.0  2.0   70.0   58.0  ...  140.0  116.0   4900.0   4060.0   3364.0\n",
              "\n",
              "[2 rows x 15 columns]"
            ]
          },
          "metadata": {
            "tags": []
          },
          "execution_count": 34
        }
      ]
    },
    {
      "cell_type": "code",
      "metadata": {
        "colab": {
          "base_uri": "https://localhost:8080/"
        },
        "id": "P6BHEenBgywy",
        "outputId": "95afba07-fdfc-4b15-8982-20c80a3d6b20"
      },
      "source": [
        "poly_df.shape"
      ],
      "execution_count": 35,
      "outputs": [
        {
          "output_type": "execute_result",
          "data": {
            "text/plain": [
              "(47776, 15)"
            ]
          },
          "metadata": {
            "tags": []
          },
          "execution_count": 35
        }
      ]
    },
    {
      "cell_type": "markdown",
      "metadata": {
        "id": "XbvGDi2_bHiE"
      },
      "source": [
        "## Escalado de Datos"
      ]
    },
    {
      "cell_type": "code",
      "metadata": {
        "id": "9SiBok0VbKS_"
      },
      "source": [
        "std = StandardScaler()"
      ],
      "execution_count": 36,
      "outputs": []
    },
    {
      "cell_type": "code",
      "metadata": {
        "colab": {
          "base_uri": "https://localhost:8080/"
        },
        "id": "XkTx5r7vbKPk",
        "outputId": "fb845604-e977-40ff-f2ae-90a4f43dce92"
      },
      "source": [
        "std.fit(poly_df)"
      ],
      "execution_count": 37,
      "outputs": [
        {
          "output_type": "execute_result",
          "data": {
            "text/plain": [
              "StandardScaler(copy=True, with_mean=True, with_std=True)"
            ]
          },
          "metadata": {
            "tags": []
          },
          "execution_count": 37
        }
      ]
    },
    {
      "cell_type": "code",
      "metadata": {
        "id": "wP5hpAOWbKJk"
      },
      "source": [
        "data_escalada = std.transform(poly_df)"
      ],
      "execution_count": 38,
      "outputs": []
    },
    {
      "cell_type": "code",
      "metadata": {
        "id": "kZ0vsngsg4QR"
      },
      "source": [
        "data_escalada = pd.DataFrame(data_escalada)"
      ],
      "execution_count": 39,
      "outputs": []
    },
    {
      "cell_type": "code",
      "metadata": {
        "colab": {
          "base_uri": "https://localhost:8080/"
        },
        "id": "Amflu_5rg81f",
        "outputId": "40f9c47f-b827-41a2-832e-b13a7d1ef7df"
      },
      "source": [
        "data_escalada.shape"
      ],
      "execution_count": 40,
      "outputs": [
        {
          "output_type": "execute_result",
          "data": {
            "text/plain": [
              "(47776, 15)"
            ]
          },
          "metadata": {
            "tags": []
          },
          "execution_count": 40
        }
      ]
    },
    {
      "cell_type": "markdown",
      "metadata": {
        "id": "kT8moJ5rd7Sb"
      },
      "source": [
        "##Enconding"
      ]
    },
    {
      "cell_type": "code",
      "metadata": {
        "id": "ZYp7VCVBd-Hk"
      },
      "source": [
        "l3 = data_ml['l3']"
      ],
      "execution_count": 41,
      "outputs": []
    },
    {
      "cell_type": "code",
      "metadata": {
        "id": "3gWbO2hOeHT4"
      },
      "source": [
        "l3_get = pd.get_dummies(l3, prefix=('x'))"
      ],
      "execution_count": 42,
      "outputs": []
    },
    {
      "cell_type": "code",
      "metadata": {
        "id": "ezSOg_W3kls2"
      },
      "source": [
        "data_escalada.reset_index(drop=True, inplace=True)\n",
        "l3_get.reset_index(drop=True, inplace=True)"
      ],
      "execution_count": 43,
      "outputs": []
    },
    {
      "cell_type": "code",
      "metadata": {
        "colab": {
          "base_uri": "https://localhost:8080/"
        },
        "id": "UHEseThfhMoY",
        "outputId": "e256da07-0a47-4b1b-8f24-15061c0aa611"
      },
      "source": [
        "data_escalada.shape, l3_get.shape"
      ],
      "execution_count": 44,
      "outputs": [
        {
          "output_type": "execute_result",
          "data": {
            "text/plain": [
              "((47776, 15), (47776, 57))"
            ]
          },
          "metadata": {
            "tags": []
          },
          "execution_count": 44
        }
      ]
    },
    {
      "cell_type": "code",
      "metadata": {
        "id": "lujvXzzPiI4i"
      },
      "source": [
        "data_eda = pd.merge(data_escalada, l3_get, how='left', left_index=True, right_index=True)"
      ],
      "execution_count": 45,
      "outputs": []
    },
    {
      "cell_type": "markdown",
      "metadata": {
        "id": "W8TAgNlqbum9"
      },
      "source": [
        "##Modelos"
      ]
    },
    {
      "cell_type": "code",
      "metadata": {
        "id": "AbrxS_bBbY2s"
      },
      "source": [
        "X_train, X_test, y_train, y_test = train_test_split(data_eda, Y,\n",
        "                                                    test_size=0.25,\n",
        "                                                    random_state=40)"
      ],
      "execution_count": 46,
      "outputs": []
    },
    {
      "cell_type": "code",
      "metadata": {
        "id": "vALcnbwhcu9I"
      },
      "source": [
        "def evaluar_modelo(modelo,X_train,X_test,y_train,y_test):\n",
        "    modelo.fit(X_train,y_train)\n",
        "    print (\"* R2 del modelo  en train:\", modelo.score(X_train,y_train) )\n",
        "    print('RMSE en train:',np.sqrt(mean_squared_error(y_train, modelo.predict(X_train))))\n",
        "    print (\"* R2 del modelo en test:\", modelo.score(X_test,y_test) )\n",
        "    print('RMSE en test:',np.sqrt(mean_squared_error(y_test, modelo.predict(X_test))))"
      ],
      "execution_count": 58,
      "outputs": []
    },
    {
      "cell_type": "code",
      "metadata": {
        "id": "eBN_VMysbYyi"
      },
      "source": [
        "linear = LinearRegression()"
      ],
      "execution_count": 48,
      "outputs": []
    },
    {
      "cell_type": "code",
      "metadata": {
        "colab": {
          "base_uri": "https://localhost:8080/"
        },
        "id": "7NPGZu4fcu3j",
        "outputId": "e5de0cf1-d365-46c0-caa9-97588f6fa352"
      },
      "source": [
        "evaluar_modelo(linear, X_train, X_test, y_train, y_test)"
      ],
      "execution_count": 49,
      "outputs": [
        {
          "output_type": "stream",
          "text": [
            "R2 del modelo  en train: 0.8357361103470271\n",
            "RMSE en train: 0.27918243316348434\n",
            "R2 del modelo en test: 0.8370873919713756\n",
            "RMSE en test: 0.27593304069680064\n"
          ],
          "name": "stdout"
        }
      ]
    },
    {
      "cell_type": "code",
      "metadata": {
        "id": "SerMK5ZYdCQB"
      },
      "source": [
        "ridge = RidgeCV()"
      ],
      "execution_count": 50,
      "outputs": []
    },
    {
      "cell_type": "code",
      "metadata": {
        "colab": {
          "base_uri": "https://localhost:8080/"
        },
        "id": "a_xUdWindB9n",
        "outputId": "297699cc-d999-4163-e713-918c8a61c6e9"
      },
      "source": [
        "evaluar_modelo(ridge, X_train, X_test, y_train, y_test)"
      ],
      "execution_count": 51,
      "outputs": [
        {
          "output_type": "stream",
          "text": [
            "R2 del modelo  en train: 0.8357339341042005\n",
            "RMSE en train: 0.2791842825253753\n",
            "R2 del modelo en test: 0.8370984984665983\n",
            "RMSE en test: 0.2759236347297919\n"
          ],
          "name": "stdout"
        }
      ]
    },
    {
      "cell_type": "code",
      "metadata": {
        "id": "y8_VkfmAdSTY"
      },
      "source": [
        "lasso = LassoCV()"
      ],
      "execution_count": 52,
      "outputs": []
    },
    {
      "cell_type": "code",
      "metadata": {
        "colab": {
          "base_uri": "https://localhost:8080/"
        },
        "id": "jpzfovnRdRG-",
        "outputId": "197eb154-968a-4d65-f96a-a3db30a3de1f"
      },
      "source": [
        "evaluar_modelo(lasso, X_train, X_test, y_train, y_test)"
      ],
      "execution_count": 53,
      "outputs": [
        {
          "output_type": "stream",
          "text": [
            "R2 del modelo  en train: 0.8321731158935399\n",
            "RMSE en train: 0.2821940174983779\n",
            "R2 del modelo en test: 0.8334610046816809\n",
            "RMSE en test: 0.2789872325172459\n"
          ],
          "name": "stdout"
        }
      ]
    },
    {
      "cell_type": "code",
      "metadata": {
        "id": "9HkUFeUjsg-h"
      },
      "source": [
        "from sklearn import ensemble\n",
        "clf = ensemble.GradientBoostingRegressor(n_estimators = 400, max_depth = 5, min_samples_split = 2,\n",
        "          learning_rate = 0.1, loss = 'ls')"
      ],
      "execution_count": 54,
      "outputs": []
    },
    {
      "cell_type": "code",
      "metadata": {
        "colab": {
          "base_uri": "https://localhost:8080/"
        },
        "id": "V9wNGr56sg5t",
        "outputId": "1fdf8c37-bd61-4ddd-ea4c-1df47f25ea07"
      },
      "source": [
        "evaluar_modelo(clf, X_train, X_test, y_train, y_test)"
      ],
      "execution_count": 55,
      "outputs": [
        {
          "output_type": "stream",
          "text": [
            "R2 del modelo  en train: 0.905172234685945\n",
            "RMSE en train: 0.21212155144011297\n",
            "R2 del modelo en test: 0.8745708538472357\n",
            "RMSE en test: 0.24211717143340006\n"
          ],
          "name": "stdout"
        }
      ]
    },
    {
      "cell_type": "code",
      "metadata": {
        "id": "ckMhHY4oC6us"
      },
      "source": [
        "from sklearn.svm import SVR\n",
        "super_regresor = SVR()"
      ],
      "execution_count": 56,
      "outputs": []
    },
    {
      "cell_type": "code",
      "metadata": {
        "colab": {
          "base_uri": "https://localhost:8080/"
        },
        "id": "YJSVD5MhC6cJ",
        "outputId": "d91417f8-a560-41e2-8a0f-44da319dc551"
      },
      "source": [
        "evaluar_modelo(super_regresor, X_train, X_test, y_train, y_test)"
      ],
      "execution_count": 57,
      "outputs": [
        {
          "output_type": "stream",
          "text": [
            "R2 del modelo  en train: 0.8797657191521586\n",
            "RMSE en train: 0.2388532702565442\n",
            "R2 del modelo en test: 0.8671037501189993\n",
            "RMSE en test: 0.2492199024244154\n"
          ],
          "name": "stdout"
        }
      ]
    },
    {
      "cell_type": "code",
      "metadata": {
        "id": "NCXdcg6nDdgf"
      },
      "source": [
        "from sklearn.ensemble import ExtraTreesRegressor\n",
        "tree_reg = ExtraTreesRegressor(n_estimators=100, random_state=40)"
      ],
      "execution_count": 60,
      "outputs": []
    },
    {
      "cell_type": "code",
      "metadata": {
        "colab": {
          "base_uri": "https://localhost:8080/"
        },
        "id": "fnc0ooAADkv4",
        "outputId": "1bad751b-da12-455d-f700-45ae3c925e1f"
      },
      "source": [
        "evaluar_modelo(tree_reg, X_train, X_test, y_train, y_test)"
      ],
      "execution_count": 61,
      "outputs": [
        {
          "output_type": "stream",
          "text": [
            "* R2 del modelo  en train: 0.9812486138009185\n",
            "RMSE en train: 0.09432650126948647\n",
            "* R2 del modelo en test: 0.863328152036683\n",
            "RMSE en test: 0.2527352924880494\n"
          ],
          "name": "stdout"
        }
      ]
    },
    {
      "cell_type": "code",
      "metadata": {
        "id": "eyUQY7mCF39E"
      },
      "source": [
        "from sklearn import linear_model\n",
        "reg = linear_model.BayesianRidge()"
      ],
      "execution_count": 62,
      "outputs": []
    },
    {
      "cell_type": "code",
      "metadata": {
        "colab": {
          "base_uri": "https://localhost:8080/"
        },
        "id": "B6rhRH1yF32u",
        "outputId": "be153bb6-a8a9-4dd4-c339-8503d693bf2b"
      },
      "source": [
        "evaluar_modelo(reg, X_train, X_test, y_train, y_test)"
      ],
      "execution_count": 63,
      "outputs": [
        {
          "output_type": "stream",
          "text": [
            "* R2 del modelo  en train: 0.8357331668752006\n",
            "RMSE en train: 0.27918493451039295\n",
            "* R2 del modelo en test: 0.837099923165353\n",
            "RMSE en test: 0.2759224281450934\n"
          ],
          "name": "stdout"
        }
      ]
    },
    {
      "cell_type": "code",
      "metadata": {
        "id": "Buyv7MG5F3wS"
      },
      "source": [
        "from sklearn.ensemble import RandomForestRegressor\n",
        "regg = RandomForestRegressor(n_estimators=150)"
      ],
      "execution_count": 66,
      "outputs": []
    },
    {
      "cell_type": "code",
      "metadata": {
        "colab": {
          "base_uri": "https://localhost:8080/"
        },
        "id": "PM6eMT19F3pe",
        "outputId": "18a34eb9-d2bd-4377-82c1-7c4fd8d6fa21"
      },
      "source": [
        "evaluar_modelo(regg, X_train, X_test, y_train, y_test)"
      ],
      "execution_count": 67,
      "outputs": [
        {
          "output_type": "stream",
          "text": [
            "* R2 del modelo  en train: 0.9686494280347772\n",
            "RMSE en train: 0.12196627806296081\n",
            "* R2 del modelo en test: 0.8726557996405104\n",
            "RMSE en test: 0.24395849414177592\n"
          ],
          "name": "stdout"
        }
      ]
    },
    {
      "cell_type": "code",
      "metadata": {
        "id": "NQSo0nuWF3jM"
      },
      "source": [
        "from xgboost.sklearn import XGBRegressor\n",
        "xg_reg = XGBRegressor()"
      ],
      "execution_count": 68,
      "outputs": []
    },
    {
      "cell_type": "code",
      "metadata": {
        "colab": {
          "base_uri": "https://localhost:8080/"
        },
        "id": "YiNhH564JKy0",
        "outputId": "eab9a164-efe0-4377-a156-d24da8499190"
      },
      "source": [
        "evaluar_modelo(xg_reg, X_train, X_test, y_train, y_test)"
      ],
      "execution_count": 69,
      "outputs": [
        {
          "output_type": "stream",
          "text": [
            "[00:42:20] WARNING: /workspace/src/objective/regression_obj.cu:152: reg:linear is now deprecated in favor of reg:squarederror.\n",
            "* R2 del modelo  en train: 0.8549087306129131\n",
            "RMSE en train: 0.26238419839433375\n",
            "* R2 del modelo en test: 0.8496470006217101\n",
            "RMSE en test: 0.2650833233768395\n"
          ],
          "name": "stdout"
        }
      ]
    },
    {
      "cell_type": "code",
      "metadata": {
        "id": "EIzE6et8Jw6d"
      },
      "source": [
        "from sklearn.linear_model import ElasticNetCV\n",
        "elas = ElasticNetCV(cv=5, max_iter=1e7)"
      ],
      "execution_count": 70,
      "outputs": []
    },
    {
      "cell_type": "code",
      "metadata": {
        "colab": {
          "base_uri": "https://localhost:8080/"
        },
        "id": "SWFSeqWfJwf8",
        "outputId": "06862077-7a3e-4221-86eb-24e97f513e76"
      },
      "source": [
        "evaluar_modelo(elas, X_train, X_test, y_train, y_test)"
      ],
      "execution_count": 71,
      "outputs": [
        {
          "output_type": "stream",
          "text": [
            "* R2 del modelo  en train: 0.8310060784626451\n",
            "RMSE en train: 0.2831734804673766\n",
            "* R2 del modelo en test: 0.832264172337082\n",
            "RMSE en test: 0.2799879086477752\n"
          ],
          "name": "stdout"
        }
      ]
    },
    {
      "cell_type": "markdown",
      "metadata": {
        "id": "1GOfonFGKEQW"
      },
      "source": [
        "#Voting"
      ]
    },
    {
      "cell_type": "code",
      "metadata": {
        "id": "YQHnosijJKr5"
      },
      "source": [
        "from sklearn.ensemble import VotingRegressor\n",
        "\n",
        "\n",
        "vote_mod = VotingRegressor([('Ridge', ridge), ('RandomForestRegressor', regg), ('Elastic', elas), \n",
        "                            ('ExtraTreesRegressor', tree_reg)])"
      ],
      "execution_count": 73,
      "outputs": []
    },
    {
      "cell_type": "code",
      "metadata": {
        "colab": {
          "base_uri": "https://localhost:8080/"
        },
        "id": "M41XWuTNJKlR",
        "outputId": "3d0226ee-8079-4a17-e4cf-ee9135bdbe9e"
      },
      "source": [
        "evaluar_modelo(vote_mod, X_train, X_test, y_train, y_test)"
      ],
      "execution_count": 74,
      "outputs": [
        {
          "output_type": "stream",
          "text": [
            "* R2 del modelo  en train: 0.9364328372231856\n",
            "RMSE en train: 0.1736734576258764\n",
            "* R2 del modelo en test: 0.8753952599070299\n",
            "RMSE en test: 0.24132017993120947\n"
          ],
          "name": "stdout"
        }
      ]
    },
    {
      "cell_type": "code",
      "metadata": {
        "id": "z9FN5M4xKpGY"
      },
      "source": [
        "from mlxtend.regressor import StackingRegressor"
      ],
      "execution_count": 75,
      "outputs": []
    },
    {
      "cell_type": "code",
      "metadata": {
        "id": "EY-pbdvSLB_4"
      },
      "source": [
        "stregr = StackingRegressor(regressors=[xg_reg,vote_mod, tree_reg, regg], \n",
        "                           meta_regressor=clf, use_features_in_secondary=True\n",
        "                          )"
      ],
      "execution_count": 76,
      "outputs": []
    },
    {
      "cell_type": "code",
      "metadata": {
        "colab": {
          "base_uri": "https://localhost:8080/"
        },
        "id": "toes6mImLB5q",
        "outputId": "62fe3b41-0e85-4f3c-f049-ab7ff5082d81"
      },
      "source": [
        "evaluar_modelo(stregr, X_train, X_test, y_train, y_test)"
      ],
      "execution_count": 77,
      "outputs": [
        {
          "output_type": "stream",
          "text": [
            "[00:52:06] WARNING: /workspace/src/objective/regression_obj.cu:152: reg:linear is now deprecated in favor of reg:squarederror.\n",
            "* R2 del modelo  en train: 0.9812466710858812\n",
            "RMSE en train: 0.09433138743535179\n",
            "* R2 del modelo en test: 0.8633244846899799\n",
            "RMSE en test: 0.25273868331702365\n"
          ],
          "name": "stdout"
        }
      ]
    },
    {
      "cell_type": "markdown",
      "metadata": {
        "id": "0RDcxm7Ks28k"
      },
      "source": [
        "https://github.com/Shreyas3108/house-price-prediction/blob/master/housesales.ipynb"
      ]
    },
    {
      "cell_type": "markdown",
      "metadata": {
        "id": "JWZj-6Ver4OS"
      },
      "source": [
        "# Red neuronal"
      ]
    },
    {
      "cell_type": "markdown",
      "metadata": {
        "id": "MAfFWpPT8v1J"
      },
      "source": [
        "https://scikit-learn.org/stable/modules/classes.html#module-sklearn.neural_network"
      ]
    },
    {
      "cell_type": "code",
      "metadata": {
        "id": "kN7OyiOAw4aE"
      },
      "source": [
        "from sklearn.neural_network import MLPRegressor"
      ],
      "execution_count": null,
      "outputs": []
    },
    {
      "cell_type": "code",
      "metadata": {
        "id": "SGRejaUTw4V-"
      },
      "source": [
        "mlpr = MLPRegressor(\n",
        "    solver='adam',\n",
        "    alpha=1e-5,\n",
        "    hidden_layer_sizes=(3,3),\n",
        "    random_state=40)"
      ],
      "execution_count": null,
      "outputs": []
    },
    {
      "cell_type": "code",
      "metadata": {
        "colab": {
          "base_uri": "https://localhost:8080/"
        },
        "id": "o3aHC8gYw4Qw",
        "outputId": "d5e31791-b4bf-4423-b854-7bd687ec356d"
      },
      "source": [
        "mlpr.fit(X_train, y_train)"
      ],
      "execution_count": null,
      "outputs": [
        {
          "output_type": "execute_result",
          "data": {
            "text/plain": [
              "MLPRegressor(activation='relu', alpha=1e-05, batch_size='auto', beta_1=0.9,\n",
              "             beta_2=0.999, early_stopping=False, epsilon=1e-08,\n",
              "             hidden_layer_sizes=(3, 3), learning_rate='constant',\n",
              "             learning_rate_init=0.001, max_fun=15000, max_iter=200,\n",
              "             momentum=0.9, n_iter_no_change=10, nesterovs_momentum=True,\n",
              "             power_t=0.5, random_state=40, shuffle=True, solver='adam',\n",
              "             tol=0.0001, validation_fraction=0.1, verbose=False,\n",
              "             warm_start=False)"
            ]
          },
          "metadata": {
            "tags": []
          },
          "execution_count": 83
        }
      ]
    },
    {
      "cell_type": "code",
      "metadata": {
        "colab": {
          "base_uri": "https://localhost:8080/"
        },
        "id": "tlYypi6xyZds",
        "outputId": "f1858abc-c389-4c32-b582-29a95fe61613"
      },
      "source": [
        "mlpr.score(X_train, y_train)"
      ],
      "execution_count": null,
      "outputs": [
        {
          "output_type": "execute_result",
          "data": {
            "text/plain": [
              "0.862187911506027"
            ]
          },
          "metadata": {
            "tags": []
          },
          "execution_count": 108
        }
      ]
    },
    {
      "cell_type": "code",
      "metadata": {
        "colab": {
          "base_uri": "https://localhost:8080/"
        },
        "id": "eUGFRlqkyc5H",
        "outputId": "4e85a3c7-0302-4568-e8b7-88dc47c3068d"
      },
      "source": [
        "mlpr.score(X_test, y_test)"
      ],
      "execution_count": null,
      "outputs": [
        {
          "output_type": "execute_result",
          "data": {
            "text/plain": [
              "0.8579904375350935"
            ]
          },
          "metadata": {
            "tags": []
          },
          "execution_count": 109
        }
      ]
    },
    {
      "cell_type": "code",
      "metadata": {
        "colab": {
          "base_uri": "https://localhost:8080/"
        },
        "id": "C2LkTSROVVuP",
        "outputId": "20ff365a-783a-4235-ab29-4b3e737cb9b4"
      },
      "source": [
        "evaluar_modelo(mlpr, X_train, X_test, y_train, y_test)"
      ],
      "execution_count": null,
      "outputs": [
        {
          "output_type": "stream",
          "text": [
            "R2 del modelo  en train: 0.862187911506027\n",
            "RMSE en train: 0.2557176436594812\n",
            "R2 del modelo en test: 0.8579904375350935\n",
            "RMSE en test: 0.2576233085009852\n"
          ],
          "name": "stdout"
        }
      ]
    },
    {
      "cell_type": "code",
      "metadata": {
        "colab": {
          "base_uri": "https://localhost:8080/"
        },
        "id": "VCYp1LSST23g",
        "outputId": "8a4bd40a-8227-4b53-a6cf-e3f0bc62d116"
      },
      "source": [
        "#Tomo una muestra de mis datos en Test\n",
        "idxs = np.random.randint(X_test.shape[0], size=10)\n",
        "idxs"
      ],
      "execution_count": null,
      "outputs": [
        {
          "output_type": "execute_result",
          "data": {
            "text/plain": [
              "array([3186, 7621, 4466, 1150, 2495, 9540, 8595, 1856, 6865, 3728])"
            ]
          },
          "metadata": {
            "tags": []
          },
          "execution_count": 103
        }
      ]
    },
    {
      "cell_type": "code",
      "metadata": {
        "colab": {
          "base_uri": "https://localhost:8080/"
        },
        "id": "bjjmpKmYT6rL",
        "outputId": "3d3bc5f2-d926-4237-be5a-6a69523c2998"
      },
      "source": [
        "muestra = X_test.iloc[idxs]\n",
        "prediccion = model.predict(muestra)\n",
        "prediccion"
      ],
      "execution_count": null,
      "outputs": [
        {
          "output_type": "execute_result",
          "data": {
            "text/plain": [
              "array([[12.364413],\n",
              "       [12.187061],\n",
              "       [12.240018],\n",
              "       [12.017933],\n",
              "       [11.632652],\n",
              "       [12.170994],\n",
              "       [11.217239],\n",
              "       [11.337101],\n",
              "       [12.058702],\n",
              "       [13.019316]], dtype=float32)"
            ]
          },
          "metadata": {
            "tags": []
          },
          "execution_count": 104
        }
      ]
    },
    {
      "cell_type": "code",
      "metadata": {
        "id": "wb41MI4XUAuF"
      },
      "source": [
        "valor_data = []\n",
        "for i in idxs:\n",
        "    valor_real = y_test.price.iloc[i]\n",
        "    valor_data.append(valor_real)"
      ],
      "execution_count": null,
      "outputs": []
    },
    {
      "cell_type": "code",
      "metadata": {
        "colab": {
          "base_uri": "https://localhost:8080/",
          "height": 359
        },
        "id": "0YfLkZU2UAmC",
        "outputId": "7e58ef6d-8188-44e0-cb5b-b2fc2453bf2b"
      },
      "source": [
        "valor_data = pd.DataFrame((valor_data), columns = ['valor_real'])\n",
        "prediccion = pd.DataFrame((prediccion), columns = ['valor_predicho'])\n",
        "comparacion = pd.merge(valor_data, prediccion, right_index=True, left_index=True)\n",
        "comparacion"
      ],
      "execution_count": null,
      "outputs": [
        {
          "output_type": "execute_result",
          "data": {
            "text/html": [
              "<div>\n",
              "<style scoped>\n",
              "    .dataframe tbody tr th:only-of-type {\n",
              "        vertical-align: middle;\n",
              "    }\n",
              "\n",
              "    .dataframe tbody tr th {\n",
              "        vertical-align: top;\n",
              "    }\n",
              "\n",
              "    .dataframe thead th {\n",
              "        text-align: right;\n",
              "    }\n",
              "</style>\n",
              "<table border=\"1\" class=\"dataframe\">\n",
              "  <thead>\n",
              "    <tr style=\"text-align: right;\">\n",
              "      <th></th>\n",
              "      <th>valor_real</th>\n",
              "      <th>valor_predicho</th>\n",
              "    </tr>\n",
              "  </thead>\n",
              "  <tbody>\n",
              "    <tr>\n",
              "      <th>0</th>\n",
              "      <td>12.267638</td>\n",
              "      <td>12.364413</td>\n",
              "    </tr>\n",
              "    <tr>\n",
              "      <th>1</th>\n",
              "      <td>12.206073</td>\n",
              "      <td>12.187061</td>\n",
              "    </tr>\n",
              "    <tr>\n",
              "      <th>2</th>\n",
              "      <td>12.154779</td>\n",
              "      <td>12.240018</td>\n",
              "    </tr>\n",
              "    <tr>\n",
              "      <th>3</th>\n",
              "      <td>11.813030</td>\n",
              "      <td>12.017933</td>\n",
              "    </tr>\n",
              "    <tr>\n",
              "      <th>4</th>\n",
              "      <td>11.561716</td>\n",
              "      <td>11.632652</td>\n",
              "    </tr>\n",
              "    <tr>\n",
              "      <th>5</th>\n",
              "      <td>11.835009</td>\n",
              "      <td>12.170994</td>\n",
              "    </tr>\n",
              "    <tr>\n",
              "      <th>6</th>\n",
              "      <td>11.461632</td>\n",
              "      <td>11.217239</td>\n",
              "    </tr>\n",
              "    <tr>\n",
              "      <th>7</th>\n",
              "      <td>11.154821</td>\n",
              "      <td>11.337101</td>\n",
              "    </tr>\n",
              "    <tr>\n",
              "      <th>8</th>\n",
              "      <td>12.203570</td>\n",
              "      <td>12.058702</td>\n",
              "    </tr>\n",
              "    <tr>\n",
              "      <th>9</th>\n",
              "      <td>12.994530</td>\n",
              "      <td>13.019316</td>\n",
              "    </tr>\n",
              "  </tbody>\n",
              "</table>\n",
              "</div>"
            ],
            "text/plain": [
              "   valor_real  valor_predicho\n",
              "0   12.267638       12.364413\n",
              "1   12.206073       12.187061\n",
              "2   12.154779       12.240018\n",
              "3   11.813030       12.017933\n",
              "4   11.561716       11.632652\n",
              "5   11.835009       12.170994\n",
              "6   11.461632       11.217239\n",
              "7   11.154821       11.337101\n",
              "8   12.203570       12.058702\n",
              "9   12.994530       13.019316"
            ]
          },
          "metadata": {
            "tags": []
          },
          "execution_count": 106
        }
      ]
    },
    {
      "cell_type": "code",
      "metadata": {
        "colab": {
          "base_uri": "https://localhost:8080/",
          "height": 312
        },
        "id": "rE5hZFg8UZ_x",
        "outputId": "a39d6f99-4c7d-45d0-d574-0965d6bc529b"
      },
      "source": [
        "r = comparacion['valor_real']\n",
        "p = comparacion['valor_predicho']\n",
        "plt.figure(figsize=(15,4))\n",
        "plt.plot(r,'o-',label='Valores reales')\n",
        "plt.plot(p,'o-',label='Valores predichos')\n",
        "plt.legend()\n",
        "plt.title('Comparacion de valores de propiedad')\n",
        "plt.xlabel('Muestra')\n",
        "plt.ylabel('Precio')"
      ],
      "execution_count": null,
      "outputs": [
        {
          "output_type": "execute_result",
          "data": {
            "text/plain": [
              "Text(0, 0.5, 'Precio')"
            ]
          },
          "metadata": {
            "tags": []
          },
          "execution_count": 107
        },
        {
          "output_type": "display_data",
          "data": {
            "image/png": "[encoded data removed]",
            "text/plain": [
              "<Figure size 1080x288 with 1 Axes>"
            ]
          },
          "metadata": {
            "tags": [],
            "needs_background": "light"
          }
        }
      ]
    },
    {
      "cell_type": "markdown",
      "metadata": {
        "id": "tg3x6N2R_omF"
      },
      "source": [
        "##Keras"
      ]
    },
    {
      "cell_type": "markdown",
      "metadata": {
        "id": "7mDeoq6zE4i3"
      },
      "source": [
        "https://towardsdatascience.com/deep-neural-networks-for-regression-problems-81321897ca33"
      ]
    },
    {
      "cell_type": "code",
      "metadata": {
        "id": "ZZFHWHBHADwF"
      },
      "source": [
        "pip install Keras"
      ],
      "execution_count": null,
      "outputs": []
    },
    {
      "cell_type": "code",
      "metadata": {
        "id": "HQDkPLB1_9jt"
      },
      "source": [
        "import tensorflow as tf\n",
        "\n",
        "from keras.models import Sequential\n",
        "from keras.layers import Dense\n",
        "from keras.optimizers import Adam\n",
        "from keras.callbacks import EarlyStopping"
      ],
      "execution_count": null,
      "outputs": []
    },
    {
      "cell_type": "code",
      "metadata": {
        "colab": {
          "base_uri": "https://localhost:8080/"
        },
        "id": "RUP-5EBqJPIn",
        "outputId": "007f5efe-4d49-4046-a198-30e4cf1b6a7a"
      },
      "source": [
        "import tensorflow as tf\n",
        "\n",
        "from tensorflow import keras\n",
        "from tensorflow.keras import layers\n",
        "\n",
        "print(tf.__version__)"
      ],
      "execution_count": null,
      "outputs": [
        {
          "output_type": "stream",
          "text": [
            "2.4.0\n"
          ],
          "name": "stdout"
        }
      ]
    },
    {
      "cell_type": "code",
      "metadata": {
        "id": "KpOl4upnHTGq"
      },
      "source": [
        "def build_model():\n",
        "  model = keras.Sequential([\n",
        "    layers.Dense(64, activation='relu', input_shape=[len(X_train.keys())]),\n",
        "    layers.Dense(64, activation='relu'),\n",
        "    layers.Dense(1)\n",
        "  ])\n",
        "\n",
        "  optimizer = tf.keras.optimizers.RMSprop(0.001)\n",
        "\n",
        "  model.compile(loss='mse',\n",
        "                optimizer=optimizer,\n",
        "                metrics=['mae', 'mse'])\n",
        "  return model"
      ],
      "execution_count": null,
      "outputs": []
    },
    {
      "cell_type": "code",
      "metadata": {
        "id": "Wl9G0VG0OpzY"
      },
      "source": [
        "model = build_model()"
      ],
      "execution_count": null,
      "outputs": []
    },
    {
      "cell_type": "code",
      "metadata": {
        "colab": {
          "base_uri": "https://localhost:8080/"
        },
        "id": "9sOd4H58Opnw",
        "outputId": "9ce3fc51-375a-4bad-d9b9-8daad6e2136e"
      },
      "source": [
        "model.summary()"
      ],
      "execution_count": null,
      "outputs": [
        {
          "output_type": "stream",
          "text": [
            "Model: \"sequential\"\n",
            "_________________________________________________________________\n",
            "Layer (type)                 Output Shape              Param #   \n",
            "=================================================================\n",
            "dense (Dense)                (None, 64)                4672      \n",
            "_________________________________________________________________\n",
            "dense_1 (Dense)              (None, 64)                4160      \n",
            "_________________________________________________________________\n",
            "dense_2 (Dense)              (None, 1)                 65        \n",
            "=================================================================\n",
            "Total params: 8,897\n",
            "Trainable params: 8,897\n",
            "Non-trainable params: 0\n",
            "_________________________________________________________________\n"
          ],
          "name": "stdout"
        }
      ]
    },
    {
      "cell_type": "code",
      "metadata": {
        "colab": {
          "base_uri": "https://localhost:8080/"
        },
        "id": "gPi7mMBmOpdq",
        "outputId": "f383e789-3f71-401c-9c99-0158303b697d"
      },
      "source": [
        "example_batch = X_train[:10]\n",
        "example_result = model.predict(example_batch)\n",
        "example_result"
      ],
      "execution_count": null,
      "outputs": [
        {
          "output_type": "execute_result",
          "data": {
            "text/plain": [
              "array([[ 0.01592389],\n",
              "       [ 0.15945604],\n",
              "       [ 0.18633921],\n",
              "       [ 0.12339719],\n",
              "       [ 0.04706358],\n",
              "       [-0.00436921],\n",
              "       [-0.03465565],\n",
              "       [ 0.1115123 ],\n",
              "       [ 0.06944402],\n",
              "       [ 0.27552816]], dtype=float32)"
            ]
          },
          "metadata": {
            "tags": []
          },
          "execution_count": 54
        }
      ]
    },
    {
      "cell_type": "code",
      "metadata": {
        "colab": {
          "base_uri": "https://localhost:8080/"
        },
        "id": "Kx4Qm1-lPNeB",
        "outputId": "67870f77-39fc-4bbe-8f64-28144797d93e"
      },
      "source": [
        "class PrintDot(keras.callbacks.Callback):\n",
        "  def on_epoch_end(self, epoch, logs):\n",
        "    if epoch % 100 == 0: print('')\n",
        "    print('.', end='')\n",
        "\n",
        "EPOCHS = 100\n",
        "\n",
        "history = model.fit(\n",
        "  X_train, y_train,\n",
        "  epochs=EPOCHS, validation_split = 0.2, verbose=0,\n",
        "  callbacks=[PrintDot()])"
      ],
      "execution_count": null,
      "outputs": [
        {
          "output_type": "stream",
          "text": [
            "\n",
            "...................................................................................................."
          ],
          "name": "stdout"
        }
      ]
    },
    {
      "cell_type": "code",
      "metadata": {
        "colab": {
          "base_uri": "https://localhost:8080/"
        },
        "id": "tDnV1g0cPNUx",
        "outputId": "9c5eda88-458c-4545-ad54-fffedf1a1022"
      },
      "source": [
        "loss, mae, mse = model.evaluate(X_test, y_test, verbose=2)\n",
        "\n",
        "print(\"Testing set Mean Abs Error: {:5.2f} MPG\".format(mae))"
      ],
      "execution_count": null,
      "outputs": [
        {
          "output_type": "stream",
          "text": [
            "374/374 - 0s - loss: 0.0679 - mae: 0.1911 - mse: 0.0679\n",
            "Testing set Mean Abs Error:  0.19 MPG\n"
          ],
          "name": "stdout"
        }
      ]
    },
    {
      "cell_type": "code",
      "metadata": {
        "colab": {
          "base_uri": "https://localhost:8080/",
          "height": 279
        },
        "id": "36ugBb2bSa6W",
        "outputId": "99ec24a9-9590-475d-af48-4c87f2435bac"
      },
      "source": [
        "test_predictions = model.predict(X_test).flatten()\n",
        "\n",
        "plt.scatter(y_test, test_predictions)\n",
        "plt.xlabel('True Values [MPG]')\n",
        "plt.ylabel('Predictions [MPG]')\n",
        "plt.axis('equal')\n",
        "plt.axis('square')\n",
        "plt.xlim([0,plt.xlim()[1]])\n",
        "plt.ylim([0,plt.ylim()[1]])\n",
        "_ = plt.plot([-100, 100], [-100, 100])"
      ],
      "execution_count": null,
      "outputs": [
        {
          "output_type": "display_data",
          "data": {
            "image/png": "[encoded data removed]",
            "text/plain": [
              "<Figure size 432x288 with 1 Axes>"
            ]
          },
          "metadata": {
            "tags": [],
            "needs_background": "light"
          }
        }
      ]
    },
    {
      "cell_type": "code",
      "metadata": {
        "id": "xaD6XIH2Sllv"
      },
      "source": [
        "p = model.predict(X_test[0:10])\n",
        "r = y_test[0:10]"
      ],
      "execution_count": null,
      "outputs": []
    },
    {
      "cell_type": "code",
      "metadata": {
        "colab": {
          "base_uri": "https://localhost:8080/",
          "height": 312
        },
        "id": "srkevCFjTm9p",
        "outputId": "48105e0a-7777-4f8f-ad84-20283bb93b16"
      },
      "source": [
        "plt.figure(figsize=(15,4))\n",
        "plt.plot(r,'o-',label='Valores reales')\n",
        "plt.plot(p,'o-',label='Valores predichos')\n",
        "plt.legend()\n",
        "plt.title('Comparacion de valores de propiedad')\n",
        "plt.xlabel('Muestra')\n",
        "plt.ylabel('Precio')"
      ],
      "execution_count": null,
      "outputs": [
        {
          "output_type": "execute_result",
          "data": {
            "text/plain": [
              "Text(0, 0.5, 'Precio')"
            ]
          },
          "metadata": {
            "tags": []
          },
          "execution_count": 71
        },
        {
          "output_type": "display_data",
          "data": {
            "image/png": "[encoded data removed]",
            "text/plain": [
              "<Figure size 1080x288 with 1 Axes>"
            ]
          },
          "metadata": {
            "tags": [],
            "needs_background": "light"
          }
        }
      ]
    },
    {
      "cell_type": "markdown",
      "metadata": {
        "id": "sTyWgutQiF4n"
      },
      "source": [
        "#Keras"
      ]
    },
    {
      "cell_type": "markdown",
      "metadata": {
        "id": "HQi2XqWhiJxy"
      },
      "source": [
        "https://github.com/jeffheaton/t81_558_deep_learning/blob/master/t81_558_class_05_3_keras_l1_l2.ipynb"
      ]
    },
    {
      "cell_type": "code",
      "metadata": {
        "colab": {
          "base_uri": "https://localhost:8080/"
        },
        "id": "pC78teXIiLDF",
        "outputId": "6f1b82eb-4d92-41fa-f0e8-a7d8932c6100"
      },
      "source": [
        "try:\n",
        "    %tensorflow_version 2.x\n",
        "    COLAB = True\n",
        "    print(\"Note: using Google CoLab\")\n",
        "except:\n",
        "    print(\"Note: not using Google CoLab\")\n",
        "    COLAB = False\n"
      ],
      "execution_count": 58,
      "outputs": [
        {
          "output_type": "stream",
          "text": [
            "Note: using Google CoLab\n"
          ],
          "name": "stdout"
        }
      ]
    },
    {
      "cell_type": "code",
      "metadata": {
        "id": "Y4Dg6ZUjiK-Z"
      },
      "source": [
        "from sklearn import  metrics\n",
        "from scipy.stats import zscore\n",
        "import tensorflow as tf\n",
        "from keras.models import Sequential\n",
        "from keras.layers.core import Dense, Activation\n",
        "from keras.callbacks import EarlyStopping"
      ],
      "execution_count": 71,
      "outputs": []
    },
    {
      "cell_type": "code",
      "metadata": {
        "id": "pxO0VCSXk06y"
      },
      "source": [
        "import tensorflow as tf"
      ],
      "execution_count": 70,
      "outputs": []
    },
    {
      "cell_type": "code",
      "metadata": {
        "id": "CLUNra99mv8f"
      },
      "source": [
        "x_train1= X_train.values.tolist()\n",
        "y_train1 = y_train.values.tolist()"
      ],
      "execution_count": 159,
      "outputs": []
    },
    {
      "cell_type": "code",
      "metadata": {
        "id": "rrtp5Cg3nEAr"
      },
      "source": [
        "x_test1 = X_test.values.tolist()\n",
        "y_test1 = y_test.values.tolist()"
      ],
      "execution_count": 160,
      "outputs": []
    },
    {
      "cell_type": "code",
      "metadata": {
        "colab": {
          "base_uri": "https://localhost:8080/"
        },
        "id": "8RB46NT8nUWJ",
        "outputId": "a6b62ac3-2040-458d-a84a-17fa18b16adc"
      },
      "source": [
        "model = Sequential()\n",
        "model.add(Dense(10, input_dim=72, activation='relu'))\n",
        "model.add(Dense(1, kernel_initializer='normal'))\n",
        "model.compile(loss='mean_squared_error', optimizer='adam')\n",
        "\n",
        "model.fit(x_train1, y_train1,verbose=2,epochs=100)"
      ],
      "execution_count": 135,
      "outputs": [
        {
          "output_type": "stream",
          "text": [
            "1120/1120 - 1s - loss: 0.0634\n",
            "Epoch 92/100\n",
            "1120/1120 - 1s - loss: 0.0635\n",
            "Epoch 93/100\n",
            "1120/1120 - 1s - loss: 0.0632\n",
            "Epoch 94/100\n",
            "1120/1120 - 1s - loss: 0.0635\n",
            "Epoch 95/100\n",
            "1120/1120 - 1s - loss: 0.0632\n",
            "Epoch 96/100\n",
            "1120/1120 - 1s - loss: 0.0636\n",
            "Epoch 97/100\n",
            "1120/1120 - 1s - loss: 0.0635\n",
            "Epoch 98/100\n",
            "1120/1120 - 1s - loss: 0.0633\n",
            "Epoch 99/100\n",
            "1120/1120 - 1s - loss: 0.0636\n",
            "Epoch 100/100\n",
            "1120/1120 - 1s - loss: 0.0638\n"
          ],
          "name": "stdout"
        },
        {
          "output_type": "execute_result",
          "data": {
            "text/plain": [
              "<tensorflow.python.keras.callbacks.History at 0x7f56721b73c8>"
            ]
          },
          "metadata": {
            "tags": []
          },
          "execution_count": 135
        }
      ]
    },
    {
      "cell_type": "code",
      "metadata": {
        "colab": {
          "base_uri": "https://localhost:8080/"
        },
        "id": "pW2bs3s5nUR0",
        "outputId": "e2073175-6ea6-4258-c00e-fdd539241b47"
      },
      "source": [
        "#Tomo una muestra de mis datos en Test\n",
        "idxs = np.random.randint(X_test.shape[0], size=10)\n",
        "idxs"
      ],
      "execution_count": 136,
      "outputs": [
        {
          "output_type": "execute_result",
          "data": {
            "text/plain": [
              "array([ 6494,  7171, 11809, 11546,  7062,  5263,  4901,  2840,  6070,\n",
              "        2774])"
            ]
          },
          "metadata": {
            "tags": []
          },
          "execution_count": 136
        }
      ]
    },
    {
      "cell_type": "code",
      "metadata": {
        "colab": {
          "base_uri": "https://localhost:8080/"
        },
        "id": "vWE0lZCYnUNt",
        "outputId": "a0694c53-e779-4e3d-cba2-e8160508e3e0"
      },
      "source": [
        "muestra = X_test.iloc[idxs]\n",
        "prediccion = model.predict(muestra)\n",
        "prediccion"
      ],
      "execution_count": 137,
      "outputs": [
        {
          "output_type": "execute_result",
          "data": {
            "text/plain": [
              "array([[12.15575 ],\n",
              "       [13.110488],\n",
              "       [11.921478],\n",
              "       [12.118207],\n",
              "       [11.420511],\n",
              "       [11.931536],\n",
              "       [12.476576],\n",
              "       [12.40542 ],\n",
              "       [13.346796],\n",
              "       [11.956136]], dtype=float32)"
            ]
          },
          "metadata": {
            "tags": []
          },
          "execution_count": 137
        }
      ]
    },
    {
      "cell_type": "code",
      "metadata": {
        "id": "ZGyfUuZbq6vb"
      },
      "source": [
        "valor_data = []\n",
        "for i in idxs:\n",
        "    valor_real = y_test.price.iloc[i]\n",
        "    valor_data.append(valor_real)"
      ],
      "execution_count": 138,
      "outputs": []
    },
    {
      "cell_type": "code",
      "metadata": {
        "colab": {
          "base_uri": "https://localhost:8080/",
          "height": 359
        },
        "id": "SW6o0s6kq6rH",
        "outputId": "6fc6bad1-c986-4bfb-bfdf-27072de4ed83"
      },
      "source": [
        "valor_data = pd.DataFrame((valor_data), columns = ['valor_real'])\n",
        "prediccion = pd.DataFrame((prediccion), columns = ['valor_predicho'])\n",
        "comparacion = pd.merge(valor_data, prediccion, right_index=True, left_index=True)\n",
        "comparacion"
      ],
      "execution_count": 139,
      "outputs": [
        {
          "output_type": "execute_result",
          "data": {
            "text/html": [
              "<div>\n",
              "<style scoped>\n",
              "    .dataframe tbody tr th:only-of-type {\n",
              "        vertical-align: middle;\n",
              "    }\n",
              "\n",
              "    .dataframe tbody tr th {\n",
              "        vertical-align: top;\n",
              "    }\n",
              "\n",
              "    .dataframe thead th {\n",
              "        text-align: right;\n",
              "    }\n",
              "</style>\n",
              "<table border=\"1\" class=\"dataframe\">\n",
              "  <thead>\n",
              "    <tr style=\"text-align: right;\">\n",
              "      <th></th>\n",
              "      <th>valor_real</th>\n",
              "      <th>valor_predicho</th>\n",
              "    </tr>\n",
              "  </thead>\n",
              "  <tbody>\n",
              "    <tr>\n",
              "      <th>0</th>\n",
              "      <td>12.409013</td>\n",
              "      <td>12.155750</td>\n",
              "    </tr>\n",
              "    <tr>\n",
              "      <th>1</th>\n",
              "      <td>13.171154</td>\n",
              "      <td>13.110488</td>\n",
              "    </tr>\n",
              "    <tr>\n",
              "      <th>2</th>\n",
              "      <td>12.095141</td>\n",
              "      <td>11.921478</td>\n",
              "    </tr>\n",
              "    <tr>\n",
              "      <th>3</th>\n",
              "      <td>12.099600</td>\n",
              "      <td>12.118207</td>\n",
              "    </tr>\n",
              "    <tr>\n",
              "      <th>4</th>\n",
              "      <td>10.985293</td>\n",
              "      <td>11.420511</td>\n",
              "    </tr>\n",
              "    <tr>\n",
              "      <th>5</th>\n",
              "      <td>12.230765</td>\n",
              "      <td>11.931536</td>\n",
              "    </tr>\n",
              "    <tr>\n",
              "      <th>6</th>\n",
              "      <td>12.409013</td>\n",
              "      <td>12.476576</td>\n",
              "    </tr>\n",
              "    <tr>\n",
              "      <th>7</th>\n",
              "      <td>12.560244</td>\n",
              "      <td>12.405420</td>\n",
              "    </tr>\n",
              "    <tr>\n",
              "      <th>8</th>\n",
              "      <td>13.392391</td>\n",
              "      <td>13.346796</td>\n",
              "    </tr>\n",
              "    <tr>\n",
              "      <th>9</th>\n",
              "      <td>12.468437</td>\n",
              "      <td>11.956136</td>\n",
              "    </tr>\n",
              "  </tbody>\n",
              "</table>\n",
              "</div>"
            ],
            "text/plain": [
              "   valor_real  valor_predicho\n",
              "0   12.409013       12.155750\n",
              "1   13.171154       13.110488\n",
              "2   12.095141       11.921478\n",
              "3   12.099600       12.118207\n",
              "4   10.985293       11.420511\n",
              "5   12.230765       11.931536\n",
              "6   12.409013       12.476576\n",
              "7   12.560244       12.405420\n",
              "8   13.392391       13.346796\n",
              "9   12.468437       11.956136"
            ]
          },
          "metadata": {
            "tags": []
          },
          "execution_count": 139
        }
      ]
    },
    {
      "cell_type": "code",
      "metadata": {
        "colab": {
          "base_uri": "https://localhost:8080/",
          "height": 312
        },
        "id": "Vj1_vMmfq6m5",
        "outputId": "7bb6c882-396e-4830-fe80-d0d13a39f00a"
      },
      "source": [
        "r = comparacion['valor_real']\n",
        "p = comparacion['valor_predicho']\n",
        "plt.figure(figsize=(15,4))\n",
        "plt.plot(r,'o-',label='Valores reales')\n",
        "plt.plot(p,'o-',label='Valores predichos')\n",
        "plt.legend()\n",
        "plt.title('Comparacion de valores de propiedad')\n",
        "plt.xlabel('Muestra')\n",
        "plt.ylabel('Precio')"
      ],
      "execution_count": 140,
      "outputs": [
        {
          "output_type": "execute_result",
          "data": {
            "text/plain": [
              "Text(0, 0.5, 'Precio')"
            ]
          },
          "metadata": {
            "tags": []
          },
          "execution_count": 140
        },
        {
          "output_type": "display_data",
          "data": {
            "image/png": "[encoded data removed]",
            "text/plain": [
              "<Figure size 1080x288 with 1 Axes>"
            ]
          },
          "metadata": {
            "tags": [],
            "needs_background": "light"
          }
        }
      ]
    },
    {
      "cell_type": "code",
      "metadata": {
        "colab": {
          "base_uri": "https://localhost:8080/"
        },
        "id": "Nr8FccoprDLn",
        "outputId": "e1669008-aed5-459b-a12b-6cc255bb0fb9"
      },
      "source": [
        "pred = model.predict(x_test1)\n",
        "\n",
        "# Measure RMSE error.  RMSE is common for regression.\n",
        "score = np.sqrt(metrics.mean_squared_error(pred,y_test1))\n",
        "print(\"Final score (RMSE): {}\".format(score))"
      ],
      "execution_count": 141,
      "outputs": [
        {
          "output_type": "stream",
          "text": [
            "Final score (RMSE): 0.25149762745175397\n"
          ],
          "name": "stdout"
        }
      ]
    },
    {
      "cell_type": "code",
      "metadata": {
        "id": "Y6kY5kuzv4Eh"
      },
      "source": [
        "from sklearn import datasets, linear_model\n",
        "from sklearn.model_selection import cross_val_score, KFold\n",
        "from keras.models import Sequential\n",
        "from sklearn.metrics import accuracy_score\n",
        "from keras.layers import Dense\n",
        "from keras.wrappers.scikit_learn import KerasRegressor"
      ],
      "execution_count": 161,
      "outputs": []
    },
    {
      "cell_type": "code",
      "metadata": {
        "id": "ub7GXRQjwPUf"
      },
      "source": [
        "def baseline_model():\n",
        "    model = Sequential()\n",
        "    model.add(Dense(10, input_dim=10, activation='relu'))\n",
        "    model.add(Dense(1))\n",
        "    model.compile(loss='mean_squared_error', optimizer='adam')\n",
        "    return model"
      ],
      "execution_count": 163,
      "outputs": []
    },
    {
      "cell_type": "code",
      "metadata": {
        "colab": {
          "base_uri": "https://localhost:8080/",
          "height": 765
        },
        "id": "_PjVEBD7v4AY",
        "outputId": "2d9731fb-269b-47a2-c0e3-235e112bf5d1"
      },
      "source": [
        "estimator = KerasRegressor(build_fn=baseline_model, nb_epoch=100, batch_size=100, verbose=False)\n",
        "kfold = KFold(n_splits=10, random_state=40)\n",
        "results = cross_val_score(estimator, x_train, y_train1, cv=kfold)\n",
        "print(\"Results: %.2f (%.2f) MSE\" % (results.mean(), results.std()))\n",
        "\n",
        "estimator.fit(x_train1, y_train1)\n",
        "prediction = estimator.predict(x_test1)\n",
        "accuracy_score(y_test1, prediction)"
      ],
      "execution_count": 165,
      "outputs": [
        {
          "output_type": "stream",
          "text": [
            "Results: nan (nan) MSE\n"
          ],
          "name": "stdout"
        },
        {
          "output_type": "error",
          "ename": "ValueError",
          "evalue": "ignored",
          "traceback": [
            "\u001b[0;31m---------------------------------------------------------------------------\u001b[0m",
            "\u001b[0;31mValueError\u001b[0m                                Traceback (most recent call last)",
            "\u001b[0;32m<ipython-input-165-313d318daaf2>\u001b[0m in \u001b[0;36m<module>\u001b[0;34m()\u001b[0m\n\u001b[1;32m      4\u001b[0m \u001b[0mprint\u001b[0m\u001b[0;34m(\u001b[0m\u001b[0;34m\"Results: %.2f (%.2f) MSE\"\u001b[0m \u001b[0;34m%\u001b[0m \u001b[0;34m(\u001b[0m\u001b[0mresults\u001b[0m\u001b[0;34m.\u001b[0m\u001b[0mmean\u001b[0m\u001b[0;34m(\u001b[0m\u001b[0;34m)\u001b[0m\u001b[0;34m,\u001b[0m \u001b[0mresults\u001b[0m\u001b[0;34m.\u001b[0m\u001b[0mstd\u001b[0m\u001b[0;34m(\u001b[0m\u001b[0;34m)\u001b[0m\u001b[0;34m)\u001b[0m\u001b[0;34m)\u001b[0m\u001b[0;34m\u001b[0m\u001b[0;34m\u001b[0m\u001b[0m\n\u001b[1;32m      5\u001b[0m \u001b[0;34m\u001b[0m\u001b[0m\n\u001b[0;32m----> 6\u001b[0;31m \u001b[0mestimator\u001b[0m\u001b[0;34m.\u001b[0m\u001b[0mfit\u001b[0m\u001b[0;34m(\u001b[0m\u001b[0mx_train1\u001b[0m\u001b[0;34m,\u001b[0m \u001b[0my_train1\u001b[0m\u001b[0;34m)\u001b[0m\u001b[0;34m\u001b[0m\u001b[0;34m\u001b[0m\u001b[0m\n\u001b[0m\u001b[1;32m      7\u001b[0m \u001b[0mprediction\u001b[0m \u001b[0;34m=\u001b[0m \u001b[0mestimator\u001b[0m\u001b[0;34m.\u001b[0m\u001b[0mpredict\u001b[0m\u001b[0;34m(\u001b[0m\u001b[0mx_test1\u001b[0m\u001b[0;34m)\u001b[0m\u001b[0;34m\u001b[0m\u001b[0;34m\u001b[0m\u001b[0m\n\u001b[1;32m      8\u001b[0m \u001b[0maccuracy_score\u001b[0m\u001b[0;34m(\u001b[0m\u001b[0my_test1\u001b[0m\u001b[0;34m,\u001b[0m \u001b[0mprediction\u001b[0m\u001b[0;34m)\u001b[0m\u001b[0;34m\u001b[0m\u001b[0;34m\u001b[0m\u001b[0m\n",
            "\u001b[0;32m/usr/local/lib/python3.6/dist-packages/tensorflow/python/keras/wrappers/scikit_learn.py\u001b[0m in \u001b[0;36mfit\u001b[0;34m(self, x, y, **kwargs)\u001b[0m\n\u001b[1;32m    164\u001b[0m     \u001b[0mfit_args\u001b[0m\u001b[0;34m.\u001b[0m\u001b[0mupdate\u001b[0m\u001b[0;34m(\u001b[0m\u001b[0mkwargs\u001b[0m\u001b[0;34m)\u001b[0m\u001b[0;34m\u001b[0m\u001b[0;34m\u001b[0m\u001b[0m\n\u001b[1;32m    165\u001b[0m \u001b[0;34m\u001b[0m\u001b[0m\n\u001b[0;32m--> 166\u001b[0;31m     \u001b[0mhistory\u001b[0m \u001b[0;34m=\u001b[0m \u001b[0mself\u001b[0m\u001b[0;34m.\u001b[0m\u001b[0mmodel\u001b[0m\u001b[0;34m.\u001b[0m\u001b[0mfit\u001b[0m\u001b[0;34m(\u001b[0m\u001b[0mx\u001b[0m\u001b[0;34m,\u001b[0m \u001b[0my\u001b[0m\u001b[0;34m,\u001b[0m \u001b[0;34m**\u001b[0m\u001b[0mfit_args\u001b[0m\u001b[0;34m)\u001b[0m\u001b[0;34m\u001b[0m\u001b[0;34m\u001b[0m\u001b[0m\n\u001b[0m\u001b[1;32m    167\u001b[0m \u001b[0;34m\u001b[0m\u001b[0m\n\u001b[1;32m    168\u001b[0m     \u001b[0;32mreturn\u001b[0m \u001b[0mhistory\u001b[0m\u001b[0;34m\u001b[0m\u001b[0;34m\u001b[0m\u001b[0m\n",
            "\u001b[0;32m/usr/local/lib/python3.6/dist-packages/tensorflow/python/keras/engine/training.py\u001b[0m in \u001b[0;36mfit\u001b[0;34m(self, x, y, batch_size, epochs, verbose, callbacks, validation_split, validation_data, shuffle, class_weight, sample_weight, initial_epoch, steps_per_epoch, validation_steps, validation_batch_size, validation_freq, max_queue_size, workers, use_multiprocessing)\u001b[0m\n\u001b[1;32m   1098\u001b[0m                 _r=1):\n\u001b[1;32m   1099\u001b[0m               \u001b[0mcallbacks\u001b[0m\u001b[0;34m.\u001b[0m\u001b[0mon_train_batch_begin\u001b[0m\u001b[0;34m(\u001b[0m\u001b[0mstep\u001b[0m\u001b[0;34m)\u001b[0m\u001b[0;34m\u001b[0m\u001b[0;34m\u001b[0m\u001b[0m\n\u001b[0;32m-> 1100\u001b[0;31m               \u001b[0mtmp_logs\u001b[0m \u001b[0;34m=\u001b[0m \u001b[0mself\u001b[0m\u001b[0;34m.\u001b[0m\u001b[0mtrain_function\u001b[0m\u001b[0;34m(\u001b[0m\u001b[0miterator\u001b[0m\u001b[0;34m)\u001b[0m\u001b[0;34m\u001b[0m\u001b[0;34m\u001b[0m\u001b[0m\n\u001b[0m\u001b[1;32m   1101\u001b[0m               \u001b[0;32mif\u001b[0m \u001b[0mdata_handler\u001b[0m\u001b[0;34m.\u001b[0m\u001b[0mshould_sync\u001b[0m\u001b[0;34m:\u001b[0m\u001b[0;34m\u001b[0m\u001b[0;34m\u001b[0m\u001b[0m\n\u001b[1;32m   1102\u001b[0m                 \u001b[0mcontext\u001b[0m\u001b[0;34m.\u001b[0m\u001b[0masync_wait\u001b[0m\u001b[0;34m(\u001b[0m\u001b[0;34m)\u001b[0m\u001b[0;34m\u001b[0m\u001b[0;34m\u001b[0m\u001b[0m\n",
            "\u001b[0;32m/usr/local/lib/python3.6/dist-packages/tensorflow/python/eager/def_function.py\u001b[0m in \u001b[0;36m__call__\u001b[0;34m(self, *args, **kwds)\u001b[0m\n\u001b[1;32m    826\u001b[0m     \u001b[0mtracing_count\u001b[0m \u001b[0;34m=\u001b[0m \u001b[0mself\u001b[0m\u001b[0;34m.\u001b[0m\u001b[0mexperimental_get_tracing_count\u001b[0m\u001b[0;34m(\u001b[0m\u001b[0;34m)\u001b[0m\u001b[0;34m\u001b[0m\u001b[0;34m\u001b[0m\u001b[0m\n\u001b[1;32m    827\u001b[0m     \u001b[0;32mwith\u001b[0m \u001b[0mtrace\u001b[0m\u001b[0;34m.\u001b[0m\u001b[0mTrace\u001b[0m\u001b[0;34m(\u001b[0m\u001b[0mself\u001b[0m\u001b[0;34m.\u001b[0m\u001b[0m_name\u001b[0m\u001b[0;34m)\u001b[0m \u001b[0;32mas\u001b[0m \u001b[0mtm\u001b[0m\u001b[0;34m:\u001b[0m\u001b[0;34m\u001b[0m\u001b[0;34m\u001b[0m\u001b[0m\n\u001b[0;32m--> 828\u001b[0;31m       \u001b[0mresult\u001b[0m \u001b[0;34m=\u001b[0m \u001b[0mself\u001b[0m\u001b[0;34m.\u001b[0m\u001b[0m_call\u001b[0m\u001b[0;34m(\u001b[0m\u001b[0;34m*\u001b[0m\u001b[0margs\u001b[0m\u001b[0;34m,\u001b[0m \u001b[0;34m**\u001b[0m\u001b[0mkwds\u001b[0m\u001b[0;34m)\u001b[0m\u001b[0;34m\u001b[0m\u001b[0;34m\u001b[0m\u001b[0m\n\u001b[0m\u001b[1;32m    829\u001b[0m       \u001b[0mcompiler\u001b[0m \u001b[0;34m=\u001b[0m \u001b[0;34m\"xla\"\u001b[0m \u001b[0;32mif\u001b[0m \u001b[0mself\u001b[0m\u001b[0;34m.\u001b[0m\u001b[0m_experimental_compile\u001b[0m \u001b[0;32melse\u001b[0m \u001b[0;34m\"nonXla\"\u001b[0m\u001b[0;34m\u001b[0m\u001b[0;34m\u001b[0m\u001b[0m\n\u001b[1;32m    830\u001b[0m       \u001b[0mnew_tracing_count\u001b[0m \u001b[0;34m=\u001b[0m \u001b[0mself\u001b[0m\u001b[0;34m.\u001b[0m\u001b[0mexperimental_get_tracing_count\u001b[0m\u001b[0;34m(\u001b[0m\u001b[0;34m)\u001b[0m\u001b[0;34m\u001b[0m\u001b[0;34m\u001b[0m\u001b[0m\n",
            "\u001b[0;32m/usr/local/lib/python3.6/dist-packages/tensorflow/python/eager/def_function.py\u001b[0m in \u001b[0;36m_call\u001b[0;34m(self, *args, **kwds)\u001b[0m\n\u001b[1;32m    869\u001b[0m       \u001b[0;31m# This is the first call of __call__, so we have to initialize.\u001b[0m\u001b[0;34m\u001b[0m\u001b[0;34m\u001b[0m\u001b[0;34m\u001b[0m\u001b[0m\n\u001b[1;32m    870\u001b[0m       \u001b[0minitializers\u001b[0m \u001b[0;34m=\u001b[0m \u001b[0;34m[\u001b[0m\u001b[0;34m]\u001b[0m\u001b[0;34m\u001b[0m\u001b[0;34m\u001b[0m\u001b[0m\n\u001b[0;32m--> 871\u001b[0;31m       \u001b[0mself\u001b[0m\u001b[0;34m.\u001b[0m\u001b[0m_initialize\u001b[0m\u001b[0;34m(\u001b[0m\u001b[0margs\u001b[0m\u001b[0;34m,\u001b[0m \u001b[0mkwds\u001b[0m\u001b[0;34m,\u001b[0m \u001b[0madd_initializers_to\u001b[0m\u001b[0;34m=\u001b[0m\u001b[0minitializers\u001b[0m\u001b[0;34m)\u001b[0m\u001b[0;34m\u001b[0m\u001b[0;34m\u001b[0m\u001b[0m\n\u001b[0m\u001b[1;32m    872\u001b[0m     \u001b[0;32mfinally\u001b[0m\u001b[0;34m:\u001b[0m\u001b[0;34m\u001b[0m\u001b[0;34m\u001b[0m\u001b[0m\n\u001b[1;32m    873\u001b[0m       \u001b[0;31m# At this point we know that the initialization is complete (or less\u001b[0m\u001b[0;34m\u001b[0m\u001b[0;34m\u001b[0m\u001b[0;34m\u001b[0m\u001b[0m\n",
            "\u001b[0;32m/usr/local/lib/python3.6/dist-packages/tensorflow/python/eager/def_function.py\u001b[0m in \u001b[0;36m_initialize\u001b[0;34m(self, args, kwds, add_initializers_to)\u001b[0m\n\u001b[1;32m    724\u001b[0m     self._concrete_stateful_fn = (\n\u001b[1;32m    725\u001b[0m         self._stateful_fn._get_concrete_function_internal_garbage_collected(  # pylint: disable=protected-access\n\u001b[0;32m--> 726\u001b[0;31m             *args, **kwds))\n\u001b[0m\u001b[1;32m    727\u001b[0m \u001b[0;34m\u001b[0m\u001b[0m\n\u001b[1;32m    728\u001b[0m     \u001b[0;32mdef\u001b[0m \u001b[0minvalid_creator_scope\u001b[0m\u001b[0;34m(\u001b[0m\u001b[0;34m*\u001b[0m\u001b[0munused_args\u001b[0m\u001b[0;34m,\u001b[0m \u001b[0;34m**\u001b[0m\u001b[0munused_kwds\u001b[0m\u001b[0;34m)\u001b[0m\u001b[0;34m:\u001b[0m\u001b[0;34m\u001b[0m\u001b[0;34m\u001b[0m\u001b[0m\n",
            "\u001b[0;32m/usr/local/lib/python3.6/dist-packages/tensorflow/python/eager/function.py\u001b[0m in \u001b[0;36m_get_concrete_function_internal_garbage_collected\u001b[0;34m(self, *args, **kwargs)\u001b[0m\n\u001b[1;32m   2967\u001b[0m       \u001b[0margs\u001b[0m\u001b[0;34m,\u001b[0m \u001b[0mkwargs\u001b[0m \u001b[0;34m=\u001b[0m \u001b[0;32mNone\u001b[0m\u001b[0;34m,\u001b[0m \u001b[0;32mNone\u001b[0m\u001b[0;34m\u001b[0m\u001b[0;34m\u001b[0m\u001b[0m\n\u001b[1;32m   2968\u001b[0m     \u001b[0;32mwith\u001b[0m \u001b[0mself\u001b[0m\u001b[0;34m.\u001b[0m\u001b[0m_lock\u001b[0m\u001b[0;34m:\u001b[0m\u001b[0;34m\u001b[0m\u001b[0;34m\u001b[0m\u001b[0m\n\u001b[0;32m-> 2969\u001b[0;31m       \u001b[0mgraph_function\u001b[0m\u001b[0;34m,\u001b[0m \u001b[0m_\u001b[0m \u001b[0;34m=\u001b[0m \u001b[0mself\u001b[0m\u001b[0;34m.\u001b[0m\u001b[0m_maybe_define_function\u001b[0m\u001b[0;34m(\u001b[0m\u001b[0margs\u001b[0m\u001b[0;34m,\u001b[0m \u001b[0mkwargs\u001b[0m\u001b[0;34m)\u001b[0m\u001b[0;34m\u001b[0m\u001b[0;34m\u001b[0m\u001b[0m\n\u001b[0m\u001b[1;32m   2970\u001b[0m     \u001b[0;32mreturn\u001b[0m \u001b[0mgraph_function\u001b[0m\u001b[0;34m\u001b[0m\u001b[0;34m\u001b[0m\u001b[0m\n\u001b[1;32m   2971\u001b[0m \u001b[0;34m\u001b[0m\u001b[0m\n",
            "\u001b[0;32m/usr/local/lib/python3.6/dist-packages/tensorflow/python/eager/function.py\u001b[0m in \u001b[0;36m_maybe_define_function\u001b[0;34m(self, args, kwargs)\u001b[0m\n\u001b[1;32m   3359\u001b[0m \u001b[0;34m\u001b[0m\u001b[0m\n\u001b[1;32m   3360\u001b[0m           \u001b[0mself\u001b[0m\u001b[0;34m.\u001b[0m\u001b[0m_function_cache\u001b[0m\u001b[0;34m.\u001b[0m\u001b[0mmissed\u001b[0m\u001b[0;34m.\u001b[0m\u001b[0madd\u001b[0m\u001b[0;34m(\u001b[0m\u001b[0mcall_context_key\u001b[0m\u001b[0;34m)\u001b[0m\u001b[0;34m\u001b[0m\u001b[0;34m\u001b[0m\u001b[0m\n\u001b[0;32m-> 3361\u001b[0;31m           \u001b[0mgraph_function\u001b[0m \u001b[0;34m=\u001b[0m \u001b[0mself\u001b[0m\u001b[0;34m.\u001b[0m\u001b[0m_create_graph_function\u001b[0m\u001b[0;34m(\u001b[0m\u001b[0margs\u001b[0m\u001b[0;34m,\u001b[0m \u001b[0mkwargs\u001b[0m\u001b[0;34m)\u001b[0m\u001b[0;34m\u001b[0m\u001b[0;34m\u001b[0m\u001b[0m\n\u001b[0m\u001b[1;32m   3362\u001b[0m           \u001b[0mself\u001b[0m\u001b[0;34m.\u001b[0m\u001b[0m_function_cache\u001b[0m\u001b[0;34m.\u001b[0m\u001b[0mprimary\u001b[0m\u001b[0;34m[\u001b[0m\u001b[0mcache_key\u001b[0m\u001b[0;34m]\u001b[0m \u001b[0;34m=\u001b[0m \u001b[0mgraph_function\u001b[0m\u001b[0;34m\u001b[0m\u001b[0;34m\u001b[0m\u001b[0m\n\u001b[1;32m   3363\u001b[0m \u001b[0;34m\u001b[0m\u001b[0m\n",
            "\u001b[0;32m/usr/local/lib/python3.6/dist-packages/tensorflow/python/eager/function.py\u001b[0m in \u001b[0;36m_create_graph_function\u001b[0;34m(self, args, kwargs, override_flat_arg_shapes)\u001b[0m\n\u001b[1;32m   3204\u001b[0m             \u001b[0marg_names\u001b[0m\u001b[0;34m=\u001b[0m\u001b[0marg_names\u001b[0m\u001b[0;34m,\u001b[0m\u001b[0;34m\u001b[0m\u001b[0;34m\u001b[0m\u001b[0m\n\u001b[1;32m   3205\u001b[0m             \u001b[0moverride_flat_arg_shapes\u001b[0m\u001b[0;34m=\u001b[0m\u001b[0moverride_flat_arg_shapes\u001b[0m\u001b[0;34m,\u001b[0m\u001b[0;34m\u001b[0m\u001b[0;34m\u001b[0m\u001b[0m\n\u001b[0;32m-> 3206\u001b[0;31m             capture_by_value=self._capture_by_value),\n\u001b[0m\u001b[1;32m   3207\u001b[0m         \u001b[0mself\u001b[0m\u001b[0;34m.\u001b[0m\u001b[0m_function_attributes\u001b[0m\u001b[0;34m,\u001b[0m\u001b[0;34m\u001b[0m\u001b[0;34m\u001b[0m\u001b[0m\n\u001b[1;32m   3208\u001b[0m         \u001b[0mfunction_spec\u001b[0m\u001b[0;34m=\u001b[0m\u001b[0mself\u001b[0m\u001b[0;34m.\u001b[0m\u001b[0mfunction_spec\u001b[0m\u001b[0;34m,\u001b[0m\u001b[0;34m\u001b[0m\u001b[0;34m\u001b[0m\u001b[0m\n",
            "\u001b[0;32m/usr/local/lib/python3.6/dist-packages/tensorflow/python/framework/func_graph.py\u001b[0m in \u001b[0;36mfunc_graph_from_py_func\u001b[0;34m(name, python_func, args, kwargs, signature, func_graph, autograph, autograph_options, add_control_dependencies, arg_names, op_return_value, collections, capture_by_value, override_flat_arg_shapes)\u001b[0m\n\u001b[1;32m    988\u001b[0m         \u001b[0m_\u001b[0m\u001b[0;34m,\u001b[0m \u001b[0moriginal_func\u001b[0m \u001b[0;34m=\u001b[0m \u001b[0mtf_decorator\u001b[0m\u001b[0;34m.\u001b[0m\u001b[0munwrap\u001b[0m\u001b[0;34m(\u001b[0m\u001b[0mpython_func\u001b[0m\u001b[0;34m)\u001b[0m\u001b[0;34m\u001b[0m\u001b[0;34m\u001b[0m\u001b[0m\n\u001b[1;32m    989\u001b[0m \u001b[0;34m\u001b[0m\u001b[0m\n\u001b[0;32m--> 990\u001b[0;31m       \u001b[0mfunc_outputs\u001b[0m \u001b[0;34m=\u001b[0m \u001b[0mpython_func\u001b[0m\u001b[0;34m(\u001b[0m\u001b[0;34m*\u001b[0m\u001b[0mfunc_args\u001b[0m\u001b[0;34m,\u001b[0m \u001b[0;34m**\u001b[0m\u001b[0mfunc_kwargs\u001b[0m\u001b[0;34m)\u001b[0m\u001b[0;34m\u001b[0m\u001b[0;34m\u001b[0m\u001b[0m\n\u001b[0m\u001b[1;32m    991\u001b[0m \u001b[0;34m\u001b[0m\u001b[0m\n\u001b[1;32m    992\u001b[0m       \u001b[0;31m# invariant: `func_outputs` contains only Tensors, CompositeTensors,\u001b[0m\u001b[0;34m\u001b[0m\u001b[0;34m\u001b[0m\u001b[0;34m\u001b[0m\u001b[0m\n",
            "\u001b[0;32m/usr/local/lib/python3.6/dist-packages/tensorflow/python/eager/def_function.py\u001b[0m in \u001b[0;36mwrapped_fn\u001b[0;34m(*args, **kwds)\u001b[0m\n\u001b[1;32m    632\u001b[0m             \u001b[0mxla_context\u001b[0m\u001b[0;34m.\u001b[0m\u001b[0mExit\u001b[0m\u001b[0;34m(\u001b[0m\u001b[0;34m)\u001b[0m\u001b[0;34m\u001b[0m\u001b[0;34m\u001b[0m\u001b[0m\n\u001b[1;32m    633\u001b[0m         \u001b[0;32melse\u001b[0m\u001b[0;34m:\u001b[0m\u001b[0;34m\u001b[0m\u001b[0;34m\u001b[0m\u001b[0m\n\u001b[0;32m--> 634\u001b[0;31m           \u001b[0mout\u001b[0m \u001b[0;34m=\u001b[0m \u001b[0mweak_wrapped_fn\u001b[0m\u001b[0;34m(\u001b[0m\u001b[0;34m)\u001b[0m\u001b[0;34m.\u001b[0m\u001b[0m__wrapped__\u001b[0m\u001b[0;34m(\u001b[0m\u001b[0;34m*\u001b[0m\u001b[0margs\u001b[0m\u001b[0;34m,\u001b[0m \u001b[0;34m**\u001b[0m\u001b[0mkwds\u001b[0m\u001b[0;34m)\u001b[0m\u001b[0;34m\u001b[0m\u001b[0;34m\u001b[0m\u001b[0m\n\u001b[0m\u001b[1;32m    635\u001b[0m         \u001b[0;32mreturn\u001b[0m \u001b[0mout\u001b[0m\u001b[0;34m\u001b[0m\u001b[0;34m\u001b[0m\u001b[0m\n\u001b[1;32m    636\u001b[0m \u001b[0;34m\u001b[0m\u001b[0m\n",
            "\u001b[0;32m/usr/local/lib/python3.6/dist-packages/tensorflow/python/framework/func_graph.py\u001b[0m in \u001b[0;36mwrapper\u001b[0;34m(*args, **kwargs)\u001b[0m\n\u001b[1;32m    975\u001b[0m           \u001b[0;32mexcept\u001b[0m \u001b[0mException\u001b[0m \u001b[0;32mas\u001b[0m \u001b[0me\u001b[0m\u001b[0;34m:\u001b[0m  \u001b[0;31m# pylint:disable=broad-except\u001b[0m\u001b[0;34m\u001b[0m\u001b[0;34m\u001b[0m\u001b[0m\n\u001b[1;32m    976\u001b[0m             \u001b[0;32mif\u001b[0m \u001b[0mhasattr\u001b[0m\u001b[0;34m(\u001b[0m\u001b[0me\u001b[0m\u001b[0;34m,\u001b[0m \u001b[0;34m\"ag_error_metadata\"\u001b[0m\u001b[0;34m)\u001b[0m\u001b[0;34m:\u001b[0m\u001b[0;34m\u001b[0m\u001b[0;34m\u001b[0m\u001b[0m\n\u001b[0;32m--> 977\u001b[0;31m               \u001b[0;32mraise\u001b[0m \u001b[0me\u001b[0m\u001b[0;34m.\u001b[0m\u001b[0mag_error_metadata\u001b[0m\u001b[0;34m.\u001b[0m\u001b[0mto_exception\u001b[0m\u001b[0;34m(\u001b[0m\u001b[0me\u001b[0m\u001b[0;34m)\u001b[0m\u001b[0;34m\u001b[0m\u001b[0;34m\u001b[0m\u001b[0m\n\u001b[0m\u001b[1;32m    978\u001b[0m             \u001b[0;32melse\u001b[0m\u001b[0;34m:\u001b[0m\u001b[0;34m\u001b[0m\u001b[0;34m\u001b[0m\u001b[0m\n\u001b[1;32m    979\u001b[0m               \u001b[0;32mraise\u001b[0m\u001b[0;34m\u001b[0m\u001b[0;34m\u001b[0m\u001b[0m\n",
            "\u001b[0;31mValueError\u001b[0m: in user code:\n\n    /usr/local/lib/python3.6/dist-packages/tensorflow/python/keras/engine/training.py:805 train_function  *\n        return step_function(self, iterator)\n    /usr/local/lib/python3.6/dist-packages/tensorflow/python/keras/engine/training.py:795 step_function  **\n        outputs = model.distribute_strategy.run(run_step, args=(data,))\n    /usr/local/lib/python3.6/dist-packages/tensorflow/python/distribute/distribute_lib.py:1259 run\n        return self._extended.call_for_each_replica(fn, args=args, kwargs=kwargs)\n    /usr/local/lib/python3.6/dist-packages/tensorflow/python/distribute/distribute_lib.py:2730 call_for_each_replica\n        return self._call_for_each_replica(fn, args, kwargs)\n    /usr/local/lib/python3.6/dist-packages/tensorflow/python/distribute/distribute_lib.py:3417 _call_for_each_replica\n        return fn(*args, **kwargs)\n    /usr/local/lib/python3.6/dist-packages/tensorflow/python/keras/engine/training.py:788 run_step  **\n        outputs = model.train_step(data)\n    /usr/local/lib/python3.6/dist-packages/tensorflow/python/keras/engine/training.py:754 train_step\n        y_pred = self(x, training=True)\n    /usr/local/lib/python3.6/dist-packages/tensorflow/python/keras/engine/base_layer.py:998 __call__\n        input_spec.assert_input_compatibility(self.input_spec, inputs, self.name)\n    /usr/local/lib/python3.6/dist-packages/tensorflow/python/keras/engine/input_spec.py:259 assert_input_compatibility\n        ' but received input with shape ' + display_shape(x.shape))\n\n    ValueError: Input 0 of layer sequential_18 is incompatible with the layer: expected axis -1 of input shape to have value 10 but received input with shape (None, 72)\n"
          ]
        }
      ]
    },
    {
      "cell_type": "code",
      "metadata": {
        "id": "W5nxH0TLv362"
      },
      "source": [
        ""
      ],
      "execution_count": null,
      "outputs": []
    },
    {
      "cell_type": "code",
      "metadata": {
        "id": "EDDNKB_Uv32q"
      },
      "source": [
        ""
      ],
      "execution_count": null,
      "outputs": []
    },
    {
      "cell_type": "markdown",
      "metadata": {
        "id": "RjdcDTtpMCuh"
      },
      "source": [
        "## Escalado de Datos\n"
      ]
    },
    {
      "cell_type": "code",
      "metadata": {
        "id": "AMzKtPr0MGm_"
      },
      "source": [
        "X_escalada = data_ml[['rooms', 'bathrooms', 'surface_total', 'surface_covered']]\n",
        "Y_escalada = data_ml[['price']]"
      ],
      "execution_count": null,
      "outputs": []
    },
    {
      "cell_type": "code",
      "metadata": {
        "id": "iOO2lHY8MbJM"
      },
      "source": [
        "std = StandardScaler()\n",
        "#Entreno el modelo\n",
        "std.fit(X_escalada)"
      ],
      "execution_count": null,
      "outputs": []
    },
    {
      "cell_type": "code",
      "metadata": {
        "id": "k0nnxlg8MvlB"
      },
      "source": [
        "#Escalado\n",
        "X_escalada_new = std.transform(X_escalada)"
      ],
      "execution_count": null,
      "outputs": []
    },
    {
      "cell_type": "code",
      "metadata": {
        "id": "sxTzunKoM3xe"
      },
      "source": [
        "#Convierto a Dataframe\n",
        "X_escalada_new = pd.DataFrame(data=X_escalada_new, columns=['rooms', 'bathrooms','surface_total','surface_covered'])"
      ],
      "execution_count": null,
      "outputs": []
    },
    {
      "cell_type": "code",
      "metadata": {
        "id": "bZbq_ohiOhyO"
      },
      "source": [
        "X_escalada_new.head(2)"
      ],
      "execution_count": null,
      "outputs": []
    },
    {
      "cell_type": "code",
      "metadata": {
        "id": "BSmHnX3fPj9q"
      },
      "source": [
        "std.fit(Y_escalada)\n",
        "Y_escalada_new = std.transform(Y_escalada)"
      ],
      "execution_count": null,
      "outputs": []
    },
    {
      "cell_type": "code",
      "metadata": {
        "id": "ivEwUKfLPjor"
      },
      "source": [
        "Y_escalada_new = pd.DataFrame(data=Y_escalada_new, columns=['price'])"
      ],
      "execution_count": null,
      "outputs": []
    },
    {
      "cell_type": "markdown",
      "metadata": {
        "id": "lz1XTgM6N9j3"
      },
      "source": [
        "##Eliminar Outliers"
      ]
    },
    {
      "cell_type": "code",
      "metadata": {
        "id": "bMf_hJh-N_ay"
      },
      "source": [
        "def limpiar_dataframe(dataframe, columna):\n",
        "    q25, q75 = np.percentile(dataframe[columna], [25, 75])\n",
        "    iqr = q75 - q25\n",
        "    if (q25 -(1.5 * iqr)) < 0:\n",
        "        IQMenor = 0.0\n",
        "    else:\n",
        "        IQMenor = float(q25 - (1.5 * iqr))\n",
        "\n",
        "    IQMayor = float(q75 + (1.5 * iqr))\n",
        "    \n",
        "    dataframe = dataframe[(dataframe[columna] > IQMenor ) &\n",
        "        (dataframe[columna] < IQMayor)]\n",
        "    \n",
        "    return dataframe"
      ],
      "execution_count": null,
      "outputs": []
    },
    {
      "cell_type": "code",
      "metadata": {
        "id": "OB-JXd3FOJwe"
      },
      "source": [
        "data_columnas = ['rooms','bathrooms','surface_total','surface_covered']\n",
        "for i in data_columnas:\n",
        "    X_escalada_new = limpiar_dataframe(X_escalada,i)"
      ],
      "execution_count": null,
      "outputs": []
    },
    {
      "cell_type": "code",
      "metadata": {
        "id": "5EhpFewBOSMq"
      },
      "source": [
        "sns.kdeplot((X_escalada_new['surface_total']))"
      ],
      "execution_count": null,
      "outputs": []
    },
    {
      "cell_type": "code",
      "metadata": {
        "id": "k4m_dMuhOyIl"
      },
      "source": [
        "sns.kdeplot((X_escalada_new['rooms']))"
      ],
      "execution_count": null,
      "outputs": []
    },
    {
      "cell_type": "code",
      "metadata": {
        "id": "e699mXtaO776"
      },
      "source": [
        "sns.kdeplot((X_escalada_new['surface_total']))\n",
        "sns.kdeplot((X_escalada_new['rooms']))\n",
        "sns.kdeplot((X_escalada_new['bathrooms']))\n",
        "sns.kdeplot((X_escalada_new['surface_covered']))\n",
        "plt.title('Rango de valores Datos Escalados')"
      ],
      "execution_count": null,
      "outputs": []
    },
    {
      "cell_type": "code",
      "metadata": {
        "id": "90UfOozPPIX6"
      },
      "source": [
        ""
      ],
      "execution_count": null,
      "outputs": []
    },
    {
      "cell_type": "markdown",
      "metadata": {
        "id": "nP0QuZq8iA-V"
      },
      "source": [
        ""
      ]
    },
    {
      "cell_type": "markdown",
      "metadata": {
        "id": "6yh6psPu_12n"
      },
      "source": [
        "Obtener importancia de caracteristicas\n",
        "https://eli5.readthedocs.io/en/latest/blackbox/permutation_importance.html\n",
        "\n",
        "-> optimizacion bayesiana\n",
        "\n",
        "-> open street maps api (Para obtener cosas de plusvalia segun cordenadas)\n",
        "\n",
        "-> Probar super Vector Regresor\n",
        "\n",
        "-> Probar extra modelo \n",
        "https://scikit-learn.org/stable/modules/generated/sklearn.ensemble.ExtraTreesRegressor.html\n",
        "\n",
        "-> Keras Regresor\n",
        "https://www.kaggle.com/hendraherviawan/regression-with-kerasregressor\n",
        "https://stackoverflow.com/questions/44132652/keras-how-to-perform-a-prediction-using-kerasregressor\n",
        "https://www.heatonresearch.com/2017/07/22/keras-getting-started.html\n",
        "https://github.com/jeffheaton/t81_558_deep_learning\n",
        "\n",
        "-> Staking\n",
        "https://www.kaggle.com/amiiiney/price-prediction-regularization-gbms"
      ]
    },
    {
      "cell_type": "code",
      "metadata": {
        "id": "1XkggSWfJVop"
      },
      "source": [
        ""
      ],
      "execution_count": null,
      "outputs": []
    }
  ]
}