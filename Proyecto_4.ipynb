{
  "nbformat": 4,
  "nbformat_minor": 0,
  "metadata": {
    "colab": {
      "name": "Proyecto_4.ipynb",
      "provenance": [],
      "collapsed_sections": [
        "RjdcDTtpMCuh",
        "lz1XTgM6N9j3"
      ],
      "mount_file_id": "1no_bAX0iIuW44Rfnh17UUanpb-Awo2KA",
      "authorship_tag": "ABX9TyNZDtwt9Iuc+5PRZUuIlCtf"
    },
    "kernelspec": {
      "name": "python3",
      "display_name": "Python 3"
    }
  },
  "cells": [
    {
      "cell_type": "code",
      "metadata": {
        "id": "Xx05QhnO6jPm"
      },
      "source": [
        "import numpy as np\n",
        "import pandas as pd\n",
        "import matplotlib.pyplot as plt\n",
        "import seaborn as sns\n",
        "\n",
        "#Escalado de Datos\n",
        "from sklearn.preprocessing import StandardScaler\n",
        "\n",
        "#Polynomial\n",
        "from sklearn.preprocessing import PolynomialFeatures\n",
        "\n",
        "#Models\n",
        "from sklearn.model_selection import cross_val_score, train_test_split\n",
        "from sklearn.linear_model import LinearRegression, LassoCV, RidgeCV\n",
        "\n",
        "#Metricas \n",
        "from sklearn.metrics import mean_squared_error\n",
        "from sklearn.metrics import mean_absolute_error\n",
        "\n",
        "import warnings\n",
        "warnings.filterwarnings('ignore')"
      ],
      "execution_count": 1,
      "outputs": []
    },
    {
      "cell_type": "code",
      "metadata": {
        "id": "8JvGisVC6x4u"
      },
      "source": [
        "url = '/content/drive/MyDrive/Data/properati.csv'\n",
        "data = pd.read_csv(url)"
      ],
      "execution_count": 2,
      "outputs": []
    },
    {
      "cell_type": "code",
      "metadata": {
        "id": "2GMiK9T-7EMl"
      },
      "source": [
        "def valores_nulos(dataset):\n",
        "  print('<------------->')\n",
        "  print('Porcentaje de Valores nulos\\n')\n",
        "  print(dataset.isnull().sum() / dataset.shape[0] * 100)"
      ],
      "execution_count": 3,
      "outputs": []
    },
    {
      "cell_type": "markdown",
      "metadata": {
        "id": "6-jDCvmM9DS5"
      },
      "source": [
        "# Filtrado de Información"
      ]
    },
    {
      "cell_type": "markdown",
      "metadata": {
        "id": "kKQoQlK074zS"
      },
      "source": [
        "Empleo el mismo filtro que se solicitaba en el Proyecto 1, en donde se emplea únicamente los Datos de propiedades registradas en Capital Federal."
      ]
    },
    {
      "cell_type": "code",
      "metadata": {
        "id": "pXZ9YXIg8RP9"
      },
      "source": [
        "data_ml=data[(data.l2 == 'Capital Federal') & (data.property_type.isin(['Departamento', 'Casa', 'PH']))]"
      ],
      "execution_count": 4,
      "outputs": []
    },
    {
      "cell_type": "code",
      "metadata": {
        "colab": {
          "base_uri": "https://localhost:8080/"
        },
        "id": "rRHvPOt37tUT",
        "outputId": "0b880b20-b3f2-47ab-f642-38b27e52a436"
      },
      "source": [
        "data_ml = data_ml[(data_ml.surface_total >= 15)] \n",
        "data_ml = data_ml[(data_ml.surface_total <= 1000)]\n",
        "print('valor minimo en superficie total', data_ml.surface_total.min())\n",
        "print('valor maximo en superficie total', data_ml.surface_total.max())"
      ],
      "execution_count": 5,
      "outputs": [
        {
          "output_type": "stream",
          "text": [
            "valor minimo en superficie total 15.0\n",
            "valor maximo en superficie total 1000.0\n"
          ],
          "name": "stdout"
        }
      ]
    },
    {
      "cell_type": "code",
      "metadata": {
        "id": "zOAWYic58sO8"
      },
      "source": [
        "data_ml = data_ml[(data_ml.price <= 4000000 )]"
      ],
      "execution_count": 6,
      "outputs": []
    },
    {
      "cell_type": "code",
      "metadata": {
        "id": "AcDNvry38z5t"
      },
      "source": [
        "data_ml = data_ml[['l3','property_type','rooms', 'bathrooms', 'surface_total', 'surface_covered', 'price']]"
      ],
      "execution_count": 7,
      "outputs": []
    },
    {
      "cell_type": "code",
      "metadata": {
        "colab": {
          "base_uri": "https://localhost:8080/"
        },
        "id": "V2ZTIA7R83B-",
        "outputId": "a548838f-ce9b-4665-d313-2fadb21f406e"
      },
      "source": [
        "valores_nulos(data_ml)"
      ],
      "execution_count": 8,
      "outputs": [
        {
          "output_type": "stream",
          "text": [
            "<------------->\n",
            "Porcentaje de Valores nulos\n",
            "\n",
            "l3                 0.000000\n",
            "property_type      0.000000\n",
            "rooms              0.000000\n",
            "bathrooms          1.068311\n",
            "surface_total      0.000000\n",
            "surface_covered    0.627633\n",
            "price              0.000000\n",
            "dtype: float64\n"
          ],
          "name": "stdout"
        }
      ]
    },
    {
      "cell_type": "code",
      "metadata": {
        "colab": {
          "base_uri": "https://localhost:8080/"
        },
        "id": "Y1spidKN8_fY",
        "outputId": "6279289c-df60-4443-8a07-305323eb6d8a"
      },
      "source": [
        "#¿Presencia de valores invertidos?\n",
        "datos_invertidos= data_ml.loc[data_ml.surface_total < data_ml.surface_covered]\n",
        "print('Existen', len(datos_invertidos),'datos invertidos')"
      ],
      "execution_count": 9,
      "outputs": [
        {
          "output_type": "stream",
          "text": [
            "Existen 751 datos invertidos\n"
          ],
          "name": "stdout"
        }
      ]
    },
    {
      "cell_type": "code",
      "metadata": {
        "id": "pfBEyZZf9USE"
      },
      "source": [
        "#Limpieza de valores invertidos\n",
        "data_ml = data_ml[(data_ml.surface_total >= data_ml.surface_covered)]"
      ],
      "execution_count": 10,
      "outputs": []
    },
    {
      "cell_type": "code",
      "metadata": {
        "colab": {
          "base_uri": "https://localhost:8080/"
        },
        "id": "-S_VzqfL9lVr",
        "outputId": "dc71382b-569a-4d8a-ec90-c9cd8bc27eae"
      },
      "source": [
        "#Comprobación \n",
        "datos_invertidos_2= data_ml.loc[data_ml.surface_total < data_ml.surface_covered]\n",
        "print('Existen', len(datos_invertidos_2),'datos invertidos')"
      ],
      "execution_count": 11,
      "outputs": [
        {
          "output_type": "stream",
          "text": [
            "Existen 0 datos invertidos\n"
          ],
          "name": "stdout"
        }
      ]
    },
    {
      "cell_type": "code",
      "metadata": {
        "colab": {
          "base_uri": "https://localhost:8080/"
        },
        "id": "PVQq9mi690Xy",
        "outputId": "d387a47f-4887-45ad-bef9-fb2c7420af85"
      },
      "source": [
        "valores_nulos(data_ml)"
      ],
      "execution_count": 12,
      "outputs": [
        {
          "output_type": "stream",
          "text": [
            "<------------->\n",
            "Porcentaje de Valores nulos\n",
            "\n",
            "l3                 0.000000\n",
            "property_type      0.000000\n",
            "rooms              0.000000\n",
            "bathrooms          1.022132\n",
            "surface_total      0.000000\n",
            "surface_covered    0.000000\n",
            "price              0.000000\n",
            "dtype: float64\n"
          ],
          "name": "stdout"
        }
      ]
    },
    {
      "cell_type": "code",
      "metadata": {
        "id": "kijnd5Jb-J4P"
      },
      "source": [
        "#Eliminar informacion duplicada\n",
        "data_ml.drop_duplicates(inplace=True)"
      ],
      "execution_count": 13,
      "outputs": []
    },
    {
      "cell_type": "code",
      "metadata": {
        "id": "C6QUv05d9l4e"
      },
      "source": [
        "#Copia\n",
        "data_py2 = data_ml.copy()"
      ],
      "execution_count": 14,
      "outputs": []
    },
    {
      "cell_type": "markdown",
      "metadata": {
        "id": "B5YbbF-9-VS6"
      },
      "source": [
        "#EDA"
      ]
    },
    {
      "cell_type": "markdown",
      "metadata": {
        "id": "l5G6aEkm-Y4M"
      },
      "source": [
        "## Imputación de Valores faltantes"
      ]
    },
    {
      "cell_type": "code",
      "metadata": {
        "colab": {
          "base_uri": "https://localhost:8080/"
        },
        "id": "CrQaM-mO9yg9",
        "outputId": "48828f17-1941-4aeb-b069-a11103f11787"
      },
      "source": [
        "valores_nulos(data_ml)"
      ],
      "execution_count": 16,
      "outputs": [
        {
          "output_type": "stream",
          "text": [
            "<------------->\n",
            "Porcentaje de Valores nulos\n",
            "\n",
            "l3                 0.00000\n",
            "property_type      0.00000\n",
            "rooms              0.00000\n",
            "bathrooms          1.47145\n",
            "surface_total      0.00000\n",
            "surface_covered    0.00000\n",
            "price              0.00000\n",
            "dtype: float64\n"
          ],
          "name": "stdout"
        }
      ]
    },
    {
      "cell_type": "code",
      "metadata": {
        "id": "cGXTswwD-eE0"
      },
      "source": [
        "#Elimino valores nulos en dataset copia\n",
        "data_py2.dropna(inplace=True)"
      ],
      "execution_count": 17,
      "outputs": []
    },
    {
      "cell_type": "code",
      "metadata": {
        "id": "vAWVaNv--pgH"
      },
      "source": [
        "#Agrupación segun el tipo de propiedad\n",
        "mean_bt = data_py2.groupby('property_type')['bathrooms'].mean().round(0)"
      ],
      "execution_count": 18,
      "outputs": []
    },
    {
      "cell_type": "code",
      "metadata": {
        "colab": {
          "base_uri": "https://localhost:8080/"
        },
        "id": "cZ7g2gO4-00t",
        "outputId": "54c8dd75-f7f9-4b3b-b7d1-383a228b5515"
      },
      "source": [
        "mean_bt = dict(round(mean_bt))\n",
        "mean_bt"
      ],
      "execution_count": 19,
      "outputs": [
        {
          "output_type": "execute_result",
          "data": {
            "text/plain": [
              "{'Casa': 2.0, 'Departamento': 2.0, 'PH': 1.0}"
            ]
          },
          "metadata": {
            "tags": []
          },
          "execution_count": 19
        }
      ]
    },
    {
      "cell_type": "code",
      "metadata": {
        "id": "fgOZm0eSKeoo"
      },
      "source": [
        "data_ml.bathrooms = data_ml.bathrooms.fillna(data_ml.property_type.map(mean_bt))"
      ],
      "execution_count": 20,
      "outputs": []
    },
    {
      "cell_type": "code",
      "metadata": {
        "colab": {
          "base_uri": "https://localhost:8080/"
        },
        "id": "isuR6Sd3Kzdq",
        "outputId": "67e84276-320f-4f82-a650-ea2a94ed172a"
      },
      "source": [
        "valores_nulos(data_ml)"
      ],
      "execution_count": 21,
      "outputs": [
        {
          "output_type": "stream",
          "text": [
            "<------------->\n",
            "Porcentaje de Valores nulos\n",
            "\n",
            "l3                 0.0\n",
            "property_type      0.0\n",
            "rooms              0.0\n",
            "bathrooms          0.0\n",
            "surface_total      0.0\n",
            "surface_covered    0.0\n",
            "price              0.0\n",
            "dtype: float64\n"
          ],
          "name": "stdout"
        }
      ]
    },
    {
      "cell_type": "code",
      "metadata": {
        "colab": {
          "base_uri": "https://localhost:8080/",
          "height": 129
        },
        "id": "2TPZp1xbgbG6",
        "outputId": "9fef1234-74f6-4231-ef6e-19fc782eba21"
      },
      "source": [
        "break"
      ],
      "execution_count": 22,
      "outputs": [
        {
          "output_type": "error",
          "ename": "SyntaxError",
          "evalue": "ignored",
          "traceback": [
            "\u001b[0;36m  File \u001b[0;32m\"<ipython-input-22-6aaf1f276005>\"\u001b[0;36m, line \u001b[0;32m1\u001b[0m\n\u001b[0;31m    break\u001b[0m\n\u001b[0m         ^\u001b[0m\n\u001b[0;31mSyntaxError\u001b[0m\u001b[0;31m:\u001b[0m 'break' outside loop\n"
          ]
        }
      ]
    },
    {
      "cell_type": "markdown",
      "metadata": {
        "id": "NKAQISveQ2yB"
      },
      "source": [
        "# Intento"
      ]
    },
    {
      "cell_type": "markdown",
      "metadata": {
        "id": "DiXJ9NBalnGA"
      },
      "source": [
        "https://github.com/traintestbritt/predicting_house_prices/blob/master/notebook-house_price_predictions-brittany_allen.ipynb"
      ]
    },
    {
      "cell_type": "code",
      "metadata": {
        "colab": {
          "base_uri": "https://localhost:8080/",
          "height": 517
        },
        "id": "pDWE7YBiQ2kQ",
        "outputId": "e7a6b013-266a-495e-e2ff-10c7a5c6bbf5"
      },
      "source": [
        "fig, ax = plt.subplots(figsize = (11, 8))\n",
        "sns.distplot(data_ml.price, kde=False, color='#A15EDB', bins=10)\n",
        "\n",
        "plt.xlabel('Sale Price', fontsize=19, labelpad=11)\n",
        "plt.xticks(fontsize=14)\n",
        "plt.ylabel('Count', fontsize=19, labelpad=11)\n",
        "plt.yticks(fontsize=14);"
      ],
      "execution_count": 23,
      "outputs": [
        {
          "output_type": "display_data",
          "data": {
            "image/png": "[encoded data removed]",
            "text/plain": [
              "<Figure size 792x576 with 1 Axes>"
            ]
          },
          "metadata": {
            "tags": [],
            "needs_background": "light"
          }
        }
      ]
    },
    {
      "cell_type": "code",
      "metadata": {
        "colab": {
          "base_uri": "https://localhost:8080/"
        },
        "id": "gmTzn85hQ2ep",
        "outputId": "3e055655-43f0-4555-bef8-9eb02201b05a"
      },
      "source": [
        "data_ml.price.describe()"
      ],
      "execution_count": 24,
      "outputs": [
        {
          "output_type": "execute_result",
          "data": {
            "text/plain": [
              "count    4.777600e+04\n",
              "mean     2.638013e+05\n",
              "std      2.914023e+05\n",
              "min      6.000000e+03\n",
              "25%      1.230000e+05\n",
              "50%      1.780000e+05\n",
              "75%      2.890000e+05\n",
              "max      4.000000e+06\n",
              "Name: price, dtype: float64"
            ]
          },
          "metadata": {
            "tags": []
          },
          "execution_count": 24
        }
      ]
    },
    {
      "cell_type": "code",
      "metadata": {
        "colab": {
          "base_uri": "https://localhost:8080/",
          "height": 517
        },
        "id": "zyBOnPSHQ2ZS",
        "outputId": "2fd6ca58-ec37-4a92-8698-dfe76928f3df"
      },
      "source": [
        "fig, ax = plt.subplots(figsize = (11, 8))\n",
        "sns.distplot(np.log(data_ml.price), kde=False, color='#A15EDB', bins=10)\n",
        "\n",
        "plt.xlabel('Sale Price', fontsize=19, labelpad=11)\n",
        "plt.xticks(fontsize=14)\n",
        "plt.ylabel('Count', fontsize=19, labelpad=11)\n",
        "plt.yticks(fontsize=14);"
      ],
      "execution_count": 25,
      "outputs": [
        {
          "output_type": "display_data",
          "data": {
            "image/png": "[encoded data removed]",
            "text/plain": [
              "<Figure size 792x576 with 1 Axes>"
            ]
          },
          "metadata": {
            "tags": [],
            "needs_background": "light"
          }
        }
      ]
    },
    {
      "cell_type": "code",
      "metadata": {
        "colab": {
          "base_uri": "https://localhost:8080/",
          "height": 650
        },
        "id": "92N0x76qU9Fm",
        "outputId": "9f77afb9-a930-4d96-9fa5-725b80b94feb"
      },
      "source": [
        "fig, ax = plt.subplots(figsize = (20, 11))\n",
        "\n",
        "cmap = sns.diverging_palette(150, 275, as_cmap=True)\n",
        "sns.heatmap(data_ml.corr()[['price']][round(data_ml.corr()['price'].sort_values(ascending=False), 1) >= .5], annot=True, linewidths=.4, fmt=\".1f\", cmap=cmap, ax=ax);"
      ],
      "execution_count": 26,
      "outputs": [
        {
          "output_type": "display_data",
          "data": {
            "image/png": "[encoded data removed]",
            "text/plain": [
              "<Figure size 1440x792 with 2 Axes>"
            ]
          },
          "metadata": {
            "tags": [],
            "needs_background": "light"
          }
        }
      ]
    },
    {
      "cell_type": "code",
      "metadata": {
        "colab": {
          "base_uri": "https://localhost:8080/",
          "height": 689
        },
        "id": "EcHw2jALVRt7",
        "outputId": "c6124b10-7734-4071-c4a2-a876a78accd2"
      },
      "source": [
        "fig, ax = plt.subplots(nrows = 2, ncols = 3, figsize = (18,11), sharey=True)\n",
        "fig.subplots_adjust(wspace=.2, hspace=.35)\n",
        "#sns.set(font_scale=.5)\n",
        "\n",
        "sns.scatterplot(x=data_ml.rooms, y=data_ml.price, ax=ax[0, 0], color='#69547C', )\n",
        "sns.scatterplot(x=data_ml.bathrooms, y=data_ml.price, ax=ax[0, 1], color='#69547C')\n",
        "sns.scatterplot(x=data_ml.surface_covered, y=data_ml.price, ax=ax[0, 2], color='#69547C')\n",
        "sns.scatterplot(x=data_ml.surface_total, y=data_ml.price, ax=ax[1, 0], color='#69547C')\n",
        "\n"
      ],
      "execution_count": 27,
      "outputs": [
        {
          "output_type": "execute_result",
          "data": {
            "text/plain": [
              "<matplotlib.axes._subplots.AxesSubplot at 0x7f59495a1a90>"
            ]
          },
          "metadata": {
            "tags": []
          },
          "execution_count": 27
        },
        {
          "output_type": "display_data",
          "data": {
            "image/png": "[encoded data removed]",
            "text/plain": [
              "<Figure size 1296x792 with 6 Axes>"
            ]
          },
          "metadata": {
            "tags": [],
            "needs_background": "light"
          }
        }
      ]
    },
    {
      "cell_type": "code",
      "metadata": {
        "id": "ddo0MfbbVRpE"
      },
      "source": [
        "data_ml.price = data_ml.price.map(np.log)"
      ],
      "execution_count": 28,
      "outputs": []
    },
    {
      "cell_type": "code",
      "metadata": {
        "colab": {
          "base_uri": "https://localhost:8080/",
          "height": 111
        },
        "id": "4PzzU3fxX438",
        "outputId": "5b7a00e9-4f9f-4028-b1f3-d2df5a0f13c7"
      },
      "source": [
        "data_ml.head(2)"
      ],
      "execution_count": 29,
      "outputs": [
        {
          "output_type": "execute_result",
          "data": {
            "text/html": [
              "<div>\n",
              "<style scoped>\n",
              "    .dataframe tbody tr th:only-of-type {\n",
              "        vertical-align: middle;\n",
              "    }\n",
              "\n",
              "    .dataframe tbody tr th {\n",
              "        vertical-align: top;\n",
              "    }\n",
              "\n",
              "    .dataframe thead th {\n",
              "        text-align: right;\n",
              "    }\n",
              "</style>\n",
              "<table border=\"1\" class=\"dataframe\">\n",
              "  <thead>\n",
              "    <tr style=\"text-align: right;\">\n",
              "      <th></th>\n",
              "      <th>l3</th>\n",
              "      <th>property_type</th>\n",
              "      <th>rooms</th>\n",
              "      <th>bathrooms</th>\n",
              "      <th>surface_total</th>\n",
              "      <th>surface_covered</th>\n",
              "      <th>price</th>\n",
              "    </tr>\n",
              "  </thead>\n",
              "  <tbody>\n",
              "    <tr>\n",
              "      <th>0</th>\n",
              "      <td>San Cristobal</td>\n",
              "      <td>Departamento</td>\n",
              "      <td>7.0</td>\n",
              "      <td>2.0</td>\n",
              "      <td>140.0</td>\n",
              "      <td>140.0</td>\n",
              "      <td>11.938193</td>\n",
              "    </tr>\n",
              "    <tr>\n",
              "      <th>1</th>\n",
              "      <td>Boedo</td>\n",
              "      <td>PH</td>\n",
              "      <td>2.0</td>\n",
              "      <td>2.0</td>\n",
              "      <td>70.0</td>\n",
              "      <td>58.0</td>\n",
              "      <td>11.976659</td>\n",
              "    </tr>\n",
              "  </tbody>\n",
              "</table>\n",
              "</div>"
            ],
            "text/plain": [
              "              l3 property_type  ...  surface_covered      price\n",
              "0  San Cristobal  Departamento  ...            140.0  11.938193\n",
              "1          Boedo            PH  ...             58.0  11.976659\n",
              "\n",
              "[2 rows x 7 columns]"
            ]
          },
          "metadata": {
            "tags": []
          },
          "execution_count": 29
        }
      ]
    },
    {
      "cell_type": "code",
      "metadata": {
        "colab": {
          "base_uri": "https://localhost:8080/"
        },
        "id": "ItTvH7XxZfoN",
        "outputId": "8e07ea00-ee11-4c29-e421-a291329adc07"
      },
      "source": [
        "data_ml._get_numeric_data().columns"
      ],
      "execution_count": 30,
      "outputs": [
        {
          "output_type": "execute_result",
          "data": {
            "text/plain": [
              "Index(['rooms', 'bathrooms', 'surface_total', 'surface_covered', 'price'], dtype='object')"
            ]
          },
          "metadata": {
            "tags": []
          },
          "execution_count": 30
        }
      ]
    },
    {
      "cell_type": "code",
      "metadata": {
        "id": "ubdn6pAxZ2j9"
      },
      "source": [
        "#Separo datos en X e Y\n",
        "X = data_ml[['rooms', 'bathrooms', 'surface_total', 'surface_covered']]\n",
        "Y = data_ml[['price']]"
      ],
      "execution_count": 47,
      "outputs": []
    },
    {
      "cell_type": "code",
      "metadata": {
        "colab": {
          "base_uri": "https://localhost:8080/"
        },
        "id": "uYN-WxcNgiDB",
        "outputId": "16d88d3c-9217-4334-ea51-46bba53f0503"
      },
      "source": [
        "X.shape, Y.shape"
      ],
      "execution_count": 48,
      "outputs": [
        {
          "output_type": "execute_result",
          "data": {
            "text/plain": [
              "((47776, 4), (47776, 1))"
            ]
          },
          "metadata": {
            "tags": []
          },
          "execution_count": 48
        }
      ]
    },
    {
      "cell_type": "markdown",
      "metadata": {
        "id": "bkz_2RAjaJ7a"
      },
      "source": [
        "# Polynomial Features"
      ]
    },
    {
      "cell_type": "code",
      "metadata": {
        "id": "GQQcUTjXaG_l"
      },
      "source": [
        "poly = PolynomialFeatures(degree=2)"
      ],
      "execution_count": 49,
      "outputs": []
    },
    {
      "cell_type": "code",
      "metadata": {
        "id": "RWpawkggaG8R"
      },
      "source": [
        "features_poly = poly.fit_transform(X)"
      ],
      "execution_count": 50,
      "outputs": []
    },
    {
      "cell_type": "code",
      "metadata": {
        "id": "yq57Y0mUaGe2"
      },
      "source": [
        "poly_df = pd.DataFrame(features_poly, columns=poly.get_feature_names())"
      ],
      "execution_count": 51,
      "outputs": []
    },
    {
      "cell_type": "code",
      "metadata": {
        "colab": {
          "base_uri": "https://localhost:8080/",
          "height": 111
        },
        "id": "CQ7guftjavR0",
        "outputId": "30f43cdd-de0b-4fbf-d599-5fa3f4784759"
      },
      "source": [
        "poly_df.head(2)"
      ],
      "execution_count": 52,
      "outputs": [
        {
          "output_type": "execute_result",
          "data": {
            "text/html": [
              "<div>\n",
              "<style scoped>\n",
              "    .dataframe tbody tr th:only-of-type {\n",
              "        vertical-align: middle;\n",
              "    }\n",
              "\n",
              "    .dataframe tbody tr th {\n",
              "        vertical-align: top;\n",
              "    }\n",
              "\n",
              "    .dataframe thead th {\n",
              "        text-align: right;\n",
              "    }\n",
              "</style>\n",
              "<table border=\"1\" class=\"dataframe\">\n",
              "  <thead>\n",
              "    <tr style=\"text-align: right;\">\n",
              "      <th></th>\n",
              "      <th>1</th>\n",
              "      <th>x0</th>\n",
              "      <th>x1</th>\n",
              "      <th>x2</th>\n",
              "      <th>x3</th>\n",
              "      <th>x0^2</th>\n",
              "      <th>x0 x1</th>\n",
              "      <th>x0 x2</th>\n",
              "      <th>x0 x3</th>\n",
              "      <th>x1^2</th>\n",
              "      <th>x1 x2</th>\n",
              "      <th>x1 x3</th>\n",
              "      <th>x2^2</th>\n",
              "      <th>x2 x3</th>\n",
              "      <th>x3^2</th>\n",
              "    </tr>\n",
              "  </thead>\n",
              "  <tbody>\n",
              "    <tr>\n",
              "      <th>0</th>\n",
              "      <td>1.0</td>\n",
              "      <td>7.0</td>\n",
              "      <td>2.0</td>\n",
              "      <td>140.0</td>\n",
              "      <td>140.0</td>\n",
              "      <td>49.0</td>\n",
              "      <td>14.0</td>\n",
              "      <td>980.0</td>\n",
              "      <td>980.0</td>\n",
              "      <td>4.0</td>\n",
              "      <td>280.0</td>\n",
              "      <td>280.0</td>\n",
              "      <td>19600.0</td>\n",
              "      <td>19600.0</td>\n",
              "      <td>19600.0</td>\n",
              "    </tr>\n",
              "    <tr>\n",
              "      <th>1</th>\n",
              "      <td>1.0</td>\n",
              "      <td>2.0</td>\n",
              "      <td>2.0</td>\n",
              "      <td>70.0</td>\n",
              "      <td>58.0</td>\n",
              "      <td>4.0</td>\n",
              "      <td>4.0</td>\n",
              "      <td>140.0</td>\n",
              "      <td>116.0</td>\n",
              "      <td>4.0</td>\n",
              "      <td>140.0</td>\n",
              "      <td>116.0</td>\n",
              "      <td>4900.0</td>\n",
              "      <td>4060.0</td>\n",
              "      <td>3364.0</td>\n",
              "    </tr>\n",
              "  </tbody>\n",
              "</table>\n",
              "</div>"
            ],
            "text/plain": [
              "     1   x0   x1     x2     x3  ...  x1 x2  x1 x3     x2^2    x2 x3     x3^2\n",
              "0  1.0  7.0  2.0  140.0  140.0  ...  280.0  280.0  19600.0  19600.0  19600.0\n",
              "1  1.0  2.0  2.0   70.0   58.0  ...  140.0  116.0   4900.0   4060.0   3364.0\n",
              "\n",
              "[2 rows x 15 columns]"
            ]
          },
          "metadata": {
            "tags": []
          },
          "execution_count": 52
        }
      ]
    },
    {
      "cell_type": "code",
      "metadata": {
        "colab": {
          "base_uri": "https://localhost:8080/"
        },
        "id": "P6BHEenBgywy",
        "outputId": "fbff8de1-45da-4f9b-ca66-a343b62ba25e"
      },
      "source": [
        "poly_df.shape"
      ],
      "execution_count": 54,
      "outputs": [
        {
          "output_type": "execute_result",
          "data": {
            "text/plain": [
              "(47776, 15)"
            ]
          },
          "metadata": {
            "tags": []
          },
          "execution_count": 54
        }
      ]
    },
    {
      "cell_type": "markdown",
      "metadata": {
        "id": "XbvGDi2_bHiE"
      },
      "source": [
        "## Escalado de Datos"
      ]
    },
    {
      "cell_type": "code",
      "metadata": {
        "id": "9SiBok0VbKS_"
      },
      "source": [
        "std = StandardScaler()"
      ],
      "execution_count": 55,
      "outputs": []
    },
    {
      "cell_type": "code",
      "metadata": {
        "colab": {
          "base_uri": "https://localhost:8080/"
        },
        "id": "XkTx5r7vbKPk",
        "outputId": "53e962d1-7ed8-41b4-af9c-934c4601925c"
      },
      "source": [
        "std.fit(poly_df)"
      ],
      "execution_count": 56,
      "outputs": [
        {
          "output_type": "execute_result",
          "data": {
            "text/plain": [
              "StandardScaler(copy=True, with_mean=True, with_std=True)"
            ]
          },
          "metadata": {
            "tags": []
          },
          "execution_count": 56
        }
      ]
    },
    {
      "cell_type": "code",
      "metadata": {
        "id": "wP5hpAOWbKJk"
      },
      "source": [
        "data_escalada = std.transform(poly_df)"
      ],
      "execution_count": 57,
      "outputs": []
    },
    {
      "cell_type": "code",
      "metadata": {
        "id": "kZ0vsngsg4QR"
      },
      "source": [
        "data_escalada = pd.DataFrame(data_escalada)"
      ],
      "execution_count": 59,
      "outputs": []
    },
    {
      "cell_type": "code",
      "metadata": {
        "colab": {
          "base_uri": "https://localhost:8080/"
        },
        "id": "Amflu_5rg81f",
        "outputId": "33d79656-faf7-4332-e12c-88c40fcac743"
      },
      "source": [
        "data_escalada.shape"
      ],
      "execution_count": 60,
      "outputs": [
        {
          "output_type": "execute_result",
          "data": {
            "text/plain": [
              "(47776, 15)"
            ]
          },
          "metadata": {
            "tags": []
          },
          "execution_count": 60
        }
      ]
    },
    {
      "cell_type": "markdown",
      "metadata": {
        "id": "kT8moJ5rd7Sb"
      },
      "source": [
        "##Enconding"
      ]
    },
    {
      "cell_type": "code",
      "metadata": {
        "id": "ZYp7VCVBd-Hk"
      },
      "source": [
        "l3 = data_ml['l3']"
      ],
      "execution_count": 61,
      "outputs": []
    },
    {
      "cell_type": "code",
      "metadata": {
        "id": "3gWbO2hOeHT4"
      },
      "source": [
        "l3_get = pd.get_dummies(l3, prefix=('x'))"
      ],
      "execution_count": 62,
      "outputs": []
    },
    {
      "cell_type": "code",
      "metadata": {
        "id": "ezSOg_W3kls2"
      },
      "source": [
        "data_escalada.reset_index(drop=True, inplace=True)\n",
        "l3_get.reset_index(drop=True, inplace=True)"
      ],
      "execution_count": 106,
      "outputs": []
    },
    {
      "cell_type": "code",
      "metadata": {
        "colab": {
          "base_uri": "https://localhost:8080/"
        },
        "id": "UHEseThfhMoY",
        "outputId": "1757668a-4cdb-4af1-b02a-cba583313a5e"
      },
      "source": [
        "data_escalada.shape, l3_get.shape"
      ],
      "execution_count": 107,
      "outputs": [
        {
          "output_type": "execute_result",
          "data": {
            "text/plain": [
              "((47776, 15), (47776, 57))"
            ]
          },
          "metadata": {
            "tags": []
          },
          "execution_count": 107
        }
      ]
    },
    {
      "cell_type": "code",
      "metadata": {
        "id": "lujvXzzPiI4i"
      },
      "source": [
        "data_eda = pd.merge(data_escalada, l3_get, how='left', left_index=True, right_index=True)"
      ],
      "execution_count": 110,
      "outputs": []
    },
    {
      "cell_type": "markdown",
      "metadata": {
        "id": "W8TAgNlqbum9"
      },
      "source": [
        "##Modelos"
      ]
    },
    {
      "cell_type": "code",
      "metadata": {
        "id": "AbrxS_bBbY2s"
      },
      "source": [
        "X_train, X_test, y_train, y_test = train_test_split(data_eda, Y,\n",
        "                                                    test_size=0.25,\n",
        "                                                    random_state=40)"
      ],
      "execution_count": 111,
      "outputs": []
    },
    {
      "cell_type": "code",
      "metadata": {
        "id": "vALcnbwhcu9I"
      },
      "source": [
        "def evaluar_modelo(modelo,X_train,X_test,y_train,y_test):\n",
        "    modelo.fit(X_train,y_train)\n",
        "    print (\"R2 del modelo  en train:\", modelo.score(X_train,y_train) )\n",
        "    print('RMSE en train:',np.sqrt(mean_squared_error(y_train, modelo.predict(X_train))))\n",
        "    print (\"R2 del modelo en test:\", modelo.score(X_test,y_test) )\n",
        "    print('RMSE en test:',np.sqrt(mean_squared_error(y_test, modelo.predict(X_test))))"
      ],
      "execution_count": 114,
      "outputs": []
    },
    {
      "cell_type": "code",
      "metadata": {
        "id": "eBN_VMysbYyi"
      },
      "source": [
        "linear = LinearRegression()"
      ],
      "execution_count": 113,
      "outputs": []
    },
    {
      "cell_type": "code",
      "metadata": {
        "colab": {
          "base_uri": "https://localhost:8080/"
        },
        "id": "7NPGZu4fcu3j",
        "outputId": "945550e8-5147-4e46-80bd-b71a974184ad"
      },
      "source": [
        "evaluar_modelo(linear, X_train, X_test, y_train, y_test)"
      ],
      "execution_count": 115,
      "outputs": [
        {
          "output_type": "stream",
          "text": [
            "R2 del modelo  en train: 0.8357361102605454\n",
            "RMSE en train: 0.27918243323697634\n",
            "R2 del modelo en test: 0.8370873935792614\n",
            "RMSE en test: 0.27593303933512336\n"
          ],
          "name": "stdout"
        }
      ]
    },
    {
      "cell_type": "code",
      "metadata": {
        "id": "SerMK5ZYdCQB"
      },
      "source": [
        "ridge = RidgeCV()"
      ],
      "execution_count": 116,
      "outputs": []
    },
    {
      "cell_type": "code",
      "metadata": {
        "colab": {
          "base_uri": "https://localhost:8080/"
        },
        "id": "a_xUdWindB9n",
        "outputId": "d8dcf388-664e-4f63-df08-141ec116dc64"
      },
      "source": [
        "evaluar_modelo(ridge, X_train, X_test, y_train, y_test)"
      ],
      "execution_count": 117,
      "outputs": [
        {
          "output_type": "stream",
          "text": [
            "R2 del modelo  en train: 0.8357339341042005\n",
            "RMSE en train: 0.27918428252537525\n",
            "R2 del modelo en test: 0.8370984984667171\n",
            "RMSE en test: 0.2759236347296914\n"
          ],
          "name": "stdout"
        }
      ]
    },
    {
      "cell_type": "code",
      "metadata": {
        "id": "y8_VkfmAdSTY"
      },
      "source": [
        "lasso = LassoCV()"
      ],
      "execution_count": 118,
      "outputs": []
    },
    {
      "cell_type": "code",
      "metadata": {
        "colab": {
          "base_uri": "https://localhost:8080/"
        },
        "id": "jpzfovnRdRG-",
        "outputId": "6f28a21b-69d3-47ce-c4b0-ec10fc708568"
      },
      "source": [
        "evaluar_modelo(lasso, X_train, X_test, y_train, y_test)"
      ],
      "execution_count": 119,
      "outputs": [
        {
          "output_type": "stream",
          "text": [
            "R2 del modelo  en train: 0.8321731158935399\n",
            "RMSE en train: 0.2821940174983779\n",
            "R2 del modelo en test: 0.8334610046816809\n",
            "RMSE en test: 0.2789872325172459\n"
          ],
          "name": "stdout"
        }
      ]
    },
    {
      "cell_type": "markdown",
      "metadata": {
        "id": "RjdcDTtpMCuh"
      },
      "source": [
        "## Escalado de Datos\n"
      ]
    },
    {
      "cell_type": "code",
      "metadata": {
        "id": "AMzKtPr0MGm_"
      },
      "source": [
        "X_escalada = data_ml[['rooms', 'bathrooms', 'surface_total', 'surface_covered']]\n",
        "Y_escalada = data_ml[['price']]"
      ],
      "execution_count": null,
      "outputs": []
    },
    {
      "cell_type": "code",
      "metadata": {
        "id": "iOO2lHY8MbJM"
      },
      "source": [
        "std = StandardScaler()\n",
        "#Entreno el modelo\n",
        "std.fit(X_escalada)"
      ],
      "execution_count": null,
      "outputs": []
    },
    {
      "cell_type": "code",
      "metadata": {
        "id": "k0nnxlg8MvlB"
      },
      "source": [
        "#Escalado\n",
        "X_escalada_new = std.transform(X_escalada)"
      ],
      "execution_count": null,
      "outputs": []
    },
    {
      "cell_type": "code",
      "metadata": {
        "id": "sxTzunKoM3xe"
      },
      "source": [
        "#Convierto a Dataframe\n",
        "X_escalada_new = pd.DataFrame(data=X_escalada_new, columns=['rooms', 'bathrooms','surface_total','surface_covered'])"
      ],
      "execution_count": null,
      "outputs": []
    },
    {
      "cell_type": "code",
      "metadata": {
        "id": "bZbq_ohiOhyO"
      },
      "source": [
        "X_escalada_new.head(2)"
      ],
      "execution_count": null,
      "outputs": []
    },
    {
      "cell_type": "code",
      "metadata": {
        "id": "BSmHnX3fPj9q"
      },
      "source": [
        "std.fit(Y_escalada)\n",
        "Y_escalada_new = std.transform(Y_escalada)"
      ],
      "execution_count": null,
      "outputs": []
    },
    {
      "cell_type": "code",
      "metadata": {
        "id": "ivEwUKfLPjor"
      },
      "source": [
        "Y_escalada_new = pd.DataFrame(data=Y_escalada_new, columns=['price'])"
      ],
      "execution_count": null,
      "outputs": []
    },
    {
      "cell_type": "markdown",
      "metadata": {
        "id": "lz1XTgM6N9j3"
      },
      "source": [
        "##Eliminar Outliers"
      ]
    },
    {
      "cell_type": "code",
      "metadata": {
        "id": "bMf_hJh-N_ay"
      },
      "source": [
        "def limpiar_dataframe(dataframe, columna):\n",
        "    q25, q75 = np.percentile(dataframe[columna], [25, 75])\n",
        "    iqr = q75 - q25\n",
        "    if (q25 -(1.5 * iqr)) < 0:\n",
        "        IQMenor = 0.0\n",
        "    else:\n",
        "        IQMenor = float(q25 - (1.5 * iqr))\n",
        "\n",
        "    IQMayor = float(q75 + (1.5 * iqr))\n",
        "    \n",
        "    dataframe = dataframe[(dataframe[columna] > IQMenor ) &\n",
        "        (dataframe[columna] < IQMayor)]\n",
        "    \n",
        "    return dataframe"
      ],
      "execution_count": null,
      "outputs": []
    },
    {
      "cell_type": "code",
      "metadata": {
        "id": "OB-JXd3FOJwe"
      },
      "source": [
        "data_columnas = ['rooms','bathrooms','surface_total','surface_covered']\n",
        "for i in data_columnas:\n",
        "    X_escalada_new = limpiar_dataframe(X_escalada,i)"
      ],
      "execution_count": null,
      "outputs": []
    },
    {
      "cell_type": "code",
      "metadata": {
        "id": "5EhpFewBOSMq"
      },
      "source": [
        "sns.kdeplot((X_escalada_new['surface_total']))"
      ],
      "execution_count": null,
      "outputs": []
    },
    {
      "cell_type": "code",
      "metadata": {
        "id": "k4m_dMuhOyIl"
      },
      "source": [
        "sns.kdeplot((X_escalada_new['rooms']))"
      ],
      "execution_count": null,
      "outputs": []
    },
    {
      "cell_type": "code",
      "metadata": {
        "id": "e699mXtaO776"
      },
      "source": [
        "sns.kdeplot((X_escalada_new['surface_total']))\n",
        "sns.kdeplot((X_escalada_new['rooms']))\n",
        "sns.kdeplot((X_escalada_new['bathrooms']))\n",
        "sns.kdeplot((X_escalada_new['surface_covered']))\n",
        "plt.title('Rango de valores Datos Escalados')"
      ],
      "execution_count": null,
      "outputs": []
    },
    {
      "cell_type": "code",
      "metadata": {
        "id": "90UfOozPPIX6"
      },
      "source": [
        ""
      ],
      "execution_count": null,
      "outputs": []
    }
  ]
}