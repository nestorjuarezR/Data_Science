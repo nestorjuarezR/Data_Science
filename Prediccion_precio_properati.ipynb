{
  "nbformat": 4,
  "nbformat_minor": 0,
  "metadata": {
    "colab": {
      "name": "Prediccion_precio_properati.ipynb",
      "provenance": [],
      "collapsed_sections": [],
      "mount_file_id": "19Tchu3UACE6OpVohelPQDD3qcYeCzFUd",
      "authorship_tag": "ABX9TyPjTey98hn+a3BZCLjO4LbX"
    },
    "kernelspec": {
      "name": "python3",
      "display_name": "Python 3"
    }
  },
  "cells": [
    {
      "cell_type": "code",
      "metadata": {
        "id": "zNvxGE_yFvIs"
      },
      "source": [
        "import numpy as np\n",
        "import pandas as pd\n",
        "import matplotlib.pyplot as plt\n",
        "import seaborn as sns\n",
        "\n",
        "#Escalado de datos\n",
        "from sklearn.preprocessing import StandardScaler\n",
        "#PCA\n",
        "from sklearn.decomposition import PCA\n",
        "\n",
        "#Train_test_split\n",
        "from sklearn.model_selection import train_test_split\n",
        "\n",
        "#Metricas\n",
        "from sklearn.metrics import mean_squared_error\n",
        "from sklearn.metrics import mean_absolute_error\n",
        "\n",
        "#DecisionTreeRegressor\n",
        "from sklearn.tree import DecisionTreeRegressor\n",
        "\n",
        "#Regresion Lineal\n",
        "from sklearn.linear_model import LinearRegression, Ridge, Lasso\n",
        "\n",
        "#PolynomialFeatures\n",
        "from sklearn.preprocessing import PolynomialFeatures\n",
        "\n",
        "#Validacion cruzada\n",
        "from sklearn.model_selection import cross_val_score\n",
        "\n",
        "#GridSearchCV\n",
        "from sklearn.model_selection import GridSearchCV\n",
        "\n",
        "#Bagging\n",
        "from sklearn.neighbors import KNeighborsRegressor\n",
        "from sklearn.ensemble import BaggingRegressor\n",
        "\n",
        "import warnings\n",
        "warnings.filterwarnings('ignore')"
      ],
      "execution_count": 1,
      "outputs": []
    },
    {
      "cell_type": "code",
      "metadata": {
        "id": "iNhvH9v9mdQ1"
      },
      "source": [
        "url = '/content/drive/MyDrive/Data/properati.csv'"
      ],
      "execution_count": 2,
      "outputs": []
    },
    {
      "cell_type": "code",
      "metadata": {
        "id": "oKAORuuIp24U",
        "colab": {
          "base_uri": "https://localhost:8080/",
          "height": 267
        },
        "outputId": "d7cef940-eda8-426d-b36b-0bd9cef7f668"
      },
      "source": [
        "data = pd.read_csv(url)\n",
        "data.head(2)"
      ],
      "execution_count": 3,
      "outputs": [
        {
          "output_type": "execute_result",
          "data": {
            "text/html": [
              "<div>\n",
              "<style scoped>\n",
              "    .dataframe tbody tr th:only-of-type {\n",
              "        vertical-align: middle;\n",
              "    }\n",
              "\n",
              "    .dataframe tbody tr th {\n",
              "        vertical-align: top;\n",
              "    }\n",
              "\n",
              "    .dataframe thead th {\n",
              "        text-align: right;\n",
              "    }\n",
              "</style>\n",
              "<table border=\"1\" class=\"dataframe\">\n",
              "  <thead>\n",
              "    <tr style=\"text-align: right;\">\n",
              "      <th></th>\n",
              "      <th>start_date</th>\n",
              "      <th>end_date</th>\n",
              "      <th>created_on</th>\n",
              "      <th>lat</th>\n",
              "      <th>lon</th>\n",
              "      <th>l1</th>\n",
              "      <th>l2</th>\n",
              "      <th>l3</th>\n",
              "      <th>rooms</th>\n",
              "      <th>bedrooms</th>\n",
              "      <th>bathrooms</th>\n",
              "      <th>surface_total</th>\n",
              "      <th>surface_covered</th>\n",
              "      <th>price</th>\n",
              "      <th>currency</th>\n",
              "      <th>title</th>\n",
              "      <th>description</th>\n",
              "      <th>property_type</th>\n",
              "      <th>operation_type</th>\n",
              "    </tr>\n",
              "  </thead>\n",
              "  <tbody>\n",
              "    <tr>\n",
              "      <th>0</th>\n",
              "      <td>2019-10-17</td>\n",
              "      <td>2019-12-23</td>\n",
              "      <td>2019-10-17</td>\n",
              "      <td>-34.605880</td>\n",
              "      <td>-58.384949</td>\n",
              "      <td>Argentina</td>\n",
              "      <td>Capital Federal</td>\n",
              "      <td>San Cristobal</td>\n",
              "      <td>7.0</td>\n",
              "      <td>7.0</td>\n",
              "      <td>2.0</td>\n",
              "      <td>140.0</td>\n",
              "      <td>140.0</td>\n",
              "      <td>153000.0</td>\n",
              "      <td>USD</td>\n",
              "      <td>***Venta semipiso centro, ideal hostel*****</td>\n",
              "      <td>DESCRIPCION DE LA PROPIEDAD: Departamento de 1...</td>\n",
              "      <td>Departamento</td>\n",
              "      <td>Venta</td>\n",
              "    </tr>\n",
              "    <tr>\n",
              "      <th>1</th>\n",
              "      <td>2019-10-17</td>\n",
              "      <td>2019-11-21</td>\n",
              "      <td>2019-10-17</td>\n",
              "      <td>-34.624056</td>\n",
              "      <td>-58.412110</td>\n",
              "      <td>Argentina</td>\n",
              "      <td>Capital Federal</td>\n",
              "      <td>Boedo</td>\n",
              "      <td>2.0</td>\n",
              "      <td>1.0</td>\n",
              "      <td>2.0</td>\n",
              "      <td>70.0</td>\n",
              "      <td>58.0</td>\n",
              "      <td>159000.0</td>\n",
              "      <td>USD</td>\n",
              "      <td>Espectacular PH reciclado en Boedo sin expensas.</td>\n",
              "      <td>PH reciclado en Boedo a una cuadra de la plaz...</td>\n",
              "      <td>PH</td>\n",
              "      <td>Venta</td>\n",
              "    </tr>\n",
              "  </tbody>\n",
              "</table>\n",
              "</div>"
            ],
            "text/plain": [
              "   start_date    end_date  ... property_type  operation_type\n",
              "0  2019-10-17  2019-12-23  ...  Departamento           Venta\n",
              "1  2019-10-17  2019-11-21  ...            PH           Venta\n",
              "\n",
              "[2 rows x 19 columns]"
            ]
          },
          "metadata": {
            "tags": []
          },
          "execution_count": 3
        }
      ]
    },
    {
      "cell_type": "code",
      "metadata": {
        "id": "-qvo0mSWqEF6",
        "colab": {
          "base_uri": "https://localhost:8080/"
        },
        "outputId": "3c22bc8f-8719-44d0-9961-fc6fbc2b3d99"
      },
      "source": [
        "print('El data set de inicio tiene',data.shape[0], ' filas y', data.shape[1], 'columnas')"
      ],
      "execution_count": 4,
      "outputs": [
        {
          "output_type": "stream",
          "text": [
            "El data set de inicio tiene 146660  filas y 19 columnas\n"
          ],
          "name": "stdout"
        }
      ]
    },
    {
      "cell_type": "code",
      "metadata": {
        "colab": {
          "base_uri": "https://localhost:8080/",
          "height": 586
        },
        "id": "Ui3w_QyWSf6H",
        "outputId": "cf9faf7b-9807-41d3-f2b7-e0760c79eea7"
      },
      "source": [
        "sns.set({'figure.figsize':(11,8)})\n",
        "plt.xticks(rotation=50)\n",
        "plt.title('Tipos de propiedad registradas')\n",
        "sns.countplot(\n",
        "    data = data,\n",
        "    x = \"property_type\",\n",
        "    order = data['property_type'].value_counts().index\n",
        ")"
      ],
      "execution_count": 5,
      "outputs": [
        {
          "output_type": "execute_result",
          "data": {
            "text/plain": [
              "<matplotlib.axes._subplots.AxesSubplot at 0x7f3479762be0>"
            ]
          },
          "metadata": {
            "tags": []
          },
          "execution_count": 5
        },
        {
          "output_type": "display_data",
          "data": {
            "image/png": "[encoded data removed]",
            "text/plain": [
              "<Figure size 792x576 with 1 Axes>"
            ]
          },
          "metadata": {
            "tags": []
          }
        }
      ]
    },
    {
      "cell_type": "markdown",
      "metadata": {
        "id": "0lafrIHhSvvs"
      },
      "source": [
        "3 tipos de propiedad predominan los registros, siendo Departamento el tipo de propiedad que presenta mayor registros"
      ]
    },
    {
      "cell_type": "code",
      "metadata": {
        "colab": {
          "base_uri": "https://localhost:8080/",
          "height": 623
        },
        "id": "oU_cH5UsWKdh",
        "outputId": "31eb6202-7d90-4de2-a139-094a770bbf7d"
      },
      "source": [
        "#Grafico de Regiones registradas en l2\n",
        "plt.rcParams['figure.figsize']=(10,10)\n",
        "sns.countplot(x='l2', data=data, order = data['l2'].value_counts().index)"
      ],
      "execution_count": 6,
      "outputs": [
        {
          "output_type": "execute_result",
          "data": {
            "text/plain": [
              "<matplotlib.axes._subplots.AxesSubplot at 0x7f3479762630>"
            ]
          },
          "metadata": {
            "tags": []
          },
          "execution_count": 6
        },
        {
          "output_type": "display_data",
          "data": {
            "image/png": "[encoded data removed]",
            "text/plain": [
              "<Figure size 720x720 with 1 Axes>"
            ]
          },
          "metadata": {
            "tags": []
          }
        }
      ]
    },
    {
      "cell_type": "markdown",
      "metadata": {
        "id": "uaSfH9YjWQ8N"
      },
      "source": [
        "Con base en el grafico la region que predomina en los registros de propiedad es Capital Federal"
      ]
    },
    {
      "cell_type": "code",
      "metadata": {
        "id": "sPm5VuvuqiiO"
      },
      "source": [
        "#Filtrado de Datos\n",
        "data_ml=data[(data.l2 == 'Capital Federal') & (data.property_type.isin(['Departamento', 'Casa', 'PH']))]\n",
        "data_ml = data_ml[(data_ml.surface_total >= 15)] \n",
        "data_ml = data_ml[(data_ml.surface_total <= 1000)]\n",
        "data_ml = data_ml[(data_ml.price <= 4000000 )]  \n",
        "data_ml = data_ml[['l3','property_type','rooms', 'bathrooms', 'surface_total', 'surface_covered', 'price']]"
      ],
      "execution_count": 7,
      "outputs": []
    },
    {
      "cell_type": "code",
      "metadata": {
        "colab": {
          "base_uri": "https://localhost:8080/"
        },
        "id": "zaINJ2KIsXXA",
        "outputId": "859bd53a-beec-4251-bdf5-e101daaaafb6"
      },
      "source": [
        "print('El dataset filtrado contiene',data_ml.shape[0], ' filas y', data_ml.shape[1], 'columnas')"
      ],
      "execution_count": 8,
      "outputs": [
        {
          "output_type": "stream",
          "text": [
            "El dataset filtrado contiene 82373  filas y 7 columnas\n"
          ],
          "name": "stdout"
        }
      ]
    },
    {
      "cell_type": "code",
      "metadata": {
        "id": "15rmgCFhtpVl"
      },
      "source": [
        "#Valores nulos\n",
        "def valores_nulos(data):\n",
        "  print('Porcentaje de valores nulos')\n",
        "  print(data.isnull().sum() / data.shape[0] * 100)"
      ],
      "execution_count": 9,
      "outputs": []
    },
    {
      "cell_type": "code",
      "metadata": {
        "colab": {
          "base_uri": "https://localhost:8080/"
        },
        "id": "leWi7ZVcvA_p",
        "outputId": "d35d9fa6-2c74-42a2-caf6-8eee7c464af7"
      },
      "source": [
        "valores_nulos(data_ml)"
      ],
      "execution_count": 10,
      "outputs": [
        {
          "output_type": "stream",
          "text": [
            "Porcentaje de valores nulos\n",
            "l3                 0.000000\n",
            "property_type      0.000000\n",
            "rooms              0.000000\n",
            "bathrooms          1.068311\n",
            "surface_total      0.000000\n",
            "surface_covered    0.627633\n",
            "price              0.000000\n",
            "dtype: float64\n"
          ],
          "name": "stdout"
        }
      ]
    },
    {
      "cell_type": "code",
      "metadata": {
        "colab": {
          "base_uri": "https://localhost:8080/"
        },
        "id": "uKiv1XLRtyPg",
        "outputId": "b474c397-1c03-42a4-98b4-9ba1fe77b051"
      },
      "source": [
        "#Compruebo la presencia de valores invertidos en columnas surface\n",
        "datos_invertidos= data_ml.loc[data_ml.surface_total < data_ml.surface_covered]\n",
        "print('Existen', len(datos_invertidos),'datos invertidos')"
      ],
      "execution_count": 11,
      "outputs": [
        {
          "output_type": "stream",
          "text": [
            "Existen 751 datos invertidos\n"
          ],
          "name": "stdout"
        }
      ]
    },
    {
      "cell_type": "code",
      "metadata": {
        "id": "j4_ojsmruKsT"
      },
      "source": [
        "#Filtrado de datos invertidos\n",
        "data_ml = data_ml[(data_ml.surface_total >= data_ml.surface_covered)] "
      ],
      "execution_count": 12,
      "outputs": []
    },
    {
      "cell_type": "code",
      "metadata": {
        "colab": {
          "base_uri": "https://localhost:8080/"
        },
        "id": "DkEaKcFdu1pM",
        "outputId": "671124cf-dbcc-4f96-8264-f87aea6d9867"
      },
      "source": [
        "#Comprobar valores nulos con el nuevo filtrado\n",
        "valores_nulos(data_ml)"
      ],
      "execution_count": 13,
      "outputs": [
        {
          "output_type": "stream",
          "text": [
            "Porcentaje de valores nulos\n",
            "l3                 0.000000\n",
            "property_type      0.000000\n",
            "rooms              0.000000\n",
            "bathrooms          1.022132\n",
            "surface_total      0.000000\n",
            "surface_covered    0.000000\n",
            "price              0.000000\n",
            "dtype: float64\n"
          ],
          "name": "stdout"
        }
      ]
    },
    {
      "cell_type": "code",
      "metadata": {
        "id": "ERzu4JDivMr3"
      },
      "source": [
        "#Realizo una copia que mas adelante se empleara\n",
        "data_2 = data_ml.copy()"
      ],
      "execution_count": 14,
      "outputs": []
    },
    {
      "cell_type": "code",
      "metadata": {
        "id": "rICOd8UDvlqv"
      },
      "source": [
        "#Limpieza de valores nulos\n",
        "data_ml.dropna(axis=0, inplace=True)\n",
        "#Reset de index\n",
        "data_ml.reset_index(drop=True, inplace=True)"
      ],
      "execution_count": 15,
      "outputs": []
    },
    {
      "cell_type": "code",
      "metadata": {
        "colab": {
          "base_uri": "https://localhost:8080/"
        },
        "id": "PDpRFv-Tvz4b",
        "outputId": "89b3c7df-e292-41f5-ef67-7614f4a711ea"
      },
      "source": [
        "valores_nulos(data_ml)"
      ],
      "execution_count": 16,
      "outputs": [
        {
          "output_type": "stream",
          "text": [
            "Porcentaje de valores nulos\n",
            "l3                 0.0\n",
            "property_type      0.0\n",
            "rooms              0.0\n",
            "bathrooms          0.0\n",
            "surface_total      0.0\n",
            "surface_covered    0.0\n",
            "price              0.0\n",
            "dtype: float64\n"
          ],
          "name": "stdout"
        }
      ]
    },
    {
      "cell_type": "markdown",
      "metadata": {
        "id": "cpXD43DLwUpk"
      },
      "source": [
        "## Outliers"
      ]
    },
    {
      "cell_type": "code",
      "metadata": {
        "colab": {
          "base_uri": "https://localhost:8080/",
          "height": 896
        },
        "id": "ib4HJEh-xJtg",
        "outputId": "7a09d299-666f-4b05-c1e4-9418174cfa24"
      },
      "source": [
        "figura = plt.figure(figsize=(10,15))\n",
        "ax1 = figura.add_subplot(2,3,1)\n",
        "ax2 = figura.add_subplot(2,3,2)\n",
        "ax3 = figura.add_subplot(2,3,3)\n",
        "ax4 = figura.add_subplot(2,3,4)\n",
        "ax5 = figura.add_subplot(2,3,5)\n",
        "\n",
        "ax1.boxplot(data_ml['rooms'])\n",
        "ax1.set_title('Outliers en rooms')\n",
        "\n",
        "ax2.boxplot(data_ml['bathrooms'])\n",
        "ax2.set_title('Outliers en bathrooms')\n",
        "\n",
        "ax3.boxplot(data_ml['surface_total'])\n",
        "ax3.set_title('Outliers en Surface_total')\n",
        "\n",
        "ax4.boxplot(data_ml['surface_covered'])\n",
        "ax4.set_title('Outliers en Surface_covered')\n",
        "\n",
        "ax5.boxplot(data_ml['price'])\n",
        "ax5.set_title('Outliers en Price')"
      ],
      "execution_count": 17,
      "outputs": [
        {
          "output_type": "execute_result",
          "data": {
            "text/plain": [
              "Text(0.5, 1.0, 'Outliers en Price')"
            ]
          },
          "metadata": {
            "tags": []
          },
          "execution_count": 17
        },
        {
          "output_type": "display_data",
          "data": {
            "image/png": "[encoded data removed]",
            "text/plain": [
              "<Figure size 720x1080 with 5 Axes>"
            ]
          },
          "metadata": {
            "tags": []
          }
        }
      ]
    },
    {
      "cell_type": "code",
      "metadata": {
        "id": "Y-OLxrHyyMfu"
      },
      "source": [
        "'''Limpieza de outliers'''\n",
        "def limpiar_dataframe(dataframe, columna):\n",
        "    q25, q75 = np.percentile(dataframe[columna], [25, 75])\n",
        "    iqr = q75 - q25\n",
        "    if (q25 -(1.5 * iqr)) < 0:\n",
        "        IQMenor = 0.0\n",
        "    else:\n",
        "        IQMenor = float(q25 - (1.5 * iqr))\n",
        "\n",
        "    IQMayor = float(q75 + (1.5 * iqr))\n",
        "    \n",
        "    dataframe = dataframe[(dataframe[columna] > IQMenor ) &\n",
        "        (dataframe[columna] < IQMayor)]\n",
        "    \n",
        "    return dataframe"
      ],
      "execution_count": 18,
      "outputs": []
    },
    {
      "cell_type": "code",
      "metadata": {
        "id": "0PS3Zp9w_tx8"
      },
      "source": [
        "data_columnas = ['rooms','bathrooms','surface_total','surface_covered','price']\n",
        "for i in data_columnas:\n",
        "    data_ml = limpiar_dataframe(data_ml,i)\n",
        "data_ml.reset_index(drop=True, inplace=True)"
      ],
      "execution_count": 19,
      "outputs": []
    },
    {
      "cell_type": "code",
      "metadata": {
        "colab": {
          "base_uri": "https://localhost:8080/",
          "height": 896
        },
        "id": "TzF1PCCs_xnf",
        "outputId": "1eecb8de-10cf-40fc-96b2-555c449df723"
      },
      "source": [
        "#Presencia de Outliers\n",
        "figura = plt.figure(figsize=(10,15))\n",
        "ax1 = figura.add_subplot(2,3,1)\n",
        "ax2 = figura.add_subplot(2,3,2)\n",
        "ax3 = figura.add_subplot(2,3,3)\n",
        "ax4 = figura.add_subplot(2,3,4)\n",
        "ax5 = figura.add_subplot(2,3,5)\n",
        "\n",
        "ax1.boxplot(data_ml['rooms'])\n",
        "ax1.set_title('Outliers en rooms')\n",
        "\n",
        "ax2.boxplot(data_ml['bathrooms'])\n",
        "ax2.set_title('Outliers en bathrooms')\n",
        "\n",
        "ax3.boxplot(data_ml['surface_total'])\n",
        "ax3.set_title('Outliers en Surface_total')\n",
        "\n",
        "ax4.boxplot(data_ml['surface_covered'])\n",
        "ax4.set_title('Outliers en Surface_covered')\n",
        "\n",
        "ax5.boxplot(data_ml['price'])\n",
        "ax5.set_title('Outliers en Price')"
      ],
      "execution_count": 20,
      "outputs": [
        {
          "output_type": "execute_result",
          "data": {
            "text/plain": [
              "Text(0.5, 1.0, 'Outliers en Price')"
            ]
          },
          "metadata": {
            "tags": []
          },
          "execution_count": 20
        },
        {
          "output_type": "display_data",
          "data": {
            "image/png": "[encoded data removed]",
            "text/plain": [
              "<Figure size 720x1080 with 5 Axes>"
            ]
          },
          "metadata": {
            "tags": []
          }
        }
      ]
    },
    {
      "cell_type": "markdown",
      "metadata": {
        "id": "OsDcC-NKBgdc"
      },
      "source": [
        "# Imputacion de valores faltantes\n",
        "\n",
        "Para la imputacion de valores faltantes, empleare el dataset \"data_ml\" ya que este no cuenta con valores nulos, duplicados o valores atipicos. Imputare los valores faltantes de mi dataset \"data_2\" empleando la media obtenia segun las variables seleccionadas de mi \"data_ml\""
      ]
    },
    {
      "cell_type": "code",
      "metadata": {
        "colab": {
          "base_uri": "https://localhost:8080/"
        },
        "id": "5o38tHF_BgEb",
        "outputId": "07d9d225-6e5d-49e1-d777-807df1fa6630"
      },
      "source": [
        "#Valores nulos en data_2\n",
        "valores_nulos(data_2)"
      ],
      "execution_count": 21,
      "outputs": [
        {
          "output_type": "stream",
          "text": [
            "Porcentaje de valores nulos\n",
            "l3                 0.000000\n",
            "property_type      0.000000\n",
            "rooms              0.000000\n",
            "bathrooms          1.022132\n",
            "surface_total      0.000000\n",
            "surface_covered    0.000000\n",
            "price              0.000000\n",
            "dtype: float64\n"
          ],
          "name": "stdout"
        }
      ]
    },
    {
      "cell_type": "code",
      "metadata": {
        "colab": {
          "base_uri": "https://localhost:8080/"
        },
        "id": "BH-7Ms4eBf5h",
        "outputId": "fa4d4907-9b57-4528-b97f-7d391dc65adb"
      },
      "source": [
        "#Obtengo la media de bathrooms en funcion de tipo de propiedad\n",
        "mean_bt = data_ml.groupby('property_type')['bathrooms'].mean().round(0)\n",
        "#Converion a diccionario\n",
        "mean_bt = dict(round(mean_bt))\n",
        "mean_bt"
      ],
      "execution_count": 22,
      "outputs": [
        {
          "output_type": "execute_result",
          "data": {
            "text/plain": [
              "{'Casa': 2.0, 'Departamento': 1.0, 'PH': 1.0}"
            ]
          },
          "metadata": {
            "tags": []
          },
          "execution_count": 22
        }
      ]
    },
    {
      "cell_type": "code",
      "metadata": {
        "id": "8XdbBP_pBfoj"
      },
      "source": [
        "#Imputacion de valores nulos\n",
        "data_2.bathrooms = data_2.bathrooms.fillna(data_2.property_type.map(mean_bt))"
      ],
      "execution_count": 23,
      "outputs": []
    },
    {
      "cell_type": "code",
      "metadata": {
        "colab": {
          "base_uri": "https://localhost:8080/"
        },
        "id": "vncW14IPCj2f",
        "outputId": "178bbfdc-cd11-40f5-e141-02d202c40556"
      },
      "source": [
        "valores_nulos(data_2)"
      ],
      "execution_count": 24,
      "outputs": [
        {
          "output_type": "stream",
          "text": [
            "Porcentaje de valores nulos\n",
            "l3                 0.0\n",
            "property_type      0.0\n",
            "rooms              0.0\n",
            "bathrooms          0.0\n",
            "surface_total      0.0\n",
            "surface_covered    0.0\n",
            "price              0.0\n",
            "dtype: float64\n"
          ],
          "name": "stdout"
        }
      ]
    },
    {
      "cell_type": "markdown",
      "metadata": {
        "id": "O159QAteDSPw"
      },
      "source": [
        "# Outliers\n",
        "\n",
        "Ya que no cuento con valores nulos, realizo la elimiación de valores atipicos en mi dataset de trabajo \"data_2\""
      ]
    },
    {
      "cell_type": "code",
      "metadata": {
        "id": "ofGcemDPC0oP"
      },
      "source": [
        "data_columnas = ['rooms','bathrooms','surface_total','surface_covered','price']\n",
        "for i in data_columnas:\n",
        "    data_2 = limpiar_dataframe(data_2,i)\n",
        "data_2.reset_index(drop=True, inplace=True)"
      ],
      "execution_count": 25,
      "outputs": []
    },
    {
      "cell_type": "markdown",
      "metadata": {
        "id": "jJuCvTxwAjLp"
      },
      "source": [
        "# Valores duplicados"
      ]
    },
    {
      "cell_type": "code",
      "metadata": {
        "id": "uPQA7eJN_1QY"
      },
      "source": [
        "#Elimino valores duplicados \n",
        "data_ml.drop_duplicates(inplace=True)\n",
        "data_2.drop_duplicates(inplace=True)\n",
        "#Reset Index\n",
        "data_ml.reset_index(drop=True, inplace=True)\n",
        "data_ml.reset_index(drop=True, inplace=True)"
      ],
      "execution_count": 26,
      "outputs": []
    },
    {
      "cell_type": "markdown",
      "metadata": {
        "id": "0X8p4tKyBSxw"
      },
      "source": [
        "# Encoding variables categoricas"
      ]
    },
    {
      "cell_type": "code",
      "metadata": {
        "id": "x4mnqPIOBSHL"
      },
      "source": [
        "#Tipos de propiedad\n",
        "columna = ['property_type']\n",
        "\n",
        "for var in columna:\n",
        "    cat_list='var'+'_'+var\n",
        "    cat_list = pd.get_dummies(data_2[var], prefix=var)\n",
        "    data_2=data_2.join(cat_list)\n",
        "\n",
        "#Elimino la columna encodeada\n",
        "data_2.drop(columns='property_type', inplace=True)\n",
        "data_2.reset_index(drop=True, inplace=True)"
      ],
      "execution_count": 27,
      "outputs": []
    },
    {
      "cell_type": "code",
      "metadata": {
        "colab": {
          "base_uri": "https://localhost:8080/",
          "height": 111
        },
        "id": "-zJQge3DG5xi",
        "outputId": "c712d8fc-31f4-4ed8-95bd-46cd241dc3ce"
      },
      "source": [
        "data_2.head(2)"
      ],
      "execution_count": 28,
      "outputs": [
        {
          "output_type": "execute_result",
          "data": {
            "text/html": [
              "<div>\n",
              "<style scoped>\n",
              "    .dataframe tbody tr th:only-of-type {\n",
              "        vertical-align: middle;\n",
              "    }\n",
              "\n",
              "    .dataframe tbody tr th {\n",
              "        vertical-align: top;\n",
              "    }\n",
              "\n",
              "    .dataframe thead th {\n",
              "        text-align: right;\n",
              "    }\n",
              "</style>\n",
              "<table border=\"1\" class=\"dataframe\">\n",
              "  <thead>\n",
              "    <tr style=\"text-align: right;\">\n",
              "      <th></th>\n",
              "      <th>l3</th>\n",
              "      <th>rooms</th>\n",
              "      <th>bathrooms</th>\n",
              "      <th>surface_total</th>\n",
              "      <th>surface_covered</th>\n",
              "      <th>price</th>\n",
              "      <th>property_type_Casa</th>\n",
              "      <th>property_type_Departamento</th>\n",
              "      <th>property_type_PH</th>\n",
              "    </tr>\n",
              "  </thead>\n",
              "  <tbody>\n",
              "    <tr>\n",
              "      <th>0</th>\n",
              "      <td>Boedo</td>\n",
              "      <td>2.0</td>\n",
              "      <td>2.0</td>\n",
              "      <td>70.0</td>\n",
              "      <td>58.0</td>\n",
              "      <td>159000.0</td>\n",
              "      <td>0</td>\n",
              "      <td>0</td>\n",
              "      <td>1</td>\n",
              "    </tr>\n",
              "    <tr>\n",
              "      <th>1</th>\n",
              "      <td>Palermo</td>\n",
              "      <td>2.0</td>\n",
              "      <td>1.0</td>\n",
              "      <td>45.0</td>\n",
              "      <td>45.0</td>\n",
              "      <td>125000.0</td>\n",
              "      <td>0</td>\n",
              "      <td>0</td>\n",
              "      <td>1</td>\n",
              "    </tr>\n",
              "  </tbody>\n",
              "</table>\n",
              "</div>"
            ],
            "text/plain": [
              "        l3  rooms  ...  property_type_Departamento  property_type_PH\n",
              "0    Boedo    2.0  ...                           0                 1\n",
              "1  Palermo    2.0  ...                           0                 1\n",
              "\n",
              "[2 rows x 9 columns]"
            ]
          },
          "metadata": {
            "tags": []
          },
          "execution_count": 28
        }
      ]
    },
    {
      "cell_type": "code",
      "metadata": {
        "colab": {
          "base_uri": "https://localhost:8080/",
          "height": 165
        },
        "id": "zluYhyi7HD8I",
        "outputId": "b35c051f-bf08-424c-fcab-10e05ae8225f"
      },
      "source": [
        "#Columna l3\n",
        "l3_get = pd.get_dummies(data_2['l3'])\n",
        "#Concateno el dataframe obtenido con mi dataframe de trabajo\n",
        "data_2 = pd.concat([data_2, l3_get], axis=1)\n",
        "\n",
        "#Elimino las columna encodeadas\n",
        "data_2.drop(columns=['l3',], inplace=True)\n",
        "data_2.head(2)"
      ],
      "execution_count": 29,
      "outputs": [
        {
          "output_type": "execute_result",
          "data": {
            "text/html": [
              "<div>\n",
              "<style scoped>\n",
              "    .dataframe tbody tr th:only-of-type {\n",
              "        vertical-align: middle;\n",
              "    }\n",
              "\n",
              "    .dataframe tbody tr th {\n",
              "        vertical-align: top;\n",
              "    }\n",
              "\n",
              "    .dataframe thead th {\n",
              "        text-align: right;\n",
              "    }\n",
              "</style>\n",
              "<table border=\"1\" class=\"dataframe\">\n",
              "  <thead>\n",
              "    <tr style=\"text-align: right;\">\n",
              "      <th></th>\n",
              "      <th>rooms</th>\n",
              "      <th>bathrooms</th>\n",
              "      <th>surface_total</th>\n",
              "      <th>surface_covered</th>\n",
              "      <th>price</th>\n",
              "      <th>property_type_Casa</th>\n",
              "      <th>property_type_Departamento</th>\n",
              "      <th>property_type_PH</th>\n",
              "      <th>Abasto</th>\n",
              "      <th>Agronomía</th>\n",
              "      <th>Almagro</th>\n",
              "      <th>Balvanera</th>\n",
              "      <th>Barracas</th>\n",
              "      <th>Barrio Norte</th>\n",
              "      <th>Belgrano</th>\n",
              "      <th>Boca</th>\n",
              "      <th>Boedo</th>\n",
              "      <th>Caballito</th>\n",
              "      <th>Catalinas</th>\n",
              "      <th>Centro / Microcentro</th>\n",
              "      <th>Chacarita</th>\n",
              "      <th>Coghlan</th>\n",
              "      <th>Colegiales</th>\n",
              "      <th>Congreso</th>\n",
              "      <th>Constitución</th>\n",
              "      <th>Flores</th>\n",
              "      <th>Floresta</th>\n",
              "      <th>Las Cañitas</th>\n",
              "      <th>Liniers</th>\n",
              "      <th>Mataderos</th>\n",
              "      <th>Monserrat</th>\n",
              "      <th>Monte Castro</th>\n",
              "      <th>Nuñez</th>\n",
              "      <th>Once</th>\n",
              "      <th>Palermo</th>\n",
              "      <th>Parque Avellaneda</th>\n",
              "      <th>Parque Centenario</th>\n",
              "      <th>Parque Chacabuco</th>\n",
              "      <th>Parque Chas</th>\n",
              "      <th>Parque Patricios</th>\n",
              "      <th>Paternal</th>\n",
              "      <th>Pompeya</th>\n",
              "      <th>Puerto Madero</th>\n",
              "      <th>Recoleta</th>\n",
              "      <th>Retiro</th>\n",
              "      <th>Saavedra</th>\n",
              "      <th>San Cristobal</th>\n",
              "      <th>San Nicolás</th>\n",
              "      <th>San Telmo</th>\n",
              "      <th>Tribunales</th>\n",
              "      <th>Velez Sarsfield</th>\n",
              "      <th>Versalles</th>\n",
              "      <th>Villa Crespo</th>\n",
              "      <th>Villa Devoto</th>\n",
              "      <th>Villa General Mitre</th>\n",
              "      <th>Villa Lugano</th>\n",
              "      <th>Villa Luro</th>\n",
              "      <th>Villa Ortuzar</th>\n",
              "      <th>Villa Pueyrredón</th>\n",
              "      <th>Villa Real</th>\n",
              "      <th>Villa Riachuelo</th>\n",
              "      <th>Villa Santa Rita</th>\n",
              "      <th>Villa Soldati</th>\n",
              "      <th>Villa Urquiza</th>\n",
              "      <th>Villa del Parque</th>\n",
              "    </tr>\n",
              "  </thead>\n",
              "  <tbody>\n",
              "    <tr>\n",
              "      <th>0</th>\n",
              "      <td>2.0</td>\n",
              "      <td>2.0</td>\n",
              "      <td>70.0</td>\n",
              "      <td>58.0</td>\n",
              "      <td>159000.0</td>\n",
              "      <td>0</td>\n",
              "      <td>0</td>\n",
              "      <td>1</td>\n",
              "      <td>0</td>\n",
              "      <td>0</td>\n",
              "      <td>0</td>\n",
              "      <td>0</td>\n",
              "      <td>0</td>\n",
              "      <td>0</td>\n",
              "      <td>0</td>\n",
              "      <td>0</td>\n",
              "      <td>1</td>\n",
              "      <td>0</td>\n",
              "      <td>0</td>\n",
              "      <td>0</td>\n",
              "      <td>0</td>\n",
              "      <td>0</td>\n",
              "      <td>0</td>\n",
              "      <td>0</td>\n",
              "      <td>0</td>\n",
              "      <td>0</td>\n",
              "      <td>0</td>\n",
              "      <td>0</td>\n",
              "      <td>0</td>\n",
              "      <td>0</td>\n",
              "      <td>0</td>\n",
              "      <td>0</td>\n",
              "      <td>0</td>\n",
              "      <td>0</td>\n",
              "      <td>0</td>\n",
              "      <td>0</td>\n",
              "      <td>0</td>\n",
              "      <td>0</td>\n",
              "      <td>0</td>\n",
              "      <td>0</td>\n",
              "      <td>0</td>\n",
              "      <td>0</td>\n",
              "      <td>0</td>\n",
              "      <td>0</td>\n",
              "      <td>0</td>\n",
              "      <td>0</td>\n",
              "      <td>0</td>\n",
              "      <td>0</td>\n",
              "      <td>0</td>\n",
              "      <td>0</td>\n",
              "      <td>0</td>\n",
              "      <td>0</td>\n",
              "      <td>0</td>\n",
              "      <td>0</td>\n",
              "      <td>0</td>\n",
              "      <td>0</td>\n",
              "      <td>0</td>\n",
              "      <td>0</td>\n",
              "      <td>0</td>\n",
              "      <td>0</td>\n",
              "      <td>0</td>\n",
              "      <td>0</td>\n",
              "      <td>0</td>\n",
              "      <td>0</td>\n",
              "      <td>0</td>\n",
              "    </tr>\n",
              "    <tr>\n",
              "      <th>1</th>\n",
              "      <td>2.0</td>\n",
              "      <td>1.0</td>\n",
              "      <td>45.0</td>\n",
              "      <td>45.0</td>\n",
              "      <td>125000.0</td>\n",
              "      <td>0</td>\n",
              "      <td>0</td>\n",
              "      <td>1</td>\n",
              "      <td>0</td>\n",
              "      <td>0</td>\n",
              "      <td>0</td>\n",
              "      <td>0</td>\n",
              "      <td>0</td>\n",
              "      <td>0</td>\n",
              "      <td>0</td>\n",
              "      <td>0</td>\n",
              "      <td>0</td>\n",
              "      <td>0</td>\n",
              "      <td>0</td>\n",
              "      <td>0</td>\n",
              "      <td>0</td>\n",
              "      <td>0</td>\n",
              "      <td>0</td>\n",
              "      <td>0</td>\n",
              "      <td>0</td>\n",
              "      <td>0</td>\n",
              "      <td>0</td>\n",
              "      <td>0</td>\n",
              "      <td>0</td>\n",
              "      <td>0</td>\n",
              "      <td>0</td>\n",
              "      <td>0</td>\n",
              "      <td>0</td>\n",
              "      <td>0</td>\n",
              "      <td>1</td>\n",
              "      <td>0</td>\n",
              "      <td>0</td>\n",
              "      <td>0</td>\n",
              "      <td>0</td>\n",
              "      <td>0</td>\n",
              "      <td>0</td>\n",
              "      <td>0</td>\n",
              "      <td>0</td>\n",
              "      <td>0</td>\n",
              "      <td>0</td>\n",
              "      <td>0</td>\n",
              "      <td>0</td>\n",
              "      <td>0</td>\n",
              "      <td>0</td>\n",
              "      <td>0</td>\n",
              "      <td>0</td>\n",
              "      <td>0</td>\n",
              "      <td>0</td>\n",
              "      <td>0</td>\n",
              "      <td>0</td>\n",
              "      <td>0</td>\n",
              "      <td>0</td>\n",
              "      <td>0</td>\n",
              "      <td>0</td>\n",
              "      <td>0</td>\n",
              "      <td>0</td>\n",
              "      <td>0</td>\n",
              "      <td>0</td>\n",
              "      <td>0</td>\n",
              "      <td>0</td>\n",
              "    </tr>\n",
              "  </tbody>\n",
              "</table>\n",
              "</div>"
            ],
            "text/plain": [
              "   rooms  bathrooms  ...  Villa Urquiza  Villa del Parque\n",
              "0    2.0        2.0  ...              0                 0\n",
              "1    2.0        1.0  ...              0                 0\n",
              "\n",
              "[2 rows x 65 columns]"
            ]
          },
          "metadata": {
            "tags": []
          },
          "execution_count": 29
        }
      ]
    },
    {
      "cell_type": "markdown",
      "metadata": {
        "id": "1laOdBnrJirG"
      },
      "source": [
        "# Datos en X e Y"
      ]
    },
    {
      "cell_type": "code",
      "metadata": {
        "id": "kksLRDypJwl8"
      },
      "source": [
        "X = data_2.drop(['price'], axis=1)\n",
        "y = data_2[['price']]"
      ],
      "execution_count": 30,
      "outputs": []
    },
    {
      "cell_type": "markdown",
      "metadata": {
        "id": "Pcr3_tB9Hzzd"
      },
      "source": [
        "# Escalado de datos"
      ]
    },
    {
      "cell_type": "code",
      "metadata": {
        "id": "pnKa8I0SHzhP"
      },
      "source": [
        "#Separo las variables a escalar\n",
        "data_escalado = X[['rooms', 'bathrooms', 'surface_total','surface_covered']]"
      ],
      "execution_count": 31,
      "outputs": []
    },
    {
      "cell_type": "code",
      "metadata": {
        "id": "1UOsWpzGIqV-"
      },
      "source": [
        "std = StandardScaler()\n",
        "std.fit(data_escalado)\n",
        "data_escalado_nueva = std.transform(data_escalado)\n",
        "\n",
        "data_escalado_nueva = pd.DataFrame(data=data_escalado_nueva,\n",
        "                     columns=['rooms', 'bathrooms','surface_covered','surface_total'])"
      ],
      "execution_count": 32,
      "outputs": []
    },
    {
      "cell_type": "code",
      "metadata": {
        "colab": {
          "base_uri": "https://localhost:8080/",
          "height": 499
        },
        "id": "ouO2CreaKX7D",
        "outputId": "20b3eed8-3bce-480b-f5da-b3f953404d4d"
      },
      "source": [
        "#Visualizo la comparacion entre los datos crudos y los datos escalados\n",
        "plt.figure(figsize=(8,8))\n",
        "data_escalado.rooms.hist(label = 'Datos Crudos')\n",
        "data_escalado_nueva.rooms.hist(label = 'Datos Reescalados')\n",
        "plt.title('Comparativa de Datos')\n",
        "plt.legend()\n",
        "plt.show()"
      ],
      "execution_count": 33,
      "outputs": [
        {
          "output_type": "display_data",
          "data": {
            "image/png": "[encoded data removed]",
            "text/plain": [
              "<Figure size 576x576 with 1 Axes>"
            ]
          },
          "metadata": {
            "tags": []
          }
        }
      ]
    },
    {
      "cell_type": "code",
      "metadata": {
        "colab": {
          "base_uri": "https://localhost:8080/",
          "height": 639
        },
        "id": "PxDyDfZ0KX3z",
        "outputId": "975b6c44-a23c-40a8-d915-e6310e5b8e41"
      },
      "source": [
        "sns.kdeplot((data_escalado_nueva['surface_total']), label='Surface_total')\n",
        "sns.kdeplot((data_escalado_nueva['rooms']), label='Rooms')\n",
        "sns.kdeplot((data_escalado_nueva['bathrooms']), label='Bathrooms')\n",
        "sns.kdeplot((data_escalado_nueva['surface_covered']), label='Surface_covered')\n",
        "plt.title('Rango de valores Datos Escalados')\n",
        "plt.legend()"
      ],
      "execution_count": 34,
      "outputs": [
        {
          "output_type": "execute_result",
          "data": {
            "text/plain": [
              "<matplotlib.legend.Legend at 0x7f34779e5a90>"
            ]
          },
          "metadata": {
            "tags": []
          },
          "execution_count": 34
        },
        {
          "output_type": "display_data",
          "data": {
            "image/png": "[encoded data removed]",
            "text/plain": [
              "<Figure size 720x720 with 1 Axes>"
            ]
          },
          "metadata": {
            "tags": []
          }
        }
      ]
    },
    {
      "cell_type": "code",
      "metadata": {
        "id": "nErQkqzDKX0Q"
      },
      "source": [
        "#Variable Price\n",
        "std.fit_transform(y)\n",
        "y = pd.DataFrame(data=y, columns=['price'])"
      ],
      "execution_count": 35,
      "outputs": []
    },
    {
      "cell_type": "code",
      "metadata": {
        "colab": {
          "base_uri": "https://localhost:8080/"
        },
        "id": "cuVIuYXkLms0",
        "outputId": "371cce50-2064-4083-9f87-72baaa778535"
      },
      "source": [
        "data_escalado_nueva.shape, y.shape"
      ],
      "execution_count": 36,
      "outputs": [
        {
          "output_type": "execute_result",
          "data": {
            "text/plain": [
              "((38676, 4), (38676, 1))"
            ]
          },
          "metadata": {
            "tags": []
          },
          "execution_count": 36
        }
      ]
    },
    {
      "cell_type": "code",
      "metadata": {
        "id": "SQ0WT7CzLuQ9"
      },
      "source": [
        "#Concateno mis datos Escalados con los valores de los Barrios encodeados\n",
        "X_escalada = pd.concat([data_escalado_nueva,l3_get], axis=1, join='inner')"
      ],
      "execution_count": 37,
      "outputs": []
    },
    {
      "cell_type": "code",
      "metadata": {
        "colab": {
          "base_uri": "https://localhost:8080/"
        },
        "id": "oap_FrYNMCW_",
        "outputId": "55fce4a4-a7f5-4aea-d9b2-515726ef1988"
      },
      "source": [
        "X_escalada.shape, y.shape"
      ],
      "execution_count": 38,
      "outputs": [
        {
          "output_type": "execute_result",
          "data": {
            "text/plain": [
              "((38676, 61), (38676, 1))"
            ]
          },
          "metadata": {
            "tags": []
          },
          "execution_count": 38
        }
      ]
    },
    {
      "cell_type": "code",
      "metadata": {
        "colab": {
          "base_uri": "https://localhost:8080/",
          "height": 165
        },
        "id": "zWkWCN1sL93d",
        "outputId": "1bfbc439-9513-40f0-ccb9-27960343f5ec"
      },
      "source": [
        "X_escalada.head(2)"
      ],
      "execution_count": 39,
      "outputs": [
        {
          "output_type": "execute_result",
          "data": {
            "text/html": [
              "<div>\n",
              "<style scoped>\n",
              "    .dataframe tbody tr th:only-of-type {\n",
              "        vertical-align: middle;\n",
              "    }\n",
              "\n",
              "    .dataframe tbody tr th {\n",
              "        vertical-align: top;\n",
              "    }\n",
              "\n",
              "    .dataframe thead th {\n",
              "        text-align: right;\n",
              "    }\n",
              "</style>\n",
              "<table border=\"1\" class=\"dataframe\">\n",
              "  <thead>\n",
              "    <tr style=\"text-align: right;\">\n",
              "      <th></th>\n",
              "      <th>rooms</th>\n",
              "      <th>bathrooms</th>\n",
              "      <th>surface_covered</th>\n",
              "      <th>surface_total</th>\n",
              "      <th>Abasto</th>\n",
              "      <th>Agronomía</th>\n",
              "      <th>Almagro</th>\n",
              "      <th>Balvanera</th>\n",
              "      <th>Barracas</th>\n",
              "      <th>Barrio Norte</th>\n",
              "      <th>Belgrano</th>\n",
              "      <th>Boca</th>\n",
              "      <th>Boedo</th>\n",
              "      <th>Caballito</th>\n",
              "      <th>Catalinas</th>\n",
              "      <th>Centro / Microcentro</th>\n",
              "      <th>Chacarita</th>\n",
              "      <th>Coghlan</th>\n",
              "      <th>Colegiales</th>\n",
              "      <th>Congreso</th>\n",
              "      <th>Constitución</th>\n",
              "      <th>Flores</th>\n",
              "      <th>Floresta</th>\n",
              "      <th>Las Cañitas</th>\n",
              "      <th>Liniers</th>\n",
              "      <th>Mataderos</th>\n",
              "      <th>Monserrat</th>\n",
              "      <th>Monte Castro</th>\n",
              "      <th>Nuñez</th>\n",
              "      <th>Once</th>\n",
              "      <th>Palermo</th>\n",
              "      <th>Parque Avellaneda</th>\n",
              "      <th>Parque Centenario</th>\n",
              "      <th>Parque Chacabuco</th>\n",
              "      <th>Parque Chas</th>\n",
              "      <th>Parque Patricios</th>\n",
              "      <th>Paternal</th>\n",
              "      <th>Pompeya</th>\n",
              "      <th>Puerto Madero</th>\n",
              "      <th>Recoleta</th>\n",
              "      <th>Retiro</th>\n",
              "      <th>Saavedra</th>\n",
              "      <th>San Cristobal</th>\n",
              "      <th>San Nicolás</th>\n",
              "      <th>San Telmo</th>\n",
              "      <th>Tribunales</th>\n",
              "      <th>Velez Sarsfield</th>\n",
              "      <th>Versalles</th>\n",
              "      <th>Villa Crespo</th>\n",
              "      <th>Villa Devoto</th>\n",
              "      <th>Villa General Mitre</th>\n",
              "      <th>Villa Lugano</th>\n",
              "      <th>Villa Luro</th>\n",
              "      <th>Villa Ortuzar</th>\n",
              "      <th>Villa Pueyrredón</th>\n",
              "      <th>Villa Real</th>\n",
              "      <th>Villa Riachuelo</th>\n",
              "      <th>Villa Santa Rita</th>\n",
              "      <th>Villa Soldati</th>\n",
              "      <th>Villa Urquiza</th>\n",
              "      <th>Villa del Parque</th>\n",
              "    </tr>\n",
              "  </thead>\n",
              "  <tbody>\n",
              "    <tr>\n",
              "      <th>0</th>\n",
              "      <td>-0.64799</td>\n",
              "      <td>1.345108</td>\n",
              "      <td>0.026062</td>\n",
              "      <td>-0.097188</td>\n",
              "      <td>0</td>\n",
              "      <td>0</td>\n",
              "      <td>0</td>\n",
              "      <td>0</td>\n",
              "      <td>0</td>\n",
              "      <td>0</td>\n",
              "      <td>0</td>\n",
              "      <td>0</td>\n",
              "      <td>1</td>\n",
              "      <td>0</td>\n",
              "      <td>0</td>\n",
              "      <td>0</td>\n",
              "      <td>0</td>\n",
              "      <td>0</td>\n",
              "      <td>0</td>\n",
              "      <td>0</td>\n",
              "      <td>0</td>\n",
              "      <td>0</td>\n",
              "      <td>0</td>\n",
              "      <td>0</td>\n",
              "      <td>0</td>\n",
              "      <td>0</td>\n",
              "      <td>0</td>\n",
              "      <td>0</td>\n",
              "      <td>0</td>\n",
              "      <td>0</td>\n",
              "      <td>0</td>\n",
              "      <td>0</td>\n",
              "      <td>0</td>\n",
              "      <td>0</td>\n",
              "      <td>0</td>\n",
              "      <td>0</td>\n",
              "      <td>0</td>\n",
              "      <td>0</td>\n",
              "      <td>0</td>\n",
              "      <td>0</td>\n",
              "      <td>0</td>\n",
              "      <td>0</td>\n",
              "      <td>0</td>\n",
              "      <td>0</td>\n",
              "      <td>0</td>\n",
              "      <td>0</td>\n",
              "      <td>0</td>\n",
              "      <td>0</td>\n",
              "      <td>0</td>\n",
              "      <td>0</td>\n",
              "      <td>0</td>\n",
              "      <td>0</td>\n",
              "      <td>0</td>\n",
              "      <td>0</td>\n",
              "      <td>0</td>\n",
              "      <td>0</td>\n",
              "      <td>0</td>\n",
              "      <td>0</td>\n",
              "      <td>0</td>\n",
              "      <td>0</td>\n",
              "      <td>0</td>\n",
              "    </tr>\n",
              "    <tr>\n",
              "      <th>1</th>\n",
              "      <td>-0.64799</td>\n",
              "      <td>-0.566673</td>\n",
              "      <td>-0.793589</td>\n",
              "      <td>-0.631702</td>\n",
              "      <td>0</td>\n",
              "      <td>0</td>\n",
              "      <td>0</td>\n",
              "      <td>0</td>\n",
              "      <td>0</td>\n",
              "      <td>0</td>\n",
              "      <td>0</td>\n",
              "      <td>0</td>\n",
              "      <td>0</td>\n",
              "      <td>0</td>\n",
              "      <td>0</td>\n",
              "      <td>0</td>\n",
              "      <td>0</td>\n",
              "      <td>0</td>\n",
              "      <td>0</td>\n",
              "      <td>0</td>\n",
              "      <td>0</td>\n",
              "      <td>0</td>\n",
              "      <td>0</td>\n",
              "      <td>0</td>\n",
              "      <td>0</td>\n",
              "      <td>0</td>\n",
              "      <td>0</td>\n",
              "      <td>0</td>\n",
              "      <td>0</td>\n",
              "      <td>0</td>\n",
              "      <td>1</td>\n",
              "      <td>0</td>\n",
              "      <td>0</td>\n",
              "      <td>0</td>\n",
              "      <td>0</td>\n",
              "      <td>0</td>\n",
              "      <td>0</td>\n",
              "      <td>0</td>\n",
              "      <td>0</td>\n",
              "      <td>0</td>\n",
              "      <td>0</td>\n",
              "      <td>0</td>\n",
              "      <td>0</td>\n",
              "      <td>0</td>\n",
              "      <td>0</td>\n",
              "      <td>0</td>\n",
              "      <td>0</td>\n",
              "      <td>0</td>\n",
              "      <td>0</td>\n",
              "      <td>0</td>\n",
              "      <td>0</td>\n",
              "      <td>0</td>\n",
              "      <td>0</td>\n",
              "      <td>0</td>\n",
              "      <td>0</td>\n",
              "      <td>0</td>\n",
              "      <td>0</td>\n",
              "      <td>0</td>\n",
              "      <td>0</td>\n",
              "      <td>0</td>\n",
              "      <td>0</td>\n",
              "    </tr>\n",
              "  </tbody>\n",
              "</table>\n",
              "</div>"
            ],
            "text/plain": [
              "     rooms  bathrooms  ...  Villa Urquiza  Villa del Parque\n",
              "0 -0.64799   1.345108  ...              0                 0\n",
              "1 -0.64799  -0.566673  ...              0                 0\n",
              "\n",
              "[2 rows x 61 columns]"
            ]
          },
          "metadata": {
            "tags": []
          },
          "execution_count": 39
        }
      ]
    },
    {
      "cell_type": "markdown",
      "metadata": {
        "id": "QVEfG7H5MKpr"
      },
      "source": [
        "# PCA"
      ]
    },
    {
      "cell_type": "code",
      "metadata": {
        "colab": {
          "base_uri": "https://localhost:8080/"
        },
        "id": "hicdHc3_MKCD",
        "outputId": "5135e592-8d3a-41c0-a296-0bb313b2f697"
      },
      "source": [
        "#Realizo un for para comprobar mi mejor numero de n_components\n",
        "\n",
        "for i in range(1,40,2):\n",
        "\n",
        "    pca = PCA(n_components=i, random_state=40)\n",
        "\n",
        "    X_nuevo = pca.fit_transform(X_escalada)\n",
        "\n",
        "    print('n_components=:', i,'varianza:', pca.explained_variance_ratio_.sum())"
      ],
      "execution_count": 40,
      "outputs": [
        {
          "output_type": "stream",
          "text": [
            "n_components=: 1 varianza: 0.6098487145540953\n",
            "n_components=: 3 varianza: 0.7890084278084152\n",
            "n_components=: 5 varianza: 0.8296612400156784\n",
            "n_components=: 7 varianza: 0.8600641141178671\n",
            "n_components=: 9 varianza: 0.8821590192885784\n",
            "n_components=: 11 varianza: 0.9009144330228638\n",
            "n_components=: 13 varianza: 0.915209607962755\n",
            "n_components=: 15 varianza: 0.9262574109887318\n",
            "n_components=: 17 varianza: 0.9340993008874827\n",
            "n_components=: 19 varianza: 0.9409613761565486\n",
            "n_components=: 21 varianza: 0.9470728928466582\n",
            "n_components=: 23 varianza: 0.9522729804065561\n",
            "n_components=: 25 varianza: 0.9569115379900984\n",
            "n_components=: 27 varianza: 0.9615035374074368\n",
            "n_components=: 29 varianza: 0.9657652656593785\n",
            "n_components=: 31 varianza: 0.9696896709617121\n",
            "n_components=: 33 varianza: 0.9734601012175631\n",
            "n_components=: 35 varianza: 0.9770413215873069\n",
            "n_components=: 37 varianza: 0.9803953078338573\n",
            "n_components=: 39 varianza: 0.9834636632131463\n"
          ],
          "name": "stdout"
        }
      ]
    },
    {
      "cell_type": "code",
      "metadata": {
        "id": "BiKbz-yfNkxw"
      },
      "source": [
        "pca = PCA(n_components=25, random_state=42)\n",
        "X_PCA = pca.fit_transform(X_escalada)\n",
        "X_PCA = pd.DataFrame(data=X_PCA)"
      ],
      "execution_count": 41,
      "outputs": []
    },
    {
      "cell_type": "markdown",
      "metadata": {
        "id": "SP0FKUUHBElL"
      },
      "source": [
        "# Modelo Benchmark"
      ]
    },
    {
      "cell_type": "code",
      "metadata": {
        "id": "dPgQnZE1A-do"
      },
      "source": [
        "X_train, X_test, y_train, y_test = train_test_split(X_PCA, y,\n",
        "                                                    test_size=0.30,\n",
        "                                                    random_state=42)"
      ],
      "execution_count": 42,
      "outputs": []
    },
    {
      "cell_type": "code",
      "metadata": {
        "id": "YXTC4jWOOpYn"
      },
      "source": [
        "arbol = DecisionTreeRegressor()"
      ],
      "execution_count": 43,
      "outputs": []
    },
    {
      "cell_type": "code",
      "metadata": {
        "id": "kTp9bN1gPYNB"
      },
      "source": [
        "def evaluar_modelo(modelo,X_train,X_test,y_train,y_test):\n",
        "    modelo.fit(X_train,y_train)\n",
        "    print (\"--> R2 del modelo  en train:\", modelo.score(X_train,y_train) )\n",
        "    print('RMSE en train:',np.sqrt(mean_squared_error(y_train, modelo.predict(X_train))))\n",
        "    print (\"--> R2 del modelo en test:\", modelo.score(X_test,y_test) )\n",
        "    print('RMSE en test:',np.sqrt(mean_squared_error(y_test, modelo.predict(X_test))))"
      ],
      "execution_count": 44,
      "outputs": []
    },
    {
      "cell_type": "code",
      "metadata": {
        "colab": {
          "base_uri": "https://localhost:8080/"
        },
        "id": "Qlp5NezkPkK4",
        "outputId": "5703ee8e-b8fb-4b49-bd35-a30a00132423"
      },
      "source": [
        "evaluar_modelo(arbol, X_train, X_test, y_train, y_test)"
      ],
      "execution_count": 45,
      "outputs": [
        {
          "output_type": "stream",
          "text": [
            "--> R2 del modelo  en train: 0.9653013146880172\n",
            "RMSE en train: 14804.811938160778\n",
            "--> R2 del modelo en test: 0.6667207600730929\n",
            "RMSE en test: 46265.38379801007\n"
          ],
          "name": "stdout"
        }
      ]
    },
    {
      "cell_type": "markdown",
      "metadata": {
        "id": "Sms7TDQ2Rfw1"
      },
      "source": [
        "# Regresion lineal"
      ]
    },
    {
      "cell_type": "code",
      "metadata": {
        "id": "GRExxeq7R9X0"
      },
      "source": [
        "reg = LinearRegression()"
      ],
      "execution_count": 46,
      "outputs": []
    },
    {
      "cell_type": "code",
      "metadata": {
        "colab": {
          "base_uri": "https://localhost:8080/"
        },
        "id": "R-SmzgJ6SCGM",
        "outputId": "e21d8a36-3f0a-4968-a81f-6c0730682b24"
      },
      "source": [
        "evaluar_modelo(reg, X_train, X_test, y_train, y_test)"
      ],
      "execution_count": 47,
      "outputs": [
        {
          "output_type": "stream",
          "text": [
            "--> R2 del modelo  en train: 0.6867000906889332\n",
            "RMSE en train: 44486.32389097013\n",
            "--> R2 del modelo en test: 0.6857177454393755\n",
            "RMSE en test: 44927.47054696162\n"
          ],
          "name": "stdout"
        }
      ]
    },
    {
      "cell_type": "markdown",
      "metadata": {
        "id": "gsPGuDpoYPPG"
      },
      "source": [
        "Ya que el R2 de mi modelo de Regresion Lineal no es muy bueno, empleo PolynomialFeatures para ver si esta metrica mejora"
      ]
    },
    {
      "cell_type": "markdown",
      "metadata": {
        "id": "cmGmcVLjYYQD"
      },
      "source": [
        "## Polynomial Features\n",
        "Aplico Polynomial Features obre mis datos provenientes de PCA"
      ]
    },
    {
      "cell_type": "code",
      "metadata": {
        "id": "6gM8SntpSJDJ"
      },
      "source": [
        "#Defino y entreno el modelo\n",
        "poly = PolynomialFeatures(2, include_bias=False) \n",
        "X_pol = poly.fit_transform(X_PCA)"
      ],
      "execution_count": 48,
      "outputs": []
    },
    {
      "cell_type": "code",
      "metadata": {
        "id": "2x2IhWbkYraD",
        "colab": {
          "base_uri": "https://localhost:8080/"
        },
        "outputId": "f1ada3e3-5125-4dfe-f72a-6dcabdeb3d42"
      },
      "source": [
        "X_train_new,X_test_new,y_train,y_test = train_test_split(X_pol,y, test_size=0.30, random_state=40)\n",
        "evaluar_modelo(reg, X_train_new, X_test_new, y_train, y_test)"
      ],
      "execution_count": 49,
      "outputs": [
        {
          "output_type": "stream",
          "text": [
            "--> R2 del modelo  en train: 0.7701094648529752\n",
            "RMSE en train: 38269.01358626998\n",
            "--> R2 del modelo en test: 0.7642536734710397\n",
            "RMSE en test: 38528.760858842696\n"
          ],
          "name": "stdout"
        }
      ]
    },
    {
      "cell_type": "markdown",
      "metadata": {
        "id": "N5sA6Vj3uSs1"
      },
      "source": [
        "## Ridge"
      ]
    },
    {
      "cell_type": "code",
      "metadata": {
        "colab": {
          "base_uri": "https://localhost:8080/"
        },
        "id": "As0hvA1iwIkH",
        "outputId": "005f5742-fb68-43f0-b3c4-0ad7c6f5bb8b"
      },
      "source": [
        "alpha = [1, 0.5, 0.1 ,0.01, 0.005, 0.001, 0.0001]\n",
        "\n",
        "for i in alpha:\n",
        "    reg_ridge = Ridge(alpha= i)\n",
        "    print('Valor de alpha:', i)\n",
        "    evaluar_modelo(reg_ridge, X_train_new, X_test_new, y_train, y_test)\n",
        "    print('....................')"
      ],
      "execution_count": 50,
      "outputs": [
        {
          "output_type": "stream",
          "text": [
            "Valor de alpha: 1\n",
            "--> R2 del modelo  en train: 0.7279980946333662\n",
            "RMSE en train: 41626.76829220369\n",
            "--> R2 del modelo en test: 0.7281379762176265\n",
            "RMSE en test: 41374.88954451957\n",
            "....................\n",
            "Valor de alpha: 0.5\n",
            "--> R2 del modelo  en train: 0.7296501171321726\n",
            "RMSE en train: 41500.16422791996\n",
            "--> R2 del modelo en test: 0.7293616109950813\n",
            "RMSE en test: 41281.6715772805\n",
            "....................\n",
            "Valor de alpha: 0.1\n",
            "--> R2 del modelo  en train: 0.7366830867530938\n",
            "RMSE en train: 40956.80780679825\n",
            "--> R2 del modelo en test: 0.7347598616708109\n",
            "RMSE en test: 40867.888279894716\n",
            "....................\n",
            "Valor de alpha: 0.01\n",
            "--> R2 del modelo  en train: 0.7539193336470716\n",
            "RMSE en train: 39593.64360444006\n",
            "--> R2 del modelo en test: 0.7493077435944998\n",
            "RMSE en test: 39731.32369065865\n",
            "....................\n",
            "Valor de alpha: 0.005\n",
            "--> R2 del modelo  en train: 0.7585078444396127\n",
            "RMSE en train: 39222.76776219455\n",
            "--> R2 del modelo en test: 0.7534496685482422\n",
            "RMSE en test: 39401.73719380951\n",
            "....................\n",
            "Valor de alpha: 0.001\n",
            "--> R2 del modelo  en train: 0.7654640246567248\n",
            "RMSE en train: 38653.73426356232\n",
            "--> R2 del modelo en test: 0.7599157763574774\n",
            "RMSE en test: 38881.62308922588\n",
            "....................\n",
            "Valor de alpha: 0.0001\n",
            "--> R2 del modelo  en train: 0.7683653085281316\n",
            "RMSE en train: 38413.91085026181\n",
            "--> R2 del modelo en test: 0.7626486087420712\n",
            "RMSE en test: 38659.698745293346\n",
            "....................\n"
          ],
          "name": "stdout"
        }
      ]
    },
    {
      "cell_type": "markdown",
      "metadata": {
        "id": "4eC30Rx-vXhw"
      },
      "source": [
        "## Lasso"
      ]
    },
    {
      "cell_type": "code",
      "metadata": {
        "colab": {
          "base_uri": "https://localhost:8080/"
        },
        "id": "y0XLhijUvOaj",
        "outputId": "31120f86-b1a7-45be-ad99-7518280357f3"
      },
      "source": [
        "#Empleo un for para comprobar que numero en alpha me arroja mejor R2'''\n",
        "alpha = [1, 0.5, 0.1 ,0.01, 0.005, 0.001, 0.0001]\n",
        "\n",
        "for i in alpha:\n",
        "    reg_lasso = Lasso(alpha= i)\n",
        "    print('Valor de alpha:', i)\n",
        "    evaluar_modelo(reg_lasso, X_train_new, X_test_new, y_train, y_test)\n",
        "    print('....................')"
      ],
      "execution_count": 51,
      "outputs": [
        {
          "output_type": "stream",
          "text": [
            "Valor de alpha: 1\n",
            "--> R2 del modelo  en train: 0.7362943575606054\n",
            "RMSE en train: 40987.02849213962\n",
            "--> R2 del modelo en test: 0.7341401901324756\n",
            "RMSE en test: 40915.59956017287\n",
            "....................\n",
            "Valor de alpha: 0.5\n",
            "--> R2 del modelo  en train: 0.7388802377454752\n",
            "RMSE en train: 40785.575363684824\n",
            "--> R2 del modelo en test: 0.736302226431963\n",
            "RMSE en test: 40748.892164437086\n",
            "....................\n",
            "Valor de alpha: 0.1\n",
            "--> R2 del modelo  en train: 0.7414397480464965\n",
            "RMSE en train: 40585.19188317541\n",
            "--> R2 del modelo en test: 0.7385316767650172\n",
            "RMSE en test: 40576.269420333265\n",
            "....................\n",
            "Valor de alpha: 0.01\n",
            "--> R2 del modelo  en train: 0.7424832301900686\n",
            "RMSE en train: 40503.213432371325\n",
            "--> R2 del modelo en test: 0.739588561178717\n",
            "RMSE en test: 40494.179456408885\n",
            "....................\n",
            "Valor de alpha: 0.005\n",
            "--> R2 del modelo  en train: 0.7425581748363324\n",
            "RMSE en train: 40497.31921450818\n",
            "--> R2 del modelo en test: 0.739650971201707\n",
            "RMSE en test: 40489.32676230349\n",
            "....................\n",
            "Valor de alpha: 0.001\n",
            "--> R2 del modelo  en train: 0.742615015590921\n",
            "RMSE en train: 40492.848252466654\n",
            "--> R2 del modelo en test: 0.7396977190964007\n",
            "RMSE en test: 40485.69149666267\n",
            "....................\n",
            "Valor de alpha: 0.0001\n",
            "--> R2 del modelo  en train: 0.7426277059614182\n",
            "RMSE en train: 40491.84998991799\n",
            "--> R2 del modelo en test: 0.7397083033903751\n",
            "RMSE en test: 40484.868382829096\n",
            "....................\n"
          ],
          "name": "stdout"
        }
      ]
    },
    {
      "cell_type": "markdown",
      "metadata": {
        "id": "-UuUPgUOw_QC"
      },
      "source": [
        "Ridge optime un mejor score de R2 sobre los datos de Test, por lo que empleo este modelo para realizar una busqueda de sus mejores hyperparametros"
      ]
    },
    {
      "cell_type": "markdown",
      "metadata": {
        "id": "3JjUZEr0xRM3"
      },
      "source": [
        "## Validación cruzada"
      ]
    },
    {
      "cell_type": "code",
      "metadata": {
        "colab": {
          "base_uri": "https://localhost:8080/"
        },
        "id": "MLhG1WSmvOUK",
        "outputId": "7c46ff27-cc7d-47f2-9248-df5c825b725d"
      },
      "source": [
        "reg_ridge = Ridge(alpha=0.0001)\n",
        "ridge_scores = cross_val_score(reg_ridge, X_pol, y, cv=5)\n",
        "print(ridge_scores)\n",
        "print(\"Accuracy para Ridge: %0.2f (+/- %0.2f)\" % (ridge_scores.mean(), ridge_scores.std() * 2))"
      ],
      "execution_count": 52,
      "outputs": [
        {
          "output_type": "stream",
          "text": [
            "[0.76235813 0.76894935 0.76503978 0.75375133 0.76865319]\n",
            "Accuracy para Ridge: 0.76 (+/- 0.01)\n"
          ],
          "name": "stdout"
        }
      ]
    },
    {
      "cell_type": "markdown",
      "metadata": {
        "id": "h481JDM1xtjO"
      },
      "source": [
        "Al realizar validacion cruzada, se demuestra que el rendimiento del modelo empleado no depende de la partición de los datos."
      ]
    },
    {
      "cell_type": "markdown",
      "metadata": {
        "id": "UKkns4zCyddQ"
      },
      "source": [
        "## Curva de validacón con validación cruzada"
      ]
    },
    {
      "cell_type": "code",
      "metadata": {
        "id": "jay32rOgvON5"
      },
      "source": [
        "from sklearn.model_selection import cross_validate\n",
        "reg_train_scores_mean = []\n",
        "reg_train_scores_std = []\n",
        "reg_test_scores_mean = []\n",
        "reg_test_scores_std = []\n",
        "\n",
        "alpha = [1, 0.5, 0.1 ,0.01, 0.005, 0.001, 0.0001]\n",
        "\n",
        "for i in alpha:\n",
        "    reg_ridge = Ridge(alpha= i)\n",
        "    ridge_scores = cross_validate(reg_ridge, X_pol, y, cv=5, return_train_score=True, n_jobs = -1)\n",
        "    \n",
        "    reg_train_scores_mean.append(ridge_scores['train_score'].mean())\n",
        "    reg_train_scores_std.append(ridge_scores['train_score'].std())\n",
        "    \n",
        "    reg_test_scores_mean.append(ridge_scores['test_score'].mean())\n",
        "    reg_test_scores_std.append(ridge_scores['test_score'].std())\n",
        "\n",
        "reg_train_scores_mean = np.array(reg_train_scores_mean)\n",
        "reg_train_scores_std = np.array(reg_train_scores_std)\n",
        "reg_test_scores_mean = np.array(reg_test_scores_mean)\n",
        "reg_test_scores_std = np.array(reg_test_scores_std)"
      ],
      "execution_count": 53,
      "outputs": []
    },
    {
      "cell_type": "code",
      "metadata": {
        "colab": {
          "base_uri": "https://localhost:8080/",
          "height": 513
        },
        "id": "9CX0ZBf9unBk",
        "outputId": "5a4d7377-77a6-4b0a-d4bb-493d5e0fb472"
      },
      "source": [
        "plt.figure(figsize=(12,8))\n",
        "plt.fill_between(alpha, reg_train_scores_mean - reg_train_scores_std,\n",
        "                 reg_train_scores_mean + reg_train_scores_std, alpha=0.1,\n",
        "                 color=\"r\")\n",
        "plt.fill_between(alpha, reg_test_scores_mean - reg_test_scores_std,\n",
        "                 reg_test_scores_mean + reg_test_scores_std, alpha=0.1, color=\"g\")\n",
        "plt.plot(alpha, reg_train_scores_mean, 'o-', color=\"r\",\n",
        "         label=\"Training score\")\n",
        "plt.plot(alpha, reg_test_scores_mean, 'o-', color=\"g\",\n",
        "         label=\"Test score\")\n",
        "plt.legend()\n",
        "plt.title('Curva de validación y validación cruzada en Modelo Ridge')\n",
        "plt.ylabel('R2')\n",
        "plt.xlabel('alpha')\n",
        "plt.show()"
      ],
      "execution_count": 54,
      "outputs": [
        {
          "output_type": "display_data",
          "data": {
            "image/png": "[encoded data removed]",
            "text/plain": [
              "<Figure size 864x576 with 1 Axes>"
            ]
          },
          "metadata": {
            "tags": []
          }
        }
      ]
    },
    {
      "cell_type": "markdown",
      "metadata": {
        "id": "oNrFVq72ylC7"
      },
      "source": [
        "## GridSearchCV Ridge"
      ]
    },
    {
      "cell_type": "code",
      "metadata": {
        "colab": {
          "base_uri": "https://localhost:8080/"
        },
        "id": "4pyDs-jnyVgN",
        "outputId": "e507d39a-8536-44f5-b5ed-9a6685bedadc"
      },
      "source": [
        "param_dist = {\n",
        "    'alpha':[0.0001],\n",
        "    'normalize': [False,True],\n",
        "    'fit_intercept': [False,True],\n",
        "    'solver' : ['auto', 'lsqr' , 'cholesky'],\n",
        "    'max_iter': np.arange(1,50,5),\n",
        "    'random_state': np.arange(1,50,5)\n",
        "}\n",
        "\n",
        "model = GridSearchCV(reg_ridge, param_grid=param_dist, cv=5)\n",
        "model.fit(X_train_new,y_train)"
      ],
      "execution_count": 55,
      "outputs": [
        {
          "output_type": "execute_result",
          "data": {
            "text/plain": [
              "GridSearchCV(cv=5, error_score=nan,\n",
              "             estimator=Ridge(alpha=0.0001, copy_X=True, fit_intercept=True,\n",
              "                             max_iter=None, normalize=False, random_state=None,\n",
              "                             solver='auto', tol=0.001),\n",
              "             iid='deprecated', n_jobs=None,\n",
              "             param_grid={'alpha': [0.0001], 'fit_intercept': [False, True],\n",
              "                         'max_iter': array([ 1,  6, 11, 16, 21, 26, 31, 36, 41, 46]),\n",
              "                         'normalize': [False, True],\n",
              "                         'random_state': array([ 1,  6, 11, 16, 21, 26, 31, 36, 41, 46]),\n",
              "                         'solver': ['auto', 'lsqr', 'cholesky']},\n",
              "             pre_dispatch='2*n_jobs', refit=True, return_train_score=False,\n",
              "             scoring=None, verbose=0)"
            ]
          },
          "metadata": {
            "tags": []
          },
          "execution_count": 55
        }
      ]
    },
    {
      "cell_type": "code",
      "metadata": {
        "colab": {
          "base_uri": "https://localhost:8080/",
          "height": 318
        },
        "id": "NioC9rvMy643",
        "outputId": "d0eb01a4-66b5-435f-c82d-c31464eef53d"
      },
      "source": [
        "print(\"Mejores parametros : \"+str(model.best_params_))\n",
        "print(\"Mejor Score : \"+str(model.best_score_)+'\\n')\n",
        "\n",
        "scores = pd.DataFrame(model.cv_results_)\n",
        "scores.head(2)"
      ],
      "execution_count": 56,
      "outputs": [
        {
          "output_type": "stream",
          "text": [
            "Mejores parametros : {'alpha': 0.0001, 'fit_intercept': True, 'max_iter': 1, 'normalize': False, 'random_state': 1, 'solver': 'auto'}\n",
            "Mejor Score : 0.764933343962831\n",
            "\n"
          ],
          "name": "stdout"
        },
        {
          "output_type": "execute_result",
          "data": {
            "text/html": [
              "<div>\n",
              "<style scoped>\n",
              "    .dataframe tbody tr th:only-of-type {\n",
              "        vertical-align: middle;\n",
              "    }\n",
              "\n",
              "    .dataframe tbody tr th {\n",
              "        vertical-align: top;\n",
              "    }\n",
              "\n",
              "    .dataframe thead th {\n",
              "        text-align: right;\n",
              "    }\n",
              "</style>\n",
              "<table border=\"1\" class=\"dataframe\">\n",
              "  <thead>\n",
              "    <tr style=\"text-align: right;\">\n",
              "      <th></th>\n",
              "      <th>mean_fit_time</th>\n",
              "      <th>std_fit_time</th>\n",
              "      <th>mean_score_time</th>\n",
              "      <th>std_score_time</th>\n",
              "      <th>param_alpha</th>\n",
              "      <th>param_fit_intercept</th>\n",
              "      <th>param_max_iter</th>\n",
              "      <th>param_normalize</th>\n",
              "      <th>param_random_state</th>\n",
              "      <th>param_solver</th>\n",
              "      <th>params</th>\n",
              "      <th>split0_test_score</th>\n",
              "      <th>split1_test_score</th>\n",
              "      <th>split2_test_score</th>\n",
              "      <th>split3_test_score</th>\n",
              "      <th>split4_test_score</th>\n",
              "      <th>mean_test_score</th>\n",
              "      <th>std_test_score</th>\n",
              "      <th>rank_test_score</th>\n",
              "    </tr>\n",
              "  </thead>\n",
              "  <tbody>\n",
              "    <tr>\n",
              "      <th>0</th>\n",
              "      <td>0.189735</td>\n",
              "      <td>0.005613</td>\n",
              "      <td>0.006096</td>\n",
              "      <td>0.000468</td>\n",
              "      <td>0.0001</td>\n",
              "      <td>False</td>\n",
              "      <td>1</td>\n",
              "      <td>False</td>\n",
              "      <td>1</td>\n",
              "      <td>auto</td>\n",
              "      <td>{'alpha': 0.0001, 'fit_intercept': False, 'max...</td>\n",
              "      <td>0.772696</td>\n",
              "      <td>0.753812</td>\n",
              "      <td>0.767483</td>\n",
              "      <td>0.763272</td>\n",
              "      <td>0.766166</td>\n",
              "      <td>0.764686</td>\n",
              "      <td>0.006236</td>\n",
              "      <td>201</td>\n",
              "    </tr>\n",
              "    <tr>\n",
              "      <th>1</th>\n",
              "      <td>0.076826</td>\n",
              "      <td>0.007026</td>\n",
              "      <td>0.006027</td>\n",
              "      <td>0.000347</td>\n",
              "      <td>0.0001</td>\n",
              "      <td>False</td>\n",
              "      <td>1</td>\n",
              "      <td>False</td>\n",
              "      <td>1</td>\n",
              "      <td>lsqr</td>\n",
              "      <td>{'alpha': 0.0001, 'fit_intercept': False, 'max...</td>\n",
              "      <td>-2.193792</td>\n",
              "      <td>-2.197276</td>\n",
              "      <td>-2.172391</td>\n",
              "      <td>-2.118944</td>\n",
              "      <td>-2.133956</td>\n",
              "      <td>-2.163272</td>\n",
              "      <td>0.031608</td>\n",
              "      <td>1181</td>\n",
              "    </tr>\n",
              "  </tbody>\n",
              "</table>\n",
              "</div>"
            ],
            "text/plain": [
              "   mean_fit_time  std_fit_time  ...  std_test_score  rank_test_score\n",
              "0       0.189735      0.005613  ...        0.006236              201\n",
              "1       0.076826      0.007026  ...        0.031608             1181\n",
              "\n",
              "[2 rows x 19 columns]"
            ]
          },
          "metadata": {
            "tags": []
          },
          "execution_count": 56
        }
      ]
    },
    {
      "cell_type": "code",
      "metadata": {
        "id": "OjR0GMrR0fFb"
      },
      "source": [
        "#Convierto a DataFrame mis datos\n",
        "X_train_new = pd.DataFrame(data=X_train_new)\n",
        "X_test_new = pd.DataFrame(data=X_test_new)"
      ],
      "execution_count": 57,
      "outputs": []
    },
    {
      "cell_type": "code",
      "metadata": {
        "colab": {
          "base_uri": "https://localhost:8080/"
        },
        "id": "GCugqczTzvQU",
        "outputId": "a456b193-f9d5-4a1b-f30d-b86c3f7c0470"
      },
      "source": [
        "#Tomo una muestra de mis datos en Test\n",
        "idxs = np.random.randint(X_test_new.shape[0], size=10)\n",
        "idxs"
      ],
      "execution_count": 58,
      "outputs": [
        {
          "output_type": "execute_result",
          "data": {
            "text/plain": [
              "array([ 5568,  8757,  3207,  6877,  5584,  5172,  2996, 10146,  3440,\n",
              "        4935])"
            ]
          },
          "metadata": {
            "tags": []
          },
          "execution_count": 58
        }
      ]
    },
    {
      "cell_type": "code",
      "metadata": {
        "colab": {
          "base_uri": "https://localhost:8080/"
        },
        "id": "5Ti6wM0kzvNd",
        "outputId": "aae326c1-5f19-4f5b-89bf-d152ac40d335"
      },
      "source": [
        "muestra = X_test_new.iloc[idxs]\n",
        "prediccion = model.predict(muestra)\n",
        "prediccion"
      ],
      "execution_count": 59,
      "outputs": [
        {
          "output_type": "execute_result",
          "data": {
            "text/plain": [
              "array([[189020.8752967 ],\n",
              "       [201191.4042984 ],\n",
              "       [143198.13268222],\n",
              "       [ 80595.44968921],\n",
              "       [110835.64100929],\n",
              "       [307791.22579897],\n",
              "       [117035.45485449],\n",
              "       [132703.37933669],\n",
              "       [129310.87934288],\n",
              "       [143264.09993933]])"
            ]
          },
          "metadata": {
            "tags": []
          },
          "execution_count": 59
        }
      ]
    },
    {
      "cell_type": "code",
      "metadata": {
        "id": "uyYShOg_zvG3"
      },
      "source": [
        "valor_data = []\n",
        "for i in idxs:\n",
        "    valor_real = y_test.price.iloc[i]\n",
        "    valor_data.append(valor_real)"
      ],
      "execution_count": 60,
      "outputs": []
    },
    {
      "cell_type": "code",
      "metadata": {
        "colab": {
          "base_uri": "https://localhost:8080/",
          "height": 359
        },
        "id": "BoQd3MTBzu7v",
        "outputId": "ea6de1dd-9856-4668-ea32-4b96f932473e"
      },
      "source": [
        "valor_data = pd.DataFrame((valor_data), columns = ['valor_real'])\n",
        "prediccion = pd.DataFrame((prediccion), columns = ['valor_predicho'])\n",
        "comparacion = pd.merge(valor_data, prediccion, right_index=True, left_index=True)\n",
        "comparacion"
      ],
      "execution_count": 61,
      "outputs": [
        {
          "output_type": "execute_result",
          "data": {
            "text/html": [
              "<div>\n",
              "<style scoped>\n",
              "    .dataframe tbody tr th:only-of-type {\n",
              "        vertical-align: middle;\n",
              "    }\n",
              "\n",
              "    .dataframe tbody tr th {\n",
              "        vertical-align: top;\n",
              "    }\n",
              "\n",
              "    .dataframe thead th {\n",
              "        text-align: right;\n",
              "    }\n",
              "</style>\n",
              "<table border=\"1\" class=\"dataframe\">\n",
              "  <thead>\n",
              "    <tr style=\"text-align: right;\">\n",
              "      <th></th>\n",
              "      <th>valor_real</th>\n",
              "      <th>valor_predicho</th>\n",
              "    </tr>\n",
              "  </thead>\n",
              "  <tbody>\n",
              "    <tr>\n",
              "      <th>0</th>\n",
              "      <td>240000.0</td>\n",
              "      <td>189020.875297</td>\n",
              "    </tr>\n",
              "    <tr>\n",
              "      <th>1</th>\n",
              "      <td>170000.0</td>\n",
              "      <td>201191.404298</td>\n",
              "    </tr>\n",
              "    <tr>\n",
              "      <th>2</th>\n",
              "      <td>168000.0</td>\n",
              "      <td>143198.132682</td>\n",
              "    </tr>\n",
              "    <tr>\n",
              "      <th>3</th>\n",
              "      <td>95000.0</td>\n",
              "      <td>80595.449689</td>\n",
              "    </tr>\n",
              "    <tr>\n",
              "      <th>4</th>\n",
              "      <td>92000.0</td>\n",
              "      <td>110835.641009</td>\n",
              "    </tr>\n",
              "    <tr>\n",
              "      <th>5</th>\n",
              "      <td>356000.0</td>\n",
              "      <td>307791.225799</td>\n",
              "    </tr>\n",
              "    <tr>\n",
              "      <th>6</th>\n",
              "      <td>118000.0</td>\n",
              "      <td>117035.454854</td>\n",
              "    </tr>\n",
              "    <tr>\n",
              "      <th>7</th>\n",
              "      <td>90000.0</td>\n",
              "      <td>132703.379337</td>\n",
              "    </tr>\n",
              "    <tr>\n",
              "      <th>8</th>\n",
              "      <td>114500.0</td>\n",
              "      <td>129310.879343</td>\n",
              "    </tr>\n",
              "    <tr>\n",
              "      <th>9</th>\n",
              "      <td>127030.0</td>\n",
              "      <td>143264.099939</td>\n",
              "    </tr>\n",
              "  </tbody>\n",
              "</table>\n",
              "</div>"
            ],
            "text/plain": [
              "   valor_real  valor_predicho\n",
              "0    240000.0   189020.875297\n",
              "1    170000.0   201191.404298\n",
              "2    168000.0   143198.132682\n",
              "3     95000.0    80595.449689\n",
              "4     92000.0   110835.641009\n",
              "5    356000.0   307791.225799\n",
              "6    118000.0   117035.454854\n",
              "7     90000.0   132703.379337\n",
              "8    114500.0   129310.879343\n",
              "9    127030.0   143264.099939"
            ]
          },
          "metadata": {
            "tags": []
          },
          "execution_count": 61
        }
      ]
    },
    {
      "cell_type": "code",
      "metadata": {
        "colab": {
          "base_uri": "https://localhost:8080/",
          "height": 312
        },
        "id": "nIrt1gch03Yu",
        "outputId": "9d59703e-479c-49a4-f2ff-9083f059d8d6"
      },
      "source": [
        "r = comparacion['valor_real']\n",
        "p = comparacion['valor_predicho']\n",
        "plt.figure(figsize=(15,4))\n",
        "plt.plot(r,'o-',label='Valores reales')\n",
        "plt.plot(p,'o-',label='Valores predichos')\n",
        "plt.legend()\n",
        "plt.title('Comparacion de valores de propiedad')\n",
        "plt.xlabel('Muestra')\n",
        "plt.ylabel('Precio')"
      ],
      "execution_count": 62,
      "outputs": [
        {
          "output_type": "execute_result",
          "data": {
            "text/plain": [
              "Text(0, 0.5, 'Precio')"
            ]
          },
          "metadata": {
            "tags": []
          },
          "execution_count": 62
        },
        {
          "output_type": "display_data",
          "data": {
            "image/png": "[encoded data removed]",
            "text/plain": [
              "<Figure size 1080x288 with 1 Axes>"
            ]
          },
          "metadata": {
            "tags": []
          }
        }
      ]
    },
    {
      "cell_type": "markdown",
      "metadata": {
        "id": "Fh6LcyDn3khk"
      },
      "source": [
        "# Bagging"
      ]
    },
    {
      "cell_type": "markdown",
      "metadata": {
        "id": "plpItw653usJ"
      },
      "source": [
        "Para esta sección empleare los data en donde se encuentran los datos escalados y encodeados"
      ]
    },
    {
      "cell_type": "code",
      "metadata": {
        "colab": {
          "base_uri": "https://localhost:8080/",
          "height": 165
        },
        "id": "om4fclq43kPl",
        "outputId": "ea5e52d7-9739-4fe3-c75e-cdd73195282b"
      },
      "source": [
        "X_escalada.head(2)"
      ],
      "execution_count": 63,
      "outputs": [
        {
          "output_type": "execute_result",
          "data": {
            "text/html": [
              "<div>\n",
              "<style scoped>\n",
              "    .dataframe tbody tr th:only-of-type {\n",
              "        vertical-align: middle;\n",
              "    }\n",
              "\n",
              "    .dataframe tbody tr th {\n",
              "        vertical-align: top;\n",
              "    }\n",
              "\n",
              "    .dataframe thead th {\n",
              "        text-align: right;\n",
              "    }\n",
              "</style>\n",
              "<table border=\"1\" class=\"dataframe\">\n",
              "  <thead>\n",
              "    <tr style=\"text-align: right;\">\n",
              "      <th></th>\n",
              "      <th>rooms</th>\n",
              "      <th>bathrooms</th>\n",
              "      <th>surface_covered</th>\n",
              "      <th>surface_total</th>\n",
              "      <th>Abasto</th>\n",
              "      <th>Agronomía</th>\n",
              "      <th>Almagro</th>\n",
              "      <th>Balvanera</th>\n",
              "      <th>Barracas</th>\n",
              "      <th>Barrio Norte</th>\n",
              "      <th>Belgrano</th>\n",
              "      <th>Boca</th>\n",
              "      <th>Boedo</th>\n",
              "      <th>Caballito</th>\n",
              "      <th>Catalinas</th>\n",
              "      <th>Centro / Microcentro</th>\n",
              "      <th>Chacarita</th>\n",
              "      <th>Coghlan</th>\n",
              "      <th>Colegiales</th>\n",
              "      <th>Congreso</th>\n",
              "      <th>Constitución</th>\n",
              "      <th>Flores</th>\n",
              "      <th>Floresta</th>\n",
              "      <th>Las Cañitas</th>\n",
              "      <th>Liniers</th>\n",
              "      <th>Mataderos</th>\n",
              "      <th>Monserrat</th>\n",
              "      <th>Monte Castro</th>\n",
              "      <th>Nuñez</th>\n",
              "      <th>Once</th>\n",
              "      <th>Palermo</th>\n",
              "      <th>Parque Avellaneda</th>\n",
              "      <th>Parque Centenario</th>\n",
              "      <th>Parque Chacabuco</th>\n",
              "      <th>Parque Chas</th>\n",
              "      <th>Parque Patricios</th>\n",
              "      <th>Paternal</th>\n",
              "      <th>Pompeya</th>\n",
              "      <th>Puerto Madero</th>\n",
              "      <th>Recoleta</th>\n",
              "      <th>Retiro</th>\n",
              "      <th>Saavedra</th>\n",
              "      <th>San Cristobal</th>\n",
              "      <th>San Nicolás</th>\n",
              "      <th>San Telmo</th>\n",
              "      <th>Tribunales</th>\n",
              "      <th>Velez Sarsfield</th>\n",
              "      <th>Versalles</th>\n",
              "      <th>Villa Crespo</th>\n",
              "      <th>Villa Devoto</th>\n",
              "      <th>Villa General Mitre</th>\n",
              "      <th>Villa Lugano</th>\n",
              "      <th>Villa Luro</th>\n",
              "      <th>Villa Ortuzar</th>\n",
              "      <th>Villa Pueyrredón</th>\n",
              "      <th>Villa Real</th>\n",
              "      <th>Villa Riachuelo</th>\n",
              "      <th>Villa Santa Rita</th>\n",
              "      <th>Villa Soldati</th>\n",
              "      <th>Villa Urquiza</th>\n",
              "      <th>Villa del Parque</th>\n",
              "    </tr>\n",
              "  </thead>\n",
              "  <tbody>\n",
              "    <tr>\n",
              "      <th>0</th>\n",
              "      <td>-0.64799</td>\n",
              "      <td>1.345108</td>\n",
              "      <td>0.026062</td>\n",
              "      <td>-0.097188</td>\n",
              "      <td>0</td>\n",
              "      <td>0</td>\n",
              "      <td>0</td>\n",
              "      <td>0</td>\n",
              "      <td>0</td>\n",
              "      <td>0</td>\n",
              "      <td>0</td>\n",
              "      <td>0</td>\n",
              "      <td>1</td>\n",
              "      <td>0</td>\n",
              "      <td>0</td>\n",
              "      <td>0</td>\n",
              "      <td>0</td>\n",
              "      <td>0</td>\n",
              "      <td>0</td>\n",
              "      <td>0</td>\n",
              "      <td>0</td>\n",
              "      <td>0</td>\n",
              "      <td>0</td>\n",
              "      <td>0</td>\n",
              "      <td>0</td>\n",
              "      <td>0</td>\n",
              "      <td>0</td>\n",
              "      <td>0</td>\n",
              "      <td>0</td>\n",
              "      <td>0</td>\n",
              "      <td>0</td>\n",
              "      <td>0</td>\n",
              "      <td>0</td>\n",
              "      <td>0</td>\n",
              "      <td>0</td>\n",
              "      <td>0</td>\n",
              "      <td>0</td>\n",
              "      <td>0</td>\n",
              "      <td>0</td>\n",
              "      <td>0</td>\n",
              "      <td>0</td>\n",
              "      <td>0</td>\n",
              "      <td>0</td>\n",
              "      <td>0</td>\n",
              "      <td>0</td>\n",
              "      <td>0</td>\n",
              "      <td>0</td>\n",
              "      <td>0</td>\n",
              "      <td>0</td>\n",
              "      <td>0</td>\n",
              "      <td>0</td>\n",
              "      <td>0</td>\n",
              "      <td>0</td>\n",
              "      <td>0</td>\n",
              "      <td>0</td>\n",
              "      <td>0</td>\n",
              "      <td>0</td>\n",
              "      <td>0</td>\n",
              "      <td>0</td>\n",
              "      <td>0</td>\n",
              "      <td>0</td>\n",
              "    </tr>\n",
              "    <tr>\n",
              "      <th>1</th>\n",
              "      <td>-0.64799</td>\n",
              "      <td>-0.566673</td>\n",
              "      <td>-0.793589</td>\n",
              "      <td>-0.631702</td>\n",
              "      <td>0</td>\n",
              "      <td>0</td>\n",
              "      <td>0</td>\n",
              "      <td>0</td>\n",
              "      <td>0</td>\n",
              "      <td>0</td>\n",
              "      <td>0</td>\n",
              "      <td>0</td>\n",
              "      <td>0</td>\n",
              "      <td>0</td>\n",
              "      <td>0</td>\n",
              "      <td>0</td>\n",
              "      <td>0</td>\n",
              "      <td>0</td>\n",
              "      <td>0</td>\n",
              "      <td>0</td>\n",
              "      <td>0</td>\n",
              "      <td>0</td>\n",
              "      <td>0</td>\n",
              "      <td>0</td>\n",
              "      <td>0</td>\n",
              "      <td>0</td>\n",
              "      <td>0</td>\n",
              "      <td>0</td>\n",
              "      <td>0</td>\n",
              "      <td>0</td>\n",
              "      <td>1</td>\n",
              "      <td>0</td>\n",
              "      <td>0</td>\n",
              "      <td>0</td>\n",
              "      <td>0</td>\n",
              "      <td>0</td>\n",
              "      <td>0</td>\n",
              "      <td>0</td>\n",
              "      <td>0</td>\n",
              "      <td>0</td>\n",
              "      <td>0</td>\n",
              "      <td>0</td>\n",
              "      <td>0</td>\n",
              "      <td>0</td>\n",
              "      <td>0</td>\n",
              "      <td>0</td>\n",
              "      <td>0</td>\n",
              "      <td>0</td>\n",
              "      <td>0</td>\n",
              "      <td>0</td>\n",
              "      <td>0</td>\n",
              "      <td>0</td>\n",
              "      <td>0</td>\n",
              "      <td>0</td>\n",
              "      <td>0</td>\n",
              "      <td>0</td>\n",
              "      <td>0</td>\n",
              "      <td>0</td>\n",
              "      <td>0</td>\n",
              "      <td>0</td>\n",
              "      <td>0</td>\n",
              "    </tr>\n",
              "  </tbody>\n",
              "</table>\n",
              "</div>"
            ],
            "text/plain": [
              "     rooms  bathrooms  ...  Villa Urquiza  Villa del Parque\n",
              "0 -0.64799   1.345108  ...              0                 0\n",
              "1 -0.64799  -0.566673  ...              0                 0\n",
              "\n",
              "[2 rows x 61 columns]"
            ]
          },
          "metadata": {
            "tags": []
          },
          "execution_count": 63
        }
      ]
    },
    {
      "cell_type": "code",
      "metadata": {
        "id": "yEcQY1-Y3tBQ"
      },
      "source": [
        "X_train, X_test, y_train, y_test = train_test_split(X_escalada, y, test_size=0.30, random_state=42)"
      ],
      "execution_count": 64,
      "outputs": []
    },
    {
      "cell_type": "code",
      "metadata": {
        "colab": {
          "base_uri": "https://localhost:8080/"
        },
        "id": "ZyM96sPpGnKB",
        "outputId": "23951911-113e-49c5-854f-b1998ceb89dd"
      },
      "source": [
        "\n",
        "estimator = [10,30,50,80,100]\n",
        "\n",
        "for i in estimator:\n",
        "    reg_bgg = BaggingRegressor(base_estimator=KNeighborsRegressor(),\n",
        "                           n_estimators=i, bootstrap_features=True)\n",
        "    print('Numero de estimators:', i)\n",
        "    reg_bgg.fit(X_train, y_train)\n",
        "    print (\"R2 of KNeighborsRegressor test:\", reg_bgg.score(X_test,y_test) )\n",
        "    print('RMSE train:',np.sqrt(mean_squared_error(y_test, reg_bgg.predict(X_test))))\n",
        "    print('-------------------------------')"
      ],
      "execution_count": 65,
      "outputs": [
        {
          "output_type": "stream",
          "text": [
            "Numero de estimators: 10\n",
            "R2 of KNeighborsRegressor test: 0.7356136251830205\n",
            "RMSE train: 41207.05460367884\n",
            "-------------------------------\n",
            "Numero de estimators: 30\n",
            "R2 of KNeighborsRegressor test: 0.7649669672442196\n",
            "RMSE train: 38852.278255152894\n",
            "-------------------------------\n",
            "Numero de estimators: 50\n",
            "R2 of KNeighborsRegressor test: 0.7647688540602228\n",
            "RMSE train: 38868.649416114\n",
            "-------------------------------\n",
            "Numero de estimators: 80\n",
            "R2 of KNeighborsRegressor test: 0.7670328394054462\n",
            "RMSE train: 38681.151259740334\n",
            "-------------------------------\n",
            "Numero de estimators: 100\n",
            "R2 of KNeighborsRegressor test: 0.7623714930998258\n",
            "RMSE train: 39066.21247194156\n",
            "-------------------------------\n"
          ],
          "name": "stdout"
        }
      ]
    },
    {
      "cell_type": "code",
      "metadata": {
        "id": "pYKOnBSsnoI4"
      },
      "source": [
        "reg_bgg = BaggingRegressor(base_estimator=KNeighborsRegressor(),\n",
        "                           n_estimators=80, bootstrap_features=True)"
      ],
      "execution_count": 66,
      "outputs": []
    },
    {
      "cell_type": "markdown",
      "metadata": {
        "id": "ILZU2NKsbqqw"
      },
      "source": [
        "## Validación cruzada"
      ]
    },
    {
      "cell_type": "code",
      "metadata": {
        "id": "A5gTBITObnYi"
      },
      "source": [
        "bgg_scores = cross_val_score(reg_bgg, X_escalada, y, cv = 5)"
      ],
      "execution_count": 67,
      "outputs": []
    },
    {
      "cell_type": "code",
      "metadata": {
        "colab": {
          "base_uri": "https://localhost:8080/"
        },
        "id": "2Uzt_oMzbyf1",
        "outputId": "710b33af-1292-491c-acdd-5f1b952b0ebb"
      },
      "source": [
        "print(bgg_scores)\n",
        "print(\"Accuracy para Baggin: %0.2f (+/- %0.2f)\" % (bgg_scores.mean(), bgg_scores.std() * 2))"
      ],
      "execution_count": 68,
      "outputs": [
        {
          "output_type": "stream",
          "text": [
            "[0.76779692 0.76352336 0.76168075 0.75110627 0.76761464]\n",
            "Accuracy para Baggin: 0.76 (+/- 0.01)\n"
          ],
          "name": "stdout"
        }
      ]
    },
    {
      "cell_type": "code",
      "metadata": {
        "colab": {
          "base_uri": "https://localhost:8080/"
        },
        "id": "Iqz6x-0AkEFV",
        "outputId": "a14b2a58-f5c1-4452-89bc-52017c90848a"
      },
      "source": [
        "reg_bgg.fit(X_train, y_train)"
      ],
      "execution_count": 69,
      "outputs": [
        {
          "output_type": "execute_result",
          "data": {
            "text/plain": [
              "BaggingRegressor(base_estimator=KNeighborsRegressor(algorithm='auto',\n",
              "                                                    leaf_size=30,\n",
              "                                                    metric='minkowski',\n",
              "                                                    metric_params=None,\n",
              "                                                    n_jobs=None, n_neighbors=5,\n",
              "                                                    p=2, weights='uniform'),\n",
              "                 bootstrap=True, bootstrap_features=True, max_features=1.0,\n",
              "                 max_samples=1.0, n_estimators=80, n_jobs=None, oob_score=False,\n",
              "                 random_state=None, verbose=0, warm_start=False)"
            ]
          },
          "metadata": {
            "tags": []
          },
          "execution_count": 69
        }
      ]
    },
    {
      "cell_type": "code",
      "metadata": {
        "colab": {
          "base_uri": "https://localhost:8080/"
        },
        "id": "GlLAJtwQjgQ5",
        "outputId": "dfe4f609-7ec9-4f7e-e766-8cdfc9dac339"
      },
      "source": [
        "#Tomo una muestra de mi Datos en Test\n",
        "idxs = np.random.randint(X_test.shape[0], size=10)\n",
        "idxs"
      ],
      "execution_count": 70,
      "outputs": [
        {
          "output_type": "execute_result",
          "data": {
            "text/plain": [
              "array([1201,  449, 9627,  372, 9949, 3269, 5922, 6363, 2520, 8175])"
            ]
          },
          "metadata": {
            "tags": []
          },
          "execution_count": 70
        }
      ]
    },
    {
      "cell_type": "code",
      "metadata": {
        "id": "qLk2cCXOjwzf"
      },
      "source": [
        "muestra = X_test.iloc[idxs]\n",
        "prediccion = reg_bgg.predict(muestra)\n",
        "valor_data = []\n",
        "for i in idxs:\n",
        "    valor_real = y_test.price.iloc[i]\n",
        "    valor_data.append(valor_real)"
      ],
      "execution_count": 71,
      "outputs": []
    },
    {
      "cell_type": "code",
      "metadata": {
        "colab": {
          "base_uri": "https://localhost:8080/",
          "height": 359
        },
        "id": "-T2u73-Tj7Ri",
        "outputId": "1227e63b-d8c9-4561-ea49-2349b32d67cb"
      },
      "source": [
        "valor_data = pd.DataFrame((valor_data), columns = ['valor_real'])\n",
        "prediccion = pd.DataFrame((prediccion), columns = ['valor_predicho'])\n",
        "comparacion = pd.merge(valor_data, prediccion, right_index=True, left_index=True)\n",
        "comparacion"
      ],
      "execution_count": 72,
      "outputs": [
        {
          "output_type": "execute_result",
          "data": {
            "text/html": [
              "<div>\n",
              "<style scoped>\n",
              "    .dataframe tbody tr th:only-of-type {\n",
              "        vertical-align: middle;\n",
              "    }\n",
              "\n",
              "    .dataframe tbody tr th {\n",
              "        vertical-align: top;\n",
              "    }\n",
              "\n",
              "    .dataframe thead th {\n",
              "        text-align: right;\n",
              "    }\n",
              "</style>\n",
              "<table border=\"1\" class=\"dataframe\">\n",
              "  <thead>\n",
              "    <tr style=\"text-align: right;\">\n",
              "      <th></th>\n",
              "      <th>valor_real</th>\n",
              "      <th>valor_predicho</th>\n",
              "    </tr>\n",
              "  </thead>\n",
              "  <tbody>\n",
              "    <tr>\n",
              "      <th>0</th>\n",
              "      <td>115000.0</td>\n",
              "      <td>115048.0050</td>\n",
              "    </tr>\n",
              "    <tr>\n",
              "      <th>1</th>\n",
              "      <td>105000.0</td>\n",
              "      <td>120316.1950</td>\n",
              "    </tr>\n",
              "    <tr>\n",
              "      <th>2</th>\n",
              "      <td>350000.0</td>\n",
              "      <td>319451.7200</td>\n",
              "    </tr>\n",
              "    <tr>\n",
              "      <th>3</th>\n",
              "      <td>173000.0</td>\n",
              "      <td>124762.3250</td>\n",
              "    </tr>\n",
              "    <tr>\n",
              "      <th>4</th>\n",
              "      <td>260000.0</td>\n",
              "      <td>252729.6575</td>\n",
              "    </tr>\n",
              "    <tr>\n",
              "      <th>5</th>\n",
              "      <td>78000.0</td>\n",
              "      <td>107342.5000</td>\n",
              "    </tr>\n",
              "    <tr>\n",
              "      <th>6</th>\n",
              "      <td>230000.0</td>\n",
              "      <td>142323.0125</td>\n",
              "    </tr>\n",
              "    <tr>\n",
              "      <th>7</th>\n",
              "      <td>105000.0</td>\n",
              "      <td>93564.6925</td>\n",
              "    </tr>\n",
              "    <tr>\n",
              "      <th>8</th>\n",
              "      <td>136000.0</td>\n",
              "      <td>99184.1300</td>\n",
              "    </tr>\n",
              "    <tr>\n",
              "      <th>9</th>\n",
              "      <td>50000.0</td>\n",
              "      <td>72435.4850</td>\n",
              "    </tr>\n",
              "  </tbody>\n",
              "</table>\n",
              "</div>"
            ],
            "text/plain": [
              "   valor_real  valor_predicho\n",
              "0    115000.0     115048.0050\n",
              "1    105000.0     120316.1950\n",
              "2    350000.0     319451.7200\n",
              "3    173000.0     124762.3250\n",
              "4    260000.0     252729.6575\n",
              "5     78000.0     107342.5000\n",
              "6    230000.0     142323.0125\n",
              "7    105000.0      93564.6925\n",
              "8    136000.0      99184.1300\n",
              "9     50000.0      72435.4850"
            ]
          },
          "metadata": {
            "tags": []
          },
          "execution_count": 72
        }
      ]
    },
    {
      "cell_type": "code",
      "metadata": {
        "colab": {
          "base_uri": "https://localhost:8080/",
          "height": 312
        },
        "id": "shkNrTbYkagN",
        "outputId": "d5f50909-51ee-405b-d214-c0173870f557"
      },
      "source": [
        "r = comparacion['valor_real']\n",
        "p = comparacion['valor_predicho']\n",
        "plt.figure(figsize=(15,4))\n",
        "plt.plot(r,'o-',label='Valores reales')\n",
        "plt.plot(p,'o-',label='Valores predichos')\n",
        "plt.legend()\n",
        "plt.title('Comparacion de precios')\n",
        "plt.xlabel('Muestra')\n",
        "plt.ylabel('Precio')"
      ],
      "execution_count": 73,
      "outputs": [
        {
          "output_type": "execute_result",
          "data": {
            "text/plain": [
              "Text(0, 0.5, 'Precio')"
            ]
          },
          "metadata": {
            "tags": []
          },
          "execution_count": 73
        },
        {
          "output_type": "display_data",
          "data": {
            "image/png": "[encoded data removed]",
            "text/plain": [
              "<Figure size 1080x288 with 1 Axes>"
            ]
          },
          "metadata": {
            "tags": []
          }
        }
      ]
    }
  ]
}