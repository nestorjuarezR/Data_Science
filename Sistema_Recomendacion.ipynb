{
 "cells": [
  {
   "cell_type": "markdown",
   "metadata": {},
   "source": [
    "# Sistema de Recomendacion\n",
    "\n",
    "El Dataset se obtuvo desde Kaggle, la Data perteneciente a la informacion de Youtube México\n",
    "https://www.kaggle.com/datasnaek/youtube-new"
   ]
  },
  {
   "cell_type": "code",
   "execution_count": 1,
   "metadata": {},
   "outputs": [],
   "source": [
    "import numpy as np\n",
    "import pandas as pd\n",
    "import matplotlib.pyplot as plt\n",
    "import seaborn as sns\n",
    "import string\n",
    "import nltk\n",
    "from nltk.corpus import stopwords\n",
    "from sklearn.metrics.pairwise import linear_kernel\n",
    "from sklearn.feature_extraction.text import TfidfVectorizer\n",
    "\n",
    "import warnings\n",
    "warnings.filterwarnings('ignore')"
   ]
  },
  {
   "cell_type": "code",
   "execution_count": 2,
   "metadata": {},
   "outputs": [],
   "source": [
    "data = pd.read_csv('Data/MXvideos.csv', encoding='ISO-8859-1')"
   ]
  },
  {
   "cell_type": "code",
   "execution_count": 3,
   "metadata": {
    "scrolled": true
   },
   "outputs": [
    {
     "data": {
      "text/html": [
       "<div>\n",
       "<style scoped>\n",
       "    .dataframe tbody tr th:only-of-type {\n",
       "        vertical-align: middle;\n",
       "    }\n",
       "\n",
       "    .dataframe tbody tr th {\n",
       "        vertical-align: top;\n",
       "    }\n",
       "\n",
       "    .dataframe thead th {\n",
       "        text-align: right;\n",
       "    }\n",
       "</style>\n",
       "<table border=\"1\" class=\"dataframe\">\n",
       "  <thead>\n",
       "    <tr style=\"text-align: right;\">\n",
       "      <th></th>\n",
       "      <th>video_id</th>\n",
       "      <th>trending_date</th>\n",
       "      <th>title</th>\n",
       "      <th>channel_title</th>\n",
       "      <th>category_id</th>\n",
       "      <th>publish_time</th>\n",
       "      <th>tags</th>\n",
       "      <th>views</th>\n",
       "      <th>likes</th>\n",
       "      <th>dislikes</th>\n",
       "      <th>comment_count</th>\n",
       "      <th>thumbnail_link</th>\n",
       "      <th>comments_disabled</th>\n",
       "      <th>ratings_disabled</th>\n",
       "      <th>video_error_or_removed</th>\n",
       "      <th>description</th>\n",
       "    </tr>\n",
       "  </thead>\n",
       "  <tbody>\n",
       "    <tr>\n",
       "      <th>0</th>\n",
       "      <td>SbOwzAl9ZfQ</td>\n",
       "      <td>17.14.11</td>\n",
       "      <td>CapÃ­tulo 12 | MasterChef 2017</td>\n",
       "      <td>MasterChef 2017</td>\n",
       "      <td>24</td>\n",
       "      <td>2017-11-13T06:06:22.000Z</td>\n",
       "      <td>MasterChef Junior 2017|\"TV Azteca\"|\"recetas\"|\"...</td>\n",
       "      <td>310130</td>\n",
       "      <td>4182</td>\n",
       "      <td>361</td>\n",
       "      <td>1836</td>\n",
       "      <td>https://i.ytimg.com/vi/SbOwzAl9ZfQ/default.jpg</td>\n",
       "      <td>False</td>\n",
       "      <td>False</td>\n",
       "      <td>False</td>\n",
       "      <td>Disfruta la presencia del Chef Torreblanca en ...</td>\n",
       "    </tr>\n",
       "    <tr>\n",
       "      <th>1</th>\n",
       "      <td>klOV6Xh-DnI</td>\n",
       "      <td>17.14.11</td>\n",
       "      <td>ALEXA EX-INTEGRANTE DEL GRUPO TIMBIRICHE RENUN...</td>\n",
       "      <td>Micky Contreras Martinez</td>\n",
       "      <td>22</td>\n",
       "      <td>2017-11-13T05:11:58.000Z</td>\n",
       "      <td>La Voz Mexico 7</td>\n",
       "      <td>104972</td>\n",
       "      <td>271</td>\n",
       "      <td>174</td>\n",
       "      <td>369</td>\n",
       "      <td>https://i.ytimg.com/vi/klOV6Xh-DnI/default.jpg</td>\n",
       "      <td>False</td>\n",
       "      <td>False</td>\n",
       "      <td>False</td>\n",
       "      <td>ALEXA EX-INTEGRANTE DEL GRUPO TIMBIRICHE RENUN...</td>\n",
       "    </tr>\n",
       "  </tbody>\n",
       "</table>\n",
       "</div>"
      ],
      "text/plain": [
       "      video_id trending_date  \\\n",
       "0  SbOwzAl9ZfQ      17.14.11   \n",
       "1  klOV6Xh-DnI      17.14.11   \n",
       "\n",
       "                                               title  \\\n",
       "0                     CapÃ­tulo 12 | MasterChef 2017   \n",
       "1  ALEXA EX-INTEGRANTE DEL GRUPO TIMBIRICHE RENUN...   \n",
       "\n",
       "              channel_title  category_id              publish_time  \\\n",
       "0           MasterChef 2017           24  2017-11-13T06:06:22.000Z   \n",
       "1  Micky Contreras Martinez           22  2017-11-13T05:11:58.000Z   \n",
       "\n",
       "                                                tags   views  likes  dislikes  \\\n",
       "0  MasterChef Junior 2017|\"TV Azteca\"|\"recetas\"|\"...  310130   4182       361   \n",
       "1                                    La Voz Mexico 7  104972    271       174   \n",
       "\n",
       "   comment_count                                  thumbnail_link  \\\n",
       "0           1836  https://i.ytimg.com/vi/SbOwzAl9ZfQ/default.jpg   \n",
       "1            369  https://i.ytimg.com/vi/klOV6Xh-DnI/default.jpg   \n",
       "\n",
       "   comments_disabled  ratings_disabled  video_error_or_removed  \\\n",
       "0              False             False                   False   \n",
       "1              False             False                   False   \n",
       "\n",
       "                                         description  \n",
       "0  Disfruta la presencia del Chef Torreblanca en ...  \n",
       "1  ALEXA EX-INTEGRANTE DEL GRUPO TIMBIRICHE RENUN...  "
      ]
     },
     "execution_count": 3,
     "metadata": {},
     "output_type": "execute_result"
    }
   ],
   "source": [
    "data.head(2)"
   ]
  },
  {
   "cell_type": "code",
   "execution_count": 4,
   "metadata": {},
   "outputs": [
    {
     "data": {
      "text/plain": [
       "(40451, 16)"
      ]
     },
     "execution_count": 4,
     "metadata": {},
     "output_type": "execute_result"
    }
   ],
   "source": [
    "data.shape"
   ]
  },
  {
   "cell_type": "code",
   "execution_count": 5,
   "metadata": {
    "scrolled": false
   },
   "outputs": [
    {
     "data": {
      "text/plain": [
       "video_id                     0\n",
       "trending_date                0\n",
       "title                        0\n",
       "channel_title                0\n",
       "category_id                  0\n",
       "publish_time                 0\n",
       "tags                         0\n",
       "views                        0\n",
       "likes                        0\n",
       "dislikes                     0\n",
       "comment_count                0\n",
       "thumbnail_link               0\n",
       "comments_disabled            0\n",
       "ratings_disabled             0\n",
       "video_error_or_removed       0\n",
       "description               4224\n",
       "dtype: int64"
      ]
     },
     "execution_count": 5,
     "metadata": {},
     "output_type": "execute_result"
    }
   ],
   "source": [
    "data.isnull().sum()"
   ]
  },
  {
   "cell_type": "code",
   "execution_count": 6,
   "metadata": {
    "scrolled": false
   },
   "outputs": [
    {
     "name": "stdout",
     "output_type": "stream",
     "text": [
      "<-- Canales más frecuentes -->\n",
      " \n"
     ]
    },
    {
     "data": {
      "text/plain": [
       "Cracks                  186\n",
       "Badabun                 184\n",
       "Troom Troom Es          168\n",
       "Cracks MX               162\n",
       "Las Estrellas           155\n",
       "Televisa Telenovelas    149\n",
       "El Salvador 4K          145\n",
       "Tu COSMOPOLIS           143\n",
       "EnamorÃ¡ndonos          136\n",
       "Ventaneando             133\n",
       "Name: channel_title, dtype: int64"
      ]
     },
     "execution_count": 6,
     "metadata": {},
     "output_type": "execute_result"
    }
   ],
   "source": [
    "print('<-- Canales más frecuentes -->\\n ')\n",
    "data.channel_title.value_counts().head(10)"
   ]
  },
  {
   "cell_type": "code",
   "execution_count": 7,
   "metadata": {
    "scrolled": false
   },
   "outputs": [
    {
     "name": "stdout",
     "output_type": "stream",
     "text": [
      "<-- Top 10 Videos con mas dislikes -->\n",
      " \n",
      "--> Â¿QuÃ© pasarÃ­a si nunca te baÃ±aras?\n",
      "--> HACKS PARA UNA NAVIDAD CON CALOR | KAREN POLINESIA MUSAS LOS POLINESIOS\n",
      "--> ROCKERO Y YOUTUBERO: LAS MADURAS DE MI BARRIO | JORDI ENP\n",
      "--> âº Tag de la Primera Cita | Â¿Mi nueva novia?\n",
      "--> Christopher Robin Official Teaser Trailer\n",
      "--> CHILENA, ERROR, LÃGRIMAS: Â¡MADRlD CAMPE0N! | Â¿CRISTIANO SE DESPIDIÃ del EQUIPO? FLORENTIN0 RESPONDE\n",
      "--> NiÃ±a bien vota por ya sabes quien.\n",
      "--> Los 7 himnos nacionales mÃ¡s Ã©picos de la historia\n",
      "--> HAZ SLIME CON 1 INGREDIENTE ð¦ LICUADORA SLIME Y MÃ¡s Recetas LOCAS!\n",
      "--> LAS MEJORES BROMAS PESADAS DEL 2018\n"
     ]
    }
   ],
   "source": [
    "print('<-- Top 10 Videos con mas dislikes -->\\n ')\n",
    "top_dislikes = data.dislikes.value_counts(ascending=True)\n",
    "i = 0\n",
    "while i <= 9:\n",
    "    ids = top_dislikes.index[i]\n",
    "    ids = data[data['dislikes'] == ids]\n",
    "    print('-->', ids.title.iloc[0])\n",
    "    i = i + 1"
   ]
  },
  {
   "cell_type": "code",
   "execution_count": 8,
   "metadata": {},
   "outputs": [
    {
     "name": "stdout",
     "output_type": "stream",
     "text": [
      "<-- Top 10 Videos con mas likes -->\n",
      " \n",
      "--> BÃRNS, Lana Del Rey - God Save Our Young Blood (Audio)\n",
      "--> Luis Miguel La Serie | Teaser: Mi Historia | Netflix\n",
      "--> Â¿QUÃ OCURRE SI HACES SLIME EN LA LICUADORA? - Experimento\n",
      "--> TOP 10 ZAPATOS MÃS CAROS DEL MUNDO! | REACCIONANDO\n",
      "--> PLANETAS COMESTIBLES | MUSAS LESSLIE LOS POLINESIOS | LOLLI POP  | AVENGERS INFINITY WAR\n",
      "--> Franco Escamilla.- La mesa reÃ±oÃ±a 80 Especial Navidad\n",
      "--> Karol G, Cosculluela - La Dama\n",
      "--> 24 FRASES INMORTALES DE ACZINO\n",
      "--> El âhomenaje de Zidane a Messi | âel mejor jugador del mundo\n",
      "--> PROMO: Insomnio\n"
     ]
    }
   ],
   "source": [
    "print('<-- Top 10 Videos con mas likes -->\\n ')\n",
    "top_likes = data.likes.value_counts(ascending=True)\n",
    "i = 0\n",
    "while i <= 9:\n",
    "    ids = top_likes.index[i]\n",
    "    ids = data[data['likes'] == ids]\n",
    "    print('-->', ids.title.iloc[0])\n",
    "    i = i + 1"
   ]
  },
  {
   "cell_type": "code",
   "execution_count": 9,
   "metadata": {},
   "outputs": [],
   "source": [
    "#Solo manejo el 40% de los datos\n",
    "df = data.sample(frac=0.04)\n",
    "df.reset_index(drop=True, inplace=True)"
   ]
  },
  {
   "cell_type": "code",
   "execution_count": 10,
   "metadata": {},
   "outputs": [
    {
     "data": {
      "text/plain": [
       "0                                               [none]\n",
       "1                                               [none]\n",
       "2                                               [none]\n",
       "3    santa misa del dÃ­a|\"eucaristÃ­a del dÃ­a\"|\"mi...\n",
       "Name: tags, dtype: object"
      ]
     },
     "execution_count": 10,
     "metadata": {},
     "output_type": "execute_result"
    }
   ],
   "source": [
    "df.tags.head(4)"
   ]
  },
  {
   "cell_type": "code",
   "execution_count": 11,
   "metadata": {},
   "outputs": [],
   "source": [
    "#Remuevo signos y simbolos presentes en la columna tags\n",
    "df['xtags'] = df['tags'].str.replace('[{}]'.format(string.punctuation), ' ')"
   ]
  },
  {
   "cell_type": "markdown",
   "metadata": {},
   "source": [
    "# Convertir palabras a numeros"
   ]
  },
  {
   "cell_type": "code",
   "execution_count": 12,
   "metadata": {},
   "outputs": [],
   "source": [
    "stopwords = nltk.corpus.stopwords.words('spanish')    #Defino las stopwords\n",
    "tfidf = TfidfVectorizer(stop_words=set(stopwords))    #Defino el modelo\n",
    "df['xtags'] =df['xtags'].fillna('')               #Imputar valores\n",
    "tfidf_matrix = tfidf.fit_transform(df['xtags'])       #Defino la matrix"
   ]
  },
  {
   "cell_type": "code",
   "execution_count": 13,
   "metadata": {},
   "outputs": [
    {
     "name": "stdout",
     "output_type": "stream",
     "text": [
      "9716\n",
      "(1618, 9716)\n"
     ]
    }
   ],
   "source": [
    "print(len(tfidf.vocabulary_))\n",
    "print(tfidf_matrix.shape)"
   ]
  },
  {
   "cell_type": "code",
   "execution_count": 14,
   "metadata": {},
   "outputs": [],
   "source": [
    "'''\n",
    "Matriz de comparación\n",
    "Compara las etiquetas de un video seleccionado con la lista anterior\n",
    "en busca de palabras similares\n",
    "'''\n",
    "cosine_sim = linear_kernel(tfidf_matrix, tfidf_matrix)"
   ]
  },
  {
   "cell_type": "code",
   "execution_count": 15,
   "metadata": {},
   "outputs": [],
   "source": [
    "indices = pd.Series(df.index, index=df['title']).drop_duplicates()"
   ]
  },
  {
   "cell_type": "code",
   "execution_count": 16,
   "metadata": {},
   "outputs": [],
   "source": [
    "def get_recomendation(title, cosine_sim=cosine_sim):\n",
    "    idx = indices[title]\n",
    "    sim_scores = list(enumerate(cosine_sim[idx]))\n",
    "    sim_scores = sorted(sim_scores, key=lambda x: x[1], reverse=True)\n",
    "    sim_scores = sim_scores[1:5]\n",
    "    movie_indices = [i[0] for i in sim_scores]\n",
    "    return df['title'].iloc[movie_indices]"
   ]
  },
  {
   "cell_type": "markdown",
   "metadata": {},
   "source": [
    "# Recomendaciones"
   ]
  },
  {
   "cell_type": "code",
   "execution_count": 17,
   "metadata": {
    "scrolled": true
   },
   "outputs": [
    {
     "data": {
      "text/plain": [
       "'Noticias irresistibles: Andrea Legarreta vs Magda, Atala Sarmiento y William Levy'"
      ]
     },
     "execution_count": 17,
     "metadata": {},
     "output_type": "execute_result"
    }
   ],
   "source": [
    "#Seleccion de video al azar\n",
    "video =np.random.randint(df.shape[0], size=1)\n",
    "video = str(df.iloc[video[0]]['title'])\n",
    "video"
   ]
  },
  {
   "cell_type": "code",
   "execution_count": 18,
   "metadata": {},
   "outputs": [],
   "source": [
    "def recomendaciones(video):\n",
    "    print('Recomendaciones basadas en su ultima reproducción: {} '.format(video))\n",
    "    print('<------------------------------------------>')\n",
    "    print(get_recomendation(video))"
   ]
  },
  {
   "cell_type": "code",
   "execution_count": 19,
   "metadata": {},
   "outputs": [
    {
     "name": "stdout",
     "output_type": "stream",
     "text": [
      "Recomendaciones basadas en su ultima reproducción: Noticias irresistibles: Andrea Legarreta vs Magda, Atala Sarmiento y William Levy \n",
      "<------------------------------------------>\n",
      "331    Paty Chapoy se la Canta a Atala: Â¡Si hay Vide...\n",
      "858    Paul Stanley en Hoy, Mishelle en tanga, Gloria...\n",
      "877    El Negro Araiza y Andrea Legarreta hacen las p...\n",
      "180        Se busca video de Atala Sarmiento en Televisa\n",
      "Name: title, dtype: object\n"
     ]
    }
   ],
   "source": [
    "recomendaciones(video)"
   ]
  }
 ],
 "metadata": {
  "kernelspec": {
   "display_name": "Python 3",
   "language": "python",
   "name": "python3"
  },
  "language_info": {
   "codemirror_mode": {
    "name": "ipython",
    "version": 3
   },
   "file_extension": ".py",
   "mimetype": "text/x-python",
   "name": "python",
   "nbconvert_exporter": "python",
   "pygments_lexer": "ipython3",
   "version": "3.8.3"
  }
 },
 "nbformat": 4,
 "nbformat_minor": 4
}
