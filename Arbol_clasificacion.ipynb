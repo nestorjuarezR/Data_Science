{
  "nbformat": 4,
  "nbformat_minor": 0,
  "metadata": {
    "colab": {
      "name": "Arbol_clasificacion.ipynb",
      "provenance": [],
      "collapsed_sections": [],
      "include_colab_link": true
    },
    "kernelspec": {
      "display_name": "Python 3",
      "language": "python",
      "name": "python3"
    },
    "language_info": {
      "codemirror_mode": {
        "name": "ipython",
        "version": 3
      },
      "file_extension": ".py",
      "mimetype": "text/x-python",
      "name": "python",
      "nbconvert_exporter": "python",
      "pygments_lexer": "ipython3",
      "version": "3.8.3"
    }
  },
  "cells": [
    {
      "cell_type": "markdown",
      "metadata": {
        "id": "view-in-github",
        "colab_type": "text"
      },
      "source": [
        "<a href=\"https://colab.research.google.com/github/nestorjuarezR/Data_Science/blob/main/Arbol_clasificacion.ipynb\" target=\"_parent\"><img src=\"https://colab.research.google.com/assets/colab-badge.svg\" alt=\"Open In Colab\"/></a>"
      ]
    },
    {
      "cell_type": "markdown",
      "metadata": {
        "id": "2MJnmJcGIWoZ"
      },
      "source": [
        "# Machine Learning -> Clasificación"
      ]
    },
    {
      "cell_type": "markdown",
      "metadata": {
        "id": "wQhS41VeIWoh"
      },
      "source": [
        "### Titanic"
      ]
    },
    {
      "cell_type": "markdown",
      "metadata": {
        "id": "AI-oB16TIWoq"
      },
      "source": [
        "La data de este NoteBook se obtuvo de Kaggle:\n",
        "https://www.kaggle.com/c/titanic/data\n",
        "Realizando una union entre la Data de Train y Test"
      ]
    },
    {
      "cell_type": "markdown",
      "metadata": {
        "id": "7ppl2BSBIWoy"
      },
      "source": [
        "'''Importar librerias basicas de trabajo'''\n",
        "import numpy as np\n",
        "import pandas as pd\n",
        "import matplotlib.pyplot as plt\n",
        "import seaborn as sns\n",
        "\n",
        "import warnings\n",
        "warnings.filterwarnings('ignore')"
      ]
    },
    {
      "cell_type": "code",
      "metadata": {
        "id": "ld_Ui-ApJytU"
      },
      "source": [
        "'''Importar librerias basicas de trabajo'''\n",
        "import numpy as np\n",
        "import pandas as pd\n",
        "import matplotlib.pyplot as plt\n",
        "import seaborn as sns\n",
        "\n",
        "import warnings\n",
        "warnings.filterwarnings('ignore')"
      ],
      "execution_count": 1,
      "outputs": []
    },
    {
      "cell_type": "code",
      "metadata": {
        "id": "Ydgxgda5kDMk"
      },
      "source": [
        "url = '/content/drive/MyDrive/Data/titanic.csv'"
      ],
      "execution_count": 2,
      "outputs": []
    },
    {
      "cell_type": "code",
      "metadata": {
        "id": "9j-ewAVdkmwv"
      },
      "source": [
        "data = pd.read_csv(url)"
      ],
      "execution_count": 3,
      "outputs": []
    },
    {
      "cell_type": "code",
      "metadata": {
        "id": "DhXY_w4WIWp6",
        "colab": {
          "base_uri": "https://localhost:8080/",
          "height": 111
        },
        "outputId": "8620c9fd-69ec-4a09-9a74-78c7fb26d120"
      },
      "source": [
        "'''Exploracion rapida del la informacion '''\n",
        "data.head(2)"
      ],
      "execution_count": 4,
      "outputs": [
        {
          "output_type": "execute_result",
          "data": {
            "text/html": [
              "<div>\n",
              "<style scoped>\n",
              "    .dataframe tbody tr th:only-of-type {\n",
              "        vertical-align: middle;\n",
              "    }\n",
              "\n",
              "    .dataframe tbody tr th {\n",
              "        vertical-align: top;\n",
              "    }\n",
              "\n",
              "    .dataframe thead th {\n",
              "        text-align: right;\n",
              "    }\n",
              "</style>\n",
              "<table border=\"1\" class=\"dataframe\">\n",
              "  <thead>\n",
              "    <tr style=\"text-align: right;\">\n",
              "      <th></th>\n",
              "      <th>PassengerId</th>\n",
              "      <th>Survived</th>\n",
              "      <th>Pclass</th>\n",
              "      <th>Name</th>\n",
              "      <th>Sex</th>\n",
              "      <th>Age</th>\n",
              "      <th>SibSp</th>\n",
              "      <th>Parch</th>\n",
              "      <th>Ticket</th>\n",
              "      <th>Fare</th>\n",
              "      <th>Cabin</th>\n",
              "      <th>Embarked</th>\n",
              "    </tr>\n",
              "  </thead>\n",
              "  <tbody>\n",
              "    <tr>\n",
              "      <th>0</th>\n",
              "      <td>1</td>\n",
              "      <td>0</td>\n",
              "      <td>3</td>\n",
              "      <td>Braund, Mr. Owen Harris</td>\n",
              "      <td>male</td>\n",
              "      <td>22.0</td>\n",
              "      <td>1</td>\n",
              "      <td>0</td>\n",
              "      <td>A/5 21171</td>\n",
              "      <td>7.2500</td>\n",
              "      <td>NaN</td>\n",
              "      <td>S</td>\n",
              "    </tr>\n",
              "    <tr>\n",
              "      <th>1</th>\n",
              "      <td>2</td>\n",
              "      <td>1</td>\n",
              "      <td>1</td>\n",
              "      <td>Cumings, Mrs. John Bradley (Florence Briggs Th...</td>\n",
              "      <td>female</td>\n",
              "      <td>38.0</td>\n",
              "      <td>1</td>\n",
              "      <td>0</td>\n",
              "      <td>PC 17599</td>\n",
              "      <td>71.2833</td>\n",
              "      <td>C85</td>\n",
              "      <td>C</td>\n",
              "    </tr>\n",
              "  </tbody>\n",
              "</table>\n",
              "</div>"
            ],
            "text/plain": [
              "   PassengerId  Survived  Pclass  ...     Fare Cabin  Embarked\n",
              "0            1         0       3  ...   7.2500   NaN         S\n",
              "1            2         1       1  ...  71.2833   C85         C\n",
              "\n",
              "[2 rows x 12 columns]"
            ]
          },
          "metadata": {
            "tags": []
          },
          "execution_count": 4
        }
      ]
    },
    {
      "cell_type": "code",
      "metadata": {
        "id": "cbPFTlCJIWqa",
        "scrolled": false,
        "colab": {
          "base_uri": "https://localhost:8080/"
        },
        "outputId": "70e0af64-58eb-4166-97de-27d92fea09aa"
      },
      "source": [
        "'''Checar la presencia de valores nulos'''\n",
        "print('Porcetaje de valores nulos')\n",
        "data.isnull().sum()/ data.shape[0] * 100"
      ],
      "execution_count": 5,
      "outputs": [
        {
          "output_type": "stream",
          "text": [
            "Porcetaje de valores nulos\n"
          ],
          "name": "stdout"
        },
        {
          "output_type": "execute_result",
          "data": {
            "text/plain": [
              "PassengerId     0.000000\n",
              "Survived        0.000000\n",
              "Pclass          0.000000\n",
              "Name            0.000000\n",
              "Sex             0.000000\n",
              "Age            19.865320\n",
              "SibSp           0.000000\n",
              "Parch           0.000000\n",
              "Ticket          0.000000\n",
              "Fare            0.000000\n",
              "Cabin          77.104377\n",
              "Embarked        0.224467\n",
              "dtype: float64"
            ]
          },
          "metadata": {
            "tags": []
          },
          "execution_count": 5
        }
      ]
    },
    {
      "cell_type": "markdown",
      "metadata": {
        "id": "NWd1iuYqIWq0"
      },
      "source": [
        "Ya que existe informacion que no es indispensable, elimino dicha informacion. Con el fin de contar con la data adecuada para los modelos de Machine Learning\n",
        "\n",
        "Columnas a eliminar :\n",
        "- PassengerId : Proporciona el Id del pasajero que el sistema le asigno, por lo que este Id, no es indispensable\n",
        "- Name        : El nombre el pasajero no es una variable que influye en la supervivencia del accidente\n",
        "- SibSp       : Proporciona el numero de hermanos abordo, de igual manera, por lo que esto no influye en la supervivencia individual del pasajero\n",
        "- Parch       : Proporciona el numero de niños abordo relacionados con el pasajero, no influye en la supervivencia\n",
        "- Ticket      : El numero de ticket, un tipo de numero de serie del boleto, por lo que si este numero es de los primero o ultimos , este no afectara en nada a la supervivencia.\n",
        "- Fare        : Tarifa del pasajero, no influye en nada.\n",
        "- Cabin       : Numeracion de la cabina donde se alojaba el pasajero, no influye\n",
        "- Embarked    : Localidad en donde realizo el embarque, este no tiene representacion en la supervivencia"
      ]
    },
    {
      "cell_type": "code",
      "metadata": {
        "id": "QnEl0krnIWq4"
      },
      "source": [
        "data.drop(['PassengerId', 'Name', 'SibSp', 'Parch', 'Ticket', 'Fare', 'Cabin', 'Embarked'], axis=1, inplace=True)"
      ],
      "execution_count": 6,
      "outputs": []
    },
    {
      "cell_type": "code",
      "metadata": {
        "id": "Fp1rkLtSIWrT",
        "colab": {
          "base_uri": "https://localhost:8080/",
          "height": 111
        },
        "outputId": "2afc194d-acf5-48f1-da42-182a4f528311"
      },
      "source": [
        "data.head(2)"
      ],
      "execution_count": 7,
      "outputs": [
        {
          "output_type": "execute_result",
          "data": {
            "text/html": [
              "<div>\n",
              "<style scoped>\n",
              "    .dataframe tbody tr th:only-of-type {\n",
              "        vertical-align: middle;\n",
              "    }\n",
              "\n",
              "    .dataframe tbody tr th {\n",
              "        vertical-align: top;\n",
              "    }\n",
              "\n",
              "    .dataframe thead th {\n",
              "        text-align: right;\n",
              "    }\n",
              "</style>\n",
              "<table border=\"1\" class=\"dataframe\">\n",
              "  <thead>\n",
              "    <tr style=\"text-align: right;\">\n",
              "      <th></th>\n",
              "      <th>Survived</th>\n",
              "      <th>Pclass</th>\n",
              "      <th>Sex</th>\n",
              "      <th>Age</th>\n",
              "    </tr>\n",
              "  </thead>\n",
              "  <tbody>\n",
              "    <tr>\n",
              "      <th>0</th>\n",
              "      <td>0</td>\n",
              "      <td>3</td>\n",
              "      <td>male</td>\n",
              "      <td>22.0</td>\n",
              "    </tr>\n",
              "    <tr>\n",
              "      <th>1</th>\n",
              "      <td>1</td>\n",
              "      <td>1</td>\n",
              "      <td>female</td>\n",
              "      <td>38.0</td>\n",
              "    </tr>\n",
              "  </tbody>\n",
              "</table>\n",
              "</div>"
            ],
            "text/plain": [
              "   Survived  Pclass     Sex   Age\n",
              "0         0       3    male  22.0\n",
              "1         1       1  female  38.0"
            ]
          },
          "metadata": {
            "tags": []
          },
          "execution_count": 7
        }
      ]
    },
    {
      "cell_type": "code",
      "metadata": {
        "id": "aqa5qqoLIWrs",
        "scrolled": true,
        "colab": {
          "base_uri": "https://localhost:8080/"
        },
        "outputId": "aa328138-b9de-4785-8d4c-ddbf89bc0435"
      },
      "source": [
        "'''Checar la presencia de valores nulos'''\n",
        "print('Porcetaje de valores nulos')\n",
        "data.isnull().sum()/ data.shape[0] * 100"
      ],
      "execution_count": 8,
      "outputs": [
        {
          "output_type": "stream",
          "text": [
            "Porcetaje de valores nulos\n"
          ],
          "name": "stdout"
        },
        {
          "output_type": "execute_result",
          "data": {
            "text/plain": [
              "Survived     0.00000\n",
              "Pclass       0.00000\n",
              "Sex          0.00000\n",
              "Age         19.86532\n",
              "dtype: float64"
            ]
          },
          "metadata": {
            "tags": []
          },
          "execution_count": 8
        }
      ]
    },
    {
      "cell_type": "markdown",
      "metadata": {
        "id": "CBFBYa7TIWsB"
      },
      "source": [
        "Ya que cuento con un porcentaje considerable de datos nulos en la variable `Age`, opto por completar estos datos con el promedio de Edad segun el tipo de Clase.\n",
        "Para esto empleo una copia del DataSet filtrado en donde realizo una limpieza de Outliers para evitar tener valor de edad fuera del rango e imputar con valores erroneos."
      ]
    },
    {
      "cell_type": "code",
      "metadata": {
        "id": "Vf114XdqIWsF"
      },
      "source": [
        "data_copy = data.copy()"
      ],
      "execution_count": 9,
      "outputs": []
    },
    {
      "cell_type": "code",
      "metadata": {
        "id": "Bra4eNSOIWsb"
      },
      "source": [
        "'''Elimino valores nulos de mi Dataset copia'''\n",
        "data_copy.dropna(inplace=True)"
      ],
      "execution_count": 10,
      "outputs": []
    },
    {
      "cell_type": "code",
      "metadata": {
        "id": "AKUHdQ2nIWsu"
      },
      "source": [
        "'''Reseteo el Index'''\n",
        "data_copy.reset_index(inplace=True)"
      ],
      "execution_count": 11,
      "outputs": []
    },
    {
      "cell_type": "code",
      "metadata": {
        "id": "VNJxhQ13IWtG",
        "scrolled": true,
        "colab": {
          "base_uri": "https://localhost:8080/",
          "height": 312
        },
        "outputId": "547eeb4e-af3a-4ef6-ba12-1b874edd9e53"
      },
      "source": [
        "'''Checo la presencia de Outliers'''\n",
        "sns.boxplot(data_copy['Age'])\n",
        "plt.title('Presencia de Outliers \"Age\"')"
      ],
      "execution_count": 12,
      "outputs": [
        {
          "output_type": "execute_result",
          "data": {
            "text/plain": [
              "Text(0.5, 1.0, 'Presencia de Outliers \"Age\"')"
            ]
          },
          "metadata": {
            "tags": []
          },
          "execution_count": 12
        },
        {
          "output_type": "display_data",
          "data": {
            "image/png": "[encoded data removed]",
            "text/plain": [
              "<Figure size 432x288 with 1 Axes>"
            ]
          },
          "metadata": {
            "tags": [],
            "needs_background": "light"
          }
        }
      ]
    },
    {
      "cell_type": "code",
      "metadata": {
        "id": "9_PVbvwLIWta",
        "scrolled": true
      },
      "source": [
        "antes_limpieza = data_copy.shape[0]"
      ],
      "execution_count": 13,
      "outputs": []
    },
    {
      "cell_type": "code",
      "metadata": {
        "id": "xhukBa-LIWtv"
      },
      "source": [
        "'''Limpieza de outliers'''\n",
        "def limpiar_dataframe(dataframe, columna):\n",
        "    q25, q75 = np.percentile(dataframe[columna], [25, 75])\n",
        "    iqr = q75 - q25\n",
        "    if (q25 -(1.5 * iqr)) < 0:\n",
        "        IQMenor = 0.0\n",
        "    else:\n",
        "        IQMenor = float(q25 - (1.5 * iqr))\n",
        "\n",
        "    IQMayor = float(q75 + (1.5 * iqr))\n",
        "    \n",
        "    dataframe = dataframe[(dataframe[columna] > IQMenor ) &\n",
        "        (dataframe[columna] < IQMayor)]\n",
        "    \n",
        "    return dataframe"
      ],
      "execution_count": 14,
      "outputs": []
    },
    {
      "cell_type": "code",
      "metadata": {
        "id": "3id5t0QUIWuC"
      },
      "source": [
        "data_copy = limpiar_dataframe(data_copy, 'Age')"
      ],
      "execution_count": 15,
      "outputs": []
    },
    {
      "cell_type": "code",
      "metadata": {
        "id": "p9jw2ptEIWub",
        "colab": {
          "base_uri": "https://localhost:8080/"
        },
        "outputId": "11d4013c-81fd-444e-9713-6be55556dd0e"
      },
      "source": [
        "despues_limpieza = data_copy.shape[0]\n",
        "print('Numero de datos  antes de limpar Otliers: {}'.format(antes_limpieza))\n",
        "print('Numero de datos  antes de limpar Otliers: {}'.format(despues_limpieza))"
      ],
      "execution_count": 16,
      "outputs": [
        {
          "output_type": "stream",
          "text": [
            "Numero de datos  antes de limpar Otliers: 714\n",
            "Numero de datos  antes de limpar Otliers: 703\n"
          ],
          "name": "stdout"
        }
      ]
    },
    {
      "cell_type": "code",
      "metadata": {
        "id": "z8mRqm0QIWuv"
      },
      "source": [
        "'''Obtengo el promedio de edad segun el tipo de clases'''\n",
        "age_mean = data_copy.groupby('Pclass')['Age'].mean().round(0)"
      ],
      "execution_count": 17,
      "outputs": []
    },
    {
      "cell_type": "code",
      "metadata": {
        "id": "-eCfje9JIWvF"
      },
      "source": [
        "'''Convieto a diccionario'''\n",
        "age_mean = dict(round(age_mean))"
      ],
      "execution_count": 18,
      "outputs": []
    },
    {
      "cell_type": "markdown",
      "metadata": {
        "id": "JcN2rFFHIWvX"
      },
      "source": [
        "Una vez que obtengo el promedio de edad segun la clase del barco, aplico estos datos para realizar la imputacion de valores faltantes sobre mi DataSet de Trabajo"
      ]
    },
    {
      "cell_type": "code",
      "metadata": {
        "id": "YS0b4a3vIWva"
      },
      "source": [
        "'''Imputo sobre mis Data de Trabajo'''\n",
        "data['Age'] = data['Age'].fillna(data.Pclass.map(age_mean))"
      ],
      "execution_count": 19,
      "outputs": []
    },
    {
      "cell_type": "code",
      "metadata": {
        "id": "OUoh5r3aIWvr",
        "scrolled": true,
        "colab": {
          "base_uri": "https://localhost:8080/"
        },
        "outputId": "e74c7b43-0179-4e36-8e58-780220734c5a"
      },
      "source": [
        "'''Corroboro la no existencia de valores nulos'''\n",
        "data.isnull().sum()"
      ],
      "execution_count": 20,
      "outputs": [
        {
          "output_type": "execute_result",
          "data": {
            "text/plain": [
              "Survived    0\n",
              "Pclass      0\n",
              "Sex         0\n",
              "Age         0\n",
              "dtype: int64"
            ]
          },
          "metadata": {
            "tags": []
          },
          "execution_count": 20
        }
      ]
    },
    {
      "cell_type": "code",
      "metadata": {
        "id": "-T8QdiyLIWv7",
        "scrolled": true,
        "colab": {
          "base_uri": "https://localhost:8080/",
          "height": 111
        },
        "outputId": "18cad6f9-96f2-4ef2-d1e6-d3c627a7ded8"
      },
      "source": [
        "data.head(2)"
      ],
      "execution_count": 21,
      "outputs": [
        {
          "output_type": "execute_result",
          "data": {
            "text/html": [
              "<div>\n",
              "<style scoped>\n",
              "    .dataframe tbody tr th:only-of-type {\n",
              "        vertical-align: middle;\n",
              "    }\n",
              "\n",
              "    .dataframe tbody tr th {\n",
              "        vertical-align: top;\n",
              "    }\n",
              "\n",
              "    .dataframe thead th {\n",
              "        text-align: right;\n",
              "    }\n",
              "</style>\n",
              "<table border=\"1\" class=\"dataframe\">\n",
              "  <thead>\n",
              "    <tr style=\"text-align: right;\">\n",
              "      <th></th>\n",
              "      <th>Survived</th>\n",
              "      <th>Pclass</th>\n",
              "      <th>Sex</th>\n",
              "      <th>Age</th>\n",
              "    </tr>\n",
              "  </thead>\n",
              "  <tbody>\n",
              "    <tr>\n",
              "      <th>0</th>\n",
              "      <td>0</td>\n",
              "      <td>3</td>\n",
              "      <td>male</td>\n",
              "      <td>22.0</td>\n",
              "    </tr>\n",
              "    <tr>\n",
              "      <th>1</th>\n",
              "      <td>1</td>\n",
              "      <td>1</td>\n",
              "      <td>female</td>\n",
              "      <td>38.0</td>\n",
              "    </tr>\n",
              "  </tbody>\n",
              "</table>\n",
              "</div>"
            ],
            "text/plain": [
              "   Survived  Pclass     Sex   Age\n",
              "0         0       3    male  22.0\n",
              "1         1       1  female  38.0"
            ]
          },
          "metadata": {
            "tags": []
          },
          "execution_count": 21
        }
      ]
    },
    {
      "cell_type": "code",
      "metadata": {
        "colab": {
          "base_uri": "https://localhost:8080/",
          "height": 296
        },
        "id": "krKsRwogmNXH",
        "outputId": "85c099eb-1557-4fe1-969e-c704046dd93d"
      },
      "source": [
        "sns.boxplot(data['Age'])"
      ],
      "execution_count": 22,
      "outputs": [
        {
          "output_type": "execute_result",
          "data": {
            "text/plain": [
              "<matplotlib.axes._subplots.AxesSubplot at 0x7fd3ce6ff2b0>"
            ]
          },
          "metadata": {
            "tags": []
          },
          "execution_count": 22
        },
        {
          "output_type": "display_data",
          "data": {
            "image/png": "[encoded data removed]",
            "text/plain": [
              "<Figure size 432x288 with 1 Axes>"
            ]
          },
          "metadata": {
            "tags": [],
            "needs_background": "light"
          }
        }
      ]
    },
    {
      "cell_type": "code",
      "metadata": {
        "id": "r43QMyHqlvbl"
      },
      "source": [
        "#Eliminar Outliers en mi Dataset de trabajo\n",
        "data = limpiar_dataframe(data, 'Age')"
      ],
      "execution_count": 23,
      "outputs": []
    },
    {
      "cell_type": "code",
      "metadata": {
        "colab": {
          "base_uri": "https://localhost:8080/",
          "height": 296
        },
        "id": "03Kg_fYpmTE7",
        "outputId": "ba5792a0-6ae5-4fd6-ad38-90717b470582"
      },
      "source": [
        "sns.boxplot(data['Age'])"
      ],
      "execution_count": 24,
      "outputs": [
        {
          "output_type": "execute_result",
          "data": {
            "text/plain": [
              "<matplotlib.axes._subplots.AxesSubplot at 0x7fd3ce229668>"
            ]
          },
          "metadata": {
            "tags": []
          },
          "execution_count": 24
        },
        {
          "output_type": "display_data",
          "data": {
            "image/png": "[encoded data removed]",
            "text/plain": [
              "<Figure size 432x288 with 1 Axes>"
            ]
          },
          "metadata": {
            "tags": [],
            "needs_background": "light"
          }
        }
      ]
    },
    {
      "cell_type": "markdown",
      "metadata": {
        "id": "D2ZZkSwhIWwQ"
      },
      "source": [
        "Ya que cuento con variables categoricas, como es el caso de `Sex`, realizo su encoding para convertir a numerica su informacion"
      ]
    },
    {
      "cell_type": "code",
      "metadata": {
        "id": "JtL7Vw-tIWwS"
      },
      "source": [
        "'''Creacion de nuevas columnas binarias para Sex'''\n",
        "sex_get = pd.get_dummies(data['Sex'])"
      ],
      "execution_count": 25,
      "outputs": []
    },
    {
      "cell_type": "code",
      "metadata": {
        "id": "_dReD0K4IWwp",
        "colab": {
          "base_uri": "https://localhost:8080/",
          "height": 111
        },
        "outputId": "5152a8db-3f38-4672-996c-b60fad014b4a"
      },
      "source": [
        "'''Visualizo la salida obtenida'''\n",
        "sex_get.head(2)"
      ],
      "execution_count": 26,
      "outputs": [
        {
          "output_type": "execute_result",
          "data": {
            "text/html": [
              "<div>\n",
              "<style scoped>\n",
              "    .dataframe tbody tr th:only-of-type {\n",
              "        vertical-align: middle;\n",
              "    }\n",
              "\n",
              "    .dataframe tbody tr th {\n",
              "        vertical-align: top;\n",
              "    }\n",
              "\n",
              "    .dataframe thead th {\n",
              "        text-align: right;\n",
              "    }\n",
              "</style>\n",
              "<table border=\"1\" class=\"dataframe\">\n",
              "  <thead>\n",
              "    <tr style=\"text-align: right;\">\n",
              "      <th></th>\n",
              "      <th>female</th>\n",
              "      <th>male</th>\n",
              "    </tr>\n",
              "  </thead>\n",
              "  <tbody>\n",
              "    <tr>\n",
              "      <th>0</th>\n",
              "      <td>0</td>\n",
              "      <td>1</td>\n",
              "    </tr>\n",
              "    <tr>\n",
              "      <th>1</th>\n",
              "      <td>1</td>\n",
              "      <td>0</td>\n",
              "    </tr>\n",
              "  </tbody>\n",
              "</table>\n",
              "</div>"
            ],
            "text/plain": [
              "   female  male\n",
              "0       0     1\n",
              "1       1     0"
            ]
          },
          "metadata": {
            "tags": []
          },
          "execution_count": 26
        }
      ]
    },
    {
      "cell_type": "code",
      "metadata": {
        "id": "X3i9Ss4VIWw4"
      },
      "source": [
        "'''Union de Data'''\n",
        "data = pd.concat([data,sex_get], axis=1)"
      ],
      "execution_count": 27,
      "outputs": []
    },
    {
      "cell_type": "code",
      "metadata": {
        "id": "IWxeHrqBIWxH"
      },
      "source": [
        "'''Elimino la columna categorica'''\n",
        "data.drop(['Sex'], axis=1, inplace=True)"
      ],
      "execution_count": 28,
      "outputs": []
    },
    {
      "cell_type": "code",
      "metadata": {
        "id": "89gQsHuSIWxT",
        "scrolled": true,
        "colab": {
          "base_uri": "https://localhost:8080/",
          "height": 296
        },
        "outputId": "cf009d63-84fd-40bc-e132-148635e2a376"
      },
      "source": [
        "'''Balanceo de datos'''\n",
        "sns.countplot(data['Survived'])"
      ],
      "execution_count": 29,
      "outputs": [
        {
          "output_type": "execute_result",
          "data": {
            "text/plain": [
              "<matplotlib.axes._subplots.AxesSubplot at 0x7fd3ce190080>"
            ]
          },
          "metadata": {
            "tags": []
          },
          "execution_count": 29
        },
        {
          "output_type": "display_data",
          "data": {
            "image/png": "[encoded data removed]",
            "text/plain": [
              "<Figure size 432x288 with 1 Axes>"
            ]
          },
          "metadata": {
            "tags": [],
            "needs_background": "light"
          }
        }
      ]
    },
    {
      "cell_type": "code",
      "metadata": {
        "id": "QP-Wyl4MIWxl",
        "colab": {
          "base_uri": "https://localhost:8080/"
        },
        "outputId": "dc28cfef-e40d-47c4-afbe-66a83681c66b"
      },
      "source": [
        "sobrevivientes = data[data['Survived'] == 1]\n",
        "muertos = data[data['Survived'] == 0 ]\n",
        "print('Sobrevivientes:{}\\nNO sobrevivientes:{}'.format(len(sobrevivientes), len(muertos)))"
      ],
      "execution_count": 30,
      "outputs": [
        {
          "output_type": "stream",
          "text": [
            "Sobrevivientes:335\n",
            "NO sobrevivientes:530\n"
          ],
          "name": "stdout"
        }
      ]
    },
    {
      "cell_type": "markdown",
      "metadata": {
        "id": "G5AyPY4MIWxx"
      },
      "source": [
        "Ya que mi Dataset se encuentra desbalanceado, esto posiblemente afecte las predicciones del modelo, ya que la tendencia es que las personas no sobrevivan. Por lo cual balanceo los Datos para que el modelo cuente con una datos balanceados y la probalidad ahora sea del 50% y emplear las variables para tomar esa decision.\n",
        "\n",
        "Para esto obtengo el total de personas Sobrevivientes, ya que estas representan la minoria, y empleo este total para tomar una muestra al azar de la data de las personas no sobrevivientes."
      ]
    },
    {
      "cell_type": "code",
      "metadata": {
        "id": "IRLL0gQeIWxz"
      },
      "source": [
        "'''Muestra aleatoria igualando el total de sobrevivientes '''\n",
        "muestra = np.random.randint(len(muertos), size=342)"
      ],
      "execution_count": 31,
      "outputs": []
    },
    {
      "cell_type": "code",
      "metadata": {
        "id": "14L143viIWx_"
      },
      "source": [
        "'''Filtrado de personas seleccionadas al azar'''\n",
        "no_sobrevivientes = muertos.iloc[muestra]"
      ],
      "execution_count": 32,
      "outputs": []
    },
    {
      "cell_type": "code",
      "metadata": {
        "id": "VBg2Rx1rIWyJ",
        "scrolled": true,
        "colab": {
          "base_uri": "https://localhost:8080/"
        },
        "outputId": "b2e6d845-11e6-45be-c0ee-9efb677a11fb"
      },
      "source": [
        "sobrevivientes.shape, no_sobrevivientes.shape"
      ],
      "execution_count": 33,
      "outputs": [
        {
          "output_type": "execute_result",
          "data": {
            "text/plain": [
              "((335, 5), (342, 5))"
            ]
          },
          "metadata": {
            "tags": []
          },
          "execution_count": 33
        }
      ]
    },
    {
      "cell_type": "code",
      "metadata": {
        "id": "3ftJZlrOIWyi"
      },
      "source": [
        "data_balanceada = pd.concat([sobrevivientes, no_sobrevivientes])\n",
        "data_balanceada.reset_index(inplace=True)"
      ],
      "execution_count": 34,
      "outputs": []
    },
    {
      "cell_type": "code",
      "metadata": {
        "id": "YHehSjh1IWyv",
        "scrolled": true,
        "colab": {
          "base_uri": "https://localhost:8080/",
          "height": 296
        },
        "outputId": "66cd9aa5-67f9-42fb-d281-c2f2fb3d4d08"
      },
      "source": [
        "sns.countplot(data_balanceada['Survived'])"
      ],
      "execution_count": 35,
      "outputs": [
        {
          "output_type": "execute_result",
          "data": {
            "text/plain": [
              "<matplotlib.axes._subplots.AxesSubplot at 0x7fd3ce160ba8>"
            ]
          },
          "metadata": {
            "tags": []
          },
          "execution_count": 35
        },
        {
          "output_type": "display_data",
          "data": {
            "image/png": "[encoded data removed]",
            "text/plain": [
              "<Figure size 432x288 with 1 Axes>"
            ]
          },
          "metadata": {
            "tags": [],
            "needs_background": "light"
          }
        }
      ]
    },
    {
      "cell_type": "code",
      "metadata": {
        "id": "NlMeGiKQqqt4"
      },
      "source": [
        "data_balanceada.drop(['index'],axis=1, inplace=True)"
      ],
      "execution_count": 36,
      "outputs": []
    },
    {
      "cell_type": "code",
      "metadata": {
        "id": "5UXaVGK6Jz2d"
      },
      "source": [
        "X = data_balanceada.drop(['Survived'], axis=1)\n",
        "y = data_balanceada['Survived']"
      ],
      "execution_count": 37,
      "outputs": []
    },
    {
      "cell_type": "code",
      "metadata": {
        "id": "ApqT4cLRJeeM"
      },
      "source": [
        "from sklearn.model_selection import train_test_split\n",
        "X_train,X_test,y_train,y_test = train_test_split(X,y, test_size=0.30, random_state=40)"
      ],
      "execution_count": 38,
      "outputs": []
    },
    {
      "cell_type": "markdown",
      "metadata": {
        "id": "Ozf-w65hJESv"
      },
      "source": [
        "# DecisionTreeClassifier\n"
      ]
    },
    {
      "cell_type": "code",
      "metadata": {
        "id": "EJ4YDFAZI-_A"
      },
      "source": [
        "from sklearn.tree import DecisionTreeClassifier"
      ],
      "execution_count": 39,
      "outputs": []
    },
    {
      "cell_type": "code",
      "metadata": {
        "id": "cFeFxv2nNtpv"
      },
      "source": [
        "arbol = DecisionTreeClassifier()"
      ],
      "execution_count": 40,
      "outputs": []
    },
    {
      "cell_type": "code",
      "metadata": {
        "id": "F1dq7vkZOYBV",
        "colab": {
          "base_uri": "https://localhost:8080/"
        },
        "outputId": "3d4fc7e5-3eee-4ecb-c36b-f475387449f6"
      },
      "source": [
        "arbol.fit(X_train, y_train)"
      ],
      "execution_count": 41,
      "outputs": [
        {
          "output_type": "execute_result",
          "data": {
            "text/plain": [
              "DecisionTreeClassifier(ccp_alpha=0.0, class_weight=None, criterion='gini',\n",
              "                       max_depth=None, max_features=None, max_leaf_nodes=None,\n",
              "                       min_impurity_decrease=0.0, min_impurity_split=None,\n",
              "                       min_samples_leaf=1, min_samples_split=2,\n",
              "                       min_weight_fraction_leaf=0.0, presort='deprecated',\n",
              "                       random_state=None, splitter='best')"
            ]
          },
          "metadata": {
            "tags": []
          },
          "execution_count": 41
        }
      ]
    },
    {
      "cell_type": "code",
      "metadata": {
        "id": "wzg1rugzObXp",
        "colab": {
          "base_uri": "https://localhost:8080/"
        },
        "outputId": "486f8983-cc85-4f19-9646-8ebfa5994b62"
      },
      "source": [
        "'''Evaluo el desempeño del arbol empleando datos de Test'''\n",
        "arbol.score(X_test, y_test)"
      ],
      "execution_count": 42,
      "outputs": [
        {
          "output_type": "execute_result",
          "data": {
            "text/plain": [
              "0.7745098039215687"
            ]
          },
          "metadata": {
            "tags": []
          },
          "execution_count": 42
        }
      ]
    },
    {
      "cell_type": "code",
      "metadata": {
        "id": "i6yhaqW3O6sM",
        "colab": {
          "base_uri": "https://localhost:8080/",
          "height": 336
        },
        "outputId": "3815b64a-3899-4093-8de3-25b4bc14e784"
      },
      "source": [
        "importances = arbol.feature_importances_\n",
        "columns = X.columns\n",
        "plt.figure(figsize=(10,5))\n",
        "sns.barplot(columns, importances)\n",
        "plt.title('Importancia de cada Feature')\n",
        "plt.show()"
      ],
      "execution_count": 43,
      "outputs": [
        {
          "output_type": "display_data",
          "data": {
            "image/png": "[encoded data removed]",
            "text/plain": [
              "<Figure size 720x360 with 1 Axes>"
            ]
          },
          "metadata": {
            "tags": [],
            "needs_background": "light"
          }
        }
      ]
    },
    {
      "cell_type": "markdown",
      "metadata": {
        "id": "kQ60OMyJYpRl"
      },
      "source": [
        "# Optimizacion de hiperparametros"
      ]
    },
    {
      "cell_type": "code",
      "metadata": {
        "id": "e-UEk06KaNam"
      },
      "source": [
        "from sklearn.model_selection import GridSearchCV"
      ],
      "execution_count": 44,
      "outputs": []
    },
    {
      "cell_type": "code",
      "metadata": {
        "id": "SQNQ7aRSYkGz"
      },
      "source": [
        "parametros = { \n",
        "    'criterion'         : ['gini', 'entropy'],\n",
        "    'splitter'          : ['best', 'random'],\n",
        "    'max_depth'         : np.arange(1,60,3),\n",
        "    'random_state'      : np.arange(1,60,5),\n",
        "    'class_weight'      : ['balanced', 'None'],\n",
        "    'max_features'      : ['auto', 'sqrt', 'log2','None'],\n",
        "    }"
      ],
      "execution_count": 45,
      "outputs": []
    },
    {
      "cell_type": "code",
      "metadata": {
        "id": "AxDkFtJlaVi2"
      },
      "source": [
        "model = GridSearchCV(arbol, param_grid=parametros, cv=5)"
      ],
      "execution_count": 46,
      "outputs": []
    },
    {
      "cell_type": "code",
      "metadata": {
        "id": "iiestB4IaiU6",
        "colab": {
          "base_uri": "https://localhost:8080/"
        },
        "outputId": "ffce08f4-6899-4abf-f9a6-1f40f039c0ce"
      },
      "source": [
        "model.fit(X_train,y_train)"
      ],
      "execution_count": 47,
      "outputs": [
        {
          "output_type": "execute_result",
          "data": {
            "text/plain": [
              "GridSearchCV(cv=5, error_score=nan,\n",
              "             estimator=DecisionTreeClassifier(ccp_alpha=0.0, class_weight=None,\n",
              "                                              criterion='gini', max_depth=None,\n",
              "                                              max_features=None,\n",
              "                                              max_leaf_nodes=None,\n",
              "                                              min_impurity_decrease=0.0,\n",
              "                                              min_impurity_split=None,\n",
              "                                              min_samples_leaf=1,\n",
              "                                              min_samples_split=2,\n",
              "                                              min_weight_fraction_leaf=0.0,\n",
              "                                              presort='deprecated',\n",
              "                                              random_state=None,\n",
              "                                              splitter='best'),\n",
              "             iid='de...\n",
              "             param_grid={'class_weight': ['balanced', 'None'],\n",
              "                         'criterion': ['gini', 'entropy'],\n",
              "                         'max_depth': array([ 1,  4,  7, 10, 13, 16, 19, 22, 25, 28, 31, 34, 37, 40, 43, 46, 49,\n",
              "       52, 55, 58]),\n",
              "                         'max_features': ['auto', 'sqrt', 'log2', 'None'],\n",
              "                         'random_state': array([ 1,  6, 11, 16, 21, 26, 31, 36, 41, 46, 51, 56]),\n",
              "                         'splitter': ['best', 'random']},\n",
              "             pre_dispatch='2*n_jobs', refit=True, return_train_score=False,\n",
              "             scoring=None, verbose=0)"
            ]
          },
          "metadata": {
            "tags": []
          },
          "execution_count": 47
        }
      ]
    },
    {
      "cell_type": "code",
      "metadata": {
        "id": "VBkMeT6yap43",
        "colab": {
          "base_uri": "https://localhost:8080/",
          "height": 284
        },
        "outputId": "042e066c-e0b7-43e4-c9c3-e50d988ea54a"
      },
      "source": [
        "print(\"Mejores parametros : \"+str(model.best_params_))\n",
        "print(\"Mejor Score : \"+str(model.best_score_)+'\\n')\n",
        "\n",
        "scores = pd.DataFrame(model.cv_results_)\n",
        "scores.head(2)"
      ],
      "execution_count": 48,
      "outputs": [
        {
          "output_type": "stream",
          "text": [
            "Mejores parametros : {'class_weight': 'balanced', 'criterion': 'gini', 'max_depth': 10, 'max_features': 'auto', 'random_state': 1, 'splitter': 'random'}\n",
            "Mejor Score : 0.8309070548712206\n",
            "\n"
          ],
          "name": "stdout"
        },
        {
          "output_type": "execute_result",
          "data": {
            "text/html": [
              "<div>\n",
              "<style scoped>\n",
              "    .dataframe tbody tr th:only-of-type {\n",
              "        vertical-align: middle;\n",
              "    }\n",
              "\n",
              "    .dataframe tbody tr th {\n",
              "        vertical-align: top;\n",
              "    }\n",
              "\n",
              "    .dataframe thead th {\n",
              "        text-align: right;\n",
              "    }\n",
              "</style>\n",
              "<table border=\"1\" class=\"dataframe\">\n",
              "  <thead>\n",
              "    <tr style=\"text-align: right;\">\n",
              "      <th></th>\n",
              "      <th>mean_fit_time</th>\n",
              "      <th>std_fit_time</th>\n",
              "      <th>mean_score_time</th>\n",
              "      <th>std_score_time</th>\n",
              "      <th>param_class_weight</th>\n",
              "      <th>param_criterion</th>\n",
              "      <th>param_max_depth</th>\n",
              "      <th>param_max_features</th>\n",
              "      <th>param_random_state</th>\n",
              "      <th>param_splitter</th>\n",
              "      <th>params</th>\n",
              "      <th>split0_test_score</th>\n",
              "      <th>split1_test_score</th>\n",
              "      <th>split2_test_score</th>\n",
              "      <th>split3_test_score</th>\n",
              "      <th>split4_test_score</th>\n",
              "      <th>mean_test_score</th>\n",
              "      <th>std_test_score</th>\n",
              "      <th>rank_test_score</th>\n",
              "    </tr>\n",
              "  </thead>\n",
              "  <tbody>\n",
              "    <tr>\n",
              "      <th>0</th>\n",
              "      <td>0.00255</td>\n",
              "      <td>0.000229</td>\n",
              "      <td>0.000999</td>\n",
              "      <td>0.000044</td>\n",
              "      <td>balanced</td>\n",
              "      <td>gini</td>\n",
              "      <td>1</td>\n",
              "      <td>auto</td>\n",
              "      <td>1</td>\n",
              "      <td>best</td>\n",
              "      <td>{'class_weight': 'balanced', 'criterion': 'gin...</td>\n",
              "      <td>0.8</td>\n",
              "      <td>0.747368</td>\n",
              "      <td>0.726316</td>\n",
              "      <td>0.776596</td>\n",
              "      <td>0.765957</td>\n",
              "      <td>0.763247</td>\n",
              "      <td>0.025109</td>\n",
              "      <td>2737</td>\n",
              "    </tr>\n",
              "    <tr>\n",
              "      <th>1</th>\n",
              "      <td>0.00264</td>\n",
              "      <td>0.000199</td>\n",
              "      <td>0.001091</td>\n",
              "      <td>0.000112</td>\n",
              "      <td>balanced</td>\n",
              "      <td>gini</td>\n",
              "      <td>1</td>\n",
              "      <td>auto</td>\n",
              "      <td>1</td>\n",
              "      <td>random</td>\n",
              "      <td>{'class_weight': 'balanced', 'criterion': 'gin...</td>\n",
              "      <td>0.8</td>\n",
              "      <td>0.747368</td>\n",
              "      <td>0.726316</td>\n",
              "      <td>0.776596</td>\n",
              "      <td>0.765957</td>\n",
              "      <td>0.763247</td>\n",
              "      <td>0.025109</td>\n",
              "      <td>2737</td>\n",
              "    </tr>\n",
              "  </tbody>\n",
              "</table>\n",
              "</div>"
            ],
            "text/plain": [
              "   mean_fit_time  std_fit_time  ...  std_test_score  rank_test_score\n",
              "0        0.00255      0.000229  ...        0.025109             2737\n",
              "1        0.00264      0.000199  ...        0.025109             2737\n",
              "\n",
              "[2 rows x 19 columns]"
            ]
          },
          "metadata": {
            "tags": []
          },
          "execution_count": 48
        }
      ]
    },
    {
      "cell_type": "markdown",
      "metadata": {
        "id": "YNMwgBNAomgG"
      },
      "source": [
        ""
      ]
    },
    {
      "cell_type": "markdown",
      "metadata": {
        "id": "vFbAojSvpETK"
      },
      "source": [
        "Ya que obtengo mi modelo con los mejores hipeparametros. Evaluo el modelo empleando mis datos de Test"
      ]
    },
    {
      "cell_type": "code",
      "metadata": {
        "id": "h3oRYKYjnsqF",
        "colab": {
          "base_uri": "https://localhost:8080/"
        },
        "outputId": "e37cbc53-4497-4005-b1c4-9e364d1fc7cc"
      },
      "source": [
        "import sklearn.metrics as metrics\n",
        "print('Score en Train:', metrics.accuracy_score(y_test, model.predict(X_test)))"
      ],
      "execution_count": 49,
      "outputs": [
        {
          "output_type": "stream",
          "text": [
            "Score en Train: 0.7696078431372549\n"
          ],
          "name": "stdout"
        }
      ]
    },
    {
      "cell_type": "code",
      "metadata": {
        "id": "qvbPKS-XJh8b",
        "colab": {
          "base_uri": "https://localhost:8080/"
        },
        "outputId": "c6318ede-e26f-40b7-90ab-5e861d95dc47"
      },
      "source": [
        "idxs = np.random.randint(X_test.shape[0], size=10)\n",
        "idxs"
      ],
      "execution_count": 50,
      "outputs": [
        {
          "output_type": "execute_result",
          "data": {
            "text/plain": [
              "array([ 14,   6, 176,  71, 122,  45,  39,   0, 136, 200])"
            ]
          },
          "metadata": {
            "tags": []
          },
          "execution_count": 50
        }
      ]
    },
    {
      "cell_type": "code",
      "metadata": {
        "id": "1N2ssPepOzkX"
      },
      "source": [
        "prediccion = model.predict(data_balanceada[data_balanceada.index.isin(idxs)].loc[:, ['Pclass','Age',\n",
        "                                                                                     'female', 'male']])"
      ],
      "execution_count": 51,
      "outputs": []
    },
    {
      "cell_type": "code",
      "metadata": {
        "id": "oEz7tyk0O76U",
        "colab": {
          "base_uri": "https://localhost:8080/"
        },
        "outputId": "dbf6d462-9d96-4a9e-9524-8b993f896190"
      },
      "source": [
        "prediccion"
      ],
      "execution_count": 52,
      "outputs": [
        {
          "output_type": "execute_result",
          "data": {
            "text/plain": [
              "array([1, 1, 1, 0, 1, 1, 1, 1, 1, 1])"
            ]
          },
          "metadata": {
            "tags": []
          },
          "execution_count": 52
        }
      ]
    },
    {
      "cell_type": "code",
      "metadata": {
        "id": "fs-7RyQgO84r"
      },
      "source": [
        "valor_data = []\n",
        "for i in idxs:\n",
        "    valor_real = data_balanceada.Survived.iloc[i]\n",
        "    valor_data.append(valor_real)"
      ],
      "execution_count": 53,
      "outputs": []
    },
    {
      "cell_type": "code",
      "metadata": {
        "id": "f-P2k7YoQAkS",
        "colab": {
          "base_uri": "https://localhost:8080/",
          "height": 359
        },
        "outputId": "8c079dd0-ebc4-4ac0-90f6-a944f72bcb9b"
      },
      "source": [
        "valor_data = pd.DataFrame((valor_data), columns = ['valor_real'])\n",
        "prediccion = pd.DataFrame((prediccion), columns = ['valor_predicho'])\n",
        "comparacion = pd.merge(valor_data, prediccion, right_index=True, left_index=True)\n",
        "comparacion"
      ],
      "execution_count": 54,
      "outputs": [
        {
          "output_type": "execute_result",
          "data": {
            "text/html": [
              "<div>\n",
              "<style scoped>\n",
              "    .dataframe tbody tr th:only-of-type {\n",
              "        vertical-align: middle;\n",
              "    }\n",
              "\n",
              "    .dataframe tbody tr th {\n",
              "        vertical-align: top;\n",
              "    }\n",
              "\n",
              "    .dataframe thead th {\n",
              "        text-align: right;\n",
              "    }\n",
              "</style>\n",
              "<table border=\"1\" class=\"dataframe\">\n",
              "  <thead>\n",
              "    <tr style=\"text-align: right;\">\n",
              "      <th></th>\n",
              "      <th>valor_real</th>\n",
              "      <th>valor_predicho</th>\n",
              "    </tr>\n",
              "  </thead>\n",
              "  <tbody>\n",
              "    <tr>\n",
              "      <th>0</th>\n",
              "      <td>1</td>\n",
              "      <td>1</td>\n",
              "    </tr>\n",
              "    <tr>\n",
              "      <th>1</th>\n",
              "      <td>1</td>\n",
              "      <td>1</td>\n",
              "    </tr>\n",
              "    <tr>\n",
              "      <th>2</th>\n",
              "      <td>1</td>\n",
              "      <td>1</td>\n",
              "    </tr>\n",
              "    <tr>\n",
              "      <th>3</th>\n",
              "      <td>1</td>\n",
              "      <td>0</td>\n",
              "    </tr>\n",
              "    <tr>\n",
              "      <th>4</th>\n",
              "      <td>1</td>\n",
              "      <td>1</td>\n",
              "    </tr>\n",
              "    <tr>\n",
              "      <th>5</th>\n",
              "      <td>1</td>\n",
              "      <td>1</td>\n",
              "    </tr>\n",
              "    <tr>\n",
              "      <th>6</th>\n",
              "      <td>1</td>\n",
              "      <td>1</td>\n",
              "    </tr>\n",
              "    <tr>\n",
              "      <th>7</th>\n",
              "      <td>1</td>\n",
              "      <td>1</td>\n",
              "    </tr>\n",
              "    <tr>\n",
              "      <th>8</th>\n",
              "      <td>1</td>\n",
              "      <td>1</td>\n",
              "    </tr>\n",
              "    <tr>\n",
              "      <th>9</th>\n",
              "      <td>1</td>\n",
              "      <td>1</td>\n",
              "    </tr>\n",
              "  </tbody>\n",
              "</table>\n",
              "</div>"
            ],
            "text/plain": [
              "   valor_real  valor_predicho\n",
              "0           1               1\n",
              "1           1               1\n",
              "2           1               1\n",
              "3           1               0\n",
              "4           1               1\n",
              "5           1               1\n",
              "6           1               1\n",
              "7           1               1\n",
              "8           1               1\n",
              "9           1               1"
            ]
          },
          "metadata": {
            "tags": []
          },
          "execution_count": 54
        }
      ]
    },
    {
      "cell_type": "code",
      "metadata": {
        "id": "XHE8F90kP5wA",
        "colab": {
          "base_uri": "https://localhost:8080/",
          "height": 296
        },
        "outputId": "9a7e5434-95ad-4642-ecad-4401f8236ea0"
      },
      "source": [
        "x = comparacion['valor_real']\n",
        "y = comparacion['valor_predicho']\n",
        "plt.figure(figsize=(15,4))\n",
        "plt.plot(x,'o-',label='Valores reales')\n",
        "plt.plot(y,'o-',label='Valores predichos')\n",
        "plt.legend()\n",
        "plt.xlabel('Muestra')\n",
        "plt.ylabel('Precio')"
      ],
      "execution_count": 55,
      "outputs": [
        {
          "output_type": "execute_result",
          "data": {
            "text/plain": [
              "Text(0, 0.5, 'Precio')"
            ]
          },
          "metadata": {
            "tags": []
          },
          "execution_count": 55
        },
        {
          "output_type": "display_data",
          "data": {
            "image/png": "[encoded data removed]",
            "text/plain": [
              "<Figure size 1080x288 with 1 Axes>"
            ]
          },
          "metadata": {
            "tags": [],
            "needs_background": "light"
          }
        }
      ]
    }
  ]
}