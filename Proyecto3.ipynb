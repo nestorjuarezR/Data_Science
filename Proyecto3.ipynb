{
  "nbformat": 4,
  "nbformat_minor": 0,
  "metadata": {
    "colab": {
      "name": "Proyecto3.ipynb",
      "provenance": [],
      "collapsed_sections": [],
      "mount_file_id": "1ahp042009K1w10hHBr-g8pTtrlLzYwvK",
      "authorship_tag": "ABX9TyOij/9MCThLIXuGZTRn3Qi7"
    },
    "kernelspec": {
      "name": "python3",
      "display_name": "Python 3"
    }
  },
  "cells": [
    {
      "cell_type": "markdown",
      "metadata": {
        "id": "PVqrkYzKmlge"
      },
      "source": [
        "# Instalacion e importación de librerias"
      ]
    },
    {
      "cell_type": "code",
      "metadata": {
        "colab": {
          "base_uri": "https://localhost:8080/"
        },
        "id": "QYVLd7rvIZDd",
        "outputId": "c91d3586-5dc1-4a11-8e9d-d0e53395bb38"
      },
      "source": [
        "pip install scikit-surprise"
      ],
      "execution_count": 1,
      "outputs": [
        {
          "output_type": "stream",
          "text": [
            "Requirement already satisfied: scikit-surprise in /usr/local/lib/python3.6/dist-packages (1.1.1)\n",
            "Requirement already satisfied: joblib>=0.11 in /usr/local/lib/python3.6/dist-packages (from scikit-surprise) (0.17.0)\n",
            "Requirement already satisfied: six>=1.10.0 in /usr/local/lib/python3.6/dist-packages (from scikit-surprise) (1.15.0)\n",
            "Requirement already satisfied: scipy>=1.0.0 in /usr/local/lib/python3.6/dist-packages (from scikit-surprise) (1.4.1)\n",
            "Requirement already satisfied: numpy>=1.11.2 in /usr/local/lib/python3.6/dist-packages (from scikit-surprise) (1.18.5)\n"
          ],
          "name": "stdout"
        }
      ]
    },
    {
      "cell_type": "code",
      "metadata": {
        "id": "Nd53xcCqKUpV",
        "colab": {
          "base_uri": "https://localhost:8080/"
        },
        "outputId": "b39fd1fa-01df-4bfe-dc29-4c899280ab31"
      },
      "source": [
        "import numpy as np\n",
        "import pandas as pd\n",
        "import matplotlib.pyplot as plt\n",
        "import seaborn as sns\n",
        "sns.set_style(\"dark\")\n",
        "\n",
        "import string \n",
        "import datetime\n",
        "import gzip\n",
        "\n",
        "from sklearn import preprocessing\n",
        "from textblob import TextBlob\n",
        "\n",
        "import nltk\n",
        "nltk.download('punkt')\n",
        "nltk.download('stopwords')\n",
        "from nltk.corpus import stopwords\n",
        "from sklearn.metrics.pairwise import linear_kernel\n",
        "from sklearn.feature_extraction.text import TfidfVectorizer\n",
        "from surprise import Reader\n",
        "from surprise import Dataset\n",
        "from surprise.model_selection import train_test_split\n",
        "\n",
        "from surprise.model_selection import GridSearchCV\n",
        "\n",
        "\n",
        "import warnings\n",
        "warnings.filterwarnings('ignore')\n",
        "\n"
      ],
      "execution_count": 2,
      "outputs": [
        {
          "output_type": "stream",
          "text": [
            "[nltk_data] Downloading package punkt to /root/nltk_data...\n",
            "[nltk_data]   Package punkt is already up-to-date!\n",
            "[nltk_data] Downloading package stopwords to /root/nltk_data...\n",
            "[nltk_data]   Package stopwords is already up-to-date!\n"
          ],
          "name": "stdout"
        }
      ]
    },
    {
      "cell_type": "markdown",
      "metadata": {
        "id": "KZs4OeXRmyBB"
      },
      "source": [
        "# Lectura de Datasets"
      ]
    },
    {
      "cell_type": "code",
      "metadata": {
        "id": "TWj6Sw20SUT4"
      },
      "source": [
        "def parse(path):\n",
        "    g = gzip.open(path, 'r')\n",
        "    for l in g:\n",
        "        yield eval(l)"
      ],
      "execution_count": 3,
      "outputs": []
    },
    {
      "cell_type": "code",
      "metadata": {
        "id": "OjmirkGnSc2b"
      },
      "source": [
        "url_review = '/content/drive/My Drive/Data/steam_reviews.json.gz'\n",
        "contador = 0\n",
        "data_reviews = []\n",
        "# Vamos a guardar una de cada 10 reviews para no llenar la memoria RAM. Si pones n = 3, \n",
        "# abrira uno de cada tres, y asi.\n",
        "n = 15\n",
        "for l in parse(url_review):\n",
        "    if contador%n == 0:\n",
        "        data_reviews.append(l)\n",
        "    else:\n",
        "        pass\n",
        "    contador += 1\n",
        "\n",
        "data_reviews = pd.DataFrame(data_reviews)"
      ],
      "execution_count": 4,
      "outputs": []
    },
    {
      "cell_type": "code",
      "metadata": {
        "id": "Tx6oE_jOzUfZ"
      },
      "source": [
        "url_games = '/content/drive/My Drive/Data/steam_games.json.gz'\n",
        "data_games = []\n",
        "for l in parse(url_games):\n",
        "    data_games.append(l)\n",
        "data_games = pd.DataFrame(data_games)"
      ],
      "execution_count": 5,
      "outputs": []
    },
    {
      "cell_type": "markdown",
      "metadata": {
        "id": "G01Aoe_F09UB"
      },
      "source": [
        "https://towardsdatascience.com/steam-recommendation-systems-4358917288eb\n",
        "\n",
        "https://ansegura7.github.io/RS_Surprise/pages/RS_SVD.html"
      ]
    },
    {
      "cell_type": "markdown",
      "metadata": {
        "id": "aY2fodU1akiM"
      },
      "source": [
        "# Parte A Procesamiento de datos"
      ]
    },
    {
      "cell_type": "markdown",
      "metadata": {
        "id": "wmhdnBAPelW3"
      },
      "source": [
        "## Reviews"
      ]
    },
    {
      "cell_type": "code",
      "metadata": {
        "id": "9bhA0PfxT_MB",
        "colab": {
          "base_uri": "https://localhost:8080/",
          "height": 261
        },
        "outputId": "8fab2f92-30bb-4a9a-f30e-b77a58122991"
      },
      "source": [
        "data_reviews.head(4)"
      ],
      "execution_count": 6,
      "outputs": [
        {
          "output_type": "execute_result",
          "data": {
            "text/html": [
              "<div>\n",
              "<style scoped>\n",
              "    .dataframe tbody tr th:only-of-type {\n",
              "        vertical-align: middle;\n",
              "    }\n",
              "\n",
              "    .dataframe tbody tr th {\n",
              "        vertical-align: top;\n",
              "    }\n",
              "\n",
              "    .dataframe thead th {\n",
              "        text-align: right;\n",
              "    }\n",
              "</style>\n",
              "<table border=\"1\" class=\"dataframe\">\n",
              "  <thead>\n",
              "    <tr style=\"text-align: right;\">\n",
              "      <th></th>\n",
              "      <th>username</th>\n",
              "      <th>hours</th>\n",
              "      <th>products</th>\n",
              "      <th>product_id</th>\n",
              "      <th>page_order</th>\n",
              "      <th>date</th>\n",
              "      <th>text</th>\n",
              "      <th>early_access</th>\n",
              "      <th>page</th>\n",
              "      <th>user_id</th>\n",
              "      <th>compensation</th>\n",
              "      <th>found_funny</th>\n",
              "    </tr>\n",
              "  </thead>\n",
              "  <tbody>\n",
              "    <tr>\n",
              "      <th>0</th>\n",
              "      <td>Chaos Syren</td>\n",
              "      <td>0.1</td>\n",
              "      <td>41.0</td>\n",
              "      <td>725280</td>\n",
              "      <td>0</td>\n",
              "      <td>2017-12-17</td>\n",
              "      <td>This would not be acceptable as an entertainme...</td>\n",
              "      <td>False</td>\n",
              "      <td>1</td>\n",
              "      <td>NaN</td>\n",
              "      <td>NaN</td>\n",
              "      <td>NaN</td>\n",
              "    </tr>\n",
              "    <tr>\n",
              "      <th>1</th>\n",
              "      <td>Duha Nubie</td>\n",
              "      <td>11.3</td>\n",
              "      <td>73.0</td>\n",
              "      <td>35140</td>\n",
              "      <td>4</td>\n",
              "      <td>2018-01-03</td>\n",
              "      <td>first debut feel sweet</td>\n",
              "      <td>False</td>\n",
              "      <td>1</td>\n",
              "      <td>NaN</td>\n",
              "      <td>NaN</td>\n",
              "      <td>NaN</td>\n",
              "    </tr>\n",
              "    <tr>\n",
              "      <th>2</th>\n",
              "      <td>The_Cpt_FROGGY</td>\n",
              "      <td>7.8</td>\n",
              "      <td>2217.0</td>\n",
              "      <td>631920</td>\n",
              "      <td>0</td>\n",
              "      <td>2017-12-11</td>\n",
              "      <td>Somewhere on Zibylon:\\n~~~~~~~~~~~~~~~~~~\\nZib...</td>\n",
              "      <td>False</td>\n",
              "      <td>1</td>\n",
              "      <td>76561198003030375</td>\n",
              "      <td>Product received for free</td>\n",
              "      <td>NaN</td>\n",
              "    </tr>\n",
              "    <tr>\n",
              "      <th>3</th>\n",
              "      <td>S0YxSauCe</td>\n",
              "      <td>0.3</td>\n",
              "      <td>902.0</td>\n",
              "      <td>671270</td>\n",
              "      <td>4</td>\n",
              "      <td>2017-07-10</td>\n",
              "      <td>Easy game. All you have to do is put the hat t...</td>\n",
              "      <td>False</td>\n",
              "      <td>1</td>\n",
              "      <td>NaN</td>\n",
              "      <td>NaN</td>\n",
              "      <td>NaN</td>\n",
              "    </tr>\n",
              "  </tbody>\n",
              "</table>\n",
              "</div>"
            ],
            "text/plain": [
              "         username  hours  ...               compensation found_funny\n",
              "0     Chaos Syren    0.1  ...                        NaN         NaN\n",
              "1      Duha Nubie   11.3  ...                        NaN         NaN\n",
              "2  The_Cpt_FROGGY    7.8  ...  Product received for free         NaN\n",
              "3       S0YxSauCe    0.3  ...                        NaN         NaN\n",
              "\n",
              "[4 rows x 12 columns]"
            ]
          },
          "metadata": {
            "tags": []
          },
          "execution_count": 6
        }
      ]
    },
    {
      "cell_type": "code",
      "metadata": {
        "id": "I0huyNX7UB3E",
        "colab": {
          "base_uri": "https://localhost:8080/"
        },
        "outputId": "77a83fa2-5e9d-4e25-cad3-b32428cf4f6a"
      },
      "source": [
        "data_reviews.shape"
      ],
      "execution_count": 7,
      "outputs": [
        {
          "output_type": "execute_result",
          "data": {
            "text/plain": [
              "(519538, 12)"
            ]
          },
          "metadata": {
            "tags": []
          },
          "execution_count": 7
        }
      ]
    },
    {
      "cell_type": "code",
      "metadata": {
        "colab": {
          "base_uri": "https://localhost:8080/"
        },
        "id": "NrmIuwWVvFeN",
        "outputId": "e3f48d4f-6ad9-41ff-ddef-fc9324c29b32"
      },
      "source": [
        "data_reviews.dtypes"
      ],
      "execution_count": 8,
      "outputs": [
        {
          "output_type": "execute_result",
          "data": {
            "text/plain": [
              "username         object\n",
              "hours           float64\n",
              "products        float64\n",
              "product_id       object\n",
              "page_order        int64\n",
              "date             object\n",
              "text             object\n",
              "early_access       bool\n",
              "page              int64\n",
              "user_id          object\n",
              "compensation     object\n",
              "found_funny     float64\n",
              "dtype: object"
            ]
          },
          "metadata": {
            "tags": []
          },
          "execution_count": 8
        }
      ]
    },
    {
      "cell_type": "code",
      "metadata": {
        "id": "Ceo8n9KuQN51"
      },
      "source": [
        "#Elimino columnas\n",
        "data_reviews.drop(['page_order', 'page',\n",
        "                   'early_access', 'compensation', 'found_funny',\n",
        "                   'products', 'user_id'],\n",
        "                   axis=1, inplace=True)"
      ],
      "execution_count": 9,
      "outputs": []
    },
    {
      "cell_type": "code",
      "metadata": {
        "id": "IeDqcGAVhu1i"
      },
      "source": [
        "#Convertir a string columnas\n",
        "columnas = ['username', 'text']\n",
        "for i in columnas:\n",
        "  data_reviews[i] = data_reviews[i].astype('string')\n",
        "\n",
        "#Convertir a int64 columna product_id\n",
        "data_reviews['product_id'] = data_reviews['product_id'].astype('int64')\n",
        "\n",
        "#Conversion a tipo datetime64\n",
        "data_reviews['Fecha'] = pd.to_datetime(data_reviews['date'])\n",
        "data_reviews['Year'] = data_reviews['Fecha'].dt.year            #Nueva columna con el año del review\n",
        "data_reviews['month'] = data_reviews['Fecha'].dt.month          #Nueva columna con el mes del review"
      ],
      "execution_count": 10,
      "outputs": []
    },
    {
      "cell_type": "code",
      "metadata": {
        "id": "A-e77rJMhumc"
      },
      "source": [
        "#Elimino reviews duplicadas del mismo usuario para el mismo videojuego, dejando la mas reciente\n",
        "data_reviews.drop_duplicates(subset=['username', 'product_id'], keep='first', inplace=True)"
      ],
      "execution_count": 11,
      "outputs": []
    },
    {
      "cell_type": "code",
      "metadata": {
        "id": "InmydCcPk_7_"
      },
      "source": [
        "def valores_nulos(data):\n",
        "  print('<-- Porcentaje de valores nulos -->\\n')\n",
        "  print(data.isnull().sum() / data.shape[0] * 100)"
      ],
      "execution_count": 12,
      "outputs": []
    },
    {
      "cell_type": "code",
      "metadata": {
        "colab": {
          "base_uri": "https://localhost:8080/"
        },
        "id": "BmYKavKGkV-2",
        "outputId": "02d1a4c1-ab5f-4a64-8a38-dd63da3cb383"
      },
      "source": [
        "valores_nulos(data_reviews)"
      ],
      "execution_count": 13,
      "outputs": [
        {
          "output_type": "stream",
          "text": [
            "<-- Porcentaje de valores nulos -->\n",
            "\n",
            "username      0.000000\n",
            "hours         0.341593\n",
            "product_id    0.000000\n",
            "date          0.000000\n",
            "text          0.000000\n",
            "Fecha         0.000000\n",
            "Year          0.000000\n",
            "month         0.000000\n",
            "dtype: float64\n"
          ],
          "name": "stdout"
        }
      ]
    },
    {
      "cell_type": "markdown",
      "metadata": {
        "id": "QsCmiyPeCZv8"
      },
      "source": [
        " ## Info Games"
      ]
    },
    {
      "cell_type": "code",
      "metadata": {
        "colab": {
          "base_uri": "https://localhost:8080/"
        },
        "id": "pMzdad6Jv-AS",
        "outputId": "a4eebdfd-6efc-44d4-bea2-22f7d14ebdf2"
      },
      "source": [
        "data_games.shape"
      ],
      "execution_count": 14,
      "outputs": [
        {
          "output_type": "execute_result",
          "data": {
            "text/plain": [
              "(32135, 16)"
            ]
          },
          "metadata": {
            "tags": []
          },
          "execution_count": 14
        }
      ]
    },
    {
      "cell_type": "code",
      "metadata": {
        "colab": {
          "base_uri": "https://localhost:8080/"
        },
        "id": "JhKrNmdxeT7F",
        "outputId": "5073389e-e0a4-454f-d351-d9bb41555ef0"
      },
      "source": [
        "data_games.dtypes"
      ],
      "execution_count": 15,
      "outputs": [
        {
          "output_type": "execute_result",
          "data": {
            "text/plain": [
              "publisher          object\n",
              "genres             object\n",
              "app_name           object\n",
              "title              object\n",
              "url                object\n",
              "release_date       object\n",
              "tags               object\n",
              "discount_price    float64\n",
              "reviews_url        object\n",
              "specs              object\n",
              "price              object\n",
              "early_access         bool\n",
              "id                 object\n",
              "developer          object\n",
              "sentiment          object\n",
              "metascore          object\n",
              "dtype: object"
            ]
          },
          "metadata": {
            "tags": []
          },
          "execution_count": 15
        }
      ]
    },
    {
      "cell_type": "code",
      "metadata": {
        "id": "jcruDkfUviE9"
      },
      "source": [
        "#Elimino valores nulos\n",
        "data_games.dropna(subset=['tags', 'id', 'title'], axis=0, inplace=True)"
      ],
      "execution_count": 16,
      "outputs": []
    },
    {
      "cell_type": "code",
      "metadata": {
        "id": "bMFEmfsZnR_Z"
      },
      "source": [
        "#Convertir a string columnas\n",
        "columnas = ['genres', 'title','tags']\n",
        "for i in columnas:\n",
        "  data_games[i] = data_games[i].astype('string')\n",
        "\n",
        "#Convertir a int64 columna product_id\n",
        "data_games['id'] = data_games['id'].astype('int64')"
      ],
      "execution_count": 17,
      "outputs": []
    },
    {
      "cell_type": "code",
      "metadata": {
        "id": "bsL6I3a2xuGq"
      },
      "source": [
        "data_games.drop(['publisher','reviews_url', 'url', \n",
        "                 'early_access', 'discount_price', \n",
        "                 'app_name', 'release_date',\n",
        "                 'discount_price', 'specs', \n",
        "                 'sentiment', 'metascore'],\n",
        "                axis=1,\n",
        "                inplace=True)"
      ],
      "execution_count": 18,
      "outputs": []
    },
    {
      "cell_type": "code",
      "metadata": {
        "colab": {
          "base_uri": "https://localhost:8080/"
        },
        "id": "ZDR-Dt3JnJzC",
        "outputId": "36e7c19f-cb5d-4312-9c3a-9e4d60db868a"
      },
      "source": [
        "valores_nulos(data_games)"
      ],
      "execution_count": 19,
      "outputs": [
        {
          "output_type": "stream",
          "text": [
            "<-- Porcentaje de valores nulos -->\n",
            "\n",
            "genres       3.666076\n",
            "title        0.000000\n",
            "tags         0.000000\n",
            "price        4.103867\n",
            "id           0.000000\n",
            "developer    4.087157\n",
            "dtype: float64\n"
          ],
          "name": "stdout"
        }
      ]
    },
    {
      "cell_type": "code",
      "metadata": {
        "colab": {
          "base_uri": "https://localhost:8080/",
          "height": 295
        },
        "id": "Bb8lVqUUoqg_",
        "outputId": "a836d1aa-2600-4544-d99b-23dec5675593"
      },
      "source": [
        "#Tranferencia del Nombre del videojuego segun su id\n",
        "df = pd.merge(data_reviews, data_games,  left_on='product_id', right_on='id')\n",
        "df.head(3)"
      ],
      "execution_count": 20,
      "outputs": [
        {
          "output_type": "execute_result",
          "data": {
            "text/html": [
              "<div>\n",
              "<style scoped>\n",
              "    .dataframe tbody tr th:only-of-type {\n",
              "        vertical-align: middle;\n",
              "    }\n",
              "\n",
              "    .dataframe tbody tr th {\n",
              "        vertical-align: top;\n",
              "    }\n",
              "\n",
              "    .dataframe thead th {\n",
              "        text-align: right;\n",
              "    }\n",
              "</style>\n",
              "<table border=\"1\" class=\"dataframe\">\n",
              "  <thead>\n",
              "    <tr style=\"text-align: right;\">\n",
              "      <th></th>\n",
              "      <th>username</th>\n",
              "      <th>hours</th>\n",
              "      <th>product_id</th>\n",
              "      <th>date</th>\n",
              "      <th>text</th>\n",
              "      <th>Fecha</th>\n",
              "      <th>Year</th>\n",
              "      <th>month</th>\n",
              "      <th>genres</th>\n",
              "      <th>title</th>\n",
              "      <th>tags</th>\n",
              "      <th>price</th>\n",
              "      <th>id</th>\n",
              "      <th>developer</th>\n",
              "    </tr>\n",
              "  </thead>\n",
              "  <tbody>\n",
              "    <tr>\n",
              "      <th>0</th>\n",
              "      <td>Chaos Syren</td>\n",
              "      <td>0.1</td>\n",
              "      <td>725280</td>\n",
              "      <td>2017-12-17</td>\n",
              "      <td>This would not be acceptable as an entertainme...</td>\n",
              "      <td>2017-12-17</td>\n",
              "      <td>2017</td>\n",
              "      <td>12</td>\n",
              "      <td>['Action', 'Adventure', 'Indie', 'Simulation']</td>\n",
              "      <td>Psi Project</td>\n",
              "      <td>['Action', 'Adventure', 'Indie', 'Simulation']</td>\n",
              "      <td>2.99</td>\n",
              "      <td>725280</td>\n",
              "      <td>Vyacheslav Shilikhin</td>\n",
              "    </tr>\n",
              "    <tr>\n",
              "      <th>1</th>\n",
              "      <td>Duha Nubie</td>\n",
              "      <td>11.3</td>\n",
              "      <td>35140</td>\n",
              "      <td>2018-01-03</td>\n",
              "      <td>first debut feel sweet</td>\n",
              "      <td>2018-01-03</td>\n",
              "      <td>2018</td>\n",
              "      <td>1</td>\n",
              "      <td>['Action', 'Adventure']</td>\n",
              "      <td>Batman: Arkham Asylum Game of the Year Edition</td>\n",
              "      <td>['Action', 'Batman', 'Stealth', 'Adventure', '...</td>\n",
              "      <td>19.99</td>\n",
              "      <td>35140</td>\n",
              "      <td>Rocksteady Studios,Feral Interactive (Mac)</td>\n",
              "    </tr>\n",
              "    <tr>\n",
              "      <th>2</th>\n",
              "      <td>MLGarbage</td>\n",
              "      <td>9.5</td>\n",
              "      <td>35140</td>\n",
              "      <td>2018-01-02</td>\n",
              "      <td>Fun Game. I played shadow of mordor before pla...</td>\n",
              "      <td>2018-01-02</td>\n",
              "      <td>2018</td>\n",
              "      <td>1</td>\n",
              "      <td>['Action', 'Adventure']</td>\n",
              "      <td>Batman: Arkham Asylum Game of the Year Edition</td>\n",
              "      <td>['Action', 'Batman', 'Stealth', 'Adventure', '...</td>\n",
              "      <td>19.99</td>\n",
              "      <td>35140</td>\n",
              "      <td>Rocksteady Studios,Feral Interactive (Mac)</td>\n",
              "    </tr>\n",
              "  </tbody>\n",
              "</table>\n",
              "</div>"
            ],
            "text/plain": [
              "      username  hours  ...      id                                   developer\n",
              "0  Chaos Syren    0.1  ...  725280                        Vyacheslav Shilikhin\n",
              "1   Duha Nubie   11.3  ...   35140  Rocksteady Studios,Feral Interactive (Mac)\n",
              "2    MLGarbage    9.5  ...   35140  Rocksteady Studios,Feral Interactive (Mac)\n",
              "\n",
              "[3 rows x 14 columns]"
            ]
          },
          "metadata": {
            "tags": []
          },
          "execution_count": 20
        }
      ]
    },
    {
      "cell_type": "markdown",
      "metadata": {
        "id": "vq9YlLvUm3fO"
      },
      "source": [
        "##Exploración de Información"
      ]
    },
    {
      "cell_type": "code",
      "metadata": {
        "colab": {
          "base_uri": "https://localhost:8080/"
        },
        "id": "5qrj2_lIg3-h",
        "outputId": "8ce85c7d-5d00-4741-f613-9da58db3c128"
      },
      "source": [
        "print('Un total de {} usuarios realizaron reviews de videojuegos'.format(len(df.username.unique())))"
      ],
      "execution_count": 21,
      "outputs": [
        {
          "output_type": "stream",
          "text": [
            "Un total de 388027 usuarios realizaron reviews de videojuegos\n"
          ],
          "name": "stdout"
        }
      ]
    },
    {
      "cell_type": "code",
      "metadata": {
        "colab": {
          "base_uri": "https://localhost:8080/"
        },
        "id": "JCpaEURihzUb",
        "outputId": "254c58f1-01a1-44c4-fa9b-3e0b259a2d44"
      },
      "source": [
        "print(\"<-- Top 10 Usuarios con mas reviews -->\")\n",
        "df.username.value_counts().head(10)"
      ],
      "execution_count": 22,
      "outputs": [
        {
          "output_type": "stream",
          "text": [
            "<-- Top 10 Usuarios con mas reviews -->\n"
          ],
          "name": "stdout"
        },
        {
          "output_type": "execute_result",
          "data": {
            "text/plain": [
              "Alex           119\n",
              "Nick            99\n",
              "Jack            96\n",
              "Chris           85\n",
              "Saint Aaron     76\n",
              "Dan             76\n",
              "123             74\n",
              "Kodyd194        73\n",
              "Sam             71\n",
              "Matt            71\n",
              "Name: username, dtype: Int64"
            ]
          },
          "metadata": {
            "tags": []
          },
          "execution_count": 22
        }
      ]
    },
    {
      "cell_type": "code",
      "metadata": {
        "colab": {
          "base_uri": "https://localhost:8080/"
        },
        "id": "GeWoc66CpQ0B",
        "outputId": "d476bdb6-bad2-4c8d-9595-ec3360ec6203"
      },
      "source": [
        "print('<-- Videojuegos con mas Reviews -->\\n')\n",
        "df.title.value_counts().head(10)"
      ],
      "execution_count": 23,
      "outputs": [
        {
          "output_type": "stream",
          "text": [
            "<-- Videojuegos con mas Reviews -->\n",
            "\n"
          ],
          "name": "stdout"
        },
        {
          "output_type": "execute_result",
          "data": {
            "text/plain": [
              "Team Fortress 2                11731\n",
              "Rust                            6623\n",
              "Borderlands 2                   4733\n",
              "Fallout 4                       4454\n",
              "Grand Theft Auto V              3901\n",
              "Portal 2                        3678\n",
              "Undertale                       3659\n",
              "DayZ                            3625\n",
              "Warframe                        3553\n",
              "Life is Strange - Episode 1     3345\n",
              "Name: title, dtype: Int64"
            ]
          },
          "metadata": {
            "tags": []
          },
          "execution_count": 23
        }
      ]
    },
    {
      "cell_type": "code",
      "metadata": {
        "colab": {
          "base_uri": "https://localhost:8080/",
          "height": 312
        },
        "id": "TQvgT4FsxHoi",
        "outputId": "7558f7c9-b402-45aa-9113-c229055dd828"
      },
      "source": [
        "year_review = df.groupby(['Year']).count()\n",
        "plt.title('Horas acumuladas de juego por año')\n",
        "sns.barplot(x = year_review.index,\n",
        "            y=year_review.hours)"
      ],
      "execution_count": 24,
      "outputs": [
        {
          "output_type": "execute_result",
          "data": {
            "text/plain": [
              "<matplotlib.axes._subplots.AxesSubplot at 0x7fd9dd5890b8>"
            ]
          },
          "metadata": {
            "tags": []
          },
          "execution_count": 24
        },
        {
          "output_type": "display_data",
          "data": {
            "image/png": "[encoded data removed]",
            "text/plain": [
              "<Figure size 432x288 with 1 Axes>"
            ]
          },
          "metadata": {
            "tags": []
          }
        }
      ]
    },
    {
      "cell_type": "code",
      "metadata": {
        "id": "Erf3a2D7eBpB",
        "colab": {
          "base_uri": "https://localhost:8080/",
          "height": 312
        },
        "outputId": "bcf9c4d6-b14b-459e-89df-02e08e9607fc"
      },
      "source": [
        "months_2017 = df[df['Year'] == 2017].groupby(['month']).count()\n",
        "plt.title('Horas acumuladas de juego por mes del 2017')\n",
        "sns.barplot(x= months_2017.index,\n",
        "            y=months_2017.hours)"
      ],
      "execution_count": 25,
      "outputs": [
        {
          "output_type": "execute_result",
          "data": {
            "text/plain": [
              "<matplotlib.axes._subplots.AxesSubplot at 0x7fd9de7fb9e8>"
            ]
          },
          "metadata": {
            "tags": []
          },
          "execution_count": 25
        },
        {
          "output_type": "display_data",
          "data": {
            "image/png": "[encoded data removed]",
            "text/plain": [
              "<Figure size 432x288 with 1 Axes>"
            ]
          },
          "metadata": {
            "tags": []
          }
        }
      ]
    },
    {
      "cell_type": "code",
      "metadata": {
        "colab": {
          "base_uri": "https://localhost:8080/"
        },
        "id": "I4os0Wvfw5oP",
        "outputId": "70ed7d84-5a22-47b0-d3c1-16a2423d0bb6"
      },
      "source": [
        "print('<-- Desarrolladores con mas videojuegos registrados -->\\n')\n",
        "data_games.developer.value_counts().head(10)"
      ],
      "execution_count": 26,
      "outputs": [
        {
          "output_type": "stream",
          "text": [
            "<-- Desarrolladores con mas videojuegos registrados -->\n",
            "\n"
          ],
          "name": "stdout"
        },
        {
          "output_type": "execute_result",
          "data": {
            "text/plain": [
              "Ubisoft - San Francisco       1259\n",
              "SmiteWorks USA, LLC            813\n",
              "Dovetail Games                 253\n",
              "KOEI TECMO GAMES CO., LTD.     232\n",
              "Paradox Development Studio     156\n",
              "Capcom                         130\n",
              "Ronimo Games                   123\n",
              "Choice of Games                100\n",
              "Stainless Games                 95\n",
              "Musopia                         95\n",
              "Name: developer, dtype: int64"
            ]
          },
          "metadata": {
            "tags": []
          },
          "execution_count": 26
        }
      ]
    },
    {
      "cell_type": "code",
      "metadata": {
        "colab": {
          "base_uri": "https://localhost:8080/"
        },
        "id": "PpR_swPpx-mu",
        "outputId": "850a12d2-6051-490e-def9-aa93f65ccd9c"
      },
      "source": [
        "print('<-- Desarrolladores con mas reviews -->\\n')\n",
        "df.developer.value_counts().head(10)"
      ],
      "execution_count": 27,
      "outputs": [
        {
          "output_type": "stream",
          "text": [
            "<-- Desarrolladores con mas reviews -->\n",
            "\n"
          ],
          "name": "stdout"
        },
        {
          "output_type": "execute_result",
          "data": {
            "text/plain": [
              "Valve                                       24337\n",
              "Facepunch Studios                            9733\n",
              "Bohemia Interactive                          7662\n",
              "Bethesda Game Studios                        6963\n",
              "Gearbox Software,Aspyr (Mac &amp; Linux)     4733\n",
              "Ubisoft Montreal                             4707\n",
              "Hi-Rez Studios                               4128\n",
              "Daybreak Game Company                        4051\n",
              "Rockstar North                               3947\n",
              "Digital Extremes                             3804\n",
              "Name: developer, dtype: int64"
            ]
          },
          "metadata": {
            "tags": []
          },
          "execution_count": 27
        }
      ]
    },
    {
      "cell_type": "code",
      "metadata": {
        "colab": {
          "base_uri": "https://localhost:8080/",
          "height": 331
        },
        "id": "Aqd3nCrUw07Y",
        "outputId": "bda56f56-6bcd-49af-cc9d-c3a855f3c067"
      },
      "source": [
        "price_games = data_games.price.value_counts().head(10)\n",
        "sns.barplot(x=price_games.index[0:],\n",
        "            y=price_games)\n",
        "plt.title('Precio mas frecuente de Videojuegos Registrados')\n",
        "plt.xticks(rotation=50)\n",
        "plt.xlabel('Precio')\n",
        "plt.ylabel('Frecuencia')"
      ],
      "execution_count": 28,
      "outputs": [
        {
          "output_type": "execute_result",
          "data": {
            "text/plain": [
              "Text(0, 0.5, 'Frecuencia')"
            ]
          },
          "metadata": {
            "tags": []
          },
          "execution_count": 28
        },
        {
          "output_type": "display_data",
          "data": {
            "image/png": "[encoded data removed]",
            "text/plain": [
              "<Figure size 432x288 with 1 Axes>"
            ]
          },
          "metadata": {
            "tags": []
          }
        }
      ]
    },
    {
      "cell_type": "code",
      "metadata": {
        "colab": {
          "base_uri": "https://localhost:8080/",
          "height": 353
        },
        "id": "Y07u5knvwMys",
        "outputId": "2303d02c-0a88-46f2-dfc7-5b62691c6023"
      },
      "source": [
        "price_games = df.price.value_counts().head(10)\n",
        "sns.barplot(x=price_games.index[0:],\n",
        "            y=price_games)\n",
        "plt.title('Precio mas frecuente en Videojuegos con Reviews')\n",
        "plt.xticks(rotation=50)\n",
        "plt.xlabel('Precio')\n",
        "plt.ylabel('Frecuencia')"
      ],
      "execution_count": 29,
      "outputs": [
        {
          "output_type": "execute_result",
          "data": {
            "text/plain": [
              "Text(0, 0.5, 'Frecuencia')"
            ]
          },
          "metadata": {
            "tags": []
          },
          "execution_count": 29
        },
        {
          "output_type": "display_data",
          "data": {
            "image/png": "[encoded data removed]",
            "text/plain": [
              "<Figure size 432x288 with 1 Axes>"
            ]
          },
          "metadata": {
            "tags": []
          }
        }
      ]
    },
    {
      "cell_type": "markdown",
      "metadata": {
        "id": "rOT82_sV75Pv"
      },
      "source": [
        "# Procesamiento de Lenguaje Natural"
      ]
    },
    {
      "cell_type": "markdown",
      "metadata": {
        "id": "QpsVRpMryuAV"
      },
      "source": [
        "Realizo procesamiento de lenguaje, para intentar obtener una calificacion a la review realizada por el usuario , obteniendo una calificacion para la polaridad del comentario.\n",
        "Si el comentario es positivo, el valor sera igual o cercano a 1, mientras, que, si el comentario es negativo, el valor sera igual o cercano a -1, si el comentario es neutro el valor sera cercano o igual a 0"
      ]
    },
    {
      "cell_type": "code",
      "metadata": {
        "id": "BIXXCUSTclIO"
      },
      "source": [
        "df.drop(['hours', 'date', 'Fecha', 'Year', 'month', 'developer', 'price','id'], axis=1, inplace=True)"
      ],
      "execution_count": 31,
      "outputs": []
    },
    {
      "cell_type": "code",
      "metadata": {
        "id": "yvTTgj7dzo7w"
      },
      "source": [
        " #Elimino signos de puntuacion\n",
        " df['xtext'] = df['text'].str.replace('[{}]'.format(string.punctuation), ' ')"
      ],
      "execution_count": 32,
      "outputs": []
    },
    {
      "cell_type": "markdown",
      "metadata": {
        "id": "nOINlU176LDQ"
      },
      "source": [
        "## Conversion de nombre de usuarios a numeros"
      ]
    },
    {
      "cell_type": "code",
      "metadata": {
        "colab": {
          "base_uri": "https://localhost:8080/",
          "height": 162
        },
        "id": "1byVdnLO6Wa0",
        "outputId": "6ba7b507-139f-4ce2-fa14-647c420ce80c"
      },
      "source": [
        "le = preprocessing.LabelEncoder()\n",
        "le.fit(df['username'])\n",
        "df['x_username'] = le.transform(df['username'])\n",
        "\n",
        "df.head(2)"
      ],
      "execution_count": 33,
      "outputs": [
        {
          "output_type": "execute_result",
          "data": {
            "text/html": [
              "<div>\n",
              "<style scoped>\n",
              "    .dataframe tbody tr th:only-of-type {\n",
              "        vertical-align: middle;\n",
              "    }\n",
              "\n",
              "    .dataframe tbody tr th {\n",
              "        vertical-align: top;\n",
              "    }\n",
              "\n",
              "    .dataframe thead th {\n",
              "        text-align: right;\n",
              "    }\n",
              "</style>\n",
              "<table border=\"1\" class=\"dataframe\">\n",
              "  <thead>\n",
              "    <tr style=\"text-align: right;\">\n",
              "      <th></th>\n",
              "      <th>username</th>\n",
              "      <th>product_id</th>\n",
              "      <th>text</th>\n",
              "      <th>genres</th>\n",
              "      <th>title</th>\n",
              "      <th>tags</th>\n",
              "      <th>xtext</th>\n",
              "      <th>x_username</th>\n",
              "    </tr>\n",
              "  </thead>\n",
              "  <tbody>\n",
              "    <tr>\n",
              "      <th>0</th>\n",
              "      <td>Chaos Syren</td>\n",
              "      <td>725280</td>\n",
              "      <td>This would not be acceptable as an entertainme...</td>\n",
              "      <td>['Action', 'Adventure', 'Indie', 'Simulation']</td>\n",
              "      <td>Psi Project</td>\n",
              "      <td>['Action', 'Adventure', 'Indie', 'Simulation']</td>\n",
              "      <td>This would not be acceptable as an entertainme...</td>\n",
              "      <td>45116</td>\n",
              "    </tr>\n",
              "    <tr>\n",
              "      <th>1</th>\n",
              "      <td>Duha Nubie</td>\n",
              "      <td>35140</td>\n",
              "      <td>first debut feel sweet</td>\n",
              "      <td>['Action', 'Adventure']</td>\n",
              "      <td>Batman: Arkham Asylum Game of the Year Edition</td>\n",
              "      <td>['Action', 'Batman', 'Stealth', 'Adventure', '...</td>\n",
              "      <td>first debut feel sweet</td>\n",
              "      <td>73962</td>\n",
              "    </tr>\n",
              "  </tbody>\n",
              "</table>\n",
              "</div>"
            ],
            "text/plain": [
              "      username  ...  x_username\n",
              "0  Chaos Syren  ...       45116\n",
              "1   Duha Nubie  ...       73962\n",
              "\n",
              "[2 rows x 8 columns]"
            ]
          },
          "metadata": {
            "tags": []
          },
          "execution_count": 33
        }
      ]
    },
    {
      "cell_type": "code",
      "metadata": {
        "id": "WPPXhxcO6ROI"
      },
      "source": [
        "#Submuestra\n",
        "df_sub= df.sample(frac=0.1)\n",
        "df_sub.reset_index(drop=True, inplace=True)"
      ],
      "execution_count": 34,
      "outputs": []
    },
    {
      "cell_type": "markdown",
      "metadata": {
        "id": "j17XK9E88teX"
      },
      "source": [
        "## Polaridad y subjetividad de reviews"
      ]
    },
    {
      "cell_type": "code",
      "metadata": {
        "id": "qj5MsPoG8r0l"
      },
      "source": [
        "#Creacion de una nueva columna con la polaridad de la review\n",
        "comentarios = []\n",
        "\n",
        "for i in range(df_sub.shape[0]):\n",
        "  comentario = df_sub.xtext.iloc[i]\n",
        "  comentario = TextBlob(comentario).polarity\n",
        "  comentarios.append(comentario)\n",
        "\n",
        "df_sub['polarity'] = comentarios"
      ],
      "execution_count": 35,
      "outputs": []
    },
    {
      "cell_type": "code",
      "metadata": {
        "id": "K8K0YJJP-VAm"
      },
      "source": [
        "#Creacion de una nueva columna con la subjetividad de la revoew\n",
        "comentarios = []\n",
        "\n",
        "for i in range(df_sub.shape[0]):\n",
        "  comentario = df_sub.xtext.iloc[i]\n",
        "  comentario = TextBlob(comentario).subjectivity\n",
        "  comentarios.append(comentario)\n",
        "\n",
        "df_sub['subjectivity'] = comentarios"
      ],
      "execution_count": 36,
      "outputs": []
    },
    {
      "cell_type": "markdown",
      "metadata": {
        "id": "RIdWtFmu-Bwe"
      },
      "source": [
        "## Analisis de comentarios"
      ]
    },
    {
      "cell_type": "code",
      "metadata": {
        "colab": {
          "base_uri": "https://localhost:8080/",
          "height": 235
        },
        "id": "3_D58Ku6-Cgi",
        "outputId": "cb9a9886-5a99-4ece-b7cb-ce8d36fbb46a"
      },
      "source": [
        "#Data de videojuego con el promedio de polaridad en sus reviews\n",
        "ratings = pd.DataFrame(df_sub.groupby('title')['polarity'].mean())\n",
        "ratings.head()"
      ],
      "execution_count": 37,
      "outputs": [
        {
          "output_type": "execute_result",
          "data": {
            "text/html": [
              "<div>\n",
              "<style scoped>\n",
              "    .dataframe tbody tr th:only-of-type {\n",
              "        vertical-align: middle;\n",
              "    }\n",
              "\n",
              "    .dataframe tbody tr th {\n",
              "        vertical-align: top;\n",
              "    }\n",
              "\n",
              "    .dataframe thead th {\n",
              "        text-align: right;\n",
              "    }\n",
              "</style>\n",
              "<table border=\"1\" class=\"dataframe\">\n",
              "  <thead>\n",
              "    <tr style=\"text-align: right;\">\n",
              "      <th></th>\n",
              "      <th>polarity</th>\n",
              "    </tr>\n",
              "    <tr>\n",
              "      <th>title</th>\n",
              "      <th></th>\n",
              "    </tr>\n",
              "  </thead>\n",
              "  <tbody>\n",
              "    <tr>\n",
              "      <th>#monstercakes</th>\n",
              "      <td>0.039583</td>\n",
              "    </tr>\n",
              "    <tr>\n",
              "      <th>&amp;gt;observer_</th>\n",
              "      <td>0.039267</td>\n",
              "    </tr>\n",
              "    <tr>\n",
              "      <th>- Arcane Raise -</th>\n",
              "      <td>-0.050741</td>\n",
              "    </tr>\n",
              "    <tr>\n",
              "      <th>.hack//G.U. Last Recode</th>\n",
              "      <td>0.288750</td>\n",
              "    </tr>\n",
              "    <tr>\n",
              "      <th>0RBITALIS</th>\n",
              "      <td>0.083482</td>\n",
              "    </tr>\n",
              "  </tbody>\n",
              "</table>\n",
              "</div>"
            ],
            "text/plain": [
              "                         polarity\n",
              "title                            \n",
              "#monstercakes            0.039583\n",
              "&gt;observer_            0.039267\n",
              "- Arcane Raise -        -0.050741\n",
              ".hack//G.U. Last Recode  0.288750\n",
              "0RBITALIS                0.083482"
            ]
          },
          "metadata": {
            "tags": []
          },
          "execution_count": 37
        }
      ]
    },
    {
      "cell_type": "code",
      "metadata": {
        "colab": {
          "base_uri": "https://localhost:8080/",
          "height": 424
        },
        "id": "kGwMvN2hV9PN",
        "outputId": "a0f88aa0-5292-4184-8a96-a95b883b93a8"
      },
      "source": [
        "print('<-- Videojuegos con más reviews positivas-->\\n')\n",
        "ratings.sort_values(by='polarity', ascending=False).head(10)"
      ],
      "execution_count": 38,
      "outputs": [
        {
          "output_type": "stream",
          "text": [
            "<-- Videojuegos con más reviews positivas-->\n",
            "\n"
          ],
          "name": "stdout"
        },
        {
          "output_type": "execute_result",
          "data": {
            "text/html": [
              "<div>\n",
              "<style scoped>\n",
              "    .dataframe tbody tr th:only-of-type {\n",
              "        vertical-align: middle;\n",
              "    }\n",
              "\n",
              "    .dataframe tbody tr th {\n",
              "        vertical-align: top;\n",
              "    }\n",
              "\n",
              "    .dataframe thead th {\n",
              "        text-align: right;\n",
              "    }\n",
              "</style>\n",
              "<table border=\"1\" class=\"dataframe\">\n",
              "  <thead>\n",
              "    <tr style=\"text-align: right;\">\n",
              "      <th></th>\n",
              "      <th>polarity</th>\n",
              "    </tr>\n",
              "    <tr>\n",
              "      <th>title</th>\n",
              "      <th></th>\n",
              "    </tr>\n",
              "  </thead>\n",
              "  <tbody>\n",
              "    <tr>\n",
              "      <th>The Transformers: The Movie</th>\n",
              "      <td>1.00</td>\n",
              "    </tr>\n",
              "    <tr>\n",
              "      <th>Alpha Zylon</th>\n",
              "      <td>1.00</td>\n",
              "    </tr>\n",
              "    <tr>\n",
              "      <th>Toadled</th>\n",
              "      <td>1.00</td>\n",
              "    </tr>\n",
              "    <tr>\n",
              "      <th>Masters of the World - Geopolitical Simulator 3</th>\n",
              "      <td>1.00</td>\n",
              "    </tr>\n",
              "    <tr>\n",
              "      <th>DARIUSBURST Chronicle Saviours</th>\n",
              "      <td>1.00</td>\n",
              "    </tr>\n",
              "    <tr>\n",
              "      <th>The Abbey of Crime Extensum</th>\n",
              "      <td>0.90</td>\n",
              "    </tr>\n",
              "    <tr>\n",
              "      <th>Zone4</th>\n",
              "      <td>0.90</td>\n",
              "    </tr>\n",
              "    <tr>\n",
              "      <th>Quest for Glory 1-5</th>\n",
              "      <td>0.85</td>\n",
              "    </tr>\n",
              "    <tr>\n",
              "      <th>Time Rifters</th>\n",
              "      <td>0.85</td>\n",
              "    </tr>\n",
              "    <tr>\n",
              "      <th>Snake Party</th>\n",
              "      <td>0.80</td>\n",
              "    </tr>\n",
              "  </tbody>\n",
              "</table>\n",
              "</div>"
            ],
            "text/plain": [
              "                                                 polarity\n",
              "title                                                    \n",
              "The Transformers: The Movie                          1.00\n",
              "Alpha Zylon                                          1.00\n",
              "Toadled                                              1.00\n",
              "Masters of the World - Geopolitical Simulator 3      1.00\n",
              "DARIUSBURST Chronicle Saviours                       1.00\n",
              "The Abbey of Crime Extensum                          0.90\n",
              "Zone4                                                0.90\n",
              "Quest for Glory 1-5                                  0.85\n",
              "Time Rifters                                         0.85\n",
              "Snake Party                                          0.80"
            ]
          },
          "metadata": {
            "tags": []
          },
          "execution_count": 38
        }
      ]
    },
    {
      "cell_type": "code",
      "metadata": {
        "colab": {
          "base_uri": "https://localhost:8080/",
          "height": 235
        },
        "id": "P5-CHLYW_Aix",
        "outputId": "d7dec15e-1a1e-48cc-a42d-ebd7b7155801"
      },
      "source": [
        "#Nueva columna, el numero de reviews recibidas por videojuego\n",
        "ratings['num_of_ratings'] = pd.DataFrame(df_sub.groupby('title')['polarity'].count())\n",
        "ratings.head()"
      ],
      "execution_count": 39,
      "outputs": [
        {
          "output_type": "execute_result",
          "data": {
            "text/html": [
              "<div>\n",
              "<style scoped>\n",
              "    .dataframe tbody tr th:only-of-type {\n",
              "        vertical-align: middle;\n",
              "    }\n",
              "\n",
              "    .dataframe tbody tr th {\n",
              "        vertical-align: top;\n",
              "    }\n",
              "\n",
              "    .dataframe thead th {\n",
              "        text-align: right;\n",
              "    }\n",
              "</style>\n",
              "<table border=\"1\" class=\"dataframe\">\n",
              "  <thead>\n",
              "    <tr style=\"text-align: right;\">\n",
              "      <th></th>\n",
              "      <th>polarity</th>\n",
              "      <th>num_of_ratings</th>\n",
              "    </tr>\n",
              "    <tr>\n",
              "      <th>title</th>\n",
              "      <th></th>\n",
              "      <th></th>\n",
              "    </tr>\n",
              "  </thead>\n",
              "  <tbody>\n",
              "    <tr>\n",
              "      <th>#monstercakes</th>\n",
              "      <td>0.039583</td>\n",
              "      <td>2</td>\n",
              "    </tr>\n",
              "    <tr>\n",
              "      <th>&amp;gt;observer_</th>\n",
              "      <td>0.039267</td>\n",
              "      <td>2</td>\n",
              "    </tr>\n",
              "    <tr>\n",
              "      <th>- Arcane Raise -</th>\n",
              "      <td>-0.050741</td>\n",
              "      <td>2</td>\n",
              "    </tr>\n",
              "    <tr>\n",
              "      <th>.hack//G.U. Last Recode</th>\n",
              "      <td>0.288750</td>\n",
              "      <td>4</td>\n",
              "    </tr>\n",
              "    <tr>\n",
              "      <th>0RBITALIS</th>\n",
              "      <td>0.083482</td>\n",
              "      <td>1</td>\n",
              "    </tr>\n",
              "  </tbody>\n",
              "</table>\n",
              "</div>"
            ],
            "text/plain": [
              "                         polarity  num_of_ratings\n",
              "title                                            \n",
              "#monstercakes            0.039583               2\n",
              "&gt;observer_            0.039267               2\n",
              "- Arcane Raise -        -0.050741               2\n",
              ".hack//G.U. Last Recode  0.288750               4\n",
              "0RBITALIS                0.083482               1"
            ]
          },
          "metadata": {
            "tags": []
          },
          "execution_count": 39
        }
      ]
    },
    {
      "cell_type": "code",
      "metadata": {
        "colab": {
          "base_uri": "https://localhost:8080/",
          "height": 312
        },
        "id": "XwaoW8ue_Tbp",
        "outputId": "fdd6b82f-d33b-44e6-d5f9-2572e9a77aba"
      },
      "source": [
        "plt.figure(figsize=(10,4))\n",
        "ratings['polarity'].hist(bins=70)\n",
        "plt.xlabel('-Negativo <----------------------------> Positivo')\n",
        "plt.title(\"Polaridad de Review's\")"
      ],
      "execution_count": 40,
      "outputs": [
        {
          "output_type": "execute_result",
          "data": {
            "text/plain": [
              "Text(0.5, 1.0, \"Polaridad de Review's\")"
            ]
          },
          "metadata": {
            "tags": []
          },
          "execution_count": 40
        },
        {
          "output_type": "display_data",
          "data": {
            "image/png": "[encoded data removed]",
            "text/plain": [
              "<Figure size 720x288 with 1 Axes>"
            ]
          },
          "metadata": {
            "tags": []
          }
        }
      ]
    },
    {
      "cell_type": "markdown",
      "metadata": {
        "id": "kSN0KZg2uaSu"
      },
      "source": [
        "## Limpieza de informacion"
      ]
    },
    {
      "cell_type": "code",
      "metadata": {
        "id": "oNOk4P6mu4JY"
      },
      "source": [
        "columnas = ['product_id', 'x_username']\n",
        "\n",
        "for i in columnas:\n",
        "  threshold = 30\n",
        "  value_counts = df_sub[i].value_counts()\n",
        "  to_remove = value_counts[value_counts <= threshold].index \n",
        "  df_sub.replace(to_remove, np.nan, inplace=True)\n",
        "  df_sub.dropna(inplace=True)"
      ],
      "execution_count": null,
      "outputs": []
    },
    {
      "cell_type": "code",
      "metadata": {
        "id": "BAoevLmKun6X"
      },
      "source": [
        "#Elimino informacion de videojuegos con menos de 30 reviews\n",
        "threshold = 30\n",
        "value_counts = df_sub.product_id.value_counts()\n",
        "to_remove = value_counts[value_counts <= threshold].index \n",
        "df_sub.replace(to_remove, np.nan, inplace=True)\n",
        "df_sub.dropna(inplace=True)"
      ],
      "execution_count": 41,
      "outputs": []
    },
    {
      "cell_type": "code",
      "metadata": {
        "id": "WO2NgsCnuqFp"
      },
      "source": [
        "##Elimino usuarios con menos de 30 reviews\n",
        "#threshold = 30\n",
        "#value_counts = df_sub.x_username.value_counts()\n",
        "#to_remove = value_counts[value_counts <= threshold].index \n",
        "#df_sub.replace(to_remove, np.nan, inplace=True)\n",
        "#df_sub.dropna(inplace=True)"
      ],
      "execution_count": null,
      "outputs": []
    },
    {
      "cell_type": "code",
      "metadata": {
        "id": "Y0_3dnuu8qWp"
      },
      "source": [
        "break"
      ],
      "execution_count": null,
      "outputs": []
    },
    {
      "cell_type": "markdown",
      "metadata": {
        "id": "I-ecakxZYsME"
      },
      "source": [
        "# Modelo benchmark\n",
        "Sistema de Recomendación basado en la la polaridad de la review\n",
        "Este Modelo Realizara recomendaciones basado en la correlación de la polaridad de la review escrita por el usuario. En donde al escribir una review positiva, el modelo le recomendará títulos con reviews muy correlacionadas a la review escrita\n"
      ]
    },
    {
      "cell_type": "code",
      "metadata": {
        "id": "LQEqrb3wY2Gu"
      },
      "source": [
        "df_sub.drop(columns=['text'], inplace=True)"
      ],
      "execution_count": 42,
      "outputs": []
    },
    {
      "cell_type": "code",
      "metadata": {
        "colab": {
          "base_uri": "https://localhost:8080/",
          "height": 403
        },
        "id": "w8WhQFO-ZgmP",
        "outputId": "44241db3-c4ec-48f8-c883-f8a6460b2bee"
      },
      "source": [
        "gamemat = df_sub.pivot_table(index='username',columns='title',values='polarity')\n",
        "gamemat.head()"
      ],
      "execution_count": 43,
      "outputs": [
        {
          "output_type": "execute_result",
          "data": {
            "text/html": [
              "<div>\n",
              "<style scoped>\n",
              "    .dataframe tbody tr th:only-of-type {\n",
              "        vertical-align: middle;\n",
              "    }\n",
              "\n",
              "    .dataframe tbody tr th {\n",
              "        vertical-align: top;\n",
              "    }\n",
              "\n",
              "    .dataframe thead th {\n",
              "        text-align: right;\n",
              "    }\n",
              "</style>\n",
              "<table border=\"1\" class=\"dataframe\">\n",
              "  <thead>\n",
              "    <tr style=\"text-align: right;\">\n",
              "      <th>title</th>\n",
              "      <th>100% Orange Juice</th>\n",
              "      <th>8BitMMO</th>\n",
              "      <th>A Hat in Time</th>\n",
              "      <th>A Story About My Uncle</th>\n",
              "      <th>A.V.A. Alliance of Valiant Arms™</th>\n",
              "      <th>ABZU</th>\n",
              "      <th>APB Reloaded</th>\n",
              "      <th>ARK: Survival Evolved</th>\n",
              "      <th>ASTRONEER</th>\n",
              "      <th>Ace of Spades: Battle Builder</th>\n",
              "      <th>AdVenture Capitalist</th>\n",
              "      <th>Age of Empires II HD</th>\n",
              "      <th>Age of Empires® III: Complete Collection</th>\n",
              "      <th>Alan Wake</th>\n",
              "      <th>Alien Swarm</th>\n",
              "      <th>Alien: Isolation</th>\n",
              "      <th>Aliens vs. Predator™</th>\n",
              "      <th>America's Army: Proving Grounds</th>\n",
              "      <th>American Truck Simulator</th>\n",
              "      <th>Amnesia: The Dark Descent</th>\n",
              "      <th>Antichamber</th>\n",
              "      <th>Arma 2: Operation Arrowhead</th>\n",
              "      <th>Arma 3</th>\n",
              "      <th>Assassin's Creed® Origins</th>\n",
              "      <th>Assassin's Creed® Unity</th>\n",
              "      <th>Assassin’s Creed® IV Black Flag™</th>\n",
              "      <th>Awesomenauts - the 2D moba</th>\n",
              "      <th>BLOCKADE 3D</th>\n",
              "      <th>Banished</th>\n",
              "      <th>Bastion</th>\n",
              "      <th>Batman: Arkham Asylum Game of the Year Edition</th>\n",
              "      <th>Batman™: Arkham Knight</th>\n",
              "      <th>Batman™: Arkham Origins</th>\n",
              "      <th>BattleBlock Theater®</th>\n",
              "      <th>Battlefield: Bad Company™ 2</th>\n",
              "      <th>Battlerite</th>\n",
              "      <th>BeamNG.drive</th>\n",
              "      <th>BioShock™</th>\n",
              "      <th>BioShock™ Remastered</th>\n",
              "      <th>Black Desert Online</th>\n",
              "      <th>...</th>\n",
              "      <th>The Stanley Parable</th>\n",
              "      <th>The Talos Principle</th>\n",
              "      <th>The Walking Dead</th>\n",
              "      <th>The Walking Dead: Season 2</th>\n",
              "      <th>The Witcher 2: Assassins of Kings Enhanced Edition</th>\n",
              "      <th>Thief</th>\n",
              "      <th>This War of Mine</th>\n",
              "      <th>Thomas Was Alone</th>\n",
              "      <th>To the Moon</th>\n",
              "      <th>Tom Clancy's Rainbow Six® Siege</th>\n",
              "      <th>Tom Clancy’s Splinter Cell Blacklist</th>\n",
              "      <th>Torchlight II</th>\n",
              "      <th>Total War™: ROME II - Emperor Edition</th>\n",
              "      <th>Town of Salem</th>\n",
              "      <th>Train Simulator</th>\n",
              "      <th>Transformice</th>\n",
              "      <th>Transistor</th>\n",
              "      <th>Tree of Savior (English Ver.)</th>\n",
              "      <th>Tribes: Ascend</th>\n",
              "      <th>Trine 2: Complete Story</th>\n",
              "      <th>Tropico 4</th>\n",
              "      <th>Trove</th>\n",
              "      <th>Ultra Street Fighter® IV</th>\n",
              "      <th>Undertale</th>\n",
              "      <th>Unturned</th>\n",
              "      <th>VA-11 Hall-A: Cyberpunk Bartender Action</th>\n",
              "      <th>Verdun</th>\n",
              "      <th>Wallpaper Engine</th>\n",
              "      <th>Warface</th>\n",
              "      <th>Warframe</th>\n",
              "      <th>Warhammer: End Times - Vermintide</th>\n",
              "      <th>Watch_Dogs® 2</th>\n",
              "      <th>Who's Your Daddy</th>\n",
              "      <th>Wolfenstein II: The New Colossus</th>\n",
              "      <th>Wolfenstein: The New Order</th>\n",
              "      <th>World of Guns: Gun Disassembly</th>\n",
              "      <th>XCOM: Enemy Unknown</th>\n",
              "      <th>XCOM® 2</th>\n",
              "      <th>Yet Another Zombie Defense</th>\n",
              "      <th>theHunter Classic</th>\n",
              "    </tr>\n",
              "    <tr>\n",
              "      <th>username</th>\n",
              "      <th></th>\n",
              "      <th></th>\n",
              "      <th></th>\n",
              "      <th></th>\n",
              "      <th></th>\n",
              "      <th></th>\n",
              "      <th></th>\n",
              "      <th></th>\n",
              "      <th></th>\n",
              "      <th></th>\n",
              "      <th></th>\n",
              "      <th></th>\n",
              "      <th></th>\n",
              "      <th></th>\n",
              "      <th></th>\n",
              "      <th></th>\n",
              "      <th></th>\n",
              "      <th></th>\n",
              "      <th></th>\n",
              "      <th></th>\n",
              "      <th></th>\n",
              "      <th></th>\n",
              "      <th></th>\n",
              "      <th></th>\n",
              "      <th></th>\n",
              "      <th></th>\n",
              "      <th></th>\n",
              "      <th></th>\n",
              "      <th></th>\n",
              "      <th></th>\n",
              "      <th></th>\n",
              "      <th></th>\n",
              "      <th></th>\n",
              "      <th></th>\n",
              "      <th></th>\n",
              "      <th></th>\n",
              "      <th></th>\n",
              "      <th></th>\n",
              "      <th></th>\n",
              "      <th></th>\n",
              "      <th></th>\n",
              "      <th></th>\n",
              "      <th></th>\n",
              "      <th></th>\n",
              "      <th></th>\n",
              "      <th></th>\n",
              "      <th></th>\n",
              "      <th></th>\n",
              "      <th></th>\n",
              "      <th></th>\n",
              "      <th></th>\n",
              "      <th></th>\n",
              "      <th></th>\n",
              "      <th></th>\n",
              "      <th></th>\n",
              "      <th></th>\n",
              "      <th></th>\n",
              "      <th></th>\n",
              "      <th></th>\n",
              "      <th></th>\n",
              "      <th></th>\n",
              "      <th></th>\n",
              "      <th></th>\n",
              "      <th></th>\n",
              "      <th></th>\n",
              "      <th></th>\n",
              "      <th></th>\n",
              "      <th></th>\n",
              "      <th></th>\n",
              "      <th></th>\n",
              "      <th></th>\n",
              "      <th></th>\n",
              "      <th></th>\n",
              "      <th></th>\n",
              "      <th></th>\n",
              "      <th></th>\n",
              "      <th></th>\n",
              "      <th></th>\n",
              "      <th></th>\n",
              "      <th></th>\n",
              "      <th></th>\n",
              "    </tr>\n",
              "  </thead>\n",
              "  <tbody>\n",
              "    <tr>\n",
              "      <th>! Indelible</th>\n",
              "      <td>NaN</td>\n",
              "      <td>NaN</td>\n",
              "      <td>NaN</td>\n",
              "      <td>NaN</td>\n",
              "      <td>NaN</td>\n",
              "      <td>NaN</td>\n",
              "      <td>NaN</td>\n",
              "      <td>NaN</td>\n",
              "      <td>NaN</td>\n",
              "      <td>NaN</td>\n",
              "      <td>NaN</td>\n",
              "      <td>NaN</td>\n",
              "      <td>NaN</td>\n",
              "      <td>NaN</td>\n",
              "      <td>NaN</td>\n",
              "      <td>NaN</td>\n",
              "      <td>NaN</td>\n",
              "      <td>NaN</td>\n",
              "      <td>NaN</td>\n",
              "      <td>NaN</td>\n",
              "      <td>NaN</td>\n",
              "      <td>NaN</td>\n",
              "      <td>NaN</td>\n",
              "      <td>NaN</td>\n",
              "      <td>NaN</td>\n",
              "      <td>NaN</td>\n",
              "      <td>NaN</td>\n",
              "      <td>NaN</td>\n",
              "      <td>NaN</td>\n",
              "      <td>NaN</td>\n",
              "      <td>NaN</td>\n",
              "      <td>NaN</td>\n",
              "      <td>NaN</td>\n",
              "      <td>NaN</td>\n",
              "      <td>NaN</td>\n",
              "      <td>NaN</td>\n",
              "      <td>NaN</td>\n",
              "      <td>NaN</td>\n",
              "      <td>NaN</td>\n",
              "      <td>NaN</td>\n",
              "      <td>...</td>\n",
              "      <td>NaN</td>\n",
              "      <td>NaN</td>\n",
              "      <td>NaN</td>\n",
              "      <td>NaN</td>\n",
              "      <td>NaN</td>\n",
              "      <td>NaN</td>\n",
              "      <td>NaN</td>\n",
              "      <td>NaN</td>\n",
              "      <td>NaN</td>\n",
              "      <td>NaN</td>\n",
              "      <td>NaN</td>\n",
              "      <td>NaN</td>\n",
              "      <td>NaN</td>\n",
              "      <td>NaN</td>\n",
              "      <td>NaN</td>\n",
              "      <td>NaN</td>\n",
              "      <td>NaN</td>\n",
              "      <td>NaN</td>\n",
              "      <td>NaN</td>\n",
              "      <td>NaN</td>\n",
              "      <td>NaN</td>\n",
              "      <td>NaN</td>\n",
              "      <td>NaN</td>\n",
              "      <td>NaN</td>\n",
              "      <td>NaN</td>\n",
              "      <td>NaN</td>\n",
              "      <td>NaN</td>\n",
              "      <td>NaN</td>\n",
              "      <td>NaN</td>\n",
              "      <td>NaN</td>\n",
              "      <td>NaN</td>\n",
              "      <td>NaN</td>\n",
              "      <td>NaN</td>\n",
              "      <td>NaN</td>\n",
              "      <td>NaN</td>\n",
              "      <td>NaN</td>\n",
              "      <td>NaN</td>\n",
              "      <td>NaN</td>\n",
              "      <td>NaN</td>\n",
              "      <td>NaN</td>\n",
              "    </tr>\n",
              "    <tr>\n",
              "      <th>! JO</th>\n",
              "      <td>NaN</td>\n",
              "      <td>NaN</td>\n",
              "      <td>NaN</td>\n",
              "      <td>NaN</td>\n",
              "      <td>NaN</td>\n",
              "      <td>NaN</td>\n",
              "      <td>NaN</td>\n",
              "      <td>NaN</td>\n",
              "      <td>NaN</td>\n",
              "      <td>NaN</td>\n",
              "      <td>NaN</td>\n",
              "      <td>NaN</td>\n",
              "      <td>NaN</td>\n",
              "      <td>NaN</td>\n",
              "      <td>NaN</td>\n",
              "      <td>NaN</td>\n",
              "      <td>NaN</td>\n",
              "      <td>NaN</td>\n",
              "      <td>NaN</td>\n",
              "      <td>NaN</td>\n",
              "      <td>NaN</td>\n",
              "      <td>NaN</td>\n",
              "      <td>NaN</td>\n",
              "      <td>NaN</td>\n",
              "      <td>NaN</td>\n",
              "      <td>NaN</td>\n",
              "      <td>NaN</td>\n",
              "      <td>NaN</td>\n",
              "      <td>NaN</td>\n",
              "      <td>NaN</td>\n",
              "      <td>NaN</td>\n",
              "      <td>NaN</td>\n",
              "      <td>NaN</td>\n",
              "      <td>NaN</td>\n",
              "      <td>NaN</td>\n",
              "      <td>NaN</td>\n",
              "      <td>NaN</td>\n",
              "      <td>NaN</td>\n",
              "      <td>NaN</td>\n",
              "      <td>NaN</td>\n",
              "      <td>...</td>\n",
              "      <td>NaN</td>\n",
              "      <td>NaN</td>\n",
              "      <td>NaN</td>\n",
              "      <td>NaN</td>\n",
              "      <td>NaN</td>\n",
              "      <td>NaN</td>\n",
              "      <td>NaN</td>\n",
              "      <td>NaN</td>\n",
              "      <td>NaN</td>\n",
              "      <td>NaN</td>\n",
              "      <td>NaN</td>\n",
              "      <td>NaN</td>\n",
              "      <td>NaN</td>\n",
              "      <td>NaN</td>\n",
              "      <td>NaN</td>\n",
              "      <td>NaN</td>\n",
              "      <td>NaN</td>\n",
              "      <td>NaN</td>\n",
              "      <td>NaN</td>\n",
              "      <td>NaN</td>\n",
              "      <td>NaN</td>\n",
              "      <td>NaN</td>\n",
              "      <td>NaN</td>\n",
              "      <td>NaN</td>\n",
              "      <td>NaN</td>\n",
              "      <td>NaN</td>\n",
              "      <td>NaN</td>\n",
              "      <td>NaN</td>\n",
              "      <td>NaN</td>\n",
              "      <td>NaN</td>\n",
              "      <td>NaN</td>\n",
              "      <td>NaN</td>\n",
              "      <td>NaN</td>\n",
              "      <td>NaN</td>\n",
              "      <td>NaN</td>\n",
              "      <td>NaN</td>\n",
              "      <td>NaN</td>\n",
              "      <td>NaN</td>\n",
              "      <td>NaN</td>\n",
              "      <td>NaN</td>\n",
              "    </tr>\n",
              "    <tr>\n",
              "      <th>! Monika !</th>\n",
              "      <td>NaN</td>\n",
              "      <td>NaN</td>\n",
              "      <td>NaN</td>\n",
              "      <td>NaN</td>\n",
              "      <td>NaN</td>\n",
              "      <td>NaN</td>\n",
              "      <td>NaN</td>\n",
              "      <td>NaN</td>\n",
              "      <td>NaN</td>\n",
              "      <td>NaN</td>\n",
              "      <td>NaN</td>\n",
              "      <td>NaN</td>\n",
              "      <td>NaN</td>\n",
              "      <td>NaN</td>\n",
              "      <td>NaN</td>\n",
              "      <td>NaN</td>\n",
              "      <td>NaN</td>\n",
              "      <td>NaN</td>\n",
              "      <td>NaN</td>\n",
              "      <td>NaN</td>\n",
              "      <td>NaN</td>\n",
              "      <td>NaN</td>\n",
              "      <td>NaN</td>\n",
              "      <td>NaN</td>\n",
              "      <td>NaN</td>\n",
              "      <td>NaN</td>\n",
              "      <td>NaN</td>\n",
              "      <td>NaN</td>\n",
              "      <td>NaN</td>\n",
              "      <td>NaN</td>\n",
              "      <td>NaN</td>\n",
              "      <td>NaN</td>\n",
              "      <td>NaN</td>\n",
              "      <td>NaN</td>\n",
              "      <td>NaN</td>\n",
              "      <td>NaN</td>\n",
              "      <td>NaN</td>\n",
              "      <td>NaN</td>\n",
              "      <td>NaN</td>\n",
              "      <td>NaN</td>\n",
              "      <td>...</td>\n",
              "      <td>NaN</td>\n",
              "      <td>NaN</td>\n",
              "      <td>NaN</td>\n",
              "      <td>NaN</td>\n",
              "      <td>NaN</td>\n",
              "      <td>NaN</td>\n",
              "      <td>NaN</td>\n",
              "      <td>NaN</td>\n",
              "      <td>NaN</td>\n",
              "      <td>NaN</td>\n",
              "      <td>NaN</td>\n",
              "      <td>NaN</td>\n",
              "      <td>NaN</td>\n",
              "      <td>NaN</td>\n",
              "      <td>NaN</td>\n",
              "      <td>NaN</td>\n",
              "      <td>NaN</td>\n",
              "      <td>NaN</td>\n",
              "      <td>NaN</td>\n",
              "      <td>NaN</td>\n",
              "      <td>NaN</td>\n",
              "      <td>NaN</td>\n",
              "      <td>NaN</td>\n",
              "      <td>NaN</td>\n",
              "      <td>NaN</td>\n",
              "      <td>NaN</td>\n",
              "      <td>NaN</td>\n",
              "      <td>NaN</td>\n",
              "      <td>NaN</td>\n",
              "      <td>NaN</td>\n",
              "      <td>NaN</td>\n",
              "      <td>NaN</td>\n",
              "      <td>NaN</td>\n",
              "      <td>NaN</td>\n",
              "      <td>NaN</td>\n",
              "      <td>NaN</td>\n",
              "      <td>NaN</td>\n",
              "      <td>NaN</td>\n",
              "      <td>NaN</td>\n",
              "      <td>NaN</td>\n",
              "    </tr>\n",
              "    <tr>\n",
              "      <th>!!Science!!</th>\n",
              "      <td>NaN</td>\n",
              "      <td>NaN</td>\n",
              "      <td>NaN</td>\n",
              "      <td>NaN</td>\n",
              "      <td>NaN</td>\n",
              "      <td>NaN</td>\n",
              "      <td>NaN</td>\n",
              "      <td>NaN</td>\n",
              "      <td>NaN</td>\n",
              "      <td>NaN</td>\n",
              "      <td>NaN</td>\n",
              "      <td>NaN</td>\n",
              "      <td>NaN</td>\n",
              "      <td>NaN</td>\n",
              "      <td>NaN</td>\n",
              "      <td>NaN</td>\n",
              "      <td>NaN</td>\n",
              "      <td>NaN</td>\n",
              "      <td>NaN</td>\n",
              "      <td>NaN</td>\n",
              "      <td>NaN</td>\n",
              "      <td>NaN</td>\n",
              "      <td>NaN</td>\n",
              "      <td>NaN</td>\n",
              "      <td>NaN</td>\n",
              "      <td>NaN</td>\n",
              "      <td>NaN</td>\n",
              "      <td>NaN</td>\n",
              "      <td>NaN</td>\n",
              "      <td>NaN</td>\n",
              "      <td>NaN</td>\n",
              "      <td>NaN</td>\n",
              "      <td>NaN</td>\n",
              "      <td>NaN</td>\n",
              "      <td>NaN</td>\n",
              "      <td>NaN</td>\n",
              "      <td>NaN</td>\n",
              "      <td>NaN</td>\n",
              "      <td>NaN</td>\n",
              "      <td>NaN</td>\n",
              "      <td>...</td>\n",
              "      <td>NaN</td>\n",
              "      <td>NaN</td>\n",
              "      <td>NaN</td>\n",
              "      <td>NaN</td>\n",
              "      <td>NaN</td>\n",
              "      <td>NaN</td>\n",
              "      <td>NaN</td>\n",
              "      <td>NaN</td>\n",
              "      <td>NaN</td>\n",
              "      <td>NaN</td>\n",
              "      <td>NaN</td>\n",
              "      <td>NaN</td>\n",
              "      <td>NaN</td>\n",
              "      <td>NaN</td>\n",
              "      <td>NaN</td>\n",
              "      <td>NaN</td>\n",
              "      <td>NaN</td>\n",
              "      <td>NaN</td>\n",
              "      <td>NaN</td>\n",
              "      <td>NaN</td>\n",
              "      <td>NaN</td>\n",
              "      <td>NaN</td>\n",
              "      <td>NaN</td>\n",
              "      <td>NaN</td>\n",
              "      <td>NaN</td>\n",
              "      <td>NaN</td>\n",
              "      <td>NaN</td>\n",
              "      <td>NaN</td>\n",
              "      <td>NaN</td>\n",
              "      <td>NaN</td>\n",
              "      <td>NaN</td>\n",
              "      <td>NaN</td>\n",
              "      <td>NaN</td>\n",
              "      <td>NaN</td>\n",
              "      <td>NaN</td>\n",
              "      <td>NaN</td>\n",
              "      <td>NaN</td>\n",
              "      <td>NaN</td>\n",
              "      <td>NaN</td>\n",
              "      <td>NaN</td>\n",
              "    </tr>\n",
              "    <tr>\n",
              "      <th>!(&amp;^jGH:gj;3;hGigy17&amp;^@*%&amp;</th>\n",
              "      <td>NaN</td>\n",
              "      <td>NaN</td>\n",
              "      <td>NaN</td>\n",
              "      <td>NaN</td>\n",
              "      <td>NaN</td>\n",
              "      <td>NaN</td>\n",
              "      <td>NaN</td>\n",
              "      <td>NaN</td>\n",
              "      <td>NaN</td>\n",
              "      <td>NaN</td>\n",
              "      <td>NaN</td>\n",
              "      <td>NaN</td>\n",
              "      <td>NaN</td>\n",
              "      <td>NaN</td>\n",
              "      <td>NaN</td>\n",
              "      <td>NaN</td>\n",
              "      <td>NaN</td>\n",
              "      <td>NaN</td>\n",
              "      <td>NaN</td>\n",
              "      <td>NaN</td>\n",
              "      <td>NaN</td>\n",
              "      <td>NaN</td>\n",
              "      <td>NaN</td>\n",
              "      <td>NaN</td>\n",
              "      <td>NaN</td>\n",
              "      <td>NaN</td>\n",
              "      <td>NaN</td>\n",
              "      <td>NaN</td>\n",
              "      <td>NaN</td>\n",
              "      <td>NaN</td>\n",
              "      <td>NaN</td>\n",
              "      <td>NaN</td>\n",
              "      <td>NaN</td>\n",
              "      <td>NaN</td>\n",
              "      <td>NaN</td>\n",
              "      <td>NaN</td>\n",
              "      <td>NaN</td>\n",
              "      <td>NaN</td>\n",
              "      <td>NaN</td>\n",
              "      <td>NaN</td>\n",
              "      <td>...</td>\n",
              "      <td>NaN</td>\n",
              "      <td>NaN</td>\n",
              "      <td>NaN</td>\n",
              "      <td>NaN</td>\n",
              "      <td>NaN</td>\n",
              "      <td>NaN</td>\n",
              "      <td>NaN</td>\n",
              "      <td>NaN</td>\n",
              "      <td>NaN</td>\n",
              "      <td>NaN</td>\n",
              "      <td>0.140868</td>\n",
              "      <td>NaN</td>\n",
              "      <td>NaN</td>\n",
              "      <td>NaN</td>\n",
              "      <td>NaN</td>\n",
              "      <td>NaN</td>\n",
              "      <td>NaN</td>\n",
              "      <td>NaN</td>\n",
              "      <td>NaN</td>\n",
              "      <td>NaN</td>\n",
              "      <td>NaN</td>\n",
              "      <td>NaN</td>\n",
              "      <td>NaN</td>\n",
              "      <td>NaN</td>\n",
              "      <td>NaN</td>\n",
              "      <td>NaN</td>\n",
              "      <td>NaN</td>\n",
              "      <td>NaN</td>\n",
              "      <td>NaN</td>\n",
              "      <td>NaN</td>\n",
              "      <td>NaN</td>\n",
              "      <td>NaN</td>\n",
              "      <td>NaN</td>\n",
              "      <td>NaN</td>\n",
              "      <td>NaN</td>\n",
              "      <td>NaN</td>\n",
              "      <td>NaN</td>\n",
              "      <td>NaN</td>\n",
              "      <td>NaN</td>\n",
              "      <td>NaN</td>\n",
              "    </tr>\n",
              "  </tbody>\n",
              "</table>\n",
              "<p>5 rows × 347 columns</p>\n",
              "</div>"
            ],
            "text/plain": [
              "title                       100% Orange Juice  ...  theHunter Classic\n",
              "username                                       ...                   \n",
              "! Indelible                               NaN  ...                NaN\n",
              "! JO                                      NaN  ...                NaN\n",
              "! Monika !                                NaN  ...                NaN\n",
              "!!Science!!                               NaN  ...                NaN\n",
              "!(&^jGH:gj;3;hGigy17&^@*%&                NaN  ...                NaN\n",
              "\n",
              "[5 rows x 347 columns]"
            ]
          },
          "metadata": {
            "tags": []
          },
          "execution_count": 43
        }
      ]
    },
    {
      "cell_type": "code",
      "metadata": {
        "id": "m5cxuKQ9ZgWS"
      },
      "source": [
        "#Elimino videojuegos con menos de 30 reviews\n",
        "gamemat = gamemat.dropna(thresh=30, axis=1).fillna(0,axis=1)"
      ],
      "execution_count": 44,
      "outputs": []
    },
    {
      "cell_type": "code",
      "metadata": {
        "colab": {
          "base_uri": "https://localhost:8080/",
          "height": 573
        },
        "id": "XbjUiqOdY1r-",
        "outputId": "e6990dc2-9081-437f-d768-343375a40a6f"
      },
      "source": [
        "corrMatrix = gamemat.corr(method='pearson')\n",
        "corrMatrix.head(5)"
      ],
      "execution_count": 45,
      "outputs": [
        {
          "output_type": "execute_result",
          "data": {
            "text/html": [
              "<div>\n",
              "<style scoped>\n",
              "    .dataframe tbody tr th:only-of-type {\n",
              "        vertical-align: middle;\n",
              "    }\n",
              "\n",
              "    .dataframe tbody tr th {\n",
              "        vertical-align: top;\n",
              "    }\n",
              "\n",
              "    .dataframe thead th {\n",
              "        text-align: right;\n",
              "    }\n",
              "</style>\n",
              "<table border=\"1\" class=\"dataframe\">\n",
              "  <thead>\n",
              "    <tr style=\"text-align: right;\">\n",
              "      <th>title</th>\n",
              "      <th>100% Orange Juice</th>\n",
              "      <th>8BitMMO</th>\n",
              "      <th>A Story About My Uncle</th>\n",
              "      <th>A.V.A. Alliance of Valiant Arms™</th>\n",
              "      <th>ABZU</th>\n",
              "      <th>APB Reloaded</th>\n",
              "      <th>ARK: Survival Evolved</th>\n",
              "      <th>ASTRONEER</th>\n",
              "      <th>Ace of Spades: Battle Builder</th>\n",
              "      <th>AdVenture Capitalist</th>\n",
              "      <th>Age of Empires II HD</th>\n",
              "      <th>Age of Empires® III: Complete Collection</th>\n",
              "      <th>Alan Wake</th>\n",
              "      <th>Alien Swarm</th>\n",
              "      <th>Alien: Isolation</th>\n",
              "      <th>Aliens vs. Predator™</th>\n",
              "      <th>America's Army: Proving Grounds</th>\n",
              "      <th>American Truck Simulator</th>\n",
              "      <th>Amnesia: The Dark Descent</th>\n",
              "      <th>Antichamber</th>\n",
              "      <th>Arma 2: Operation Arrowhead</th>\n",
              "      <th>Arma 3</th>\n",
              "      <th>Assassin's Creed® Origins</th>\n",
              "      <th>Assassin's Creed® Unity</th>\n",
              "      <th>Assassin’s Creed® IV Black Flag™</th>\n",
              "      <th>Awesomenauts - the 2D moba</th>\n",
              "      <th>BLOCKADE 3D</th>\n",
              "      <th>Banished</th>\n",
              "      <th>Bastion</th>\n",
              "      <th>Batman: Arkham Asylum Game of the Year Edition</th>\n",
              "      <th>Batman™: Arkham Knight</th>\n",
              "      <th>Batman™: Arkham Origins</th>\n",
              "      <th>BattleBlock Theater®</th>\n",
              "      <th>Battlefield: Bad Company™ 2</th>\n",
              "      <th>Battlerite</th>\n",
              "      <th>BeamNG.drive</th>\n",
              "      <th>BioShock™</th>\n",
              "      <th>BioShock™ Remastered</th>\n",
              "      <th>Black Desert Online</th>\n",
              "      <th>Black Mesa</th>\n",
              "      <th>...</th>\n",
              "      <th>The Stanley Parable</th>\n",
              "      <th>The Talos Principle</th>\n",
              "      <th>The Walking Dead</th>\n",
              "      <th>The Walking Dead: Season 2</th>\n",
              "      <th>The Witcher 2: Assassins of Kings Enhanced Edition</th>\n",
              "      <th>Thief</th>\n",
              "      <th>This War of Mine</th>\n",
              "      <th>Thomas Was Alone</th>\n",
              "      <th>To the Moon</th>\n",
              "      <th>Tom Clancy's Rainbow Six® Siege</th>\n",
              "      <th>Tom Clancy’s Splinter Cell Blacklist</th>\n",
              "      <th>Torchlight II</th>\n",
              "      <th>Total War™: ROME II - Emperor Edition</th>\n",
              "      <th>Town of Salem</th>\n",
              "      <th>Train Simulator</th>\n",
              "      <th>Transformice</th>\n",
              "      <th>Transistor</th>\n",
              "      <th>Tree of Savior (English Ver.)</th>\n",
              "      <th>Tribes: Ascend</th>\n",
              "      <th>Trine 2: Complete Story</th>\n",
              "      <th>Tropico 4</th>\n",
              "      <th>Trove</th>\n",
              "      <th>Ultra Street Fighter® IV</th>\n",
              "      <th>Undertale</th>\n",
              "      <th>Unturned</th>\n",
              "      <th>VA-11 Hall-A: Cyberpunk Bartender Action</th>\n",
              "      <th>Verdun</th>\n",
              "      <th>Wallpaper Engine</th>\n",
              "      <th>Warface</th>\n",
              "      <th>Warframe</th>\n",
              "      <th>Warhammer: End Times - Vermintide</th>\n",
              "      <th>Watch_Dogs® 2</th>\n",
              "      <th>Who's Your Daddy</th>\n",
              "      <th>Wolfenstein II: The New Colossus</th>\n",
              "      <th>Wolfenstein: The New Order</th>\n",
              "      <th>World of Guns: Gun Disassembly</th>\n",
              "      <th>XCOM: Enemy Unknown</th>\n",
              "      <th>XCOM® 2</th>\n",
              "      <th>Yet Another Zombie Defense</th>\n",
              "      <th>theHunter Classic</th>\n",
              "    </tr>\n",
              "    <tr>\n",
              "      <th>title</th>\n",
              "      <th></th>\n",
              "      <th></th>\n",
              "      <th></th>\n",
              "      <th></th>\n",
              "      <th></th>\n",
              "      <th></th>\n",
              "      <th></th>\n",
              "      <th></th>\n",
              "      <th></th>\n",
              "      <th></th>\n",
              "      <th></th>\n",
              "      <th></th>\n",
              "      <th></th>\n",
              "      <th></th>\n",
              "      <th></th>\n",
              "      <th></th>\n",
              "      <th></th>\n",
              "      <th></th>\n",
              "      <th></th>\n",
              "      <th></th>\n",
              "      <th></th>\n",
              "      <th></th>\n",
              "      <th></th>\n",
              "      <th></th>\n",
              "      <th></th>\n",
              "      <th></th>\n",
              "      <th></th>\n",
              "      <th></th>\n",
              "      <th></th>\n",
              "      <th></th>\n",
              "      <th></th>\n",
              "      <th></th>\n",
              "      <th></th>\n",
              "      <th></th>\n",
              "      <th></th>\n",
              "      <th></th>\n",
              "      <th></th>\n",
              "      <th></th>\n",
              "      <th></th>\n",
              "      <th></th>\n",
              "      <th></th>\n",
              "      <th></th>\n",
              "      <th></th>\n",
              "      <th></th>\n",
              "      <th></th>\n",
              "      <th></th>\n",
              "      <th></th>\n",
              "      <th></th>\n",
              "      <th></th>\n",
              "      <th></th>\n",
              "      <th></th>\n",
              "      <th></th>\n",
              "      <th></th>\n",
              "      <th></th>\n",
              "      <th></th>\n",
              "      <th></th>\n",
              "      <th></th>\n",
              "      <th></th>\n",
              "      <th></th>\n",
              "      <th></th>\n",
              "      <th></th>\n",
              "      <th></th>\n",
              "      <th></th>\n",
              "      <th></th>\n",
              "      <th></th>\n",
              "      <th></th>\n",
              "      <th></th>\n",
              "      <th></th>\n",
              "      <th></th>\n",
              "      <th></th>\n",
              "      <th></th>\n",
              "      <th></th>\n",
              "      <th></th>\n",
              "      <th></th>\n",
              "      <th></th>\n",
              "      <th></th>\n",
              "      <th></th>\n",
              "      <th></th>\n",
              "      <th></th>\n",
              "      <th></th>\n",
              "      <th></th>\n",
              "    </tr>\n",
              "  </thead>\n",
              "  <tbody>\n",
              "    <tr>\n",
              "      <th>100% Orange Juice</th>\n",
              "      <td>1.000000e+00</td>\n",
              "      <td>1.149900e-07</td>\n",
              "      <td>0.000019</td>\n",
              "      <td>1.454862e-06</td>\n",
              "      <td>0.000031</td>\n",
              "      <td>8.094131e-06</td>\n",
              "      <td>0.000014</td>\n",
              "      <td>0.000017</td>\n",
              "      <td>-2.821490e-06</td>\n",
              "      <td>0.000019</td>\n",
              "      <td>0.000037</td>\n",
              "      <td>0.000030</td>\n",
              "      <td>0.000035</td>\n",
              "      <td>0.000025</td>\n",
              "      <td>7.417835e-06</td>\n",
              "      <td>0.000019</td>\n",
              "      <td>0.000021</td>\n",
              "      <td>0.000034</td>\n",
              "      <td>0.000018</td>\n",
              "      <td>1.100225e-05</td>\n",
              "      <td>0.000028</td>\n",
              "      <td>0.000040</td>\n",
              "      <td>0.000019</td>\n",
              "      <td>0.000016</td>\n",
              "      <td>0.000018</td>\n",
              "      <td>0.000028</td>\n",
              "      <td>1.089835e-05</td>\n",
              "      <td>0.000033</td>\n",
              "      <td>0.000059</td>\n",
              "      <td>0.000029</td>\n",
              "      <td>0.000042</td>\n",
              "      <td>0.000030</td>\n",
              "      <td>0.000018</td>\n",
              "      <td>0.000019</td>\n",
              "      <td>0.000035</td>\n",
              "      <td>0.000016</td>\n",
              "      <td>0.000026</td>\n",
              "      <td>8.177549e-07</td>\n",
              "      <td>0.000024</td>\n",
              "      <td>0.000032</td>\n",
              "      <td>...</td>\n",
              "      <td>0.000037</td>\n",
              "      <td>0.000027</td>\n",
              "      <td>0.000020</td>\n",
              "      <td>0.000033</td>\n",
              "      <td>0.000031</td>\n",
              "      <td>3.261066e-06</td>\n",
              "      <td>0.000020</td>\n",
              "      <td>0.000037</td>\n",
              "      <td>0.000035</td>\n",
              "      <td>0.000027</td>\n",
              "      <td>0.000018</td>\n",
              "      <td>0.000033</td>\n",
              "      <td>0.000023</td>\n",
              "      <td>0.000028</td>\n",
              "      <td>0.000015</td>\n",
              "      <td>1.281597e-05</td>\n",
              "      <td>0.000045</td>\n",
              "      <td>4.034024e-06</td>\n",
              "      <td>5.074170e-06</td>\n",
              "      <td>0.000017</td>\n",
              "      <td>0.000017</td>\n",
              "      <td>0.000036</td>\n",
              "      <td>0.000013</td>\n",
              "      <td>0.000057</td>\n",
              "      <td>0.000026</td>\n",
              "      <td>0.000026</td>\n",
              "      <td>0.000037</td>\n",
              "      <td>0.000047</td>\n",
              "      <td>0.000020</td>\n",
              "      <td>0.000060</td>\n",
              "      <td>0.000019</td>\n",
              "      <td>0.000019</td>\n",
              "      <td>1.804981e-06</td>\n",
              "      <td>0.000017</td>\n",
              "      <td>0.000032</td>\n",
              "      <td>0.000018</td>\n",
              "      <td>0.000036</td>\n",
              "      <td>0.000039</td>\n",
              "      <td>0.000019</td>\n",
              "      <td>-4.955762e-06</td>\n",
              "    </tr>\n",
              "    <tr>\n",
              "      <th>8BitMMO</th>\n",
              "      <td>1.149900e-07</td>\n",
              "      <td>1.000000e+00</td>\n",
              "      <td>-0.000002</td>\n",
              "      <td>-1.129972e-07</td>\n",
              "      <td>-0.000002</td>\n",
              "      <td>-6.286606e-07</td>\n",
              "      <td>-0.000001</td>\n",
              "      <td>-0.000001</td>\n",
              "      <td>2.191414e-07</td>\n",
              "      <td>-0.000001</td>\n",
              "      <td>-0.000003</td>\n",
              "      <td>-0.000002</td>\n",
              "      <td>-0.000003</td>\n",
              "      <td>-0.000002</td>\n",
              "      <td>-5.761335e-07</td>\n",
              "      <td>-0.000001</td>\n",
              "      <td>-0.000002</td>\n",
              "      <td>-0.000003</td>\n",
              "      <td>-0.000001</td>\n",
              "      <td>-8.545300e-07</td>\n",
              "      <td>-0.000002</td>\n",
              "      <td>-0.000003</td>\n",
              "      <td>-0.000002</td>\n",
              "      <td>-0.000001</td>\n",
              "      <td>-0.000001</td>\n",
              "      <td>-0.000002</td>\n",
              "      <td>-8.464604e-07</td>\n",
              "      <td>-0.000003</td>\n",
              "      <td>-0.000005</td>\n",
              "      <td>-0.000002</td>\n",
              "      <td>-0.000003</td>\n",
              "      <td>-0.000002</td>\n",
              "      <td>-0.000001</td>\n",
              "      <td>-0.000002</td>\n",
              "      <td>-0.000003</td>\n",
              "      <td>-0.000001</td>\n",
              "      <td>-0.000002</td>\n",
              "      <td>-6.351395e-08</td>\n",
              "      <td>-0.000002</td>\n",
              "      <td>-0.000002</td>\n",
              "      <td>...</td>\n",
              "      <td>-0.000003</td>\n",
              "      <td>-0.000002</td>\n",
              "      <td>-0.000002</td>\n",
              "      <td>-0.000003</td>\n",
              "      <td>-0.000002</td>\n",
              "      <td>-2.532827e-07</td>\n",
              "      <td>-0.000002</td>\n",
              "      <td>-0.000003</td>\n",
              "      <td>-0.000003</td>\n",
              "      <td>-0.000002</td>\n",
              "      <td>-0.000001</td>\n",
              "      <td>-0.000003</td>\n",
              "      <td>-0.000002</td>\n",
              "      <td>-0.000002</td>\n",
              "      <td>-0.000001</td>\n",
              "      <td>-9.953997e-07</td>\n",
              "      <td>-0.000003</td>\n",
              "      <td>-3.133173e-07</td>\n",
              "      <td>-3.941042e-07</td>\n",
              "      <td>-0.000001</td>\n",
              "      <td>-0.000001</td>\n",
              "      <td>-0.000003</td>\n",
              "      <td>-0.000001</td>\n",
              "      <td>-0.000004</td>\n",
              "      <td>-0.000002</td>\n",
              "      <td>-0.000002</td>\n",
              "      <td>-0.000003</td>\n",
              "      <td>-0.000004</td>\n",
              "      <td>-0.000002</td>\n",
              "      <td>-0.000005</td>\n",
              "      <td>-0.000001</td>\n",
              "      <td>-0.000001</td>\n",
              "      <td>-1.401905e-07</td>\n",
              "      <td>-0.000001</td>\n",
              "      <td>-0.000003</td>\n",
              "      <td>-0.000001</td>\n",
              "      <td>-0.000003</td>\n",
              "      <td>-0.000003</td>\n",
              "      <td>-0.000001</td>\n",
              "      <td>3.849076e-07</td>\n",
              "    </tr>\n",
              "    <tr>\n",
              "      <th>A Story About My Uncle</th>\n",
              "      <td>1.936493e-05</td>\n",
              "      <td>-1.504049e-06</td>\n",
              "      <td>1.000000</td>\n",
              "      <td>-1.902934e-05</td>\n",
              "      <td>-0.000408</td>\n",
              "      <td>-1.058698e-04</td>\n",
              "      <td>-0.000184</td>\n",
              "      <td>-0.000226</td>\n",
              "      <td>3.690460e-05</td>\n",
              "      <td>-0.000252</td>\n",
              "      <td>-0.000485</td>\n",
              "      <td>-0.000392</td>\n",
              "      <td>-0.000464</td>\n",
              "      <td>-0.000328</td>\n",
              "      <td>-9.702399e-05</td>\n",
              "      <td>-0.000251</td>\n",
              "      <td>-0.000269</td>\n",
              "      <td>-0.000451</td>\n",
              "      <td>-0.000237</td>\n",
              "      <td>-1.439075e-04</td>\n",
              "      <td>-0.000366</td>\n",
              "      <td>-0.000529</td>\n",
              "      <td>-0.000254</td>\n",
              "      <td>-0.000206</td>\n",
              "      <td>-0.000231</td>\n",
              "      <td>-0.000364</td>\n",
              "      <td>-1.425485e-04</td>\n",
              "      <td>-0.000426</td>\n",
              "      <td>-0.000768</td>\n",
              "      <td>-0.000376</td>\n",
              "      <td>-0.000552</td>\n",
              "      <td>-0.000389</td>\n",
              "      <td>-0.000236</td>\n",
              "      <td>-0.000254</td>\n",
              "      <td>-0.000463</td>\n",
              "      <td>-0.000212</td>\n",
              "      <td>-0.000337</td>\n",
              "      <td>-1.069609e-05</td>\n",
              "      <td>-0.000310</td>\n",
              "      <td>-0.000413</td>\n",
              "      <td>...</td>\n",
              "      <td>-0.000486</td>\n",
              "      <td>-0.000351</td>\n",
              "      <td>-0.000265</td>\n",
              "      <td>-0.000427</td>\n",
              "      <td>-0.000399</td>\n",
              "      <td>-4.265418e-05</td>\n",
              "      <td>-0.000262</td>\n",
              "      <td>-0.000479</td>\n",
              "      <td>-0.000459</td>\n",
              "      <td>-0.000353</td>\n",
              "      <td>-0.000238</td>\n",
              "      <td>-0.000436</td>\n",
              "      <td>-0.000301</td>\n",
              "      <td>-0.000367</td>\n",
              "      <td>-0.000200</td>\n",
              "      <td>-1.676307e-04</td>\n",
              "      <td>-0.000585</td>\n",
              "      <td>-5.276433e-05</td>\n",
              "      <td>-6.636927e-05</td>\n",
              "      <td>-0.000225</td>\n",
              "      <td>-0.000223</td>\n",
              "      <td>-0.000468</td>\n",
              "      <td>-0.000168</td>\n",
              "      <td>-0.000744</td>\n",
              "      <td>-0.000339</td>\n",
              "      <td>-0.000340</td>\n",
              "      <td>-0.000486</td>\n",
              "      <td>-0.000619</td>\n",
              "      <td>-0.000262</td>\n",
              "      <td>-0.000786</td>\n",
              "      <td>-0.000251</td>\n",
              "      <td>-0.000248</td>\n",
              "      <td>-2.360883e-05</td>\n",
              "      <td>-0.000224</td>\n",
              "      <td>-0.000424</td>\n",
              "      <td>-0.000237</td>\n",
              "      <td>-0.000477</td>\n",
              "      <td>-0.000509</td>\n",
              "      <td>-0.000252</td>\n",
              "      <td>6.482051e-05</td>\n",
              "    </tr>\n",
              "    <tr>\n",
              "      <th>A.V.A. Alliance of Valiant Arms™</th>\n",
              "      <td>1.454862e-06</td>\n",
              "      <td>-1.129972e-07</td>\n",
              "      <td>-0.000019</td>\n",
              "      <td>1.000000e+00</td>\n",
              "      <td>-0.000031</td>\n",
              "      <td>-7.953859e-06</td>\n",
              "      <td>-0.000014</td>\n",
              "      <td>-0.000017</td>\n",
              "      <td>2.772593e-06</td>\n",
              "      <td>-0.000019</td>\n",
              "      <td>-0.000036</td>\n",
              "      <td>-0.000029</td>\n",
              "      <td>-0.000035</td>\n",
              "      <td>-0.000025</td>\n",
              "      <td>-7.289283e-06</td>\n",
              "      <td>-0.000019</td>\n",
              "      <td>-0.000020</td>\n",
              "      <td>-0.000034</td>\n",
              "      <td>-0.000018</td>\n",
              "      <td>-1.081158e-05</td>\n",
              "      <td>-0.000027</td>\n",
              "      <td>-0.000040</td>\n",
              "      <td>-0.000019</td>\n",
              "      <td>-0.000015</td>\n",
              "      <td>-0.000017</td>\n",
              "      <td>-0.000027</td>\n",
              "      <td>-1.070948e-05</td>\n",
              "      <td>-0.000032</td>\n",
              "      <td>-0.000058</td>\n",
              "      <td>-0.000028</td>\n",
              "      <td>-0.000041</td>\n",
              "      <td>-0.000029</td>\n",
              "      <td>-0.000018</td>\n",
              "      <td>-0.000019</td>\n",
              "      <td>-0.000035</td>\n",
              "      <td>-0.000016</td>\n",
              "      <td>-0.000025</td>\n",
              "      <td>-8.035831e-07</td>\n",
              "      <td>-0.000023</td>\n",
              "      <td>-0.000031</td>\n",
              "      <td>...</td>\n",
              "      <td>-0.000037</td>\n",
              "      <td>-0.000026</td>\n",
              "      <td>-0.000020</td>\n",
              "      <td>-0.000032</td>\n",
              "      <td>-0.000030</td>\n",
              "      <td>-3.204551e-06</td>\n",
              "      <td>-0.000020</td>\n",
              "      <td>-0.000036</td>\n",
              "      <td>-0.000034</td>\n",
              "      <td>-0.000026</td>\n",
              "      <td>-0.000018</td>\n",
              "      <td>-0.000033</td>\n",
              "      <td>-0.000023</td>\n",
              "      <td>-0.000028</td>\n",
              "      <td>-0.000015</td>\n",
              "      <td>-1.259387e-05</td>\n",
              "      <td>-0.000044</td>\n",
              "      <td>-3.964114e-06</td>\n",
              "      <td>-4.986234e-06</td>\n",
              "      <td>-0.000017</td>\n",
              "      <td>-0.000017</td>\n",
              "      <td>-0.000035</td>\n",
              "      <td>-0.000013</td>\n",
              "      <td>-0.000056</td>\n",
              "      <td>-0.000025</td>\n",
              "      <td>-0.000026</td>\n",
              "      <td>-0.000036</td>\n",
              "      <td>-0.000046</td>\n",
              "      <td>-0.000020</td>\n",
              "      <td>-0.000059</td>\n",
              "      <td>-0.000019</td>\n",
              "      <td>-0.000019</td>\n",
              "      <td>-1.773700e-06</td>\n",
              "      <td>-0.000017</td>\n",
              "      <td>-0.000032</td>\n",
              "      <td>-0.000018</td>\n",
              "      <td>-0.000036</td>\n",
              "      <td>-0.000038</td>\n",
              "      <td>-0.000019</td>\n",
              "      <td>4.869878e-06</td>\n",
              "    </tr>\n",
              "    <tr>\n",
              "      <th>ABZU</th>\n",
              "      <td>3.117754e-05</td>\n",
              "      <td>-2.421518e-06</td>\n",
              "      <td>-0.000408</td>\n",
              "      <td>-3.063722e-05</td>\n",
              "      <td>1.000000</td>\n",
              "      <td>-1.704504e-04</td>\n",
              "      <td>-0.000297</td>\n",
              "      <td>-0.000364</td>\n",
              "      <td>5.941639e-05</td>\n",
              "      <td>-0.000406</td>\n",
              "      <td>-0.000782</td>\n",
              "      <td>-0.000631</td>\n",
              "      <td>-0.000747</td>\n",
              "      <td>-0.000529</td>\n",
              "      <td>-1.562086e-04</td>\n",
              "      <td>-0.000404</td>\n",
              "      <td>-0.000434</td>\n",
              "      <td>-0.000726</td>\n",
              "      <td>-0.000382</td>\n",
              "      <td>-2.316910e-04</td>\n",
              "      <td>-0.000588</td>\n",
              "      <td>-0.000852</td>\n",
              "      <td>-0.000409</td>\n",
              "      <td>-0.000331</td>\n",
              "      <td>-0.000372</td>\n",
              "      <td>-0.000586</td>\n",
              "      <td>-2.295030e-04</td>\n",
              "      <td>-0.000685</td>\n",
              "      <td>-0.001237</td>\n",
              "      <td>-0.000605</td>\n",
              "      <td>-0.000888</td>\n",
              "      <td>-0.000627</td>\n",
              "      <td>-0.000380</td>\n",
              "      <td>-0.000408</td>\n",
              "      <td>-0.000745</td>\n",
              "      <td>-0.000341</td>\n",
              "      <td>-0.000542</td>\n",
              "      <td>-1.722070e-05</td>\n",
              "      <td>-0.000500</td>\n",
              "      <td>-0.000665</td>\n",
              "      <td>...</td>\n",
              "      <td>-0.000783</td>\n",
              "      <td>-0.000564</td>\n",
              "      <td>-0.000427</td>\n",
              "      <td>-0.000688</td>\n",
              "      <td>-0.000642</td>\n",
              "      <td>-6.867321e-05</td>\n",
              "      <td>-0.000422</td>\n",
              "      <td>-0.000771</td>\n",
              "      <td>-0.000738</td>\n",
              "      <td>-0.000568</td>\n",
              "      <td>-0.000383</td>\n",
              "      <td>-0.000701</td>\n",
              "      <td>-0.000484</td>\n",
              "      <td>-0.000591</td>\n",
              "      <td>-0.000323</td>\n",
              "      <td>-2.698853e-04</td>\n",
              "      <td>-0.000941</td>\n",
              "      <td>-8.495055e-05</td>\n",
              "      <td>-1.068545e-04</td>\n",
              "      <td>-0.000362</td>\n",
              "      <td>-0.000359</td>\n",
              "      <td>-0.000754</td>\n",
              "      <td>-0.000271</td>\n",
              "      <td>-0.000112</td>\n",
              "      <td>-0.000545</td>\n",
              "      <td>-0.000547</td>\n",
              "      <td>-0.000782</td>\n",
              "      <td>-0.000996</td>\n",
              "      <td>-0.000421</td>\n",
              "      <td>-0.001266</td>\n",
              "      <td>-0.000404</td>\n",
              "      <td>-0.000399</td>\n",
              "      <td>-3.801021e-05</td>\n",
              "      <td>-0.000360</td>\n",
              "      <td>-0.000682</td>\n",
              "      <td>-0.000381</td>\n",
              "      <td>-0.000767</td>\n",
              "      <td>-0.000820</td>\n",
              "      <td>-0.000406</td>\n",
              "      <td>1.043610e-04</td>\n",
              "    </tr>\n",
              "  </tbody>\n",
              "</table>\n",
              "<p>5 rows × 346 columns</p>\n",
              "</div>"
            ],
            "text/plain": [
              "title                             100% Orange Juice  ...  theHunter Classic\n",
              "title                                                ...                   \n",
              "100% Orange Juice                      1.000000e+00  ...      -4.955762e-06\n",
              "8BitMMO                                1.149900e-07  ...       3.849076e-07\n",
              "A Story About My Uncle                 1.936493e-05  ...       6.482051e-05\n",
              "A.V.A. Alliance of Valiant Arms™       1.454862e-06  ...       4.869878e-06\n",
              "ABZU                                   3.117754e-05  ...       1.043610e-04\n",
              "\n",
              "[5 rows x 346 columns]"
            ]
          },
          "metadata": {
            "tags": []
          },
          "execution_count": 45
        }
      ]
    },
    {
      "cell_type": "code",
      "metadata": {
        "id": "IqSVVQsdZwk-"
      },
      "source": [
        "def get_similar(game_name,rating):\n",
        "    similar_ratings = corrMatrix[game_name]*(rating-2.5)\n",
        "    similar_ratings = similar_ratings.sort_values(ascending=False)\n",
        "    #print(type(similar_ratings))\n",
        "    return similar_ratings"
      ],
      "execution_count": 46,
      "outputs": []
    },
    {
      "cell_type": "code",
      "metadata": {
        "id": "OaPWD-uDaNL9"
      },
      "source": [
        "def get_random_game():\n",
        "  all_games = data_games[['id', 'title']]\n",
        "  #Selecciona un usuario al azar\n",
        "  x = int(np.random.randint(df_sub.shape[0], size=1))\n",
        "  x = df_sub.username.iloc[x]\n",
        "  usuario = df[df['username'] == x]\n",
        "  print('--> El usuario ha jugado: ',usuario.shape[0], 'videojuegos')\n",
        "  #Elimino titulos que el usuario ya ha jugado\n",
        "  for i in usuario.title:\n",
        "    game = i\n",
        "    all_games.drop(all_games[all_games['title'] == game ].index, inplace=True)\n",
        "    \n",
        "  #Obtengo un titulo al azar\n",
        "  game = df_sub.title.iloc[int(np.random.randint(df_sub.shape[0], size=1))]\n",
        "  print(' * Videjuego seleccionado:', game)\n",
        "\n",
        "  #Solicito al usuario escriba su review(Tiene que ser en ingles) para analizar su polaridad\n",
        "  rating = str(input('--> Ingrese la review del videojuego: '))\n",
        "  rating = TextBlob(rating).polarity\n",
        "\n",
        "  #Obtengo titulos con polaridades similares\n",
        "  similar_games = pd.DataFrame()\n",
        "  similar_games = similar_games.append(get_similar(game,rating),ignore_index = True)\n",
        "  x = similar_games.sum().sort_values(ascending=False).head(10)\n",
        "\n",
        "  #Elimino los juegos que el usuario ya ha jugado\n",
        "  for i in x.index:\n",
        "    name = i\n",
        "    usuario.drop(usuario[usuario['title'] == name ].index, inplace=True)\n",
        "\n",
        "  print('<------------------------->')\n",
        "  print(\"Nuestra recomendaciones para usted: \\n\")\n",
        "  for i in x.index:\n",
        "    print(i)"
      ],
      "execution_count": 47,
      "outputs": []
    },
    {
      "cell_type": "code",
      "metadata": {
        "colab": {
          "base_uri": "https://localhost:8080/"
        },
        "id": "pL6RiUx5aM8O",
        "outputId": "3f68f943-7177-499c-9cae-0c928a2246b0"
      },
      "source": [
        "get_random_game()"
      ],
      "execution_count": 48,
      "outputs": [
        {
          "output_type": "stream",
          "text": [
            "--> El usuario ha jugado:  2 videojuegos\n",
            " * Videjuego seleccionado: XCOM: Enemy Unknown\n",
            "--> Ingrese la review del videojuego: the best game ever\n",
            "<------------------------->\n",
            "Nuestra recomendaciones para usted: \n",
            "\n",
            "Trine 2: Complete Story\n",
            "Arma 2: Operation Arrowhead\n",
            "Borderlands 2\n",
            "Portal 2\n",
            "Life is Strange - Episode 1\n",
            "Ryse: Son of Rome\n",
            "Team Fortress 2\n",
            "Warframe\n",
            "Bastion\n",
            "Rust\n"
          ],
          "name": "stdout"
        }
      ]
    },
    {
      "cell_type": "markdown",
      "metadata": {
        "id": "ae38X5NKBN6I"
      },
      "source": [
        "EL modelo Benchmark arrojó el título de videojuegos que presentan una alta correlación con la puntuación obtenida por medio de TexBlob en cuanto a la polaridad de la review escrita por el usuario.\n",
        "Este modelo al depender de la correlación de la review escrita por el usuario, si el usuario realiza una review negativa, el modelo le recomendará títulos que presenten reviews negativas.\n"
      ]
    },
    {
      "cell_type": "markdown",
      "metadata": {
        "id": "jBJWqaW7u7SV"
      },
      "source": [
        "# Machine Learning\n",
        "## Surprise"
      ]
    },
    {
      "cell_type": "code",
      "metadata": {
        "id": "XznZ0CnjbcHw"
      },
      "source": [
        "#Creo una copia de las review, que mas adelante empleare\n",
        "calificaciones = df_sub[['x_username', 'product_id', 'polarity']]"
      ],
      "execution_count": 49,
      "outputs": []
    },
    {
      "cell_type": "markdown",
      "metadata": {
        "id": "59HB8T9UadaH"
      },
      "source": [
        "El Dataset `calificaciones` contiene la informacion del numero de usuario, el id del videojuego asi como la polaridad de la review que el usuario realizo. Este DataSet se empleara como Data para el modelo Surprise"
      ]
    },
    {
      "cell_type": "code",
      "metadata": {
        "id": "dSuAvcqmAZnc"
      },
      "source": [
        "from sklearn.model_selection import train_test_split\n",
        "train_data, test_data = train_test_split(calificaciones, test_size = 0.2, random_state=40)"
      ],
      "execution_count": 50,
      "outputs": []
    },
    {
      "cell_type": "code",
      "metadata": {
        "colab": {
          "base_uri": "https://localhost:8080/",
          "height": 312
        },
        "id": "NaWknwpmeKeM",
        "outputId": "2b4f1e85-e9b9-47dd-e0d7-7c55ba18423d"
      },
      "source": [
        "sns.kdeplot(train_data['polarity'], label='Datos Train')\n",
        "sns.kdeplot(test_data['polarity'], label='Datos Test')\n",
        "plt.title('Uniformidad de Datos')\n",
        "plt.legend()"
      ],
      "execution_count": 51,
      "outputs": [
        {
          "output_type": "execute_result",
          "data": {
            "text/plain": [
              "<matplotlib.legend.Legend at 0x7fd9dd66b080>"
            ]
          },
          "metadata": {
            "tags": []
          },
          "execution_count": 51
        },
        {
          "output_type": "display_data",
          "data": {
            "image/png": "[encoded data removed]",
            "text/plain": [
              "<Figure size 432x288 with 1 Axes>"
            ]
          },
          "metadata": {
            "tags": []
          }
        }
      ]
    },
    {
      "cell_type": "markdown",
      "metadata": {
        "id": "O_PWYvpFazUL"
      },
      "source": [
        "Con base en el gráfico, la división de la data empleando train_test_split , esta no presenta desbalance, en donde en los datos de entrenamiento se presente más reviews negativas mientras que en los datos de test reviews positivas. Por lo que mi división de datos es la adecuada, encontrando en los datos de entrenamiento y test calificaciones muy similares en ambos casos"
      ]
    },
    {
      "cell_type": "code",
      "metadata": {
        "id": "qFXou9hFAZWc"
      },
      "source": [
        "reader = Reader(rating_scale = (-1.00, 1.00))\n",
        "data_train = Dataset.load_from_df(train_data[['x_username', 'product_id', 'polarity']], reader)\n",
        "data_test = Dataset.load_from_df(test_data[['x_username', 'product_id', 'polarity']], reader)"
      ],
      "execution_count": 52,
      "outputs": []
    },
    {
      "cell_type": "code",
      "metadata": {
        "id": "h02HInLyAZQv"
      },
      "source": [
        "# Build full trainset\n",
        "data_train = data_train.build_full_trainset()\n",
        "data_test = data_test.build_full_trainset()"
      ],
      "execution_count": 53,
      "outputs": []
    },
    {
      "cell_type": "code",
      "metadata": {
        "colab": {
          "base_uri": "https://localhost:8080/"
        },
        "id": "Nm6t8C_UAZK9",
        "outputId": "03d1c231-67e5-419a-8f71-56a197d46e5f"
      },
      "source": [
        "print('Calificaciones globales :')\n",
        "print('Train rating', data_train.global_mean)\n",
        "print('Test rating', data_test.global_mean)"
      ],
      "execution_count": 54,
      "outputs": [
        {
          "output_type": "stream",
          "text": [
            "Calificaciones globales :\n",
            "Train rating 0.10566338208049732\n",
            "Test rating 0.10802296485050579\n"
          ],
          "name": "stdout"
        }
      ]
    },
    {
      "cell_type": "code",
      "metadata": {
        "id": "jBxL81rlCWJC"
      },
      "source": [
        "# Create the trainset and testset\n",
        "data_trainset = data_train.build_testset()\n",
        "data_testset = data_test.build_testset()"
      ],
      "execution_count": 55,
      "outputs": []
    },
    {
      "cell_type": "code",
      "metadata": {
        "id": "yT8NoasMAZEt",
        "colab": {
          "base_uri": "https://localhost:8080/"
        },
        "outputId": "3945339c-e0fa-4da7-b35b-3c2b8f8f22ec"
      },
      "source": [
        "# Create SVD \n",
        "from surprise import SVD\n",
        "algo = SVD()\n",
        "#Entreno el modelo\n",
        "algo.fit(data_train)"
      ],
      "execution_count": 56,
      "outputs": [
        {
          "output_type": "execute_result",
          "data": {
            "text/plain": [
              "<surprise.prediction_algorithms.matrix_factorization.SVD at 0x7fd9ddb1af98>"
            ]
          },
          "metadata": {
            "tags": []
          },
          "execution_count": 56
        }
      ]
    },
    {
      "cell_type": "code",
      "metadata": {
        "colab": {
          "base_uri": "https://localhost:8080/"
        },
        "id": "2T6hO5EfAY3-",
        "outputId": "627d05fa-b78f-4c52-c893-5dc3b4ba32de"
      },
      "source": [
        "# Calculate RMSE for training dataset\n",
        "from surprise import accuracy\n",
        "train_pred = algo.test(data_trainset)\n",
        "accuracy.rmse(train_pred)"
      ],
      "execution_count": 57,
      "outputs": [
        {
          "output_type": "stream",
          "text": [
            "RMSE: 0.2121\n"
          ],
          "name": "stdout"
        },
        {
          "output_type": "execute_result",
          "data": {
            "text/plain": [
              "0.21207986169294893"
            ]
          },
          "metadata": {
            "tags": []
          },
          "execution_count": 57
        }
      ]
    },
    {
      "cell_type": "code",
      "metadata": {
        "colab": {
          "base_uri": "https://localhost:8080/"
        },
        "id": "9podDEfpAYxx",
        "outputId": "39746519-4d0f-434c-bf78-862b96d5078d"
      },
      "source": [
        "# Calculate RMSE for test dataset\n",
        "test_pred = algo.test(data_testset)\n",
        "accuracy.rmse(test_pred)"
      ],
      "execution_count": 58,
      "outputs": [
        {
          "output_type": "stream",
          "text": [
            "RMSE: 0.2706\n"
          ],
          "name": "stdout"
        },
        {
          "output_type": "execute_result",
          "data": {
            "text/plain": [
              "0.2705632613677231"
            ]
          },
          "metadata": {
            "tags": []
          },
          "execution_count": 58
        }
      ]
    },
    {
      "cell_type": "code",
      "metadata": {
        "colab": {
          "base_uri": "https://localhost:8080/",
          "height": 111
        },
        "id": "gMJlElyuAYq0",
        "outputId": "effc61e6-bfaa-4e36-e076-9b8ff40765bb"
      },
      "source": [
        "train_data.head(2)"
      ],
      "execution_count": 59,
      "outputs": [
        {
          "output_type": "execute_result",
          "data": {
            "text/html": [
              "<div>\n",
              "<style scoped>\n",
              "    .dataframe tbody tr th:only-of-type {\n",
              "        vertical-align: middle;\n",
              "    }\n",
              "\n",
              "    .dataframe tbody tr th {\n",
              "        vertical-align: top;\n",
              "    }\n",
              "\n",
              "    .dataframe thead th {\n",
              "        text-align: right;\n",
              "    }\n",
              "</style>\n",
              "<table border=\"1\" class=\"dataframe\">\n",
              "  <thead>\n",
              "    <tr style=\"text-align: right;\">\n",
              "      <th></th>\n",
              "      <th>x_username</th>\n",
              "      <th>product_id</th>\n",
              "      <th>polarity</th>\n",
              "    </tr>\n",
              "  </thead>\n",
              "  <tbody>\n",
              "    <tr>\n",
              "      <th>6014</th>\n",
              "      <td>271443.0</td>\n",
              "      <td>440.0</td>\n",
              "      <td>0.108333</td>\n",
              "    </tr>\n",
              "    <tr>\n",
              "      <th>19383</th>\n",
              "      <td>67622.0</td>\n",
              "      <td>211420.0</td>\n",
              "      <td>-0.233333</td>\n",
              "    </tr>\n",
              "  </tbody>\n",
              "</table>\n",
              "</div>"
            ],
            "text/plain": [
              "       x_username  product_id  polarity\n",
              "6014     271443.0       440.0  0.108333\n",
              "19383     67622.0    211420.0 -0.233333"
            ]
          },
          "metadata": {
            "tags": []
          },
          "execution_count": 59
        }
      ]
    },
    {
      "cell_type": "code",
      "metadata": {
        "colab": {
          "base_uri": "https://localhost:8080/"
        },
        "id": "o3ZZPq9aAYjg",
        "outputId": "54cb993c-24f6-4c32-a4e8-4b5b7127e602"
      },
      "source": [
        "# Prediccion con datos de entrenamiento\n",
        "p1 = algo.predict(uid = train_data.iloc[0].x_username, iid = train_data.iloc[0].product_id, verbose = True)"
      ],
      "execution_count": 60,
      "outputs": [
        {
          "output_type": "stream",
          "text": [
            "user: 271443.0   item: 440.0      r_ui = None   est = 0.10   {'was_impossible': False}\n"
          ],
          "name": "stdout"
        }
      ]
    },
    {
      "cell_type": "code",
      "metadata": {
        "colab": {
          "base_uri": "https://localhost:8080/"
        },
        "id": "fNS2IRd_gV86",
        "outputId": "b5de57e5-1975-458b-f7f0-fadea8cfcd86"
      },
      "source": [
        "test_data.x_username.value_counts().head(5)"
      ],
      "execution_count": 61,
      "outputs": [
        {
          "output_type": "execute_result",
          "data": {
            "text/plain": [
              "118324.0    4\n",
              "259204.0    4\n",
              "62148.0     3\n",
              "210687.0    2\n",
              "190250.0    2\n",
              "Name: x_username, dtype: int64"
            ]
          },
          "metadata": {
            "tags": []
          },
          "execution_count": 61
        }
      ]
    },
    {
      "cell_type": "code",
      "metadata": {
        "colab": {
          "base_uri": "https://localhost:8080/",
          "height": 173
        },
        "id": "eUYd8h33Hryt",
        "outputId": "4681dfbd-569b-4050-8fe0-a9d1a5e6f5c8"
      },
      "source": [
        "#Selecciono al usuario con aparicion\n",
        "usuario = test_data[test_data['x_username'] == 118324.0]\n",
        "usuario"
      ],
      "execution_count": 62,
      "outputs": [
        {
          "output_type": "execute_result",
          "data": {
            "text/html": [
              "<div>\n",
              "<style scoped>\n",
              "    .dataframe tbody tr th:only-of-type {\n",
              "        vertical-align: middle;\n",
              "    }\n",
              "\n",
              "    .dataframe tbody tr th {\n",
              "        vertical-align: top;\n",
              "    }\n",
              "\n",
              "    .dataframe thead th {\n",
              "        text-align: right;\n",
              "    }\n",
              "</style>\n",
              "<table border=\"1\" class=\"dataframe\">\n",
              "  <thead>\n",
              "    <tr style=\"text-align: right;\">\n",
              "      <th></th>\n",
              "      <th>x_username</th>\n",
              "      <th>product_id</th>\n",
              "      <th>polarity</th>\n",
              "    </tr>\n",
              "  </thead>\n",
              "  <tbody>\n",
              "    <tr>\n",
              "      <th>35204</th>\n",
              "      <td>118324.0</td>\n",
              "      <td>227300.0</td>\n",
              "      <td>0.445714</td>\n",
              "    </tr>\n",
              "    <tr>\n",
              "      <th>22008</th>\n",
              "      <td>118324.0</td>\n",
              "      <td>208650.0</td>\n",
              "      <td>0.250000</td>\n",
              "    </tr>\n",
              "    <tr>\n",
              "      <th>33068</th>\n",
              "      <td>118324.0</td>\n",
              "      <td>298110.0</td>\n",
              "      <td>0.125000</td>\n",
              "    </tr>\n",
              "    <tr>\n",
              "      <th>50692</th>\n",
              "      <td>118324.0</td>\n",
              "      <td>203140.0</td>\n",
              "      <td>0.134615</td>\n",
              "    </tr>\n",
              "  </tbody>\n",
              "</table>\n",
              "</div>"
            ],
            "text/plain": [
              "       x_username  product_id  polarity\n",
              "35204    118324.0    227300.0  0.445714\n",
              "22008    118324.0    208650.0  0.250000\n",
              "33068    118324.0    298110.0  0.125000\n",
              "50692    118324.0    203140.0  0.134615"
            ]
          },
          "metadata": {
            "tags": []
          },
          "execution_count": 62
        }
      ]
    },
    {
      "cell_type": "code",
      "metadata": {
        "colab": {
          "base_uri": "https://localhost:8080/",
          "height": 173
        },
        "id": "CL7L_TvCiOyD",
        "outputId": "6543bbff-034b-4aed-93ef-c5f4d3a7acde"
      },
      "source": [
        "usuario['estimate_escore'] = usuario['product_id'].apply(lambda x: algo.predict(uid = usuario.x_username.iloc[0],iid = x).est)\n",
        "usuario"
      ],
      "execution_count": 63,
      "outputs": [
        {
          "output_type": "execute_result",
          "data": {
            "text/html": [
              "<div>\n",
              "<style scoped>\n",
              "    .dataframe tbody tr th:only-of-type {\n",
              "        vertical-align: middle;\n",
              "    }\n",
              "\n",
              "    .dataframe tbody tr th {\n",
              "        vertical-align: top;\n",
              "    }\n",
              "\n",
              "    .dataframe thead th {\n",
              "        text-align: right;\n",
              "    }\n",
              "</style>\n",
              "<table border=\"1\" class=\"dataframe\">\n",
              "  <thead>\n",
              "    <tr style=\"text-align: right;\">\n",
              "      <th></th>\n",
              "      <th>x_username</th>\n",
              "      <th>product_id</th>\n",
              "      <th>polarity</th>\n",
              "      <th>estimate_escore</th>\n",
              "    </tr>\n",
              "  </thead>\n",
              "  <tbody>\n",
              "    <tr>\n",
              "      <th>35204</th>\n",
              "      <td>118324.0</td>\n",
              "      <td>227300.0</td>\n",
              "      <td>0.445714</td>\n",
              "      <td>0.133511</td>\n",
              "    </tr>\n",
              "    <tr>\n",
              "      <th>22008</th>\n",
              "      <td>118324.0</td>\n",
              "      <td>208650.0</td>\n",
              "      <td>0.250000</td>\n",
              "      <td>0.192202</td>\n",
              "    </tr>\n",
              "    <tr>\n",
              "      <th>33068</th>\n",
              "      <td>118324.0</td>\n",
              "      <td>298110.0</td>\n",
              "      <td>0.125000</td>\n",
              "      <td>0.034198</td>\n",
              "    </tr>\n",
              "    <tr>\n",
              "      <th>50692</th>\n",
              "      <td>118324.0</td>\n",
              "      <td>203140.0</td>\n",
              "      <td>0.134615</td>\n",
              "      <td>-0.007392</td>\n",
              "    </tr>\n",
              "  </tbody>\n",
              "</table>\n",
              "</div>"
            ],
            "text/plain": [
              "       x_username  product_id  polarity  estimate_escore\n",
              "35204    118324.0    227300.0  0.445714         0.133511\n",
              "22008    118324.0    208650.0  0.250000         0.192202\n",
              "33068    118324.0    298110.0  0.125000         0.034198\n",
              "50692    118324.0    203140.0  0.134615        -0.007392"
            ]
          },
          "metadata": {
            "tags": []
          },
          "execution_count": 63
        }
      ]
    },
    {
      "cell_type": "code",
      "metadata": {
        "colab": {
          "base_uri": "https://localhost:8080/",
          "height": 312
        },
        "id": "x236s3ibjET0",
        "outputId": "9d1c641a-9714-45f3-afc4-44d5635e8888"
      },
      "source": [
        "sns.kdeplot(usuario['polarity'], label='Valore Real')\n",
        "sns.kdeplot(usuario['estimate_escore'], label='Valor predicho')\n",
        "plt.title('Comparación Valor Real vs Valor Predicho')\n",
        "plt.legend()"
      ],
      "execution_count": 64,
      "outputs": [
        {
          "output_type": "execute_result",
          "data": {
            "text/plain": [
              "<matplotlib.legend.Legend at 0x7fd9d698a898>"
            ]
          },
          "metadata": {
            "tags": []
          },
          "execution_count": 64
        },
        {
          "output_type": "display_data",
          "data": {
            "image/png": "[encoded data removed]",
            "text/plain": [
              "<Figure size 432x288 with 1 Axes>"
            ]
          },
          "metadata": {
            "tags": []
          }
        }
      ]
    },
    {
      "cell_type": "markdown",
      "metadata": {
        "id": "E4pIatgACR-l"
      },
      "source": [
        "El modelo con sus hyperparametros por default, realiza predicciones distantes a la puntuación real. Se tomara esto como base a modo de comparativa al optimizar sus hyperparametros."
      ]
    },
    {
      "cell_type": "markdown",
      "metadata": {
        "id": "jo29hfLYIcVF"
      },
      "source": [
        "## Optimizacion de Hyperparametros"
      ]
    },
    {
      "cell_type": "code",
      "metadata": {
        "id": "6EQ7Z0cEdNty"
      },
      "source": [
        "reader = Reader(rating_scale = (-1.00, 1.00))\n",
        "data = Dataset.load_from_df(calificaciones[['x_username', 'product_id', 'polarity']], reader)"
      ],
      "execution_count": 65,
      "outputs": []
    },
    {
      "cell_type": "code",
      "metadata": {
        "id": "yCVqg1E9AYXt"
      },
      "source": [
        "param_grid = {\n",
        "    'n_factors': [5,10,15],\n",
        "    'n_epochs' : [100,150,200],\n",
        "    'lr_all'   : [0.002, 0.005, 0.02],\n",
        "    'reg_all'  : [0, 0.002, 0.02],\n",
        "    'biased'   : [True],\n",
        "    'init_mean': [0],\n",
        "    'init_std_dev': [0.01]\n",
        "    }\n",
        "gs = GridSearchCV(SVD, param_grid, measures=['rmse'], cv=5, n_jobs = -1)\n",
        "gs.fit(data)"
      ],
      "execution_count": 66,
      "outputs": []
    },
    {
      "cell_type": "code",
      "metadata": {
        "id": "uNuEXixBFXPp"
      },
      "source": [
        "params = gs.best_params['rmse']\n",
        "svdtuned = SVD(n_factors=params['n_factors'],\n",
        "               n_epochs=params['n_epochs'],\n",
        "               lr_all=params['lr_all'],\n",
        "               reg_all=params['reg_all'],\n",
        "               biased=params['biased'],\n",
        "               init_mean=params['init_mean'],\n",
        "               init_std_dev=params['init_std_dev']\n",
        "               )"
      ],
      "execution_count": 68,
      "outputs": []
    },
    {
      "cell_type": "markdown",
      "metadata": {
        "id": "kzFXm_vJG2wQ"
      },
      "source": [
        "https://towardsdatascience.com/svd-where-model-tuning-goes-wrong-61c269402919"
      ]
    },
    {
      "cell_type": "markdown",
      "metadata": {
        "id": "qKuvPvLAHbKh"
      },
      "source": [
        "Falta dar explicación de los hyperparametros\n",
        "https://surprise.readthedocs.io/en/stable/matrix_factorization.html#surprise.prediction_algorithms.matrix_factorization.SVD"
      ]
    },
    {
      "cell_type": "code",
      "metadata": {
        "colab": {
          "base_uri": "https://localhost:8080/"
        },
        "id": "HiuBBvKIrJ6W",
        "outputId": "6a4b6077-6191-412e-83ba-f79f2c9e19f6"
      },
      "source": [
        "print(\"Mejores parametros : \"+str(gs.best_params))\n",
        "print(\"Mejor Score : \"+str(gs.best_score)+'\\n')"
      ],
      "execution_count": 69,
      "outputs": [
        {
          "output_type": "stream",
          "text": [
            "Mejores parametros : {'rmse': {'n_factors': 5, 'n_epochs': 100, 'lr_all': 0.002, 'reg_all': 0.02, 'biased': True, 'init_mean': 0, 'init_std_dev': 0.01}}\n",
            "Mejor Score : {'rmse': 0.26642018140295776}\n",
            "\n"
          ],
          "name": "stdout"
        }
      ]
    },
    {
      "cell_type": "code",
      "metadata": {
        "id": "VLgKoTzbsPy6"
      },
      "source": [
        "#Establecer modelo con los hyperparametros \n",
        "algo = SVD(n_factors = 5, n_epochs= 100, biased= True, lr_all= 0.002, reg_all= 0.02, init_mean= 0, init_std_dev= 0.01)"
      ],
      "execution_count": 74,
      "outputs": []
    },
    {
      "cell_type": "code",
      "metadata": {
        "colab": {
          "base_uri": "https://localhost:8080/"
        },
        "id": "SMAEwnwCs16h",
        "outputId": "d79c48a8-5146-4bb9-bda6-d424edb9d27a"
      },
      "source": [
        "#Entrenar modelo\n",
        "algo.fit(data_train)"
      ],
      "execution_count": 75,
      "outputs": [
        {
          "output_type": "execute_result",
          "data": {
            "text/plain": [
              "<surprise.prediction_algorithms.matrix_factorization.SVD at 0x7fd9dae94198>"
            ]
          },
          "metadata": {
            "tags": []
          },
          "execution_count": 75
        }
      ]
    },
    {
      "cell_type": "code",
      "metadata": {
        "id": "SSrQHOSnI0sh",
        "colab": {
          "base_uri": "https://localhost:8080/",
          "height": 173
        },
        "outputId": "0b7182df-4e80-4688-b4ed-f4c3a6b56a01"
      },
      "source": [
        "#Nuevas predicciones\n",
        "usuario['new_estimate_escore'] = usuario['product_id'].apply(lambda x: algo.predict(uid = usuario.x_username.iloc[0],iid = x).est)\n",
        "usuario"
      ],
      "execution_count": 76,
      "outputs": [
        {
          "output_type": "execute_result",
          "data": {
            "text/html": [
              "<div>\n",
              "<style scoped>\n",
              "    .dataframe tbody tr th:only-of-type {\n",
              "        vertical-align: middle;\n",
              "    }\n",
              "\n",
              "    .dataframe tbody tr th {\n",
              "        vertical-align: top;\n",
              "    }\n",
              "\n",
              "    .dataframe thead th {\n",
              "        text-align: right;\n",
              "    }\n",
              "</style>\n",
              "<table border=\"1\" class=\"dataframe\">\n",
              "  <thead>\n",
              "    <tr style=\"text-align: right;\">\n",
              "      <th></th>\n",
              "      <th>x_username</th>\n",
              "      <th>product_id</th>\n",
              "      <th>polarity</th>\n",
              "      <th>estimate_escore</th>\n",
              "      <th>new_estimate_escore</th>\n",
              "    </tr>\n",
              "  </thead>\n",
              "  <tbody>\n",
              "    <tr>\n",
              "      <th>35204</th>\n",
              "      <td>118324.0</td>\n",
              "      <td>227300.0</td>\n",
              "      <td>0.445714</td>\n",
              "      <td>0.133511</td>\n",
              "      <td>-0.002700</td>\n",
              "    </tr>\n",
              "    <tr>\n",
              "      <th>22008</th>\n",
              "      <td>118324.0</td>\n",
              "      <td>208650.0</td>\n",
              "      <td>0.250000</td>\n",
              "      <td>0.192202</td>\n",
              "      <td>0.052911</td>\n",
              "    </tr>\n",
              "    <tr>\n",
              "      <th>33068</th>\n",
              "      <td>118324.0</td>\n",
              "      <td>298110.0</td>\n",
              "      <td>0.125000</td>\n",
              "      <td>0.034198</td>\n",
              "      <td>-0.099966</td>\n",
              "    </tr>\n",
              "    <tr>\n",
              "      <th>50692</th>\n",
              "      <td>118324.0</td>\n",
              "      <td>203140.0</td>\n",
              "      <td>0.134615</td>\n",
              "      <td>-0.007392</td>\n",
              "      <td>-0.014521</td>\n",
              "    </tr>\n",
              "  </tbody>\n",
              "</table>\n",
              "</div>"
            ],
            "text/plain": [
              "       x_username  product_id  polarity  estimate_escore  new_estimate_escore\n",
              "35204    118324.0    227300.0  0.445714         0.133511            -0.002700\n",
              "22008    118324.0    208650.0  0.250000         0.192202             0.052911\n",
              "33068    118324.0    298110.0  0.125000         0.034198            -0.099966\n",
              "50692    118324.0    203140.0  0.134615        -0.007392            -0.014521"
            ]
          },
          "metadata": {
            "tags": []
          },
          "execution_count": 76
        }
      ]
    },
    {
      "cell_type": "code",
      "metadata": {
        "colab": {
          "base_uri": "https://localhost:8080/",
          "height": 312
        },
        "id": "g0xu2KNYqpIz",
        "outputId": "71755fb3-4fdb-43b4-8bcf-c440064d0b6b"
      },
      "source": [
        "sns.kdeplot(usuario['polarity'], label='Valore Real')\n",
        "sns.kdeplot(usuario['estimate_escore'], label='Valor predicho')\n",
        "sns.kdeplot(usuario['new_estimate_escore'], label='Valor Gs')\n",
        "plt.title('Comparación Valor Real vs Valor Predicho')\n",
        "plt.legend()"
      ],
      "execution_count": 77,
      "outputs": [
        {
          "output_type": "execute_result",
          "data": {
            "text/plain": [
              "<matplotlib.legend.Legend at 0x7fd9d85a1588>"
            ]
          },
          "metadata": {
            "tags": []
          },
          "execution_count": 77
        },
        {
          "output_type": "display_data",
          "data": {
            "image/png": "[encoded data removed]",
            "text/plain": [
              "<Figure size 432x288 with 1 Axes>"
            ]
          },
          "metadata": {
            "tags": []
          }
        }
      ]
    },
    {
      "cell_type": "markdown",
      "metadata": {
        "id": "jX9SEh6qlfS_"
      },
      "source": [
        "Con base en el grafico, el modelo optimizado, realiza predicciones con valores muy distantes a la realidad. Para un mejor rendimiento se debe de hacer un mejor procesamiento de la información. Ya que que en la Data se presentan muchos usuarios con una recomendación, por lo que el modelo tendra que predecir el resto de los resultados teniendo muy poca información base."
      ]
    },
    {
      "cell_type": "code",
      "metadata": {
        "id": "BxHJIiqVB_BK"
      },
      "source": [
        "def games_top_predict():\n",
        "  all_games = data_games[['id', 'title']]\n",
        "  #Seleccion de usuario al azar\n",
        "  x = int(np.random.randint(df_sub.shape[0], size=1))\n",
        "  x = df_sub.username.iloc[x]\n",
        "  usuario = df[df['username'] == x]\n",
        "  print('Usuario seleccionado: {}'.format(usuario.iloc[0].username))\n",
        "  print('--> El usuario ha jugado: ',usuario.shape[0], 'videojuegos')\n",
        "\n",
        "  #Elimino videojuegos jugados\n",
        "  for i in usuario.title:\n",
        "    game = i\n",
        "    all_games.drop(all_games[all_games['title'] == game ].index, inplace=True)\n",
        "  \n",
        "  #Seleccion de videojuego al azar\n",
        "  game = df_sub.title.iloc[int(np.random.randint(df_sub.shape[0], size=1))]\n",
        "  print(' * Videjuego seleccionado:', game)\n",
        "  input('--> Ingrese la review del videojuego: ')\n",
        "\n",
        "  #Prediccion\n",
        "  all_games['estimate_escore'] = all_games['id'].apply(lambda x: algo.predict(uid = usuario.x_username.iloc[0],iid = x).est)\n",
        "\n",
        "  top = all_games.sort_values(ascending=False, by='estimate_escore').head(5)\n",
        "  print('\\n Nuestra recomendacion de Videojuegos :\\n')\n",
        "  for i in top['title']:\n",
        "    print('---> ', i)"
      ],
      "execution_count": 78,
      "outputs": []
    },
    {
      "cell_type": "code",
      "metadata": {
        "colab": {
          "base_uri": "https://localhost:8080/"
        },
        "id": "u5TuEv7qCwTm",
        "outputId": "7dd3bb02-474d-412c-de83-ece916f83b6f"
      },
      "source": [
        "games_top_predict()"
      ],
      "execution_count": 79,
      "outputs": [
        {
          "output_type": "stream",
          "text": [
            "Usuario seleccionado: BB Gandang Hari\n",
            "--> El usuario ha jugado:  1 videojuegos\n",
            " * Videjuego seleccionado: Team Fortress 2\n",
            "--> Ingrese la review del videojuego: the best game ever\n",
            "\n",
            " Nuestra recomendacion de Videojuegos :\n",
            "\n",
            "--->  Age of Empires® III: Complete Collection\n",
            "--->  Wallpaper Engine\n",
            "--->  Nidhogg\n",
            "--->  Bastion\n",
            "--->  Transistor\n"
          ],
          "name": "stdout"
        }
      ]
    },
    {
      "cell_type": "markdown",
      "metadata": {
        "id": "AkWD-SpnJrPz"
      },
      "source": [
        "# Recomendaciones Basadas en Generos\n"
      ]
    },
    {
      "cell_type": "markdown",
      "metadata": {
        "id": "Mh91C5DTySBJ"
      },
      "source": [
        "Este sistema de recomendación se basa en la similitud del genero del videojuego del cual se realiza la review"
      ]
    },
    {
      "cell_type": "code",
      "metadata": {
        "id": "Uc52ixIzHJnO"
      },
      "source": [
        "#Submuestra\n",
        "df_games = data_games.sample(frac=0.04)\n",
        "df_games.reset_index(drop=True, inplace=True)\n",
        "\n",
        "df_reviews = data_reviews.sample(frac=0.04)\n",
        "df_reviews.reset_index(drop=True, inplace=True)"
      ],
      "execution_count": 80,
      "outputs": []
    },
    {
      "cell_type": "code",
      "metadata": {
        "id": "h3tiocCbFcS1"
      },
      "source": [
        " #df_games['tags'] = df_games['tags'].fillna(' ')\n",
        " df_games['xtags'] = df_games['tags'].str.replace('[{}]'.format(string.punctuation), ' ')"
      ],
      "execution_count": 81,
      "outputs": []
    },
    {
      "cell_type": "code",
      "metadata": {
        "id": "gVtqQWAEI6uz"
      },
      "source": [
        "stopwords = nltk.corpus.stopwords.words('english')        #Defino las stopwords\n",
        "tfidf = TfidfVectorizer(stop_words=set(stopwords))        #Defino el modelo\n",
        "tfidf_matrix = tfidf.fit_transform(df_games['xtags'])   #Creo matriz"
      ],
      "execution_count": 82,
      "outputs": []
    },
    {
      "cell_type": "code",
      "metadata": {
        "id": "9FxV-paRI6lP"
      },
      "source": [
        "'''\n",
        "Matriz de comparación\n",
        "Compara las etiquetas de un video seleccionado con la lista anterior\n",
        "en busca de palabras similares\n",
        "'''\n",
        "cosine_sim = linear_kernel(tfidf_matrix, tfidf_matrix)"
      ],
      "execution_count": 83,
      "outputs": []
    },
    {
      "cell_type": "code",
      "metadata": {
        "id": "r0f5ugPhKZpO",
        "colab": {
          "base_uri": "https://localhost:8080/"
        },
        "outputId": "6a53f0ae-30d5-407f-d4b3-1ff0b75cc3fb"
      },
      "source": [
        "print(len(tfidf.vocabulary_))\n",
        "print(tfidf_matrix.shape)"
      ],
      "execution_count": 84,
      "outputs": [
        {
          "output_type": "stream",
          "text": [
            "324\n",
            "(1197, 324)\n"
          ],
          "name": "stdout"
        }
      ]
    },
    {
      "cell_type": "code",
      "metadata": {
        "id": "g69mWexmI6cG"
      },
      "source": [
        "indices = pd.Series(df_games.index, index=df_games['title']).drop_duplicates()"
      ],
      "execution_count": 85,
      "outputs": []
    },
    {
      "cell_type": "code",
      "metadata": {
        "id": "wkcB6kh1JRfy"
      },
      "source": [
        "def get_recomendation(title, cosine_sim=cosine_sim):\n",
        "    idx = indices[title]                                                        #Selecciona el titulo del videojuego                        \n",
        "    sim_scores = list(enumerate(cosine_sim[idx]))                               \n",
        "    sim_scores = sorted(sim_scores, key=lambda x: x[1], reverse=True)           #Ordena de mayor a menor las similitudes\n",
        "    sim_scores = sim_scores[1:6]                                                #Selecciona las primero 5 similitudes\n",
        "    games_indices = [i[0] for i in sim_scores]\n",
        "    return df_games['title'].iloc[games_indices]                                #Retorna el nombre de los videojuegos\n",
        "    for i in df_games['title']:\n",
        "      print (i)"
      ],
      "execution_count": 86,
      "outputs": []
    },
    {
      "cell_type": "code",
      "metadata": {
        "id": "ITQvf_gEQX3j"
      },
      "source": [
        "def recomendation():\n",
        "  '''\n",
        "  Se seleccionara un id de un videojuego al azar, simulando que el usuario ya selecciono\n",
        "  el videojuego que va jugar y escribir su reseña'''\n",
        "  ids  = np.random.randint(df_games.shape[0])                         #Obtiene una linea al azar\n",
        "  ids  = df_games.id.iloc[ids]                                        #Obtiene el id del videojuego seleccionado al azar\n",
        "  name = (df_games.loc[df_games['id'] == ids]['title']).iloc[0]       #Busca el nombre del id del videojuego \n",
        "  print('Usted ha jugado: {}'.format(name))\n",
        "  input('Ingrese su reseña: ')\n",
        "  print('\\nNuestras recomendaciones basadas en su ultima review:')\n",
        "  print(get_recomendation(name))"
      ],
      "execution_count": 87,
      "outputs": []
    },
    {
      "cell_type": "code",
      "metadata": {
        "id": "_d_FFYEgQXzp",
        "colab": {
          "base_uri": "https://localhost:8080/"
        },
        "outputId": "527bfef0-cdad-4abe-ae57-16c45c4651e9"
      },
      "source": [
        "recomendation()"
      ],
      "execution_count": 88,
      "outputs": [
        {
          "output_type": "stream",
          "text": [
            "Usted ha jugado: Making History: The Calm and the Storm Gold Edition Demo\n",
            "Ingrese su reseña: buen juego\n",
            "\n",
            "Nuestras recomendaciones basadas en su ultima review:\n",
            "317                                   Pizza Connection 2\n",
            "591    Omerta - City of Gangsters - The Arms Industry...\n",
            "803                     Field of Glory II: Immortal Fire\n",
            "824    Stronghold Crusader 2: The Emperor and The Hermit\n",
            "977    Making History: The Calm and the Storm Gold Ed...\n",
            "Name: title, dtype: string\n"
          ],
          "name": "stdout"
        }
      ]
    },
    {
      "cell_type": "markdown",
      "metadata": {
        "id": "qsLTEW4P-Qpw"
      },
      "source": [
        "# Investigacion"
      ]
    },
    {
      "cell_type": "markdown",
      "metadata": {
        "id": "VVrjpjLa-Tro"
      },
      "source": [
        "###Posibles mejoras:\n",
        "\n",
        "\n",
        "Dado que yo empleo la Libreria TextBlob para analizar la positividad de la review escrita, en busca de encontrar una calificación al videojuego. Obteniendo una polaridad del comentario negativo obtendrá  un valor cercano o igual a -1 , mientras una review positiva obtiene un valor cercano o igual a 1. Sin embargo, la review tendrá que ser muy positiva para que obtenga el valor de 1. Es decir el usuario necesita realizar una review que presente diversas palabras positivas para que TextBlob le asigne un valor igual a 1. Por lo que si un usuario no es muy expresivo y es muy concreto en su review, aunque, esta sea positiva, TextBlob no le asignará una calificación muy positiva. Ejemplo:\n"
      ]
    },
    {
      "cell_type": "code",
      "metadata": {
        "id": "y9SiVdGS-P5o"
      },
      "source": [
        "review = 'good game'\n",
        "TextBlob(review).polarity"
      ],
      "execution_count": null,
      "outputs": []
    },
    {
      "cell_type": "markdown",
      "metadata": {
        "id": "W83hWbKJCXkK"
      },
      "source": [
        "El usuario al no emplear muchas palabras positivas , esta no obtiene una calificación alta. Por lo que TextBlob depende mucho de la cantidad de palabras presentes para asignar una calificación.\n"
      ]
    },
    {
      "cell_type": "markdown",
      "metadata": {
        "id": "14G67xkvCkU2"
      },
      "source": [
        "Sin embargo `NaiveBayesClassifier` únicamente realiza una clasificación, si el comentario es positivo o negativo. Por lo que una vez se obtiene esta clasificación , se podría emplear LabelEncore para obtener una valor numérico, por ejemplo siendo 1 una review positiva y 0 una review negativa. La desventaja o no, es que `NaiveBayesClassifier` requiere una base de texto para su entrenamiento, en donde se especifiquen cuales frases son positivas o negativas. Por lo que , para la creación de esta base de datos se requiere de un previo estudio y clasificación de las review , con el fin de encontrar las frases mas repetitivas en el caso de que sean positivas o negativas, y pasarlas a la base de entrenamiento"
      ]
    },
    {
      "cell_type": "markdown",
      "metadata": {
        "id": "Vp_2__TuDu3R"
      },
      "source": [
        "### Para probar\n",
        "\n",
        "Me gustaria aplicar un sistema de aplicando los tres modelos presentados en el presente proyecto.\n",
        "Es decir:\n",
        "- Aplicar un modelo en donde el usuario ingrese la review del videojuego, analizando la positividad de la review, en donde al ser positiva se muestran 2 videojuegos con el promedio de review más alta, posteriormente se emplea el modelo SVD para realizar la predicción de calificación sobre el total de videojuegos y se obtendrán los 2 videojuegos más altos y por último se mostrarán 2 videojuegos que tengan el mismo género que el título jugado. Por lo que el usuario obtendrá una recomendación final de 6 títulos recomendados, basados en diferentes sistemas de recomendación.\n",
        "\n",
        "\n",
        "Otra idea para aplicar, sería emplear el modelo LogisticRegression, una vez que tengo la clasificación de la review en negativa o positiva como binario.Sin Embargo, existe la problemática en donde existe usuarios en donde solo han escrito una review y el modelo tendría demasiados errores, por lo que se emplea la información de los usuarios con mayor número de reviews como medida de disminuir los errores.\n",
        "\n",
        "\n"
      ]
    }
  ]
}