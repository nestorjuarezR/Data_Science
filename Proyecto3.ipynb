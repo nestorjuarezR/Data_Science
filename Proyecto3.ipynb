{
  "nbformat": 4,
  "nbformat_minor": 0,
  "metadata": {
    "colab": {
      "name": "Proyecto3.ipynb",
      "provenance": [],
      "collapsed_sections": [],
      "mount_file_id": "1ahp042009K1w10hHBr-g8pTtrlLzYwvK",
      "authorship_tag": "ABX9TyOUOKcWH9zY9WXYL8NYidtZ"
    },
    "kernelspec": {
      "name": "python3",
      "display_name": "Python 3"
    }
  },
  "cells": [
    {
      "cell_type": "code",
      "metadata": {
        "id": "Nd53xcCqKUpV",
        "colab": {
          "base_uri": "https://localhost:8080/"
        },
        "outputId": "fde3107c-b278-421f-8b2c-871c2e55e2bf"
      },
      "source": [
        "import numpy as np\n",
        "import pandas as pd\n",
        "import matplotlib.pyplot as plt\n",
        "import seaborn as sns\n",
        "sns.set()\n",
        "\n",
        "import string \n",
        "import datetime\n",
        "import gzip\n",
        "\n",
        "from textblob import TextBlob\n",
        "\n",
        "import nltk\n",
        "nltk.download('punkt')\n",
        "nltk.download('stopwords')\n",
        "from nltk.corpus import stopwords\n",
        "from sklearn.metrics.pairwise import linear_kernel\n",
        "from sklearn.feature_extraction.text import TfidfVectorizer\n",
        "\n",
        "import warnings\n",
        "warnings.filterwarnings('ignore')"
      ],
      "execution_count": 1,
      "outputs": [
        {
          "output_type": "stream",
          "text": [
            "[nltk_data] Downloading package punkt to /root/nltk_data...\n",
            "[nltk_data]   Package punkt is already up-to-date!\n",
            "[nltk_data] Downloading package stopwords to /root/nltk_data...\n",
            "[nltk_data]   Package stopwords is already up-to-date!\n"
          ],
          "name": "stdout"
        }
      ]
    },
    {
      "cell_type": "code",
      "metadata": {
        "colab": {
          "base_uri": "https://localhost:8080/"
        },
        "id": "QYVLd7rvIZDd",
        "outputId": "75f2e4d7-815e-4388-9b7a-0cd244038934"
      },
      "source": [
        "pip install scikit-surprise"
      ],
      "execution_count": 2,
      "outputs": [
        {
          "output_type": "stream",
          "text": [
            "Requirement already satisfied: scikit-surprise in /usr/local/lib/python3.6/dist-packages (1.1.1)\n",
            "Requirement already satisfied: joblib>=0.11 in /usr/local/lib/python3.6/dist-packages (from scikit-surprise) (0.17.0)\n",
            "Requirement already satisfied: numpy>=1.11.2 in /usr/local/lib/python3.6/dist-packages (from scikit-surprise) (1.18.5)\n",
            "Requirement already satisfied: scipy>=1.0.0 in /usr/local/lib/python3.6/dist-packages (from scikit-surprise) (1.4.1)\n",
            "Requirement already satisfied: six>=1.10.0 in /usr/local/lib/python3.6/dist-packages (from scikit-surprise) (1.15.0)\n"
          ],
          "name": "stdout"
        }
      ]
    },
    {
      "cell_type": "code",
      "metadata": {
        "id": "jpFaP4s0I7_Z"
      },
      "source": [
        "from surprise import Dataset\n",
        "from surprise import Reader\n",
        "from surprise.model_selection import train_test_split"
      ],
      "execution_count": 5,
      "outputs": []
    },
    {
      "cell_type": "code",
      "metadata": {
        "id": "TWj6Sw20SUT4"
      },
      "source": [
        "def parse(path):\n",
        "    g = gzip.open(path, 'r')\n",
        "    for l in g:\n",
        "        yield eval(l)"
      ],
      "execution_count": 4,
      "outputs": []
    },
    {
      "cell_type": "code",
      "metadata": {
        "id": "Gen3VCjxShx7"
      },
      "source": [
        "url_review = '/content/drive/My Drive/Data/steam_reviews.json.gz'"
      ],
      "execution_count": 6,
      "outputs": []
    },
    {
      "cell_type": "code",
      "metadata": {
        "id": "OjmirkGnSc2b"
      },
      "source": [
        "contador = 0\n",
        "data_reviews = []\n",
        "# Vamos a guardar una de cada 10 reviews para no llenar la memoria RAM. Si pones n = 3, \n",
        "# abrira uno de cada tres, y asi.\n",
        "n = 15\n",
        "for l in parse(url_review):\n",
        "    if contador%n == 0:\n",
        "        data_reviews.append(l)\n",
        "    else:\n",
        "        pass\n",
        "    contador += 1\n",
        "\n",
        "data_reviews = pd.DataFrame(data_reviews)"
      ],
      "execution_count": 7,
      "outputs": []
    },
    {
      "cell_type": "code",
      "metadata": {
        "id": "AZB5Tc-dzP8z"
      },
      "source": [
        "url_games = '/content/drive/My Drive/Data/steam_games.json.gz'"
      ],
      "execution_count": 8,
      "outputs": []
    },
    {
      "cell_type": "code",
      "metadata": {
        "id": "Tx6oE_jOzUfZ"
      },
      "source": [
        "data_games = []\n",
        "for l in parse(url_games):\n",
        "    data_games.append(l)\n",
        "data_games = pd.DataFrame(data_games)"
      ],
      "execution_count": 9,
      "outputs": []
    },
    {
      "cell_type": "markdown",
      "metadata": {
        "id": "G01Aoe_F09UB"
      },
      "source": [
        "https://towardsdatascience.com/steam-recommendation-systems-4358917288eb"
      ]
    },
    {
      "cell_type": "markdown",
      "metadata": {
        "id": "aY2fodU1akiM"
      },
      "source": [
        "# Parte A Exploración de datos"
      ]
    },
    {
      "cell_type": "markdown",
      "metadata": {
        "id": "wmhdnBAPelW3"
      },
      "source": [
        "## Reviews"
      ]
    },
    {
      "cell_type": "code",
      "metadata": {
        "id": "9bhA0PfxT_MB",
        "colab": {
          "base_uri": "https://localhost:8080/",
          "height": 261
        },
        "outputId": "f3edaee5-87a2-47c5-c3db-1475cafe02b0"
      },
      "source": [
        "data_reviews.head(4)"
      ],
      "execution_count": 10,
      "outputs": [
        {
          "output_type": "execute_result",
          "data": {
            "text/html": [
              "<div>\n",
              "<style scoped>\n",
              "    .dataframe tbody tr th:only-of-type {\n",
              "        vertical-align: middle;\n",
              "    }\n",
              "\n",
              "    .dataframe tbody tr th {\n",
              "        vertical-align: top;\n",
              "    }\n",
              "\n",
              "    .dataframe thead th {\n",
              "        text-align: right;\n",
              "    }\n",
              "</style>\n",
              "<table border=\"1\" class=\"dataframe\">\n",
              "  <thead>\n",
              "    <tr style=\"text-align: right;\">\n",
              "      <th></th>\n",
              "      <th>username</th>\n",
              "      <th>hours</th>\n",
              "      <th>products</th>\n",
              "      <th>product_id</th>\n",
              "      <th>page_order</th>\n",
              "      <th>date</th>\n",
              "      <th>text</th>\n",
              "      <th>early_access</th>\n",
              "      <th>page</th>\n",
              "      <th>user_id</th>\n",
              "      <th>compensation</th>\n",
              "      <th>found_funny</th>\n",
              "    </tr>\n",
              "  </thead>\n",
              "  <tbody>\n",
              "    <tr>\n",
              "      <th>0</th>\n",
              "      <td>Chaos Syren</td>\n",
              "      <td>0.1</td>\n",
              "      <td>41.0</td>\n",
              "      <td>725280</td>\n",
              "      <td>0</td>\n",
              "      <td>2017-12-17</td>\n",
              "      <td>This would not be acceptable as an entertainme...</td>\n",
              "      <td>False</td>\n",
              "      <td>1</td>\n",
              "      <td>NaN</td>\n",
              "      <td>NaN</td>\n",
              "      <td>NaN</td>\n",
              "    </tr>\n",
              "    <tr>\n",
              "      <th>1</th>\n",
              "      <td>Duha Nubie</td>\n",
              "      <td>11.3</td>\n",
              "      <td>73.0</td>\n",
              "      <td>35140</td>\n",
              "      <td>4</td>\n",
              "      <td>2018-01-03</td>\n",
              "      <td>first debut feel sweet</td>\n",
              "      <td>False</td>\n",
              "      <td>1</td>\n",
              "      <td>NaN</td>\n",
              "      <td>NaN</td>\n",
              "      <td>NaN</td>\n",
              "    </tr>\n",
              "    <tr>\n",
              "      <th>2</th>\n",
              "      <td>The_Cpt_FROGGY</td>\n",
              "      <td>7.8</td>\n",
              "      <td>2217.0</td>\n",
              "      <td>631920</td>\n",
              "      <td>0</td>\n",
              "      <td>2017-12-11</td>\n",
              "      <td>Somewhere on Zibylon:\\n~~~~~~~~~~~~~~~~~~\\nZib...</td>\n",
              "      <td>False</td>\n",
              "      <td>1</td>\n",
              "      <td>76561198003030375</td>\n",
              "      <td>Product received for free</td>\n",
              "      <td>NaN</td>\n",
              "    </tr>\n",
              "    <tr>\n",
              "      <th>3</th>\n",
              "      <td>S0YxSauCe</td>\n",
              "      <td>0.3</td>\n",
              "      <td>902.0</td>\n",
              "      <td>671270</td>\n",
              "      <td>4</td>\n",
              "      <td>2017-07-10</td>\n",
              "      <td>Easy game. All you have to do is put the hat t...</td>\n",
              "      <td>False</td>\n",
              "      <td>1</td>\n",
              "      <td>NaN</td>\n",
              "      <td>NaN</td>\n",
              "      <td>NaN</td>\n",
              "    </tr>\n",
              "  </tbody>\n",
              "</table>\n",
              "</div>"
            ],
            "text/plain": [
              "         username  hours  ...               compensation found_funny\n",
              "0     Chaos Syren    0.1  ...                        NaN         NaN\n",
              "1      Duha Nubie   11.3  ...                        NaN         NaN\n",
              "2  The_Cpt_FROGGY    7.8  ...  Product received for free         NaN\n",
              "3       S0YxSauCe    0.3  ...                        NaN         NaN\n",
              "\n",
              "[4 rows x 12 columns]"
            ]
          },
          "metadata": {
            "tags": []
          },
          "execution_count": 10
        }
      ]
    },
    {
      "cell_type": "code",
      "metadata": {
        "id": "I0huyNX7UB3E",
        "colab": {
          "base_uri": "https://localhost:8080/"
        },
        "outputId": "345da0d3-fb8c-469d-995d-b65436765259"
      },
      "source": [
        "data_reviews.shape"
      ],
      "execution_count": 11,
      "outputs": [
        {
          "output_type": "execute_result",
          "data": {
            "text/plain": [
              "(519538, 12)"
            ]
          },
          "metadata": {
            "tags": []
          },
          "execution_count": 11
        }
      ]
    },
    {
      "cell_type": "code",
      "metadata": {
        "colab": {
          "base_uri": "https://localhost:8080/"
        },
        "id": "NrmIuwWVvFeN",
        "outputId": "4e6e9950-fe61-42fd-8df0-8e3c055301fe"
      },
      "source": [
        "data_reviews.dtypes"
      ],
      "execution_count": 12,
      "outputs": [
        {
          "output_type": "execute_result",
          "data": {
            "text/plain": [
              "username         object\n",
              "hours           float64\n",
              "products        float64\n",
              "product_id       object\n",
              "page_order        int64\n",
              "date             object\n",
              "text             object\n",
              "early_access       bool\n",
              "page              int64\n",
              "user_id          object\n",
              "compensation     object\n",
              "found_funny     float64\n",
              "dtype: object"
            ]
          },
          "metadata": {
            "tags": []
          },
          "execution_count": 12
        }
      ]
    },
    {
      "cell_type": "code",
      "metadata": {
        "id": "Ceo8n9KuQN51"
      },
      "source": [
        "#Elimino columnas\n",
        "data_reviews.drop(['page_order', 'page',\n",
        "                   'early_access', 'compensation', 'found_funny',\n",
        "                   'products', 'user_id'],\n",
        "                   axis=1, inplace=True)"
      ],
      "execution_count": 13,
      "outputs": []
    },
    {
      "cell_type": "code",
      "metadata": {
        "id": "InmydCcPk_7_"
      },
      "source": [
        "def valores_nulos(data):\n",
        "  print('<-- Porcentaje de valores nulos -->\\n')\n",
        "  print(data.isnull().sum() / data.shape[0] * 100)"
      ],
      "execution_count": 14,
      "outputs": []
    },
    {
      "cell_type": "code",
      "metadata": {
        "colab": {
          "base_uri": "https://localhost:8080/"
        },
        "id": "BmYKavKGkV-2",
        "outputId": "3918d3ba-f584-47d8-bf35-d3d5c3aa0e17"
      },
      "source": [
        "valores_nulos(data_reviews)"
      ],
      "execution_count": 15,
      "outputs": [
        {
          "output_type": "stream",
          "text": [
            "<-- Porcentaje de valores nulos -->\n",
            "\n",
            "username      0.000000\n",
            "hours         0.338763\n",
            "product_id    0.000000\n",
            "date          0.000000\n",
            "text          0.000000\n",
            "dtype: float64\n"
          ],
          "name": "stdout"
        }
      ]
    },
    {
      "cell_type": "code",
      "metadata": {
        "colab": {
          "base_uri": "https://localhost:8080/"
        },
        "id": "5qrj2_lIg3-h",
        "outputId": "00397592-68be-4866-ac0d-a91edef1e571"
      },
      "source": [
        "print('Un total de {} usuarios realizaron reviews de videojuegos'.format(len(data_reviews.username.unique())))"
      ],
      "execution_count": 16,
      "outputs": [
        {
          "output_type": "stream",
          "text": [
            "Un total de 388028 usuarios realizaron reviews de videojuegos\n"
          ],
          "name": "stdout"
        }
      ]
    },
    {
      "cell_type": "code",
      "metadata": {
        "colab": {
          "base_uri": "https://localhost:8080/"
        },
        "id": "JCpaEURihzUb",
        "outputId": "985db976-525d-414f-f7fb-02bc6074a625"
      },
      "source": [
        "print(\"<-- Top 10 de Usuarios con mas reviews -->\")\n",
        "data_reviews.username.value_counts().head(10)"
      ],
      "execution_count": 17,
      "outputs": [
        {
          "output_type": "stream",
          "text": [
            "<-- Top 10 de Usuarios con mas reviews -->\n"
          ],
          "name": "stdout"
        },
        {
          "output_type": "execute_result",
          "data": {
            "text/plain": [
              "Alex           135\n",
              "123            123\n",
              "Nick           103\n",
              "Jack           100\n",
              "Chris           93\n",
              "Matt            83\n",
              "Dan             83\n",
              "Sam             82\n",
              "Saint Aaron     76\n",
              "Kodyd194        73\n",
              "Name: username, dtype: int64"
            ]
          },
          "metadata": {
            "tags": []
          },
          "execution_count": 17
        }
      ]
    },
    {
      "cell_type": "code",
      "metadata": {
        "colab": {
          "base_uri": "https://localhost:8080/"
        },
        "id": "u1v3nVlKX0M5",
        "outputId": "729db401-9316-4848-c4c7-4753efdc9ac9"
      },
      "source": [
        "print('<-- Top 10 Videojuegos con mas reviews -->\\n ')\n",
        "top_games = data_reviews.product_id.value_counts().head(10)\n",
        "i = 0\n",
        "while i <= 9:\n",
        "  ids = top_games.index[i]\n",
        "  ids = data_games[data_games['id'] == ids]\n",
        "  print('-->', ids.title.iloc[0])\n",
        "  i = i + 1"
      ],
      "execution_count": 18,
      "outputs": [
        {
          "output_type": "stream",
          "text": [
            "<-- Top 10 Videojuegos con mas reviews -->\n",
            " \n",
            "--> Team Fortress 2\n",
            "--> Rust\n",
            "--> Borderlands 2\n",
            "--> Fallout 4\n",
            "--> Grand Theft Auto V\n",
            "--> Portal 2\n",
            "--> Undertale\n",
            "--> DayZ\n",
            "--> Warframe\n",
            "--> Life is Strange - Episode 1\n"
          ],
          "name": "stdout"
        }
      ]
    },
    {
      "cell_type": "code",
      "metadata": {
        "id": "yQIl450l2P7j"
      },
      "source": [
        "#Convertir a string columnas\n",
        "columnas = ['username', 'text']\n",
        "for i in columnas:\n",
        "  data_reviews[i] = data_reviews[i].astype('string')\n",
        "\n",
        "#Convertir a int64 columna product_id\n",
        "data_reviews['product_id'] = data_reviews['product_id'].astype('int64')"
      ],
      "execution_count": 19,
      "outputs": []
    },
    {
      "cell_type": "code",
      "metadata": {
        "id": "oXOJM_rJuDJ5"
      },
      "source": [
        "#Conversion a tipo datetime64\n",
        "data_reviews['Fecha'] = pd.to_datetime(data_reviews['date'])\n",
        "data_reviews['Year'] = data_reviews['Fecha'].dt.year            #Nueva columna con el año del review\n",
        "data_reviews['month'] = data_reviews['Fecha'].dt.month          #Nueva columna con el mes del review"
      ],
      "execution_count": 20,
      "outputs": []
    },
    {
      "cell_type": "code",
      "metadata": {
        "colab": {
          "base_uri": "https://localhost:8080/",
          "height": 359
        },
        "id": "TQvgT4FsxHoi",
        "outputId": "5c4ee744-bf38-4cb6-92b6-9c8b2c9b6493"
      },
      "source": [
        "year_review = data_reviews.groupby(['Year']).count()\n",
        "year_review"
      ],
      "execution_count": 21,
      "outputs": [
        {
          "output_type": "execute_result",
          "data": {
            "text/html": [
              "<div>\n",
              "<style scoped>\n",
              "    .dataframe tbody tr th:only-of-type {\n",
              "        vertical-align: middle;\n",
              "    }\n",
              "\n",
              "    .dataframe tbody tr th {\n",
              "        vertical-align: top;\n",
              "    }\n",
              "\n",
              "    .dataframe thead th {\n",
              "        text-align: right;\n",
              "    }\n",
              "</style>\n",
              "<table border=\"1\" class=\"dataframe\">\n",
              "  <thead>\n",
              "    <tr style=\"text-align: right;\">\n",
              "      <th></th>\n",
              "      <th>username</th>\n",
              "      <th>hours</th>\n",
              "      <th>product_id</th>\n",
              "      <th>date</th>\n",
              "      <th>text</th>\n",
              "      <th>Fecha</th>\n",
              "      <th>month</th>\n",
              "    </tr>\n",
              "    <tr>\n",
              "      <th>Year</th>\n",
              "      <th></th>\n",
              "      <th></th>\n",
              "      <th></th>\n",
              "      <th></th>\n",
              "      <th></th>\n",
              "      <th></th>\n",
              "      <th></th>\n",
              "    </tr>\n",
              "  </thead>\n",
              "  <tbody>\n",
              "    <tr>\n",
              "      <th>2010</th>\n",
              "      <td>850</td>\n",
              "      <td>825</td>\n",
              "      <td>850</td>\n",
              "      <td>850</td>\n",
              "      <td>850</td>\n",
              "      <td>850</td>\n",
              "      <td>850</td>\n",
              "    </tr>\n",
              "    <tr>\n",
              "      <th>2011</th>\n",
              "      <td>4983</td>\n",
              "      <td>4857</td>\n",
              "      <td>4983</td>\n",
              "      <td>4983</td>\n",
              "      <td>4983</td>\n",
              "      <td>4983</td>\n",
              "      <td>4983</td>\n",
              "    </tr>\n",
              "    <tr>\n",
              "      <th>2012</th>\n",
              "      <td>6721</td>\n",
              "      <td>6594</td>\n",
              "      <td>6721</td>\n",
              "      <td>6721</td>\n",
              "      <td>6721</td>\n",
              "      <td>6721</td>\n",
              "      <td>6721</td>\n",
              "    </tr>\n",
              "    <tr>\n",
              "      <th>2013</th>\n",
              "      <td>21887</td>\n",
              "      <td>21702</td>\n",
              "      <td>21887</td>\n",
              "      <td>21887</td>\n",
              "      <td>21887</td>\n",
              "      <td>21887</td>\n",
              "      <td>21887</td>\n",
              "    </tr>\n",
              "    <tr>\n",
              "      <th>2014</th>\n",
              "      <td>78862</td>\n",
              "      <td>78861</td>\n",
              "      <td>78862</td>\n",
              "      <td>78862</td>\n",
              "      <td>78862</td>\n",
              "      <td>78862</td>\n",
              "      <td>78862</td>\n",
              "    </tr>\n",
              "    <tr>\n",
              "      <th>2015</th>\n",
              "      <td>105251</td>\n",
              "      <td>104526</td>\n",
              "      <td>105251</td>\n",
              "      <td>105251</td>\n",
              "      <td>105251</td>\n",
              "      <td>105251</td>\n",
              "      <td>105251</td>\n",
              "    </tr>\n",
              "    <tr>\n",
              "      <th>2016</th>\n",
              "      <td>136073</td>\n",
              "      <td>135693</td>\n",
              "      <td>136073</td>\n",
              "      <td>136073</td>\n",
              "      <td>136073</td>\n",
              "      <td>136073</td>\n",
              "      <td>136073</td>\n",
              "    </tr>\n",
              "    <tr>\n",
              "      <th>2017</th>\n",
              "      <td>161474</td>\n",
              "      <td>161290</td>\n",
              "      <td>161474</td>\n",
              "      <td>161474</td>\n",
              "      <td>161474</td>\n",
              "      <td>161474</td>\n",
              "      <td>161474</td>\n",
              "    </tr>\n",
              "    <tr>\n",
              "      <th>2018</th>\n",
              "      <td>3437</td>\n",
              "      <td>3430</td>\n",
              "      <td>3437</td>\n",
              "      <td>3437</td>\n",
              "      <td>3437</td>\n",
              "      <td>3437</td>\n",
              "      <td>3437</td>\n",
              "    </tr>\n",
              "  </tbody>\n",
              "</table>\n",
              "</div>"
            ],
            "text/plain": [
              "      username   hours  product_id    date    text   Fecha   month\n",
              "Year                                                              \n",
              "2010       850     825         850     850     850     850     850\n",
              "2011      4983    4857        4983    4983    4983    4983    4983\n",
              "2012      6721    6594        6721    6721    6721    6721    6721\n",
              "2013     21887   21702       21887   21887   21887   21887   21887\n",
              "2014     78862   78861       78862   78862   78862   78862   78862\n",
              "2015    105251  104526      105251  105251  105251  105251  105251\n",
              "2016    136073  135693      136073  136073  136073  136073  136073\n",
              "2017    161474  161290      161474  161474  161474  161474  161474\n",
              "2018      3437    3430        3437    3437    3437    3437    3437"
            ]
          },
          "metadata": {
            "tags": []
          },
          "execution_count": 21
        }
      ]
    },
    {
      "cell_type": "code",
      "metadata": {
        "colab": {
          "base_uri": "https://localhost:8080/",
          "height": 318
        },
        "id": "aBi9pdeTxlmo",
        "outputId": "430cbf64-b009-4a07-bab7-90666e987e29"
      },
      "source": [
        "plt.title('Horas acumuladas de juego por año')\n",
        "sns.barplot(x = year_review.index,\n",
        "            y=year_review.hours)"
      ],
      "execution_count": 22,
      "outputs": [
        {
          "output_type": "execute_result",
          "data": {
            "text/plain": [
              "<matplotlib.axes._subplots.AxesSubplot at 0x7f9f2c936f60>"
            ]
          },
          "metadata": {
            "tags": []
          },
          "execution_count": 22
        },
        {
          "output_type": "display_data",
          "data": {
            "image/png": "[encoded data removed]",
            "text/plain": [
              "<Figure size 432x288 with 1 Axes>"
            ]
          },
          "metadata": {
            "tags": [],
            "needs_background": "light"
          }
        }
      ]
    },
    {
      "cell_type": "code",
      "metadata": {
        "id": "Erf3a2D7eBpB"
      },
      "source": [
        "months_2017 = data_reviews[data_reviews['Year'] == 2017].groupby(['month']).count()"
      ],
      "execution_count": 23,
      "outputs": []
    },
    {
      "cell_type": "code",
      "metadata": {
        "colab": {
          "base_uri": "https://localhost:8080/",
          "height": 318
        },
        "id": "04apRl5ltueZ",
        "outputId": "d0dfef39-733d-4418-f7e9-b80879f3af2e"
      },
      "source": [
        "plt.title('Horas acumuladas de juego por mes del 2017')\n",
        "sns.barplot(x= months_2017.index,\n",
        "            y=months_2017.hours)"
      ],
      "execution_count": 24,
      "outputs": [
        {
          "output_type": "execute_result",
          "data": {
            "text/plain": [
              "<matplotlib.axes._subplots.AxesSubplot at 0x7f9f2b55b278>"
            ]
          },
          "metadata": {
            "tags": []
          },
          "execution_count": 24
        },
        {
          "output_type": "display_data",
          "data": {
            "image/png": "[encoded data removed]",
            "text/plain": [
              "<Figure size 432x288 with 1 Axes>"
            ]
          },
          "metadata": {
            "tags": [],
            "needs_background": "light"
          }
        }
      ]
    },
    {
      "cell_type": "markdown",
      "metadata": {
        "id": "QsCmiyPeCZv8"
      },
      "source": [
        " ## Info Games"
      ]
    },
    {
      "cell_type": "code",
      "metadata": {
        "colab": {
          "base_uri": "https://localhost:8080/"
        },
        "id": "pMzdad6Jv-AS",
        "outputId": "d34e5166-286e-4232-dfbe-cb5dd65f647f"
      },
      "source": [
        "data_games.shape"
      ],
      "execution_count": 25,
      "outputs": [
        {
          "output_type": "execute_result",
          "data": {
            "text/plain": [
              "(32135, 16)"
            ]
          },
          "metadata": {
            "tags": []
          },
          "execution_count": 25
        }
      ]
    },
    {
      "cell_type": "code",
      "metadata": {
        "colab": {
          "base_uri": "https://localhost:8080/"
        },
        "id": "JhKrNmdxeT7F",
        "outputId": "6775bdf4-567f-40de-dc9d-ff96dd5e612c"
      },
      "source": [
        "data_games.dtypes"
      ],
      "execution_count": 26,
      "outputs": [
        {
          "output_type": "execute_result",
          "data": {
            "text/plain": [
              "publisher          object\n",
              "genres             object\n",
              "app_name           object\n",
              "title              object\n",
              "url                object\n",
              "release_date       object\n",
              "tags               object\n",
              "discount_price    float64\n",
              "reviews_url        object\n",
              "specs              object\n",
              "price              object\n",
              "early_access         bool\n",
              "id                 object\n",
              "developer          object\n",
              "sentiment          object\n",
              "metascore          object\n",
              "dtype: object"
            ]
          },
          "metadata": {
            "tags": []
          },
          "execution_count": 26
        }
      ]
    },
    {
      "cell_type": "code",
      "metadata": {
        "id": "bsL6I3a2xuGq"
      },
      "source": [
        "data_games.drop(['reviews_url', 'url', \n",
        "                 'early_access', 'discount_price', \n",
        "                 'app_name', 'release_date',\n",
        "                 'discount_price', 'specs', \n",
        "                 'sentiment', 'metascore'],\n",
        "                axis=1,\n",
        "                inplace=True)"
      ],
      "execution_count": 27,
      "outputs": []
    },
    {
      "cell_type": "code",
      "metadata": {
        "id": "ZoCsEMCBUD-_",
        "colab": {
          "base_uri": "https://localhost:8080/",
          "height": 111
        },
        "outputId": "0b9a39cc-ae37-4d3e-960f-d0a75cd14b9a"
      },
      "source": [
        "data_games.head(2)"
      ],
      "execution_count": 28,
      "outputs": [
        {
          "output_type": "execute_result",
          "data": {
            "text/html": [
              "<div>\n",
              "<style scoped>\n",
              "    .dataframe tbody tr th:only-of-type {\n",
              "        vertical-align: middle;\n",
              "    }\n",
              "\n",
              "    .dataframe tbody tr th {\n",
              "        vertical-align: top;\n",
              "    }\n",
              "\n",
              "    .dataframe thead th {\n",
              "        text-align: right;\n",
              "    }\n",
              "</style>\n",
              "<table border=\"1\" class=\"dataframe\">\n",
              "  <thead>\n",
              "    <tr style=\"text-align: right;\">\n",
              "      <th></th>\n",
              "      <th>publisher</th>\n",
              "      <th>genres</th>\n",
              "      <th>title</th>\n",
              "      <th>tags</th>\n",
              "      <th>price</th>\n",
              "      <th>id</th>\n",
              "      <th>developer</th>\n",
              "    </tr>\n",
              "  </thead>\n",
              "  <tbody>\n",
              "    <tr>\n",
              "      <th>0</th>\n",
              "      <td>Kotoshiro</td>\n",
              "      <td>[Action, Casual, Indie, Simulation, Strategy]</td>\n",
              "      <td>Lost Summoner Kitty</td>\n",
              "      <td>[Strategy, Action, Indie, Casual, Simulation]</td>\n",
              "      <td>4.99</td>\n",
              "      <td>761140</td>\n",
              "      <td>Kotoshiro</td>\n",
              "    </tr>\n",
              "    <tr>\n",
              "      <th>1</th>\n",
              "      <td>Making Fun, Inc.</td>\n",
              "      <td>[Free to Play, Indie, RPG, Strategy]</td>\n",
              "      <td>Ironbound</td>\n",
              "      <td>[Free to Play, Strategy, Indie, RPG, Card Game...</td>\n",
              "      <td>Free To Play</td>\n",
              "      <td>643980</td>\n",
              "      <td>Secret Level SRL</td>\n",
              "    </tr>\n",
              "  </tbody>\n",
              "</table>\n",
              "</div>"
            ],
            "text/plain": [
              "          publisher  ...         developer\n",
              "0         Kotoshiro  ...         Kotoshiro\n",
              "1  Making Fun, Inc.  ...  Secret Level SRL\n",
              "\n",
              "[2 rows x 7 columns]"
            ]
          },
          "metadata": {
            "tags": []
          },
          "execution_count": 28
        }
      ]
    },
    {
      "cell_type": "code",
      "metadata": {
        "id": "Oubg_dOKYH3K",
        "colab": {
          "base_uri": "https://localhost:8080/"
        },
        "outputId": "18aa0c82-bb7d-47b1-bb91-dc0b4326fb68"
      },
      "source": [
        "data_games.shape"
      ],
      "execution_count": 29,
      "outputs": [
        {
          "output_type": "execute_result",
          "data": {
            "text/plain": [
              "(32135, 7)"
            ]
          },
          "metadata": {
            "tags": []
          },
          "execution_count": 29
        }
      ]
    },
    {
      "cell_type": "code",
      "metadata": {
        "id": "BIR5ibKqYNr6",
        "colab": {
          "base_uri": "https://localhost:8080/"
        },
        "outputId": "bfa5bf25-e4b5-4e46-9aa5-143f3eecb7d7"
      },
      "source": [
        "valores_nulos(data_games)"
      ],
      "execution_count": 30,
      "outputs": [
        {
          "output_type": "stream",
          "text": [
            "<-- Porcentaje de valores nulos -->\n",
            "\n",
            "publisher    25.056792\n",
            "genres       10.216275\n",
            "title         6.379337\n",
            "tags          0.507235\n",
            "price         4.285047\n",
            "id            0.006224\n",
            "developer    10.266065\n",
            "dtype: float64\n"
          ],
          "name": "stdout"
        }
      ]
    },
    {
      "cell_type": "code",
      "metadata": {
        "colab": {
          "base_uri": "https://localhost:8080/"
        },
        "id": "I4os0Wvfw5oP",
        "outputId": "185fa3d2-8648-4737-d95b-5de3e11ba4a7"
      },
      "source": [
        "print('<-- Desarrolladores con mas videojuegos registrados -->\\n')\n",
        "data_games.developer.value_counts().head(10)"
      ],
      "execution_count": 31,
      "outputs": [
        {
          "output_type": "stream",
          "text": [
            "<-- Desarrolladores con mas videojuegos registrados -->\n",
            "\n"
          ],
          "name": "stdout"
        },
        {
          "output_type": "execute_result",
          "data": {
            "text/plain": [
              "Ubisoft - San Francisco       1259\n",
              "SmiteWorks USA, LLC            813\n",
              "Dovetail Games                 253\n",
              "KOEI TECMO GAMES CO., LTD.     232\n",
              "Paradox Development Studio     156\n",
              "Capcom                         130\n",
              "Ronimo Games                   123\n",
              "Choice of Games                100\n",
              "Musopia                         95\n",
              "Stainless Games                 95\n",
              "Name: developer, dtype: int64"
            ]
          },
          "metadata": {
            "tags": []
          },
          "execution_count": 31
        }
      ]
    },
    {
      "cell_type": "code",
      "metadata": {
        "colab": {
          "base_uri": "https://localhost:8080/",
          "height": 318
        },
        "id": "Aqd3nCrUw07Y",
        "outputId": "6da3b40d-e78b-4d11-eb41-710e1c0c7147"
      },
      "source": [
        "price_games = data_games.price.value_counts().head(10)\n",
        "sns.barplot(x=price_games.index[0:],\n",
        "            y=price_games)\n",
        "plt.title('Precio mas frecuente de Videojuegos registrados')\n",
        "plt.xlabel('Precio')\n",
        "plt.ylabel('Frecuencia')"
      ],
      "execution_count": 32,
      "outputs": [
        {
          "output_type": "execute_result",
          "data": {
            "text/plain": [
              "Text(0, 0.5, 'Frecuencia')"
            ]
          },
          "metadata": {
            "tags": []
          },
          "execution_count": 32
        },
        {
          "output_type": "display_data",
          "data": {
            "image/png": "[encoded data removed]",
            "text/plain": [
              "<Figure size 432x288 with 1 Axes>"
            ]
          },
          "metadata": {
            "tags": [],
            "needs_background": "light"
          }
        }
      ]
    },
    {
      "cell_type": "markdown",
      "metadata": {
        "id": "CMe20pePIieb"
      },
      "source": [
        "# EDA"
      ]
    },
    {
      "cell_type": "code",
      "metadata": {
        "colab": {
          "base_uri": "https://localhost:8080/"
        },
        "id": "7OQRmx1PFTuI",
        "outputId": "a913e5e8-1055-4b89-bb4a-262c347cff8f"
      },
      "source": [
        "valores_nulos(data_games)"
      ],
      "execution_count": 33,
      "outputs": [
        {
          "output_type": "stream",
          "text": [
            "<-- Porcentaje de valores nulos -->\n",
            "\n",
            "publisher    25.056792\n",
            "genres       10.216275\n",
            "title         6.379337\n",
            "tags          0.507235\n",
            "price         4.285047\n",
            "id            0.006224\n",
            "developer    10.266065\n",
            "dtype: float64\n"
          ],
          "name": "stdout"
        }
      ]
    },
    {
      "cell_type": "code",
      "metadata": {
        "id": "1MQ94t7NFP1x"
      },
      "source": [
        "#Elimino valore nulos en data_games\n",
        "data_games.dropna(subset=['tags', 'id', 'title'], axis=0, inplace=True)"
      ],
      "execution_count": 34,
      "outputs": []
    },
    {
      "cell_type": "code",
      "metadata": {
        "id": "Md4E5z1263-A"
      },
      "source": [
        "#Convertir a string\n",
        "data_games['genres'] = data_games['genres'].astype('string')\n",
        "data_games['tags'] = data_games['tags'].astype('string')"
      ],
      "execution_count": 35,
      "outputs": []
    },
    {
      "cell_type": "code",
      "metadata": {
        "id": "znuifCP19tjQ"
      },
      "source": [
        "#Convertir a int\n",
        "data_reviews['product_id'] = data_reviews['product_id'].astype(int)\n",
        "data_games['id'] = data_games['id'].astype(int)"
      ],
      "execution_count": 36,
      "outputs": []
    },
    {
      "cell_type": "code",
      "metadata": {
        "id": "Uc52ixIzHJnO"
      },
      "source": [
        "#Submuestra\n",
        "df_games = data_games.sample(frac=0.04)\n",
        "df_games.reset_index(drop=True, inplace=True)\n",
        "\n",
        "df_reviews = data_reviews.sample(frac=0.04)\n",
        "df_reviews.reset_index(drop=True, inplace=True)"
      ],
      "execution_count": 38,
      "outputs": []
    },
    {
      "cell_type": "code",
      "metadata": {
        "id": "h3tiocCbFcS1"
      },
      "source": [
        " #df_games['tags'] = df_games['tags'].fillna(' ')\n",
        " df_games['xtags'] = df_games['tags'].str.replace('[{}]'.format(string.punctuation), ' ')"
      ],
      "execution_count": 39,
      "outputs": []
    },
    {
      "cell_type": "code",
      "metadata": {
        "colab": {
          "base_uri": "https://localhost:8080/",
          "height": 145
        },
        "id": "Xspj6r5WFpbd",
        "outputId": "317e46dc-23c7-4d26-8c28-db6803593e76"
      },
      "source": [
        "df_games.head(2)"
      ],
      "execution_count": 40,
      "outputs": [
        {
          "output_type": "execute_result",
          "data": {
            "text/html": [
              "<div>\n",
              "<style scoped>\n",
              "    .dataframe tbody tr th:only-of-type {\n",
              "        vertical-align: middle;\n",
              "    }\n",
              "\n",
              "    .dataframe tbody tr th {\n",
              "        vertical-align: top;\n",
              "    }\n",
              "\n",
              "    .dataframe thead th {\n",
              "        text-align: right;\n",
              "    }\n",
              "</style>\n",
              "<table border=\"1\" class=\"dataframe\">\n",
              "  <thead>\n",
              "    <tr style=\"text-align: right;\">\n",
              "      <th></th>\n",
              "      <th>publisher</th>\n",
              "      <th>genres</th>\n",
              "      <th>title</th>\n",
              "      <th>tags</th>\n",
              "      <th>price</th>\n",
              "      <th>id</th>\n",
              "      <th>developer</th>\n",
              "      <th>xtags</th>\n",
              "    </tr>\n",
              "  </thead>\n",
              "  <tbody>\n",
              "    <tr>\n",
              "      <th>0</th>\n",
              "      <td>Vladimir Slav, Coldwild Games</td>\n",
              "      <td>['Casual', 'Indie', 'Strategy']</td>\n",
              "      <td>Blades of the Righteous</td>\n",
              "      <td>['Indie', 'Casual', 'Strategy', 'Turn-Based Co...</td>\n",
              "      <td>2.99</td>\n",
              "      <td>421140</td>\n",
              "      <td>Vladimir Slav,Coldwild Games</td>\n",
              "      <td>Indie    Casual    Strategy    Turn Based Co...</td>\n",
              "    </tr>\n",
              "    <tr>\n",
              "      <th>1</th>\n",
              "      <td>Krome Studios</td>\n",
              "      <td>['Action', 'Adventure', 'Indie']</td>\n",
              "      <td>TY the Tasmanian Tiger</td>\n",
              "      <td>['Adventure', '3D Platformer', 'Action', 'Clas...</td>\n",
              "      <td>14.99</td>\n",
              "      <td>411960</td>\n",
              "      <td>Krome Studios</td>\n",
              "      <td>Adventure    3D Platformer    Action    Clas...</td>\n",
              "    </tr>\n",
              "  </tbody>\n",
              "</table>\n",
              "</div>"
            ],
            "text/plain": [
              "                       publisher  ...                                              xtags\n",
              "0  Vladimir Slav, Coldwild Games  ...    Indie    Casual    Strategy    Turn Based Co...\n",
              "1                  Krome Studios  ...    Adventure    3D Platformer    Action    Clas...\n",
              "\n",
              "[2 rows x 8 columns]"
            ]
          },
          "metadata": {
            "tags": []
          },
          "execution_count": 40
        }
      ]
    },
    {
      "cell_type": "markdown",
      "metadata": {
        "id": "AkWD-SpnJrPz"
      },
      "source": [
        "# Recomendaciones"
      ]
    },
    {
      "cell_type": "code",
      "metadata": {
        "id": "gVtqQWAEI6uz"
      },
      "source": [
        "stopwords = nltk.corpus.stopwords.words('english')        #Defino las stopwords\n",
        "tfidf = TfidfVectorizer(stop_words=set(stopwords))        #Defino el modelo\n",
        "tfidf_matrix = tfidf.fit_transform(df_games['xtags'])   #Creo matriz"
      ],
      "execution_count": null,
      "outputs": []
    },
    {
      "cell_type": "code",
      "metadata": {
        "id": "9FxV-paRI6lP"
      },
      "source": [
        "'''\n",
        "Matriz de comparación\n",
        "Compara las etiquetas de un video seleccionado con la lista anterior\n",
        "en busca de palabras similares\n",
        "'''\n",
        "cosine_sim = linear_kernel(tfidf_matrix, tfidf_matrix)"
      ],
      "execution_count": null,
      "outputs": []
    },
    {
      "cell_type": "code",
      "metadata": {
        "colab": {
          "base_uri": "https://localhost:8080/"
        },
        "id": "r0f5ugPhKZpO",
        "outputId": "89cbd9e8-cb70-467d-f541-8295cf3448e6"
      },
      "source": [
        "print(len(tfidf.vocabulary_))\n",
        "print(tfidf_matrix.shape)"
      ],
      "execution_count": null,
      "outputs": [
        {
          "output_type": "stream",
          "text": [
            "335\n",
            "(1197, 335)\n"
          ],
          "name": "stdout"
        }
      ]
    },
    {
      "cell_type": "code",
      "metadata": {
        "id": "g69mWexmI6cG"
      },
      "source": [
        "indices = pd.Series(df_games.index, index=df_games['title']).drop_duplicates()"
      ],
      "execution_count": null,
      "outputs": []
    },
    {
      "cell_type": "code",
      "metadata": {
        "id": "wkcB6kh1JRfy"
      },
      "source": [
        "def get_recomendation(title, cosine_sim=cosine_sim):\n",
        "    idx = indices[title]                                                        #Selecciona el titulo del videojuego                        \n",
        "    sim_scores = list(enumerate(cosine_sim[idx]))                               \n",
        "    sim_scores = sorted(sim_scores, key=lambda x: x[1], reverse=True)           #Ordena de mayor a menor las similitudes\n",
        "    sim_scores = sim_scores[1:6]                                                #Selecciona las primero 5 similitudes\n",
        "    games_indices = [i[0] for i in sim_scores]\n",
        "    return df_games['title'].iloc[games_indices]                                #Retorna el nombre de los videojuegos"
      ],
      "execution_count": null,
      "outputs": []
    },
    {
      "cell_type": "code",
      "metadata": {
        "id": "ITQvf_gEQX3j"
      },
      "source": [
        "def recomendation():\n",
        "  '''\n",
        "  Se seleccionara un id de un videojuego al azar, simulando que el usuario ya selecciono\n",
        "  el videojuego que va jugar y escribir su reseña'''\n",
        "  ids  = np.random.randint(df_games.shape[0])                         #Obtiene una linea al azar\n",
        "  ids  = df_games.id.iloc[ids]                                        #Obtiene el id del videojuego seleccionado al azar\n",
        "  name = (df_games.loc[df_games['id'] == ids]['title']).iloc[0]       #Busca el nombre del id del videojuego \n",
        "  print('Usted ha jugado: {}'.format(name))\n",
        "  input('Ingrese su reseña: ')\n",
        "  print('\\nNuestras recomendaciones:')\n",
        "  print(get_recomendation(name))"
      ],
      "execution_count": null,
      "outputs": []
    },
    {
      "cell_type": "code",
      "metadata": {
        "colab": {
          "base_uri": "https://localhost:8080/"
        },
        "id": "_d_FFYEgQXzp",
        "outputId": "869f6da0-cd76-4171-b8ca-99f8eaba098c"
      },
      "source": [
        "recomendation()"
      ],
      "execution_count": null,
      "outputs": [
        {
          "output_type": "stream",
          "text": [
            "Usted ha jugado: TankZone Battle\n",
            "Ingrese su reseña: excelente\n",
            "\n",
            "Nuestras recomendaciones:\n",
            "612                           PlanetSide 2\n",
            "39           Military Life: Tank Simulator\n",
            "1112       Tom Clancy's Rainbow Six® Vegas\n",
            "466     White Noise 2 - Corey &amp; Shaira\n",
            "240                         Sniper Elite 3\n",
            "Name: title, dtype: object\n"
          ],
          "name": "stdout"
        }
      ]
    },
    {
      "cell_type": "code",
      "metadata": {
        "id": "pOilhG-uQXqY"
      },
      "source": [
        ""
      ],
      "execution_count": null,
      "outputs": []
    },
    {
      "cell_type": "markdown",
      "metadata": {
        "id": "WqoViz3t-Kj3"
      },
      "source": [
        "# Procesamiento de lenguaje natural"
      ]
    },
    {
      "cell_type": "code",
      "metadata": {
        "colab": {
          "base_uri": "https://localhost:8080/",
          "height": 111
        },
        "id": "Wkj1Lquxvw0t",
        "outputId": "5c6d1b62-65bd-4499-884f-1b0c44f2af10"
      },
      "source": [
        "df_reviews.head(2)"
      ],
      "execution_count": 41,
      "outputs": [
        {
          "output_type": "execute_result",
          "data": {
            "text/html": [
              "<div>\n",
              "<style scoped>\n",
              "    .dataframe tbody tr th:only-of-type {\n",
              "        vertical-align: middle;\n",
              "    }\n",
              "\n",
              "    .dataframe tbody tr th {\n",
              "        vertical-align: top;\n",
              "    }\n",
              "\n",
              "    .dataframe thead th {\n",
              "        text-align: right;\n",
              "    }\n",
              "</style>\n",
              "<table border=\"1\" class=\"dataframe\">\n",
              "  <thead>\n",
              "    <tr style=\"text-align: right;\">\n",
              "      <th></th>\n",
              "      <th>username</th>\n",
              "      <th>hours</th>\n",
              "      <th>product_id</th>\n",
              "      <th>date</th>\n",
              "      <th>text</th>\n",
              "      <th>Fecha</th>\n",
              "      <th>Year</th>\n",
              "      <th>month</th>\n",
              "    </tr>\n",
              "  </thead>\n",
              "  <tbody>\n",
              "    <tr>\n",
              "      <th>0</th>\n",
              "      <td>Cinquleur</td>\n",
              "      <td>1.0</td>\n",
              "      <td>281640</td>\n",
              "      <td>2017-05-10</td>\n",
              "      <td>A refreshing take of a very common style of ta...</td>\n",
              "      <td>2017-05-10</td>\n",
              "      <td>2017</td>\n",
              "      <td>5</td>\n",
              "    </tr>\n",
              "    <tr>\n",
              "      <th>1</th>\n",
              "      <td>=SASS=DarkMatter1975</td>\n",
              "      <td>8.0</td>\n",
              "      <td>208090</td>\n",
              "      <td>2014-02-14</td>\n",
              "      <td>Good fun, love the animations and the humour! ...</td>\n",
              "      <td>2014-02-14</td>\n",
              "      <td>2014</td>\n",
              "      <td>2</td>\n",
              "    </tr>\n",
              "  </tbody>\n",
              "</table>\n",
              "</div>"
            ],
            "text/plain": [
              "               username  hours  product_id  ...      Fecha  Year month\n",
              "0             Cinquleur    1.0      281640  ... 2017-05-10  2017     5\n",
              "1  =SASS=DarkMatter1975    8.0      208090  ... 2014-02-14  2014     2\n",
              "\n",
              "[2 rows x 8 columns]"
            ]
          },
          "metadata": {
            "tags": []
          },
          "execution_count": 41
        }
      ]
    },
    {
      "cell_type": "code",
      "metadata": {
        "colab": {
          "base_uri": "https://localhost:8080/"
        },
        "id": "gXgXdoK_wFxp",
        "outputId": "8e660983-ef8a-4227-cba4-5b3747b6bb0b"
      },
      "source": [
        "df_reviews.columns"
      ],
      "execution_count": 42,
      "outputs": [
        {
          "output_type": "execute_result",
          "data": {
            "text/plain": [
              "Index(['username', 'hours', 'product_id', 'date', 'text', 'Fecha', 'Year',\n",
              "       'month'],\n",
              "      dtype='object')"
            ]
          },
          "metadata": {
            "tags": []
          },
          "execution_count": 42
        }
      ]
    },
    {
      "cell_type": "code",
      "metadata": {
        "id": "SZh-rtzlwJWv"
      },
      "source": [
        "df_reviews.drop(['hours', 'date', 'Fecha', 'Year', 'month'], axis=1, inplace=True)"
      ],
      "execution_count": 43,
      "outputs": []
    },
    {
      "cell_type": "code",
      "metadata": {
        "colab": {
          "base_uri": "https://localhost:8080/"
        },
        "id": "_N887Nqpwara",
        "outputId": "606b941b-135a-420b-ef75-4d9e41ef502d"
      },
      "source": [
        "valores_nulos(df_reviews)"
      ],
      "execution_count": 44,
      "outputs": [
        {
          "output_type": "stream",
          "text": [
            "<-- Porcentaje de valores nulos -->\n",
            "\n",
            "username      0.0\n",
            "product_id    0.0\n",
            "text          0.0\n",
            "dtype: float64\n"
          ],
          "name": "stdout"
        }
      ]
    },
    {
      "cell_type": "code",
      "metadata": {
        "colab": {
          "base_uri": "https://localhost:8080/"
        },
        "id": "mn3xPJDVwgAH",
        "outputId": "d00482e6-c8ff-4340-8d00-ea5abe3c192b"
      },
      "source": [
        "df_reviews.dtypes"
      ],
      "execution_count": 45,
      "outputs": [
        {
          "output_type": "execute_result",
          "data": {
            "text/plain": [
              "username      string\n",
              "product_id     int64\n",
              "text          string\n",
              "dtype: object"
            ]
          },
          "metadata": {
            "tags": []
          },
          "execution_count": 45
        }
      ]
    },
    {
      "cell_type": "markdown",
      "metadata": {
        "id": "h7J9cJE3zItE"
      },
      "source": [
        "## Emojis"
      ]
    },
    {
      "cell_type": "code",
      "metadata": {
        "colab": {
          "base_uri": "https://localhost:8080/"
        },
        "id": "Zo2vQjUEzIf3",
        "outputId": "ae740053-c9df-4500-aac6-6dbbb558d70d"
      },
      "source": [
        "pip install emoji"
      ],
      "execution_count": 44,
      "outputs": [
        {
          "output_type": "stream",
          "text": [
            "Collecting emoji\n",
            "\u001b[?25l  Downloading https://files.pythonhosted.org/packages/ff/1c/1f1457fe52d0b30cbeebfd578483cedb3e3619108d2d5a21380dfecf8ffd/emoji-0.6.0.tar.gz (51kB)\n",
            "\r\u001b[K     |██████▍                         | 10kB 17.0MB/s eta 0:00:01\r\u001b[K     |████████████▉                   | 20kB 11.6MB/s eta 0:00:01\r\u001b[K     |███████████████████▎            | 30kB 7.9MB/s eta 0:00:01\r\u001b[K     |█████████████████████████▊      | 40kB 7.4MB/s eta 0:00:01\r\u001b[K     |████████████████████████████████| 51kB 2.7MB/s \n",
            "\u001b[?25hBuilding wheels for collected packages: emoji\n",
            "  Building wheel for emoji (setup.py) ... \u001b[?25l\u001b[?25hdone\n",
            "  Created wheel for emoji: filename=emoji-0.6.0-cp36-none-any.whl size=49716 sha256=030a4a3dfbabc610e5b97bb996702e4fb7a99a8eb0b16ff441af986600cc6fff\n",
            "  Stored in directory: /root/.cache/pip/wheels/46/2c/8b/9dcf5216ca68e14e0320e283692dce8ae321cdc01e73e17796\n",
            "Successfully built emoji\n",
            "Installing collected packages: emoji\n",
            "Successfully installed emoji-0.6.0\n"
          ],
          "name": "stdout"
        }
      ]
    },
    {
      "cell_type": "code",
      "metadata": {
        "id": "UrUVeT0LylsM"
      },
      "source": [
        "#Elimino cualquier emoji presente en la review escrita\n",
        "import emoji"
      ],
      "execution_count": 45,
      "outputs": []
    },
    {
      "cell_type": "code",
      "metadata": {
        "colab": {
          "base_uri": "https://localhost:8080/",
          "height": 111
        },
        "id": "BvgNx0YbwlPm",
        "outputId": "2726463d-25f3-499e-fbae-b00dbb860807"
      },
      "source": [
        "df_reviews.tail(2)"
      ],
      "execution_count": 46,
      "outputs": [
        {
          "output_type": "execute_result",
          "data": {
            "text/html": [
              "<div>\n",
              "<style scoped>\n",
              "    .dataframe tbody tr th:only-of-type {\n",
              "        vertical-align: middle;\n",
              "    }\n",
              "\n",
              "    .dataframe tbody tr th {\n",
              "        vertical-align: top;\n",
              "    }\n",
              "\n",
              "    .dataframe thead th {\n",
              "        text-align: right;\n",
              "    }\n",
              "</style>\n",
              "<table border=\"1\" class=\"dataframe\">\n",
              "  <thead>\n",
              "    <tr style=\"text-align: right;\">\n",
              "      <th></th>\n",
              "      <th>username</th>\n",
              "      <th>product_id</th>\n",
              "      <th>text</th>\n",
              "      <th>user_id</th>\n",
              "    </tr>\n",
              "  </thead>\n",
              "  <tbody>\n",
              "    <tr>\n",
              "      <th>20780</th>\n",
              "      <td>LuciLoli</td>\n",
              "      <td>257850</td>\n",
              "      <td>Zelda-Darks souls baby.</td>\n",
              "      <td>76561198106971121</td>\n",
              "    </tr>\n",
              "    <tr>\n",
              "      <th>20781</th>\n",
              "      <td>Machiav</td>\n",
              "      <td>208400</td>\n",
              "      <td>Nostalgy for past... wonderfull memories from ...</td>\n",
              "      <td>76561198019180347</td>\n",
              "    </tr>\n",
              "  </tbody>\n",
              "</table>\n",
              "</div>"
            ],
            "text/plain": [
              "       username  ...            user_id\n",
              "20780  LuciLoli  ...  76561198106971121\n",
              "20781   Machiav  ...  76561198019180347\n",
              "\n",
              "[2 rows x 4 columns]"
            ]
          },
          "metadata": {
            "tags": []
          },
          "execution_count": 46
        }
      ]
    },
    {
      "cell_type": "code",
      "metadata": {
        "id": "BxbqRA9YwlMf"
      },
      "source": [
        "#df_reviews['xtext'] = emoji.demojize(df_reviews['text'])"
      ],
      "execution_count": 48,
      "outputs": []
    },
    {
      "cell_type": "markdown",
      "metadata": {
        "id": "BG-UEbs61D6x"
      },
      "source": [
        "## Traduccion de comentario"
      ]
    },
    {
      "cell_type": "code",
      "metadata": {
        "id": "Ty4kBhx-6rtv"
      },
      "source": [
        "from textblob import TextBlob"
      ],
      "execution_count": 49,
      "outputs": []
    },
    {
      "cell_type": "code",
      "metadata": {
        "id": "JTHI4FU1wk1c"
      },
      "source": [
        "#df_reviews['xtext'] = df_reviews['text'].apply(lambda x: TextBlob(x).translate(to='en'))"
      ],
      "execution_count": 51,
      "outputs": []
    },
    {
      "cell_type": "code",
      "metadata": {
        "id": "fv50Rs6_wkyY"
      },
      "source": [
        "#Ya que todos los comentarios se encuentran en ingles, la celda anterior marca error, ya que no tiene acciones por realizar"
      ],
      "execution_count": null,
      "outputs": []
    },
    {
      "cell_type": "markdown",
      "metadata": {
        "id": "rOT82_sV75Pv"
      },
      "source": [
        "## Estandarizar el texto"
      ]
    },
    {
      "cell_type": "code",
      "metadata": {
        "id": "O2A3306gwksG"
      },
      "source": [
        " df_reviews['xtext'] = df_reviews['text'].str.replace('[{}]'.format(string.punctuation), ' ')"
      ],
      "execution_count": 46,
      "outputs": []
    },
    {
      "cell_type": "code",
      "metadata": {
        "colab": {
          "base_uri": "https://localhost:8080/",
          "height": 52
        },
        "id": "WGEA-G7Wwkl0",
        "outputId": "a1a01ca1-2cfe-4577-dcad-7e3813cfada3"
      },
      "source": [
        "comentario = df_reviews.xtext.iloc[1]\n",
        "comentario"
      ],
      "execution_count": 47,
      "outputs": [
        {
          "output_type": "execute_result",
          "data": {
            "application/vnd.google.colaboratory.intrinsic+json": {
              "type": "string"
            },
            "text/plain": [
              "'Good fun  love the animations and the humour  Brings back the glory of arena shooters  real money can be spent but for a casual player like me that is not needed give it a go you won t be dissapointed '"
            ]
          },
          "metadata": {
            "tags": []
          },
          "execution_count": 47
        }
      ]
    },
    {
      "cell_type": "markdown",
      "metadata": {
        "id": "j17XK9E88teX"
      },
      "source": [
        "## Analisis de reviews"
      ]
    },
    {
      "cell_type": "code",
      "metadata": {
        "id": "jHB9Z4ovGXAA"
      },
      "source": [
        "#Correcion de escritura\n",
        "#correciones = []\n",
        "\n",
        "#for i in range(df_reviews.shape[0]):\n",
        "#  correcion = df_reviews.xtext.iloc[i]\n",
        "#  correcion = TextBlob(correcion).correct()\n",
        "#  correciones.append(correcion)\n",
        "\n",
        "#df_reviews['xtext'] = correciones"
      ],
      "execution_count": 56,
      "outputs": []
    },
    {
      "cell_type": "code",
      "metadata": {
        "colab": {
          "base_uri": "https://localhost:8080/"
        },
        "id": "K6UyOXKw8r9o",
        "outputId": "99d90b96-586d-4e24-ccba-68147d68176e"
      },
      "source": [
        "#TextBlob(comentario).sentimen"
      ],
      "execution_count": null,
      "outputs": [
        {
          "output_type": "execute_result",
          "data": {
            "text/plain": [
              "Sentiment(polarity=0.07666666666666666, subjectivity=0.5066666666666667)"
            ]
          },
          "metadata": {
            "tags": []
          },
          "execution_count": 89
        }
      ]
    },
    {
      "cell_type": "code",
      "metadata": {
        "id": "qj5MsPoG8r0l"
      },
      "source": [
        "comentarios = []\n",
        "\n",
        "for i in range(df_reviews.shape[0]):\n",
        "  comentario = df_reviews.xtext.iloc[i]\n",
        "  comentario = TextBlob(comentario).polarity\n",
        "  comentarios.append(comentario)\n",
        "\n",
        "df_reviews['polariy'] = comentarios"
      ],
      "execution_count": 48,
      "outputs": []
    },
    {
      "cell_type": "code",
      "metadata": {
        "id": "K8K0YJJP-VAm"
      },
      "source": [
        "comentarios = []\n",
        "\n",
        "for i in range(df_reviews.shape[0]):\n",
        "  comentario = df_reviews.xtext.iloc[i]\n",
        "  comentario = TextBlob(comentario).subjectivity\n",
        "  comentarios.append(comentario)\n",
        "\n",
        "df_reviews['subjectivity'] = comentarios"
      ],
      "execution_count": 49,
      "outputs": []
    },
    {
      "cell_type": "code",
      "metadata": {
        "colab": {
          "base_uri": "https://localhost:8080/",
          "height": 111
        },
        "id": "lg4vTNEL-LiQ",
        "outputId": "cca88f57-06a2-4a42-e709-15cbd582c697"
      },
      "source": [
        "df_reviews.head(2)"
      ],
      "execution_count": 50,
      "outputs": [
        {
          "output_type": "execute_result",
          "data": {
            "text/html": [
              "<div>\n",
              "<style scoped>\n",
              "    .dataframe tbody tr th:only-of-type {\n",
              "        vertical-align: middle;\n",
              "    }\n",
              "\n",
              "    .dataframe tbody tr th {\n",
              "        vertical-align: top;\n",
              "    }\n",
              "\n",
              "    .dataframe thead th {\n",
              "        text-align: right;\n",
              "    }\n",
              "</style>\n",
              "<table border=\"1\" class=\"dataframe\">\n",
              "  <thead>\n",
              "    <tr style=\"text-align: right;\">\n",
              "      <th></th>\n",
              "      <th>username</th>\n",
              "      <th>product_id</th>\n",
              "      <th>text</th>\n",
              "      <th>xtext</th>\n",
              "      <th>polariy</th>\n",
              "      <th>subjectivity</th>\n",
              "    </tr>\n",
              "  </thead>\n",
              "  <tbody>\n",
              "    <tr>\n",
              "      <th>0</th>\n",
              "      <td>Cinquleur</td>\n",
              "      <td>281640</td>\n",
              "      <td>A refreshing take of a very common style of ta...</td>\n",
              "      <td>A refreshing take of a very common style of ta...</td>\n",
              "      <td>0.242000</td>\n",
              "      <td>0.730000</td>\n",
              "    </tr>\n",
              "    <tr>\n",
              "      <th>1</th>\n",
              "      <td>=SASS=DarkMatter1975</td>\n",
              "      <td>208090</td>\n",
              "      <td>Good fun, love the animations and the humour! ...</td>\n",
              "      <td>Good fun  love the animations and the humour  ...</td>\n",
              "      <td>0.157143</td>\n",
              "      <td>0.380952</td>\n",
              "    </tr>\n",
              "  </tbody>\n",
              "</table>\n",
              "</div>"
            ],
            "text/plain": [
              "               username  product_id  ...   polariy subjectivity\n",
              "0             Cinquleur      281640  ...  0.242000     0.730000\n",
              "1  =SASS=DarkMatter1975      208090  ...  0.157143     0.380952\n",
              "\n",
              "[2 rows x 6 columns]"
            ]
          },
          "metadata": {
            "tags": []
          },
          "execution_count": 50
        }
      ]
    },
    {
      "cell_type": "code",
      "metadata": {
        "colab": {
          "base_uri": "https://localhost:8080/"
        },
        "id": "_td0RCPZ-Ldx",
        "outputId": "234107c3-73c2-4d71-be83-25088697a6ee"
      },
      "source": [
        "df_reviews.polariy.max()"
      ],
      "execution_count": 51,
      "outputs": [
        {
          "output_type": "execute_result",
          "data": {
            "text/plain": [
              "1.0"
            ]
          },
          "metadata": {
            "tags": []
          },
          "execution_count": 51
        }
      ]
    },
    {
      "cell_type": "markdown",
      "metadata": {
        "id": "NfHT7RBhEC6Q"
      },
      "source": [
        "Polaridad\n",
        "<----------------->\n",
        "-1               +1\n",
        "                 Comentario positivo\n",
        "\n",
        "\n",
        "Subjetividad\n",
        "<----------------->\n",
        "-1               +1\n",
        "(Objetivo)       (Subjetivo, mas emocional)"
      ]
    },
    {
      "cell_type": "code",
      "metadata": {
        "id": "XznZ0CnjbcHw"
      },
      "source": [
        "calificaciones = df_reviews[['username', 'product_id', 'polariy']]"
      ],
      "execution_count": 52,
      "outputs": []
    },
    {
      "cell_type": "code",
      "metadata": {
        "colab": {
          "base_uri": "https://localhost:8080/"
        },
        "id": "JziWLYNibb_K",
        "outputId": "08453fd0-d2f1-4573-dbdd-5c399e21cd57"
      },
      "source": [
        "valores_nulos(calificaciones)"
      ],
      "execution_count": 53,
      "outputs": [
        {
          "output_type": "stream",
          "text": [
            "<-- Porcentaje de valores nulos -->\n",
            "\n",
            "username      0.0\n",
            "product_id    0.0\n",
            "polariy       0.0\n",
            "dtype: float64\n"
          ],
          "name": "stdout"
        }
      ]
    },
    {
      "cell_type": "code",
      "metadata": {
        "colab": {
          "base_uri": "https://localhost:8080/"
        },
        "id": "-T3KVr0JcDIP",
        "outputId": "fcbef875-52b9-4431-c029-ca538fd12e3e"
      },
      "source": [
        "calificaciones.shape"
      ],
      "execution_count": 54,
      "outputs": [
        {
          "output_type": "execute_result",
          "data": {
            "text/plain": [
              "(20782, 3)"
            ]
          },
          "metadata": {
            "tags": []
          },
          "execution_count": 54
        }
      ]
    },
    {
      "cell_type": "code",
      "metadata": {
        "id": "tHDJaXwtGCuE"
      },
      "source": [
        "from surprise import Dataset\n",
        "from surprise import Reader\n",
        "from surprise.model_selection import train_test_split"
      ],
      "execution_count": 55,
      "outputs": []
    },
    {
      "cell_type": "code",
      "metadata": {
        "id": "3Hd4pSkvcYA2"
      },
      "source": [
        "reader = Reader()"
      ],
      "execution_count": 56,
      "outputs": []
    },
    {
      "cell_type": "code",
      "metadata": {
        "id": "Z3Gci6inGCq_"
      },
      "source": [
        "N_filas = 2000 # Limitamos el dataset a N_filas\n",
        "\n",
        "data = Dataset.load_from_df(calificaciones[['username', 'product_id', 'polariy']][:N_filas], reader)"
      ],
      "execution_count": 57,
      "outputs": []
    },
    {
      "cell_type": "code",
      "metadata": {
        "id": "oC3_SIyIGCoG"
      },
      "source": [
        "trainset, testset = train_test_split(data, test_size=.25)"
      ],
      "execution_count": 58,
      "outputs": []
    },
    {
      "cell_type": "code",
      "metadata": {
        "id": "1exHz3m8GCZq"
      },
      "source": [
        "from surprise import SVD\n",
        "algo = SVD()"
      ],
      "execution_count": 59,
      "outputs": []
    },
    {
      "cell_type": "code",
      "metadata": {
        "id": "zDjn7bdjCU80",
        "colab": {
          "base_uri": "https://localhost:8080/"
        },
        "outputId": "f8451297-37d5-44a4-cb1b-80791688dc28"
      },
      "source": [
        "algo.fit(trainset)"
      ],
      "execution_count": 60,
      "outputs": [
        {
          "output_type": "execute_result",
          "data": {
            "text/plain": [
              "<surprise.prediction_algorithms.matrix_factorization.SVD at 0x7f9f281d6748>"
            ]
          },
          "metadata": {
            "tags": []
          },
          "execution_count": 60
        }
      ]
    },
    {
      "cell_type": "code",
      "metadata": {
        "id": "mrtB-_HycgHz"
      },
      "source": [
        "predictions = algo.test(testset)"
      ],
      "execution_count": 61,
      "outputs": []
    },
    {
      "cell_type": "code",
      "metadata": {
        "colab": {
          "base_uri": "https://localhost:8080/"
        },
        "id": "YTRCyFh8cgD3",
        "outputId": "eb57ba1c-78e3-46e3-f088-4401cca56efe"
      },
      "source": [
        "predictions[3]"
      ],
      "execution_count": 62,
      "outputs": [
        {
          "output_type": "execute_result",
          "data": {
            "text/plain": [
              "Prediction(uid='vladd00', iid=20920, r_ui=0.0, est=1, details={'was_impossible': False})"
            ]
          },
          "metadata": {
            "tags": []
          },
          "execution_count": 62
        }
      ]
    },
    {
      "cell_type": "code",
      "metadata": {
        "id": "hoa7MiMG_VA0"
      },
      "source": [
        "#123            123\n",
        "#Nick           103\n",
        "#Jack           100\n",
        "#Chris           93\n",
        "#Dan             83\n",
        "#Matt            83\n",
        "#Sam             82\n",
        "#Saint Aaron     76\n",
        "#Kodyd194        73"
      ],
      "execution_count": null,
      "outputs": []
    },
    {
      "cell_type": "code",
      "metadata": {
        "colab": {
          "base_uri": "https://localhost:8080/",
          "height": 204
        },
        "id": "2Fj7zbr93Ftc",
        "outputId": "fa0d0547-6bb5-4431-82c7-9c085f6a39bf"
      },
      "source": [
        "#Selecciono el usuario con mas reviews\n",
        "calificaciones[calificaciones['username'] == '123']"
      ],
      "execution_count": 63,
      "outputs": [
        {
          "output_type": "execute_result",
          "data": {
            "text/html": [
              "<div>\n",
              "<style scoped>\n",
              "    .dataframe tbody tr th:only-of-type {\n",
              "        vertical-align: middle;\n",
              "    }\n",
              "\n",
              "    .dataframe tbody tr th {\n",
              "        vertical-align: top;\n",
              "    }\n",
              "\n",
              "    .dataframe thead th {\n",
              "        text-align: right;\n",
              "    }\n",
              "</style>\n",
              "<table border=\"1\" class=\"dataframe\">\n",
              "  <thead>\n",
              "    <tr style=\"text-align: right;\">\n",
              "      <th></th>\n",
              "      <th>username</th>\n",
              "      <th>product_id</th>\n",
              "      <th>polariy</th>\n",
              "    </tr>\n",
              "  </thead>\n",
              "  <tbody>\n",
              "    <tr>\n",
              "      <th>5733</th>\n",
              "      <td>123</td>\n",
              "      <td>346110</td>\n",
              "      <td>-0.450000</td>\n",
              "    </tr>\n",
              "    <tr>\n",
              "      <th>7520</th>\n",
              "      <td>123</td>\n",
              "      <td>252490</td>\n",
              "      <td>-0.077211</td>\n",
              "    </tr>\n",
              "    <tr>\n",
              "      <th>8813</th>\n",
              "      <td>123</td>\n",
              "      <td>257930</td>\n",
              "      <td>0.000000</td>\n",
              "    </tr>\n",
              "    <tr>\n",
              "      <th>11773</th>\n",
              "      <td>123</td>\n",
              "      <td>221100</td>\n",
              "      <td>-0.033654</td>\n",
              "    </tr>\n",
              "    <tr>\n",
              "      <th>12489</th>\n",
              "      <td>123</td>\n",
              "      <td>268910</td>\n",
              "      <td>0.283333</td>\n",
              "    </tr>\n",
              "  </tbody>\n",
              "</table>\n",
              "</div>"
            ],
            "text/plain": [
              "      username  product_id   polariy\n",
              "5733       123      346110 -0.450000\n",
              "7520       123      252490 -0.077211\n",
              "8813       123      257930  0.000000\n",
              "11773      123      221100 -0.033654\n",
              "12489      123      268910  0.283333"
            ]
          },
          "metadata": {
            "tags": []
          },
          "execution_count": 63
        }
      ]
    },
    {
      "cell_type": "code",
      "metadata": {
        "id": "U3Zf7xq15wl4"
      },
      "source": [
        "usuario = '123'  \n",
        "polariy = -1.0\n",
        "df_user = df_reviews[(df_reviews['username'] == usuario) & (df_reviews['polariy'] >= polariy)]\n",
        "df_user.reset_index(drop=True, inplace=True)\n",
        "names = []\n",
        "for i in id:\n",
        "  name = data_games[data_games['id'] == i]\n",
        "  name = name.title.values[0]\n",
        "  names.append(name)\n",
        "\n",
        "df_user['game_name'] = names"
      ],
      "execution_count": 116,
      "outputs": []
    },
    {
      "cell_type": "code",
      "metadata": {
        "colab": {
          "base_uri": "https://localhost:8080/",
          "height": 272
        },
        "id": "HAU1fxD4LJH3",
        "outputId": "78822ad4-acc7-47cd-9ea2-cc04106b275d"
      },
      "source": [
        "df_user"
      ],
      "execution_count": 117,
      "outputs": [
        {
          "output_type": "execute_result",
          "data": {
            "text/html": [
              "<div>\n",
              "<style scoped>\n",
              "    .dataframe tbody tr th:only-of-type {\n",
              "        vertical-align: middle;\n",
              "    }\n",
              "\n",
              "    .dataframe tbody tr th {\n",
              "        vertical-align: top;\n",
              "    }\n",
              "\n",
              "    .dataframe thead th {\n",
              "        text-align: right;\n",
              "    }\n",
              "</style>\n",
              "<table border=\"1\" class=\"dataframe\">\n",
              "  <thead>\n",
              "    <tr style=\"text-align: right;\">\n",
              "      <th></th>\n",
              "      <th>username</th>\n",
              "      <th>product_id</th>\n",
              "      <th>text</th>\n",
              "      <th>xtext</th>\n",
              "      <th>polariy</th>\n",
              "      <th>subjectivity</th>\n",
              "      <th>game_name</th>\n",
              "    </tr>\n",
              "  </thead>\n",
              "  <tbody>\n",
              "    <tr>\n",
              "      <th>0</th>\n",
              "      <td>123</td>\n",
              "      <td>346110</td>\n",
              "      <td>Politics, Politics, Politics. The game where o...</td>\n",
              "      <td>Politics  Politics  Politics  The game where o...</td>\n",
              "      <td>-0.450000</td>\n",
              "      <td>0.650000</td>\n",
              "      <td>ARK: Survival Evolved</td>\n",
              "    </tr>\n",
              "    <tr>\n",
              "      <th>1</th>\n",
              "      <td>123</td>\n",
              "      <td>252490</td>\n",
              "      <td>This game could be made better.\n",
              "Optimization =...</td>\n",
              "      <td>This game could be made better \n",
              "Optimization  ...</td>\n",
              "      <td>-0.077211</td>\n",
              "      <td>0.483503</td>\n",
              "      <td>Rust</td>\n",
              "    </tr>\n",
              "    <tr>\n",
              "      <th>2</th>\n",
              "      <td>123</td>\n",
              "      <td>257930</td>\n",
              "      <td>Dont buy, no updates for months now and no replys</td>\n",
              "      <td>Dont buy  no updates for months now and no replys</td>\n",
              "      <td>0.000000</td>\n",
              "      <td>0.000000</td>\n",
              "      <td>Race To Mars</td>\n",
              "    </tr>\n",
              "    <tr>\n",
              "      <th>3</th>\n",
              "      <td>123</td>\n",
              "      <td>221100</td>\n",
              "      <td>Great survival game. The Early Access business...</td>\n",
              "      <td>Great survival game  The Early Access business...</td>\n",
              "      <td>-0.033654</td>\n",
              "      <td>0.463942</td>\n",
              "      <td>DayZ</td>\n",
              "    </tr>\n",
              "    <tr>\n",
              "      <th>4</th>\n",
              "      <td>123</td>\n",
              "      <td>268910</td>\n",
              "      <td>beautiful, difficult, rewarding, work of art.</td>\n",
              "      <td>beautiful  difficult  rewarding  work of art</td>\n",
              "      <td>0.283333</td>\n",
              "      <td>1.000000</td>\n",
              "      <td>Cuphead</td>\n",
              "    </tr>\n",
              "  </tbody>\n",
              "</table>\n",
              "</div>"
            ],
            "text/plain": [
              "  username  product_id  ... subjectivity              game_name\n",
              "0      123      346110  ...     0.650000  ARK: Survival Evolved\n",
              "1      123      252490  ...     0.483503                   Rust\n",
              "2      123      257930  ...     0.000000           Race To Mars\n",
              "3      123      221100  ...     0.463942                   DayZ\n",
              "4      123      268910  ...     1.000000                Cuphead\n",
              "\n",
              "[5 rows x 7 columns]"
            ]
          },
          "metadata": {
            "tags": []
          },
          "execution_count": 117
        }
      ]
    },
    {
      "cell_type": "code",
      "metadata": {
        "id": "0-KnoTTp57GX"
      },
      "source": [
        "recomendaciones_games = data_games.iloc[0:]"
      ],
      "execution_count": 134,
      "outputs": []
    },
    {
      "cell_type": "code",
      "metadata": {
        "colab": {
          "base_uri": "https://localhost:8080/",
          "height": 176
        },
        "id": "kDjY_hGRAGO0",
        "outputId": "77a56449-0b30-4a49-81ab-41e28176e191"
      },
      "source": [
        "#\"Juego que el usuario ya jugo\"\n",
        "juegos_jugados = data_reviews[data_reviews['username'] == usuario]\n",
        "print('El usuario ya ha jugado',juegos_jugados.shape[0],'videojuegos\\n')\n",
        "juegos_jugados.head(3)"
      ],
      "execution_count": 123,
      "outputs": [
        {
          "output_type": "stream",
          "text": [
            "El usuario ya ha jugado 123 videojuegos\n",
            "\n"
          ],
          "name": "stdout"
        },
        {
          "output_type": "execute_result",
          "data": {
            "text/html": [
              "<div>\n",
              "<style scoped>\n",
              "    .dataframe tbody tr th:only-of-type {\n",
              "        vertical-align: middle;\n",
              "    }\n",
              "\n",
              "    .dataframe tbody tr th {\n",
              "        vertical-align: top;\n",
              "    }\n",
              "\n",
              "    .dataframe thead th {\n",
              "        text-align: right;\n",
              "    }\n",
              "</style>\n",
              "<table border=\"1\" class=\"dataframe\">\n",
              "  <thead>\n",
              "    <tr style=\"text-align: right;\">\n",
              "      <th></th>\n",
              "      <th>username</th>\n",
              "      <th>hours</th>\n",
              "      <th>product_id</th>\n",
              "      <th>date</th>\n",
              "      <th>text</th>\n",
              "      <th>Fecha</th>\n",
              "      <th>Year</th>\n",
              "      <th>month</th>\n",
              "    </tr>\n",
              "  </thead>\n",
              "  <tbody>\n",
              "    <tr>\n",
              "      <th>9058</th>\n",
              "      <td>123</td>\n",
              "      <td>69.3</td>\n",
              "      <td>271590</td>\n",
              "      <td>2017-09-15</td>\n",
              "      <td>Nice game ever</td>\n",
              "      <td>2017-09-15</td>\n",
              "      <td>2017</td>\n",
              "      <td>9</td>\n",
              "    </tr>\n",
              "    <tr>\n",
              "      <th>11616</th>\n",
              "      <td>123</td>\n",
              "      <td>26.7</td>\n",
              "      <td>337000</td>\n",
              "      <td>2016-10-07</td>\n",
              "      <td>Game is garbage! Dont Buy it you will just be ...</td>\n",
              "      <td>2016-10-07</td>\n",
              "      <td>2016</td>\n",
              "      <td>10</td>\n",
              "    </tr>\n",
              "    <tr>\n",
              "      <th>18121</th>\n",
              "      <td>123</td>\n",
              "      <td>155.0</td>\n",
              "      <td>271590</td>\n",
              "      <td>2017-06-19</td>\n",
              "      <td>Boycotting this game. No mods=No fun!!!\n",
              "F U RO...</td>\n",
              "      <td>2017-06-19</td>\n",
              "      <td>2017</td>\n",
              "      <td>6</td>\n",
              "    </tr>\n",
              "  </tbody>\n",
              "</table>\n",
              "</div>"
            ],
            "text/plain": [
              "      username  hours  product_id  ...      Fecha  Year month\n",
              "9058       123   69.3      271590  ... 2017-09-15  2017     9\n",
              "11616      123   26.7      337000  ... 2016-10-07  2016    10\n",
              "18121      123  155.0      271590  ... 2017-06-19  2017     6\n",
              "\n",
              "[3 rows x 8 columns]"
            ]
          },
          "metadata": {
            "tags": []
          },
          "execution_count": 123
        }
      ]
    },
    {
      "cell_type": "code",
      "metadata": {
        "colab": {
          "base_uri": "https://localhost:8080/"
        },
        "id": "HNqoEr0NQR5b",
        "outputId": "5eb9e9e9-0558-49f3-fe00-f46f2bbc830a"
      },
      "source": [
        "juegos_jugados.shape[0]"
      ],
      "execution_count": 160,
      "outputs": [
        {
          "output_type": "execute_result",
          "data": {
            "text/plain": [
              "123"
            ]
          },
          "metadata": {
            "tags": []
          },
          "execution_count": 160
        }
      ]
    },
    {
      "cell_type": "code",
      "metadata": {
        "colab": {
          "base_uri": "https://localhost:8080/"
        },
        "id": "iPn4cwXMQPJ5",
        "outputId": "81813bf2-0479-4ff5-b4ad-416968afbda9"
      },
      "source": [
        "recomendaciones_games.shape[0]"
      ],
      "execution_count": 161,
      "outputs": [
        {
          "output_type": "execute_result",
          "data": {
            "text/plain": [
              "29923"
            ]
          },
          "metadata": {
            "tags": []
          },
          "execution_count": 161
        }
      ]
    },
    {
      "cell_type": "code",
      "metadata": {
        "id": "CxEBYv6vTCsQ"
      },
      "source": [
        "juegos_jugados.product_id.drop_duplicates(inplace=True)"
      ],
      "execution_count": 189,
      "outputs": []
    },
    {
      "cell_type": "code",
      "metadata": {
        "colab": {
          "base_uri": "https://localhost:8080/"
        },
        "id": "I_uvmbSvThMO",
        "outputId": "b040baaa-fd44-4011-d742-b5bc1cce1a69"
      },
      "source": [
        "juegos_jugados.shape"
      ],
      "execution_count": 190,
      "outputs": [
        {
          "output_type": "execute_result",
          "data": {
            "text/plain": [
              "(123, 8)"
            ]
          },
          "metadata": {
            "tags": []
          },
          "execution_count": 190
        }
      ]
    },
    {
      "cell_type": "code",
      "metadata": {
        "colab": {
          "base_uri": "https://localhost:8080/",
          "height": 204
        },
        "id": "aQyrI7npTwcd",
        "outputId": "da81c186-64a1-4f18-b4da-ed16f676ea1b"
      },
      "source": [
        "juegos_jugados.tail(5)"
      ],
      "execution_count": 193,
      "outputs": [
        {
          "output_type": "execute_result",
          "data": {
            "text/html": [
              "<div>\n",
              "<style scoped>\n",
              "    .dataframe tbody tr th:only-of-type {\n",
              "        vertical-align: middle;\n",
              "    }\n",
              "\n",
              "    .dataframe tbody tr th {\n",
              "        vertical-align: top;\n",
              "    }\n",
              "\n",
              "    .dataframe thead th {\n",
              "        text-align: right;\n",
              "    }\n",
              "</style>\n",
              "<table border=\"1\" class=\"dataframe\">\n",
              "  <thead>\n",
              "    <tr style=\"text-align: right;\">\n",
              "      <th></th>\n",
              "      <th>username</th>\n",
              "      <th>hours</th>\n",
              "      <th>product_id</th>\n",
              "      <th>date</th>\n",
              "      <th>text</th>\n",
              "      <th>Fecha</th>\n",
              "      <th>Year</th>\n",
              "      <th>month</th>\n",
              "    </tr>\n",
              "  </thead>\n",
              "  <tbody>\n",
              "    <tr>\n",
              "      <th>505929</th>\n",
              "      <td>123</td>\n",
              "      <td>183.0</td>\n",
              "      <td>252490</td>\n",
              "      <td>2017-03-12</td>\n",
              "      <td>Kto má rád bezcharakterné jednanie lud´v multi...</td>\n",
              "      <td>2017-03-12</td>\n",
              "      <td>2017</td>\n",
              "      <td>3</td>\n",
              "    </tr>\n",
              "    <tr>\n",
              "      <th>506932</th>\n",
              "      <td>123</td>\n",
              "      <td>271.6</td>\n",
              "      <td>252490</td>\n",
              "      <td>2017-02-03</td>\n",
              "      <td>This game could be made better.\n",
              "Optimization =...</td>\n",
              "      <td>2017-02-03</td>\n",
              "      <td>2017</td>\n",
              "      <td>2</td>\n",
              "    </tr>\n",
              "    <tr>\n",
              "      <th>511511</th>\n",
              "      <td>123</td>\n",
              "      <td>205.8</td>\n",
              "      <td>49520</td>\n",
              "      <td>2013-12-29</td>\n",
              "      <td>Borderlands 2 is a true follow up from the ori...</td>\n",
              "      <td>2013-12-29</td>\n",
              "      <td>2013</td>\n",
              "      <td>12</td>\n",
              "    </tr>\n",
              "    <tr>\n",
              "      <th>512575</th>\n",
              "      <td>123</td>\n",
              "      <td>767.7</td>\n",
              "      <td>221100</td>\n",
              "      <td>2015-09-14</td>\n",
              "      <td>Still alot of issues, very slow at fixing issu...</td>\n",
              "      <td>2015-09-14</td>\n",
              "      <td>2015</td>\n",
              "      <td>9</td>\n",
              "    </tr>\n",
              "    <tr>\n",
              "      <th>514098</th>\n",
              "      <td>123</td>\n",
              "      <td>436.6</td>\n",
              "      <td>221100</td>\n",
              "      <td>2015-06-10</td>\n",
              "      <td>Great survival game. The Early Access business...</td>\n",
              "      <td>2015-06-10</td>\n",
              "      <td>2015</td>\n",
              "      <td>6</td>\n",
              "    </tr>\n",
              "  </tbody>\n",
              "</table>\n",
              "</div>"
            ],
            "text/plain": [
              "       username  hours  product_id  ...      Fecha  Year month\n",
              "505929      123  183.0      252490  ... 2017-03-12  2017     3\n",
              "506932      123  271.6      252490  ... 2017-02-03  2017     2\n",
              "511511      123  205.8       49520  ... 2013-12-29  2013    12\n",
              "512575      123  767.7      221100  ... 2015-09-14  2015     9\n",
              "514098      123  436.6      221100  ... 2015-06-10  2015     6\n",
              "\n",
              "[5 rows x 8 columns]"
            ]
          },
          "metadata": {
            "tags": []
          },
          "execution_count": 193
        }
      ]
    },
    {
      "cell_type": "code",
      "metadata": {
        "id": "bMrRpuKTT6mN"
      },
      "source": [
        "juegos_jugados.drop_duplicates(subset='product_id',keep='last', inplace=True)"
      ],
      "execution_count": 196,
      "outputs": []
    },
    {
      "cell_type": "code",
      "metadata": {
        "colab": {
          "base_uri": "https://localhost:8080/",
          "height": 204
        },
        "id": "6CJW4yPdT6cU",
        "outputId": "93ab7048-f0c6-4c53-9b24-cdd63ae5dd3c"
      },
      "source": [
        "juegos_jugados.tail(5)"
      ],
      "execution_count": 197,
      "outputs": [
        {
          "output_type": "execute_result",
          "data": {
            "text/html": [
              "<div>\n",
              "<style scoped>\n",
              "    .dataframe tbody tr th:only-of-type {\n",
              "        vertical-align: middle;\n",
              "    }\n",
              "\n",
              "    .dataframe tbody tr th {\n",
              "        vertical-align: top;\n",
              "    }\n",
              "\n",
              "    .dataframe thead th {\n",
              "        text-align: right;\n",
              "    }\n",
              "</style>\n",
              "<table border=\"1\" class=\"dataframe\">\n",
              "  <thead>\n",
              "    <tr style=\"text-align: right;\">\n",
              "      <th></th>\n",
              "      <th>username</th>\n",
              "      <th>hours</th>\n",
              "      <th>product_id</th>\n",
              "      <th>date</th>\n",
              "      <th>text</th>\n",
              "      <th>Fecha</th>\n",
              "      <th>Year</th>\n",
              "      <th>month</th>\n",
              "    </tr>\n",
              "  </thead>\n",
              "  <tbody>\n",
              "    <tr>\n",
              "      <th>501060</th>\n",
              "      <td>123</td>\n",
              "      <td>0.2</td>\n",
              "      <td>339610</td>\n",
              "      <td>2015-08-04</td>\n",
              "      <td>have to use a controller to play this.. crap</td>\n",
              "      <td>2015-08-04</td>\n",
              "      <td>2015</td>\n",
              "      <td>8</td>\n",
              "    </tr>\n",
              "    <tr>\n",
              "      <th>501409</th>\n",
              "      <td>123</td>\n",
              "      <td>7.4</td>\n",
              "      <td>202970</td>\n",
              "      <td>2013-02-15</td>\n",
              "      <td>Des is eines der schlechtesten spieler der wel...</td>\n",
              "      <td>2013-02-15</td>\n",
              "      <td>2013</td>\n",
              "      <td>2</td>\n",
              "    </tr>\n",
              "    <tr>\n",
              "      <th>506932</th>\n",
              "      <td>123</td>\n",
              "      <td>271.6</td>\n",
              "      <td>252490</td>\n",
              "      <td>2017-02-03</td>\n",
              "      <td>This game could be made better.\n",
              "Optimization =...</td>\n",
              "      <td>2017-02-03</td>\n",
              "      <td>2017</td>\n",
              "      <td>2</td>\n",
              "    </tr>\n",
              "    <tr>\n",
              "      <th>511511</th>\n",
              "      <td>123</td>\n",
              "      <td>205.8</td>\n",
              "      <td>49520</td>\n",
              "      <td>2013-12-29</td>\n",
              "      <td>Borderlands 2 is a true follow up from the ori...</td>\n",
              "      <td>2013-12-29</td>\n",
              "      <td>2013</td>\n",
              "      <td>12</td>\n",
              "    </tr>\n",
              "    <tr>\n",
              "      <th>514098</th>\n",
              "      <td>123</td>\n",
              "      <td>436.6</td>\n",
              "      <td>221100</td>\n",
              "      <td>2015-06-10</td>\n",
              "      <td>Great survival game. The Early Access business...</td>\n",
              "      <td>2015-06-10</td>\n",
              "      <td>2015</td>\n",
              "      <td>6</td>\n",
              "    </tr>\n",
              "  </tbody>\n",
              "</table>\n",
              "</div>"
            ],
            "text/plain": [
              "       username  hours  product_id  ...      Fecha  Year month\n",
              "501060      123    0.2      339610  ... 2015-08-04  2015     8\n",
              "501409      123    7.4      202970  ... 2013-02-15  2013     2\n",
              "506932      123  271.6      252490  ... 2017-02-03  2017     2\n",
              "511511      123  205.8       49520  ... 2013-12-29  2013    12\n",
              "514098      123  436.6      221100  ... 2015-06-10  2015     6\n",
              "\n",
              "[5 rows x 8 columns]"
            ]
          },
          "metadata": {
            "tags": []
          },
          "execution_count": 197
        }
      ]
    },
    {
      "cell_type": "code",
      "metadata": {
        "colab": {
          "base_uri": "https://localhost:8080/"
        },
        "id": "Oz-PYOx4U15f",
        "outputId": "f29a936d-4b3a-402a-f7c8-b5b72362aed0"
      },
      "source": [
        "juegos_jugados.shape[0]"
      ],
      "execution_count": 199,
      "outputs": [
        {
          "output_type": "execute_result",
          "data": {
            "text/plain": [
              "74"
            ]
          },
          "metadata": {
            "tags": []
          },
          "execution_count": 199
        }
      ]
    },
    {
      "cell_type": "code",
      "metadata": {
        "id": "y07qeJ74S6VQ"
      },
      "source": [
        "for i in juegos_jugados.product_id:\n",
        "  id = i\n",
        "  recomendaciones_games.drop(recomendaciones_games[recomendaciones_games['id'] == id ].index, inplace=True)"
      ],
      "execution_count": 198,
      "outputs": []
    },
    {
      "cell_type": "code",
      "metadata": {
        "colab": {
          "base_uri": "https://localhost:8080/"
        },
        "id": "xcpfDi0BU1cr",
        "outputId": "d190bbc9-3566-4288-8685-507688b7f85c"
      },
      "source": [
        "recomendaciones_games.shape[0]   29923"
      ],
      "execution_count": 200,
      "outputs": [
        {
          "output_type": "execute_result",
          "data": {
            "text/plain": [
              "29849"
            ]
          },
          "metadata": {
            "tags": []
          },
          "execution_count": 200
        }
      ]
    },
    {
      "cell_type": "code",
      "metadata": {
        "id": "fkyqwjp9Sc1h"
      },
      "source": [
        ""
      ],
      "execution_count": null,
      "outputs": []
    },
    {
      "cell_type": "code",
      "metadata": {
        "id": "elB3LVPMScwG"
      },
      "source": [
        ""
      ],
      "execution_count": null,
      "outputs": []
    },
    {
      "cell_type": "code",
      "metadata": {
        "id": "Qypc1i-oQYCI"
      },
      "source": [
        ""
      ],
      "execution_count": null,
      "outputs": []
    },
    {
      "cell_type": "code",
      "metadata": {
        "id": "pJnKN8IGPted"
      },
      "source": [
        ""
      ],
      "execution_count": null,
      "outputs": []
    },
    {
      "cell_type": "code",
      "metadata": {
        "id": "EMFU3achMMhj"
      },
      "source": [
        "recomendaciones_usuario.drop(usuario_vistas.Movie_id, inplace = True)  #Elimino las peliculas que ya vio\n",
        "recomendaciones_usuario = recomendaciones_usuario.reset_index()        #Reseteo el indice\n",
        "recomendaciones_usuario.head()"
      ],
      "execution_count": null,
      "outputs": []
    },
    {
      "cell_type": "code",
      "metadata": {
        "id": "I2zeNyWqCSB-"
      },
      "source": [
        ""
      ],
      "execution_count": null,
      "outputs": []
    },
    {
      "cell_type": "code",
      "metadata": {
        "id": "0QtAwNI_CJap"
      },
      "source": [
        ""
      ],
      "execution_count": null,
      "outputs": []
    },
    {
      "cell_type": "code",
      "metadata": {
        "id": "YvDb2QYMCJQr"
      },
      "source": [
        ""
      ],
      "execution_count": null,
      "outputs": []
    },
    {
      "cell_type": "code",
      "metadata": {
        "id": "IpRfL1E3cf0F"
      },
      "source": [
        ""
      ],
      "execution_count": null,
      "outputs": []
    },
    {
      "cell_type": "code",
      "metadata": {
        "id": "yA3jTAqp-bFX"
      },
      "source": [
        "import nltk\n",
        "import goslate\n",
        "nltk.download('punkt')\n",
        "nltk.download('stopwords')"
      ],
      "execution_count": null,
      "outputs": []
    },
    {
      "cell_type": "code",
      "metadata": {
        "id": "XuRmign0AKcr"
      },
      "source": [
        "data_reviews.head(2)"
      ],
      "execution_count": null,
      "outputs": []
    },
    {
      "cell_type": "code",
      "metadata": {
        "id": "j8_rDxze-Ri9"
      },
      "source": [
        "valores_nulos(data_reviews)"
      ],
      "execution_count": null,
      "outputs": []
    },
    {
      "cell_type": "markdown",
      "metadata": {
        "id": "_oUpbzNC_gPr"
      },
      "source": [
        "\n",
        "https://www.youtube.com/watch?v=oy1lcj8s8sQ&t=620s  -->PRocesamiento de comentario\n",
        "\n",
        "https://stackoverflow.com/questions/57744725/how-to-convert-emojis-emoticons-to-their-meanings-in-python --> Convertir emojis to text\n"
      ]
    },
    {
      "cell_type": "code",
      "metadata": {
        "id": "aSiSEjMIDLh4"
      },
      "source": [
        "#Defino el modelo para traduccion\n",
        "gs = goslate.Goslate()"
      ],
      "execution_count": null,
      "outputs": []
    },
    {
      "cell_type": "code",
      "metadata": {
        "id": "9wn7u6TiAgeT"
      },
      "source": [
        "  s = data_reviews.text.iloc[2]"
      ],
      "execution_count": null,
      "outputs": []
    },
    {
      "cell_type": "code",
      "metadata": {
        "id": "F-087C49AjWH"
      },
      "source": [
        "TextBlob(s).translate(to = 'en')"
      ],
      "execution_count": null,
      "outputs": []
    },
    {
      "cell_type": "code",
      "metadata": {
        "id": "DdV_2Qj9A5Nv"
      },
      "source": [
        "for i in range(data_reviews.shape[0]):\n",
        "  reviews = data_reviews.text.iloc[i]\n",
        "  data_reviews['Traduccion'] = gs.translate(reviews,'en')"
      ],
      "execution_count": null,
      "outputs": []
    },
    {
      "cell_type": "code",
      "metadata": {
        "id": "BpPG4oeDBHhy"
      },
      "source": [
        "pip install goslate"
      ],
      "execution_count": null,
      "outputs": []
    },
    {
      "cell_type": "code",
      "metadata": {
        "id": "yMx5IFLdCtNM"
      },
      "source": [
        "import goslate"
      ],
      "execution_count": null,
      "outputs": []
    },
    {
      "cell_type": "code",
      "metadata": {
        "id": "rz7RW5-pCyvt"
      },
      "source": [
        "text = \"Hello World\"\n",
        "\n",
        "gs = goslate.Goslate()\n",
        "translatedText = gs.translate(text,'es')"
      ],
      "execution_count": null,
      "outputs": []
    },
    {
      "cell_type": "code",
      "metadata": {
        "id": "PVUPOlGrC123"
      },
      "source": [
        "print(translatedText)"
      ],
      "execution_count": null,
      "outputs": []
    },
    {
      "cell_type": "code",
      "metadata": {
        "id": "CvwtL3wsC2YD"
      },
      "source": [
        "for i in range(data_reviews.shape[0]):\n",
        "  reviews = data_reviews.text.iloc[i]\n",
        "  data_reviews['Traduccion'] = TextBlob(reviews).detect_language()"
      ],
      "execution_count": null,
      "outputs": []
    },
    {
      "cell_type": "markdown",
      "metadata": {
        "id": "N8rHZyDPFsMY"
      },
      "source": [
        ""
      ]
    },
    {
      "cell_type": "code",
      "metadata": {
        "id": "1ir7K3UIgoN-"
      },
      "source": [
        "import emoji"
      ],
      "execution_count": null,
      "outputs": []
    },
    {
      "cell_type": "code",
      "metadata": {
        "id": "P13InhQEgx8o"
      },
      "source": [
        "corazon = '😁'"
      ],
      "execution_count": null,
      "outputs": []
    },
    {
      "cell_type": "code",
      "metadata": {
        "id": "XMHgP6r1gtOW",
        "colab": {
          "base_uri": "https://localhost:8080/"
        },
        "outputId": "81dcd68f-dad4-4673-fc46-df8743d19f14"
      },
      "source": [
        "print(emoji.demojize(corazon))"
      ],
      "execution_count": null,
      "outputs": [
        {
          "output_type": "stream",
          "text": [
            ":beaming_face_with_smiling_eyes:\n"
          ],
          "name": "stdout"
        }
      ]
    },
    {
      "cell_type": "code",
      "metadata": {
        "id": "-UdgRt5BrMq_"
      },
      "source": [
        "a = data_reviews.text.iloc[6]"
      ],
      "execution_count": null,
      "outputs": []
    },
    {
      "cell_type": "code",
      "metadata": {
        "colab": {
          "base_uri": "https://localhost:8080/",
          "height": 35
        },
        "id": "M_YxzsIj0ofz",
        "outputId": "a7390bfe-204a-4bd6-b119-fab5382f9d17"
      },
      "source": [
        "a"
      ],
      "execution_count": null,
      "outputs": [
        {
          "output_type": "execute_result",
          "data": {
            "application/vnd.google.colaboratory.intrinsic+json": {
              "type": "string"
            },
            "text/plain": [
              "'Putting a hat on your head has disasterous repercussions.'"
            ]
          },
          "metadata": {
            "tags": []
          },
          "execution_count": 78
        }
      ]
    },
    {
      "cell_type": "code",
      "metadata": {
        "id": "J50ZUd5nrUfq",
        "colab": {
          "base_uri": "https://localhost:8080/"
        },
        "outputId": "7673e694-ee0b-4133-c09f-d1169ae9e94b"
      },
      "source": [
        "print(emoji.demojize(a))"
      ],
      "execution_count": null,
      "outputs": [
        {
          "output_type": "stream",
          "text": [
            "Putting a hat on your head has disasterous repercussions.\n"
          ],
          "name": "stdout"
        }
      ]
    }
  ]
}