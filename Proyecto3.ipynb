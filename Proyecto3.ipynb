{
  "nbformat": 4,
  "nbformat_minor": 0,
  "metadata": {
    "colab": {
      "name": "Proyecto3.ipynb",
      "provenance": [],
      "collapsed_sections": [
        "aY2fodU1akiM",
        "rOT82_sV75Pv",
        "h7J9cJE3zItE",
        "BG-UEbs61D6x",
        "I-ecakxZYsME"
      ],
      "mount_file_id": "1ahp042009K1w10hHBr-g8pTtrlLzYwvK",
      "authorship_tag": "ABX9TyPIAlr/GSdbYoqdkcWxYYtx"
    },
    "kernelspec": {
      "name": "python3",
      "display_name": "Python 3"
    }
  },
  "cells": [
    {
      "cell_type": "code",
      "metadata": {
        "colab": {
          "base_uri": "https://localhost:8080/"
        },
        "id": "QYVLd7rvIZDd",
        "outputId": "91831691-f6f6-40e1-ac57-242bfdadf27c"
      },
      "source": [
        "pip install scikit-surprise"
      ],
      "execution_count": 1,
      "outputs": [
        {
          "output_type": "stream",
          "text": [
            "Requirement already satisfied: scikit-surprise in /usr/local/lib/python3.6/dist-packages (1.1.1)\n",
            "Requirement already satisfied: scipy>=1.0.0 in /usr/local/lib/python3.6/dist-packages (from scikit-surprise) (1.4.1)\n",
            "Requirement already satisfied: joblib>=0.11 in /usr/local/lib/python3.6/dist-packages (from scikit-surprise) (0.17.0)\n",
            "Requirement already satisfied: numpy>=1.11.2 in /usr/local/lib/python3.6/dist-packages (from scikit-surprise) (1.18.5)\n",
            "Requirement already satisfied: six>=1.10.0 in /usr/local/lib/python3.6/dist-packages (from scikit-surprise) (1.15.0)\n"
          ],
          "name": "stdout"
        }
      ]
    },
    {
      "cell_type": "code",
      "metadata": {
        "id": "Nd53xcCqKUpV",
        "colab": {
          "base_uri": "https://localhost:8080/"
        },
        "outputId": "0117355a-cac7-42a9-fbdb-d2c20a2c94c7"
      },
      "source": [
        "import numpy as np\n",
        "import pandas as pd\n",
        "import matplotlib.pyplot as plt\n",
        "import seaborn as sns\n",
        "sns.set_style(\"dark\")\n",
        "\n",
        "import string \n",
        "import datetime\n",
        "import gzip\n",
        "\n",
        "from sklearn import preprocessing\n",
        "from textblob import TextBlob\n",
        "\n",
        "import nltk\n",
        "nltk.download('punkt')\n",
        "nltk.download('stopwords')\n",
        "from nltk.corpus import stopwords\n",
        "from sklearn.metrics.pairwise import linear_kernel\n",
        "from sklearn.feature_extraction.text import TfidfVectorizer\n",
        "from surprise import Reader\n",
        "from surprise import Dataset\n",
        "from surprise.model_selection import train_test_split\n",
        "\n",
        "from surprise.model_selection import GridSearchCV\n",
        "\n",
        "\n",
        "import warnings\n",
        "warnings.filterwarnings('ignore')\n",
        "\n"
      ],
      "execution_count": 2,
      "outputs": [
        {
          "output_type": "stream",
          "text": [
            "[nltk_data] Downloading package punkt to /root/nltk_data...\n",
            "[nltk_data]   Package punkt is already up-to-date!\n",
            "[nltk_data] Downloading package stopwords to /root/nltk_data...\n",
            "[nltk_data]   Package stopwords is already up-to-date!\n"
          ],
          "name": "stdout"
        }
      ]
    },
    {
      "cell_type": "code",
      "metadata": {
        "id": "TWj6Sw20SUT4"
      },
      "source": [
        "def parse(path):\n",
        "    g = gzip.open(path, 'r')\n",
        "    for l in g:\n",
        "        yield eval(l)"
      ],
      "execution_count": 3,
      "outputs": []
    },
    {
      "cell_type": "code",
      "metadata": {
        "id": "OjmirkGnSc2b"
      },
      "source": [
        "url_review = '/content/drive/My Drive/Data/steam_reviews.json.gz'\n",
        "contador = 0\n",
        "data_reviews = []\n",
        "# Vamos a guardar una de cada 10 reviews para no llenar la memoria RAM. Si pones n = 3, \n",
        "# abrira uno de cada tres, y asi.\n",
        "n = 15\n",
        "for l in parse(url_review):\n",
        "    if contador%n == 0:\n",
        "        data_reviews.append(l)\n",
        "    else:\n",
        "        pass\n",
        "    contador += 1\n",
        "\n",
        "data_reviews = pd.DataFrame(data_reviews)"
      ],
      "execution_count": 4,
      "outputs": []
    },
    {
      "cell_type": "code",
      "metadata": {
        "id": "Tx6oE_jOzUfZ"
      },
      "source": [
        "url_games = '/content/drive/My Drive/Data/steam_games.json.gz'\n",
        "data_games = []\n",
        "for l in parse(url_games):\n",
        "    data_games.append(l)\n",
        "data_games = pd.DataFrame(data_games)"
      ],
      "execution_count": 5,
      "outputs": []
    },
    {
      "cell_type": "markdown",
      "metadata": {
        "id": "G01Aoe_F09UB"
      },
      "source": [
        "https://towardsdatascience.com/steam-recommendation-systems-4358917288eb\n",
        "\n",
        "https://ansegura7.github.io/RS_Surprise/pages/RS_SVD.html"
      ]
    },
    {
      "cell_type": "markdown",
      "metadata": {
        "id": "aY2fodU1akiM"
      },
      "source": [
        "# Parte A Procesamiento de datos"
      ]
    },
    {
      "cell_type": "markdown",
      "metadata": {
        "id": "wmhdnBAPelW3"
      },
      "source": [
        "## Reviews"
      ]
    },
    {
      "cell_type": "code",
      "metadata": {
        "id": "9bhA0PfxT_MB",
        "colab": {
          "base_uri": "https://localhost:8080/",
          "height": 261
        },
        "outputId": "c859d637-a498-49ba-88fd-f369026f1673"
      },
      "source": [
        "data_reviews.head(4)"
      ],
      "execution_count": 6,
      "outputs": [
        {
          "output_type": "execute_result",
          "data": {
            "text/html": [
              "<div>\n",
              "<style scoped>\n",
              "    .dataframe tbody tr th:only-of-type {\n",
              "        vertical-align: middle;\n",
              "    }\n",
              "\n",
              "    .dataframe tbody tr th {\n",
              "        vertical-align: top;\n",
              "    }\n",
              "\n",
              "    .dataframe thead th {\n",
              "        text-align: right;\n",
              "    }\n",
              "</style>\n",
              "<table border=\"1\" class=\"dataframe\">\n",
              "  <thead>\n",
              "    <tr style=\"text-align: right;\">\n",
              "      <th></th>\n",
              "      <th>username</th>\n",
              "      <th>hours</th>\n",
              "      <th>products</th>\n",
              "      <th>product_id</th>\n",
              "      <th>page_order</th>\n",
              "      <th>date</th>\n",
              "      <th>text</th>\n",
              "      <th>early_access</th>\n",
              "      <th>page</th>\n",
              "      <th>user_id</th>\n",
              "      <th>compensation</th>\n",
              "      <th>found_funny</th>\n",
              "    </tr>\n",
              "  </thead>\n",
              "  <tbody>\n",
              "    <tr>\n",
              "      <th>0</th>\n",
              "      <td>Chaos Syren</td>\n",
              "      <td>0.1</td>\n",
              "      <td>41.0</td>\n",
              "      <td>725280</td>\n",
              "      <td>0</td>\n",
              "      <td>2017-12-17</td>\n",
              "      <td>This would not be acceptable as an entertainme...</td>\n",
              "      <td>False</td>\n",
              "      <td>1</td>\n",
              "      <td>NaN</td>\n",
              "      <td>NaN</td>\n",
              "      <td>NaN</td>\n",
              "    </tr>\n",
              "    <tr>\n",
              "      <th>1</th>\n",
              "      <td>Duha Nubie</td>\n",
              "      <td>11.3</td>\n",
              "      <td>73.0</td>\n",
              "      <td>35140</td>\n",
              "      <td>4</td>\n",
              "      <td>2018-01-03</td>\n",
              "      <td>first debut feel sweet</td>\n",
              "      <td>False</td>\n",
              "      <td>1</td>\n",
              "      <td>NaN</td>\n",
              "      <td>NaN</td>\n",
              "      <td>NaN</td>\n",
              "    </tr>\n",
              "    <tr>\n",
              "      <th>2</th>\n",
              "      <td>The_Cpt_FROGGY</td>\n",
              "      <td>7.8</td>\n",
              "      <td>2217.0</td>\n",
              "      <td>631920</td>\n",
              "      <td>0</td>\n",
              "      <td>2017-12-11</td>\n",
              "      <td>Somewhere on Zibylon:\\n~~~~~~~~~~~~~~~~~~\\nZib...</td>\n",
              "      <td>False</td>\n",
              "      <td>1</td>\n",
              "      <td>76561198003030375</td>\n",
              "      <td>Product received for free</td>\n",
              "      <td>NaN</td>\n",
              "    </tr>\n",
              "    <tr>\n",
              "      <th>3</th>\n",
              "      <td>S0YxSauCe</td>\n",
              "      <td>0.3</td>\n",
              "      <td>902.0</td>\n",
              "      <td>671270</td>\n",
              "      <td>4</td>\n",
              "      <td>2017-07-10</td>\n",
              "      <td>Easy game. All you have to do is put the hat t...</td>\n",
              "      <td>False</td>\n",
              "      <td>1</td>\n",
              "      <td>NaN</td>\n",
              "      <td>NaN</td>\n",
              "      <td>NaN</td>\n",
              "    </tr>\n",
              "  </tbody>\n",
              "</table>\n",
              "</div>"
            ],
            "text/plain": [
              "         username  hours  ...               compensation found_funny\n",
              "0     Chaos Syren    0.1  ...                        NaN         NaN\n",
              "1      Duha Nubie   11.3  ...                        NaN         NaN\n",
              "2  The_Cpt_FROGGY    7.8  ...  Product received for free         NaN\n",
              "3       S0YxSauCe    0.3  ...                        NaN         NaN\n",
              "\n",
              "[4 rows x 12 columns]"
            ]
          },
          "metadata": {
            "tags": []
          },
          "execution_count": 6
        }
      ]
    },
    {
      "cell_type": "code",
      "metadata": {
        "id": "I0huyNX7UB3E",
        "colab": {
          "base_uri": "https://localhost:8080/"
        },
        "outputId": "c84b2110-3436-4c20-a17f-a1221c184e77"
      },
      "source": [
        "data_reviews.shape"
      ],
      "execution_count": 7,
      "outputs": [
        {
          "output_type": "execute_result",
          "data": {
            "text/plain": [
              "(519538, 12)"
            ]
          },
          "metadata": {
            "tags": []
          },
          "execution_count": 7
        }
      ]
    },
    {
      "cell_type": "code",
      "metadata": {
        "colab": {
          "base_uri": "https://localhost:8080/"
        },
        "id": "NrmIuwWVvFeN",
        "outputId": "fc4be968-5c4c-471f-e9bc-d29ca7cc93c5"
      },
      "source": [
        "data_reviews.dtypes"
      ],
      "execution_count": 8,
      "outputs": [
        {
          "output_type": "execute_result",
          "data": {
            "text/plain": [
              "username         object\n",
              "hours           float64\n",
              "products        float64\n",
              "product_id       object\n",
              "page_order        int64\n",
              "date             object\n",
              "text             object\n",
              "early_access       bool\n",
              "page              int64\n",
              "user_id          object\n",
              "compensation     object\n",
              "found_funny     float64\n",
              "dtype: object"
            ]
          },
          "metadata": {
            "tags": []
          },
          "execution_count": 8
        }
      ]
    },
    {
      "cell_type": "code",
      "metadata": {
        "id": "Ceo8n9KuQN51"
      },
      "source": [
        "#Elimino columnas\n",
        "data_reviews.drop(['page_order', 'page',\n",
        "                   'early_access', 'compensation', 'found_funny',\n",
        "                   'products', 'user_id'],\n",
        "                   axis=1, inplace=True)"
      ],
      "execution_count": 9,
      "outputs": []
    },
    {
      "cell_type": "code",
      "metadata": {
        "id": "IeDqcGAVhu1i"
      },
      "source": [
        "#Convertir a string columnas\n",
        "columnas = ['username', 'text']\n",
        "for i in columnas:\n",
        "  data_reviews[i] = data_reviews[i].astype('string')\n",
        "\n",
        "#Convertir a int64 columna product_id\n",
        "data_reviews['product_id'] = data_reviews['product_id'].astype('int64')\n",
        "\n",
        "#Conversion a tipo datetime64\n",
        "data_reviews['Fecha'] = pd.to_datetime(data_reviews['date'])\n",
        "data_reviews['Year'] = data_reviews['Fecha'].dt.year            #Nueva columna con el año del review\n",
        "data_reviews['month'] = data_reviews['Fecha'].dt.month          #Nueva columna con el mes del review"
      ],
      "execution_count": 10,
      "outputs": []
    },
    {
      "cell_type": "code",
      "metadata": {
        "id": "A-e77rJMhumc"
      },
      "source": [
        "#Elimino reviews duplicadas del mismo usuario para el mismo videojuego, dejando la mas reciente\n",
        "data_reviews.drop_duplicates(subset=['username', 'product_id'], keep='first', inplace=True)"
      ],
      "execution_count": 11,
      "outputs": []
    },
    {
      "cell_type": "code",
      "metadata": {
        "id": "InmydCcPk_7_"
      },
      "source": [
        "def valores_nulos(data):\n",
        "  print('<-- Porcentaje de valores nulos -->\\n')\n",
        "  print(data.isnull().sum() / data.shape[0] * 100)"
      ],
      "execution_count": 12,
      "outputs": []
    },
    {
      "cell_type": "code",
      "metadata": {
        "colab": {
          "base_uri": "https://localhost:8080/"
        },
        "id": "BmYKavKGkV-2",
        "outputId": "704ceb51-e2b2-441c-e6a0-ffc4797a65fd"
      },
      "source": [
        "valores_nulos(data_reviews)"
      ],
      "execution_count": 13,
      "outputs": [
        {
          "output_type": "stream",
          "text": [
            "<-- Porcentaje de valores nulos -->\n",
            "\n",
            "username      0.000000\n",
            "hours         0.341593\n",
            "product_id    0.000000\n",
            "date          0.000000\n",
            "text          0.000000\n",
            "Fecha         0.000000\n",
            "Year          0.000000\n",
            "month         0.000000\n",
            "dtype: float64\n"
          ],
          "name": "stdout"
        }
      ]
    },
    {
      "cell_type": "markdown",
      "metadata": {
        "id": "QsCmiyPeCZv8"
      },
      "source": [
        " ## Info Games"
      ]
    },
    {
      "cell_type": "code",
      "metadata": {
        "colab": {
          "base_uri": "https://localhost:8080/"
        },
        "id": "pMzdad6Jv-AS",
        "outputId": "eacb1265-0c3c-44ef-81ba-3214ca9c3779"
      },
      "source": [
        "data_games.shape"
      ],
      "execution_count": 14,
      "outputs": [
        {
          "output_type": "execute_result",
          "data": {
            "text/plain": [
              "(32135, 16)"
            ]
          },
          "metadata": {
            "tags": []
          },
          "execution_count": 14
        }
      ]
    },
    {
      "cell_type": "code",
      "metadata": {
        "colab": {
          "base_uri": "https://localhost:8080/"
        },
        "id": "JhKrNmdxeT7F",
        "outputId": "44c72df3-7057-4e91-eceb-57df59eeda0b"
      },
      "source": [
        "data_games.dtypes"
      ],
      "execution_count": 15,
      "outputs": [
        {
          "output_type": "execute_result",
          "data": {
            "text/plain": [
              "publisher          object\n",
              "genres             object\n",
              "app_name           object\n",
              "title              object\n",
              "url                object\n",
              "release_date       object\n",
              "tags               object\n",
              "discount_price    float64\n",
              "reviews_url        object\n",
              "specs              object\n",
              "price              object\n",
              "early_access         bool\n",
              "id                 object\n",
              "developer          object\n",
              "sentiment          object\n",
              "metascore          object\n",
              "dtype: object"
            ]
          },
          "metadata": {
            "tags": []
          },
          "execution_count": 15
        }
      ]
    },
    {
      "cell_type": "code",
      "metadata": {
        "id": "jcruDkfUviE9"
      },
      "source": [
        "#Elimino valores nulos\n",
        "data_games.dropna(subset=['tags', 'id', 'title'], axis=0, inplace=True)"
      ],
      "execution_count": 16,
      "outputs": []
    },
    {
      "cell_type": "code",
      "metadata": {
        "id": "bMFEmfsZnR_Z"
      },
      "source": [
        "#Convertir a string columnas\n",
        "columnas = ['genres', 'title','tags']\n",
        "for i in columnas:\n",
        "  data_games[i] = data_games[i].astype('string')\n",
        "\n",
        "#Convertir a int64 columna product_id\n",
        "data_games['id'] = data_games['id'].astype('int64')"
      ],
      "execution_count": 17,
      "outputs": []
    },
    {
      "cell_type": "code",
      "metadata": {
        "id": "bsL6I3a2xuGq"
      },
      "source": [
        "data_games.drop(['publisher','reviews_url', 'url', \n",
        "                 'early_access', 'discount_price', \n",
        "                 'app_name', 'release_date',\n",
        "                 'discount_price', 'specs', \n",
        "                 'sentiment', 'metascore'],\n",
        "                axis=1,\n",
        "                inplace=True)"
      ],
      "execution_count": 18,
      "outputs": []
    },
    {
      "cell_type": "code",
      "metadata": {
        "colab": {
          "base_uri": "https://localhost:8080/"
        },
        "id": "ZDR-Dt3JnJzC",
        "outputId": "dd96f0c8-73eb-45ba-a502-e49dca86cdd8"
      },
      "source": [
        "valores_nulos(data_games)"
      ],
      "execution_count": 19,
      "outputs": [
        {
          "output_type": "stream",
          "text": [
            "<-- Porcentaje de valores nulos -->\n",
            "\n",
            "genres       3.666076\n",
            "title        0.000000\n",
            "tags         0.000000\n",
            "price        4.103867\n",
            "id           0.000000\n",
            "developer    4.087157\n",
            "dtype: float64\n"
          ],
          "name": "stdout"
        }
      ]
    },
    {
      "cell_type": "code",
      "metadata": {
        "colab": {
          "base_uri": "https://localhost:8080/",
          "height": 295
        },
        "id": "Bb8lVqUUoqg_",
        "outputId": "1e9cec2c-169f-4376-a905-b41f3ccd3110"
      },
      "source": [
        "#Tranferencia del Nombre del videojuego segun su id\n",
        "df = pd.merge(data_reviews, data_games,  left_on='product_id', right_on='id')\n",
        "df.head(3)"
      ],
      "execution_count": 20,
      "outputs": [
        {
          "output_type": "execute_result",
          "data": {
            "text/html": [
              "<div>\n",
              "<style scoped>\n",
              "    .dataframe tbody tr th:only-of-type {\n",
              "        vertical-align: middle;\n",
              "    }\n",
              "\n",
              "    .dataframe tbody tr th {\n",
              "        vertical-align: top;\n",
              "    }\n",
              "\n",
              "    .dataframe thead th {\n",
              "        text-align: right;\n",
              "    }\n",
              "</style>\n",
              "<table border=\"1\" class=\"dataframe\">\n",
              "  <thead>\n",
              "    <tr style=\"text-align: right;\">\n",
              "      <th></th>\n",
              "      <th>username</th>\n",
              "      <th>hours</th>\n",
              "      <th>product_id</th>\n",
              "      <th>date</th>\n",
              "      <th>text</th>\n",
              "      <th>Fecha</th>\n",
              "      <th>Year</th>\n",
              "      <th>month</th>\n",
              "      <th>genres</th>\n",
              "      <th>title</th>\n",
              "      <th>tags</th>\n",
              "      <th>price</th>\n",
              "      <th>id</th>\n",
              "      <th>developer</th>\n",
              "    </tr>\n",
              "  </thead>\n",
              "  <tbody>\n",
              "    <tr>\n",
              "      <th>0</th>\n",
              "      <td>Chaos Syren</td>\n",
              "      <td>0.1</td>\n",
              "      <td>725280</td>\n",
              "      <td>2017-12-17</td>\n",
              "      <td>This would not be acceptable as an entertainme...</td>\n",
              "      <td>2017-12-17</td>\n",
              "      <td>2017</td>\n",
              "      <td>12</td>\n",
              "      <td>['Action', 'Adventure', 'Indie', 'Simulation']</td>\n",
              "      <td>Psi Project</td>\n",
              "      <td>['Action', 'Adventure', 'Indie', 'Simulation']</td>\n",
              "      <td>2.99</td>\n",
              "      <td>725280</td>\n",
              "      <td>Vyacheslav Shilikhin</td>\n",
              "    </tr>\n",
              "    <tr>\n",
              "      <th>1</th>\n",
              "      <td>Duha Nubie</td>\n",
              "      <td>11.3</td>\n",
              "      <td>35140</td>\n",
              "      <td>2018-01-03</td>\n",
              "      <td>first debut feel sweet</td>\n",
              "      <td>2018-01-03</td>\n",
              "      <td>2018</td>\n",
              "      <td>1</td>\n",
              "      <td>['Action', 'Adventure']</td>\n",
              "      <td>Batman: Arkham Asylum Game of the Year Edition</td>\n",
              "      <td>['Action', 'Batman', 'Stealth', 'Adventure', '...</td>\n",
              "      <td>19.99</td>\n",
              "      <td>35140</td>\n",
              "      <td>Rocksteady Studios,Feral Interactive (Mac)</td>\n",
              "    </tr>\n",
              "    <tr>\n",
              "      <th>2</th>\n",
              "      <td>MLGarbage</td>\n",
              "      <td>9.5</td>\n",
              "      <td>35140</td>\n",
              "      <td>2018-01-02</td>\n",
              "      <td>Fun Game. I played shadow of mordor before pla...</td>\n",
              "      <td>2018-01-02</td>\n",
              "      <td>2018</td>\n",
              "      <td>1</td>\n",
              "      <td>['Action', 'Adventure']</td>\n",
              "      <td>Batman: Arkham Asylum Game of the Year Edition</td>\n",
              "      <td>['Action', 'Batman', 'Stealth', 'Adventure', '...</td>\n",
              "      <td>19.99</td>\n",
              "      <td>35140</td>\n",
              "      <td>Rocksteady Studios,Feral Interactive (Mac)</td>\n",
              "    </tr>\n",
              "  </tbody>\n",
              "</table>\n",
              "</div>"
            ],
            "text/plain": [
              "      username  hours  ...      id                                   developer\n",
              "0  Chaos Syren    0.1  ...  725280                        Vyacheslav Shilikhin\n",
              "1   Duha Nubie   11.3  ...   35140  Rocksteady Studios,Feral Interactive (Mac)\n",
              "2    MLGarbage    9.5  ...   35140  Rocksteady Studios,Feral Interactive (Mac)\n",
              "\n",
              "[3 rows x 14 columns]"
            ]
          },
          "metadata": {
            "tags": []
          },
          "execution_count": 20
        }
      ]
    },
    {
      "cell_type": "markdown",
      "metadata": {
        "id": "vq9YlLvUm3fO"
      },
      "source": [
        "##Exploración de Información"
      ]
    },
    {
      "cell_type": "code",
      "metadata": {
        "colab": {
          "base_uri": "https://localhost:8080/"
        },
        "id": "5qrj2_lIg3-h",
        "outputId": "07fe870e-3e2f-40ae-8e34-7210253bf9b6"
      },
      "source": [
        "print('Un total de {} usuarios realizaron reviews de videojuegos'.format(len(df.username.unique())))"
      ],
      "execution_count": 21,
      "outputs": [
        {
          "output_type": "stream",
          "text": [
            "Un total de 388027 usuarios realizaron reviews de videojuegos\n"
          ],
          "name": "stdout"
        }
      ]
    },
    {
      "cell_type": "code",
      "metadata": {
        "colab": {
          "base_uri": "https://localhost:8080/"
        },
        "id": "JCpaEURihzUb",
        "outputId": "2b3a4bf1-234c-4583-ec36-121182c80ba7"
      },
      "source": [
        "print(\"<-- Top 10 Usuarios con mas reviews -->\")\n",
        "df.username.value_counts().head(10)"
      ],
      "execution_count": 22,
      "outputs": [
        {
          "output_type": "stream",
          "text": [
            "<-- Top 10 de Usuarios con mas reviews -->\n"
          ],
          "name": "stdout"
        },
        {
          "output_type": "execute_result",
          "data": {
            "text/plain": [
              "Alex           119\n",
              "Nick            99\n",
              "Jack            96\n",
              "Chris           85\n",
              "Saint Aaron     76\n",
              "Dan             76\n",
              "123             74\n",
              "Kodyd194        73\n",
              "Sam             71\n",
              "Matt            71\n",
              "Name: username, dtype: Int64"
            ]
          },
          "metadata": {
            "tags": []
          },
          "execution_count": 22
        }
      ]
    },
    {
      "cell_type": "code",
      "metadata": {
        "colab": {
          "base_uri": "https://localhost:8080/"
        },
        "id": "GeWoc66CpQ0B",
        "outputId": "117bfb02-b918-4251-d625-d57cfc77b495"
      },
      "source": [
        "print('<-- Videojuegos con mas Reviews -->\\n')\n",
        "df.title.value_counts().head(10)"
      ],
      "execution_count": 23,
      "outputs": [
        {
          "output_type": "stream",
          "text": [
            "<-- Videojuegos con mas Reviews -->\n",
            "\n"
          ],
          "name": "stdout"
        },
        {
          "output_type": "execute_result",
          "data": {
            "text/plain": [
              "Team Fortress 2                11731\n",
              "Rust                            6623\n",
              "Borderlands 2                   4733\n",
              "Fallout 4                       4454\n",
              "Grand Theft Auto V              3901\n",
              "Portal 2                        3678\n",
              "Undertale                       3659\n",
              "DayZ                            3625\n",
              "Warframe                        3553\n",
              "Life is Strange - Episode 1     3345\n",
              "Name: title, dtype: Int64"
            ]
          },
          "metadata": {
            "tags": []
          },
          "execution_count": 23
        }
      ]
    },
    {
      "cell_type": "code",
      "metadata": {
        "colab": {
          "base_uri": "https://localhost:8080/",
          "height": 312
        },
        "id": "TQvgT4FsxHoi",
        "outputId": "8fecd80b-c9de-457e-cb53-99d8edbca57a"
      },
      "source": [
        "year_review = df.groupby(['Year']).count()\n",
        "plt.title('Horas acumuladas de juego por año')\n",
        "sns.barplot(x = year_review.index,\n",
        "            y=year_review.hours)"
      ],
      "execution_count": 24,
      "outputs": [
        {
          "output_type": "execute_result",
          "data": {
            "text/plain": [
              "<matplotlib.axes._subplots.AxesSubplot at 0x7efd0e703e80>"
            ]
          },
          "metadata": {
            "tags": []
          },
          "execution_count": 24
        },
        {
          "output_type": "display_data",
          "data": {
            "image/png": "[encoded data removed]",
            "text/plain": [
              "<Figure size 432x288 with 1 Axes>"
            ]
          },
          "metadata": {
            "tags": []
          }
        }
      ]
    },
    {
      "cell_type": "code",
      "metadata": {
        "id": "Erf3a2D7eBpB",
        "colab": {
          "base_uri": "https://localhost:8080/",
          "height": 312
        },
        "outputId": "031f103d-359e-471e-d31a-1b44c257fea7"
      },
      "source": [
        "months_2017 = df[df['Year'] == 2017].groupby(['month']).count()\n",
        "plt.title('Horas acumuladas de juego por mes del 2017')\n",
        "sns.barplot(x= months_2017.index,\n",
        "            y=months_2017.hours)"
      ],
      "execution_count": 25,
      "outputs": [
        {
          "output_type": "execute_result",
          "data": {
            "text/plain": [
              "<matplotlib.axes._subplots.AxesSubplot at 0x7efd21a6cd30>"
            ]
          },
          "metadata": {
            "tags": []
          },
          "execution_count": 25
        },
        {
          "output_type": "display_data",
          "data": {
            "image/png": "[encoded data removed]",
            "text/plain": [
              "<Figure size 432x288 with 1 Axes>"
            ]
          },
          "metadata": {
            "tags": []
          }
        }
      ]
    },
    {
      "cell_type": "code",
      "metadata": {
        "colab": {
          "base_uri": "https://localhost:8080/"
        },
        "id": "I4os0Wvfw5oP",
        "outputId": "57add532-23df-4e31-da12-930f83616845"
      },
      "source": [
        "print('<-- Desarrolladores con mas videojuegos registrados -->\\n')\n",
        "data_games.developer.value_counts().head(10)"
      ],
      "execution_count": 26,
      "outputs": [
        {
          "output_type": "stream",
          "text": [
            "<-- Desarrolladores con mas videojuegos registrados -->\n",
            "\n"
          ],
          "name": "stdout"
        },
        {
          "output_type": "execute_result",
          "data": {
            "text/plain": [
              "Ubisoft - San Francisco       1259\n",
              "SmiteWorks USA, LLC            813\n",
              "Dovetail Games                 253\n",
              "KOEI TECMO GAMES CO., LTD.     232\n",
              "Paradox Development Studio     156\n",
              "Capcom                         130\n",
              "Ronimo Games                   123\n",
              "Choice of Games                100\n",
              "Musopia                         95\n",
              "Stainless Games                 95\n",
              "Name: developer, dtype: int64"
            ]
          },
          "metadata": {
            "tags": []
          },
          "execution_count": 26
        }
      ]
    },
    {
      "cell_type": "code",
      "metadata": {
        "colab": {
          "base_uri": "https://localhost:8080/"
        },
        "id": "PpR_swPpx-mu",
        "outputId": "7136866a-dce4-4384-ae09-83364fa32efa"
      },
      "source": [
        "print('<-- Desarrolladores con mas reviews -->\\n')\n",
        "df.developer.value_counts().head(10)"
      ],
      "execution_count": 27,
      "outputs": [
        {
          "output_type": "stream",
          "text": [
            "<-- Desarrolladores con mas reviews -->\n",
            "\n"
          ],
          "name": "stdout"
        },
        {
          "output_type": "execute_result",
          "data": {
            "text/plain": [
              "Valve                                       24337\n",
              "Facepunch Studios                            9733\n",
              "Bohemia Interactive                          7662\n",
              "Bethesda Game Studios                        6963\n",
              "Gearbox Software,Aspyr (Mac &amp; Linux)     4733\n",
              "Ubisoft Montreal                             4707\n",
              "Hi-Rez Studios                               4128\n",
              "Daybreak Game Company                        4051\n",
              "Rockstar North                               3947\n",
              "Digital Extremes                             3804\n",
              "Name: developer, dtype: int64"
            ]
          },
          "metadata": {
            "tags": []
          },
          "execution_count": 27
        }
      ]
    },
    {
      "cell_type": "code",
      "metadata": {
        "colab": {
          "base_uri": "https://localhost:8080/",
          "height": 331
        },
        "id": "Aqd3nCrUw07Y",
        "outputId": "abb642c2-dae1-45ac-c4f9-f4b9ab026a3d"
      },
      "source": [
        "price_games = data_games.price.value_counts().head(10)\n",
        "sns.barplot(x=price_games.index[0:],\n",
        "            y=price_games)\n",
        "plt.title('Precio mas frecuente de Videojuegos Registrados')\n",
        "plt.xticks(rotation=50)\n",
        "plt.xlabel('Precio')\n",
        "plt.ylabel('Frecuencia')"
      ],
      "execution_count": 28,
      "outputs": [
        {
          "output_type": "execute_result",
          "data": {
            "text/plain": [
              "Text(0, 0.5, 'Frecuencia')"
            ]
          },
          "metadata": {
            "tags": []
          },
          "execution_count": 28
        },
        {
          "output_type": "display_data",
          "data": {
            "image/png": "[encoded data removed]",
            "text/plain": [
              "<Figure size 432x288 with 1 Axes>"
            ]
          },
          "metadata": {
            "tags": []
          }
        }
      ]
    },
    {
      "cell_type": "code",
      "metadata": {
        "colab": {
          "base_uri": "https://localhost:8080/",
          "height": 353
        },
        "id": "Y07u5knvwMys",
        "outputId": "b489cc47-23ec-4035-ccf7-135ecfc460a8"
      },
      "source": [
        "price_games = df.price.value_counts().head(10)\n",
        "sns.barplot(x=price_games.index[0:],\n",
        "            y=price_games)\n",
        "plt.title('Precio mas frecuente en Videojuegos con Reviews')\n",
        "plt.xticks(rotation=50)\n",
        "plt.xlabel('Precio')\n",
        "plt.ylabel('Frecuencia')"
      ],
      "execution_count": 29,
      "outputs": [
        {
          "output_type": "execute_result",
          "data": {
            "text/plain": [
              "Text(0, 0.5, 'Frecuencia')"
            ]
          },
          "metadata": {
            "tags": []
          },
          "execution_count": 29
        },
        {
          "output_type": "display_data",
          "data": {
            "image/png": "[encoded data removed]",
            "text/plain": [
              "<Figure size 432x288 with 1 Axes>"
            ]
          },
          "metadata": {
            "tags": []
          }
        }
      ]
    },
    {
      "cell_type": "code",
      "metadata": {
        "colab": {
          "base_uri": "https://localhost:8080/",
          "height": 129
        },
        "id": "_SHrkCxbcr9f",
        "outputId": "a5a5ea24-5cb1-4901-8ad2-0e97109c2fe3"
      },
      "source": [
        "break"
      ],
      "execution_count": 30,
      "outputs": [
        {
          "output_type": "error",
          "ename": "SyntaxError",
          "evalue": "ignored",
          "traceback": [
            "\u001b[0;36m  File \u001b[0;32m\"<ipython-input-30-6aaf1f276005>\"\u001b[0;36m, line \u001b[0;32m1\u001b[0m\n\u001b[0;31m    break\u001b[0m\n\u001b[0m         ^\u001b[0m\n\u001b[0;31mSyntaxError\u001b[0m\u001b[0;31m:\u001b[0m 'break' outside loop\n"
          ]
        }
      ]
    },
    {
      "cell_type": "markdown",
      "metadata": {
        "id": "rOT82_sV75Pv"
      },
      "source": [
        "# Procesamiento de Lenguaje Natural"
      ]
    },
    {
      "cell_type": "markdown",
      "metadata": {
        "id": "QpsVRpMryuAV"
      },
      "source": [
        "Realizo procesamiento de lenguaje, para intentar obtener una calificacion a la review realizada por el usuario , obteniendo una calificacion para la polaridad del comentario.\n",
        "Si el comentario es positivo, el valor sera igual o cercano a 1, mientras, que, si el comentario es negativo, el valor sera igual o cercano a -1, si el comentario es neutro el valor sera cercano o igual a 0"
      ]
    },
    {
      "cell_type": "code",
      "metadata": {
        "id": "BIXXCUSTclIO"
      },
      "source": [
        "df.drop(['hours', 'date', 'Fecha', 'Year', 'month', 'developer', 'price','id'], axis=1, inplace=True)"
      ],
      "execution_count": 31,
      "outputs": []
    },
    {
      "cell_type": "code",
      "metadata": {
        "id": "yvTTgj7dzo7w"
      },
      "source": [
        " #Elimino signos de puntuacion\n",
        " df['xtext'] = df['text'].str.replace('[{}]'.format(string.punctuation), ' ')"
      ],
      "execution_count": 32,
      "outputs": []
    },
    {
      "cell_type": "markdown",
      "metadata": {
        "id": "nOINlU176LDQ"
      },
      "source": [
        "## Conversion de nombre de usuarios a numeros"
      ]
    },
    {
      "cell_type": "code",
      "metadata": {
        "colab": {
          "base_uri": "https://localhost:8080/",
          "height": 162
        },
        "id": "1byVdnLO6Wa0",
        "outputId": "fef42ddf-7765-435e-8a7e-8cec141c45ce"
      },
      "source": [
        "le = preprocessing.LabelEncoder()\n",
        "le.fit(df['username'])\n",
        "df['x_username'] = le.transform(df['username'])\n",
        "\n",
        "df.head(2)"
      ],
      "execution_count": 33,
      "outputs": [
        {
          "output_type": "execute_result",
          "data": {
            "text/html": [
              "<div>\n",
              "<style scoped>\n",
              "    .dataframe tbody tr th:only-of-type {\n",
              "        vertical-align: middle;\n",
              "    }\n",
              "\n",
              "    .dataframe tbody tr th {\n",
              "        vertical-align: top;\n",
              "    }\n",
              "\n",
              "    .dataframe thead th {\n",
              "        text-align: right;\n",
              "    }\n",
              "</style>\n",
              "<table border=\"1\" class=\"dataframe\">\n",
              "  <thead>\n",
              "    <tr style=\"text-align: right;\">\n",
              "      <th></th>\n",
              "      <th>username</th>\n",
              "      <th>product_id</th>\n",
              "      <th>text</th>\n",
              "      <th>genres</th>\n",
              "      <th>title</th>\n",
              "      <th>tags</th>\n",
              "      <th>xtext</th>\n",
              "      <th>x_username</th>\n",
              "    </tr>\n",
              "  </thead>\n",
              "  <tbody>\n",
              "    <tr>\n",
              "      <th>0</th>\n",
              "      <td>Chaos Syren</td>\n",
              "      <td>725280</td>\n",
              "      <td>This would not be acceptable as an entertainme...</td>\n",
              "      <td>['Action', 'Adventure', 'Indie', 'Simulation']</td>\n",
              "      <td>Psi Project</td>\n",
              "      <td>['Action', 'Adventure', 'Indie', 'Simulation']</td>\n",
              "      <td>This would not be acceptable as an entertainme...</td>\n",
              "      <td>45116</td>\n",
              "    </tr>\n",
              "    <tr>\n",
              "      <th>1</th>\n",
              "      <td>Duha Nubie</td>\n",
              "      <td>35140</td>\n",
              "      <td>first debut feel sweet</td>\n",
              "      <td>['Action', 'Adventure']</td>\n",
              "      <td>Batman: Arkham Asylum Game of the Year Edition</td>\n",
              "      <td>['Action', 'Batman', 'Stealth', 'Adventure', '...</td>\n",
              "      <td>first debut feel sweet</td>\n",
              "      <td>73962</td>\n",
              "    </tr>\n",
              "  </tbody>\n",
              "</table>\n",
              "</div>"
            ],
            "text/plain": [
              "      username  ...  x_username\n",
              "0  Chaos Syren  ...       45116\n",
              "1   Duha Nubie  ...       73962\n",
              "\n",
              "[2 rows x 8 columns]"
            ]
          },
          "metadata": {
            "tags": []
          },
          "execution_count": 33
        }
      ]
    },
    {
      "cell_type": "code",
      "metadata": {
        "id": "WPPXhxcO6ROI"
      },
      "source": [
        "#Submuestra\n",
        "df_sub= df.sample(frac=0.1)\n",
        "df_sub.reset_index(drop=True, inplace=True)"
      ],
      "execution_count": 34,
      "outputs": []
    },
    {
      "cell_type": "markdown",
      "metadata": {
        "id": "h7J9cJE3zItE"
      },
      "source": [
        "## Emojis"
      ]
    },
    {
      "cell_type": "code",
      "metadata": {
        "id": "Zo2vQjUEzIf3"
      },
      "source": [
        "pip install emoji"
      ],
      "execution_count": null,
      "outputs": []
    },
    {
      "cell_type": "code",
      "metadata": {
        "id": "UrUVeT0LylsM"
      },
      "source": [
        "#Elimino cualquier emoji presente en la review escrita\n",
        "import emoji"
      ],
      "execution_count": null,
      "outputs": []
    },
    {
      "cell_type": "code",
      "metadata": {
        "id": "BvgNx0YbwlPm"
      },
      "source": [
        "df_reviews.xtext.iloc[1]"
      ],
      "execution_count": null,
      "outputs": []
    },
    {
      "cell_type": "code",
      "metadata": {
        "id": "BxbqRA9YwlMf"
      },
      "source": [
        "#df_reviews['xtext'] = emoji.demojize(df_reviews['xtext'])"
      ],
      "execution_count": null,
      "outputs": []
    },
    {
      "cell_type": "markdown",
      "metadata": {
        "id": "BG-UEbs61D6x"
      },
      "source": [
        "## Traduccion de comentario"
      ]
    },
    {
      "cell_type": "code",
      "metadata": {
        "id": "JTHI4FU1wk1c"
      },
      "source": [
        "#df_reviews['xtext'] = df_reviews['text'].apply(lambda x: TextBlob(x).translate(to='en'))"
      ],
      "execution_count": null,
      "outputs": []
    },
    {
      "cell_type": "code",
      "metadata": {
        "id": "fv50Rs6_wkyY"
      },
      "source": [
        "#Ya que todos los comentarios se encuentran en ingles, la celda anterior marca error, ya que no tiene acciones por realizar"
      ],
      "execution_count": null,
      "outputs": []
    },
    {
      "cell_type": "markdown",
      "metadata": {
        "id": "j17XK9E88teX"
      },
      "source": [
        "## Polaridad y subjetividad de reviews"
      ]
    },
    {
      "cell_type": "code",
      "metadata": {
        "id": "jHB9Z4ovGXAA"
      },
      "source": [
        "#Correcion de escritura\n",
        "#correciones = []\n",
        "#for i in range(df_sub.shape[0]):\n",
        "#  correcion = df_sub.xtext.iloc[i]\n",
        "#  correcion = TextBlob(correcion).correct()\n",
        "#  correciones.append(correcion)\n",
        "#df_sub['xtext'] = correciones"
      ],
      "execution_count": null,
      "outputs": []
    },
    {
      "cell_type": "code",
      "metadata": {
        "id": "K6UyOXKw8r9o"
      },
      "source": [
        "#TextBlob(comentario).sentimen"
      ],
      "execution_count": null,
      "outputs": []
    },
    {
      "cell_type": "code",
      "metadata": {
        "id": "qj5MsPoG8r0l"
      },
      "source": [
        "#Creacion de una nueva columna con la polaridad de la review\n",
        "comentarios = []\n",
        "\n",
        "for i in range(df_sub.shape[0]):\n",
        "  comentario = df_sub.xtext.iloc[i]\n",
        "  comentario = TextBlob(comentario).polarity\n",
        "  comentarios.append(comentario)\n",
        "\n",
        "df_sub['polarity'] = comentarios"
      ],
      "execution_count": 35,
      "outputs": []
    },
    {
      "cell_type": "code",
      "metadata": {
        "id": "K8K0YJJP-VAm"
      },
      "source": [
        "#Creacion de una nueva columna con la subjetividad de la revoew\n",
        "comentarios = []\n",
        "\n",
        "for i in range(df_sub.shape[0]):\n",
        "  comentario = df_sub.xtext.iloc[i]\n",
        "  comentario = TextBlob(comentario).subjectivity\n",
        "  comentarios.append(comentario)\n",
        "\n",
        "df_sub['subjectivity'] = comentarios"
      ],
      "execution_count": 36,
      "outputs": []
    },
    {
      "cell_type": "markdown",
      "metadata": {
        "id": "RIdWtFmu-Bwe"
      },
      "source": [
        "## Analisis de comentarios"
      ]
    },
    {
      "cell_type": "code",
      "metadata": {
        "colab": {
          "base_uri": "https://localhost:8080/",
          "height": 235
        },
        "id": "3_D58Ku6-Cgi",
        "outputId": "2b374283-3ca3-4621-c9d7-66cb360918a3"
      },
      "source": [
        "#Data de videojuego con el promedio de polaridad en sus reviews\n",
        "ratings = pd.DataFrame(df_sub.groupby('title')['polarity'].mean())\n",
        "ratings.head()"
      ],
      "execution_count": 38,
      "outputs": [
        {
          "output_type": "execute_result",
          "data": {
            "text/html": [
              "<div>\n",
              "<style scoped>\n",
              "    .dataframe tbody tr th:only-of-type {\n",
              "        vertical-align: middle;\n",
              "    }\n",
              "\n",
              "    .dataframe tbody tr th {\n",
              "        vertical-align: top;\n",
              "    }\n",
              "\n",
              "    .dataframe thead th {\n",
              "        text-align: right;\n",
              "    }\n",
              "</style>\n",
              "<table border=\"1\" class=\"dataframe\">\n",
              "  <thead>\n",
              "    <tr style=\"text-align: right;\">\n",
              "      <th></th>\n",
              "      <th>polarity</th>\n",
              "    </tr>\n",
              "    <tr>\n",
              "      <th>title</th>\n",
              "      <th></th>\n",
              "    </tr>\n",
              "  </thead>\n",
              "  <tbody>\n",
              "    <tr>\n",
              "      <th>#monstercakes</th>\n",
              "      <td>0.077500</td>\n",
              "    </tr>\n",
              "    <tr>\n",
              "      <th>$1 Ride</th>\n",
              "      <td>-0.137500</td>\n",
              "    </tr>\n",
              "    <tr>\n",
              "      <th>&amp;gt;observer_</th>\n",
              "      <td>0.140639</td>\n",
              "    </tr>\n",
              "    <tr>\n",
              "      <th>- Arcane RERaise -</th>\n",
              "      <td>0.400000</td>\n",
              "    </tr>\n",
              "    <tr>\n",
              "      <th>- Occult RERaise -</th>\n",
              "      <td>-0.191667</td>\n",
              "    </tr>\n",
              "  </tbody>\n",
              "</table>\n",
              "</div>"
            ],
            "text/plain": [
              "                    polarity\n",
              "title                       \n",
              "#monstercakes       0.077500\n",
              "$1 Ride            -0.137500\n",
              "&gt;observer_       0.140639\n",
              "- Arcane RERaise -  0.400000\n",
              "- Occult RERaise - -0.191667"
            ]
          },
          "metadata": {
            "tags": []
          },
          "execution_count": 38
        }
      ]
    },
    {
      "cell_type": "code",
      "metadata": {
        "colab": {
          "base_uri": "https://localhost:8080/",
          "height": 424
        },
        "id": "kGwMvN2hV9PN",
        "outputId": "66e87f26-95f9-499f-a1e4-fa372d60f614"
      },
      "source": [
        "print('<-- Videojuegos con más reviews positivas-->\\n')\n",
        "ratings.sort_values(by='polarity', ascending=False).head(10)"
      ],
      "execution_count": 41,
      "outputs": [
        {
          "output_type": "stream",
          "text": [
            "<-- Videojuegos con más reviews positivas-->\n",
            "\n"
          ],
          "name": "stdout"
        },
        {
          "output_type": "execute_result",
          "data": {
            "text/html": [
              "<div>\n",
              "<style scoped>\n",
              "    .dataframe tbody tr th:only-of-type {\n",
              "        vertical-align: middle;\n",
              "    }\n",
              "\n",
              "    .dataframe tbody tr th {\n",
              "        vertical-align: top;\n",
              "    }\n",
              "\n",
              "    .dataframe thead th {\n",
              "        text-align: right;\n",
              "    }\n",
              "</style>\n",
              "<table border=\"1\" class=\"dataframe\">\n",
              "  <thead>\n",
              "    <tr style=\"text-align: right;\">\n",
              "      <th></th>\n",
              "      <th>polarity</th>\n",
              "    </tr>\n",
              "    <tr>\n",
              "      <th>title</th>\n",
              "      <th></th>\n",
              "    </tr>\n",
              "  </thead>\n",
              "  <tbody>\n",
              "    <tr>\n",
              "      <th>Heart of Crown PC</th>\n",
              "      <td>1.00</td>\n",
              "    </tr>\n",
              "    <tr>\n",
              "      <th>Animal Super Squad</th>\n",
              "      <td>1.00</td>\n",
              "    </tr>\n",
              "    <tr>\n",
              "      <th>The Great War 1918</th>\n",
              "      <td>1.00</td>\n",
              "    </tr>\n",
              "    <tr>\n",
              "      <th>Blood Feed</th>\n",
              "      <td>1.00</td>\n",
              "    </tr>\n",
              "    <tr>\n",
              "      <th>QUAKE III: Team Arena</th>\n",
              "      <td>1.00</td>\n",
              "    </tr>\n",
              "    <tr>\n",
              "      <th>DRAGON BALL Xenoverse 2 - Steve Aoki Pack</th>\n",
              "      <td>1.00</td>\n",
              "    </tr>\n",
              "    <tr>\n",
              "      <th>Substance Painter 2</th>\n",
              "      <td>1.00</td>\n",
              "    </tr>\n",
              "    <tr>\n",
              "      <th>Spikit</th>\n",
              "      <td>1.00</td>\n",
              "    </tr>\n",
              "    <tr>\n",
              "      <th>Kick-Ass</th>\n",
              "      <td>1.00</td>\n",
              "    </tr>\n",
              "    <tr>\n",
              "      <th>Beat The Game</th>\n",
              "      <td>0.91</td>\n",
              "    </tr>\n",
              "  </tbody>\n",
              "</table>\n",
              "</div>"
            ],
            "text/plain": [
              "                                           polarity\n",
              "title                                              \n",
              "Heart of Crown PC                              1.00\n",
              "Animal Super Squad                             1.00\n",
              "The Great War 1918                             1.00\n",
              "Blood Feed                                     1.00\n",
              "QUAKE III: Team Arena                          1.00\n",
              "DRAGON BALL Xenoverse 2 - Steve Aoki Pack      1.00\n",
              "Substance Painter 2                            1.00\n",
              "Spikit                                         1.00\n",
              "Kick-Ass                                       1.00\n",
              "Beat The Game                                  0.91"
            ]
          },
          "metadata": {
            "tags": []
          },
          "execution_count": 41
        }
      ]
    },
    {
      "cell_type": "code",
      "metadata": {
        "colab": {
          "base_uri": "https://localhost:8080/",
          "height": 235
        },
        "id": "P5-CHLYW_Aix",
        "outputId": "5e5d959d-9770-4ce2-b0eb-8231549a30cf"
      },
      "source": [
        "#Nueva columna, el numero de reviews recibidas por videojuego\n",
        "ratings['num_of_ratings'] = pd.DataFrame(df_sub.groupby('title')['polarity'].count())\n",
        "ratings.head()"
      ],
      "execution_count": 43,
      "outputs": [
        {
          "output_type": "execute_result",
          "data": {
            "text/html": [
              "<div>\n",
              "<style scoped>\n",
              "    .dataframe tbody tr th:only-of-type {\n",
              "        vertical-align: middle;\n",
              "    }\n",
              "\n",
              "    .dataframe tbody tr th {\n",
              "        vertical-align: top;\n",
              "    }\n",
              "\n",
              "    .dataframe thead th {\n",
              "        text-align: right;\n",
              "    }\n",
              "</style>\n",
              "<table border=\"1\" class=\"dataframe\">\n",
              "  <thead>\n",
              "    <tr style=\"text-align: right;\">\n",
              "      <th></th>\n",
              "      <th>polarity</th>\n",
              "      <th>num of ratings</th>\n",
              "      <th>num_of_ratings</th>\n",
              "    </tr>\n",
              "    <tr>\n",
              "      <th>title</th>\n",
              "      <th></th>\n",
              "      <th></th>\n",
              "      <th></th>\n",
              "    </tr>\n",
              "  </thead>\n",
              "  <tbody>\n",
              "    <tr>\n",
              "      <th>#monstercakes</th>\n",
              "      <td>0.077500</td>\n",
              "      <td>1</td>\n",
              "      <td>1</td>\n",
              "    </tr>\n",
              "    <tr>\n",
              "      <th>$1 Ride</th>\n",
              "      <td>-0.137500</td>\n",
              "      <td>1</td>\n",
              "      <td>1</td>\n",
              "    </tr>\n",
              "    <tr>\n",
              "      <th>&amp;gt;observer_</th>\n",
              "      <td>0.140639</td>\n",
              "      <td>1</td>\n",
              "      <td>1</td>\n",
              "    </tr>\n",
              "    <tr>\n",
              "      <th>- Arcane RERaise -</th>\n",
              "      <td>0.400000</td>\n",
              "      <td>1</td>\n",
              "      <td>1</td>\n",
              "    </tr>\n",
              "    <tr>\n",
              "      <th>- Occult RERaise -</th>\n",
              "      <td>-0.191667</td>\n",
              "      <td>1</td>\n",
              "      <td>1</td>\n",
              "    </tr>\n",
              "  </tbody>\n",
              "</table>\n",
              "</div>"
            ],
            "text/plain": [
              "                    polarity  num of ratings  num_of_ratings\n",
              "title                                                       \n",
              "#monstercakes       0.077500               1               1\n",
              "$1 Ride            -0.137500               1               1\n",
              "&gt;observer_       0.140639               1               1\n",
              "- Arcane RERaise -  0.400000               1               1\n",
              "- Occult RERaise - -0.191667               1               1"
            ]
          },
          "metadata": {
            "tags": []
          },
          "execution_count": 43
        }
      ]
    },
    {
      "cell_type": "code",
      "metadata": {
        "colab": {
          "base_uri": "https://localhost:8080/",
          "height": 312
        },
        "id": "XwaoW8ue_Tbp",
        "outputId": "de5e7ed2-7fa7-46f0-c36c-9413ae081b5a"
      },
      "source": [
        "plt.figure(figsize=(10,4))\n",
        "ratings['polarity'].hist(bins=70)\n",
        "plt.xlabel('-Negativo <----------------------------> Positivo')\n",
        "plt.title(\"Polaridad de Review's\")"
      ],
      "execution_count": 45,
      "outputs": [
        {
          "output_type": "execute_result",
          "data": {
            "text/plain": [
              "Text(0.5, 1.0, \"Polaridad de Review's\")"
            ]
          },
          "metadata": {
            "tags": []
          },
          "execution_count": 45
        },
        {
          "output_type": "display_data",
          "data": {
            "image/png": "[encoded data removed]",
            "text/plain": [
              "<Figure size 720x288 with 1 Axes>"
            ]
          },
          "metadata": {
            "tags": []
          }
        }
      ]
    },
    {
      "cell_type": "markdown",
      "metadata": {
        "id": "I-ecakxZYsME"
      },
      "source": [
        "# Modelo benchmark\n",
        "Sistema de Recomendación basado en la la polaridad de la review"
      ]
    },
    {
      "cell_type": "code",
      "metadata": {
        "id": "LQEqrb3wY2Gu"
      },
      "source": [
        "df_sub.drop(columns=['text'], inplace=True)"
      ],
      "execution_count": 46,
      "outputs": []
    },
    {
      "cell_type": "code",
      "metadata": {
        "colab": {
          "base_uri": "https://localhost:8080/",
          "height": 454
        },
        "id": "w8WhQFO-ZgmP",
        "outputId": "582f4c99-89e8-4553-f984-203a420d568e"
      },
      "source": [
        "gamemat = df_sub.pivot_table(index='username',columns='title',values='polarity')\n",
        "gamemat.head()"
      ],
      "execution_count": 47,
      "outputs": [
        {
          "output_type": "execute_result",
          "data": {
            "text/html": [
              "<div>\n",
              "<style scoped>\n",
              "    .dataframe tbody tr th:only-of-type {\n",
              "        vertical-align: middle;\n",
              "    }\n",
              "\n",
              "    .dataframe tbody tr th {\n",
              "        vertical-align: top;\n",
              "    }\n",
              "\n",
              "    .dataframe thead th {\n",
              "        text-align: right;\n",
              "    }\n",
              "</style>\n",
              "<table border=\"1\" class=\"dataframe\">\n",
              "  <thead>\n",
              "    <tr style=\"text-align: right;\">\n",
              "      <th>title</th>\n",
              "      <th>#monstercakes</th>\n",
              "      <th>$1 Ride</th>\n",
              "      <th>&amp;gt;observer_</th>\n",
              "      <th>- Arcane RERaise -</th>\n",
              "      <th>- Occult RERaise -</th>\n",
              "      <th>.hack//G.U. Last Recode</th>\n",
              "      <th>//N.P.P.D. RUSH//- The milk of Ultraviolet</th>\n",
              "      <th>//SNOWFLAKE TATTOO//</th>\n",
              "      <th>001 Game Creator</th>\n",
              "      <th>0RBITALIS</th>\n",
              "      <th>10 Second Ninja</th>\n",
              "      <th>10,000,000</th>\n",
              "      <th>100% Orange Juice</th>\n",
              "      <th>1000 Amps</th>\n",
              "      <th>1001 Spikes</th>\n",
              "      <th>12 Labours of Hercules</th>\n",
              "      <th>12 Labours of Hercules II: The Cretan Bull</th>\n",
              "      <th>12 Labours of Hercules III: Girl Power</th>\n",
              "      <th>12 Labours of Hercules V: Kids of Hellas (Platinum Edition)</th>\n",
              "      <th>12 is Better Than 6</th>\n",
              "      <th>140</th>\n",
              "      <th>16bit Trader</th>\n",
              "      <th>18 Wheels of Steel: Convoy</th>\n",
              "      <th>18 Wheels of Steel: Extreme Trucker</th>\n",
              "      <th>1849</th>\n",
              "      <th>1917 - The Alien Invasion DX</th>\n",
              "      <th>1943 Megami Strike</th>\n",
              "      <th>1953 - KGB Unleashed</th>\n",
              "      <th>1979 Revolution: Black Friday</th>\n",
              "      <th>199X</th>\n",
              "      <th>1HEART</th>\n",
              "      <th>2 Ninjas 1 Cup</th>\n",
              "      <th>200% Mixed Juice!</th>\n",
              "      <th>2064: Read Only Memories</th>\n",
              "      <th>20XX</th>\n",
              "      <th>24 HOURS</th>\n",
              "      <th>28 Waves Later</th>\n",
              "      <th>30 IMPOSSIBLE LEVELS</th>\n",
              "      <th>3030 Deathwar Redux</th>\n",
              "      <th>3089 -- Futuristic Action RPG</th>\n",
              "      <th>...</th>\n",
              "      <th>emoj.io</th>\n",
              "      <th>eversion</th>\n",
              "      <th>fault - milestone one</th>\n",
              "      <th>fault - milestone two side:above</th>\n",
              "      <th>flChess</th>\n",
              "      <th>gravilon</th>\n",
              "      <th>hack_me</th>\n",
              "      <th>hack_me 2</th>\n",
              "      <th>hackmud</th>\n",
              "      <th>hocus</th>\n",
              "      <th>how do you Do It?</th>\n",
              "      <th>iBomber Defense Pacific</th>\n",
              "      <th>iFactor</th>\n",
              "      <th>iO</th>\n",
              "      <th>ibb &amp;amp; obb</th>\n",
              "      <th>inMomentum</th>\n",
              "      <th>klocki</th>\n",
              "      <th>kuso</th>\n",
              "      <th>liquivid Video Improve</th>\n",
              "      <th>liteCam Game 5:  120 FPS Game Capture + Streamer</th>\n",
              "      <th>liteCam Game: 100 FPS Game Capture</th>\n",
              "      <th>nail'd</th>\n",
              "      <th>oO</th>\n",
              "      <th>panGEMic</th>\n",
              "      <th>planetarian ~the reverie of a little planet~</th>\n",
              "      <th>rFactor 2</th>\n",
              "      <th>realMyst: Masterpiece Edition</th>\n",
              "      <th>resident evil 4 / biohazard 4</th>\n",
              "      <th>rymdkapsel</th>\n",
              "      <th>sZone-Online</th>\n",
              "      <th>the static speaks my name</th>\n",
              "      <th>theHunter Classic</th>\n",
              "      <th>theHunter: Call of the Wild™</th>\n",
              "      <th>theHunter: Primal</th>\n",
              "      <th>ШП</th>\n",
              "      <th>侠客风云传(Tale of Wuxia)</th>\n",
              "      <th>家有大貓 Nekojishi</th>\n",
              "      <th>東方天空璋 ～ Hidden Star in Four Seasons.</th>\n",
              "      <th>神明的一天世界(God's One Day World)</th>\n",
              "      <th>軒轅劍外傳穹之扉(The Gate of Firmament)</th>\n",
              "    </tr>\n",
              "    <tr>\n",
              "      <th>username</th>\n",
              "      <th></th>\n",
              "      <th></th>\n",
              "      <th></th>\n",
              "      <th></th>\n",
              "      <th></th>\n",
              "      <th></th>\n",
              "      <th></th>\n",
              "      <th></th>\n",
              "      <th></th>\n",
              "      <th></th>\n",
              "      <th></th>\n",
              "      <th></th>\n",
              "      <th></th>\n",
              "      <th></th>\n",
              "      <th></th>\n",
              "      <th></th>\n",
              "      <th></th>\n",
              "      <th></th>\n",
              "      <th></th>\n",
              "      <th></th>\n",
              "      <th></th>\n",
              "      <th></th>\n",
              "      <th></th>\n",
              "      <th></th>\n",
              "      <th></th>\n",
              "      <th></th>\n",
              "      <th></th>\n",
              "      <th></th>\n",
              "      <th></th>\n",
              "      <th></th>\n",
              "      <th></th>\n",
              "      <th></th>\n",
              "      <th></th>\n",
              "      <th></th>\n",
              "      <th></th>\n",
              "      <th></th>\n",
              "      <th></th>\n",
              "      <th></th>\n",
              "      <th></th>\n",
              "      <th></th>\n",
              "      <th></th>\n",
              "      <th></th>\n",
              "      <th></th>\n",
              "      <th></th>\n",
              "      <th></th>\n",
              "      <th></th>\n",
              "      <th></th>\n",
              "      <th></th>\n",
              "      <th></th>\n",
              "      <th></th>\n",
              "      <th></th>\n",
              "      <th></th>\n",
              "      <th></th>\n",
              "      <th></th>\n",
              "      <th></th>\n",
              "      <th></th>\n",
              "      <th></th>\n",
              "      <th></th>\n",
              "      <th></th>\n",
              "      <th></th>\n",
              "      <th></th>\n",
              "      <th></th>\n",
              "      <th></th>\n",
              "      <th></th>\n",
              "      <th></th>\n",
              "      <th></th>\n",
              "      <th></th>\n",
              "      <th></th>\n",
              "      <th></th>\n",
              "      <th></th>\n",
              "      <th></th>\n",
              "      <th></th>\n",
              "      <th></th>\n",
              "      <th></th>\n",
              "      <th></th>\n",
              "      <th></th>\n",
              "      <th></th>\n",
              "      <th></th>\n",
              "      <th></th>\n",
              "      <th></th>\n",
              "      <th></th>\n",
              "    </tr>\n",
              "  </thead>\n",
              "  <tbody>\n",
              "    <tr>\n",
              "      <th>! Monika !</th>\n",
              "      <td>NaN</td>\n",
              "      <td>NaN</td>\n",
              "      <td>NaN</td>\n",
              "      <td>NaN</td>\n",
              "      <td>NaN</td>\n",
              "      <td>NaN</td>\n",
              "      <td>NaN</td>\n",
              "      <td>NaN</td>\n",
              "      <td>NaN</td>\n",
              "      <td>NaN</td>\n",
              "      <td>NaN</td>\n",
              "      <td>NaN</td>\n",
              "      <td>NaN</td>\n",
              "      <td>NaN</td>\n",
              "      <td>NaN</td>\n",
              "      <td>NaN</td>\n",
              "      <td>NaN</td>\n",
              "      <td>NaN</td>\n",
              "      <td>NaN</td>\n",
              "      <td>NaN</td>\n",
              "      <td>NaN</td>\n",
              "      <td>NaN</td>\n",
              "      <td>NaN</td>\n",
              "      <td>NaN</td>\n",
              "      <td>NaN</td>\n",
              "      <td>NaN</td>\n",
              "      <td>NaN</td>\n",
              "      <td>NaN</td>\n",
              "      <td>NaN</td>\n",
              "      <td>NaN</td>\n",
              "      <td>NaN</td>\n",
              "      <td>NaN</td>\n",
              "      <td>NaN</td>\n",
              "      <td>NaN</td>\n",
              "      <td>NaN</td>\n",
              "      <td>NaN</td>\n",
              "      <td>NaN</td>\n",
              "      <td>NaN</td>\n",
              "      <td>NaN</td>\n",
              "      <td>NaN</td>\n",
              "      <td>...</td>\n",
              "      <td>NaN</td>\n",
              "      <td>NaN</td>\n",
              "      <td>NaN</td>\n",
              "      <td>NaN</td>\n",
              "      <td>NaN</td>\n",
              "      <td>NaN</td>\n",
              "      <td>NaN</td>\n",
              "      <td>NaN</td>\n",
              "      <td>NaN</td>\n",
              "      <td>NaN</td>\n",
              "      <td>NaN</td>\n",
              "      <td>NaN</td>\n",
              "      <td>NaN</td>\n",
              "      <td>NaN</td>\n",
              "      <td>NaN</td>\n",
              "      <td>NaN</td>\n",
              "      <td>NaN</td>\n",
              "      <td>NaN</td>\n",
              "      <td>NaN</td>\n",
              "      <td>NaN</td>\n",
              "      <td>NaN</td>\n",
              "      <td>NaN</td>\n",
              "      <td>NaN</td>\n",
              "      <td>NaN</td>\n",
              "      <td>NaN</td>\n",
              "      <td>NaN</td>\n",
              "      <td>NaN</td>\n",
              "      <td>NaN</td>\n",
              "      <td>NaN</td>\n",
              "      <td>NaN</td>\n",
              "      <td>NaN</td>\n",
              "      <td>NaN</td>\n",
              "      <td>NaN</td>\n",
              "      <td>NaN</td>\n",
              "      <td>NaN</td>\n",
              "      <td>NaN</td>\n",
              "      <td>NaN</td>\n",
              "      <td>NaN</td>\n",
              "      <td>NaN</td>\n",
              "      <td>NaN</td>\n",
              "    </tr>\n",
              "    <tr>\n",
              "      <th>!#ChatOff_I Got It&lt;3</th>\n",
              "      <td>NaN</td>\n",
              "      <td>NaN</td>\n",
              "      <td>NaN</td>\n",
              "      <td>NaN</td>\n",
              "      <td>NaN</td>\n",
              "      <td>NaN</td>\n",
              "      <td>NaN</td>\n",
              "      <td>NaN</td>\n",
              "      <td>NaN</td>\n",
              "      <td>NaN</td>\n",
              "      <td>NaN</td>\n",
              "      <td>NaN</td>\n",
              "      <td>NaN</td>\n",
              "      <td>NaN</td>\n",
              "      <td>NaN</td>\n",
              "      <td>NaN</td>\n",
              "      <td>NaN</td>\n",
              "      <td>NaN</td>\n",
              "      <td>NaN</td>\n",
              "      <td>NaN</td>\n",
              "      <td>NaN</td>\n",
              "      <td>NaN</td>\n",
              "      <td>NaN</td>\n",
              "      <td>NaN</td>\n",
              "      <td>NaN</td>\n",
              "      <td>NaN</td>\n",
              "      <td>NaN</td>\n",
              "      <td>NaN</td>\n",
              "      <td>NaN</td>\n",
              "      <td>NaN</td>\n",
              "      <td>NaN</td>\n",
              "      <td>NaN</td>\n",
              "      <td>NaN</td>\n",
              "      <td>NaN</td>\n",
              "      <td>NaN</td>\n",
              "      <td>NaN</td>\n",
              "      <td>NaN</td>\n",
              "      <td>NaN</td>\n",
              "      <td>NaN</td>\n",
              "      <td>NaN</td>\n",
              "      <td>...</td>\n",
              "      <td>NaN</td>\n",
              "      <td>NaN</td>\n",
              "      <td>NaN</td>\n",
              "      <td>NaN</td>\n",
              "      <td>NaN</td>\n",
              "      <td>NaN</td>\n",
              "      <td>NaN</td>\n",
              "      <td>NaN</td>\n",
              "      <td>NaN</td>\n",
              "      <td>NaN</td>\n",
              "      <td>NaN</td>\n",
              "      <td>NaN</td>\n",
              "      <td>NaN</td>\n",
              "      <td>NaN</td>\n",
              "      <td>NaN</td>\n",
              "      <td>NaN</td>\n",
              "      <td>NaN</td>\n",
              "      <td>NaN</td>\n",
              "      <td>NaN</td>\n",
              "      <td>NaN</td>\n",
              "      <td>NaN</td>\n",
              "      <td>NaN</td>\n",
              "      <td>NaN</td>\n",
              "      <td>NaN</td>\n",
              "      <td>NaN</td>\n",
              "      <td>NaN</td>\n",
              "      <td>NaN</td>\n",
              "      <td>NaN</td>\n",
              "      <td>NaN</td>\n",
              "      <td>NaN</td>\n",
              "      <td>NaN</td>\n",
              "      <td>NaN</td>\n",
              "      <td>NaN</td>\n",
              "      <td>NaN</td>\n",
              "      <td>NaN</td>\n",
              "      <td>NaN</td>\n",
              "      <td>NaN</td>\n",
              "      <td>NaN</td>\n",
              "      <td>NaN</td>\n",
              "      <td>NaN</td>\n",
              "    </tr>\n",
              "    <tr>\n",
              "      <th>!FT!Marauder - In-Game - LIFE</th>\n",
              "      <td>NaN</td>\n",
              "      <td>NaN</td>\n",
              "      <td>NaN</td>\n",
              "      <td>NaN</td>\n",
              "      <td>NaN</td>\n",
              "      <td>NaN</td>\n",
              "      <td>NaN</td>\n",
              "      <td>NaN</td>\n",
              "      <td>NaN</td>\n",
              "      <td>NaN</td>\n",
              "      <td>NaN</td>\n",
              "      <td>NaN</td>\n",
              "      <td>NaN</td>\n",
              "      <td>NaN</td>\n",
              "      <td>NaN</td>\n",
              "      <td>NaN</td>\n",
              "      <td>NaN</td>\n",
              "      <td>NaN</td>\n",
              "      <td>NaN</td>\n",
              "      <td>NaN</td>\n",
              "      <td>NaN</td>\n",
              "      <td>NaN</td>\n",
              "      <td>NaN</td>\n",
              "      <td>NaN</td>\n",
              "      <td>NaN</td>\n",
              "      <td>NaN</td>\n",
              "      <td>NaN</td>\n",
              "      <td>NaN</td>\n",
              "      <td>NaN</td>\n",
              "      <td>NaN</td>\n",
              "      <td>NaN</td>\n",
              "      <td>NaN</td>\n",
              "      <td>NaN</td>\n",
              "      <td>NaN</td>\n",
              "      <td>NaN</td>\n",
              "      <td>NaN</td>\n",
              "      <td>NaN</td>\n",
              "      <td>NaN</td>\n",
              "      <td>NaN</td>\n",
              "      <td>NaN</td>\n",
              "      <td>...</td>\n",
              "      <td>NaN</td>\n",
              "      <td>NaN</td>\n",
              "      <td>NaN</td>\n",
              "      <td>NaN</td>\n",
              "      <td>NaN</td>\n",
              "      <td>NaN</td>\n",
              "      <td>NaN</td>\n",
              "      <td>NaN</td>\n",
              "      <td>NaN</td>\n",
              "      <td>NaN</td>\n",
              "      <td>NaN</td>\n",
              "      <td>NaN</td>\n",
              "      <td>NaN</td>\n",
              "      <td>NaN</td>\n",
              "      <td>NaN</td>\n",
              "      <td>NaN</td>\n",
              "      <td>NaN</td>\n",
              "      <td>NaN</td>\n",
              "      <td>NaN</td>\n",
              "      <td>NaN</td>\n",
              "      <td>NaN</td>\n",
              "      <td>NaN</td>\n",
              "      <td>NaN</td>\n",
              "      <td>NaN</td>\n",
              "      <td>NaN</td>\n",
              "      <td>NaN</td>\n",
              "      <td>NaN</td>\n",
              "      <td>NaN</td>\n",
              "      <td>NaN</td>\n",
              "      <td>NaN</td>\n",
              "      <td>NaN</td>\n",
              "      <td>NaN</td>\n",
              "      <td>NaN</td>\n",
              "      <td>NaN</td>\n",
              "      <td>NaN</td>\n",
              "      <td>NaN</td>\n",
              "      <td>NaN</td>\n",
              "      <td>NaN</td>\n",
              "      <td>NaN</td>\n",
              "      <td>NaN</td>\n",
              "    </tr>\n",
              "    <tr>\n",
              "      <th>!Mr.A&lt;3</th>\n",
              "      <td>NaN</td>\n",
              "      <td>NaN</td>\n",
              "      <td>NaN</td>\n",
              "      <td>NaN</td>\n",
              "      <td>NaN</td>\n",
              "      <td>NaN</td>\n",
              "      <td>NaN</td>\n",
              "      <td>NaN</td>\n",
              "      <td>NaN</td>\n",
              "      <td>NaN</td>\n",
              "      <td>NaN</td>\n",
              "      <td>NaN</td>\n",
              "      <td>NaN</td>\n",
              "      <td>NaN</td>\n",
              "      <td>NaN</td>\n",
              "      <td>NaN</td>\n",
              "      <td>NaN</td>\n",
              "      <td>NaN</td>\n",
              "      <td>NaN</td>\n",
              "      <td>NaN</td>\n",
              "      <td>NaN</td>\n",
              "      <td>NaN</td>\n",
              "      <td>NaN</td>\n",
              "      <td>NaN</td>\n",
              "      <td>NaN</td>\n",
              "      <td>NaN</td>\n",
              "      <td>NaN</td>\n",
              "      <td>NaN</td>\n",
              "      <td>NaN</td>\n",
              "      <td>NaN</td>\n",
              "      <td>NaN</td>\n",
              "      <td>NaN</td>\n",
              "      <td>NaN</td>\n",
              "      <td>NaN</td>\n",
              "      <td>NaN</td>\n",
              "      <td>NaN</td>\n",
              "      <td>NaN</td>\n",
              "      <td>NaN</td>\n",
              "      <td>NaN</td>\n",
              "      <td>NaN</td>\n",
              "      <td>...</td>\n",
              "      <td>NaN</td>\n",
              "      <td>NaN</td>\n",
              "      <td>NaN</td>\n",
              "      <td>NaN</td>\n",
              "      <td>NaN</td>\n",
              "      <td>NaN</td>\n",
              "      <td>NaN</td>\n",
              "      <td>NaN</td>\n",
              "      <td>NaN</td>\n",
              "      <td>NaN</td>\n",
              "      <td>NaN</td>\n",
              "      <td>NaN</td>\n",
              "      <td>NaN</td>\n",
              "      <td>NaN</td>\n",
              "      <td>NaN</td>\n",
              "      <td>NaN</td>\n",
              "      <td>NaN</td>\n",
              "      <td>NaN</td>\n",
              "      <td>NaN</td>\n",
              "      <td>NaN</td>\n",
              "      <td>NaN</td>\n",
              "      <td>NaN</td>\n",
              "      <td>NaN</td>\n",
              "      <td>NaN</td>\n",
              "      <td>NaN</td>\n",
              "      <td>NaN</td>\n",
              "      <td>NaN</td>\n",
              "      <td>NaN</td>\n",
              "      <td>NaN</td>\n",
              "      <td>NaN</td>\n",
              "      <td>NaN</td>\n",
              "      <td>NaN</td>\n",
              "      <td>NaN</td>\n",
              "      <td>NaN</td>\n",
              "      <td>NaN</td>\n",
              "      <td>NaN</td>\n",
              "      <td>NaN</td>\n",
              "      <td>NaN</td>\n",
              "      <td>NaN</td>\n",
              "      <td>NaN</td>\n",
              "    </tr>\n",
              "    <tr>\n",
              "      <th>!WiingzZ!</th>\n",
              "      <td>NaN</td>\n",
              "      <td>NaN</td>\n",
              "      <td>NaN</td>\n",
              "      <td>NaN</td>\n",
              "      <td>NaN</td>\n",
              "      <td>NaN</td>\n",
              "      <td>NaN</td>\n",
              "      <td>NaN</td>\n",
              "      <td>NaN</td>\n",
              "      <td>NaN</td>\n",
              "      <td>NaN</td>\n",
              "      <td>NaN</td>\n",
              "      <td>NaN</td>\n",
              "      <td>NaN</td>\n",
              "      <td>NaN</td>\n",
              "      <td>NaN</td>\n",
              "      <td>NaN</td>\n",
              "      <td>NaN</td>\n",
              "      <td>NaN</td>\n",
              "      <td>NaN</td>\n",
              "      <td>NaN</td>\n",
              "      <td>NaN</td>\n",
              "      <td>NaN</td>\n",
              "      <td>NaN</td>\n",
              "      <td>NaN</td>\n",
              "      <td>NaN</td>\n",
              "      <td>NaN</td>\n",
              "      <td>NaN</td>\n",
              "      <td>NaN</td>\n",
              "      <td>NaN</td>\n",
              "      <td>NaN</td>\n",
              "      <td>NaN</td>\n",
              "      <td>NaN</td>\n",
              "      <td>NaN</td>\n",
              "      <td>NaN</td>\n",
              "      <td>NaN</td>\n",
              "      <td>NaN</td>\n",
              "      <td>NaN</td>\n",
              "      <td>NaN</td>\n",
              "      <td>NaN</td>\n",
              "      <td>...</td>\n",
              "      <td>NaN</td>\n",
              "      <td>NaN</td>\n",
              "      <td>NaN</td>\n",
              "      <td>NaN</td>\n",
              "      <td>NaN</td>\n",
              "      <td>NaN</td>\n",
              "      <td>NaN</td>\n",
              "      <td>NaN</td>\n",
              "      <td>NaN</td>\n",
              "      <td>NaN</td>\n",
              "      <td>NaN</td>\n",
              "      <td>NaN</td>\n",
              "      <td>NaN</td>\n",
              "      <td>NaN</td>\n",
              "      <td>NaN</td>\n",
              "      <td>NaN</td>\n",
              "      <td>NaN</td>\n",
              "      <td>NaN</td>\n",
              "      <td>NaN</td>\n",
              "      <td>NaN</td>\n",
              "      <td>NaN</td>\n",
              "      <td>NaN</td>\n",
              "      <td>NaN</td>\n",
              "      <td>NaN</td>\n",
              "      <td>NaN</td>\n",
              "      <td>NaN</td>\n",
              "      <td>NaN</td>\n",
              "      <td>NaN</td>\n",
              "      <td>NaN</td>\n",
              "      <td>NaN</td>\n",
              "      <td>NaN</td>\n",
              "      <td>NaN</td>\n",
              "      <td>NaN</td>\n",
              "      <td>NaN</td>\n",
              "      <td>NaN</td>\n",
              "      <td>NaN</td>\n",
              "      <td>NaN</td>\n",
              "      <td>NaN</td>\n",
              "      <td>NaN</td>\n",
              "      <td>NaN</td>\n",
              "    </tr>\n",
              "  </tbody>\n",
              "</table>\n",
              "<p>5 rows × 5624 columns</p>\n",
              "</div>"
            ],
            "text/plain": [
              "title                          #monstercakes  ...  軒轅劍外傳穹之扉(The Gate of Firmament)\n",
              "username                                      ...                                 \n",
              "! Monika !                               NaN  ...                              NaN\n",
              "!#ChatOff_I Got It<3                     NaN  ...                              NaN\n",
              "!FT!Marauder - In-Game - LIFE            NaN  ...                              NaN\n",
              "!Mr.A<3                                  NaN  ...                              NaN\n",
              "!WiingzZ!                                NaN  ...                              NaN\n",
              "\n",
              "[5 rows x 5624 columns]"
            ]
          },
          "metadata": {
            "tags": []
          },
          "execution_count": 47
        }
      ]
    },
    {
      "cell_type": "code",
      "metadata": {
        "id": "m5cxuKQ9ZgWS"
      },
      "source": [
        "#Elimino videojuegos con menos de 20 reviews\n",
        "gamemat = gamemat.dropna(thresh=30, axis=1).fillna(0,axis=1)"
      ],
      "execution_count": 48,
      "outputs": []
    },
    {
      "cell_type": "code",
      "metadata": {
        "colab": {
          "base_uri": "https://localhost:8080/",
          "height": 522
        },
        "id": "XbjUiqOdY1r-",
        "outputId": "4e58d98c-e8bf-4aae-ee83-5a97008b7005"
      },
      "source": [
        "corrMatrix = gamemat.corr(method='pearson')\n",
        "corrMatrix.head(5)"
      ],
      "execution_count": 49,
      "outputs": [
        {
          "output_type": "execute_result",
          "data": {
            "text/html": [
              "<div>\n",
              "<style scoped>\n",
              "    .dataframe tbody tr th:only-of-type {\n",
              "        vertical-align: middle;\n",
              "    }\n",
              "\n",
              "    .dataframe tbody tr th {\n",
              "        vertical-align: top;\n",
              "    }\n",
              "\n",
              "    .dataframe thead th {\n",
              "        text-align: right;\n",
              "    }\n",
              "</style>\n",
              "<table border=\"1\" class=\"dataframe\">\n",
              "  <thead>\n",
              "    <tr style=\"text-align: right;\">\n",
              "      <th>title</th>\n",
              "      <th>100% Orange Juice</th>\n",
              "      <th>A Story About My Uncle</th>\n",
              "      <th>A.V.A. Alliance of Valiant Arms™</th>\n",
              "      <th>ABZU</th>\n",
              "      <th>APB Reloaded</th>\n",
              "      <th>ARK: Survival Evolved</th>\n",
              "      <th>ASTRONEER</th>\n",
              "      <th>Absolver</th>\n",
              "      <th>Ace of Spades: Battle Builder</th>\n",
              "      <th>AdVenture Capitalist</th>\n",
              "      <th>Age of Empires II HD</th>\n",
              "      <th>Age of Empires® III: Complete Collection</th>\n",
              "      <th>Alan Wake</th>\n",
              "      <th>Alien Swarm</th>\n",
              "      <th>Alien: Isolation</th>\n",
              "      <th>Aliens vs. Predator™</th>\n",
              "      <th>America's Army: Proving Grounds</th>\n",
              "      <th>American Truck Simulator</th>\n",
              "      <th>Amnesia: The Dark Descent</th>\n",
              "      <th>Antichamber</th>\n",
              "      <th>Arma 2: Operation Arrowhead</th>\n",
              "      <th>Arma 3</th>\n",
              "      <th>Assassin's Creed® Origins</th>\n",
              "      <th>Assassin's Creed® Unity</th>\n",
              "      <th>Assassin’s Creed® III</th>\n",
              "      <th>Assassin’s Creed® IV Black Flag™</th>\n",
              "      <th>Aura Kingdom</th>\n",
              "      <th>Awesomenauts - the 2D moba</th>\n",
              "      <th>BLOCKADE 3D</th>\n",
              "      <th>Banished</th>\n",
              "      <th>Bastion</th>\n",
              "      <th>Batman: Arkham Asylum Game of the Year Edition</th>\n",
              "      <th>Batman™: Arkham Knight</th>\n",
              "      <th>Batman™: Arkham Origins</th>\n",
              "      <th>BattleBlock Theater®</th>\n",
              "      <th>Battleborn</th>\n",
              "      <th>Battlefield: Bad Company™ 2</th>\n",
              "      <th>Battlerite</th>\n",
              "      <th>BeamNG.drive</th>\n",
              "      <th>BioShock™</th>\n",
              "      <th>...</th>\n",
              "      <th>The Witcher 2: Assassins of Kings Enhanced Edition</th>\n",
              "      <th>Thief</th>\n",
              "      <th>This War of Mine</th>\n",
              "      <th>Thomas Was Alone</th>\n",
              "      <th>To the Moon</th>\n",
              "      <th>Tom Clancy's Rainbow Six® Siege</th>\n",
              "      <th>Tom Clancy’s Splinter Cell Blacklist</th>\n",
              "      <th>Torchlight II</th>\n",
              "      <th>Total War™: ROME II - Emperor Edition</th>\n",
              "      <th>Town of Salem</th>\n",
              "      <th>Train Simulator</th>\n",
              "      <th>Transformice</th>\n",
              "      <th>Transistor</th>\n",
              "      <th>Tree of Savior (English Ver.)</th>\n",
              "      <th>Tribes: Ascend</th>\n",
              "      <th>Trine 2: Complete Story</th>\n",
              "      <th>Tropico 4</th>\n",
              "      <th>Trove</th>\n",
              "      <th>Undertale</th>\n",
              "      <th>Unturned</th>\n",
              "      <th>VA-11 Hall-A: Cyberpunk Bartender Action</th>\n",
              "      <th>VVVVVV</th>\n",
              "      <th>Vampire: The Masquerade - Bloodlines</th>\n",
              "      <th>Verdun</th>\n",
              "      <th>WARMODE</th>\n",
              "      <th>Wallpaper Engine</th>\n",
              "      <th>Warface</th>\n",
              "      <th>Warframe</th>\n",
              "      <th>Wargame: Red Dragon</th>\n",
              "      <th>Warhammer: End Times - Vermintide</th>\n",
              "      <th>Watch_Dogs® 2</th>\n",
              "      <th>Who's Your Daddy</th>\n",
              "      <th>WildStar</th>\n",
              "      <th>Wolfenstein II: The New Colossus</th>\n",
              "      <th>Wolfenstein: The New Order</th>\n",
              "      <th>World of Guns: Gun Disassembly</th>\n",
              "      <th>XCOM: Enemy Unknown</th>\n",
              "      <th>XCOM® 2</th>\n",
              "      <th>theHunter Classic</th>\n",
              "      <th>theHunter: Call of the Wild™</th>\n",
              "    </tr>\n",
              "    <tr>\n",
              "      <th>title</th>\n",
              "      <th></th>\n",
              "      <th></th>\n",
              "      <th></th>\n",
              "      <th></th>\n",
              "      <th></th>\n",
              "      <th></th>\n",
              "      <th></th>\n",
              "      <th></th>\n",
              "      <th></th>\n",
              "      <th></th>\n",
              "      <th></th>\n",
              "      <th></th>\n",
              "      <th></th>\n",
              "      <th></th>\n",
              "      <th></th>\n",
              "      <th></th>\n",
              "      <th></th>\n",
              "      <th></th>\n",
              "      <th></th>\n",
              "      <th></th>\n",
              "      <th></th>\n",
              "      <th></th>\n",
              "      <th></th>\n",
              "      <th></th>\n",
              "      <th></th>\n",
              "      <th></th>\n",
              "      <th></th>\n",
              "      <th></th>\n",
              "      <th></th>\n",
              "      <th></th>\n",
              "      <th></th>\n",
              "      <th></th>\n",
              "      <th></th>\n",
              "      <th></th>\n",
              "      <th></th>\n",
              "      <th></th>\n",
              "      <th></th>\n",
              "      <th></th>\n",
              "      <th></th>\n",
              "      <th></th>\n",
              "      <th></th>\n",
              "      <th></th>\n",
              "      <th></th>\n",
              "      <th></th>\n",
              "      <th></th>\n",
              "      <th></th>\n",
              "      <th></th>\n",
              "      <th></th>\n",
              "      <th></th>\n",
              "      <th></th>\n",
              "      <th></th>\n",
              "      <th></th>\n",
              "      <th></th>\n",
              "      <th></th>\n",
              "      <th></th>\n",
              "      <th></th>\n",
              "      <th></th>\n",
              "      <th></th>\n",
              "      <th></th>\n",
              "      <th></th>\n",
              "      <th></th>\n",
              "      <th></th>\n",
              "      <th></th>\n",
              "      <th></th>\n",
              "      <th></th>\n",
              "      <th></th>\n",
              "      <th></th>\n",
              "      <th></th>\n",
              "      <th></th>\n",
              "      <th></th>\n",
              "      <th></th>\n",
              "      <th></th>\n",
              "      <th></th>\n",
              "      <th></th>\n",
              "      <th></th>\n",
              "      <th></th>\n",
              "      <th></th>\n",
              "      <th></th>\n",
              "      <th></th>\n",
              "      <th></th>\n",
              "      <th></th>\n",
              "    </tr>\n",
              "  </thead>\n",
              "  <tbody>\n",
              "    <tr>\n",
              "      <th>100% Orange Juice</th>\n",
              "      <td>1.000000</td>\n",
              "      <td>-0.000110</td>\n",
              "      <td>-0.000014</td>\n",
              "      <td>-0.000131</td>\n",
              "      <td>-0.000063</td>\n",
              "      <td>-0.000041</td>\n",
              "      <td>-0.000054</td>\n",
              "      <td>-0.000080</td>\n",
              "      <td>-0.000008</td>\n",
              "      <td>-0.000047</td>\n",
              "      <td>-0.000162</td>\n",
              "      <td>-0.000101</td>\n",
              "      <td>-0.000120</td>\n",
              "      <td>-0.000075</td>\n",
              "      <td>-0.000077</td>\n",
              "      <td>-0.000039</td>\n",
              "      <td>-0.000059</td>\n",
              "      <td>-0.000128</td>\n",
              "      <td>-0.000030</td>\n",
              "      <td>-0.000093</td>\n",
              "      <td>-0.000097</td>\n",
              "      <td>-0.000210</td>\n",
              "      <td>-0.000099</td>\n",
              "      <td>-0.000059</td>\n",
              "      <td>-0.000039</td>\n",
              "      <td>-0.000117</td>\n",
              "      <td>-0.000075</td>\n",
              "      <td>-0.000133</td>\n",
              "      <td>-0.000035</td>\n",
              "      <td>-0.000158</td>\n",
              "      <td>-0.000206</td>\n",
              "      <td>-0.000109</td>\n",
              "      <td>-0.000077</td>\n",
              "      <td>-0.000100</td>\n",
              "      <td>-0.000088</td>\n",
              "      <td>-0.000009</td>\n",
              "      <td>-0.000138</td>\n",
              "      <td>-0.000140</td>\n",
              "      <td>-0.000099</td>\n",
              "      <td>-0.000136</td>\n",
              "      <td>...</td>\n",
              "      <td>-0.000130</td>\n",
              "      <td>-0.000054</td>\n",
              "      <td>-0.000066</td>\n",
              "      <td>-0.000110</td>\n",
              "      <td>-0.000139</td>\n",
              "      <td>-0.000158</td>\n",
              "      <td>-0.000077</td>\n",
              "      <td>-0.000181</td>\n",
              "      <td>-0.000082</td>\n",
              "      <td>-0.000071</td>\n",
              "      <td>-0.000035</td>\n",
              "      <td>-8.421852e-07</td>\n",
              "      <td>-0.000171</td>\n",
              "      <td>-0.000045</td>\n",
              "      <td>-0.000081</td>\n",
              "      <td>-0.000110</td>\n",
              "      <td>-0.000054</td>\n",
              "      <td>-0.000126</td>\n",
              "      <td>-0.000201</td>\n",
              "      <td>-0.000155</td>\n",
              "      <td>-0.000100</td>\n",
              "      <td>-0.000050</td>\n",
              "      <td>-0.000099</td>\n",
              "      <td>-0.000117</td>\n",
              "      <td>-0.000060</td>\n",
              "      <td>-0.000186</td>\n",
              "      <td>-0.000086</td>\n",
              "      <td>-0.000262</td>\n",
              "      <td>-0.000065</td>\n",
              "      <td>-0.000096</td>\n",
              "      <td>-0.000050</td>\n",
              "      <td>-0.000008</td>\n",
              "      <td>-0.000081</td>\n",
              "      <td>-0.000117</td>\n",
              "      <td>-0.000133</td>\n",
              "      <td>-0.000024</td>\n",
              "      <td>-0.000162</td>\n",
              "      <td>-0.000091</td>\n",
              "      <td>0.000071</td>\n",
              "      <td>-0.000048</td>\n",
              "    </tr>\n",
              "    <tr>\n",
              "      <th>A Story About My Uncle</th>\n",
              "      <td>-0.000110</td>\n",
              "      <td>1.000000</td>\n",
              "      <td>-0.000033</td>\n",
              "      <td>-0.000320</td>\n",
              "      <td>-0.000155</td>\n",
              "      <td>-0.000101</td>\n",
              "      <td>-0.000134</td>\n",
              "      <td>-0.000197</td>\n",
              "      <td>-0.000019</td>\n",
              "      <td>-0.000116</td>\n",
              "      <td>-0.000396</td>\n",
              "      <td>-0.000247</td>\n",
              "      <td>-0.000295</td>\n",
              "      <td>-0.000185</td>\n",
              "      <td>-0.000189</td>\n",
              "      <td>-0.000095</td>\n",
              "      <td>-0.000145</td>\n",
              "      <td>-0.000313</td>\n",
              "      <td>-0.000075</td>\n",
              "      <td>-0.000227</td>\n",
              "      <td>-0.000238</td>\n",
              "      <td>-0.000514</td>\n",
              "      <td>-0.000243</td>\n",
              "      <td>-0.000145</td>\n",
              "      <td>-0.000097</td>\n",
              "      <td>-0.000288</td>\n",
              "      <td>-0.000183</td>\n",
              "      <td>-0.000327</td>\n",
              "      <td>-0.000087</td>\n",
              "      <td>-0.000388</td>\n",
              "      <td>-0.000505</td>\n",
              "      <td>-0.000269</td>\n",
              "      <td>-0.000190</td>\n",
              "      <td>-0.000245</td>\n",
              "      <td>-0.000216</td>\n",
              "      <td>-0.002836</td>\n",
              "      <td>-0.000340</td>\n",
              "      <td>-0.000344</td>\n",
              "      <td>-0.000244</td>\n",
              "      <td>-0.000335</td>\n",
              "      <td>...</td>\n",
              "      <td>-0.000320</td>\n",
              "      <td>-0.000132</td>\n",
              "      <td>-0.000161</td>\n",
              "      <td>-0.000271</td>\n",
              "      <td>-0.000340</td>\n",
              "      <td>-0.000387</td>\n",
              "      <td>-0.000189</td>\n",
              "      <td>-0.000445</td>\n",
              "      <td>-0.000202</td>\n",
              "      <td>-0.000175</td>\n",
              "      <td>-0.000087</td>\n",
              "      <td>-2.065867e-06</td>\n",
              "      <td>-0.000419</td>\n",
              "      <td>-0.000110</td>\n",
              "      <td>-0.000199</td>\n",
              "      <td>-0.000270</td>\n",
              "      <td>-0.000133</td>\n",
              "      <td>-0.000310</td>\n",
              "      <td>-0.000493</td>\n",
              "      <td>-0.000381</td>\n",
              "      <td>-0.000245</td>\n",
              "      <td>-0.000122</td>\n",
              "      <td>-0.000243</td>\n",
              "      <td>-0.000288</td>\n",
              "      <td>-0.000146</td>\n",
              "      <td>-0.000456</td>\n",
              "      <td>-0.000211</td>\n",
              "      <td>-0.000643</td>\n",
              "      <td>-0.000158</td>\n",
              "      <td>-0.000236</td>\n",
              "      <td>-0.000122</td>\n",
              "      <td>-0.000019</td>\n",
              "      <td>-0.000199</td>\n",
              "      <td>-0.000288</td>\n",
              "      <td>-0.000327</td>\n",
              "      <td>-0.000060</td>\n",
              "      <td>-0.000398</td>\n",
              "      <td>-0.000223</td>\n",
              "      <td>0.000175</td>\n",
              "      <td>-0.000117</td>\n",
              "    </tr>\n",
              "    <tr>\n",
              "      <th>A.V.A. Alliance of Valiant Arms™</th>\n",
              "      <td>-0.000014</td>\n",
              "      <td>-0.000033</td>\n",
              "      <td>1.000000</td>\n",
              "      <td>-0.000039</td>\n",
              "      <td>-0.000019</td>\n",
              "      <td>-0.000012</td>\n",
              "      <td>-0.000016</td>\n",
              "      <td>-0.000024</td>\n",
              "      <td>-0.000002</td>\n",
              "      <td>-0.000014</td>\n",
              "      <td>-0.000049</td>\n",
              "      <td>-0.000030</td>\n",
              "      <td>-0.000036</td>\n",
              "      <td>-0.000023</td>\n",
              "      <td>-0.000023</td>\n",
              "      <td>-0.000012</td>\n",
              "      <td>-0.000018</td>\n",
              "      <td>-0.000038</td>\n",
              "      <td>-0.000009</td>\n",
              "      <td>-0.000028</td>\n",
              "      <td>-0.000029</td>\n",
              "      <td>-0.000063</td>\n",
              "      <td>-0.000030</td>\n",
              "      <td>-0.000018</td>\n",
              "      <td>-0.000012</td>\n",
              "      <td>-0.000035</td>\n",
              "      <td>-0.000022</td>\n",
              "      <td>-0.000040</td>\n",
              "      <td>-0.000011</td>\n",
              "      <td>-0.000048</td>\n",
              "      <td>-0.000062</td>\n",
              "      <td>-0.000033</td>\n",
              "      <td>-0.000023</td>\n",
              "      <td>-0.000030</td>\n",
              "      <td>-0.000027</td>\n",
              "      <td>-0.000003</td>\n",
              "      <td>-0.000042</td>\n",
              "      <td>-0.000042</td>\n",
              "      <td>-0.000030</td>\n",
              "      <td>-0.000041</td>\n",
              "      <td>...</td>\n",
              "      <td>-0.000039</td>\n",
              "      <td>-0.000016</td>\n",
              "      <td>-0.000020</td>\n",
              "      <td>-0.000033</td>\n",
              "      <td>-0.000042</td>\n",
              "      <td>-0.000048</td>\n",
              "      <td>-0.000023</td>\n",
              "      <td>-0.000055</td>\n",
              "      <td>-0.000025</td>\n",
              "      <td>-0.000022</td>\n",
              "      <td>-0.000011</td>\n",
              "      <td>-2.541762e-07</td>\n",
              "      <td>-0.000052</td>\n",
              "      <td>-0.000014</td>\n",
              "      <td>-0.000024</td>\n",
              "      <td>-0.000033</td>\n",
              "      <td>-0.000016</td>\n",
              "      <td>-0.000038</td>\n",
              "      <td>-0.000061</td>\n",
              "      <td>-0.000047</td>\n",
              "      <td>-0.000030</td>\n",
              "      <td>-0.000015</td>\n",
              "      <td>-0.000030</td>\n",
              "      <td>-0.000035</td>\n",
              "      <td>-0.000018</td>\n",
              "      <td>-0.000056</td>\n",
              "      <td>-0.000026</td>\n",
              "      <td>-0.000079</td>\n",
              "      <td>-0.000019</td>\n",
              "      <td>-0.000029</td>\n",
              "      <td>-0.000015</td>\n",
              "      <td>-0.000002</td>\n",
              "      <td>-0.000024</td>\n",
              "      <td>-0.000035</td>\n",
              "      <td>-0.000040</td>\n",
              "      <td>-0.000007</td>\n",
              "      <td>-0.000049</td>\n",
              "      <td>-0.000027</td>\n",
              "      <td>0.000022</td>\n",
              "      <td>-0.000014</td>\n",
              "    </tr>\n",
              "    <tr>\n",
              "      <th>ABZU</th>\n",
              "      <td>-0.000131</td>\n",
              "      <td>-0.000320</td>\n",
              "      <td>-0.000039</td>\n",
              "      <td>1.000000</td>\n",
              "      <td>-0.000185</td>\n",
              "      <td>-0.000120</td>\n",
              "      <td>-0.000159</td>\n",
              "      <td>-0.000234</td>\n",
              "      <td>-0.000023</td>\n",
              "      <td>-0.000137</td>\n",
              "      <td>-0.000471</td>\n",
              "      <td>-0.000294</td>\n",
              "      <td>-0.000350</td>\n",
              "      <td>-0.000220</td>\n",
              "      <td>-0.000225</td>\n",
              "      <td>-0.000113</td>\n",
              "      <td>-0.000172</td>\n",
              "      <td>-0.000371</td>\n",
              "      <td>-0.000089</td>\n",
              "      <td>-0.000270</td>\n",
              "      <td>-0.000283</td>\n",
              "      <td>-0.000611</td>\n",
              "      <td>-0.000288</td>\n",
              "      <td>-0.000172</td>\n",
              "      <td>-0.000115</td>\n",
              "      <td>-0.000342</td>\n",
              "      <td>-0.000217</td>\n",
              "      <td>-0.000388</td>\n",
              "      <td>-0.000103</td>\n",
              "      <td>-0.000461</td>\n",
              "      <td>-0.000600</td>\n",
              "      <td>-0.000319</td>\n",
              "      <td>-0.000225</td>\n",
              "      <td>-0.000291</td>\n",
              "      <td>-0.000256</td>\n",
              "      <td>-0.000026</td>\n",
              "      <td>-0.000403</td>\n",
              "      <td>-0.000408</td>\n",
              "      <td>-0.000290</td>\n",
              "      <td>-0.000397</td>\n",
              "      <td>...</td>\n",
              "      <td>-0.000380</td>\n",
              "      <td>-0.000156</td>\n",
              "      <td>-0.000191</td>\n",
              "      <td>-0.000322</td>\n",
              "      <td>-0.000404</td>\n",
              "      <td>-0.000460</td>\n",
              "      <td>-0.000224</td>\n",
              "      <td>-0.000528</td>\n",
              "      <td>-0.000240</td>\n",
              "      <td>-0.000208</td>\n",
              "      <td>-0.000103</td>\n",
              "      <td>-2.453387e-06</td>\n",
              "      <td>-0.000498</td>\n",
              "      <td>-0.000131</td>\n",
              "      <td>-0.000236</td>\n",
              "      <td>-0.000321</td>\n",
              "      <td>-0.000157</td>\n",
              "      <td>-0.000368</td>\n",
              "      <td>-0.000586</td>\n",
              "      <td>-0.000452</td>\n",
              "      <td>-0.000291</td>\n",
              "      <td>-0.000145</td>\n",
              "      <td>-0.000288</td>\n",
              "      <td>-0.000342</td>\n",
              "      <td>-0.000174</td>\n",
              "      <td>-0.000541</td>\n",
              "      <td>-0.000251</td>\n",
              "      <td>-0.000764</td>\n",
              "      <td>-0.000188</td>\n",
              "      <td>-0.000281</td>\n",
              "      <td>-0.000145</td>\n",
              "      <td>-0.000023</td>\n",
              "      <td>-0.000236</td>\n",
              "      <td>-0.024384</td>\n",
              "      <td>-0.000388</td>\n",
              "      <td>-0.000071</td>\n",
              "      <td>-0.000472</td>\n",
              "      <td>-0.000265</td>\n",
              "      <td>0.000208</td>\n",
              "      <td>-0.000139</td>\n",
              "    </tr>\n",
              "    <tr>\n",
              "      <th>APB Reloaded</th>\n",
              "      <td>-0.000063</td>\n",
              "      <td>-0.000155</td>\n",
              "      <td>-0.000019</td>\n",
              "      <td>-0.000185</td>\n",
              "      <td>1.000000</td>\n",
              "      <td>-0.000058</td>\n",
              "      <td>-0.000077</td>\n",
              "      <td>-0.000114</td>\n",
              "      <td>-0.000011</td>\n",
              "      <td>-0.000067</td>\n",
              "      <td>-0.000228</td>\n",
              "      <td>-0.000142</td>\n",
              "      <td>-0.000170</td>\n",
              "      <td>-0.000107</td>\n",
              "      <td>-0.000109</td>\n",
              "      <td>-0.000055</td>\n",
              "      <td>-0.000084</td>\n",
              "      <td>-0.000180</td>\n",
              "      <td>-0.000043</td>\n",
              "      <td>-0.000131</td>\n",
              "      <td>-0.000137</td>\n",
              "      <td>-0.000296</td>\n",
              "      <td>-0.000140</td>\n",
              "      <td>-0.000083</td>\n",
              "      <td>-0.000056</td>\n",
              "      <td>-0.000166</td>\n",
              "      <td>-0.000105</td>\n",
              "      <td>-0.000188</td>\n",
              "      <td>-0.000050</td>\n",
              "      <td>-0.000224</td>\n",
              "      <td>-0.000291</td>\n",
              "      <td>-0.000155</td>\n",
              "      <td>-0.000109</td>\n",
              "      <td>-0.000141</td>\n",
              "      <td>-0.000124</td>\n",
              "      <td>-0.000013</td>\n",
              "      <td>-0.000196</td>\n",
              "      <td>-0.000198</td>\n",
              "      <td>-0.000141</td>\n",
              "      <td>-0.000193</td>\n",
              "      <td>...</td>\n",
              "      <td>-0.000184</td>\n",
              "      <td>-0.000076</td>\n",
              "      <td>-0.000093</td>\n",
              "      <td>-0.000156</td>\n",
              "      <td>-0.000196</td>\n",
              "      <td>-0.000223</td>\n",
              "      <td>-0.000109</td>\n",
              "      <td>-0.000256</td>\n",
              "      <td>-0.000116</td>\n",
              "      <td>-0.000101</td>\n",
              "      <td>-0.000050</td>\n",
              "      <td>-1.190542e-06</td>\n",
              "      <td>-0.000242</td>\n",
              "      <td>-0.000063</td>\n",
              "      <td>-0.000114</td>\n",
              "      <td>-0.000156</td>\n",
              "      <td>-0.000076</td>\n",
              "      <td>-0.000178</td>\n",
              "      <td>-0.000284</td>\n",
              "      <td>-0.000219</td>\n",
              "      <td>-0.000141</td>\n",
              "      <td>-0.000070</td>\n",
              "      <td>-0.000140</td>\n",
              "      <td>-0.000166</td>\n",
              "      <td>-0.000084</td>\n",
              "      <td>-0.000263</td>\n",
              "      <td>-0.000122</td>\n",
              "      <td>-0.000371</td>\n",
              "      <td>-0.000091</td>\n",
              "      <td>-0.000136</td>\n",
              "      <td>-0.000070</td>\n",
              "      <td>-0.000011</td>\n",
              "      <td>-0.000114</td>\n",
              "      <td>-0.000166</td>\n",
              "      <td>-0.001019</td>\n",
              "      <td>-0.000034</td>\n",
              "      <td>-0.000229</td>\n",
              "      <td>-0.000129</td>\n",
              "      <td>0.000101</td>\n",
              "      <td>-0.000068</td>\n",
              "    </tr>\n",
              "  </tbody>\n",
              "</table>\n",
              "<p>5 rows × 360 columns</p>\n",
              "</div>"
            ],
            "text/plain": [
              "title                             100% Orange Juice  ...  theHunter: Call of the Wild™\n",
              "title                                                ...                              \n",
              "100% Orange Juice                          1.000000  ...                     -0.000048\n",
              "A Story About My Uncle                    -0.000110  ...                     -0.000117\n",
              "A.V.A. Alliance of Valiant Arms™          -0.000014  ...                     -0.000014\n",
              "ABZU                                      -0.000131  ...                     -0.000139\n",
              "APB Reloaded                              -0.000063  ...                     -0.000068\n",
              "\n",
              "[5 rows x 360 columns]"
            ]
          },
          "metadata": {
            "tags": []
          },
          "execution_count": 49
        }
      ]
    },
    {
      "cell_type": "code",
      "metadata": {
        "id": "IqSVVQsdZwk-"
      },
      "source": [
        "def get_similar(game_name,rating):\n",
        "    similar_ratings = corrMatrix[game_name]*(rating-2.5)\n",
        "    similar_ratings = similar_ratings.sort_values(ascending=False)\n",
        "    #print(type(similar_ratings))\n",
        "    return similar_ratings"
      ],
      "execution_count": 50,
      "outputs": []
    },
    {
      "cell_type": "code",
      "metadata": {
        "id": "D_sI_R0iZwck"
      },
      "source": [
        "games = [(\"Call of Duty®: Modern Warfare® 2\",0.6),(\"Battlefield: Bad Company™ 2\",1)]\n",
        "similar_games = pd.DataFrame()\n",
        "for game,rating in games:\n",
        "    similar_games = similar_games.append(get_similar(game,rating),ignore_index = True)\n",
        "\n",
        "similar_games.head(10)"
      ],
      "execution_count": null,
      "outputs": []
    },
    {
      "cell_type": "code",
      "metadata": {
        "id": "jW2wUifAZwTe"
      },
      "source": [
        "similar_games.sum().sort_values(ascending=False).head(20)"
      ],
      "execution_count": null,
      "outputs": []
    },
    {
      "cell_type": "code",
      "metadata": {
        "id": "OaPWD-uDaNL9"
      },
      "source": [
        "def get_random_game():\n",
        "  all_games = data_games[['id', 'title']]\n",
        "  #Selecciona un usuario al azar\n",
        "  x = int(np.random.randint(df_sub.shape[0], size=1))\n",
        "  x = df_sub.username.iloc[x]\n",
        "  usuario = df[df['username'] == x]\n",
        "  print('--> El usuario ha jugado: ',usuario.shape[0], 'videojuegos')\n",
        "  #Elimino titulos que el usuario ya ha jugado\n",
        "  for i in usuario.title:\n",
        "    game = i\n",
        "    all_games.drop(all_games[all_games['title'] == game ].index, inplace=True)\n",
        "    \n",
        "  #Obtengo un titulo al azar\n",
        "  game = df_sub.title.iloc[int(np.random.randint(df_sub.shape[0], size=1))]\n",
        "  print(' * Videjuego seleccionado:', game)\n",
        "\n",
        "  #Solicito al usuario escriba su review(Tiene que ser en ingles) para analizar su polaridad\n",
        "  rating = str(input('--> Ingrese la review del videojuego: '))\n",
        "  rating = TextBlob(rating).polarity\n",
        "\n",
        "  #Obtengo titulos con polaridades similares\n",
        "  similar_games = pd.DataFrame()\n",
        "  similar_games = similar_games.append(get_similar(game,rating),ignore_index = True)\n",
        "  x = similar_games.sum().sort_values(ascending=False).head(10)\n",
        "\n",
        "  #Elimino los juegos que el usuario ya ha jugado\n",
        "  for i in x.index:\n",
        "    name = i\n",
        "    usuario.drop(usuario[usuario['title'] == name ].index, inplace=True)\n",
        "\n",
        "  print('<------------------------->')\n",
        "  print(\"Nuestra recomendaciones para usted: \\n\")\n",
        "  for i in x.index:\n",
        "    print(i)"
      ],
      "execution_count": 51,
      "outputs": []
    },
    {
      "cell_type": "code",
      "metadata": {
        "colab": {
          "base_uri": "https://localhost:8080/"
        },
        "id": "pL6RiUx5aM8O",
        "outputId": "303543c6-c6eb-4bec-a14e-1c14d8ef9967"
      },
      "source": [
        "get_random_game()"
      ],
      "execution_count": 54,
      "outputs": [
        {
          "output_type": "stream",
          "text": [
            "--> El usuario ha jugado:  5 videojuegos\n",
            " * Videjuego seleccionado: Sid Meier's Civilization® V\n",
            "--> Ingrese la review del videojuego: the best game ever\n",
            "<------------------------->\n",
            "Nuestra recomendaciones para usted: \n",
            "\n",
            "Skullgirls\n",
            "Dying Light\n",
            "Borderlands 2\n",
            "Team Fortress 2\n",
            "Portal 2\n",
            "Warframe\n",
            "Kerbal Space Program\n",
            "Starbound\n",
            "Arma 3\n",
            "Bastion\n"
          ],
          "name": "stdout"
        }
      ]
    },
    {
      "cell_type": "markdown",
      "metadata": {
        "id": "GIi7IPi_dA7Q"
      },
      "source": [
        "Falta emplear un dataframe en donde solo se encuentren los viejuegos con reviews mayores a 30 aparciciones"
      ]
    },
    {
      "cell_type": "markdown",
      "metadata": {
        "id": "jBJWqaW7u7SV"
      },
      "source": [
        "# Machine Learning\n",
        "## Surprise"
      ]
    },
    {
      "cell_type": "code",
      "metadata": {
        "id": "XznZ0CnjbcHw"
      },
      "source": [
        "#Creo una copia de las review, que mas adelante empleare\n",
        "calificaciones = df_sub[['x_username', 'product_id', 'polarity']]"
      ],
      "execution_count": 55,
      "outputs": []
    },
    {
      "cell_type": "code",
      "metadata": {
        "id": "rSH80tXpKz1r",
        "colab": {
          "base_uri": "https://localhost:8080/",
          "height": 111
        },
        "outputId": "240b509d-e5a3-4c3d-a8dd-bcf62d567bcc"
      },
      "source": [
        "calificaciones.head(2)"
      ],
      "execution_count": 56,
      "outputs": [
        {
          "output_type": "execute_result",
          "data": {
            "text/html": [
              "<div>\n",
              "<style scoped>\n",
              "    .dataframe tbody tr th:only-of-type {\n",
              "        vertical-align: middle;\n",
              "    }\n",
              "\n",
              "    .dataframe tbody tr th {\n",
              "        vertical-align: top;\n",
              "    }\n",
              "\n",
              "    .dataframe thead th {\n",
              "        text-align: right;\n",
              "    }\n",
              "</style>\n",
              "<table border=\"1\" class=\"dataframe\">\n",
              "  <thead>\n",
              "    <tr style=\"text-align: right;\">\n",
              "      <th></th>\n",
              "      <th>x_username</th>\n",
              "      <th>product_id</th>\n",
              "      <th>polarity</th>\n",
              "    </tr>\n",
              "  </thead>\n",
              "  <tbody>\n",
              "    <tr>\n",
              "      <th>0</th>\n",
              "      <td>13671</td>\n",
              "      <td>221100</td>\n",
              "      <td>-0.101786</td>\n",
              "    </tr>\n",
              "    <tr>\n",
              "      <th>1</th>\n",
              "      <td>98910</td>\n",
              "      <td>346110</td>\n",
              "      <td>0.200000</td>\n",
              "    </tr>\n",
              "  </tbody>\n",
              "</table>\n",
              "</div>"
            ],
            "text/plain": [
              "   x_username  product_id  polarity\n",
              "0       13671      221100 -0.101786\n",
              "1       98910      346110  0.200000"
            ]
          },
          "metadata": {
            "tags": []
          },
          "execution_count": 56
        }
      ]
    },
    {
      "cell_type": "markdown",
      "metadata": {
        "id": "j0UmCH8qA1Dw"
      },
      "source": [
        "\n",
        "###Intento nuevo\n",
        "\n",
        "https://ansegura7.github.io/RS_Surprise/pages/RS_SVD.html"
      ]
    },
    {
      "cell_type": "code",
      "metadata": {
        "id": "dSuAvcqmAZnc"
      },
      "source": [
        "from sklearn.model_selection import train_test_split\n",
        "train_data, test_data = train_test_split(calificaciones, test_size = 0.2, random_state=40)"
      ],
      "execution_count": 57,
      "outputs": []
    },
    {
      "cell_type": "code",
      "metadata": {
        "colab": {
          "base_uri": "https://localhost:8080/",
          "height": 312
        },
        "id": "NaWknwpmeKeM",
        "outputId": "e9d0ae2e-9e5c-46b2-988e-e2daaa61a076"
      },
      "source": [
        "sns.kdeplot(train_data['polarity'], label='Datos Train')\n",
        "sns.kdeplot(test_data['polarity'], label='Datos Test')\n",
        "plt.title('Uniformidad de Datos')\n",
        "plt.legend()"
      ],
      "execution_count": 58,
      "outputs": [
        {
          "output_type": "execute_result",
          "data": {
            "text/plain": [
              "<matplotlib.legend.Legend at 0x7efd145d0da0>"
            ]
          },
          "metadata": {
            "tags": []
          },
          "execution_count": 58
        },
        {
          "output_type": "display_data",
          "data": {
            "image/png": "[encoded data removed]",
            "text/plain": [
              "<Figure size 432x288 with 1 Axes>"
            ]
          },
          "metadata": {
            "tags": []
          }
        }
      ]
    },
    {
      "cell_type": "code",
      "metadata": {
        "id": "qFXou9hFAZWc"
      },
      "source": [
        "reader = Reader(rating_scale = (-1.00, 1.00))\n",
        "data_train = Dataset.load_from_df(train_data[['x_username', 'product_id', 'polarity']], reader)\n",
        "data_test = Dataset.load_from_df(test_data[['x_username', 'product_id', 'polarity']], reader)"
      ],
      "execution_count": 59,
      "outputs": []
    },
    {
      "cell_type": "code",
      "metadata": {
        "id": "h02HInLyAZQv"
      },
      "source": [
        "# Build full trainset\n",
        "data_train = data_train.build_full_trainset()\n",
        "data_test = data_test.build_full_trainset()"
      ],
      "execution_count": 60,
      "outputs": []
    },
    {
      "cell_type": "code",
      "metadata": {
        "colab": {
          "base_uri": "https://localhost:8080/"
        },
        "id": "Nm6t8C_UAZK9",
        "outputId": "39659c1d-45ca-42d2-f3be-34e8168c3f93"
      },
      "source": [
        "print('Train rating', data_train.global_mean)\n",
        "print('Test rating', data_test.global_mean)"
      ],
      "execution_count": 61,
      "outputs": [
        {
          "output_type": "stream",
          "text": [
            "Train rating 0.0998507128014436\n",
            "Test rating 0.09326409004789389\n"
          ],
          "name": "stdout"
        }
      ]
    },
    {
      "cell_type": "code",
      "metadata": {
        "id": "jBxL81rlCWJC"
      },
      "source": [
        "# Create the trainset and testset\n",
        "data_trainset = data_train.build_testset()\n",
        "data_testset = data_test.build_testset()"
      ],
      "execution_count": 62,
      "outputs": []
    },
    {
      "cell_type": "code",
      "metadata": {
        "id": "yT8NoasMAZEt"
      },
      "source": [
        "# Create SVD \n",
        "from surprise import SVD\n",
        "algo = SVD()"
      ],
      "execution_count": 63,
      "outputs": []
    },
    {
      "cell_type": "code",
      "metadata": {
        "id": "uXQhETMacajf"
      },
      "source": [
        "#algo = SVD(n_factors= 5, n_epochs= 200, biased= True, lr_all= 0.005, reg_all= 0, init_mean= 0, init_std_dev= 0.01)"
      ],
      "execution_count": 64,
      "outputs": []
    },
    {
      "cell_type": "code",
      "metadata": {
        "colab": {
          "base_uri": "https://localhost:8080/"
        },
        "id": "xMlNyT6hAY-V",
        "outputId": "8292a35c-a293-4f22-9518-f7d6c81dd32e"
      },
      "source": [
        "#Entreno el modelo\n",
        "algo.fit(data_train)"
      ],
      "execution_count": 65,
      "outputs": [
        {
          "output_type": "execute_result",
          "data": {
            "text/plain": [
              "<surprise.prediction_algorithms.matrix_factorization.SVD at 0x7efd1dc1ef60>"
            ]
          },
          "metadata": {
            "tags": []
          },
          "execution_count": 65
        }
      ]
    },
    {
      "cell_type": "code",
      "metadata": {
        "colab": {
          "base_uri": "https://localhost:8080/"
        },
        "id": "2T6hO5EfAY3-",
        "outputId": "bc522e40-e39e-4dc1-d1fd-fda760acf025"
      },
      "source": [
        "# Calculate RMSE for training dataset\n",
        "from surprise import accuracy\n",
        "train_pred = algo.test(data_trainset)\n",
        "accuracy.rmse(train_pred)"
      ],
      "execution_count": 66,
      "outputs": [
        {
          "output_type": "stream",
          "text": [
            "RMSE: 0.2033\n"
          ],
          "name": "stdout"
        },
        {
          "output_type": "execute_result",
          "data": {
            "text/plain": [
              "0.20329187332645962"
            ]
          },
          "metadata": {
            "tags": []
          },
          "execution_count": 66
        }
      ]
    },
    {
      "cell_type": "code",
      "metadata": {
        "colab": {
          "base_uri": "https://localhost:8080/"
        },
        "id": "9podDEfpAYxx",
        "outputId": "6b291b0c-2eca-4ddb-e145-5bd537bdac44"
      },
      "source": [
        "# Calculate RMSE for test dataset\n",
        "test_pred = algo.test(data_testset)\n",
        "accuracy.rmse(test_pred)"
      ],
      "execution_count": 67,
      "outputs": [
        {
          "output_type": "stream",
          "text": [
            "RMSE: 0.2628\n"
          ],
          "name": "stdout"
        },
        {
          "output_type": "execute_result",
          "data": {
            "text/plain": [
              "0.26282600670367195"
            ]
          },
          "metadata": {
            "tags": []
          },
          "execution_count": 67
        }
      ]
    },
    {
      "cell_type": "code",
      "metadata": {
        "colab": {
          "base_uri": "https://localhost:8080/",
          "height": 111
        },
        "id": "gMJlElyuAYq0",
        "outputId": "90a7ad68-05d6-4f89-b1b0-e63eeed7450f"
      },
      "source": [
        "train_data.head(2)"
      ],
      "execution_count": 69,
      "outputs": [
        {
          "output_type": "execute_result",
          "data": {
            "text/html": [
              "<div>\n",
              "<style scoped>\n",
              "    .dataframe tbody tr th:only-of-type {\n",
              "        vertical-align: middle;\n",
              "    }\n",
              "\n",
              "    .dataframe tbody tr th {\n",
              "        vertical-align: top;\n",
              "    }\n",
              "\n",
              "    .dataframe thead th {\n",
              "        text-align: right;\n",
              "    }\n",
              "</style>\n",
              "<table border=\"1\" class=\"dataframe\">\n",
              "  <thead>\n",
              "    <tr style=\"text-align: right;\">\n",
              "      <th></th>\n",
              "      <th>x_username</th>\n",
              "      <th>product_id</th>\n",
              "      <th>polarity</th>\n",
              "    </tr>\n",
              "  </thead>\n",
              "  <tbody>\n",
              "    <tr>\n",
              "      <th>514</th>\n",
              "      <td>360690</td>\n",
              "      <td>377160</td>\n",
              "      <td>0.000000</td>\n",
              "    </tr>\n",
              "    <tr>\n",
              "      <th>26020</th>\n",
              "      <td>58605</td>\n",
              "      <td>327410</td>\n",
              "      <td>0.008333</td>\n",
              "    </tr>\n",
              "  </tbody>\n",
              "</table>\n",
              "</div>"
            ],
            "text/plain": [
              "       x_username  product_id  polarity\n",
              "514        360690      377160  0.000000\n",
              "26020       58605      327410  0.008333"
            ]
          },
          "metadata": {
            "tags": []
          },
          "execution_count": 69
        }
      ]
    },
    {
      "cell_type": "code",
      "metadata": {
        "colab": {
          "base_uri": "https://localhost:8080/"
        },
        "id": "o3ZZPq9aAYjg",
        "outputId": "ea82ffd0-1a0d-4233-9587-b82a85ffeb2a"
      },
      "source": [
        "# Prediccion con datos de entrenamiento\n",
        "p1 = algo.predict(uid = train_data.iloc[0].x_username, iid = train_data.iloc[0].product_id, verbose = True)"
      ],
      "execution_count": 68,
      "outputs": [
        {
          "output_type": "stream",
          "text": [
            "user: 360690.0   item: 377160.0   r_ui = None   est = 0.11   {'was_impossible': False}\n"
          ],
          "name": "stdout"
        }
      ]
    },
    {
      "cell_type": "code",
      "metadata": {
        "colab": {
          "base_uri": "https://localhost:8080/",
          "height": 173
        },
        "id": "M7-dsPBUgdcR",
        "outputId": "5de9bf96-bcb6-4cd2-dc03-0837aeea0dcf"
      },
      "source": [
        "train_data.head(4)"
      ],
      "execution_count": 70,
      "outputs": [
        {
          "output_type": "execute_result",
          "data": {
            "text/html": [
              "<div>\n",
              "<style scoped>\n",
              "    .dataframe tbody tr th:only-of-type {\n",
              "        vertical-align: middle;\n",
              "    }\n",
              "\n",
              "    .dataframe tbody tr th {\n",
              "        vertical-align: top;\n",
              "    }\n",
              "\n",
              "    .dataframe thead th {\n",
              "        text-align: right;\n",
              "    }\n",
              "</style>\n",
              "<table border=\"1\" class=\"dataframe\">\n",
              "  <thead>\n",
              "    <tr style=\"text-align: right;\">\n",
              "      <th></th>\n",
              "      <th>x_username</th>\n",
              "      <th>product_id</th>\n",
              "      <th>polarity</th>\n",
              "    </tr>\n",
              "  </thead>\n",
              "  <tbody>\n",
              "    <tr>\n",
              "      <th>514</th>\n",
              "      <td>360690</td>\n",
              "      <td>377160</td>\n",
              "      <td>0.000000</td>\n",
              "    </tr>\n",
              "    <tr>\n",
              "      <th>26020</th>\n",
              "      <td>58605</td>\n",
              "      <td>327410</td>\n",
              "      <td>0.008333</td>\n",
              "    </tr>\n",
              "    <tr>\n",
              "      <th>16314</th>\n",
              "      <td>130865</td>\n",
              "      <td>440</td>\n",
              "      <td>0.350000</td>\n",
              "    </tr>\n",
              "    <tr>\n",
              "      <th>16497</th>\n",
              "      <td>119262</td>\n",
              "      <td>327030</td>\n",
              "      <td>0.009387</td>\n",
              "    </tr>\n",
              "  </tbody>\n",
              "</table>\n",
              "</div>"
            ],
            "text/plain": [
              "       x_username  product_id  polarity\n",
              "514        360690      377160  0.000000\n",
              "26020       58605      327410  0.008333\n",
              "16314      130865         440  0.350000\n",
              "16497      119262      327030  0.009387"
            ]
          },
          "metadata": {
            "tags": []
          },
          "execution_count": 70
        }
      ]
    },
    {
      "cell_type": "code",
      "metadata": {
        "colab": {
          "base_uri": "https://localhost:8080/"
        },
        "id": "fNS2IRd_gV86",
        "outputId": "08e473c3-51bd-4a79-aec5-85870f448f2f"
      },
      "source": [
        "test_data.x_username.value_counts().head(5)"
      ],
      "execution_count": 71,
      "outputs": [
        {
          "output_type": "execute_result",
          "data": {
            "text/plain": [
              "84936     3\n",
              "228320    3\n",
              "34028     3\n",
              "13616     3\n",
              "15040     3\n",
              "Name: x_username, dtype: int64"
            ]
          },
          "metadata": {
            "tags": []
          },
          "execution_count": 71
        }
      ]
    },
    {
      "cell_type": "code",
      "metadata": {
        "colab": {
          "base_uri": "https://localhost:8080/",
          "height": 142
        },
        "id": "eUYd8h33Hryt",
        "outputId": "19eacd45-3fb5-469b-98f8-33aaae382519"
      },
      "source": [
        "#Selecciono al usuario con aparicion\n",
        "usuario = test_data[test_data['x_username'] == 84936]\n",
        "usuario"
      ],
      "execution_count": 72,
      "outputs": [
        {
          "output_type": "execute_result",
          "data": {
            "text/html": [
              "<div>\n",
              "<style scoped>\n",
              "    .dataframe tbody tr th:only-of-type {\n",
              "        vertical-align: middle;\n",
              "    }\n",
              "\n",
              "    .dataframe tbody tr th {\n",
              "        vertical-align: top;\n",
              "    }\n",
              "\n",
              "    .dataframe thead th {\n",
              "        text-align: right;\n",
              "    }\n",
              "</style>\n",
              "<table border=\"1\" class=\"dataframe\">\n",
              "  <thead>\n",
              "    <tr style=\"text-align: right;\">\n",
              "      <th></th>\n",
              "      <th>x_username</th>\n",
              "      <th>product_id</th>\n",
              "      <th>polarity</th>\n",
              "    </tr>\n",
              "  </thead>\n",
              "  <tbody>\n",
              "    <tr>\n",
              "      <th>14774</th>\n",
              "      <td>84936</td>\n",
              "      <td>220200</td>\n",
              "      <td>-0.066667</td>\n",
              "    </tr>\n",
              "    <tr>\n",
              "      <th>48610</th>\n",
              "      <td>84936</td>\n",
              "      <td>237930</td>\n",
              "      <td>0.350000</td>\n",
              "    </tr>\n",
              "    <tr>\n",
              "      <th>45966</th>\n",
              "      <td>84936</td>\n",
              "      <td>49520</td>\n",
              "      <td>0.450000</td>\n",
              "    </tr>\n",
              "  </tbody>\n",
              "</table>\n",
              "</div>"
            ],
            "text/plain": [
              "       x_username  product_id  polarity\n",
              "14774       84936      220200 -0.066667\n",
              "48610       84936      237930  0.350000\n",
              "45966       84936       49520  0.450000"
            ]
          },
          "metadata": {
            "tags": []
          },
          "execution_count": 72
        }
      ]
    },
    {
      "cell_type": "code",
      "metadata": {
        "colab": {
          "base_uri": "https://localhost:8080/",
          "height": 142
        },
        "id": "CL7L_TvCiOyD",
        "outputId": "170d6d0c-8640-4f88-dd5c-ef3a09a44ac3"
      },
      "source": [
        "usuario['estimate_escore'] = usuario['product_id'].apply(lambda x: algo.predict(uid = usuario.x_username.iloc[0],iid = x).est)\n",
        "usuario"
      ],
      "execution_count": 73,
      "outputs": [
        {
          "output_type": "execute_result",
          "data": {
            "text/html": [
              "<div>\n",
              "<style scoped>\n",
              "    .dataframe tbody tr th:only-of-type {\n",
              "        vertical-align: middle;\n",
              "    }\n",
              "\n",
              "    .dataframe tbody tr th {\n",
              "        vertical-align: top;\n",
              "    }\n",
              "\n",
              "    .dataframe thead th {\n",
              "        text-align: right;\n",
              "    }\n",
              "</style>\n",
              "<table border=\"1\" class=\"dataframe\">\n",
              "  <thead>\n",
              "    <tr style=\"text-align: right;\">\n",
              "      <th></th>\n",
              "      <th>x_username</th>\n",
              "      <th>product_id</th>\n",
              "      <th>polarity</th>\n",
              "      <th>estimate_escore</th>\n",
              "    </tr>\n",
              "  </thead>\n",
              "  <tbody>\n",
              "    <tr>\n",
              "      <th>14774</th>\n",
              "      <td>84936</td>\n",
              "      <td>220200</td>\n",
              "      <td>-0.066667</td>\n",
              "      <td>0.195443</td>\n",
              "    </tr>\n",
              "    <tr>\n",
              "      <th>48610</th>\n",
              "      <td>84936</td>\n",
              "      <td>237930</td>\n",
              "      <td>0.350000</td>\n",
              "      <td>0.166887</td>\n",
              "    </tr>\n",
              "    <tr>\n",
              "      <th>45966</th>\n",
              "      <td>84936</td>\n",
              "      <td>49520</td>\n",
              "      <td>0.450000</td>\n",
              "      <td>0.228527</td>\n",
              "    </tr>\n",
              "  </tbody>\n",
              "</table>\n",
              "</div>"
            ],
            "text/plain": [
              "       x_username  product_id  polarity  estimate_escore\n",
              "14774       84936      220200 -0.066667         0.195443\n",
              "48610       84936      237930  0.350000         0.166887\n",
              "45966       84936       49520  0.450000         0.228527"
            ]
          },
          "metadata": {
            "tags": []
          },
          "execution_count": 73
        }
      ]
    },
    {
      "cell_type": "code",
      "metadata": {
        "colab": {
          "base_uri": "https://localhost:8080/",
          "height": 312
        },
        "id": "x236s3ibjET0",
        "outputId": "0d442522-4fc6-4b7a-d849-58f3532cfaaa"
      },
      "source": [
        "sns.kdeplot(usuario['polarity'], label='Valore Real')\n",
        "sns.kdeplot(usuario['estimate_escore'], label='Valor predicho')\n",
        "plt.title('Comparación Valor Real vs Valor Predicho')\n",
        "plt.legend()"
      ],
      "execution_count": 74,
      "outputs": [
        {
          "output_type": "execute_result",
          "data": {
            "text/plain": [
              "<matplotlib.legend.Legend at 0x7efd2136d2e8>"
            ]
          },
          "metadata": {
            "tags": []
          },
          "execution_count": 74
        },
        {
          "output_type": "display_data",
          "data": {
            "image/png": "[encoded data removed]",
            "text/plain": [
              "<Figure size 432x288 with 1 Axes>"
            ]
          },
          "metadata": {
            "tags": []
          }
        }
      ]
    },
    {
      "cell_type": "code",
      "metadata": {
        "id": "v49wbHA9AYdy"
      },
      "source": [
        "# Prediction with real rating\n",
        "p2 = algo.predict(uid = 34028, iid = 303210, r_ui = 0.100000, verbose = True)"
      ],
      "execution_count": null,
      "outputs": []
    },
    {
      "cell_type": "markdown",
      "metadata": {
        "id": "jo29hfLYIcVF"
      },
      "source": [
        "## Optimizacion de Hyperparametros"
      ]
    },
    {
      "cell_type": "code",
      "metadata": {
        "id": "6EQ7Z0cEdNty"
      },
      "source": [
        "reader = Reader(rating_scale = (-1.00, 1.00))\n",
        "data = Dataset.load_from_df(calificaciones[['x_username', 'product_id', 'polarity']], reader)"
      ],
      "execution_count": 78,
      "outputs": []
    },
    {
      "cell_type": "code",
      "metadata": {
        "id": "7aEK4nFXuHyy"
      },
      "source": [
        "#n_factors= k_factors, n_epochs= 200, biased= True, lr_all= 0.005, reg_all= 0, init_mean= 0, init_std_dev= 0.01"
      ],
      "execution_count": 76,
      "outputs": []
    },
    {
      "cell_type": "code",
      "metadata": {
        "id": "yCVqg1E9AYXt"
      },
      "source": [
        "param_grid = {\n",
        "    'n_factors': [5,10,15],\n",
        "    'n_epochs' : [100,150,200],\n",
        "    'lr_all'   : [0.002, 0.005],\n",
        "    'reg_all'  : [0, 0.002, 0.02],\n",
        "    'biased'   : [True],\n",
        "    'init_mean': [0],\n",
        "    'init_std_dev': [0.01]\n",
        "    }\n",
        "gs = GridSearchCV(SVD, param_grid, measures=['rmse'], cv=5, n_jobs = -1)\n",
        "gs.fit(data)"
      ],
      "execution_count": 79,
      "outputs": []
    },
    {
      "cell_type": "code",
      "metadata": {
        "colab": {
          "base_uri": "https://localhost:8080/"
        },
        "id": "gyFSWfCKqx1F",
        "outputId": "074c1d69-ed41-49cc-d878-09ab76853b8d"
      },
      "source": [
        "gs.best_params"
      ],
      "execution_count": 80,
      "outputs": [
        {
          "output_type": "execute_result",
          "data": {
            "text/plain": [
              "{'rmse': {'biased': True,\n",
              "  'init_mean': 0,\n",
              "  'init_std_dev': 0.01,\n",
              "  'lr_all': 0.002,\n",
              "  'n_epochs': 100,\n",
              "  'n_factors': 15,\n",
              "  'reg_all': 0.02}}"
            ]
          },
          "metadata": {
            "tags": []
          },
          "execution_count": 80
        }
      ]
    },
    {
      "cell_type": "code",
      "metadata": {
        "colab": {
          "base_uri": "https://localhost:8080/"
        },
        "id": "HiuBBvKIrJ6W",
        "outputId": "3ad5cd50-a8aa-4895-bfeb-147c214af305"
      },
      "source": [
        "print(\"Mejores parametros : \"+str(gs.best_params))\n",
        "print(\"Mejor Score : \"+str(gs.best_score)+'\\n')"
      ],
      "execution_count": 81,
      "outputs": [
        {
          "output_type": "stream",
          "text": [
            "Mejores parametros : {'rmse': {'n_factors': 15, 'n_epochs': 100, 'lr_all': 0.002, 'reg_all': 0.02, 'biased': True, 'init_mean': 0, 'init_std_dev': 0.01}}\n",
            "Mejor Score : {'rmse': 0.2622640808032842}\n",
            "\n"
          ],
          "name": "stdout"
        }
      ]
    },
    {
      "cell_type": "code",
      "metadata": {
        "id": "VLgKoTzbsPy6"
      },
      "source": [
        "#Establecer modelo con los hyperparametros \n",
        "algo = SVD(n_factors = 15, n_epochs= 100, biased= True, lr_all= 0.002, reg_all= 0.02, init_mean= 0, init_std_dev= 0.01)"
      ],
      "execution_count": 82,
      "outputs": []
    },
    {
      "cell_type": "code",
      "metadata": {
        "colab": {
          "base_uri": "https://localhost:8080/"
        },
        "id": "SMAEwnwCs16h",
        "outputId": "f874cfd0-b07f-4755-91c9-2e4860077a07"
      },
      "source": [
        "#Entrenar modelo\n",
        "algo.fit(data_train)"
      ],
      "execution_count": 83,
      "outputs": [
        {
          "output_type": "execute_result",
          "data": {
            "text/plain": [
              "<surprise.prediction_algorithms.matrix_factorization.SVD at 0x7efd13d34400>"
            ]
          },
          "metadata": {
            "tags": []
          },
          "execution_count": 83
        }
      ]
    },
    {
      "cell_type": "code",
      "metadata": {
        "id": "SSrQHOSnI0sh",
        "colab": {
          "base_uri": "https://localhost:8080/",
          "height": 142
        },
        "outputId": "7375ee71-94f2-4ce7-8ce3-49c1ab695088"
      },
      "source": [
        "#Nuevas predicciones\n",
        "usuario['new_estimate_escore'] = usuario['product_id'].apply(lambda x: algo.predict(uid = usuario.x_username.iloc[0],iid = x).est)\n",
        "usuario"
      ],
      "execution_count": 84,
      "outputs": [
        {
          "output_type": "execute_result",
          "data": {
            "text/html": [
              "<div>\n",
              "<style scoped>\n",
              "    .dataframe tbody tr th:only-of-type {\n",
              "        vertical-align: middle;\n",
              "    }\n",
              "\n",
              "    .dataframe tbody tr th {\n",
              "        vertical-align: top;\n",
              "    }\n",
              "\n",
              "    .dataframe thead th {\n",
              "        text-align: right;\n",
              "    }\n",
              "</style>\n",
              "<table border=\"1\" class=\"dataframe\">\n",
              "  <thead>\n",
              "    <tr style=\"text-align: right;\">\n",
              "      <th></th>\n",
              "      <th>x_username</th>\n",
              "      <th>product_id</th>\n",
              "      <th>polarity</th>\n",
              "      <th>estimate_escore</th>\n",
              "      <th>new_estimate_escore</th>\n",
              "    </tr>\n",
              "  </thead>\n",
              "  <tbody>\n",
              "    <tr>\n",
              "      <th>14774</th>\n",
              "      <td>84936</td>\n",
              "      <td>220200</td>\n",
              "      <td>-0.066667</td>\n",
              "      <td>0.195443</td>\n",
              "      <td>0.150003</td>\n",
              "    </tr>\n",
              "    <tr>\n",
              "      <th>48610</th>\n",
              "      <td>84936</td>\n",
              "      <td>237930</td>\n",
              "      <td>0.350000</td>\n",
              "      <td>0.166887</td>\n",
              "      <td>0.193649</td>\n",
              "    </tr>\n",
              "    <tr>\n",
              "      <th>45966</th>\n",
              "      <td>84936</td>\n",
              "      <td>49520</td>\n",
              "      <td>0.450000</td>\n",
              "      <td>0.228527</td>\n",
              "      <td>0.188289</td>\n",
              "    </tr>\n",
              "  </tbody>\n",
              "</table>\n",
              "</div>"
            ],
            "text/plain": [
              "       x_username  product_id  polarity  estimate_escore  new_estimate_escore\n",
              "14774       84936      220200 -0.066667         0.195443             0.150003\n",
              "48610       84936      237930  0.350000         0.166887             0.193649\n",
              "45966       84936       49520  0.450000         0.228527             0.188289"
            ]
          },
          "metadata": {
            "tags": []
          },
          "execution_count": 84
        }
      ]
    },
    {
      "cell_type": "code",
      "metadata": {
        "colab": {
          "base_uri": "https://localhost:8080/",
          "height": 312
        },
        "id": "g0xu2KNYqpIz",
        "outputId": "4adbda71-f7e4-4e09-b0eb-28059c06e7ab"
      },
      "source": [
        "sns.kdeplot(usuario['polarity'], label='Valore Real')\n",
        "sns.kdeplot(usuario['estimate_escore'], label='Valor predicho')\n",
        "sns.kdeplot(usuario['new_estimate_escore'], label='Valor Gs')\n",
        "plt.title('Comparación Valor Real vs Valor Predicho')\n",
        "plt.legend()"
      ],
      "execution_count": 85,
      "outputs": [
        {
          "output_type": "execute_result",
          "data": {
            "text/plain": [
              "<matplotlib.legend.Legend at 0x7efcff7b9c50>"
            ]
          },
          "metadata": {
            "tags": []
          },
          "execution_count": 85
        },
        {
          "output_type": "display_data",
          "data": {
            "image/png": "[encoded data removed]",
            "text/plain": [
              "<Figure size 432x288 with 1 Axes>"
            ]
          },
          "metadata": {
            "tags": []
          }
        }
      ]
    },
    {
      "cell_type": "code",
      "metadata": {
        "colab": {
          "base_uri": "https://localhost:8080/",
          "height": 145
        },
        "id": "4zGg9veF--Up",
        "outputId": "7b7d5bff-ae1b-4247-e017-36f97426fb34"
      },
      "source": [
        "df_sub.head(2)"
      ],
      "execution_count": 86,
      "outputs": [
        {
          "output_type": "execute_result",
          "data": {
            "text/html": [
              "<div>\n",
              "<style scoped>\n",
              "    .dataframe tbody tr th:only-of-type {\n",
              "        vertical-align: middle;\n",
              "    }\n",
              "\n",
              "    .dataframe tbody tr th {\n",
              "        vertical-align: top;\n",
              "    }\n",
              "\n",
              "    .dataframe thead th {\n",
              "        text-align: right;\n",
              "    }\n",
              "</style>\n",
              "<table border=\"1\" class=\"dataframe\">\n",
              "  <thead>\n",
              "    <tr style=\"text-align: right;\">\n",
              "      <th></th>\n",
              "      <th>username</th>\n",
              "      <th>product_id</th>\n",
              "      <th>genres</th>\n",
              "      <th>title</th>\n",
              "      <th>tags</th>\n",
              "      <th>xtext</th>\n",
              "      <th>x_username</th>\n",
              "      <th>polarity</th>\n",
              "      <th>subjectivity</th>\n",
              "    </tr>\n",
              "  </thead>\n",
              "  <tbody>\n",
              "    <tr>\n",
              "      <th>0</th>\n",
              "      <td>Alex Wagner</td>\n",
              "      <td>221100</td>\n",
              "      <td>['Action', 'Indie', 'Massively Multiplayer', '...</td>\n",
              "      <td>DayZ</td>\n",
              "      <td>['Early Access', 'Survival', 'Zombies', 'Open ...</td>\n",
              "      <td>I cant understand peoples tardism a this point...</td>\n",
              "      <td>13671</td>\n",
              "      <td>-0.101786</td>\n",
              "      <td>0.541964</td>\n",
              "    </tr>\n",
              "    <tr>\n",
              "      <th>1</th>\n",
              "      <td>Gopnik Slav</td>\n",
              "      <td>346110</td>\n",
              "      <td>['Action', 'Adventure', 'Indie', 'Massively Mu...</td>\n",
              "      <td>ARK: Survival Evolved</td>\n",
              "      <td>['Survival', 'Dinosaurs', 'Open World', 'Multi...</td>\n",
              "      <td>Giving a thumbs up\n",
              "because I got it for 27 eur...</td>\n",
              "      <td>98910</td>\n",
              "      <td>0.200000</td>\n",
              "      <td>0.600000</td>\n",
              "    </tr>\n",
              "  </tbody>\n",
              "</table>\n",
              "</div>"
            ],
            "text/plain": [
              "      username  product_id  ...  polarity subjectivity\n",
              "0  Alex Wagner      221100  ... -0.101786     0.541964\n",
              "1  Gopnik Slav      346110  ...  0.200000     0.600000\n",
              "\n",
              "[2 rows x 9 columns]"
            ]
          },
          "metadata": {
            "tags": []
          },
          "execution_count": 86
        }
      ]
    },
    {
      "cell_type": "code",
      "metadata": {
        "id": "BxHJIiqVB_BK"
      },
      "source": [
        "def games_top_predict():\n",
        "  all_games = data_games[['id', 'title']]\n",
        "  #Seleccion de usuario al azar\n",
        "  x = int(np.random.randint(df_sub.shape[0], size=1))\n",
        "  x = df_sub.username.iloc[x]\n",
        "  usuario = df[df['username'] == x]\n",
        "  print('Usuario seleccionado: {}'.format(usuario.iloc[0].username))\n",
        "  print('--> El usuario ha jugado: ',usuario.shape[0], 'videojuegos')\n",
        "\n",
        "  #Elimino videojuegos jugados\n",
        "  for i in usuario.title:\n",
        "    game = i\n",
        "    all_games.drop(all_games[all_games['title'] == game ].index, inplace=True)\n",
        "  \n",
        "  #Seleccion de videojuego al azar\n",
        "  game = df_sub.title.iloc[int(np.random.randint(df_sub.shape[0], size=1))]\n",
        "  print(' * Videjuego seleccionado:', game)\n",
        "  input('--> Ingrese la review del videojuego: ')\n",
        "\n",
        "  #Prediccion\n",
        "  all_games['estimate_escore'] = all_games['id'].apply(lambda x: algo.predict(uid = usuario.x_username.iloc[0],iid = x).est)\n",
        "\n",
        "  top = all_games.sort_values(ascending=False, by='estimate_escore').head(5)\n",
        "  print('\\n Nuestra recomendacion de Videojuegos :\\n')\n",
        "  for i in top['title']:\n",
        "    print('---> ', i)"
      ],
      "execution_count": 87,
      "outputs": []
    },
    {
      "cell_type": "code",
      "metadata": {
        "colab": {
          "base_uri": "https://localhost:8080/"
        },
        "id": "u5TuEv7qCwTm",
        "outputId": "c5439399-9a9a-45b0-f540-501811a448c1"
      },
      "source": [
        "games_top_predict()"
      ],
      "execution_count": 88,
      "outputs": [
        {
          "output_type": "stream",
          "text": [
            "Usuario seleccionado: dodgyticker\n",
            "--> El usuario ha jugado:  1 videojuegos\n",
            " * Videjuego seleccionado: Garry's Mod\n",
            "--> Ingrese la review del videojuego: Best game ever\n",
            "\n",
            " Nuestra recomendacion de Videojuegos :\n",
            "\n",
            "--->  Aseprite\n",
            "--->  Tom Clancy's Splinter Cell Chaos Theory®\n",
            "--->  Source Filmmaker\n",
            "--->  Defense Grid: The Awakening\n",
            "--->  Cry of Fear\n"
          ],
          "name": "stdout"
        }
      ]
    },
    {
      "cell_type": "markdown",
      "metadata": {
        "id": "AkWD-SpnJrPz"
      },
      "source": [
        "# Recomendaciones"
      ]
    },
    {
      "cell_type": "markdown",
      "metadata": {
        "id": "Mh91C5DTySBJ"
      },
      "source": [
        "Este sistema de recomendación se basa en la similitud del genero del videojuego del cual se realiza la review"
      ]
    },
    {
      "cell_type": "code",
      "metadata": {
        "id": "Uc52ixIzHJnO"
      },
      "source": [
        "#Submuestra\n",
        "df_games = data_games.sample(frac=0.04)\n",
        "df_games.reset_index(drop=True, inplace=True)\n",
        "\n",
        "df_reviews = data_reviews.sample(frac=0.04)\n",
        "df_reviews.reset_index(drop=True, inplace=True)"
      ],
      "execution_count": 89,
      "outputs": []
    },
    {
      "cell_type": "code",
      "metadata": {
        "id": "h3tiocCbFcS1"
      },
      "source": [
        " #df_games['tags'] = df_games['tags'].fillna(' ')\n",
        " df_games['xtags'] = df_games['tags'].str.replace('[{}]'.format(string.punctuation), ' ')"
      ],
      "execution_count": 90,
      "outputs": []
    },
    {
      "cell_type": "code",
      "metadata": {
        "id": "gVtqQWAEI6uz"
      },
      "source": [
        "stopwords = nltk.corpus.stopwords.words('english')        #Defino las stopwords\n",
        "tfidf = TfidfVectorizer(stop_words=set(stopwords))        #Defino el modelo\n",
        "tfidf_matrix = tfidf.fit_transform(df_games['xtags'])   #Creo matriz"
      ],
      "execution_count": 91,
      "outputs": []
    },
    {
      "cell_type": "code",
      "metadata": {
        "id": "9FxV-paRI6lP"
      },
      "source": [
        "'''\n",
        "Matriz de comparación\n",
        "Compara las etiquetas de un video seleccionado con la lista anterior\n",
        "en busca de palabras similares\n",
        "'''\n",
        "cosine_sim = linear_kernel(tfidf_matrix, tfidf_matrix)"
      ],
      "execution_count": 92,
      "outputs": []
    },
    {
      "cell_type": "code",
      "metadata": {
        "id": "r0f5ugPhKZpO",
        "colab": {
          "base_uri": "https://localhost:8080/"
        },
        "outputId": "c89cea79-8592-499c-d3eb-d29116bede70"
      },
      "source": [
        "print(len(tfidf.vocabulary_))\n",
        "print(tfidf_matrix.shape)"
      ],
      "execution_count": 93,
      "outputs": [
        {
          "output_type": "stream",
          "text": [
            "335\n",
            "(1197, 335)\n"
          ],
          "name": "stdout"
        }
      ]
    },
    {
      "cell_type": "code",
      "metadata": {
        "id": "g69mWexmI6cG"
      },
      "source": [
        "indices = pd.Series(df_games.index, index=df_games['title']).drop_duplicates()"
      ],
      "execution_count": 94,
      "outputs": []
    },
    {
      "cell_type": "code",
      "metadata": {
        "id": "wkcB6kh1JRfy"
      },
      "source": [
        "def get_recomendation(title, cosine_sim=cosine_sim):\n",
        "    idx = indices[title]                                                        #Selecciona el titulo del videojuego                        \n",
        "    sim_scores = list(enumerate(cosine_sim[idx]))                               \n",
        "    sim_scores = sorted(sim_scores, key=lambda x: x[1], reverse=True)           #Ordena de mayor a menor las similitudes\n",
        "    sim_scores = sim_scores[1:6]                                                #Selecciona las primero 5 similitudes\n",
        "    games_indices = [i[0] for i in sim_scores]\n",
        "    return df_games['title'].iloc[games_indices]                                #Retorna el nombre de los videojuegos"
      ],
      "execution_count": 95,
      "outputs": []
    },
    {
      "cell_type": "code",
      "metadata": {
        "id": "ITQvf_gEQX3j"
      },
      "source": [
        "def recomendation():\n",
        "  '''\n",
        "  Se seleccionara un id de un videojuego al azar, simulando que el usuario ya selecciono\n",
        "  el videojuego que va jugar y escribir su reseña'''\n",
        "  ids  = np.random.randint(df_games.shape[0])                         #Obtiene una linea al azar\n",
        "  ids  = df_games.id.iloc[ids]                                        #Obtiene el id del videojuego seleccionado al azar\n",
        "  name = (df_games.loc[df_games['id'] == ids]['title']).iloc[0]       #Busca el nombre del id del videojuego \n",
        "  print('Usted ha jugado: {}'.format(name))\n",
        "  input('Ingrese su reseña: ')\n",
        "  print('\\nNuestras recomendaciones basadas en su ultima review:')\n",
        "  print(get_recomendation(name))"
      ],
      "execution_count": 96,
      "outputs": []
    },
    {
      "cell_type": "code",
      "metadata": {
        "id": "_d_FFYEgQXzp",
        "colab": {
          "base_uri": "https://localhost:8080/"
        },
        "outputId": "df11dd52-04ad-4991-f896-b05581057690"
      },
      "source": [
        "recomendation()"
      ],
      "execution_count": 102,
      "outputs": [
        {
          "output_type": "stream",
          "text": [
            "Usted ha jugado: DiRT 4\n",
            "Ingrese su reseña: Buen videojuego\n",
            "\n",
            "Nuestras recomendaciones basadas en su ultima review:\n",
            "1094            WRC 5 FIA World Rally Championship\n",
            "199                         Driver® Parallel Lines\n",
            "986                              Fernbus Simulator\n",
            "884                                     Crazy Taxi\n",
            "1116    Euro Truck Simulator 2 - Special Transport\n",
            "Name: title, dtype: string\n"
          ],
          "name": "stdout"
        }
      ]
    }
  ]
}