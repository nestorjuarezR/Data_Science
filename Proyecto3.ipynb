{
  "nbformat": 4,
  "nbformat_minor": 0,
  "metadata": {
    "colab": {
      "name": "Proyecto3.ipynb",
      "provenance": [],
      "collapsed_sections": [
        "rOT82_sV75Pv",
        "h7J9cJE3zItE",
        "BG-UEbs61D6x"
      ],
      "mount_file_id": "1ahp042009K1w10hHBr-g8pTtrlLzYwvK",
      "authorship_tag": "ABX9TyPNNWAsNZ6297chzV/VF3Ru"
    },
    "kernelspec": {
      "name": "python3",
      "display_name": "Python 3"
    }
  },
  "cells": [
    {
      "cell_type": "code",
      "metadata": {
        "colab": {
          "base_uri": "https://localhost:8080/"
        },
        "id": "QYVLd7rvIZDd",
        "outputId": "8d350801-3412-42ef-d782-cb4cc4cda747"
      },
      "source": [
        "pip install scikit-surprise"
      ],
      "execution_count": 1,
      "outputs": [
        {
          "output_type": "stream",
          "text": [
            "Requirement already satisfied: scikit-surprise in /usr/local/lib/python3.6/dist-packages (1.1.1)\n",
            "Requirement already satisfied: numpy>=1.11.2 in /usr/local/lib/python3.6/dist-packages (from scikit-surprise) (1.18.5)\n",
            "Requirement already satisfied: six>=1.10.0 in /usr/local/lib/python3.6/dist-packages (from scikit-surprise) (1.15.0)\n",
            "Requirement already satisfied: scipy>=1.0.0 in /usr/local/lib/python3.6/dist-packages (from scikit-surprise) (1.4.1)\n",
            "Requirement already satisfied: joblib>=0.11 in /usr/local/lib/python3.6/dist-packages (from scikit-surprise) (0.17.0)\n"
          ],
          "name": "stdout"
        }
      ]
    },
    {
      "cell_type": "code",
      "metadata": {
        "id": "Nd53xcCqKUpV",
        "colab": {
          "base_uri": "https://localhost:8080/"
        },
        "outputId": "81a0ab5b-a81a-4608-daa2-a8cdae40b70b"
      },
      "source": [
        "import numpy as np\n",
        "import pandas as pd\n",
        "import matplotlib.pyplot as plt\n",
        "import seaborn as sns\n",
        "sns.set()\n",
        "\n",
        "import string \n",
        "import datetime\n",
        "import gzip\n",
        "\n",
        "from textblob import TextBlob\n",
        "\n",
        "import nltk\n",
        "nltk.download('punkt')\n",
        "nltk.download('stopwords')\n",
        "from nltk.corpus import stopwords\n",
        "from sklearn.metrics.pairwise import linear_kernel\n",
        "from sklearn.feature_extraction.text import TfidfVectorizer\n",
        "\n",
        "import warnings\n",
        "warnings.filterwarnings('ignore')"
      ],
      "execution_count": 2,
      "outputs": [
        {
          "output_type": "stream",
          "text": [
            "[nltk_data] Downloading package punkt to /root/nltk_data...\n",
            "[nltk_data]   Package punkt is already up-to-date!\n",
            "[nltk_data] Downloading package stopwords to /root/nltk_data...\n",
            "[nltk_data]   Package stopwords is already up-to-date!\n"
          ],
          "name": "stdout"
        }
      ]
    },
    {
      "cell_type": "code",
      "metadata": {
        "id": "jpFaP4s0I7_Z"
      },
      "source": [
        "from surprise import Dataset\n",
        "from surprise import Reader\n",
        "from surprise.model_selection import train_test_split"
      ],
      "execution_count": 3,
      "outputs": []
    },
    {
      "cell_type": "code",
      "metadata": {
        "id": "TWj6Sw20SUT4"
      },
      "source": [
        "def parse(path):\n",
        "    g = gzip.open(path, 'r')\n",
        "    for l in g:\n",
        "        yield eval(l)"
      ],
      "execution_count": 4,
      "outputs": []
    },
    {
      "cell_type": "code",
      "metadata": {
        "id": "OjmirkGnSc2b"
      },
      "source": [
        "url_review = '/content/drive/My Drive/Data/steam_reviews.json.gz'\n",
        "contador = 0\n",
        "data_reviews = []\n",
        "# Vamos a guardar una de cada 10 reviews para no llenar la memoria RAM. Si pones n = 3, \n",
        "# abrira uno de cada tres, y asi.\n",
        "n = 15\n",
        "for l in parse(url_review):\n",
        "    if contador%n == 0:\n",
        "        data_reviews.append(l)\n",
        "    else:\n",
        "        pass\n",
        "    contador += 1\n",
        "\n",
        "data_reviews = pd.DataFrame(data_reviews)"
      ],
      "execution_count": 5,
      "outputs": []
    },
    {
      "cell_type": "code",
      "metadata": {
        "id": "Tx6oE_jOzUfZ"
      },
      "source": [
        "url_games = '/content/drive/My Drive/Data/steam_games.json.gz'\n",
        "data_games = []\n",
        "for l in parse(url_games):\n",
        "    data_games.append(l)\n",
        "data_games = pd.DataFrame(data_games)"
      ],
      "execution_count": 6,
      "outputs": []
    },
    {
      "cell_type": "markdown",
      "metadata": {
        "id": "G01Aoe_F09UB"
      },
      "source": [
        "https://towardsdatascience.com/steam-recommendation-systems-4358917288eb"
      ]
    },
    {
      "cell_type": "markdown",
      "metadata": {
        "id": "aY2fodU1akiM"
      },
      "source": [
        "# Parte A Procesamiento de datos"
      ]
    },
    {
      "cell_type": "markdown",
      "metadata": {
        "id": "wmhdnBAPelW3"
      },
      "source": [
        "## Reviews"
      ]
    },
    {
      "cell_type": "code",
      "metadata": {
        "id": "9bhA0PfxT_MB",
        "colab": {
          "base_uri": "https://localhost:8080/",
          "height": 261
        },
        "outputId": "ac8a2722-9f6d-4071-97cb-6aff72265ad1"
      },
      "source": [
        "data_reviews.head(4)"
      ],
      "execution_count": 7,
      "outputs": [
        {
          "output_type": "execute_result",
          "data": {
            "text/html": [
              "<div>\n",
              "<style scoped>\n",
              "    .dataframe tbody tr th:only-of-type {\n",
              "        vertical-align: middle;\n",
              "    }\n",
              "\n",
              "    .dataframe tbody tr th {\n",
              "        vertical-align: top;\n",
              "    }\n",
              "\n",
              "    .dataframe thead th {\n",
              "        text-align: right;\n",
              "    }\n",
              "</style>\n",
              "<table border=\"1\" class=\"dataframe\">\n",
              "  <thead>\n",
              "    <tr style=\"text-align: right;\">\n",
              "      <th></th>\n",
              "      <th>username</th>\n",
              "      <th>hours</th>\n",
              "      <th>products</th>\n",
              "      <th>product_id</th>\n",
              "      <th>page_order</th>\n",
              "      <th>date</th>\n",
              "      <th>text</th>\n",
              "      <th>early_access</th>\n",
              "      <th>page</th>\n",
              "      <th>user_id</th>\n",
              "      <th>compensation</th>\n",
              "      <th>found_funny</th>\n",
              "    </tr>\n",
              "  </thead>\n",
              "  <tbody>\n",
              "    <tr>\n",
              "      <th>0</th>\n",
              "      <td>Chaos Syren</td>\n",
              "      <td>0.1</td>\n",
              "      <td>41.0</td>\n",
              "      <td>725280</td>\n",
              "      <td>0</td>\n",
              "      <td>2017-12-17</td>\n",
              "      <td>This would not be acceptable as an entertainme...</td>\n",
              "      <td>False</td>\n",
              "      <td>1</td>\n",
              "      <td>NaN</td>\n",
              "      <td>NaN</td>\n",
              "      <td>NaN</td>\n",
              "    </tr>\n",
              "    <tr>\n",
              "      <th>1</th>\n",
              "      <td>Duha Nubie</td>\n",
              "      <td>11.3</td>\n",
              "      <td>73.0</td>\n",
              "      <td>35140</td>\n",
              "      <td>4</td>\n",
              "      <td>2018-01-03</td>\n",
              "      <td>first debut feel sweet</td>\n",
              "      <td>False</td>\n",
              "      <td>1</td>\n",
              "      <td>NaN</td>\n",
              "      <td>NaN</td>\n",
              "      <td>NaN</td>\n",
              "    </tr>\n",
              "    <tr>\n",
              "      <th>2</th>\n",
              "      <td>The_Cpt_FROGGY</td>\n",
              "      <td>7.8</td>\n",
              "      <td>2217.0</td>\n",
              "      <td>631920</td>\n",
              "      <td>0</td>\n",
              "      <td>2017-12-11</td>\n",
              "      <td>Somewhere on Zibylon:\\n~~~~~~~~~~~~~~~~~~\\nZib...</td>\n",
              "      <td>False</td>\n",
              "      <td>1</td>\n",
              "      <td>76561198003030375</td>\n",
              "      <td>Product received for free</td>\n",
              "      <td>NaN</td>\n",
              "    </tr>\n",
              "    <tr>\n",
              "      <th>3</th>\n",
              "      <td>S0YxSauCe</td>\n",
              "      <td>0.3</td>\n",
              "      <td>902.0</td>\n",
              "      <td>671270</td>\n",
              "      <td>4</td>\n",
              "      <td>2017-07-10</td>\n",
              "      <td>Easy game. All you have to do is put the hat t...</td>\n",
              "      <td>False</td>\n",
              "      <td>1</td>\n",
              "      <td>NaN</td>\n",
              "      <td>NaN</td>\n",
              "      <td>NaN</td>\n",
              "    </tr>\n",
              "  </tbody>\n",
              "</table>\n",
              "</div>"
            ],
            "text/plain": [
              "         username  hours  ...               compensation found_funny\n",
              "0     Chaos Syren    0.1  ...                        NaN         NaN\n",
              "1      Duha Nubie   11.3  ...                        NaN         NaN\n",
              "2  The_Cpt_FROGGY    7.8  ...  Product received for free         NaN\n",
              "3       S0YxSauCe    0.3  ...                        NaN         NaN\n",
              "\n",
              "[4 rows x 12 columns]"
            ]
          },
          "metadata": {
            "tags": []
          },
          "execution_count": 7
        }
      ]
    },
    {
      "cell_type": "code",
      "metadata": {
        "id": "I0huyNX7UB3E",
        "colab": {
          "base_uri": "https://localhost:8080/"
        },
        "outputId": "66ac2ad9-b72d-4739-9830-79c853db72ea"
      },
      "source": [
        "data_reviews.shape"
      ],
      "execution_count": 8,
      "outputs": [
        {
          "output_type": "execute_result",
          "data": {
            "text/plain": [
              "(519538, 12)"
            ]
          },
          "metadata": {
            "tags": []
          },
          "execution_count": 8
        }
      ]
    },
    {
      "cell_type": "code",
      "metadata": {
        "colab": {
          "base_uri": "https://localhost:8080/"
        },
        "id": "NrmIuwWVvFeN",
        "outputId": "0a1103bc-8d8b-4e25-ef5c-77fb30023769"
      },
      "source": [
        "data_reviews.dtypes"
      ],
      "execution_count": 9,
      "outputs": [
        {
          "output_type": "execute_result",
          "data": {
            "text/plain": [
              "username         object\n",
              "hours           float64\n",
              "products        float64\n",
              "product_id       object\n",
              "page_order        int64\n",
              "date             object\n",
              "text             object\n",
              "early_access       bool\n",
              "page              int64\n",
              "user_id          object\n",
              "compensation     object\n",
              "found_funny     float64\n",
              "dtype: object"
            ]
          },
          "metadata": {
            "tags": []
          },
          "execution_count": 9
        }
      ]
    },
    {
      "cell_type": "code",
      "metadata": {
        "id": "Ceo8n9KuQN51"
      },
      "source": [
        "#Elimino columnas\n",
        "data_reviews.drop(['page_order', 'page',\n",
        "                   'early_access', 'compensation', 'found_funny',\n",
        "                   'products', 'user_id'],\n",
        "                   axis=1, inplace=True)"
      ],
      "execution_count": 10,
      "outputs": []
    },
    {
      "cell_type": "code",
      "metadata": {
        "id": "IeDqcGAVhu1i"
      },
      "source": [
        "#Convertir a string columnas\n",
        "columnas = ['username', 'text']\n",
        "for i in columnas:\n",
        "  data_reviews[i] = data_reviews[i].astype('string')\n",
        "\n",
        "#Convertir a int64 columna product_id\n",
        "data_reviews['product_id'] = data_reviews['product_id'].astype('int64')\n",
        "\n",
        "#Conversion a tipo datetime64\n",
        "data_reviews['Fecha'] = pd.to_datetime(data_reviews['date'])\n",
        "data_reviews['Year'] = data_reviews['Fecha'].dt.year            #Nueva columna con el año del review\n",
        "data_reviews['month'] = data_reviews['Fecha'].dt.month          #Nueva columna con el mes del review"
      ],
      "execution_count": 11,
      "outputs": []
    },
    {
      "cell_type": "code",
      "metadata": {
        "id": "A-e77rJMhumc"
      },
      "source": [
        "#Elimino reviews duplicadas del mismo usuario para el mismo videojuego, dejando la mas reciente\n",
        "data_reviews.drop_duplicates(subset=['username', 'product_id'], keep='first', inplace=True)"
      ],
      "execution_count": 12,
      "outputs": []
    },
    {
      "cell_type": "code",
      "metadata": {
        "id": "InmydCcPk_7_"
      },
      "source": [
        "def valores_nulos(data):\n",
        "  print('<-- Porcentaje de valores nulos -->\\n')\n",
        "  print(data.isnull().sum() / data.shape[0] * 100)"
      ],
      "execution_count": 13,
      "outputs": []
    },
    {
      "cell_type": "code",
      "metadata": {
        "colab": {
          "base_uri": "https://localhost:8080/"
        },
        "id": "BmYKavKGkV-2",
        "outputId": "670d7efa-ae1b-485b-ef5c-106d22ff452f"
      },
      "source": [
        "valores_nulos(data_reviews)"
      ],
      "execution_count": 14,
      "outputs": [
        {
          "output_type": "stream",
          "text": [
            "<-- Porcentaje de valores nulos -->\n",
            "\n",
            "username      0.000000\n",
            "hours         0.341593\n",
            "product_id    0.000000\n",
            "date          0.000000\n",
            "text          0.000000\n",
            "Fecha         0.000000\n",
            "Year          0.000000\n",
            "month         0.000000\n",
            "dtype: float64\n"
          ],
          "name": "stdout"
        }
      ]
    },
    {
      "cell_type": "markdown",
      "metadata": {
        "id": "QsCmiyPeCZv8"
      },
      "source": [
        " ## Info Games"
      ]
    },
    {
      "cell_type": "code",
      "metadata": {
        "colab": {
          "base_uri": "https://localhost:8080/"
        },
        "id": "pMzdad6Jv-AS",
        "outputId": "c0e566ae-5cc6-4819-ed1d-296a1fdbc495"
      },
      "source": [
        "data_games.shape"
      ],
      "execution_count": 15,
      "outputs": [
        {
          "output_type": "execute_result",
          "data": {
            "text/plain": [
              "(32135, 16)"
            ]
          },
          "metadata": {
            "tags": []
          },
          "execution_count": 15
        }
      ]
    },
    {
      "cell_type": "code",
      "metadata": {
        "colab": {
          "base_uri": "https://localhost:8080/"
        },
        "id": "JhKrNmdxeT7F",
        "outputId": "f2392256-7e36-41e4-c94a-6f2504b6d4a8"
      },
      "source": [
        "data_games.dtypes"
      ],
      "execution_count": 16,
      "outputs": [
        {
          "output_type": "execute_result",
          "data": {
            "text/plain": [
              "publisher          object\n",
              "genres             object\n",
              "app_name           object\n",
              "title              object\n",
              "url                object\n",
              "release_date       object\n",
              "tags               object\n",
              "discount_price    float64\n",
              "reviews_url        object\n",
              "specs              object\n",
              "price              object\n",
              "early_access         bool\n",
              "id                 object\n",
              "developer          object\n",
              "sentiment          object\n",
              "metascore          object\n",
              "dtype: object"
            ]
          },
          "metadata": {
            "tags": []
          },
          "execution_count": 16
        }
      ]
    },
    {
      "cell_type": "code",
      "metadata": {
        "id": "jcruDkfUviE9"
      },
      "source": [
        "#Elimino valores nulos\n",
        "data_games.dropna(subset=['tags', 'id', 'title'], axis=0, inplace=True)"
      ],
      "execution_count": 17,
      "outputs": []
    },
    {
      "cell_type": "code",
      "metadata": {
        "id": "bMFEmfsZnR_Z"
      },
      "source": [
        "#Convertir a string columnas\n",
        "columnas = ['genres', 'title','tags']\n",
        "for i in columnas:\n",
        "  data_games[i] = data_games[i].astype('string')\n",
        "\n",
        "#Convertir a int64 columna product_id\n",
        "data_games['id'] = data_games['id'].astype('int64')"
      ],
      "execution_count": 18,
      "outputs": []
    },
    {
      "cell_type": "code",
      "metadata": {
        "id": "bsL6I3a2xuGq"
      },
      "source": [
        "data_games.drop(['publisher','reviews_url', 'url', \n",
        "                 'early_access', 'discount_price', \n",
        "                 'app_name', 'release_date',\n",
        "                 'discount_price', 'specs', \n",
        "                 'sentiment', 'metascore'],\n",
        "                axis=1,\n",
        "                inplace=True)"
      ],
      "execution_count": 19,
      "outputs": []
    },
    {
      "cell_type": "code",
      "metadata": {
        "colab": {
          "base_uri": "https://localhost:8080/"
        },
        "id": "ZDR-Dt3JnJzC",
        "outputId": "a2f8cfd7-876c-4083-9942-f17af7d87c6f"
      },
      "source": [
        "valores_nulos(data_games)"
      ],
      "execution_count": 20,
      "outputs": [
        {
          "output_type": "stream",
          "text": [
            "<-- Porcentaje de valores nulos -->\n",
            "\n",
            "genres       3.666076\n",
            "title        0.000000\n",
            "tags         0.000000\n",
            "price        4.103867\n",
            "id           0.000000\n",
            "developer    4.087157\n",
            "dtype: float64\n"
          ],
          "name": "stdout"
        }
      ]
    },
    {
      "cell_type": "code",
      "metadata": {
        "colab": {
          "base_uri": "https://localhost:8080/",
          "height": 295
        },
        "id": "Bb8lVqUUoqg_",
        "outputId": "0a49ca45-72d2-436f-8847-de15b4185d2b"
      },
      "source": [
        "#Tranferencia del Nombre del videojuego segun su id\n",
        "df = pd.merge(data_reviews, data_games,  left_on='product_id', right_on='id')\n",
        "df.head(3)"
      ],
      "execution_count": 21,
      "outputs": [
        {
          "output_type": "execute_result",
          "data": {
            "text/html": [
              "<div>\n",
              "<style scoped>\n",
              "    .dataframe tbody tr th:only-of-type {\n",
              "        vertical-align: middle;\n",
              "    }\n",
              "\n",
              "    .dataframe tbody tr th {\n",
              "        vertical-align: top;\n",
              "    }\n",
              "\n",
              "    .dataframe thead th {\n",
              "        text-align: right;\n",
              "    }\n",
              "</style>\n",
              "<table border=\"1\" class=\"dataframe\">\n",
              "  <thead>\n",
              "    <tr style=\"text-align: right;\">\n",
              "      <th></th>\n",
              "      <th>username</th>\n",
              "      <th>hours</th>\n",
              "      <th>product_id</th>\n",
              "      <th>date</th>\n",
              "      <th>text</th>\n",
              "      <th>Fecha</th>\n",
              "      <th>Year</th>\n",
              "      <th>month</th>\n",
              "      <th>genres</th>\n",
              "      <th>title</th>\n",
              "      <th>tags</th>\n",
              "      <th>price</th>\n",
              "      <th>id</th>\n",
              "      <th>developer</th>\n",
              "    </tr>\n",
              "  </thead>\n",
              "  <tbody>\n",
              "    <tr>\n",
              "      <th>0</th>\n",
              "      <td>Chaos Syren</td>\n",
              "      <td>0.1</td>\n",
              "      <td>725280</td>\n",
              "      <td>2017-12-17</td>\n",
              "      <td>This would not be acceptable as an entertainme...</td>\n",
              "      <td>2017-12-17</td>\n",
              "      <td>2017</td>\n",
              "      <td>12</td>\n",
              "      <td>['Action', 'Adventure', 'Indie', 'Simulation']</td>\n",
              "      <td>Psi Project</td>\n",
              "      <td>['Action', 'Adventure', 'Indie', 'Simulation']</td>\n",
              "      <td>2.99</td>\n",
              "      <td>725280</td>\n",
              "      <td>Vyacheslav Shilikhin</td>\n",
              "    </tr>\n",
              "    <tr>\n",
              "      <th>1</th>\n",
              "      <td>Duha Nubie</td>\n",
              "      <td>11.3</td>\n",
              "      <td>35140</td>\n",
              "      <td>2018-01-03</td>\n",
              "      <td>first debut feel sweet</td>\n",
              "      <td>2018-01-03</td>\n",
              "      <td>2018</td>\n",
              "      <td>1</td>\n",
              "      <td>['Action', 'Adventure']</td>\n",
              "      <td>Batman: Arkham Asylum Game of the Year Edition</td>\n",
              "      <td>['Action', 'Batman', 'Stealth', 'Adventure', '...</td>\n",
              "      <td>19.99</td>\n",
              "      <td>35140</td>\n",
              "      <td>Rocksteady Studios,Feral Interactive (Mac)</td>\n",
              "    </tr>\n",
              "    <tr>\n",
              "      <th>2</th>\n",
              "      <td>MLGarbage</td>\n",
              "      <td>9.5</td>\n",
              "      <td>35140</td>\n",
              "      <td>2018-01-02</td>\n",
              "      <td>Fun Game. I played shadow of mordor before pla...</td>\n",
              "      <td>2018-01-02</td>\n",
              "      <td>2018</td>\n",
              "      <td>1</td>\n",
              "      <td>['Action', 'Adventure']</td>\n",
              "      <td>Batman: Arkham Asylum Game of the Year Edition</td>\n",
              "      <td>['Action', 'Batman', 'Stealth', 'Adventure', '...</td>\n",
              "      <td>19.99</td>\n",
              "      <td>35140</td>\n",
              "      <td>Rocksteady Studios,Feral Interactive (Mac)</td>\n",
              "    </tr>\n",
              "  </tbody>\n",
              "</table>\n",
              "</div>"
            ],
            "text/plain": [
              "      username  hours  ...      id                                   developer\n",
              "0  Chaos Syren    0.1  ...  725280                        Vyacheslav Shilikhin\n",
              "1   Duha Nubie   11.3  ...   35140  Rocksteady Studios,Feral Interactive (Mac)\n",
              "2    MLGarbage    9.5  ...   35140  Rocksteady Studios,Feral Interactive (Mac)\n",
              "\n",
              "[3 rows x 14 columns]"
            ]
          },
          "metadata": {
            "tags": []
          },
          "execution_count": 21
        }
      ]
    },
    {
      "cell_type": "markdown",
      "metadata": {
        "id": "vq9YlLvUm3fO"
      },
      "source": [
        "##Exploración de Información"
      ]
    },
    {
      "cell_type": "code",
      "metadata": {
        "colab": {
          "base_uri": "https://localhost:8080/"
        },
        "id": "5qrj2_lIg3-h",
        "outputId": "e85e8d7d-71b0-46fc-d618-2c6711457bf6"
      },
      "source": [
        "print('Un total de {} usuarios realizaron reviews de videojuegos'.format(len(df.username.unique())))"
      ],
      "execution_count": 22,
      "outputs": [
        {
          "output_type": "stream",
          "text": [
            "Un total de 388027 usuarios realizaron reviews de videojuegos\n"
          ],
          "name": "stdout"
        }
      ]
    },
    {
      "cell_type": "code",
      "metadata": {
        "colab": {
          "base_uri": "https://localhost:8080/"
        },
        "id": "JCpaEURihzUb",
        "outputId": "9b9c7845-4195-4166-8af8-20203bdde6ac"
      },
      "source": [
        "print(\"<-- Top 10 de Usuarios con mas reviews -->\")\n",
        "df.username.value_counts().head(10)"
      ],
      "execution_count": 23,
      "outputs": [
        {
          "output_type": "stream",
          "text": [
            "<-- Top 10 de Usuarios con mas reviews -->\n"
          ],
          "name": "stdout"
        },
        {
          "output_type": "execute_result",
          "data": {
            "text/plain": [
              "Alex           119\n",
              "Nick            99\n",
              "Jack            96\n",
              "Chris           85\n",
              "Saint Aaron     76\n",
              "Dan             76\n",
              "123             74\n",
              "Kodyd194        73\n",
              "Matt            71\n",
              "Sam             71\n",
              "Name: username, dtype: Int64"
            ]
          },
          "metadata": {
            "tags": []
          },
          "execution_count": 23
        }
      ]
    },
    {
      "cell_type": "code",
      "metadata": {
        "colab": {
          "base_uri": "https://localhost:8080/"
        },
        "id": "GeWoc66CpQ0B",
        "outputId": "c46224f0-8cab-4d56-8a93-1a5f2ccdb6d4"
      },
      "source": [
        "print('<-- Videojuegos con mas Reviews -->\\n')\n",
        "df.title.value_counts().head(10)"
      ],
      "execution_count": 24,
      "outputs": [
        {
          "output_type": "stream",
          "text": [
            "<-- Videojuegos con mas Reviews -->\n",
            "\n"
          ],
          "name": "stdout"
        },
        {
          "output_type": "execute_result",
          "data": {
            "text/plain": [
              "Team Fortress 2                11731\n",
              "Rust                            6623\n",
              "Borderlands 2                   4733\n",
              "Fallout 4                       4454\n",
              "Grand Theft Auto V              3901\n",
              "Portal 2                        3678\n",
              "Undertale                       3659\n",
              "DayZ                            3625\n",
              "Warframe                        3553\n",
              "Life is Strange - Episode 1     3345\n",
              "Name: title, dtype: Int64"
            ]
          },
          "metadata": {
            "tags": []
          },
          "execution_count": 24
        }
      ]
    },
    {
      "cell_type": "code",
      "metadata": {
        "colab": {
          "base_uri": "https://localhost:8080/",
          "height": 318
        },
        "id": "TQvgT4FsxHoi",
        "outputId": "5bf31f1e-9a5b-4144-978b-2dd8a1d36df9"
      },
      "source": [
        "year_review = df.groupby(['Year']).count()\n",
        "plt.title('Horas acumuladas de juego por año')\n",
        "sns.barplot(x = year_review.index,\n",
        "            y=year_review.hours)"
      ],
      "execution_count": 25,
      "outputs": [
        {
          "output_type": "execute_result",
          "data": {
            "text/plain": [
              "<matplotlib.axes._subplots.AxesSubplot at 0x7f2a111e46d8>"
            ]
          },
          "metadata": {
            "tags": []
          },
          "execution_count": 25
        },
        {
          "output_type": "display_data",
          "data": {
            "image/png": "[encoded data removed]",
            "text/plain": [
              "<Figure size 432x288 with 1 Axes>"
            ]
          },
          "metadata": {
            "tags": []
          }
        }
      ]
    },
    {
      "cell_type": "code",
      "metadata": {
        "id": "Erf3a2D7eBpB",
        "colab": {
          "base_uri": "https://localhost:8080/",
          "height": 318
        },
        "outputId": "6a30f012-b8f4-4a6a-8ca2-6da472c80ade"
      },
      "source": [
        "months_2017 = df[df['Year'] == 2017].groupby(['month']).count()\n",
        "plt.title('Horas acumuladas de juego por mes del 2017')\n",
        "sns.barplot(x= months_2017.index,\n",
        "            y=months_2017.hours)"
      ],
      "execution_count": 26,
      "outputs": [
        {
          "output_type": "execute_result",
          "data": {
            "text/plain": [
              "<matplotlib.axes._subplots.AxesSubplot at 0x7f2a126cbda0>"
            ]
          },
          "metadata": {
            "tags": []
          },
          "execution_count": 26
        },
        {
          "output_type": "display_data",
          "data": {
            "image/png": "[encoded data removed]",
            "text/plain": [
              "<Figure size 432x288 with 1 Axes>"
            ]
          },
          "metadata": {
            "tags": []
          }
        }
      ]
    },
    {
      "cell_type": "code",
      "metadata": {
        "colab": {
          "base_uri": "https://localhost:8080/"
        },
        "id": "I4os0Wvfw5oP",
        "outputId": "ff05d372-404a-4f2e-b131-83b54392639c"
      },
      "source": [
        "print('<-- Desarrolladores con mas videojuegos registrados -->\\n')\n",
        "data_games.developer.value_counts().head(10)"
      ],
      "execution_count": 27,
      "outputs": [
        {
          "output_type": "stream",
          "text": [
            "<-- Desarrolladores con mas videojuegos registrados -->\n",
            "\n"
          ],
          "name": "stdout"
        },
        {
          "output_type": "execute_result",
          "data": {
            "text/plain": [
              "Ubisoft - San Francisco       1259\n",
              "SmiteWorks USA, LLC            813\n",
              "Dovetail Games                 253\n",
              "KOEI TECMO GAMES CO., LTD.     232\n",
              "Paradox Development Studio     156\n",
              "Capcom                         130\n",
              "Ronimo Games                   123\n",
              "Choice of Games                100\n",
              "Musopia                         95\n",
              "Stainless Games                 95\n",
              "Name: developer, dtype: int64"
            ]
          },
          "metadata": {
            "tags": []
          },
          "execution_count": 27
        }
      ]
    },
    {
      "cell_type": "code",
      "metadata": {
        "colab": {
          "base_uri": "https://localhost:8080/"
        },
        "id": "PpR_swPpx-mu",
        "outputId": "dfc41f83-d156-4bb0-9f29-622bbc11fe68"
      },
      "source": [
        "print('<-- Desarrolladores con mas reviews -->\\n')\n",
        "df.developer.value_counts().head(10)"
      ],
      "execution_count": 28,
      "outputs": [
        {
          "output_type": "stream",
          "text": [
            "<-- Desarrolladores con mas reviews -->\n",
            "\n"
          ],
          "name": "stdout"
        },
        {
          "output_type": "execute_result",
          "data": {
            "text/plain": [
              "Valve                                       24337\n",
              "Facepunch Studios                            9733\n",
              "Bohemia Interactive                          7662\n",
              "Bethesda Game Studios                        6963\n",
              "Gearbox Software,Aspyr (Mac &amp; Linux)     4733\n",
              "Ubisoft Montreal                             4707\n",
              "Hi-Rez Studios                               4128\n",
              "Daybreak Game Company                        4051\n",
              "Rockstar North                               3947\n",
              "Digital Extremes                             3804\n",
              "Name: developer, dtype: int64"
            ]
          },
          "metadata": {
            "tags": []
          },
          "execution_count": 28
        }
      ]
    },
    {
      "cell_type": "code",
      "metadata": {
        "colab": {
          "base_uri": "https://localhost:8080/",
          "height": 338
        },
        "id": "Aqd3nCrUw07Y",
        "outputId": "e34d7ebe-d6bd-4efa-96a8-7c9be2e8180d"
      },
      "source": [
        "price_games = data_games.price.value_counts().head(10)\n",
        "sns.barplot(x=price_games.index[0:],\n",
        "            y=price_games)\n",
        "plt.title('Precio mas frecuente de Videojuegos Registrados')\n",
        "plt.xticks(rotation=50)\n",
        "plt.xlabel('Precio')\n",
        "plt.ylabel('Frecuencia')"
      ],
      "execution_count": 29,
      "outputs": [
        {
          "output_type": "execute_result",
          "data": {
            "text/plain": [
              "Text(0, 0.5, 'Frecuencia')"
            ]
          },
          "metadata": {
            "tags": []
          },
          "execution_count": 29
        },
        {
          "output_type": "display_data",
          "data": {
            "image/png": "[encoded data removed]",
            "text/plain": [
              "<Figure size 432x288 with 1 Axes>"
            ]
          },
          "metadata": {
            "tags": []
          }
        }
      ]
    },
    {
      "cell_type": "code",
      "metadata": {
        "colab": {
          "base_uri": "https://localhost:8080/",
          "height": 364
        },
        "id": "Y07u5knvwMys",
        "outputId": "97dc9114-7d91-434a-f911-f6e290c44cd4"
      },
      "source": [
        "price_games = df.price.value_counts().head(10)\n",
        "sns.barplot(x=price_games.index[0:],\n",
        "            y=price_games)\n",
        "plt.title('Precio mas frecuente en Videojuegos con Reviews')\n",
        "plt.xticks(rotation=50)\n",
        "plt.xlabel('Precio')\n",
        "plt.ylabel('Frecuencia')"
      ],
      "execution_count": 30,
      "outputs": [
        {
          "output_type": "execute_result",
          "data": {
            "text/plain": [
              "Text(0, 0.5, 'Frecuencia')"
            ]
          },
          "metadata": {
            "tags": []
          },
          "execution_count": 30
        },
        {
          "output_type": "display_data",
          "data": {
            "image/png": "[encoded data removed]",
            "text/plain": [
              "<Figure size 432x288 with 1 Axes>"
            ]
          },
          "metadata": {
            "tags": []
          }
        }
      ]
    },
    {
      "cell_type": "markdown",
      "metadata": {
        "id": "AkWD-SpnJrPz"
      },
      "source": [
        "# Recomendaciones"
      ]
    },
    {
      "cell_type": "markdown",
      "metadata": {
        "id": "Mh91C5DTySBJ"
      },
      "source": [
        "Este sistema de recomendación se basa en la similitud del genero del videojuego del cual se realiza la review"
      ]
    },
    {
      "cell_type": "code",
      "metadata": {
        "id": "Uc52ixIzHJnO"
      },
      "source": [
        "#Submuestra\n",
        "df_games = data_games.sample(frac=0.04)\n",
        "df_games.reset_index(drop=True, inplace=True)\n",
        "\n",
        "df_reviews = data_reviews.sample(frac=0.04)\n",
        "df_reviews.reset_index(drop=True, inplace=True)"
      ],
      "execution_count": 31,
      "outputs": []
    },
    {
      "cell_type": "code",
      "metadata": {
        "id": "h3tiocCbFcS1"
      },
      "source": [
        " #df_games['tags'] = df_games['tags'].fillna(' ')\n",
        " df_games['xtags'] = df_games['tags'].str.replace('[{}]'.format(string.punctuation), ' ')"
      ],
      "execution_count": 32,
      "outputs": []
    },
    {
      "cell_type": "code",
      "metadata": {
        "id": "IWN7smOyugIW",
        "colab": {
          "base_uri": "https://localhost:8080/",
          "height": 129
        },
        "outputId": "a057983d-75b3-479d-a665-fed72f0c1d9d"
      },
      "source": [
        "break"
      ],
      "execution_count": 33,
      "outputs": [
        {
          "output_type": "error",
          "ename": "SyntaxError",
          "evalue": "ignored",
          "traceback": [
            "\u001b[0;36m  File \u001b[0;32m\"<ipython-input-33-6aaf1f276005>\"\u001b[0;36m, line \u001b[0;32m1\u001b[0m\n\u001b[0;31m    break\u001b[0m\n\u001b[0m         ^\u001b[0m\n\u001b[0;31mSyntaxError\u001b[0m\u001b[0;31m:\u001b[0m 'break' outside loop\n"
          ]
        }
      ]
    },
    {
      "cell_type": "code",
      "metadata": {
        "id": "gVtqQWAEI6uz"
      },
      "source": [
        "stopwords = nltk.corpus.stopwords.words('english')        #Defino las stopwords\n",
        "tfidf = TfidfVectorizer(stop_words=set(stopwords))        #Defino el modelo\n",
        "tfidf_matrix = tfidf.fit_transform(df_games['xtags'])   #Creo matriz"
      ],
      "execution_count": 33,
      "outputs": []
    },
    {
      "cell_type": "code",
      "metadata": {
        "id": "9FxV-paRI6lP"
      },
      "source": [
        "'''\n",
        "Matriz de comparación\n",
        "Compara las etiquetas de un video seleccionado con la lista anterior\n",
        "en busca de palabras similares\n",
        "'''\n",
        "cosine_sim = linear_kernel(tfidf_matrix, tfidf_matrix)"
      ],
      "execution_count": 34,
      "outputs": []
    },
    {
      "cell_type": "code",
      "metadata": {
        "id": "r0f5ugPhKZpO",
        "colab": {
          "base_uri": "https://localhost:8080/"
        },
        "outputId": "a82c02de-9f07-4e9a-f21a-1c7753983ae5"
      },
      "source": [
        "print(len(tfidf.vocabulary_))\n",
        "print(tfidf_matrix.shape)"
      ],
      "execution_count": 35,
      "outputs": [
        {
          "output_type": "stream",
          "text": [
            "331\n",
            "(1197, 331)\n"
          ],
          "name": "stdout"
        }
      ]
    },
    {
      "cell_type": "code",
      "metadata": {
        "id": "g69mWexmI6cG"
      },
      "source": [
        "indices = pd.Series(df_games.index, index=df_games['title']).drop_duplicates()"
      ],
      "execution_count": 36,
      "outputs": []
    },
    {
      "cell_type": "code",
      "metadata": {
        "id": "wkcB6kh1JRfy"
      },
      "source": [
        "def get_recomendation(title, cosine_sim=cosine_sim):\n",
        "    idx = indices[title]                                                        #Selecciona el titulo del videojuego                        \n",
        "    sim_scores = list(enumerate(cosine_sim[idx]))                               \n",
        "    sim_scores = sorted(sim_scores, key=lambda x: x[1], reverse=True)           #Ordena de mayor a menor las similitudes\n",
        "    sim_scores = sim_scores[1:6]                                                #Selecciona las primero 5 similitudes\n",
        "    games_indices = [i[0] for i in sim_scores]\n",
        "    return df_games['title'].iloc[games_indices]                                #Retorna el nombre de los videojuegos"
      ],
      "execution_count": 37,
      "outputs": []
    },
    {
      "cell_type": "code",
      "metadata": {
        "id": "ITQvf_gEQX3j"
      },
      "source": [
        "def recomendation():\n",
        "  '''\n",
        "  Se seleccionara un id de un videojuego al azar, simulando que el usuario ya selecciono\n",
        "  el videojuego que va jugar y escribir su reseña'''\n",
        "  ids  = np.random.randint(df_games.shape[0])                         #Obtiene una linea al azar\n",
        "  ids  = df_games.id.iloc[ids]                                        #Obtiene el id del videojuego seleccionado al azar\n",
        "  name = (df_games.loc[df_games['id'] == ids]['title']).iloc[0]       #Busca el nombre del id del videojuego \n",
        "  print('Usted ha jugado: {}'.format(name))\n",
        "  input('Ingrese su reseña: ')\n",
        "  print('\\nNuestras recomendaciones basadas en su ultima review:')\n",
        "  print(get_recomendation(name))"
      ],
      "execution_count": 38,
      "outputs": []
    },
    {
      "cell_type": "code",
      "metadata": {
        "id": "_d_FFYEgQXzp",
        "colab": {
          "base_uri": "https://localhost:8080/"
        },
        "outputId": "5d175d07-3932-4a2d-c62a-f38093b7673e"
      },
      "source": [
        "recomendation()"
      ],
      "execution_count": 39,
      "outputs": [
        {
          "output_type": "stream",
          "text": [
            "Usted ha jugado: Train Sim World®: Great Western Express\n",
            "Ingrese su reseña: Buen videojuego\n",
            "\n",
            "Nuestras recomendaciones basadas en su ultima review:\n",
            "520                Train Simulator: Fowler 4F Loco Add-On\n",
            "851     Train Simulator: Donner Pass: Southern Pacific...\n",
            "225                                                Unveil\n",
            "628     Train Simulator: Southern Pacific Cab Forward ...\n",
            "1001                  Train Simulator: CRH380D EMU Add-On\n",
            "Name: title, dtype: string\n"
          ],
          "name": "stdout"
        }
      ]
    },
    {
      "cell_type": "markdown",
      "metadata": {
        "id": "WqoViz3t-Kj3"
      },
      "source": [
        "# Procesamiento de lenguaje natural"
      ]
    },
    {
      "cell_type": "markdown",
      "metadata": {
        "id": "QpsVRpMryuAV"
      },
      "source": [
        "Realizo procesamiento de lenguaje, para intentar obtener una calificacion a la review realizada por el usuario , obteniendo una calificacion para la polaridad del comentario.\n",
        "Si el comentario es positivo, el valor sera igual o cercano a 1, mientras, que, si el comentario es negativo, el valor sera igual o cercano a -1, si el comentario es neutro el valor sera cercano o igual a 0"
      ]
    },
    {
      "cell_type": "code",
      "metadata": {
        "colab": {
          "base_uri": "https://localhost:8080/",
          "height": 213
        },
        "id": "lu4U6JuE5IN0",
        "outputId": "703b8310-9b4e-4783-d558-21641bb6aaf5"
      },
      "source": [
        "df.head(2)"
      ],
      "execution_count": 40,
      "outputs": [
        {
          "output_type": "execute_result",
          "data": {
            "text/html": [
              "<div>\n",
              "<style scoped>\n",
              "    .dataframe tbody tr th:only-of-type {\n",
              "        vertical-align: middle;\n",
              "    }\n",
              "\n",
              "    .dataframe tbody tr th {\n",
              "        vertical-align: top;\n",
              "    }\n",
              "\n",
              "    .dataframe thead th {\n",
              "        text-align: right;\n",
              "    }\n",
              "</style>\n",
              "<table border=\"1\" class=\"dataframe\">\n",
              "  <thead>\n",
              "    <tr style=\"text-align: right;\">\n",
              "      <th></th>\n",
              "      <th>username</th>\n",
              "      <th>hours</th>\n",
              "      <th>product_id</th>\n",
              "      <th>date</th>\n",
              "      <th>text</th>\n",
              "      <th>Fecha</th>\n",
              "      <th>Year</th>\n",
              "      <th>month</th>\n",
              "      <th>genres</th>\n",
              "      <th>title</th>\n",
              "      <th>tags</th>\n",
              "      <th>price</th>\n",
              "      <th>id</th>\n",
              "      <th>developer</th>\n",
              "    </tr>\n",
              "  </thead>\n",
              "  <tbody>\n",
              "    <tr>\n",
              "      <th>0</th>\n",
              "      <td>Chaos Syren</td>\n",
              "      <td>0.1</td>\n",
              "      <td>725280</td>\n",
              "      <td>2017-12-17</td>\n",
              "      <td>This would not be acceptable as an entertainme...</td>\n",
              "      <td>2017-12-17</td>\n",
              "      <td>2017</td>\n",
              "      <td>12</td>\n",
              "      <td>['Action', 'Adventure', 'Indie', 'Simulation']</td>\n",
              "      <td>Psi Project</td>\n",
              "      <td>['Action', 'Adventure', 'Indie', 'Simulation']</td>\n",
              "      <td>2.99</td>\n",
              "      <td>725280</td>\n",
              "      <td>Vyacheslav Shilikhin</td>\n",
              "    </tr>\n",
              "    <tr>\n",
              "      <th>1</th>\n",
              "      <td>Duha Nubie</td>\n",
              "      <td>11.3</td>\n",
              "      <td>35140</td>\n",
              "      <td>2018-01-03</td>\n",
              "      <td>first debut feel sweet</td>\n",
              "      <td>2018-01-03</td>\n",
              "      <td>2018</td>\n",
              "      <td>1</td>\n",
              "      <td>['Action', 'Adventure']</td>\n",
              "      <td>Batman: Arkham Asylum Game of the Year Edition</td>\n",
              "      <td>['Action', 'Batman', 'Stealth', 'Adventure', '...</td>\n",
              "      <td>19.99</td>\n",
              "      <td>35140</td>\n",
              "      <td>Rocksteady Studios,Feral Interactive (Mac)</td>\n",
              "    </tr>\n",
              "  </tbody>\n",
              "</table>\n",
              "</div>"
            ],
            "text/plain": [
              "      username  hours  ...      id                                   developer\n",
              "0  Chaos Syren    0.1  ...  725280                        Vyacheslav Shilikhin\n",
              "1   Duha Nubie   11.3  ...   35140  Rocksteady Studios,Feral Interactive (Mac)\n",
              "\n",
              "[2 rows x 14 columns]"
            ]
          },
          "metadata": {
            "tags": []
          },
          "execution_count": 40
        }
      ]
    },
    {
      "cell_type": "code",
      "metadata": {
        "id": "SZh-rtzlwJWv"
      },
      "source": [
        "df.drop(['hours', 'date', 'Fecha', 'Year', 'month', 'developer', 'price','id'], axis=1, inplace=True)"
      ],
      "execution_count": 41,
      "outputs": []
    },
    {
      "cell_type": "markdown",
      "metadata": {
        "id": "rOT82_sV75Pv"
      },
      "source": [
        "## Estandarizar el texto"
      ]
    },
    {
      "cell_type": "code",
      "metadata": {
        "id": "yvTTgj7dzo7w"
      },
      "source": [
        " #Elimino signos de puntuacion\n",
        " df['xtext'] = df['text'].str.replace('[{}]'.format(string.punctuation), ' ')"
      ],
      "execution_count": 42,
      "outputs": []
    },
    {
      "cell_type": "markdown",
      "metadata": {
        "id": "nOINlU176LDQ"
      },
      "source": [
        "## Conversion de nombre de usuarios a numeros"
      ]
    },
    {
      "cell_type": "code",
      "metadata": {
        "colab": {
          "base_uri": "https://localhost:8080/",
          "height": 162
        },
        "id": "1byVdnLO6Wa0",
        "outputId": "a5bf771c-dd67-43e0-9394-8ee8fa245762"
      },
      "source": [
        "from sklearn import preprocessing\n",
        "\n",
        "le = preprocessing.LabelEncoder()\n",
        "le.fit(df['username'])\n",
        "df['#username'] = le.transform(df['username'])\n",
        "\n",
        "df.head(2)"
      ],
      "execution_count": 44,
      "outputs": [
        {
          "output_type": "execute_result",
          "data": {
            "text/html": [
              "<div>\n",
              "<style scoped>\n",
              "    .dataframe tbody tr th:only-of-type {\n",
              "        vertical-align: middle;\n",
              "    }\n",
              "\n",
              "    .dataframe tbody tr th {\n",
              "        vertical-align: top;\n",
              "    }\n",
              "\n",
              "    .dataframe thead th {\n",
              "        text-align: right;\n",
              "    }\n",
              "</style>\n",
              "<table border=\"1\" class=\"dataframe\">\n",
              "  <thead>\n",
              "    <tr style=\"text-align: right;\">\n",
              "      <th></th>\n",
              "      <th>username</th>\n",
              "      <th>product_id</th>\n",
              "      <th>text</th>\n",
              "      <th>genres</th>\n",
              "      <th>title</th>\n",
              "      <th>tags</th>\n",
              "      <th>xtext</th>\n",
              "      <th>#username</th>\n",
              "    </tr>\n",
              "  </thead>\n",
              "  <tbody>\n",
              "    <tr>\n",
              "      <th>0</th>\n",
              "      <td>Chaos Syren</td>\n",
              "      <td>725280</td>\n",
              "      <td>This would not be acceptable as an entertainme...</td>\n",
              "      <td>['Action', 'Adventure', 'Indie', 'Simulation']</td>\n",
              "      <td>Psi Project</td>\n",
              "      <td>['Action', 'Adventure', 'Indie', 'Simulation']</td>\n",
              "      <td>This would not be acceptable as an entertainme...</td>\n",
              "      <td>45116</td>\n",
              "    </tr>\n",
              "    <tr>\n",
              "      <th>1</th>\n",
              "      <td>Duha Nubie</td>\n",
              "      <td>35140</td>\n",
              "      <td>first debut feel sweet</td>\n",
              "      <td>['Action', 'Adventure']</td>\n",
              "      <td>Batman: Arkham Asylum Game of the Year Edition</td>\n",
              "      <td>['Action', 'Batman', 'Stealth', 'Adventure', '...</td>\n",
              "      <td>first debut feel sweet</td>\n",
              "      <td>73962</td>\n",
              "    </tr>\n",
              "  </tbody>\n",
              "</table>\n",
              "</div>"
            ],
            "text/plain": [
              "      username  ...  #username\n",
              "0  Chaos Syren  ...      45116\n",
              "1   Duha Nubie  ...      73962\n",
              "\n",
              "[2 rows x 8 columns]"
            ]
          },
          "metadata": {
            "tags": []
          },
          "execution_count": 44
        }
      ]
    },
    {
      "cell_type": "code",
      "metadata": {
        "id": "WPPXhxcO6ROI"
      },
      "source": [
        "#Submuestra\n",
        "df_sub= df.sample(frac=0.1)\n",
        "df_sub.reset_index(drop=True, inplace=True)"
      ],
      "execution_count": 45,
      "outputs": []
    },
    {
      "cell_type": "markdown",
      "metadata": {
        "id": "h7J9cJE3zItE"
      },
      "source": [
        "## Emojis"
      ]
    },
    {
      "cell_type": "code",
      "metadata": {
        "id": "Zo2vQjUEzIf3"
      },
      "source": [
        "pip install emoji"
      ],
      "execution_count": null,
      "outputs": []
    },
    {
      "cell_type": "code",
      "metadata": {
        "id": "UrUVeT0LylsM"
      },
      "source": [
        "#Elimino cualquier emoji presente en la review escrita\n",
        "import emoji"
      ],
      "execution_count": null,
      "outputs": []
    },
    {
      "cell_type": "code",
      "metadata": {
        "id": "BvgNx0YbwlPm"
      },
      "source": [
        "df_reviews.xtext.iloc[1]"
      ],
      "execution_count": null,
      "outputs": []
    },
    {
      "cell_type": "code",
      "metadata": {
        "id": "BxbqRA9YwlMf"
      },
      "source": [
        "#df_reviews['xtext'] = emoji.demojize(df_reviews['xtext'])"
      ],
      "execution_count": null,
      "outputs": []
    },
    {
      "cell_type": "markdown",
      "metadata": {
        "id": "BG-UEbs61D6x"
      },
      "source": [
        "## Traduccion de comentario"
      ]
    },
    {
      "cell_type": "code",
      "metadata": {
        "id": "JTHI4FU1wk1c"
      },
      "source": [
        "#df_reviews['xtext'] = df_reviews['text'].apply(lambda x: TextBlob(x).translate(to='en'))"
      ],
      "execution_count": null,
      "outputs": []
    },
    {
      "cell_type": "code",
      "metadata": {
        "id": "fv50Rs6_wkyY"
      },
      "source": [
        "#Ya que todos los comentarios se encuentran en ingles, la celda anterior marca error, ya que no tiene acciones por realizar"
      ],
      "execution_count": null,
      "outputs": []
    },
    {
      "cell_type": "markdown",
      "metadata": {
        "id": "j17XK9E88teX"
      },
      "source": [
        "## Polaridad y subjetividad de reviews"
      ]
    },
    {
      "cell_type": "code",
      "metadata": {
        "id": "jHB9Z4ovGXAA"
      },
      "source": [
        "#Correcion de escritura\n",
        "#correciones = []\n",
        "\n",
        "#for i in range(df_reviews.shape[0]):\n",
        "#  correcion = df_reviews.xtext.iloc[i]\n",
        "#  correcion = TextBlob(correcion).correct()\n",
        "#  correciones.append(correcion)\n",
        "\n",
        "#df_reviews['xtext'] = correciones"
      ],
      "execution_count": null,
      "outputs": []
    },
    {
      "cell_type": "code",
      "metadata": {
        "id": "K6UyOXKw8r9o"
      },
      "source": [
        "#TextBlob(comentario).sentimen"
      ],
      "execution_count": null,
      "outputs": []
    },
    {
      "cell_type": "code",
      "metadata": {
        "id": "qj5MsPoG8r0l"
      },
      "source": [
        "#Creacion de una nueva columna con la polaridad de la review\n",
        "comentarios = []\n",
        "\n",
        "for i in range(df_sub.shape[0]):\n",
        "  comentario = df_sub.xtext.iloc[i]\n",
        "  comentario = TextBlob(comentario).polarity\n",
        "  comentarios.append(comentario)\n",
        "\n",
        "df_sub['polarity'] = comentarios"
      ],
      "execution_count": 46,
      "outputs": []
    },
    {
      "cell_type": "code",
      "metadata": {
        "id": "K8K0YJJP-VAm"
      },
      "source": [
        "#Creacion de una nueva columna con la subjetividad de la revoew\n",
        "comentarios = []\n",
        "\n",
        "for i in range(df_sub.shape[0]):\n",
        "  comentario = df_sub.xtext.iloc[i]\n",
        "  comentario = TextBlob(comentario).subjectivity\n",
        "  comentarios.append(comentario)\n",
        "\n",
        "df_sub['subjectivity'] = comentarios"
      ],
      "execution_count": 47,
      "outputs": []
    },
    {
      "cell_type": "markdown",
      "metadata": {
        "id": "RIdWtFmu-Bwe"
      },
      "source": [
        "## Analisis de comentarios"
      ]
    },
    {
      "cell_type": "code",
      "metadata": {
        "colab": {
          "base_uri": "https://localhost:8080/",
          "height": 179
        },
        "id": "fm0in2wh-FtL",
        "outputId": "6d9633ad-fd89-4e05-f11f-0b510fc9f8a8"
      },
      "source": [
        "df_sub.head(2)"
      ],
      "execution_count": 48,
      "outputs": [
        {
          "output_type": "execute_result",
          "data": {
            "text/html": [
              "<div>\n",
              "<style scoped>\n",
              "    .dataframe tbody tr th:only-of-type {\n",
              "        vertical-align: middle;\n",
              "    }\n",
              "\n",
              "    .dataframe tbody tr th {\n",
              "        vertical-align: top;\n",
              "    }\n",
              "\n",
              "    .dataframe thead th {\n",
              "        text-align: right;\n",
              "    }\n",
              "</style>\n",
              "<table border=\"1\" class=\"dataframe\">\n",
              "  <thead>\n",
              "    <tr style=\"text-align: right;\">\n",
              "      <th></th>\n",
              "      <th>username</th>\n",
              "      <th>product_id</th>\n",
              "      <th>text</th>\n",
              "      <th>genres</th>\n",
              "      <th>title</th>\n",
              "      <th>tags</th>\n",
              "      <th>xtext</th>\n",
              "      <th>#username</th>\n",
              "      <th>polarity</th>\n",
              "      <th>subjectivity</th>\n",
              "    </tr>\n",
              "  </thead>\n",
              "  <tbody>\n",
              "    <tr>\n",
              "      <th>0</th>\n",
              "      <td>Disguised</td>\n",
              "      <td>211420</td>\n",
              "      <td>Punishing but rewarding gameplay with excellen...</td>\n",
              "      <td>['Action', 'RPG']</td>\n",
              "      <td>DARK SOULS™: Prepare To Die™ Edition</td>\n",
              "      <td>['RPG', 'Dark Fantasy', 'Difficult', 'Action',...</td>\n",
              "      <td>Punishing but rewarding gameplay with excellen...</td>\n",
              "      <td>67885</td>\n",
              "      <td>0.5875</td>\n",
              "      <td>0.675000</td>\n",
              "    </tr>\n",
              "    <tr>\n",
              "      <th>1</th>\n",
              "      <td>Newton!</td>\n",
              "      <td>268910</td>\n",
              "      <td>I'm just going to say this now, since I'm not ...</td>\n",
              "      <td>['Action', 'Indie']</td>\n",
              "      <td>Cuphead</td>\n",
              "      <td>['Difficult', 'Cartoon', 'Platformer', 'Great ...</td>\n",
              "      <td>I m just going to say this now  since I m not ...</td>\n",
              "      <td>173602</td>\n",
              "      <td>-0.7000</td>\n",
              "      <td>0.666667</td>\n",
              "    </tr>\n",
              "  </tbody>\n",
              "</table>\n",
              "</div>"
            ],
            "text/plain": [
              "    username  product_id  ... polarity subjectivity\n",
              "0  Disguised      211420  ...   0.5875     0.675000\n",
              "1    Newton!      268910  ...  -0.7000     0.666667\n",
              "\n",
              "[2 rows x 10 columns]"
            ]
          },
          "metadata": {
            "tags": []
          },
          "execution_count": 48
        }
      ]
    },
    {
      "cell_type": "code",
      "metadata": {
        "colab": {
          "base_uri": "https://localhost:8080/"
        },
        "id": "Sbfm3KHg-Scp",
        "outputId": "a93eeec4-f8da-48c9-c766-039e2a7c42a3"
      },
      "source": [
        "print('<-- Videojuegos con más reviews positivas-->\\n')\n",
        "df_sub.groupby('title')['polarity'].mean().sort_values(ascending=False).head()"
      ],
      "execution_count": 49,
      "outputs": [
        {
          "output_type": "stream",
          "text": [
            "<-- Videojuegos con más reviews positivas-->\n",
            "\n"
          ],
          "name": "stdout"
        },
        {
          "output_type": "execute_result",
          "data": {
            "text/plain": [
              "title\n",
              "OmniBus                                          1.00\n",
              "IL-2 Sturmovik: Cliffs of Dover Blitz Edition    1.00\n",
              "hocus                                            1.00\n",
              "Kick-Ass 2                                       0.91\n",
              "K-On! The Movie                                  0.91\n",
              "Name: polarity, dtype: float64"
            ]
          },
          "metadata": {
            "tags": []
          },
          "execution_count": 49
        }
      ]
    },
    {
      "cell_type": "code",
      "metadata": {
        "colab": {
          "base_uri": "https://localhost:8080/",
          "height": 235
        },
        "id": "3_D58Ku6-Cgi",
        "outputId": "1750d36b-c321-40b7-eb51-213e61b68da9"
      },
      "source": [
        "#Data de videojuego con el promedio de polaridad en sus reviews\n",
        "ratings = pd.DataFrame(df_sub.groupby('title')['polarity'].mean())\n",
        "ratings.head()"
      ],
      "execution_count": 50,
      "outputs": [
        {
          "output_type": "execute_result",
          "data": {
            "text/html": [
              "<div>\n",
              "<style scoped>\n",
              "    .dataframe tbody tr th:only-of-type {\n",
              "        vertical-align: middle;\n",
              "    }\n",
              "\n",
              "    .dataframe tbody tr th {\n",
              "        vertical-align: top;\n",
              "    }\n",
              "\n",
              "    .dataframe thead th {\n",
              "        text-align: right;\n",
              "    }\n",
              "</style>\n",
              "<table border=\"1\" class=\"dataframe\">\n",
              "  <thead>\n",
              "    <tr style=\"text-align: right;\">\n",
              "      <th></th>\n",
              "      <th>polarity</th>\n",
              "    </tr>\n",
              "    <tr>\n",
              "      <th>title</th>\n",
              "      <th></th>\n",
              "    </tr>\n",
              "  </thead>\n",
              "  <tbody>\n",
              "    <tr>\n",
              "      <th>! That Bastard Is Trying To Steal Our Gold !</th>\n",
              "      <td>-0.396828</td>\n",
              "    </tr>\n",
              "    <tr>\n",
              "      <th>#monstercakes</th>\n",
              "      <td>0.046659</td>\n",
              "    </tr>\n",
              "    <tr>\n",
              "      <th>$1 Ride</th>\n",
              "      <td>-0.293333</td>\n",
              "    </tr>\n",
              "    <tr>\n",
              "      <th>&amp;gt;//:System.Hack</th>\n",
              "      <td>0.067969</td>\n",
              "    </tr>\n",
              "    <tr>\n",
              "      <th>&amp;gt;observer_</th>\n",
              "      <td>0.132473</td>\n",
              "    </tr>\n",
              "  </tbody>\n",
              "</table>\n",
              "</div>"
            ],
            "text/plain": [
              "                                              polarity\n",
              "title                                                 \n",
              "! That Bastard Is Trying To Steal Our Gold ! -0.396828\n",
              "#monstercakes                                 0.046659\n",
              "$1 Ride                                      -0.293333\n",
              "&gt;//:System.Hack                            0.067969\n",
              "&gt;observer_                                 0.132473"
            ]
          },
          "metadata": {
            "tags": []
          },
          "execution_count": 50
        }
      ]
    },
    {
      "cell_type": "code",
      "metadata": {
        "colab": {
          "base_uri": "https://localhost:8080/",
          "height": 235
        },
        "id": "P5-CHLYW_Aix",
        "outputId": "880cc0bc-ab7a-45ab-c7da-b6a5ced7a5f3"
      },
      "source": [
        "#Nueva columna, el numero de reviews recibidas por videojuego\n",
        "ratings['num of ratings'] = pd.DataFrame(df_sub.groupby('title')['polarity'].count())\n",
        "ratings.head()"
      ],
      "execution_count": 51,
      "outputs": [
        {
          "output_type": "execute_result",
          "data": {
            "text/html": [
              "<div>\n",
              "<style scoped>\n",
              "    .dataframe tbody tr th:only-of-type {\n",
              "        vertical-align: middle;\n",
              "    }\n",
              "\n",
              "    .dataframe tbody tr th {\n",
              "        vertical-align: top;\n",
              "    }\n",
              "\n",
              "    .dataframe thead th {\n",
              "        text-align: right;\n",
              "    }\n",
              "</style>\n",
              "<table border=\"1\" class=\"dataframe\">\n",
              "  <thead>\n",
              "    <tr style=\"text-align: right;\">\n",
              "      <th></th>\n",
              "      <th>polarity</th>\n",
              "      <th>num of ratings</th>\n",
              "    </tr>\n",
              "    <tr>\n",
              "      <th>title</th>\n",
              "      <th></th>\n",
              "      <th></th>\n",
              "    </tr>\n",
              "  </thead>\n",
              "  <tbody>\n",
              "    <tr>\n",
              "      <th>! That Bastard Is Trying To Steal Our Gold !</th>\n",
              "      <td>-0.396828</td>\n",
              "      <td>2</td>\n",
              "    </tr>\n",
              "    <tr>\n",
              "      <th>#monstercakes</th>\n",
              "      <td>0.046659</td>\n",
              "      <td>3</td>\n",
              "    </tr>\n",
              "    <tr>\n",
              "      <th>$1 Ride</th>\n",
              "      <td>-0.293333</td>\n",
              "      <td>3</td>\n",
              "    </tr>\n",
              "    <tr>\n",
              "      <th>&amp;gt;//:System.Hack</th>\n",
              "      <td>0.067969</td>\n",
              "      <td>1</td>\n",
              "    </tr>\n",
              "    <tr>\n",
              "      <th>&amp;gt;observer_</th>\n",
              "      <td>0.132473</td>\n",
              "      <td>2</td>\n",
              "    </tr>\n",
              "  </tbody>\n",
              "</table>\n",
              "</div>"
            ],
            "text/plain": [
              "                                              polarity  num of ratings\n",
              "title                                                                 \n",
              "! That Bastard Is Trying To Steal Our Gold ! -0.396828               2\n",
              "#monstercakes                                 0.046659               3\n",
              "$1 Ride                                      -0.293333               3\n",
              "&gt;//:System.Hack                            0.067969               1\n",
              "&gt;observer_                                 0.132473               2"
            ]
          },
          "metadata": {
            "tags": []
          },
          "execution_count": 51
        }
      ]
    },
    {
      "cell_type": "code",
      "metadata": {
        "colab": {
          "base_uri": "https://localhost:8080/",
          "height": 318
        },
        "id": "XwaoW8ue_Tbp",
        "outputId": "32ceb070-cf11-4b9b-dce3-468d51dd4169"
      },
      "source": [
        "plt.figure(figsize=(10,4))\n",
        "ratings['polarity'].hist(bins=70)\n",
        "plt.xlabel('-Negativo <----------------------------> Positivo')\n",
        "plt.title(\"Polaridad de Review's\")"
      ],
      "execution_count": 52,
      "outputs": [
        {
          "output_type": "execute_result",
          "data": {
            "text/plain": [
              "Text(0.5, 1.0, \"Polaridad de Review's\")"
            ]
          },
          "metadata": {
            "tags": []
          },
          "execution_count": 52
        },
        {
          "output_type": "display_data",
          "data": {
            "image/png": "[encoded data removed]",
            "text/plain": [
              "<Figure size 720x288 with 1 Axes>"
            ]
          },
          "metadata": {
            "tags": []
          }
        }
      ]
    },
    {
      "cell_type": "markdown",
      "metadata": {
        "id": "jBJWqaW7u7SV"
      },
      "source": [
        "# Machine Learning\n",
        "## Surprise"
      ]
    },
    {
      "cell_type": "code",
      "metadata": {
        "id": "XznZ0CnjbcHw"
      },
      "source": [
        "#Creo una copia de las review, que mas adelante empleare\n",
        "calificaciones = df_sub[['username', 'product_id', 'polarity']]"
      ],
      "execution_count": 53,
      "outputs": []
    },
    {
      "cell_type": "code",
      "metadata": {
        "id": "tHDJaXwtGCuE"
      },
      "source": [
        "  from surprise import Dataset\n",
        "from surprise import Reader\n",
        "from surprise.model_selection import train_test_split"
      ],
      "execution_count": 54,
      "outputs": []
    },
    {
      "cell_type": "code",
      "metadata": {
        "id": "3Hd4pSkvcYA2"
      },
      "source": [
        "#Defino el modelo reader\n",
        "reader = Reader()\n",
        "\n",
        "#Creo Dataset para el modelo\n",
        "N_filas = 2000 # Limitamos el dataset a N_filas\n",
        "\n",
        "data = Dataset.load_from_df(calificaciones[['username', 'product_id', 'polarity']][:N_filas], reader)"
      ],
      "execution_count": 55,
      "outputs": []
    },
    {
      "cell_type": "code",
      "metadata": {
        "id": "Y3VOznv18DwL"
      },
      "source": [
        "from surprise import SVD\n",
        "algo = SVD()"
      ],
      "execution_count": 56,
      "outputs": []
    },
    {
      "cell_type": "code",
      "metadata": {
        "id": "t7s2l5bu-Gmj",
        "colab": {
          "base_uri": "https://localhost:8080/"
        },
        "outputId": "62242c74-653c-4d03-d64a-5b860de79683"
      },
      "source": [
        "from surprise.model_selection.validation import cross_validate\n",
        "cross_validate(algo, data, measures=['RMSE', 'MAE'], cv=5, verbose=True)"
      ],
      "execution_count": 57,
      "outputs": [
        {
          "output_type": "stream",
          "text": [
            "Evaluating RMSE, MAE of algorithm SVD on 5 split(s).\n",
            "\n",
            "                  Fold 1  Fold 2  Fold 3  Fold 4  Fold 5  Mean    Std     \n",
            "RMSE (testset)    0.9528  0.9511  0.9460  0.9226  0.9227  0.9390  0.0136  \n",
            "MAE (testset)     0.9105  0.9097  0.9111  0.8856  0.8910  0.9016  0.0110  \n",
            "Fit time          0.11    0.10    0.12    0.10    0.11    0.11    0.01    \n",
            "Test time         0.00    0.00    0.00    0.00    0.00    0.00    0.00    \n"
          ],
          "name": "stdout"
        },
        {
          "output_type": "execute_result",
          "data": {
            "text/plain": [
              "{'fit_time': (0.10811734199523926,\n",
              "  0.10231447219848633,\n",
              "  0.11603736877441406,\n",
              "  0.10235714912414551,\n",
              "  0.1138906478881836),\n",
              " 'test_mae': array([0.91048345, 0.90970336, 0.91112127, 0.88563126, 0.89101175]),\n",
              " 'test_rmse': array([0.95277629, 0.95108105, 0.94598685, 0.92261517, 0.92265942]),\n",
              " 'test_time': (0.0033597946166992188,\n",
              "  0.0028619766235351562,\n",
              "  0.0026445388793945312,\n",
              "  0.002731800079345703,\n",
              "  0.0027081966400146484)}"
            ]
          },
          "metadata": {
            "tags": []
          },
          "execution_count": 57
        }
      ]
    },
    {
      "cell_type": "code",
      "metadata": {
        "id": "oC3_SIyIGCoG"
      },
      "source": [
        "#Division de Datos de entrenamiento y test\n",
        "trainset, testset = train_test_split(data, test_size=.25)"
      ],
      "execution_count": 58,
      "outputs": []
    },
    {
      "cell_type": "code",
      "metadata": {
        "id": "1exHz3m8GCZq",
        "colab": {
          "base_uri": "https://localhost:8080/"
        },
        "outputId": "72e1ba73-2f81-497b-be04-fe493d019c7c"
      },
      "source": [
        "#Entreno modelo\n",
        "algo.fit(trainset)"
      ],
      "execution_count": 59,
      "outputs": [
        {
          "output_type": "execute_result",
          "data": {
            "text/plain": [
              "<surprise.prediction_algorithms.matrix_factorization.SVD at 0x7f2a155a74e0>"
            ]
          },
          "metadata": {
            "tags": []
          },
          "execution_count": 59
        }
      ]
    },
    {
      "cell_type": "code",
      "metadata": {
        "id": "Lfm0cK3T8bNJ"
      },
      "source": [
        "usuario = df_sub[df_sub['username'] == '123']"
      ],
      "execution_count": 60,
      "outputs": []
    },
    {
      "cell_type": "code",
      "metadata": {
        "id": "obU9b-pG_MRW"
      },
      "source": [
        "#Uso el usuario con mas reviews para emplear una prediccion usuario='123'\n",
        "usuario['estimate_escore'] = usuario['product_id'].apply(lambda x: algo.predict('123', x).est)"
      ],
      "execution_count": 61,
      "outputs": []
    },
    {
      "cell_type": "code",
      "metadata": {
        "colab": {
          "base_uri": "https://localhost:8080/",
          "height": 411
        },
        "id": "6TNipjE58Py7",
        "outputId": "df01053e-07e4-4675-9ccb-831cae75c75c"
      },
      "source": [
        "usuario.head(4)"
      ],
      "execution_count": 62,
      "outputs": [
        {
          "output_type": "execute_result",
          "data": {
            "text/html": [
              "<div>\n",
              "<style scoped>\n",
              "    .dataframe tbody tr th:only-of-type {\n",
              "        vertical-align: middle;\n",
              "    }\n",
              "\n",
              "    .dataframe tbody tr th {\n",
              "        vertical-align: top;\n",
              "    }\n",
              "\n",
              "    .dataframe thead th {\n",
              "        text-align: right;\n",
              "    }\n",
              "</style>\n",
              "<table border=\"1\" class=\"dataframe\">\n",
              "  <thead>\n",
              "    <tr style=\"text-align: right;\">\n",
              "      <th></th>\n",
              "      <th>username</th>\n",
              "      <th>product_id</th>\n",
              "      <th>text</th>\n",
              "      <th>genres</th>\n",
              "      <th>title</th>\n",
              "      <th>tags</th>\n",
              "      <th>xtext</th>\n",
              "      <th>#username</th>\n",
              "      <th>polarity</th>\n",
              "      <th>subjectivity</th>\n",
              "      <th>estimate_escore</th>\n",
              "    </tr>\n",
              "  </thead>\n",
              "  <tbody>\n",
              "    <tr>\n",
              "      <th>1212</th>\n",
              "      <td>123</td>\n",
              "      <td>48700</td>\n",
              "      <td>Its a great game 8/8 m8 would play again</td>\n",
              "      <td>['Action', 'RPG']</td>\n",
              "      <td>Mount &amp;amp; Blade: Warband</td>\n",
              "      <td>['Medieval', 'RPG', 'Open World', 'Strategy', ...</td>\n",
              "      <td>Its a great game 8 8 m8 would play again</td>\n",
              "      <td>3808</td>\n",
              "      <td>0.200000</td>\n",
              "      <td>0.575000</td>\n",
              "      <td>1</td>\n",
              "    </tr>\n",
              "    <tr>\n",
              "      <th>1810</th>\n",
              "      <td>123</td>\n",
              "      <td>349700</td>\n",
              "      <td>Honestly, the game isn't even that bad. People...</td>\n",
              "      <td>['Action', 'Free to Play', 'Indie', 'Massively...</td>\n",
              "      <td>Romero's Aftermath</td>\n",
              "      <td>['Free to Play', 'Zombies', 'Survival', 'Multi...</td>\n",
              "      <td>Honestly  the game isn t even that bad  People...</td>\n",
              "      <td>3808</td>\n",
              "      <td>-0.097436</td>\n",
              "      <td>0.504103</td>\n",
              "      <td>1</td>\n",
              "    </tr>\n",
              "    <tr>\n",
              "      <th>2136</th>\n",
              "      <td>123</td>\n",
              "      <td>393380</td>\n",
              "      <td>Horrible game. Won't recommend.\n",
              "Runs like a pi...</td>\n",
              "      <td>['Action', 'Indie', 'Strategy', 'Early Access']</td>\n",
              "      <td>Squad</td>\n",
              "      <td>['Early Access', 'FPS', 'Realistic', 'Tactical...</td>\n",
              "      <td>Horrible game  Won t recommend \n",
              "Runs like a pi...</td>\n",
              "      <td>3808</td>\n",
              "      <td>-0.304545</td>\n",
              "      <td>0.595455</td>\n",
              "      <td>1</td>\n",
              "    </tr>\n",
              "    <tr>\n",
              "      <th>3728</th>\n",
              "      <td>123</td>\n",
              "      <td>247910</td>\n",
              "      <td>I would not reccomend this game to anyone.  Th...</td>\n",
              "      <td>['Action', 'Adventure']</td>\n",
              "      <td>Sniper Elite: Nazi Zombie Army 2</td>\n",
              "      <td>['Zombies', 'Action', 'Co-op', 'Adventure', 'T...</td>\n",
              "      <td>I would not reccomend this game to anyone   Th...</td>\n",
              "      <td>3808</td>\n",
              "      <td>0.060000</td>\n",
              "      <td>0.585833</td>\n",
              "      <td>1</td>\n",
              "    </tr>\n",
              "  </tbody>\n",
              "</table>\n",
              "</div>"
            ],
            "text/plain": [
              "     username  product_id  ... subjectivity estimate_escore\n",
              "1212      123       48700  ...     0.575000               1\n",
              "1810      123      349700  ...     0.504103               1\n",
              "2136      123      393380  ...     0.595455               1\n",
              "3728      123      247910  ...     0.585833               1\n",
              "\n",
              "[4 rows x 11 columns]"
            ]
          },
          "metadata": {
            "tags": []
          },
          "execution_count": 62
        }
      ]
    },
    {
      "cell_type": "code",
      "metadata": {
        "colab": {
          "base_uri": "https://localhost:8080/"
        },
        "id": "1_Q2n_p49G8D",
        "outputId": "f52bc33c-613c-4643-9830-b1ffd1b21401"
      },
      "source": [
        "print('Calificacion maxima asiganada por el modelo: ',usuario.estimate_escore.max())\n",
        "print('Calificacion minima asiganada por el modelo: ', usuario.estimate_escore.min())"
      ],
      "execution_count": 63,
      "outputs": [
        {
          "output_type": "stream",
          "text": [
            "Calificacion maxima asiganada por el modelo:  1\n",
            "Calificacion minima asiganada por el modelo:  1\n"
          ],
          "name": "stdout"
        }
      ]
    },
    {
      "cell_type": "markdown",
      "metadata": {
        "id": "86Gw2wpQ9EP2"
      },
      "source": [
        "El modelo asigna 1 a todos los videojuegos, lo cual se traduce como si le gustaran todos los videojuegos"
      ]
    },
    {
      "cell_type": "code",
      "metadata": {
        "id": "mrtB-_HycgHz"
      },
      "source": [
        "#Realizo predicciones\n",
        "predictions = algo.test(testset)"
      ],
      "execution_count": null,
      "outputs": []
    },
    {
      "cell_type": "code",
      "metadata": {
        "id": "mc6uH8q62CiD"
      },
      "source": [
        "#Explorar predicciones\n",
        "predictions[3]"
      ],
      "execution_count": null,
      "outputs": []
    },
    {
      "cell_type": "code",
      "metadata": {
        "id": "_kFeW7zs2h0N"
      },
      "source": [
        "df[df['username'] == '123'].head(2)"
      ],
      "execution_count": null,
      "outputs": []
    },
    {
      "cell_type": "code",
      "metadata": {
        "id": "ZIXYEUYg25uG"
      },
      "source": [
        "df_reviews[df_reviews['username'] == '123']"
      ],
      "execution_count": null,
      "outputs": []
    },
    {
      "cell_type": "code",
      "metadata": {
        "id": "qZvXKUrw2tJd"
      },
      "source": [
        "#Prediccion\n",
        "algo.predict('123', '405500')"
      ],
      "execution_count": null,
      "outputs": []
    },
    {
      "cell_type": "code",
      "metadata": {
        "id": "2Fj7zbr93Ftc"
      },
      "source": [
        "#Selecciono el usuario con mas reviews\n",
        "calificaciones[calificaciones['username'] == '123']"
      ],
      "execution_count": null,
      "outputs": []
    },
    {
      "cell_type": "code",
      "metadata": {
        "id": "dA9zFJlCnYol"
      },
      "source": [
        "usuario = '123'  \n",
        "polariy = -1.0\n",
        "df_user = df_reviews[(df_reviews['username'] == usuario) & (df_reviews['polariy'] >= polariy)]\n",
        "df_user.reset_index(drop=True, inplace=True)\n",
        "names = []\n",
        "for i in df_user.product_id:\n",
        "  name = data_games[data_games['id'] == i]\n",
        "  name = name.title.values[0]\n",
        "  names.append(name)\n",
        "\n",
        "\n",
        "df_user['game_name'] = names"
      ],
      "execution_count": null,
      "outputs": []
    },
    {
      "cell_type": "code",
      "metadata": {
        "id": "HAU1fxD4LJH3"
      },
      "source": [
        "df_user"
      ],
      "execution_count": null,
      "outputs": []
    },
    {
      "cell_type": "code",
      "metadata": {
        "id": "0-KnoTTp57GX"
      },
      "source": [
        "#Creo una copia del Dataser donde se encuentran todos los juegos registrados\n",
        "recomendaciones_games = data_games.iloc[0:]"
      ],
      "execution_count": null,
      "outputs": []
    },
    {
      "cell_type": "code",
      "metadata": {
        "id": "kDjY_hGRAGO0"
      },
      "source": [
        "#Juegos que el usuario ya jugo\"\n",
        "juegos_jugados = data_reviews[data_reviews['username'] == usuario]\n",
        "#Elimino los juegos que tienen mas de 1 review para el mismo usuario, conservando la ultima review\n",
        "juegos_jugados.drop_duplicates(subset='product_id',keep='first', inplace=True)\n",
        "print('El usuario ya ha jugado',juegos_jugados.shape[0],'videojuegos\\n')\n",
        "juegos_jugados.head(3)"
      ],
      "execution_count": null,
      "outputs": []
    },
    {
      "cell_type": "code",
      "metadata": {
        "id": "y07qeJ74S6VQ"
      },
      "source": [
        "#Elimino los juegos que el usuario ya ha jugado\n",
        "for i in juegos_jugados.product_id:\n",
        "  id = i\n",
        "  recomendaciones_games.drop(recomendaciones_games[recomendaciones_games['id'] == id ].index, inplace=True)"
      ],
      "execution_count": null,
      "outputs": []
    },
    {
      "cell_type": "code",
      "metadata": {
        "id": "elB3LVPMScwG"
      },
      "source": [
        "recomendaciones_games.head(2)"
      ],
      "execution_count": null,
      "outputs": []
    },
    {
      "cell_type": "code",
      "metadata": {
        "id": "Jz3f3IMCswMx"
      },
      "source": [
        "usuario"
      ],
      "execution_count": null,
      "outputs": []
    },
    {
      "cell_type": "code",
      "metadata": {
        "id": "pJnKN8IGPted"
      },
      "source": [
        "#Realizo predicciones sobre de posible positividads\n",
        "recomendaciones_games['Score_estimate'] = recomendaciones_games['id'].apply(lambda x:algo.predict(usuario, x).est)"
      ],
      "execution_count": null,
      "outputs": []
    },
    {
      "cell_type": "code",
      "metadata": {
        "id": "0QtAwNI_CJap"
      },
      "source": [
        "recomendaciones_games.Score_estimate.max()"
      ],
      "execution_count": null,
      "outputs": []
    },
    {
      "cell_type": "code",
      "metadata": {
        "id": "NIzGADqatvvJ"
      },
      "source": [
        "from surprise import accuracy\n",
        "\n",
        "accuracy.rmse(predictions)"
      ],
      "execution_count": null,
      "outputs": []
    },
    {
      "cell_type": "code",
      "metadata": {
        "id": "Lk80GbTntvq4"
      },
      "source": [
        "from surprise.model_selection import cross_validate\n",
        "\n",
        "rmse_test_means = []\n",
        "factores = [1,2,4,8,16,32,64,128,256]\n",
        "\n",
        "for factor in factores:\n",
        "    print(f'\\nNúmero de Factores: {factor}')\n",
        "    algo = SVD(n_factors=factor)\n",
        "    cv = cross_validate(algo, data, measures=['RMSE'], cv = 3, verbose=True)\n",
        "    rmse_test_means.append(np.mean(cv['test_rmse']))"
      ],
      "execution_count": null,
      "outputs": []
    },
    {
      "cell_type": "code",
      "metadata": {
        "id": "CWGNBoMvtvj2"
      },
      "source": [
        "plt.scatter(factores, rmse_test_means)\n",
        "plt.xlabel('Numero de factores')\n",
        "plt.ylabel('Error RMSE')\n",
        "plt.show()"
      ],
      "execution_count": null,
      "outputs": []
    },
    {
      "cell_type": "code",
      "metadata": {
        "id": "IpRfL1E3cf0F"
      },
      "source": [
        "from surprise.model_selection import GridSearchCV\n",
        "\n",
        "param_grid = {'n_factors': [5,50,100],'n_epochs': [5, 10,20], 'lr_all': [0.001, 0.002, 0.005],\n",
        "              'reg_all': [0.002, 0.02, 0.2]}\n",
        "gs = GridSearchCV(SVD, param_grid, measures=['rmse'], cv=3, n_jobs = -1)\n",
        "gs.fit(data)\n"
      ],
      "execution_count": null,
      "outputs": []
    },
    {
      "cell_type": "code",
      "metadata": {
        "id": "pD5NHCxAuLU2"
      },
      "source": [
        "print(gs.best_score['rmse'])\n",
        "print(gs.best_params['rmse'])"
      ],
      "execution_count": null,
      "outputs": []
    },
    {
      "cell_type": "markdown",
      "metadata": {
        "id": "N8rHZyDPFsMY"
      },
      "source": [
        "# Prueba Nuevo Filtro"
      ]
    },
    {
      "cell_type": "markdown",
      "metadata": {
        "id": "uiLkmWebR2yW"
      },
      "source": [
        "## Sistema Recomendación"
      ]
    },
    {
      "cell_type": "code",
      "metadata": {
        "id": "xur8PGhFRDht",
        "colab": {
          "base_uri": "https://localhost:8080/",
          "height": 340
        },
        "outputId": "828c8974-d55b-407b-ae5e-d69145b2575d"
      },
      "source": [
        "moviemat = df.pivot_table(index='username',columns='title',values='polarity')\n",
        "moviemat.head()"
      ],
      "execution_count": 64,
      "outputs": [
        {
          "output_type": "error",
          "ename": "KeyError",
          "evalue": "ignored",
          "traceback": [
            "\u001b[0;31m---------------------------------------------------------------------------\u001b[0m",
            "\u001b[0;31mKeyError\u001b[0m                                  Traceback (most recent call last)",
            "\u001b[0;32m<ipython-input-64-2e9bf53d541e>\u001b[0m in \u001b[0;36m<module>\u001b[0;34m()\u001b[0m\n\u001b[0;32m----> 1\u001b[0;31m \u001b[0mmoviemat\u001b[0m \u001b[0;34m=\u001b[0m \u001b[0mdf\u001b[0m\u001b[0;34m.\u001b[0m\u001b[0mpivot_table\u001b[0m\u001b[0;34m(\u001b[0m\u001b[0mindex\u001b[0m\u001b[0;34m=\u001b[0m\u001b[0;34m'username'\u001b[0m\u001b[0;34m,\u001b[0m\u001b[0mcolumns\u001b[0m\u001b[0;34m=\u001b[0m\u001b[0;34m'title'\u001b[0m\u001b[0;34m,\u001b[0m\u001b[0mvalues\u001b[0m\u001b[0;34m=\u001b[0m\u001b[0;34m'polariy'\u001b[0m\u001b[0;34m)\u001b[0m\u001b[0;34m\u001b[0m\u001b[0;34m\u001b[0m\u001b[0m\n\u001b[0m\u001b[1;32m      2\u001b[0m \u001b[0mmoviemat\u001b[0m\u001b[0;34m.\u001b[0m\u001b[0mhead\u001b[0m\u001b[0;34m(\u001b[0m\u001b[0;34m)\u001b[0m\u001b[0;34m\u001b[0m\u001b[0;34m\u001b[0m\u001b[0m\n",
            "\u001b[0;32m/usr/local/lib/python3.6/dist-packages/pandas/core/frame.py\u001b[0m in \u001b[0;36mpivot_table\u001b[0;34m(self, values, index, columns, aggfunc, fill_value, margins, dropna, margins_name, observed)\u001b[0m\n\u001b[1;32m   6834\u001b[0m             \u001b[0mdropna\u001b[0m\u001b[0;34m=\u001b[0m\u001b[0mdropna\u001b[0m\u001b[0;34m,\u001b[0m\u001b[0;34m\u001b[0m\u001b[0;34m\u001b[0m\u001b[0m\n\u001b[1;32m   6835\u001b[0m             \u001b[0mmargins_name\u001b[0m\u001b[0;34m=\u001b[0m\u001b[0mmargins_name\u001b[0m\u001b[0;34m,\u001b[0m\u001b[0;34m\u001b[0m\u001b[0;34m\u001b[0m\u001b[0m\n\u001b[0;32m-> 6836\u001b[0;31m             \u001b[0mobserved\u001b[0m\u001b[0;34m=\u001b[0m\u001b[0mobserved\u001b[0m\u001b[0;34m,\u001b[0m\u001b[0;34m\u001b[0m\u001b[0;34m\u001b[0m\u001b[0m\n\u001b[0m\u001b[1;32m   6837\u001b[0m         )\n\u001b[1;32m   6838\u001b[0m \u001b[0;34m\u001b[0m\u001b[0m\n",
            "\u001b[0;32m/usr/local/lib/python3.6/dist-packages/pandas/core/reshape/pivot.py\u001b[0m in \u001b[0;36mpivot_table\u001b[0;34m(data, values, index, columns, aggfunc, fill_value, margins, dropna, margins_name, observed)\u001b[0m\n\u001b[1;32m     86\u001b[0m         \u001b[0;32mfor\u001b[0m \u001b[0mi\u001b[0m \u001b[0;32min\u001b[0m \u001b[0mvalues\u001b[0m\u001b[0;34m:\u001b[0m\u001b[0;34m\u001b[0m\u001b[0;34m\u001b[0m\u001b[0m\n\u001b[1;32m     87\u001b[0m             \u001b[0;32mif\u001b[0m \u001b[0mi\u001b[0m \u001b[0;32mnot\u001b[0m \u001b[0;32min\u001b[0m \u001b[0mdata\u001b[0m\u001b[0;34m:\u001b[0m\u001b[0;34m\u001b[0m\u001b[0;34m\u001b[0m\u001b[0m\n\u001b[0;32m---> 88\u001b[0;31m                 \u001b[0;32mraise\u001b[0m \u001b[0mKeyError\u001b[0m\u001b[0;34m(\u001b[0m\u001b[0mi\u001b[0m\u001b[0;34m)\u001b[0m\u001b[0;34m\u001b[0m\u001b[0;34m\u001b[0m\u001b[0m\n\u001b[0m\u001b[1;32m     89\u001b[0m \u001b[0;34m\u001b[0m\u001b[0m\n\u001b[1;32m     90\u001b[0m         \u001b[0mto_filter\u001b[0m \u001b[0;34m=\u001b[0m \u001b[0;34m[\u001b[0m\u001b[0;34m]\u001b[0m\u001b[0;34m\u001b[0m\u001b[0;34m\u001b[0m\u001b[0m\n",
            "\u001b[0;31mKeyError\u001b[0m: 'polariy'"
          ]
        }
      ]
    },
    {
      "cell_type": "code",
      "metadata": {
        "id": "KrZZU5rjSF3E"
      },
      "source": [
        "#Videojuegos con mas reviews\n",
        "ratings.sort_values('num of ratings',ascending=False).head(5)"
      ],
      "execution_count": null,
      "outputs": []
    },
    {
      "cell_type": "code",
      "metadata": {
        "id": "d4UgR9YzSUgX"
      },
      "source": [
        "#Selecciono 2 videojuegos diferentes, entre e top de reviews\n",
        "starwars_user_ratings = moviemat['Borderlands 2']\n",
        "liarliar_user_ratings = moviemat['Grand Theft Auto V']\n",
        "starwars_user_ratings.head()         #Videojuego indie "
      ],
      "execution_count": null,
      "outputs": []
    },
    {
      "cell_type": "code",
      "metadata": {
        "id": "y4QPLKQfU6kv"
      },
      "source": [
        "similar_to_starwars = moviemat.corrwith(starwars_user_ratings)\n",
        "similar_to_liarliar = moviemat.corrwith(liarliar_user_ratings)"
      ],
      "execution_count": null,
      "outputs": []
    },
    {
      "cell_type": "code",
      "metadata": {
        "id": "Uuad44NccYAU"
      },
      "source": [
        "corr_starwars = pd.DataFrame(similar_to_starwars,columns=['Correlation'])\n",
        "corr_starwars.dropna(inplace=True)\n",
        "corr_starwars.head()"
      ],
      "execution_count": null,
      "outputs": []
    },
    {
      "cell_type": "code",
      "metadata": {
        "id": "6ugfdnmCctNf"
      },
      "source": [
        ""
      ],
      "execution_count": null,
      "outputs": []
    },
    {
      "cell_type": "markdown",
      "metadata": {
        "id": "AmsJldSF4YW6"
      },
      "source": [
        "# Recomendaciones basadas en calificaciones"
      ]
    },
    {
      "cell_type": "code",
      "metadata": {
        "colab": {
          "base_uri": "https://localhost:8080/",
          "height": 179
        },
        "id": "f4uSKJETQZTj",
        "outputId": "ab9a37b0-021c-49da-93ac-11abe044de8d"
      },
      "source": [
        "df_sub.head(2)"
      ],
      "execution_count": 65,
      "outputs": [
        {
          "output_type": "execute_result",
          "data": {
            "text/html": [
              "<div>\n",
              "<style scoped>\n",
              "    .dataframe tbody tr th:only-of-type {\n",
              "        vertical-align: middle;\n",
              "    }\n",
              "\n",
              "    .dataframe tbody tr th {\n",
              "        vertical-align: top;\n",
              "    }\n",
              "\n",
              "    .dataframe thead th {\n",
              "        text-align: right;\n",
              "    }\n",
              "</style>\n",
              "<table border=\"1\" class=\"dataframe\">\n",
              "  <thead>\n",
              "    <tr style=\"text-align: right;\">\n",
              "      <th></th>\n",
              "      <th>username</th>\n",
              "      <th>product_id</th>\n",
              "      <th>text</th>\n",
              "      <th>genres</th>\n",
              "      <th>title</th>\n",
              "      <th>tags</th>\n",
              "      <th>xtext</th>\n",
              "      <th>#username</th>\n",
              "      <th>polarity</th>\n",
              "      <th>subjectivity</th>\n",
              "    </tr>\n",
              "  </thead>\n",
              "  <tbody>\n",
              "    <tr>\n",
              "      <th>0</th>\n",
              "      <td>Disguised</td>\n",
              "      <td>211420</td>\n",
              "      <td>Punishing but rewarding gameplay with excellen...</td>\n",
              "      <td>['Action', 'RPG']</td>\n",
              "      <td>DARK SOULS™: Prepare To Die™ Edition</td>\n",
              "      <td>['RPG', 'Dark Fantasy', 'Difficult', 'Action',...</td>\n",
              "      <td>Punishing but rewarding gameplay with excellen...</td>\n",
              "      <td>67885</td>\n",
              "      <td>0.5875</td>\n",
              "      <td>0.675000</td>\n",
              "    </tr>\n",
              "    <tr>\n",
              "      <th>1</th>\n",
              "      <td>Newton!</td>\n",
              "      <td>268910</td>\n",
              "      <td>I'm just going to say this now, since I'm not ...</td>\n",
              "      <td>['Action', 'Indie']</td>\n",
              "      <td>Cuphead</td>\n",
              "      <td>['Difficult', 'Cartoon', 'Platformer', 'Great ...</td>\n",
              "      <td>I m just going to say this now  since I m not ...</td>\n",
              "      <td>173602</td>\n",
              "      <td>-0.7000</td>\n",
              "      <td>0.666667</td>\n",
              "    </tr>\n",
              "  </tbody>\n",
              "</table>\n",
              "</div>"
            ],
            "text/plain": [
              "    username  product_id  ... polarity subjectivity\n",
              "0  Disguised      211420  ...   0.5875     0.675000\n",
              "1    Newton!      268910  ...  -0.7000     0.666667\n",
              "\n",
              "[2 rows x 10 columns]"
            ]
          },
          "metadata": {
            "tags": []
          },
          "execution_count": 65
        }
      ]
    },
    {
      "cell_type": "code",
      "metadata": {
        "id": "iYZXBQ17Qmej"
      },
      "source": [
        "df_sub.drop(columns=['text'], inplace=True)"
      ],
      "execution_count": 66,
      "outputs": []
    },
    {
      "cell_type": "code",
      "metadata": {
        "id": "dgusYSFCRsFn",
        "colab": {
          "base_uri": "https://localhost:8080/"
        },
        "outputId": "597643fd-1d74-4a61-a36c-36aaf72db689"
      },
      "source": [
        "df_sub.shape"
      ],
      "execution_count": 67,
      "outputs": [
        {
          "output_type": "execute_result",
          "data": {
            "text/plain": [
              "(51508, 9)"
            ]
          },
          "metadata": {
            "tags": []
          },
          "execution_count": 67
        }
      ]
    },
    {
      "cell_type": "code",
      "metadata": {
        "id": "COunEUSdgKpo",
        "colab": {
          "base_uri": "https://localhost:8080/",
          "height": 488
        },
        "outputId": "c4a7bc6b-96af-42ca-c8fd-eecc15c0ffc7"
      },
      "source": [
        "gamemat = df_sub.pivot_table(index='username',columns='title',values='polarity')\n",
        "gamemat.head()"
      ],
      "execution_count": 68,
      "outputs": [
        {
          "output_type": "execute_result",
          "data": {
            "text/html": [
              "<div>\n",
              "<style scoped>\n",
              "    .dataframe tbody tr th:only-of-type {\n",
              "        vertical-align: middle;\n",
              "    }\n",
              "\n",
              "    .dataframe tbody tr th {\n",
              "        vertical-align: top;\n",
              "    }\n",
              "\n",
              "    .dataframe thead th {\n",
              "        text-align: right;\n",
              "    }\n",
              "</style>\n",
              "<table border=\"1\" class=\"dataframe\">\n",
              "  <thead>\n",
              "    <tr style=\"text-align: right;\">\n",
              "      <th>title</th>\n",
              "      <th>! That Bastard Is Trying To Steal Our Gold !</th>\n",
              "      <th>#monstercakes</th>\n",
              "      <th>$1 Ride</th>\n",
              "      <th>&amp;gt;//:System.Hack</th>\n",
              "      <th>&amp;gt;observer_</th>\n",
              "      <th>.hack//G.U. Last Recode</th>\n",
              "      <th>//N.P.P.D. RUSH//- The milk of Ultraviolet</th>\n",
              "      <th>001 Game Creator</th>\n",
              "      <th>0RBITALIS</th>\n",
              "      <th>1 Moment Of Time: Silentville</th>\n",
              "      <th>10 Second Ninja</th>\n",
              "      <th>10,000,000</th>\n",
              "      <th>100% Orange Juice</th>\n",
              "      <th>1000 Amps</th>\n",
              "      <th>1001 Spikes</th>\n",
              "      <th>12 Labours of Hercules</th>\n",
              "      <th>12 Labours of Hercules II: The Cretan Bull</th>\n",
              "      <th>12 Labours of Hercules III: Girl Power</th>\n",
              "      <th>12 Labours of Hercules IV: Mother Nature (Platinum Edition)</th>\n",
              "      <th>12 Labours of Hercules V: Kids of Hellas (Platinum Edition)</th>\n",
              "      <th>12 is Better Than 6</th>\n",
              "      <th>140</th>\n",
              "      <th>16bit Trader</th>\n",
              "      <th>1775: Rebellion</th>\n",
              "      <th>1917 - The Alien Invasion DX</th>\n",
              "      <th>1931: Scheherazade at the Library of Pergamum</th>\n",
              "      <th>1943 Megami Strike</th>\n",
              "      <th>1953 - KGB Unleashed</th>\n",
              "      <th>1954 Alcatraz</th>\n",
              "      <th>1979 Revolution: Black Friday</th>\n",
              "      <th>1982</th>\n",
              "      <th>1993 Space Machine</th>\n",
              "      <th>199X</th>\n",
              "      <th>1bitHeart</th>\n",
              "      <th>2 Ninjas 1 Cup</th>\n",
              "      <th>200% Mixed Juice!</th>\n",
              "      <th>2064: Read Only Memories</th>\n",
              "      <th>20XX</th>\n",
              "      <th>21 Days</th>\n",
              "      <th>2D Neon Cube</th>\n",
              "      <th>...</th>\n",
              "      <th>fault - milestone one</th>\n",
              "      <th>fault - milestone two side:above</th>\n",
              "      <th>gravilon</th>\n",
              "      <th>hackmud</th>\n",
              "      <th>hocus</th>\n",
              "      <th>how do you Do It?</th>\n",
              "      <th>iBomber Attack</th>\n",
              "      <th>iBomber Defense Pacific</th>\n",
              "      <th>ibb &amp;amp; obb</th>\n",
              "      <th>in Space</th>\n",
              "      <th>inMomentum</th>\n",
              "      <th>interLOGIC</th>\n",
              "      <th>it's always monday</th>\n",
              "      <th>klocki</th>\n",
              "      <th>liteCam Android: No Root Android Screen Recorder</th>\n",
              "      <th>liteCam Game: 100 FPS Game Capture</th>\n",
              "      <th>miniLAW: Ministry of Law</th>\n",
              "      <th>moto RKD dash</th>\n",
              "      <th>nail'd</th>\n",
              "      <th>oO</th>\n",
              "      <th>openCanvas 7</th>\n",
              "      <th>planetarian HD</th>\n",
              "      <th>planetarian ~the reverie of a little planet~</th>\n",
              "      <th>rFactor</th>\n",
              "      <th>rFactor 2</th>\n",
              "      <th>realMYST</th>\n",
              "      <th>realMyst: Masterpiece Edition</th>\n",
              "      <th>resident evil 4 / biohazard 4</th>\n",
              "      <th>room13</th>\n",
              "      <th>rymdkapsel</th>\n",
              "      <th>sZone-Online</th>\n",
              "      <th>the static speaks my name</th>\n",
              "      <th>theHunter Classic</th>\n",
              "      <th>theHunter: Call of the Wild™</th>\n",
              "      <th>theHunter: Primal</th>\n",
              "      <th>√Letter - Root Letter -</th>\n",
              "      <th>侠客风云传(Tale of Wuxia)</th>\n",
              "      <th>家有大貓 Nekojishi</th>\n",
              "      <th>月之暗面 The Dark Side Of The Moon</th>\n",
              "      <th>東方天空璋 ～ Hidden Star in Four Seasons.</th>\n",
              "    </tr>\n",
              "    <tr>\n",
              "      <th>username</th>\n",
              "      <th></th>\n",
              "      <th></th>\n",
              "      <th></th>\n",
              "      <th></th>\n",
              "      <th></th>\n",
              "      <th></th>\n",
              "      <th></th>\n",
              "      <th></th>\n",
              "      <th></th>\n",
              "      <th></th>\n",
              "      <th></th>\n",
              "      <th></th>\n",
              "      <th></th>\n",
              "      <th></th>\n",
              "      <th></th>\n",
              "      <th></th>\n",
              "      <th></th>\n",
              "      <th></th>\n",
              "      <th></th>\n",
              "      <th></th>\n",
              "      <th></th>\n",
              "      <th></th>\n",
              "      <th></th>\n",
              "      <th></th>\n",
              "      <th></th>\n",
              "      <th></th>\n",
              "      <th></th>\n",
              "      <th></th>\n",
              "      <th></th>\n",
              "      <th></th>\n",
              "      <th></th>\n",
              "      <th></th>\n",
              "      <th></th>\n",
              "      <th></th>\n",
              "      <th></th>\n",
              "      <th></th>\n",
              "      <th></th>\n",
              "      <th></th>\n",
              "      <th></th>\n",
              "      <th></th>\n",
              "      <th></th>\n",
              "      <th></th>\n",
              "      <th></th>\n",
              "      <th></th>\n",
              "      <th></th>\n",
              "      <th></th>\n",
              "      <th></th>\n",
              "      <th></th>\n",
              "      <th></th>\n",
              "      <th></th>\n",
              "      <th></th>\n",
              "      <th></th>\n",
              "      <th></th>\n",
              "      <th></th>\n",
              "      <th></th>\n",
              "      <th></th>\n",
              "      <th></th>\n",
              "      <th></th>\n",
              "      <th></th>\n",
              "      <th></th>\n",
              "      <th></th>\n",
              "      <th></th>\n",
              "      <th></th>\n",
              "      <th></th>\n",
              "      <th></th>\n",
              "      <th></th>\n",
              "      <th></th>\n",
              "      <th></th>\n",
              "      <th></th>\n",
              "      <th></th>\n",
              "      <th></th>\n",
              "      <th></th>\n",
              "      <th></th>\n",
              "      <th></th>\n",
              "      <th></th>\n",
              "      <th></th>\n",
              "      <th></th>\n",
              "      <th></th>\n",
              "      <th></th>\n",
              "      <th></th>\n",
              "      <th></th>\n",
              "    </tr>\n",
              "  </thead>\n",
              "  <tbody>\n",
              "    <tr>\n",
              "      <th>! Ƨ ∆ ℒ † ᗩ Й !</th>\n",
              "      <td>NaN</td>\n",
              "      <td>NaN</td>\n",
              "      <td>NaN</td>\n",
              "      <td>NaN</td>\n",
              "      <td>NaN</td>\n",
              "      <td>NaN</td>\n",
              "      <td>NaN</td>\n",
              "      <td>NaN</td>\n",
              "      <td>NaN</td>\n",
              "      <td>NaN</td>\n",
              "      <td>NaN</td>\n",
              "      <td>NaN</td>\n",
              "      <td>NaN</td>\n",
              "      <td>NaN</td>\n",
              "      <td>NaN</td>\n",
              "      <td>NaN</td>\n",
              "      <td>NaN</td>\n",
              "      <td>NaN</td>\n",
              "      <td>NaN</td>\n",
              "      <td>NaN</td>\n",
              "      <td>NaN</td>\n",
              "      <td>NaN</td>\n",
              "      <td>NaN</td>\n",
              "      <td>NaN</td>\n",
              "      <td>NaN</td>\n",
              "      <td>NaN</td>\n",
              "      <td>NaN</td>\n",
              "      <td>NaN</td>\n",
              "      <td>NaN</td>\n",
              "      <td>NaN</td>\n",
              "      <td>NaN</td>\n",
              "      <td>NaN</td>\n",
              "      <td>NaN</td>\n",
              "      <td>NaN</td>\n",
              "      <td>NaN</td>\n",
              "      <td>NaN</td>\n",
              "      <td>NaN</td>\n",
              "      <td>NaN</td>\n",
              "      <td>NaN</td>\n",
              "      <td>NaN</td>\n",
              "      <td>...</td>\n",
              "      <td>NaN</td>\n",
              "      <td>NaN</td>\n",
              "      <td>NaN</td>\n",
              "      <td>NaN</td>\n",
              "      <td>NaN</td>\n",
              "      <td>NaN</td>\n",
              "      <td>NaN</td>\n",
              "      <td>NaN</td>\n",
              "      <td>NaN</td>\n",
              "      <td>NaN</td>\n",
              "      <td>NaN</td>\n",
              "      <td>NaN</td>\n",
              "      <td>NaN</td>\n",
              "      <td>NaN</td>\n",
              "      <td>NaN</td>\n",
              "      <td>NaN</td>\n",
              "      <td>NaN</td>\n",
              "      <td>NaN</td>\n",
              "      <td>NaN</td>\n",
              "      <td>NaN</td>\n",
              "      <td>NaN</td>\n",
              "      <td>NaN</td>\n",
              "      <td>NaN</td>\n",
              "      <td>NaN</td>\n",
              "      <td>NaN</td>\n",
              "      <td>NaN</td>\n",
              "      <td>NaN</td>\n",
              "      <td>NaN</td>\n",
              "      <td>NaN</td>\n",
              "      <td>NaN</td>\n",
              "      <td>NaN</td>\n",
              "      <td>NaN</td>\n",
              "      <td>NaN</td>\n",
              "      <td>NaN</td>\n",
              "      <td>NaN</td>\n",
              "      <td>NaN</td>\n",
              "      <td>NaN</td>\n",
              "      <td>NaN</td>\n",
              "      <td>NaN</td>\n",
              "      <td>NaN</td>\n",
              "    </tr>\n",
              "    <tr>\n",
              "      <th>!!</th>\n",
              "      <td>NaN</td>\n",
              "      <td>NaN</td>\n",
              "      <td>NaN</td>\n",
              "      <td>NaN</td>\n",
              "      <td>NaN</td>\n",
              "      <td>NaN</td>\n",
              "      <td>NaN</td>\n",
              "      <td>NaN</td>\n",
              "      <td>NaN</td>\n",
              "      <td>NaN</td>\n",
              "      <td>NaN</td>\n",
              "      <td>NaN</td>\n",
              "      <td>NaN</td>\n",
              "      <td>NaN</td>\n",
              "      <td>NaN</td>\n",
              "      <td>NaN</td>\n",
              "      <td>NaN</td>\n",
              "      <td>NaN</td>\n",
              "      <td>NaN</td>\n",
              "      <td>NaN</td>\n",
              "      <td>NaN</td>\n",
              "      <td>NaN</td>\n",
              "      <td>NaN</td>\n",
              "      <td>NaN</td>\n",
              "      <td>NaN</td>\n",
              "      <td>NaN</td>\n",
              "      <td>NaN</td>\n",
              "      <td>NaN</td>\n",
              "      <td>NaN</td>\n",
              "      <td>NaN</td>\n",
              "      <td>NaN</td>\n",
              "      <td>NaN</td>\n",
              "      <td>NaN</td>\n",
              "      <td>NaN</td>\n",
              "      <td>NaN</td>\n",
              "      <td>NaN</td>\n",
              "      <td>NaN</td>\n",
              "      <td>NaN</td>\n",
              "      <td>NaN</td>\n",
              "      <td>NaN</td>\n",
              "      <td>...</td>\n",
              "      <td>NaN</td>\n",
              "      <td>NaN</td>\n",
              "      <td>NaN</td>\n",
              "      <td>NaN</td>\n",
              "      <td>NaN</td>\n",
              "      <td>NaN</td>\n",
              "      <td>NaN</td>\n",
              "      <td>NaN</td>\n",
              "      <td>NaN</td>\n",
              "      <td>NaN</td>\n",
              "      <td>NaN</td>\n",
              "      <td>NaN</td>\n",
              "      <td>NaN</td>\n",
              "      <td>NaN</td>\n",
              "      <td>NaN</td>\n",
              "      <td>NaN</td>\n",
              "      <td>NaN</td>\n",
              "      <td>NaN</td>\n",
              "      <td>NaN</td>\n",
              "      <td>NaN</td>\n",
              "      <td>NaN</td>\n",
              "      <td>NaN</td>\n",
              "      <td>NaN</td>\n",
              "      <td>NaN</td>\n",
              "      <td>NaN</td>\n",
              "      <td>NaN</td>\n",
              "      <td>NaN</td>\n",
              "      <td>NaN</td>\n",
              "      <td>NaN</td>\n",
              "      <td>NaN</td>\n",
              "      <td>NaN</td>\n",
              "      <td>NaN</td>\n",
              "      <td>NaN</td>\n",
              "      <td>NaN</td>\n",
              "      <td>NaN</td>\n",
              "      <td>NaN</td>\n",
              "      <td>NaN</td>\n",
              "      <td>NaN</td>\n",
              "      <td>NaN</td>\n",
              "      <td>NaN</td>\n",
              "    </tr>\n",
              "    <tr>\n",
              "      <th>!!What Is My Colour?</th>\n",
              "      <td>NaN</td>\n",
              "      <td>NaN</td>\n",
              "      <td>NaN</td>\n",
              "      <td>NaN</td>\n",
              "      <td>NaN</td>\n",
              "      <td>NaN</td>\n",
              "      <td>NaN</td>\n",
              "      <td>NaN</td>\n",
              "      <td>NaN</td>\n",
              "      <td>NaN</td>\n",
              "      <td>NaN</td>\n",
              "      <td>NaN</td>\n",
              "      <td>NaN</td>\n",
              "      <td>NaN</td>\n",
              "      <td>NaN</td>\n",
              "      <td>NaN</td>\n",
              "      <td>NaN</td>\n",
              "      <td>NaN</td>\n",
              "      <td>NaN</td>\n",
              "      <td>NaN</td>\n",
              "      <td>NaN</td>\n",
              "      <td>NaN</td>\n",
              "      <td>NaN</td>\n",
              "      <td>NaN</td>\n",
              "      <td>NaN</td>\n",
              "      <td>NaN</td>\n",
              "      <td>NaN</td>\n",
              "      <td>NaN</td>\n",
              "      <td>NaN</td>\n",
              "      <td>NaN</td>\n",
              "      <td>NaN</td>\n",
              "      <td>NaN</td>\n",
              "      <td>NaN</td>\n",
              "      <td>NaN</td>\n",
              "      <td>NaN</td>\n",
              "      <td>NaN</td>\n",
              "      <td>NaN</td>\n",
              "      <td>NaN</td>\n",
              "      <td>NaN</td>\n",
              "      <td>NaN</td>\n",
              "      <td>...</td>\n",
              "      <td>NaN</td>\n",
              "      <td>NaN</td>\n",
              "      <td>NaN</td>\n",
              "      <td>NaN</td>\n",
              "      <td>NaN</td>\n",
              "      <td>NaN</td>\n",
              "      <td>NaN</td>\n",
              "      <td>NaN</td>\n",
              "      <td>NaN</td>\n",
              "      <td>NaN</td>\n",
              "      <td>NaN</td>\n",
              "      <td>NaN</td>\n",
              "      <td>NaN</td>\n",
              "      <td>NaN</td>\n",
              "      <td>NaN</td>\n",
              "      <td>NaN</td>\n",
              "      <td>NaN</td>\n",
              "      <td>NaN</td>\n",
              "      <td>NaN</td>\n",
              "      <td>NaN</td>\n",
              "      <td>NaN</td>\n",
              "      <td>NaN</td>\n",
              "      <td>NaN</td>\n",
              "      <td>NaN</td>\n",
              "      <td>NaN</td>\n",
              "      <td>NaN</td>\n",
              "      <td>NaN</td>\n",
              "      <td>NaN</td>\n",
              "      <td>NaN</td>\n",
              "      <td>NaN</td>\n",
              "      <td>NaN</td>\n",
              "      <td>NaN</td>\n",
              "      <td>NaN</td>\n",
              "      <td>NaN</td>\n",
              "      <td>NaN</td>\n",
              "      <td>NaN</td>\n",
              "      <td>NaN</td>\n",
              "      <td>NaN</td>\n",
              "      <td>NaN</td>\n",
              "      <td>NaN</td>\n",
              "    </tr>\n",
              "    <tr>\n",
              "      <th>!#ChatOff_I Got It&lt;3</th>\n",
              "      <td>NaN</td>\n",
              "      <td>NaN</td>\n",
              "      <td>NaN</td>\n",
              "      <td>NaN</td>\n",
              "      <td>NaN</td>\n",
              "      <td>NaN</td>\n",
              "      <td>NaN</td>\n",
              "      <td>NaN</td>\n",
              "      <td>NaN</td>\n",
              "      <td>NaN</td>\n",
              "      <td>NaN</td>\n",
              "      <td>NaN</td>\n",
              "      <td>NaN</td>\n",
              "      <td>NaN</td>\n",
              "      <td>NaN</td>\n",
              "      <td>NaN</td>\n",
              "      <td>NaN</td>\n",
              "      <td>NaN</td>\n",
              "      <td>NaN</td>\n",
              "      <td>NaN</td>\n",
              "      <td>NaN</td>\n",
              "      <td>NaN</td>\n",
              "      <td>NaN</td>\n",
              "      <td>NaN</td>\n",
              "      <td>NaN</td>\n",
              "      <td>NaN</td>\n",
              "      <td>NaN</td>\n",
              "      <td>NaN</td>\n",
              "      <td>NaN</td>\n",
              "      <td>NaN</td>\n",
              "      <td>NaN</td>\n",
              "      <td>NaN</td>\n",
              "      <td>NaN</td>\n",
              "      <td>NaN</td>\n",
              "      <td>NaN</td>\n",
              "      <td>NaN</td>\n",
              "      <td>NaN</td>\n",
              "      <td>NaN</td>\n",
              "      <td>NaN</td>\n",
              "      <td>NaN</td>\n",
              "      <td>...</td>\n",
              "      <td>NaN</td>\n",
              "      <td>NaN</td>\n",
              "      <td>NaN</td>\n",
              "      <td>NaN</td>\n",
              "      <td>NaN</td>\n",
              "      <td>NaN</td>\n",
              "      <td>NaN</td>\n",
              "      <td>NaN</td>\n",
              "      <td>NaN</td>\n",
              "      <td>NaN</td>\n",
              "      <td>NaN</td>\n",
              "      <td>NaN</td>\n",
              "      <td>NaN</td>\n",
              "      <td>NaN</td>\n",
              "      <td>NaN</td>\n",
              "      <td>NaN</td>\n",
              "      <td>NaN</td>\n",
              "      <td>NaN</td>\n",
              "      <td>NaN</td>\n",
              "      <td>NaN</td>\n",
              "      <td>NaN</td>\n",
              "      <td>NaN</td>\n",
              "      <td>NaN</td>\n",
              "      <td>NaN</td>\n",
              "      <td>NaN</td>\n",
              "      <td>NaN</td>\n",
              "      <td>NaN</td>\n",
              "      <td>NaN</td>\n",
              "      <td>NaN</td>\n",
              "      <td>NaN</td>\n",
              "      <td>NaN</td>\n",
              "      <td>NaN</td>\n",
              "      <td>NaN</td>\n",
              "      <td>NaN</td>\n",
              "      <td>NaN</td>\n",
              "      <td>NaN</td>\n",
              "      <td>NaN</td>\n",
              "      <td>NaN</td>\n",
              "      <td>NaN</td>\n",
              "      <td>NaN</td>\n",
              "    </tr>\n",
              "    <tr>\n",
              "      <th>!()S!F</th>\n",
              "      <td>NaN</td>\n",
              "      <td>NaN</td>\n",
              "      <td>NaN</td>\n",
              "      <td>NaN</td>\n",
              "      <td>NaN</td>\n",
              "      <td>NaN</td>\n",
              "      <td>NaN</td>\n",
              "      <td>NaN</td>\n",
              "      <td>NaN</td>\n",
              "      <td>NaN</td>\n",
              "      <td>NaN</td>\n",
              "      <td>NaN</td>\n",
              "      <td>NaN</td>\n",
              "      <td>NaN</td>\n",
              "      <td>NaN</td>\n",
              "      <td>NaN</td>\n",
              "      <td>NaN</td>\n",
              "      <td>NaN</td>\n",
              "      <td>NaN</td>\n",
              "      <td>NaN</td>\n",
              "      <td>NaN</td>\n",
              "      <td>NaN</td>\n",
              "      <td>NaN</td>\n",
              "      <td>NaN</td>\n",
              "      <td>NaN</td>\n",
              "      <td>NaN</td>\n",
              "      <td>NaN</td>\n",
              "      <td>NaN</td>\n",
              "      <td>NaN</td>\n",
              "      <td>NaN</td>\n",
              "      <td>NaN</td>\n",
              "      <td>NaN</td>\n",
              "      <td>NaN</td>\n",
              "      <td>NaN</td>\n",
              "      <td>NaN</td>\n",
              "      <td>NaN</td>\n",
              "      <td>NaN</td>\n",
              "      <td>NaN</td>\n",
              "      <td>NaN</td>\n",
              "      <td>NaN</td>\n",
              "      <td>...</td>\n",
              "      <td>NaN</td>\n",
              "      <td>NaN</td>\n",
              "      <td>NaN</td>\n",
              "      <td>NaN</td>\n",
              "      <td>NaN</td>\n",
              "      <td>NaN</td>\n",
              "      <td>NaN</td>\n",
              "      <td>NaN</td>\n",
              "      <td>NaN</td>\n",
              "      <td>NaN</td>\n",
              "      <td>NaN</td>\n",
              "      <td>NaN</td>\n",
              "      <td>NaN</td>\n",
              "      <td>NaN</td>\n",
              "      <td>NaN</td>\n",
              "      <td>NaN</td>\n",
              "      <td>NaN</td>\n",
              "      <td>NaN</td>\n",
              "      <td>NaN</td>\n",
              "      <td>NaN</td>\n",
              "      <td>NaN</td>\n",
              "      <td>NaN</td>\n",
              "      <td>NaN</td>\n",
              "      <td>NaN</td>\n",
              "      <td>NaN</td>\n",
              "      <td>NaN</td>\n",
              "      <td>NaN</td>\n",
              "      <td>NaN</td>\n",
              "      <td>NaN</td>\n",
              "      <td>NaN</td>\n",
              "      <td>NaN</td>\n",
              "      <td>NaN</td>\n",
              "      <td>NaN</td>\n",
              "      <td>NaN</td>\n",
              "      <td>NaN</td>\n",
              "      <td>NaN</td>\n",
              "      <td>NaN</td>\n",
              "      <td>NaN</td>\n",
              "      <td>NaN</td>\n",
              "      <td>NaN</td>\n",
              "    </tr>\n",
              "  </tbody>\n",
              "</table>\n",
              "<p>5 rows × 5578 columns</p>\n",
              "</div>"
            ],
            "text/plain": [
              "title                 ! That Bastard Is Trying To Steal Our Gold !  ...  東方天空璋 ～ Hidden Star in Four Seasons.\n",
              "username                                                            ...                                      \n",
              "! Ƨ ∆ ℒ † ᗩ Й !                                                NaN  ...                                   NaN\n",
              "!!                                                             NaN  ...                                   NaN\n",
              "!!What Is My Colour?                                           NaN  ...                                   NaN\n",
              "!#ChatOff_I Got It<3                                           NaN  ...                                   NaN\n",
              "!()S!F                                                         NaN  ...                                   NaN\n",
              "\n",
              "[5 rows x 5578 columns]"
            ]
          },
          "metadata": {
            "tags": []
          },
          "execution_count": 68
        }
      ]
    },
    {
      "cell_type": "code",
      "metadata": {
        "id": "LVkonXYOjc-b"
      },
      "source": [
        "#Elimino videojuegos con menos de 20 reviews\n",
        "gamemat = gamemat.dropna(thresh=30, axis=1).fillna(0,axis=1)"
      ],
      "execution_count": 69,
      "outputs": []
    },
    {
      "cell_type": "code",
      "metadata": {
        "id": "fosf9Xj8jvKv",
        "colab": {
          "base_uri": "https://localhost:8080/",
          "height": 847
        },
        "outputId": "6d62bd42-ef2b-4831-8648-292191e6383e"
      },
      "source": [
        "corrMatrix = gamemat.corr(method='pearson')\n",
        "corrMatrix.head(10)"
      ],
      "execution_count": 70,
      "outputs": [
        {
          "output_type": "execute_result",
          "data": {
            "text/html": [
              "<div>\n",
              "<style scoped>\n",
              "    .dataframe tbody tr th:only-of-type {\n",
              "        vertical-align: middle;\n",
              "    }\n",
              "\n",
              "    .dataframe tbody tr th {\n",
              "        vertical-align: top;\n",
              "    }\n",
              "\n",
              "    .dataframe thead th {\n",
              "        text-align: right;\n",
              "    }\n",
              "</style>\n",
              "<table border=\"1\" class=\"dataframe\">\n",
              "  <thead>\n",
              "    <tr style=\"text-align: right;\">\n",
              "      <th>title</th>\n",
              "      <th>100% Orange Juice</th>\n",
              "      <th>A Story About My Uncle</th>\n",
              "      <th>A.V.A. Alliance of Valiant Arms™</th>\n",
              "      <th>ABZU</th>\n",
              "      <th>APB Reloaded</th>\n",
              "      <th>ARK: Survival Evolved</th>\n",
              "      <th>ARK: Survival Of The Fittest</th>\n",
              "      <th>ASTRONEER</th>\n",
              "      <th>Ace of Spades: Battle Builder</th>\n",
              "      <th>AdVenture Capitalist</th>\n",
              "      <th>Age of Empires II HD</th>\n",
              "      <th>Age of Empires® III: Complete Collection</th>\n",
              "      <th>Alan Wake</th>\n",
              "      <th>Alien Swarm</th>\n",
              "      <th>Alien: Isolation</th>\n",
              "      <th>Aliens vs. Predator™</th>\n",
              "      <th>America's Army: Proving Grounds</th>\n",
              "      <th>American Truck Simulator</th>\n",
              "      <th>Amnesia: The Dark Descent</th>\n",
              "      <th>Antichamber</th>\n",
              "      <th>Arma 2: Operation Arrowhead</th>\n",
              "      <th>Arma 3</th>\n",
              "      <th>Assassin's Creed® Origins</th>\n",
              "      <th>Assassin's Creed® Unity</th>\n",
              "      <th>Assassin’s Creed® III</th>\n",
              "      <th>Assassin’s Creed® IV Black Flag™</th>\n",
              "      <th>Aura Kingdom</th>\n",
              "      <th>Awesomenauts - the 2D moba</th>\n",
              "      <th>BLOCKADE 3D</th>\n",
              "      <th>Banished</th>\n",
              "      <th>Bastion</th>\n",
              "      <th>Batman - The Telltale Series</th>\n",
              "      <th>Batman: Arkham Asylum Game of the Year Edition</th>\n",
              "      <th>Batman™: Arkham Knight</th>\n",
              "      <th>Batman™: Arkham Origins</th>\n",
              "      <th>BattleBlock Theater®</th>\n",
              "      <th>Battleborn</th>\n",
              "      <th>Battlefield: Bad Company™ 2</th>\n",
              "      <th>Battlerite</th>\n",
              "      <th>BeamNG.drive</th>\n",
              "      <th>...</th>\n",
              "      <th>The Stanley Parable</th>\n",
              "      <th>The Talos Principle</th>\n",
              "      <th>The Walking Dead</th>\n",
              "      <th>The Walking Dead: Season 2</th>\n",
              "      <th>The Witcher 2: Assassins of Kings Enhanced Edition</th>\n",
              "      <th>Thief</th>\n",
              "      <th>This War of Mine</th>\n",
              "      <th>Thomas Was Alone</th>\n",
              "      <th>To the Moon</th>\n",
              "      <th>Tom Clancy's Rainbow Six® Siege</th>\n",
              "      <th>Torchlight II</th>\n",
              "      <th>Total War™: ROME II - Emperor Edition</th>\n",
              "      <th>Town of Salem</th>\n",
              "      <th>Train Simulator</th>\n",
              "      <th>Transformice</th>\n",
              "      <th>Transistor</th>\n",
              "      <th>Tree of Savior (English Ver.)</th>\n",
              "      <th>Tribes: Ascend</th>\n",
              "      <th>Trine 2: Complete Story</th>\n",
              "      <th>Trove</th>\n",
              "      <th>Ultra Street Fighter® IV</th>\n",
              "      <th>Undertale</th>\n",
              "      <th>Unturned</th>\n",
              "      <th>VVVVVV</th>\n",
              "      <th>Verdun</th>\n",
              "      <th>WARMODE</th>\n",
              "      <th>Wallpaper Engine</th>\n",
              "      <th>Warface</th>\n",
              "      <th>Warframe</th>\n",
              "      <th>Warhammer: End Times - Vermintide</th>\n",
              "      <th>Watch_Dogs® 2</th>\n",
              "      <th>Who's Your Daddy</th>\n",
              "      <th>Wolfenstein II: The New Colossus</th>\n",
              "      <th>Wolfenstein: The New Order</th>\n",
              "      <th>World of Guns: Gun Disassembly</th>\n",
              "      <th>XCOM: Enemy Unknown</th>\n",
              "      <th>XCOM® 2</th>\n",
              "      <th>Yet Another Zombie Defense</th>\n",
              "      <th>Youtubers Life</th>\n",
              "      <th>theHunter Classic</th>\n",
              "    </tr>\n",
              "    <tr>\n",
              "      <th>title</th>\n",
              "      <th></th>\n",
              "      <th></th>\n",
              "      <th></th>\n",
              "      <th></th>\n",
              "      <th></th>\n",
              "      <th></th>\n",
              "      <th></th>\n",
              "      <th></th>\n",
              "      <th></th>\n",
              "      <th></th>\n",
              "      <th></th>\n",
              "      <th></th>\n",
              "      <th></th>\n",
              "      <th></th>\n",
              "      <th></th>\n",
              "      <th></th>\n",
              "      <th></th>\n",
              "      <th></th>\n",
              "      <th></th>\n",
              "      <th></th>\n",
              "      <th></th>\n",
              "      <th></th>\n",
              "      <th></th>\n",
              "      <th></th>\n",
              "      <th></th>\n",
              "      <th></th>\n",
              "      <th></th>\n",
              "      <th></th>\n",
              "      <th></th>\n",
              "      <th></th>\n",
              "      <th></th>\n",
              "      <th></th>\n",
              "      <th></th>\n",
              "      <th></th>\n",
              "      <th></th>\n",
              "      <th></th>\n",
              "      <th></th>\n",
              "      <th></th>\n",
              "      <th></th>\n",
              "      <th></th>\n",
              "      <th></th>\n",
              "      <th></th>\n",
              "      <th></th>\n",
              "      <th></th>\n",
              "      <th></th>\n",
              "      <th></th>\n",
              "      <th></th>\n",
              "      <th></th>\n",
              "      <th></th>\n",
              "      <th></th>\n",
              "      <th></th>\n",
              "      <th></th>\n",
              "      <th></th>\n",
              "      <th></th>\n",
              "      <th></th>\n",
              "      <th></th>\n",
              "      <th></th>\n",
              "      <th></th>\n",
              "      <th></th>\n",
              "      <th></th>\n",
              "      <th></th>\n",
              "      <th></th>\n",
              "      <th></th>\n",
              "      <th></th>\n",
              "      <th></th>\n",
              "      <th></th>\n",
              "      <th></th>\n",
              "      <th></th>\n",
              "      <th></th>\n",
              "      <th></th>\n",
              "      <th></th>\n",
              "      <th></th>\n",
              "      <th></th>\n",
              "      <th></th>\n",
              "      <th></th>\n",
              "      <th></th>\n",
              "      <th></th>\n",
              "      <th></th>\n",
              "      <th></th>\n",
              "      <th></th>\n",
              "      <th></th>\n",
              "    </tr>\n",
              "  </thead>\n",
              "  <tbody>\n",
              "    <tr>\n",
              "      <th>100% Orange Juice</th>\n",
              "      <td>1.000000</td>\n",
              "      <td>-0.000261</td>\n",
              "      <td>-0.000033</td>\n",
              "      <td>-0.000184</td>\n",
              "      <td>-0.000106</td>\n",
              "      <td>-0.000058</td>\n",
              "      <td>-0.000033</td>\n",
              "      <td>-0.000200</td>\n",
              "      <td>-0.000005</td>\n",
              "      <td>-0.000110</td>\n",
              "      <td>-0.000341</td>\n",
              "      <td>-0.000184</td>\n",
              "      <td>-0.000205</td>\n",
              "      <td>-0.000167</td>\n",
              "      <td>-0.000118</td>\n",
              "      <td>-0.000065</td>\n",
              "      <td>-0.000192</td>\n",
              "      <td>-0.000260</td>\n",
              "      <td>2.253375e-05</td>\n",
              "      <td>-0.000135</td>\n",
              "      <td>-0.000180</td>\n",
              "      <td>-0.000325</td>\n",
              "      <td>-0.000157</td>\n",
              "      <td>-0.000061</td>\n",
              "      <td>-0.000054</td>\n",
              "      <td>-0.000149</td>\n",
              "      <td>-0.000121</td>\n",
              "      <td>-0.000221</td>\n",
              "      <td>-0.000090</td>\n",
              "      <td>-0.000290</td>\n",
              "      <td>-0.000363</td>\n",
              "      <td>-0.000149</td>\n",
              "      <td>-0.000236</td>\n",
              "      <td>-0.000233</td>\n",
              "      <td>-0.000090</td>\n",
              "      <td>-0.000092</td>\n",
              "      <td>-0.000143</td>\n",
              "      <td>-0.000261</td>\n",
              "      <td>-0.000195</td>\n",
              "      <td>-0.000211</td>\n",
              "      <td>...</td>\n",
              "      <td>-0.000235</td>\n",
              "      <td>-0.000190</td>\n",
              "      <td>-0.000116</td>\n",
              "      <td>-0.000263</td>\n",
              "      <td>-0.000266</td>\n",
              "      <td>-0.000121</td>\n",
              "      <td>-0.000034</td>\n",
              "      <td>-0.000224</td>\n",
              "      <td>-0.000232</td>\n",
              "      <td>-0.000283</td>\n",
              "      <td>-0.000343</td>\n",
              "      <td>-0.000136</td>\n",
              "      <td>-0.000175</td>\n",
              "      <td>-0.000165</td>\n",
              "      <td>-0.000058</td>\n",
              "      <td>-0.000349</td>\n",
              "      <td>-0.000054</td>\n",
              "      <td>-0.000171</td>\n",
              "      <td>-0.000170</td>\n",
              "      <td>-0.000258</td>\n",
              "      <td>-2.550425e-05</td>\n",
              "      <td>-0.000405</td>\n",
              "      <td>-0.000237</td>\n",
              "      <td>-0.000083</td>\n",
              "      <td>-0.000198</td>\n",
              "      <td>-1.853248e-05</td>\n",
              "      <td>-0.000361</td>\n",
              "      <td>-0.000154</td>\n",
              "      <td>-0.000551</td>\n",
              "      <td>-0.000140</td>\n",
              "      <td>-0.000146</td>\n",
              "      <td>-0.000118</td>\n",
              "      <td>-0.000207</td>\n",
              "      <td>-0.000309</td>\n",
              "      <td>-0.000138</td>\n",
              "      <td>-0.000267</td>\n",
              "      <td>-0.000241</td>\n",
              "      <td>-0.000153</td>\n",
              "      <td>-0.000036</td>\n",
              "      <td>-0.059247</td>\n",
              "    </tr>\n",
              "    <tr>\n",
              "      <th>A Story About My Uncle</th>\n",
              "      <td>-0.000261</td>\n",
              "      <td>1.000000</td>\n",
              "      <td>-0.000058</td>\n",
              "      <td>-0.000325</td>\n",
              "      <td>-0.000187</td>\n",
              "      <td>-0.000103</td>\n",
              "      <td>-0.000058</td>\n",
              "      <td>-0.000354</td>\n",
              "      <td>-0.000010</td>\n",
              "      <td>-0.000195</td>\n",
              "      <td>-0.000603</td>\n",
              "      <td>-0.000324</td>\n",
              "      <td>-0.000363</td>\n",
              "      <td>-0.000295</td>\n",
              "      <td>-0.000209</td>\n",
              "      <td>-0.000115</td>\n",
              "      <td>-0.000340</td>\n",
              "      <td>-0.000460</td>\n",
              "      <td>3.981718e-05</td>\n",
              "      <td>-0.000239</td>\n",
              "      <td>-0.000318</td>\n",
              "      <td>-0.000574</td>\n",
              "      <td>-0.000277</td>\n",
              "      <td>-0.000108</td>\n",
              "      <td>-0.000096</td>\n",
              "      <td>-0.000263</td>\n",
              "      <td>-0.000214</td>\n",
              "      <td>-0.000391</td>\n",
              "      <td>-0.000159</td>\n",
              "      <td>-0.000512</td>\n",
              "      <td>-0.000641</td>\n",
              "      <td>-0.000263</td>\n",
              "      <td>-0.000418</td>\n",
              "      <td>-0.000412</td>\n",
              "      <td>-0.000159</td>\n",
              "      <td>-0.000163</td>\n",
              "      <td>-0.000253</td>\n",
              "      <td>-0.000462</td>\n",
              "      <td>-0.000344</td>\n",
              "      <td>-0.000372</td>\n",
              "      <td>...</td>\n",
              "      <td>-0.000415</td>\n",
              "      <td>-0.000336</td>\n",
              "      <td>-0.000206</td>\n",
              "      <td>-0.000465</td>\n",
              "      <td>-0.000470</td>\n",
              "      <td>-0.000214</td>\n",
              "      <td>-0.000061</td>\n",
              "      <td>-0.000395</td>\n",
              "      <td>-0.000411</td>\n",
              "      <td>-0.000501</td>\n",
              "      <td>-0.000606</td>\n",
              "      <td>-0.000241</td>\n",
              "      <td>-0.000309</td>\n",
              "      <td>-0.000292</td>\n",
              "      <td>-0.000103</td>\n",
              "      <td>-0.000617</td>\n",
              "      <td>-0.000096</td>\n",
              "      <td>-0.000302</td>\n",
              "      <td>-0.000300</td>\n",
              "      <td>-0.000456</td>\n",
              "      <td>-4.506605e-05</td>\n",
              "      <td>-0.000716</td>\n",
              "      <td>-0.000418</td>\n",
              "      <td>-0.000146</td>\n",
              "      <td>-0.000350</td>\n",
              "      <td>-3.274693e-05</td>\n",
              "      <td>-0.000639</td>\n",
              "      <td>-0.000272</td>\n",
              "      <td>-0.000974</td>\n",
              "      <td>-0.000247</td>\n",
              "      <td>-0.000259</td>\n",
              "      <td>-0.000208</td>\n",
              "      <td>-0.000366</td>\n",
              "      <td>-0.000546</td>\n",
              "      <td>-0.000244</td>\n",
              "      <td>-0.000471</td>\n",
              "      <td>-0.000425</td>\n",
              "      <td>-0.000270</td>\n",
              "      <td>-0.000063</td>\n",
              "      <td>0.000153</td>\n",
              "    </tr>\n",
              "    <tr>\n",
              "      <th>A.V.A. Alliance of Valiant Arms™</th>\n",
              "      <td>-0.000033</td>\n",
              "      <td>-0.000058</td>\n",
              "      <td>1.000000</td>\n",
              "      <td>-0.000041</td>\n",
              "      <td>-0.000024</td>\n",
              "      <td>-0.000013</td>\n",
              "      <td>-0.000007</td>\n",
              "      <td>-0.000045</td>\n",
              "      <td>-0.000001</td>\n",
              "      <td>-0.000025</td>\n",
              "      <td>-0.000076</td>\n",
              "      <td>-0.000041</td>\n",
              "      <td>-0.000046</td>\n",
              "      <td>-0.000037</td>\n",
              "      <td>-0.000026</td>\n",
              "      <td>-0.000015</td>\n",
              "      <td>-0.000043</td>\n",
              "      <td>-0.000058</td>\n",
              "      <td>5.045939e-06</td>\n",
              "      <td>-0.000030</td>\n",
              "      <td>-0.000040</td>\n",
              "      <td>-0.000073</td>\n",
              "      <td>-0.000035</td>\n",
              "      <td>-0.000014</td>\n",
              "      <td>-0.000012</td>\n",
              "      <td>-0.000033</td>\n",
              "      <td>-0.000027</td>\n",
              "      <td>-0.000050</td>\n",
              "      <td>-0.000020</td>\n",
              "      <td>-0.000065</td>\n",
              "      <td>-0.000081</td>\n",
              "      <td>-0.000033</td>\n",
              "      <td>-0.000053</td>\n",
              "      <td>-0.000052</td>\n",
              "      <td>-0.000020</td>\n",
              "      <td>-0.000021</td>\n",
              "      <td>-0.000032</td>\n",
              "      <td>-0.000059</td>\n",
              "      <td>-0.000044</td>\n",
              "      <td>-0.000047</td>\n",
              "      <td>...</td>\n",
              "      <td>-0.000053</td>\n",
              "      <td>-0.000043</td>\n",
              "      <td>-0.000026</td>\n",
              "      <td>-0.000059</td>\n",
              "      <td>-0.000060</td>\n",
              "      <td>-0.000027</td>\n",
              "      <td>-0.000008</td>\n",
              "      <td>-0.000050</td>\n",
              "      <td>-0.000052</td>\n",
              "      <td>-0.000063</td>\n",
              "      <td>-0.000077</td>\n",
              "      <td>-0.000031</td>\n",
              "      <td>-0.000039</td>\n",
              "      <td>-0.000037</td>\n",
              "      <td>-0.000013</td>\n",
              "      <td>-0.000078</td>\n",
              "      <td>-0.000012</td>\n",
              "      <td>-0.000038</td>\n",
              "      <td>-0.000038</td>\n",
              "      <td>-0.000058</td>\n",
              "      <td>-5.711116e-06</td>\n",
              "      <td>-0.000091</td>\n",
              "      <td>-0.000053</td>\n",
              "      <td>-0.000018</td>\n",
              "      <td>-0.000044</td>\n",
              "      <td>-4.149942e-06</td>\n",
              "      <td>-0.000081</td>\n",
              "      <td>-0.000034</td>\n",
              "      <td>-0.000123</td>\n",
              "      <td>-0.000031</td>\n",
              "      <td>-0.000033</td>\n",
              "      <td>-0.000026</td>\n",
              "      <td>-0.000046</td>\n",
              "      <td>-0.000069</td>\n",
              "      <td>-0.000031</td>\n",
              "      <td>-0.000060</td>\n",
              "      <td>-0.000054</td>\n",
              "      <td>-0.000034</td>\n",
              "      <td>-0.000008</td>\n",
              "      <td>0.000019</td>\n",
              "    </tr>\n",
              "    <tr>\n",
              "      <th>ABZU</th>\n",
              "      <td>-0.000184</td>\n",
              "      <td>-0.000325</td>\n",
              "      <td>-0.000041</td>\n",
              "      <td>1.000000</td>\n",
              "      <td>-0.000132</td>\n",
              "      <td>0.003238</td>\n",
              "      <td>-0.000041</td>\n",
              "      <td>-0.000250</td>\n",
              "      <td>-0.000007</td>\n",
              "      <td>-0.000137</td>\n",
              "      <td>-0.000426</td>\n",
              "      <td>-0.000229</td>\n",
              "      <td>-0.000256</td>\n",
              "      <td>-0.000208</td>\n",
              "      <td>-0.000147</td>\n",
              "      <td>-0.000081</td>\n",
              "      <td>-0.000240</td>\n",
              "      <td>-0.000325</td>\n",
              "      <td>2.812038e-05</td>\n",
              "      <td>-0.000169</td>\n",
              "      <td>-0.000225</td>\n",
              "      <td>-0.000405</td>\n",
              "      <td>-0.000195</td>\n",
              "      <td>-0.000076</td>\n",
              "      <td>-0.000068</td>\n",
              "      <td>-0.000185</td>\n",
              "      <td>-0.000151</td>\n",
              "      <td>-0.000276</td>\n",
              "      <td>-0.000112</td>\n",
              "      <td>-0.000362</td>\n",
              "      <td>-0.000453</td>\n",
              "      <td>-0.000185</td>\n",
              "      <td>-0.000295</td>\n",
              "      <td>-0.000291</td>\n",
              "      <td>-0.000112</td>\n",
              "      <td>-0.000115</td>\n",
              "      <td>-0.000179</td>\n",
              "      <td>-0.000326</td>\n",
              "      <td>-0.000243</td>\n",
              "      <td>-0.000263</td>\n",
              "      <td>...</td>\n",
              "      <td>-0.000293</td>\n",
              "      <td>-0.000237</td>\n",
              "      <td>-0.000145</td>\n",
              "      <td>-0.000329</td>\n",
              "      <td>-0.000332</td>\n",
              "      <td>-0.000151</td>\n",
              "      <td>-0.000043</td>\n",
              "      <td>-0.000279</td>\n",
              "      <td>-0.000290</td>\n",
              "      <td>-0.000354</td>\n",
              "      <td>-0.000428</td>\n",
              "      <td>-0.000170</td>\n",
              "      <td>-0.000218</td>\n",
              "      <td>-0.000206</td>\n",
              "      <td>-0.000073</td>\n",
              "      <td>-0.004165</td>\n",
              "      <td>-0.000068</td>\n",
              "      <td>-0.000213</td>\n",
              "      <td>-0.000212</td>\n",
              "      <td>-0.000322</td>\n",
              "      <td>-3.182733e-05</td>\n",
              "      <td>-0.000506</td>\n",
              "      <td>-0.000296</td>\n",
              "      <td>-0.000103</td>\n",
              "      <td>-0.000247</td>\n",
              "      <td>-2.312711e-05</td>\n",
              "      <td>-0.000451</td>\n",
              "      <td>-0.000192</td>\n",
              "      <td>-0.000688</td>\n",
              "      <td>-0.000175</td>\n",
              "      <td>-0.000183</td>\n",
              "      <td>-0.000147</td>\n",
              "      <td>-0.000259</td>\n",
              "      <td>-0.000386</td>\n",
              "      <td>-0.000172</td>\n",
              "      <td>-0.000333</td>\n",
              "      <td>-0.000300</td>\n",
              "      <td>-0.000191</td>\n",
              "      <td>-0.000044</td>\n",
              "      <td>0.000108</td>\n",
              "    </tr>\n",
              "    <tr>\n",
              "      <th>APB Reloaded</th>\n",
              "      <td>-0.000106</td>\n",
              "      <td>-0.000187</td>\n",
              "      <td>-0.000024</td>\n",
              "      <td>-0.000132</td>\n",
              "      <td>1.000000</td>\n",
              "      <td>-0.000042</td>\n",
              "      <td>-0.000024</td>\n",
              "      <td>-0.000144</td>\n",
              "      <td>-0.000004</td>\n",
              "      <td>-0.000079</td>\n",
              "      <td>0.022698</td>\n",
              "      <td>-0.000132</td>\n",
              "      <td>-0.000148</td>\n",
              "      <td>-0.000120</td>\n",
              "      <td>-0.000085</td>\n",
              "      <td>-0.000047</td>\n",
              "      <td>-0.000138</td>\n",
              "      <td>-0.000187</td>\n",
              "      <td>1.619025e-05</td>\n",
              "      <td>-0.000097</td>\n",
              "      <td>-0.000129</td>\n",
              "      <td>-0.000233</td>\n",
              "      <td>-0.000112</td>\n",
              "      <td>-0.000044</td>\n",
              "      <td>-0.000039</td>\n",
              "      <td>-0.000107</td>\n",
              "      <td>-0.000087</td>\n",
              "      <td>-0.000159</td>\n",
              "      <td>-0.000065</td>\n",
              "      <td>-0.000208</td>\n",
              "      <td>-0.000261</td>\n",
              "      <td>-0.000107</td>\n",
              "      <td>-0.000170</td>\n",
              "      <td>-0.000168</td>\n",
              "      <td>-0.000065</td>\n",
              "      <td>-0.000066</td>\n",
              "      <td>-0.000103</td>\n",
              "      <td>-0.000188</td>\n",
              "      <td>-0.000140</td>\n",
              "      <td>-0.000151</td>\n",
              "      <td>...</td>\n",
              "      <td>-0.000169</td>\n",
              "      <td>-0.000137</td>\n",
              "      <td>-0.000084</td>\n",
              "      <td>-0.000189</td>\n",
              "      <td>-0.000191</td>\n",
              "      <td>-0.000087</td>\n",
              "      <td>-0.000025</td>\n",
              "      <td>-0.000161</td>\n",
              "      <td>-0.000167</td>\n",
              "      <td>-0.000204</td>\n",
              "      <td>-0.000246</td>\n",
              "      <td>-0.000098</td>\n",
              "      <td>-0.000126</td>\n",
              "      <td>-0.000119</td>\n",
              "      <td>-0.000042</td>\n",
              "      <td>-0.000251</td>\n",
              "      <td>-0.000039</td>\n",
              "      <td>-0.000123</td>\n",
              "      <td>-0.000122</td>\n",
              "      <td>-0.000185</td>\n",
              "      <td>-1.832452e-05</td>\n",
              "      <td>-0.000291</td>\n",
              "      <td>-0.000170</td>\n",
              "      <td>-0.000059</td>\n",
              "      <td>-0.000142</td>\n",
              "      <td>-1.331539e-05</td>\n",
              "      <td>-0.000260</td>\n",
              "      <td>-0.000110</td>\n",
              "      <td>-0.000396</td>\n",
              "      <td>-0.000101</td>\n",
              "      <td>-0.000105</td>\n",
              "      <td>-0.000085</td>\n",
              "      <td>-0.000149</td>\n",
              "      <td>-0.000222</td>\n",
              "      <td>-0.000099</td>\n",
              "      <td>-0.000192</td>\n",
              "      <td>-0.000173</td>\n",
              "      <td>-0.000110</td>\n",
              "      <td>-0.000026</td>\n",
              "      <td>0.000062</td>\n",
              "    </tr>\n",
              "    <tr>\n",
              "      <th>ARK: Survival Evolved</th>\n",
              "      <td>-0.000058</td>\n",
              "      <td>-0.000103</td>\n",
              "      <td>-0.000013</td>\n",
              "      <td>0.003238</td>\n",
              "      <td>-0.000042</td>\n",
              "      <td>1.000000</td>\n",
              "      <td>-0.000013</td>\n",
              "      <td>-0.000079</td>\n",
              "      <td>-0.000002</td>\n",
              "      <td>-0.000044</td>\n",
              "      <td>-0.000135</td>\n",
              "      <td>-0.000073</td>\n",
              "      <td>-0.000081</td>\n",
              "      <td>-0.000066</td>\n",
              "      <td>-0.000047</td>\n",
              "      <td>-0.000026</td>\n",
              "      <td>-0.000076</td>\n",
              "      <td>-0.000103</td>\n",
              "      <td>8.931223e-06</td>\n",
              "      <td>-0.000054</td>\n",
              "      <td>-0.000071</td>\n",
              "      <td>-0.000129</td>\n",
              "      <td>-0.000062</td>\n",
              "      <td>-0.000024</td>\n",
              "      <td>-0.000021</td>\n",
              "      <td>-0.000059</td>\n",
              "      <td>-0.000048</td>\n",
              "      <td>-0.000088</td>\n",
              "      <td>-0.000036</td>\n",
              "      <td>-0.000115</td>\n",
              "      <td>-0.000144</td>\n",
              "      <td>-0.000059</td>\n",
              "      <td>-0.000094</td>\n",
              "      <td>-0.000092</td>\n",
              "      <td>-0.000036</td>\n",
              "      <td>-0.000037</td>\n",
              "      <td>-0.000057</td>\n",
              "      <td>-0.000104</td>\n",
              "      <td>-0.000077</td>\n",
              "      <td>-0.000083</td>\n",
              "      <td>...</td>\n",
              "      <td>-0.000093</td>\n",
              "      <td>-0.000075</td>\n",
              "      <td>-0.000046</td>\n",
              "      <td>-0.000104</td>\n",
              "      <td>-0.000106</td>\n",
              "      <td>-0.000048</td>\n",
              "      <td>-0.000014</td>\n",
              "      <td>-0.000089</td>\n",
              "      <td>-0.000092</td>\n",
              "      <td>-0.000112</td>\n",
              "      <td>-0.000136</td>\n",
              "      <td>-0.000054</td>\n",
              "      <td>-0.000069</td>\n",
              "      <td>-0.000065</td>\n",
              "      <td>-0.000023</td>\n",
              "      <td>-0.000138</td>\n",
              "      <td>-0.000021</td>\n",
              "      <td>-0.000068</td>\n",
              "      <td>-0.000067</td>\n",
              "      <td>-0.000102</td>\n",
              "      <td>-1.010858e-05</td>\n",
              "      <td>-0.000161</td>\n",
              "      <td>-0.000094</td>\n",
              "      <td>-0.000033</td>\n",
              "      <td>-0.000078</td>\n",
              "      <td>-7.345325e-06</td>\n",
              "      <td>-0.000143</td>\n",
              "      <td>-0.000061</td>\n",
              "      <td>-0.000218</td>\n",
              "      <td>-0.000055</td>\n",
              "      <td>-0.000058</td>\n",
              "      <td>-0.000047</td>\n",
              "      <td>-0.000082</td>\n",
              "      <td>-0.000122</td>\n",
              "      <td>-0.000055</td>\n",
              "      <td>-0.000106</td>\n",
              "      <td>-0.000095</td>\n",
              "      <td>-0.000061</td>\n",
              "      <td>-0.000014</td>\n",
              "      <td>0.000034</td>\n",
              "    </tr>\n",
              "    <tr>\n",
              "      <th>ARK: Survival Of The Fittest</th>\n",
              "      <td>-0.000033</td>\n",
              "      <td>-0.000058</td>\n",
              "      <td>-0.000007</td>\n",
              "      <td>-0.000041</td>\n",
              "      <td>-0.000024</td>\n",
              "      <td>-0.000013</td>\n",
              "      <td>1.000000</td>\n",
              "      <td>-0.000044</td>\n",
              "      <td>-0.000001</td>\n",
              "      <td>-0.000024</td>\n",
              "      <td>-0.000076</td>\n",
              "      <td>-0.000041</td>\n",
              "      <td>-0.000046</td>\n",
              "      <td>-0.000037</td>\n",
              "      <td>-0.000026</td>\n",
              "      <td>-0.000014</td>\n",
              "      <td>-0.000043</td>\n",
              "      <td>-0.000058</td>\n",
              "      <td>4.997086e-06</td>\n",
              "      <td>-0.000030</td>\n",
              "      <td>-0.000040</td>\n",
              "      <td>-0.000072</td>\n",
              "      <td>-0.000035</td>\n",
              "      <td>-0.000013</td>\n",
              "      <td>-0.000012</td>\n",
              "      <td>-0.000033</td>\n",
              "      <td>-0.000027</td>\n",
              "      <td>-0.000049</td>\n",
              "      <td>-0.000020</td>\n",
              "      <td>-0.000064</td>\n",
              "      <td>-0.000080</td>\n",
              "      <td>-0.000033</td>\n",
              "      <td>-0.000052</td>\n",
              "      <td>-0.000052</td>\n",
              "      <td>-0.000020</td>\n",
              "      <td>-0.000020</td>\n",
              "      <td>-0.000032</td>\n",
              "      <td>-0.000058</td>\n",
              "      <td>-0.000043</td>\n",
              "      <td>-0.000047</td>\n",
              "      <td>...</td>\n",
              "      <td>-0.000052</td>\n",
              "      <td>-0.000042</td>\n",
              "      <td>-0.000026</td>\n",
              "      <td>-0.000058</td>\n",
              "      <td>-0.000059</td>\n",
              "      <td>-0.000027</td>\n",
              "      <td>-0.000008</td>\n",
              "      <td>-0.000050</td>\n",
              "      <td>-0.000052</td>\n",
              "      <td>-0.000063</td>\n",
              "      <td>-0.000076</td>\n",
              "      <td>-0.000030</td>\n",
              "      <td>-0.000039</td>\n",
              "      <td>-0.000037</td>\n",
              "      <td>-0.000013</td>\n",
              "      <td>-0.000077</td>\n",
              "      <td>-0.000012</td>\n",
              "      <td>-0.000038</td>\n",
              "      <td>-0.000038</td>\n",
              "      <td>-0.000057</td>\n",
              "      <td>-5.655823e-06</td>\n",
              "      <td>-0.000090</td>\n",
              "      <td>-0.000053</td>\n",
              "      <td>-0.000018</td>\n",
              "      <td>-0.000044</td>\n",
              "      <td>-4.109764e-06</td>\n",
              "      <td>-0.000080</td>\n",
              "      <td>-0.000034</td>\n",
              "      <td>-0.000122</td>\n",
              "      <td>-0.000031</td>\n",
              "      <td>-0.000032</td>\n",
              "      <td>-0.000026</td>\n",
              "      <td>-0.000046</td>\n",
              "      <td>-0.000069</td>\n",
              "      <td>-0.000031</td>\n",
              "      <td>-0.000059</td>\n",
              "      <td>-0.000053</td>\n",
              "      <td>-0.000034</td>\n",
              "      <td>-0.000008</td>\n",
              "      <td>0.000019</td>\n",
              "    </tr>\n",
              "    <tr>\n",
              "      <th>ASTRONEER</th>\n",
              "      <td>-0.000200</td>\n",
              "      <td>-0.000354</td>\n",
              "      <td>-0.000045</td>\n",
              "      <td>-0.000250</td>\n",
              "      <td>-0.000144</td>\n",
              "      <td>-0.000079</td>\n",
              "      <td>-0.000044</td>\n",
              "      <td>1.000000</td>\n",
              "      <td>-0.000007</td>\n",
              "      <td>-0.000150</td>\n",
              "      <td>-0.000463</td>\n",
              "      <td>-0.000249</td>\n",
              "      <td>-0.000279</td>\n",
              "      <td>-0.000226</td>\n",
              "      <td>-0.000160</td>\n",
              "      <td>-0.000088</td>\n",
              "      <td>-0.000261</td>\n",
              "      <td>-0.000353</td>\n",
              "      <td>3.059004e-05</td>\n",
              "      <td>-0.000183</td>\n",
              "      <td>-0.000244</td>\n",
              "      <td>-0.000441</td>\n",
              "      <td>-0.000213</td>\n",
              "      <td>-0.000083</td>\n",
              "      <td>-0.000074</td>\n",
              "      <td>-0.000202</td>\n",
              "      <td>-0.000165</td>\n",
              "      <td>-0.000300</td>\n",
              "      <td>-0.000122</td>\n",
              "      <td>-0.000393</td>\n",
              "      <td>-0.000492</td>\n",
              "      <td>-0.000202</td>\n",
              "      <td>-0.000321</td>\n",
              "      <td>-0.000317</td>\n",
              "      <td>-0.000122</td>\n",
              "      <td>-0.000125</td>\n",
              "      <td>-0.000194</td>\n",
              "      <td>-0.000355</td>\n",
              "      <td>-0.000264</td>\n",
              "      <td>-0.000286</td>\n",
              "      <td>...</td>\n",
              "      <td>-0.000319</td>\n",
              "      <td>-0.000258</td>\n",
              "      <td>-0.000158</td>\n",
              "      <td>-0.000358</td>\n",
              "      <td>-0.000361</td>\n",
              "      <td>-0.000165</td>\n",
              "      <td>-0.000047</td>\n",
              "      <td>-0.000304</td>\n",
              "      <td>-0.000316</td>\n",
              "      <td>-0.000385</td>\n",
              "      <td>-0.000465</td>\n",
              "      <td>-0.000185</td>\n",
              "      <td>0.008609</td>\n",
              "      <td>-0.000224</td>\n",
              "      <td>-0.000079</td>\n",
              "      <td>-0.000474</td>\n",
              "      <td>-0.000074</td>\n",
              "      <td>-0.000232</td>\n",
              "      <td>-0.000231</td>\n",
              "      <td>-0.000350</td>\n",
              "      <td>-3.462255e-05</td>\n",
              "      <td>-0.000550</td>\n",
              "      <td>-0.000321</td>\n",
              "      <td>-0.000112</td>\n",
              "      <td>-0.000269</td>\n",
              "      <td>-2.515823e-05</td>\n",
              "      <td>-0.000491</td>\n",
              "      <td>-0.000209</td>\n",
              "      <td>-0.000748</td>\n",
              "      <td>-0.000190</td>\n",
              "      <td>-0.000199</td>\n",
              "      <td>-0.000160</td>\n",
              "      <td>-0.000281</td>\n",
              "      <td>-0.000420</td>\n",
              "      <td>-0.000187</td>\n",
              "      <td>-0.000362</td>\n",
              "      <td>-0.000327</td>\n",
              "      <td>-0.000208</td>\n",
              "      <td>-0.000048</td>\n",
              "      <td>0.000117</td>\n",
              "    </tr>\n",
              "    <tr>\n",
              "      <th>Ace of Spades: Battle Builder</th>\n",
              "      <td>-0.000005</td>\n",
              "      <td>-0.000010</td>\n",
              "      <td>-0.000001</td>\n",
              "      <td>-0.000007</td>\n",
              "      <td>-0.000004</td>\n",
              "      <td>-0.000002</td>\n",
              "      <td>-0.000001</td>\n",
              "      <td>-0.000007</td>\n",
              "      <td>1.000000</td>\n",
              "      <td>-0.000004</td>\n",
              "      <td>-0.000013</td>\n",
              "      <td>-0.000007</td>\n",
              "      <td>-0.000008</td>\n",
              "      <td>-0.000006</td>\n",
              "      <td>-0.000004</td>\n",
              "      <td>-0.000002</td>\n",
              "      <td>-0.000007</td>\n",
              "      <td>-0.000010</td>\n",
              "      <td>8.262530e-07</td>\n",
              "      <td>-0.000005</td>\n",
              "      <td>-0.000007</td>\n",
              "      <td>-0.000012</td>\n",
              "      <td>-0.000006</td>\n",
              "      <td>-0.000002</td>\n",
              "      <td>-0.000002</td>\n",
              "      <td>-0.000005</td>\n",
              "      <td>-0.009933</td>\n",
              "      <td>-0.000008</td>\n",
              "      <td>-0.000003</td>\n",
              "      <td>-0.000011</td>\n",
              "      <td>-0.000013</td>\n",
              "      <td>-0.000005</td>\n",
              "      <td>-0.000009</td>\n",
              "      <td>-0.000009</td>\n",
              "      <td>-0.000003</td>\n",
              "      <td>-0.000003</td>\n",
              "      <td>-0.000005</td>\n",
              "      <td>-0.000010</td>\n",
              "      <td>-0.000007</td>\n",
              "      <td>-0.000008</td>\n",
              "      <td>...</td>\n",
              "      <td>-0.000009</td>\n",
              "      <td>-0.000007</td>\n",
              "      <td>-0.000004</td>\n",
              "      <td>-0.000010</td>\n",
              "      <td>-0.000010</td>\n",
              "      <td>-0.000004</td>\n",
              "      <td>-0.000001</td>\n",
              "      <td>-0.000008</td>\n",
              "      <td>-0.000009</td>\n",
              "      <td>-0.000010</td>\n",
              "      <td>-0.000013</td>\n",
              "      <td>-0.000005</td>\n",
              "      <td>-0.000006</td>\n",
              "      <td>-0.000006</td>\n",
              "      <td>-0.000002</td>\n",
              "      <td>-0.000013</td>\n",
              "      <td>-0.000002</td>\n",
              "      <td>-0.000006</td>\n",
              "      <td>-0.000006</td>\n",
              "      <td>-0.000009</td>\n",
              "      <td>-9.351732e-07</td>\n",
              "      <td>-0.000015</td>\n",
              "      <td>-0.000009</td>\n",
              "      <td>-0.000003</td>\n",
              "      <td>-0.000007</td>\n",
              "      <td>-6.795370e-07</td>\n",
              "      <td>-0.000013</td>\n",
              "      <td>-0.000006</td>\n",
              "      <td>-0.000020</td>\n",
              "      <td>-0.000005</td>\n",
              "      <td>-0.000005</td>\n",
              "      <td>-0.000004</td>\n",
              "      <td>-0.000008</td>\n",
              "      <td>-0.000011</td>\n",
              "      <td>-0.000005</td>\n",
              "      <td>-0.000010</td>\n",
              "      <td>-0.000009</td>\n",
              "      <td>-0.000006</td>\n",
              "      <td>-0.000001</td>\n",
              "      <td>0.000003</td>\n",
              "    </tr>\n",
              "    <tr>\n",
              "      <th>AdVenture Capitalist</th>\n",
              "      <td>-0.000110</td>\n",
              "      <td>-0.000195</td>\n",
              "      <td>-0.000025</td>\n",
              "      <td>-0.000137</td>\n",
              "      <td>-0.000079</td>\n",
              "      <td>-0.000044</td>\n",
              "      <td>-0.000024</td>\n",
              "      <td>-0.000150</td>\n",
              "      <td>-0.000004</td>\n",
              "      <td>1.000000</td>\n",
              "      <td>-0.000255</td>\n",
              "      <td>-0.000137</td>\n",
              "      <td>-0.000153</td>\n",
              "      <td>-0.000125</td>\n",
              "      <td>-0.000088</td>\n",
              "      <td>-0.000049</td>\n",
              "      <td>-0.000144</td>\n",
              "      <td>-0.000194</td>\n",
              "      <td>1.683115e-05</td>\n",
              "      <td>-0.000101</td>\n",
              "      <td>-0.000134</td>\n",
              "      <td>-0.000243</td>\n",
              "      <td>-0.000117</td>\n",
              "      <td>-0.000045</td>\n",
              "      <td>-0.000040</td>\n",
              "      <td>-0.000111</td>\n",
              "      <td>-0.000091</td>\n",
              "      <td>-0.000165</td>\n",
              "      <td>-0.000067</td>\n",
              "      <td>-0.000216</td>\n",
              "      <td>-0.000271</td>\n",
              "      <td>-0.000111</td>\n",
              "      <td>-0.000177</td>\n",
              "      <td>-0.000174</td>\n",
              "      <td>-0.000067</td>\n",
              "      <td>-0.000069</td>\n",
              "      <td>-0.000107</td>\n",
              "      <td>-0.000195</td>\n",
              "      <td>-0.000145</td>\n",
              "      <td>-0.000157</td>\n",
              "      <td>...</td>\n",
              "      <td>-0.000175</td>\n",
              "      <td>-0.000142</td>\n",
              "      <td>-0.000087</td>\n",
              "      <td>-0.000197</td>\n",
              "      <td>-0.000199</td>\n",
              "      <td>-0.000091</td>\n",
              "      <td>-0.000026</td>\n",
              "      <td>-0.000167</td>\n",
              "      <td>-0.000174</td>\n",
              "      <td>-0.000212</td>\n",
              "      <td>-0.000256</td>\n",
              "      <td>-0.000102</td>\n",
              "      <td>-0.000131</td>\n",
              "      <td>-0.000123</td>\n",
              "      <td>-0.000044</td>\n",
              "      <td>-0.000261</td>\n",
              "      <td>-0.000040</td>\n",
              "      <td>-0.000128</td>\n",
              "      <td>-0.000127</td>\n",
              "      <td>-0.000193</td>\n",
              "      <td>-1.904991e-05</td>\n",
              "      <td>-0.000303</td>\n",
              "      <td>-0.000177</td>\n",
              "      <td>-0.000062</td>\n",
              "      <td>-0.000148</td>\n",
              "      <td>-1.384248e-05</td>\n",
              "      <td>-0.000270</td>\n",
              "      <td>-0.000115</td>\n",
              "      <td>-0.003249</td>\n",
              "      <td>-0.000105</td>\n",
              "      <td>-0.000109</td>\n",
              "      <td>-0.000088</td>\n",
              "      <td>-0.000155</td>\n",
              "      <td>-0.000231</td>\n",
              "      <td>-0.000103</td>\n",
              "      <td>-0.000199</td>\n",
              "      <td>-0.000180</td>\n",
              "      <td>-0.000114</td>\n",
              "      <td>-0.000027</td>\n",
              "      <td>0.000065</td>\n",
              "    </tr>\n",
              "  </tbody>\n",
              "</table>\n",
              "<p>10 rows × 355 columns</p>\n",
              "</div>"
            ],
            "text/plain": [
              "title                             100% Orange Juice  ...  theHunter Classic\n",
              "title                                                ...                   \n",
              "100% Orange Juice                          1.000000  ...          -0.059247\n",
              "A Story About My Uncle                    -0.000261  ...           0.000153\n",
              "A.V.A. Alliance of Valiant Arms™          -0.000033  ...           0.000019\n",
              "ABZU                                      -0.000184  ...           0.000108\n",
              "APB Reloaded                              -0.000106  ...           0.000062\n",
              "ARK: Survival Evolved                     -0.000058  ...           0.000034\n",
              "ARK: Survival Of The Fittest              -0.000033  ...           0.000019\n",
              "ASTRONEER                                 -0.000200  ...           0.000117\n",
              "Ace of Spades: Battle Builder             -0.000005  ...           0.000003\n",
              "AdVenture Capitalist                      -0.000110  ...           0.000065\n",
              "\n",
              "[10 rows x 355 columns]"
            ]
          },
          "metadata": {
            "tags": []
          },
          "execution_count": 70
        }
      ]
    },
    {
      "cell_type": "code",
      "metadata": {
        "id": "lnTCEXkFj2Bl"
      },
      "source": [
        "def get_similar(game_name,rating):\n",
        "    similar_ratings = corrMatrix[game_name]*(rating-2.5)\n",
        "    similar_ratings = similar_ratings.sort_values(ascending=False)\n",
        "    #print(type(similar_ratings))\n",
        "    return similar_ratings"
      ],
      "execution_count": 71,
      "outputs": []
    },
    {
      "cell_type": "code",
      "metadata": {
        "id": "h9zTxyFzqBqn",
        "colab": {
          "base_uri": "https://localhost:8080/",
          "height": 324
        },
        "outputId": "fcc6661e-3e33-42f0-e366-5b48d73412e9"
      },
      "source": [
        "games = [(\"Call of Duty®: Modern Warfare® 2\",.6), (\"Euro Truck Simulator 2\",0),\n",
        "                  (\"Battlefield: Bad Company™ 2\",1),(\"Life is Strange - Episode 1\",-0.6)]\n",
        "similar_games = pd.DataFrame()\n",
        "for game,rating in games:\n",
        "    similar_games = similar_games.append(get_similar(game,rating),ignore_index = True)\n",
        "\n",
        "similar_games.head(10)"
      ],
      "execution_count": 72,
      "outputs": [
        {
          "output_type": "execute_result",
          "data": {
            "text/html": [
              "<div>\n",
              "<style scoped>\n",
              "    .dataframe tbody tr th:only-of-type {\n",
              "        vertical-align: middle;\n",
              "    }\n",
              "\n",
              "    .dataframe tbody tr th {\n",
              "        vertical-align: top;\n",
              "    }\n",
              "\n",
              "    .dataframe thead th {\n",
              "        text-align: right;\n",
              "    }\n",
              "</style>\n",
              "<table border=\"1\" class=\"dataframe\">\n",
              "  <thead>\n",
              "    <tr style=\"text-align: right;\">\n",
              "      <th></th>\n",
              "      <th>100% Orange Juice</th>\n",
              "      <th>A Story About My Uncle</th>\n",
              "      <th>A.V.A. Alliance of Valiant Arms™</th>\n",
              "      <th>ABZU</th>\n",
              "      <th>APB Reloaded</th>\n",
              "      <th>ARK: Survival Evolved</th>\n",
              "      <th>ARK: Survival Of The Fittest</th>\n",
              "      <th>ASTRONEER</th>\n",
              "      <th>Ace of Spades: Battle Builder</th>\n",
              "      <th>AdVenture Capitalist</th>\n",
              "      <th>Age of Empires II HD</th>\n",
              "      <th>Age of Empires® III: Complete Collection</th>\n",
              "      <th>Alan Wake</th>\n",
              "      <th>Alien Swarm</th>\n",
              "      <th>Alien: Isolation</th>\n",
              "      <th>Aliens vs. Predator™</th>\n",
              "      <th>America's Army: Proving Grounds</th>\n",
              "      <th>American Truck Simulator</th>\n",
              "      <th>Amnesia: The Dark Descent</th>\n",
              "      <th>Antichamber</th>\n",
              "      <th>Arma 2: Operation Arrowhead</th>\n",
              "      <th>Arma 3</th>\n",
              "      <th>Assassin's Creed® Origins</th>\n",
              "      <th>Assassin's Creed® Unity</th>\n",
              "      <th>Assassin’s Creed® III</th>\n",
              "      <th>Assassin’s Creed® IV Black Flag™</th>\n",
              "      <th>Aura Kingdom</th>\n",
              "      <th>Awesomenauts - the 2D moba</th>\n",
              "      <th>BLOCKADE 3D</th>\n",
              "      <th>Banished</th>\n",
              "      <th>Bastion</th>\n",
              "      <th>Batman - The Telltale Series</th>\n",
              "      <th>Batman: Arkham Asylum Game of the Year Edition</th>\n",
              "      <th>Batman™: Arkham Knight</th>\n",
              "      <th>Batman™: Arkham Origins</th>\n",
              "      <th>BattleBlock Theater®</th>\n",
              "      <th>Battleborn</th>\n",
              "      <th>Battlefield: Bad Company™ 2</th>\n",
              "      <th>Battlerite</th>\n",
              "      <th>BeamNG.drive</th>\n",
              "      <th>...</th>\n",
              "      <th>The Stanley Parable</th>\n",
              "      <th>The Talos Principle</th>\n",
              "      <th>The Walking Dead</th>\n",
              "      <th>The Walking Dead: Season 2</th>\n",
              "      <th>The Witcher 2: Assassins of Kings Enhanced Edition</th>\n",
              "      <th>Thief</th>\n",
              "      <th>This War of Mine</th>\n",
              "      <th>Thomas Was Alone</th>\n",
              "      <th>To the Moon</th>\n",
              "      <th>Tom Clancy's Rainbow Six® Siege</th>\n",
              "      <th>Torchlight II</th>\n",
              "      <th>Total War™: ROME II - Emperor Edition</th>\n",
              "      <th>Town of Salem</th>\n",
              "      <th>Train Simulator</th>\n",
              "      <th>Transformice</th>\n",
              "      <th>Transistor</th>\n",
              "      <th>Tree of Savior (English Ver.)</th>\n",
              "      <th>Tribes: Ascend</th>\n",
              "      <th>Trine 2: Complete Story</th>\n",
              "      <th>Trove</th>\n",
              "      <th>Ultra Street Fighter® IV</th>\n",
              "      <th>Undertale</th>\n",
              "      <th>Unturned</th>\n",
              "      <th>VVVVVV</th>\n",
              "      <th>Verdun</th>\n",
              "      <th>WARMODE</th>\n",
              "      <th>Wallpaper Engine</th>\n",
              "      <th>Warface</th>\n",
              "      <th>Warframe</th>\n",
              "      <th>Warhammer: End Times - Vermintide</th>\n",
              "      <th>Watch_Dogs® 2</th>\n",
              "      <th>Who's Your Daddy</th>\n",
              "      <th>Wolfenstein II: The New Colossus</th>\n",
              "      <th>Wolfenstein: The New Order</th>\n",
              "      <th>World of Guns: Gun Disassembly</th>\n",
              "      <th>XCOM: Enemy Unknown</th>\n",
              "      <th>XCOM® 2</th>\n",
              "      <th>Yet Another Zombie Defense</th>\n",
              "      <th>Youtubers Life</th>\n",
              "      <th>theHunter Classic</th>\n",
              "    </tr>\n",
              "  </thead>\n",
              "  <tbody>\n",
              "    <tr>\n",
              "      <th>0</th>\n",
              "      <td>0.000525</td>\n",
              "      <td>0.000928</td>\n",
              "      <td>0.000118</td>\n",
              "      <td>0.000655</td>\n",
              "      <td>0.000377</td>\n",
              "      <td>0.000208</td>\n",
              "      <td>0.000116</td>\n",
              "      <td>0.000713</td>\n",
              "      <td>0.000019</td>\n",
              "      <td>0.000392</td>\n",
              "      <td>0.001214</td>\n",
              "      <td>0.000653</td>\n",
              "      <td>0.000731</td>\n",
              "      <td>0.000594</td>\n",
              "      <td>0.000420</td>\n",
              "      <td>0.000232</td>\n",
              "      <td>0.000685</td>\n",
              "      <td>0.000927</td>\n",
              "      <td>-0.000080</td>\n",
              "      <td>0.000481</td>\n",
              "      <td>0.000641</td>\n",
              "      <td>0.001156</td>\n",
              "      <td>0.000557</td>\n",
              "      <td>0.000217</td>\n",
              "      <td>0.000193</td>\n",
              "      <td>0.000529</td>\n",
              "      <td>0.000432</td>\n",
              "      <td>0.000788</td>\n",
              "      <td>0.000320</td>\n",
              "      <td>0.001032</td>\n",
              "      <td>0.001291</td>\n",
              "      <td>0.000529</td>\n",
              "      <td>0.000842</td>\n",
              "      <td>0.000830</td>\n",
              "      <td>0.000320</td>\n",
              "      <td>0.000328</td>\n",
              "      <td>0.000510</td>\n",
              "      <td>0.000930</td>\n",
              "      <td>0.000693</td>\n",
              "      <td>0.000750</td>\n",
              "      <td>...</td>\n",
              "      <td>0.000836</td>\n",
              "      <td>0.000677</td>\n",
              "      <td>0.000414</td>\n",
              "      <td>0.000938</td>\n",
              "      <td>0.000948</td>\n",
              "      <td>0.000432</td>\n",
              "      <td>0.000123</td>\n",
              "      <td>0.000796</td>\n",
              "      <td>0.000828</td>\n",
              "      <td>0.001009</td>\n",
              "      <td>0.001220</td>\n",
              "      <td>0.000486</td>\n",
              "      <td>0.000623</td>\n",
              "      <td>0.000588</td>\n",
              "      <td>0.000208</td>\n",
              "      <td>0.001244</td>\n",
              "      <td>0.000193</td>\n",
              "      <td>0.000609</td>\n",
              "      <td>0.000605</td>\n",
              "      <td>0.000918</td>\n",
              "      <td>0.000091</td>\n",
              "      <td>0.001442</td>\n",
              "      <td>0.000843</td>\n",
              "      <td>0.000294</td>\n",
              "      <td>0.000705</td>\n",
              "      <td>0.000066</td>\n",
              "      <td>0.001287</td>\n",
              "      <td>0.000547</td>\n",
              "      <td>0.001963</td>\n",
              "      <td>0.000498</td>\n",
              "      <td>0.000521</td>\n",
              "      <td>0.000419</td>\n",
              "      <td>0.000738</td>\n",
              "      <td>0.001100</td>\n",
              "      <td>0.000491</td>\n",
              "      <td>0.000949</td>\n",
              "      <td>0.000856</td>\n",
              "      <td>0.000544</td>\n",
              "      <td>0.000127</td>\n",
              "      <td>-0.000308</td>\n",
              "    </tr>\n",
              "    <tr>\n",
              "      <th>1</th>\n",
              "      <td>0.000916</td>\n",
              "      <td>0.001619</td>\n",
              "      <td>0.000205</td>\n",
              "      <td>0.001143</td>\n",
              "      <td>0.000658</td>\n",
              "      <td>0.000363</td>\n",
              "      <td>0.000203</td>\n",
              "      <td>0.001244</td>\n",
              "      <td>0.032361</td>\n",
              "      <td>0.000684</td>\n",
              "      <td>0.002118</td>\n",
              "      <td>0.001140</td>\n",
              "      <td>0.001276</td>\n",
              "      <td>0.001036</td>\n",
              "      <td>0.000733</td>\n",
              "      <td>0.000404</td>\n",
              "      <td>0.001977</td>\n",
              "      <td>0.001617</td>\n",
              "      <td>-0.000140</td>\n",
              "      <td>0.000839</td>\n",
              "      <td>0.001118</td>\n",
              "      <td>0.002018</td>\n",
              "      <td>0.000973</td>\n",
              "      <td>0.000378</td>\n",
              "      <td>0.000337</td>\n",
              "      <td>0.000923</td>\n",
              "      <td>0.000754</td>\n",
              "      <td>0.001374</td>\n",
              "      <td>0.000559</td>\n",
              "      <td>0.001800</td>\n",
              "      <td>0.002252</td>\n",
              "      <td>0.000923</td>\n",
              "      <td>0.001469</td>\n",
              "      <td>0.001449</td>\n",
              "      <td>0.000558</td>\n",
              "      <td>0.000573</td>\n",
              "      <td>0.000889</td>\n",
              "      <td>0.001623</td>\n",
              "      <td>0.001210</td>\n",
              "      <td>0.001308</td>\n",
              "      <td>...</td>\n",
              "      <td>-0.002534</td>\n",
              "      <td>0.001181</td>\n",
              "      <td>0.000723</td>\n",
              "      <td>0.001636</td>\n",
              "      <td>0.001654</td>\n",
              "      <td>0.000754</td>\n",
              "      <td>-0.000399</td>\n",
              "      <td>0.001389</td>\n",
              "      <td>0.001444</td>\n",
              "      <td>0.001760</td>\n",
              "      <td>0.002129</td>\n",
              "      <td>0.000847</td>\n",
              "      <td>0.001086</td>\n",
              "      <td>0.001026</td>\n",
              "      <td>0.000362</td>\n",
              "      <td>0.002170</td>\n",
              "      <td>0.000337</td>\n",
              "      <td>0.001062</td>\n",
              "      <td>0.001055</td>\n",
              "      <td>0.001602</td>\n",
              "      <td>0.000158</td>\n",
              "      <td>0.002517</td>\n",
              "      <td>0.001471</td>\n",
              "      <td>0.000513</td>\n",
              "      <td>0.001230</td>\n",
              "      <td>0.000115</td>\n",
              "      <td>0.002245</td>\n",
              "      <td>0.000955</td>\n",
              "      <td>0.003424</td>\n",
              "      <td>0.000869</td>\n",
              "      <td>0.000910</td>\n",
              "      <td>0.031008</td>\n",
              "      <td>0.001287</td>\n",
              "      <td>0.001920</td>\n",
              "      <td>0.000858</td>\n",
              "      <td>0.001656</td>\n",
              "      <td>0.001494</td>\n",
              "      <td>0.000949</td>\n",
              "      <td>0.000221</td>\n",
              "      <td>-0.000537</td>\n",
              "    </tr>\n",
              "    <tr>\n",
              "      <th>2</th>\n",
              "      <td>0.000392</td>\n",
              "      <td>0.000692</td>\n",
              "      <td>0.000088</td>\n",
              "      <td>0.000489</td>\n",
              "      <td>0.000282</td>\n",
              "      <td>0.000155</td>\n",
              "      <td>0.000087</td>\n",
              "      <td>0.000532</td>\n",
              "      <td>0.000014</td>\n",
              "      <td>0.000293</td>\n",
              "      <td>0.000906</td>\n",
              "      <td>0.000488</td>\n",
              "      <td>0.000546</td>\n",
              "      <td>0.000443</td>\n",
              "      <td>0.000314</td>\n",
              "      <td>0.000173</td>\n",
              "      <td>0.000511</td>\n",
              "      <td>0.000692</td>\n",
              "      <td>-0.000060</td>\n",
              "      <td>0.000359</td>\n",
              "      <td>0.000478</td>\n",
              "      <td>0.000863</td>\n",
              "      <td>0.000416</td>\n",
              "      <td>0.000162</td>\n",
              "      <td>0.000144</td>\n",
              "      <td>0.000395</td>\n",
              "      <td>0.000322</td>\n",
              "      <td>0.000588</td>\n",
              "      <td>0.000239</td>\n",
              "      <td>0.000770</td>\n",
              "      <td>0.000963</td>\n",
              "      <td>0.000395</td>\n",
              "      <td>0.000628</td>\n",
              "      <td>0.000620</td>\n",
              "      <td>0.000239</td>\n",
              "      <td>0.000245</td>\n",
              "      <td>0.000380</td>\n",
              "      <td>-1.500000</td>\n",
              "      <td>0.000517</td>\n",
              "      <td>0.000559</td>\n",
              "      <td>...</td>\n",
              "      <td>0.000624</td>\n",
              "      <td>0.000505</td>\n",
              "      <td>0.000309</td>\n",
              "      <td>0.000700</td>\n",
              "      <td>0.000707</td>\n",
              "      <td>0.000322</td>\n",
              "      <td>0.000092</td>\n",
              "      <td>0.000594</td>\n",
              "      <td>0.000618</td>\n",
              "      <td>0.000753</td>\n",
              "      <td>0.000911</td>\n",
              "      <td>0.000362</td>\n",
              "      <td>0.000465</td>\n",
              "      <td>0.000439</td>\n",
              "      <td>0.000155</td>\n",
              "      <td>0.000928</td>\n",
              "      <td>0.000144</td>\n",
              "      <td>0.000454</td>\n",
              "      <td>0.000451</td>\n",
              "      <td>0.000685</td>\n",
              "      <td>0.000068</td>\n",
              "      <td>0.001077</td>\n",
              "      <td>0.000629</td>\n",
              "      <td>0.000219</td>\n",
              "      <td>0.000526</td>\n",
              "      <td>0.000049</td>\n",
              "      <td>0.000960</td>\n",
              "      <td>-0.000676</td>\n",
              "      <td>0.001465</td>\n",
              "      <td>0.000372</td>\n",
              "      <td>0.000389</td>\n",
              "      <td>0.000313</td>\n",
              "      <td>0.000551</td>\n",
              "      <td>0.000821</td>\n",
              "      <td>0.000367</td>\n",
              "      <td>0.000708</td>\n",
              "      <td>0.000639</td>\n",
              "      <td>0.000406</td>\n",
              "      <td>0.000095</td>\n",
              "      <td>-0.000230</td>\n",
              "    </tr>\n",
              "    <tr>\n",
              "      <th>3</th>\n",
              "      <td>0.001749</td>\n",
              "      <td>0.003090</td>\n",
              "      <td>0.000392</td>\n",
              "      <td>0.002182</td>\n",
              "      <td>0.001256</td>\n",
              "      <td>0.000693</td>\n",
              "      <td>0.000388</td>\n",
              "      <td>0.002374</td>\n",
              "      <td>0.000064</td>\n",
              "      <td>0.001306</td>\n",
              "      <td>0.004043</td>\n",
              "      <td>0.002176</td>\n",
              "      <td>0.002435</td>\n",
              "      <td>0.001978</td>\n",
              "      <td>0.001399</td>\n",
              "      <td>0.000772</td>\n",
              "      <td>0.002281</td>\n",
              "      <td>0.003087</td>\n",
              "      <td>-0.000267</td>\n",
              "      <td>0.001601</td>\n",
              "      <td>0.002134</td>\n",
              "      <td>0.003851</td>\n",
              "      <td>0.001856</td>\n",
              "      <td>0.000721</td>\n",
              "      <td>0.000642</td>\n",
              "      <td>0.001762</td>\n",
              "      <td>0.001439</td>\n",
              "      <td>0.002623</td>\n",
              "      <td>0.001067</td>\n",
              "      <td>0.003436</td>\n",
              "      <td>0.004299</td>\n",
              "      <td>0.001762</td>\n",
              "      <td>0.002803</td>\n",
              "      <td>0.002765</td>\n",
              "      <td>0.001066</td>\n",
              "      <td>0.001093</td>\n",
              "      <td>0.001698</td>\n",
              "      <td>0.003097</td>\n",
              "      <td>0.002309</td>\n",
              "      <td>0.002496</td>\n",
              "      <td>...</td>\n",
              "      <td>0.002785</td>\n",
              "      <td>0.002253</td>\n",
              "      <td>0.001380</td>\n",
              "      <td>0.003123</td>\n",
              "      <td>0.003157</td>\n",
              "      <td>0.001438</td>\n",
              "      <td>-0.008205</td>\n",
              "      <td>0.002651</td>\n",
              "      <td>-0.030343</td>\n",
              "      <td>0.003359</td>\n",
              "      <td>0.004063</td>\n",
              "      <td>0.001617</td>\n",
              "      <td>0.002073</td>\n",
              "      <td>0.001958</td>\n",
              "      <td>0.000692</td>\n",
              "      <td>0.004142</td>\n",
              "      <td>0.000642</td>\n",
              "      <td>0.002028</td>\n",
              "      <td>0.002014</td>\n",
              "      <td>0.003057</td>\n",
              "      <td>0.000302</td>\n",
              "      <td>0.004804</td>\n",
              "      <td>0.002808</td>\n",
              "      <td>0.000979</td>\n",
              "      <td>0.002347</td>\n",
              "      <td>0.000220</td>\n",
              "      <td>0.000354</td>\n",
              "      <td>0.001822</td>\n",
              "      <td>0.006536</td>\n",
              "      <td>0.001659</td>\n",
              "      <td>0.001737</td>\n",
              "      <td>0.001396</td>\n",
              "      <td>0.002457</td>\n",
              "      <td>0.003664</td>\n",
              "      <td>0.001637</td>\n",
              "      <td>0.003161</td>\n",
              "      <td>0.002812</td>\n",
              "      <td>0.001812</td>\n",
              "      <td>0.000423</td>\n",
              "      <td>-0.001025</td>\n",
              "    </tr>\n",
              "  </tbody>\n",
              "</table>\n",
              "<p>4 rows × 355 columns</p>\n",
              "</div>"
            ],
            "text/plain": [
              "   100% Orange Juice  A Story About My Uncle  ...  Youtubers Life  theHunter Classic\n",
              "0           0.000525                0.000928  ...        0.000127          -0.000308\n",
              "1           0.000916                0.001619  ...        0.000221          -0.000537\n",
              "2           0.000392                0.000692  ...        0.000095          -0.000230\n",
              "3           0.001749                0.003090  ...        0.000423          -0.001025\n",
              "\n",
              "[4 rows x 355 columns]"
            ]
          },
          "metadata": {
            "tags": []
          },
          "execution_count": 72
        }
      ]
    },
    {
      "cell_type": "code",
      "metadata": {
        "id": "3JrDZaEUqihv",
        "colab": {
          "base_uri": "https://localhost:8080/"
        },
        "outputId": "082313f1-a1b3-4bca-b98f-6d4d4cb455b8"
      },
      "source": [
        "similar_games.sum().sort_values(ascending=False).head(20)"
      ],
      "execution_count": 73,
      "outputs": [
        {
          "output_type": "execute_result",
          "data": {
            "text/plain": [
              "Who's Your Daddy                 0.033136\n",
              "Ace of Spades: Battle Builder    0.032458\n",
              "Borderlands 2                    0.023528\n",
              "Squad                            0.019059\n",
              "Team Fortress 2                  0.019040\n",
              "Half-Life 2                      0.017805\n",
              "Warframe                         0.013388\n",
              "Portal 2                         0.012138\n",
              "Robocraft                        0.011575\n",
              "DARK SOULS™ III                  0.011202\n",
              "Garry's Mod                      0.010992\n",
              "Starbound                        0.010526\n",
              "Dying Light                      0.010005\n",
              "Undertale                        0.009840\n",
              "Fallout 4                        0.009551\n",
              "SPINTIRES™                       0.009373\n",
              "Saints Row: The Third            0.009309\n",
              "Sid Meier's Civilization® V      0.009123\n",
              "Kerbal Space Program             0.008984\n",
              "Bastion                          0.008806\n",
              "dtype: float64"
            ]
          },
          "metadata": {
            "tags": []
          },
          "execution_count": 73
        }
      ]
    },
    {
      "cell_type": "code",
      "metadata": {
        "id": "DB6-HNjYz2t_",
        "colab": {
          "base_uri": "https://localhost:8080/",
          "height": 262
        },
        "outputId": "6802e284-cd49-48e2-d021-60bedb0da5aa"
      },
      "source": [
        "games = [(\"Call of Duty®: Modern Warfare® 2\",0.6),(\"Battlefield: Bad Company™ 2\",1)]\n",
        "similar_games = pd.DataFrame()\n",
        "for game,rating in games:\n",
        "    similar_games = similar_games.append(get_similar(game,rating),ignore_index = True)\n",
        "\n",
        "similar_games.head(10)"
      ],
      "execution_count": 74,
      "outputs": [
        {
          "output_type": "execute_result",
          "data": {
            "text/html": [
              "<div>\n",
              "<style scoped>\n",
              "    .dataframe tbody tr th:only-of-type {\n",
              "        vertical-align: middle;\n",
              "    }\n",
              "\n",
              "    .dataframe tbody tr th {\n",
              "        vertical-align: top;\n",
              "    }\n",
              "\n",
              "    .dataframe thead th {\n",
              "        text-align: right;\n",
              "    }\n",
              "</style>\n",
              "<table border=\"1\" class=\"dataframe\">\n",
              "  <thead>\n",
              "    <tr style=\"text-align: right;\">\n",
              "      <th></th>\n",
              "      <th>100% Orange Juice</th>\n",
              "      <th>A Story About My Uncle</th>\n",
              "      <th>A.V.A. Alliance of Valiant Arms™</th>\n",
              "      <th>ABZU</th>\n",
              "      <th>APB Reloaded</th>\n",
              "      <th>ARK: Survival Evolved</th>\n",
              "      <th>ARK: Survival Of The Fittest</th>\n",
              "      <th>ASTRONEER</th>\n",
              "      <th>Ace of Spades: Battle Builder</th>\n",
              "      <th>AdVenture Capitalist</th>\n",
              "      <th>Age of Empires II HD</th>\n",
              "      <th>Age of Empires® III: Complete Collection</th>\n",
              "      <th>Alan Wake</th>\n",
              "      <th>Alien Swarm</th>\n",
              "      <th>Alien: Isolation</th>\n",
              "      <th>Aliens vs. Predator™</th>\n",
              "      <th>America's Army: Proving Grounds</th>\n",
              "      <th>American Truck Simulator</th>\n",
              "      <th>Amnesia: The Dark Descent</th>\n",
              "      <th>Antichamber</th>\n",
              "      <th>Arma 2: Operation Arrowhead</th>\n",
              "      <th>Arma 3</th>\n",
              "      <th>Assassin's Creed® Origins</th>\n",
              "      <th>Assassin's Creed® Unity</th>\n",
              "      <th>Assassin’s Creed® III</th>\n",
              "      <th>Assassin’s Creed® IV Black Flag™</th>\n",
              "      <th>Aura Kingdom</th>\n",
              "      <th>Awesomenauts - the 2D moba</th>\n",
              "      <th>BLOCKADE 3D</th>\n",
              "      <th>Banished</th>\n",
              "      <th>Bastion</th>\n",
              "      <th>Batman - The Telltale Series</th>\n",
              "      <th>Batman: Arkham Asylum Game of the Year Edition</th>\n",
              "      <th>Batman™: Arkham Knight</th>\n",
              "      <th>Batman™: Arkham Origins</th>\n",
              "      <th>BattleBlock Theater®</th>\n",
              "      <th>Battleborn</th>\n",
              "      <th>Battlefield: Bad Company™ 2</th>\n",
              "      <th>Battlerite</th>\n",
              "      <th>BeamNG.drive</th>\n",
              "      <th>...</th>\n",
              "      <th>The Stanley Parable</th>\n",
              "      <th>The Talos Principle</th>\n",
              "      <th>The Walking Dead</th>\n",
              "      <th>The Walking Dead: Season 2</th>\n",
              "      <th>The Witcher 2: Assassins of Kings Enhanced Edition</th>\n",
              "      <th>Thief</th>\n",
              "      <th>This War of Mine</th>\n",
              "      <th>Thomas Was Alone</th>\n",
              "      <th>To the Moon</th>\n",
              "      <th>Tom Clancy's Rainbow Six® Siege</th>\n",
              "      <th>Torchlight II</th>\n",
              "      <th>Total War™: ROME II - Emperor Edition</th>\n",
              "      <th>Town of Salem</th>\n",
              "      <th>Train Simulator</th>\n",
              "      <th>Transformice</th>\n",
              "      <th>Transistor</th>\n",
              "      <th>Tree of Savior (English Ver.)</th>\n",
              "      <th>Tribes: Ascend</th>\n",
              "      <th>Trine 2: Complete Story</th>\n",
              "      <th>Trove</th>\n",
              "      <th>Ultra Street Fighter® IV</th>\n",
              "      <th>Undertale</th>\n",
              "      <th>Unturned</th>\n",
              "      <th>VVVVVV</th>\n",
              "      <th>Verdun</th>\n",
              "      <th>WARMODE</th>\n",
              "      <th>Wallpaper Engine</th>\n",
              "      <th>Warface</th>\n",
              "      <th>Warframe</th>\n",
              "      <th>Warhammer: End Times - Vermintide</th>\n",
              "      <th>Watch_Dogs® 2</th>\n",
              "      <th>Who's Your Daddy</th>\n",
              "      <th>Wolfenstein II: The New Colossus</th>\n",
              "      <th>Wolfenstein: The New Order</th>\n",
              "      <th>World of Guns: Gun Disassembly</th>\n",
              "      <th>XCOM: Enemy Unknown</th>\n",
              "      <th>XCOM® 2</th>\n",
              "      <th>Yet Another Zombie Defense</th>\n",
              "      <th>Youtubers Life</th>\n",
              "      <th>theHunter Classic</th>\n",
              "    </tr>\n",
              "  </thead>\n",
              "  <tbody>\n",
              "    <tr>\n",
              "      <th>0</th>\n",
              "      <td>0.000525</td>\n",
              "      <td>0.000928</td>\n",
              "      <td>0.000118</td>\n",
              "      <td>0.000655</td>\n",
              "      <td>0.000377</td>\n",
              "      <td>0.000208</td>\n",
              "      <td>0.000116</td>\n",
              "      <td>0.000713</td>\n",
              "      <td>0.000019</td>\n",
              "      <td>0.000392</td>\n",
              "      <td>0.001214</td>\n",
              "      <td>0.000653</td>\n",
              "      <td>0.000731</td>\n",
              "      <td>0.000594</td>\n",
              "      <td>0.000420</td>\n",
              "      <td>0.000232</td>\n",
              "      <td>0.000685</td>\n",
              "      <td>0.000927</td>\n",
              "      <td>-0.00008</td>\n",
              "      <td>0.000481</td>\n",
              "      <td>0.000641</td>\n",
              "      <td>0.001156</td>\n",
              "      <td>0.000557</td>\n",
              "      <td>0.000217</td>\n",
              "      <td>0.000193</td>\n",
              "      <td>0.000529</td>\n",
              "      <td>0.000432</td>\n",
              "      <td>0.000788</td>\n",
              "      <td>0.000320</td>\n",
              "      <td>0.001032</td>\n",
              "      <td>0.001291</td>\n",
              "      <td>0.000529</td>\n",
              "      <td>0.000842</td>\n",
              "      <td>0.00083</td>\n",
              "      <td>0.000320</td>\n",
              "      <td>0.000328</td>\n",
              "      <td>0.00051</td>\n",
              "      <td>0.00093</td>\n",
              "      <td>0.000693</td>\n",
              "      <td>0.000750</td>\n",
              "      <td>...</td>\n",
              "      <td>0.000836</td>\n",
              "      <td>0.000677</td>\n",
              "      <td>0.000414</td>\n",
              "      <td>0.000938</td>\n",
              "      <td>0.000948</td>\n",
              "      <td>0.000432</td>\n",
              "      <td>0.000123</td>\n",
              "      <td>0.000796</td>\n",
              "      <td>0.000828</td>\n",
              "      <td>0.001009</td>\n",
              "      <td>0.001220</td>\n",
              "      <td>0.000486</td>\n",
              "      <td>0.000623</td>\n",
              "      <td>0.000588</td>\n",
              "      <td>0.000208</td>\n",
              "      <td>0.001244</td>\n",
              "      <td>0.000193</td>\n",
              "      <td>0.000609</td>\n",
              "      <td>0.000605</td>\n",
              "      <td>0.000918</td>\n",
              "      <td>0.000091</td>\n",
              "      <td>0.001442</td>\n",
              "      <td>0.000843</td>\n",
              "      <td>0.000294</td>\n",
              "      <td>0.000705</td>\n",
              "      <td>0.000066</td>\n",
              "      <td>0.001287</td>\n",
              "      <td>0.000547</td>\n",
              "      <td>0.001963</td>\n",
              "      <td>0.000498</td>\n",
              "      <td>0.000521</td>\n",
              "      <td>0.000419</td>\n",
              "      <td>0.000738</td>\n",
              "      <td>0.001100</td>\n",
              "      <td>0.000491</td>\n",
              "      <td>0.000949</td>\n",
              "      <td>0.000856</td>\n",
              "      <td>0.000544</td>\n",
              "      <td>0.000127</td>\n",
              "      <td>-0.000308</td>\n",
              "    </tr>\n",
              "    <tr>\n",
              "      <th>1</th>\n",
              "      <td>0.000392</td>\n",
              "      <td>0.000692</td>\n",
              "      <td>0.000088</td>\n",
              "      <td>0.000489</td>\n",
              "      <td>0.000282</td>\n",
              "      <td>0.000155</td>\n",
              "      <td>0.000087</td>\n",
              "      <td>0.000532</td>\n",
              "      <td>0.000014</td>\n",
              "      <td>0.000293</td>\n",
              "      <td>0.000906</td>\n",
              "      <td>0.000488</td>\n",
              "      <td>0.000546</td>\n",
              "      <td>0.000443</td>\n",
              "      <td>0.000314</td>\n",
              "      <td>0.000173</td>\n",
              "      <td>0.000511</td>\n",
              "      <td>0.000692</td>\n",
              "      <td>-0.00006</td>\n",
              "      <td>0.000359</td>\n",
              "      <td>0.000478</td>\n",
              "      <td>0.000863</td>\n",
              "      <td>0.000416</td>\n",
              "      <td>0.000162</td>\n",
              "      <td>0.000144</td>\n",
              "      <td>0.000395</td>\n",
              "      <td>0.000322</td>\n",
              "      <td>0.000588</td>\n",
              "      <td>0.000239</td>\n",
              "      <td>0.000770</td>\n",
              "      <td>0.000963</td>\n",
              "      <td>0.000395</td>\n",
              "      <td>0.000628</td>\n",
              "      <td>0.00062</td>\n",
              "      <td>0.000239</td>\n",
              "      <td>0.000245</td>\n",
              "      <td>0.00038</td>\n",
              "      <td>-1.50000</td>\n",
              "      <td>0.000517</td>\n",
              "      <td>0.000559</td>\n",
              "      <td>...</td>\n",
              "      <td>0.000624</td>\n",
              "      <td>0.000505</td>\n",
              "      <td>0.000309</td>\n",
              "      <td>0.000700</td>\n",
              "      <td>0.000707</td>\n",
              "      <td>0.000322</td>\n",
              "      <td>0.000092</td>\n",
              "      <td>0.000594</td>\n",
              "      <td>0.000618</td>\n",
              "      <td>0.000753</td>\n",
              "      <td>0.000911</td>\n",
              "      <td>0.000362</td>\n",
              "      <td>0.000465</td>\n",
              "      <td>0.000439</td>\n",
              "      <td>0.000155</td>\n",
              "      <td>0.000928</td>\n",
              "      <td>0.000144</td>\n",
              "      <td>0.000454</td>\n",
              "      <td>0.000451</td>\n",
              "      <td>0.000685</td>\n",
              "      <td>0.000068</td>\n",
              "      <td>0.001077</td>\n",
              "      <td>0.000629</td>\n",
              "      <td>0.000219</td>\n",
              "      <td>0.000526</td>\n",
              "      <td>0.000049</td>\n",
              "      <td>0.000960</td>\n",
              "      <td>-0.000676</td>\n",
              "      <td>0.001465</td>\n",
              "      <td>0.000372</td>\n",
              "      <td>0.000389</td>\n",
              "      <td>0.000313</td>\n",
              "      <td>0.000551</td>\n",
              "      <td>0.000821</td>\n",
              "      <td>0.000367</td>\n",
              "      <td>0.000708</td>\n",
              "      <td>0.000639</td>\n",
              "      <td>0.000406</td>\n",
              "      <td>0.000095</td>\n",
              "      <td>-0.000230</td>\n",
              "    </tr>\n",
              "  </tbody>\n",
              "</table>\n",
              "<p>2 rows × 355 columns</p>\n",
              "</div>"
            ],
            "text/plain": [
              "   100% Orange Juice  A Story About My Uncle  ...  Youtubers Life  theHunter Classic\n",
              "0           0.000525                0.000928  ...        0.000127          -0.000308\n",
              "1           0.000392                0.000692  ...        0.000095          -0.000230\n",
              "\n",
              "[2 rows x 355 columns]"
            ]
          },
          "metadata": {
            "tags": []
          },
          "execution_count": 74
        }
      ]
    },
    {
      "cell_type": "code",
      "metadata": {
        "id": "vbhMqoWpsQwy",
        "colab": {
          "base_uri": "https://localhost:8080/"
        },
        "outputId": "a640d6bc-8d51-4ead-e1fb-35c0dadafee3"
      },
      "source": [
        "similar_games.sum().sort_values(ascending=False).head(20)"
      ],
      "execution_count": 75,
      "outputs": [
        {
          "output_type": "execute_result",
          "data": {
            "text/plain": [
              "Squad                          0.016949\n",
              "SPORE™                         0.006229\n",
              "Team Fortress 2                0.004874\n",
              "Borderlands 2                  0.004007\n",
              "Life is Strange - Episode 1    0.003507\n",
              "Portal 2                       0.003447\n",
              "Warframe                       0.003427\n",
              "Robocraft                      0.002963\n",
              "Starbound                      0.002695\n",
              "Garry's Mod                    0.002582\n",
              "Dying Light                    0.002561\n",
              "Undertale                      0.002519\n",
              "Sid Meier's Civilization® V    0.002335\n",
              "Kerbal Space Program           0.002300\n",
              "Half-Life 2                    0.002291\n",
              "Euro Truck Simulator 2         0.002278\n",
              "Bastion                        0.002254\n",
              "Wallpaper Engine               0.002247\n",
              "Transistor                     0.002172\n",
              "Mount &amp; Blade: Warband     0.002153\n",
              "dtype: float64"
            ]
          },
          "metadata": {
            "tags": []
          },
          "execution_count": 75
        }
      ]
    },
    {
      "cell_type": "code",
      "metadata": {
        "id": "5KPWgvq2Wi-D"
      },
      "source": [
        "x = similar_games.sum().sort_values(ascending=False).head(20)"
      ],
      "execution_count": 263,
      "outputs": []
    },
    {
      "cell_type": "code",
      "metadata": {
        "colab": {
          "base_uri": "https://localhost:8080/",
          "height": 669
        },
        "id": "oKy4sRIaWkS0",
        "outputId": "3a7116ad-1e6e-46a0-c6a4-cfa7d55c0663"
      },
      "source": [
        "x = x.to_frame()\n",
        "x"
      ],
      "execution_count": 264,
      "outputs": [
        {
          "output_type": "execute_result",
          "data": {
            "text/html": [
              "<div>\n",
              "<style scoped>\n",
              "    .dataframe tbody tr th:only-of-type {\n",
              "        vertical-align: middle;\n",
              "    }\n",
              "\n",
              "    .dataframe tbody tr th {\n",
              "        vertical-align: top;\n",
              "    }\n",
              "\n",
              "    .dataframe thead th {\n",
              "        text-align: right;\n",
              "    }\n",
              "</style>\n",
              "<table border=\"1\" class=\"dataframe\">\n",
              "  <thead>\n",
              "    <tr style=\"text-align: right;\">\n",
              "      <th></th>\n",
              "      <th>0</th>\n",
              "    </tr>\n",
              "  </thead>\n",
              "  <tbody>\n",
              "    <tr>\n",
              "      <th>Batman: Arkham Asylum Game of the Year Edition</th>\n",
              "      <td>0.053317</td>\n",
              "    </tr>\n",
              "    <tr>\n",
              "      <th>Call of Duty® 4: Modern Warfare®</th>\n",
              "      <td>0.021706</td>\n",
              "    </tr>\n",
              "    <tr>\n",
              "      <th>Euro Truck Simulator 2</th>\n",
              "      <td>0.013622</td>\n",
              "    </tr>\n",
              "    <tr>\n",
              "      <th>Team Fortress 2</th>\n",
              "      <td>0.004280</td>\n",
              "    </tr>\n",
              "    <tr>\n",
              "      <th>The Long Dark</th>\n",
              "      <td>0.003869</td>\n",
              "    </tr>\n",
              "    <tr>\n",
              "      <th>Portal 2</th>\n",
              "      <td>0.003392</td>\n",
              "    </tr>\n",
              "    <tr>\n",
              "      <th>Garry's Mod</th>\n",
              "      <td>0.003085</td>\n",
              "    </tr>\n",
              "    <tr>\n",
              "      <th>Borderlands 2</th>\n",
              "      <td>0.002821</td>\n",
              "    </tr>\n",
              "    <tr>\n",
              "      <th>Cuphead</th>\n",
              "      <td>0.002726</td>\n",
              "    </tr>\n",
              "    <tr>\n",
              "      <th>Life is Strange - Episode 1</th>\n",
              "      <td>0.002725</td>\n",
              "    </tr>\n",
              "    <tr>\n",
              "      <th>Undertale</th>\n",
              "      <td>0.002271</td>\n",
              "    </tr>\n",
              "    <tr>\n",
              "      <th>Warframe</th>\n",
              "      <td>0.002203</td>\n",
              "    </tr>\n",
              "    <tr>\n",
              "      <th>Arma 3</th>\n",
              "      <td>0.002195</td>\n",
              "    </tr>\n",
              "    <tr>\n",
              "      <th>Transistor</th>\n",
              "      <td>0.002086</td>\n",
              "    </tr>\n",
              "    <tr>\n",
              "      <th>Half-Life 2</th>\n",
              "      <td>0.002060</td>\n",
              "    </tr>\n",
              "    <tr>\n",
              "      <th>Mount &amp;amp; Blade: Warband</th>\n",
              "      <td>0.002003</td>\n",
              "    </tr>\n",
              "    <tr>\n",
              "      <th>Sid Meier's Civilization® V</th>\n",
              "      <td>0.001976</td>\n",
              "    </tr>\n",
              "    <tr>\n",
              "      <th>Counter-Strike: Source</th>\n",
              "      <td>0.001939</td>\n",
              "    </tr>\n",
              "    <tr>\n",
              "      <th>Robocraft</th>\n",
              "      <td>0.001813</td>\n",
              "    </tr>\n",
              "    <tr>\n",
              "      <th>Divinity: Original Sin 2</th>\n",
              "      <td>0.001806</td>\n",
              "    </tr>\n",
              "  </tbody>\n",
              "</table>\n",
              "</div>"
            ],
            "text/plain": [
              "                                                       0\n",
              "Batman: Arkham Asylum Game of the Year Edition  0.053317\n",
              "Call of Duty® 4: Modern Warfare®                0.021706\n",
              "Euro Truck Simulator 2                          0.013622\n",
              "Team Fortress 2                                 0.004280\n",
              "The Long Dark                                   0.003869\n",
              "Portal 2                                        0.003392\n",
              "Garry's Mod                                     0.003085\n",
              "Borderlands 2                                   0.002821\n",
              "Cuphead                                         0.002726\n",
              "Life is Strange - Episode 1                     0.002725\n",
              "Undertale                                       0.002271\n",
              "Warframe                                        0.002203\n",
              "Arma 3                                          0.002195\n",
              "Transistor                                      0.002086\n",
              "Half-Life 2                                     0.002060\n",
              "Mount &amp; Blade: Warband                      0.002003\n",
              "Sid Meier's Civilization® V                     0.001976\n",
              "Counter-Strike: Source                          0.001939\n",
              "Robocraft                                       0.001813\n",
              "Divinity: Original Sin 2                        0.001806"
            ]
          },
          "metadata": {
            "tags": []
          },
          "execution_count": 264
        }
      ]
    },
    {
      "cell_type": "code",
      "metadata": {
        "colab": {
          "base_uri": "https://localhost:8080/",
          "height": 97
        },
        "id": "BncBbBcfWTYx",
        "outputId": "47e727f6-1e44-442a-979b-870929101160"
      },
      "source": [
        "usuario = df_sub[df_sub['username'] == '123']\n",
        "usuario.head(1)"
      ],
      "execution_count": 265,
      "outputs": [
        {
          "output_type": "execute_result",
          "data": {
            "text/html": [
              "<div>\n",
              "<style scoped>\n",
              "    .dataframe tbody tr th:only-of-type {\n",
              "        vertical-align: middle;\n",
              "    }\n",
              "\n",
              "    .dataframe tbody tr th {\n",
              "        vertical-align: top;\n",
              "    }\n",
              "\n",
              "    .dataframe thead th {\n",
              "        text-align: right;\n",
              "    }\n",
              "</style>\n",
              "<table border=\"1\" class=\"dataframe\">\n",
              "  <thead>\n",
              "    <tr style=\"text-align: right;\">\n",
              "      <th></th>\n",
              "      <th>username</th>\n",
              "      <th>product_id</th>\n",
              "      <th>genres</th>\n",
              "      <th>title</th>\n",
              "      <th>tags</th>\n",
              "      <th>xtext</th>\n",
              "      <th>#username</th>\n",
              "      <th>polarity</th>\n",
              "      <th>subjectivity</th>\n",
              "    </tr>\n",
              "  </thead>\n",
              "  <tbody>\n",
              "    <tr>\n",
              "      <th>1032</th>\n",
              "      <td>123</td>\n",
              "      <td>35450</td>\n",
              "      <td>['Action', 'Massively Multiplayer', 'Simulation']</td>\n",
              "      <td>Red Orchestra 2: Heroes of Stalingrad with Ris...</td>\n",
              "      <td>['Realistic', 'World War II', 'FPS', 'Multipla...</td>\n",
              "      <td>BEST GAME</td>\n",
              "      <td>3808</td>\n",
              "      <td>0.3</td>\n",
              "      <td>0.35</td>\n",
              "    </tr>\n",
              "  </tbody>\n",
              "</table>\n",
              "</div>"
            ],
            "text/plain": [
              "     username  product_id  ... polarity subjectivity\n",
              "1032      123       35450  ...      0.3         0.35\n",
              "\n",
              "[1 rows x 9 columns]"
            ]
          },
          "metadata": {
            "tags": []
          },
          "execution_count": 265
        }
      ]
    },
    {
      "cell_type": "code",
      "metadata": {
        "colab": {
          "base_uri": "https://localhost:8080/"
        },
        "id": "FyER-6gvqkwG",
        "outputId": "a61a0228-749d-4a9f-e04d-f47d8ee30741"
      },
      "source": [
        "usuario.shape"
      ],
      "execution_count": 266,
      "outputs": [
        {
          "output_type": "execute_result",
          "data": {
            "text/plain": [
              "(7, 9)"
            ]
          },
          "metadata": {
            "tags": []
          },
          "execution_count": 266
        }
      ]
    },
    {
      "cell_type": "code",
      "metadata": {
        "colab": {
          "base_uri": "https://localhost:8080/"
        },
        "id": "sG0cAqox-que",
        "outputId": "c19b78d2-def1-4382-f347-fcdd1a4de721"
      },
      "source": [
        "x.shape"
      ],
      "execution_count": 270,
      "outputs": [
        {
          "output_type": "execute_result",
          "data": {
            "text/plain": [
              "(20, 1)"
            ]
          },
          "metadata": {
            "tags": []
          },
          "execution_count": 270
        }
      ]
    },
    {
      "cell_type": "code",
      "metadata": {
        "id": "5l9mwlgIpKtt"
      },
      "source": [
        "#Elimino los juegos que el usuario ya ha jugado\n",
        "for i in x.index:\n",
        "  name = i\n",
        "  x.drop(usuario[usuario['title'] == name ].index, inplace=True)"
      ],
      "execution_count": 271,
      "outputs": []
    },
    {
      "cell_type": "code",
      "metadata": {
        "colab": {
          "base_uri": "https://localhost:8080/"
        },
        "id": "T8Vr2Lsv-yJJ",
        "outputId": "ce132581-702d-433e-e033-a0f801e8e8b5"
      },
      "source": [
        "x.shape"
      ],
      "execution_count": 272,
      "outputs": [
        {
          "output_type": "execute_result",
          "data": {
            "text/plain": [
              "(20, 1)"
            ]
          },
          "metadata": {
            "tags": []
          },
          "execution_count": 272
        }
      ]
    },
    {
      "cell_type": "code",
      "metadata": {
        "id": "sRLygQC_25lF"
      },
      "source": [
        "def get_random_game():\n",
        "  all_games = data_games[['id', 'title']]\n",
        "  x = int(np.random.randint(df_sub.shape[0], size=1))\n",
        "  x = df_sub.username.iloc[x]\n",
        "  usuario = df[df['username'] == x]\n",
        "  print('--> El usuario ha jugado: ',usuario.shape[0], 'videojuegos')\n",
        "  for i in usuario.title:\n",
        "    game = i\n",
        "    all_games.drop(all_games[all_games['title'] == game ].index, inplace=True)\n",
        "    \n",
        "  game = df_sub.title.iloc[int(np.random.randint(df_sub.shape[0], size=1))]\n",
        "  print(' * Videjuego seleccionado:', game)\n",
        "\n",
        "  rating = str(input('--> Ingrese la review del videojuego: '))\n",
        "  rating = TextBlob(rating).polarity\n",
        "\n",
        "  similar_games = pd.DataFrame()\n",
        "  similar_games = similar_games.append(get_similar(game,rating),ignore_index = True)\n",
        "  x = similar_games.sum().sort_values(ascending=False).head(10)\n",
        "\n",
        "  #Elimino los juegos que el usuario ya ha jugado\n",
        "  for i in x.index:\n",
        "    name = i\n",
        "    usuario.drop(usuario[usuario['title'] == name ].index, inplace=True)\n",
        "\n",
        "  print('<------------------------->')\n",
        "  print(\"Nuestra recomendaciones para usted: \\n\")\n",
        "  for i in x.index:\n",
        "    print(i)"
      ],
      "execution_count": 79,
      "outputs": []
    },
    {
      "cell_type": "code",
      "metadata": {
        "colab": {
          "base_uri": "https://localhost:8080/"
        },
        "id": "G_5pycuM567c",
        "outputId": "5d2f5b78-6fd0-44f4-d96d-dde58f9da8cf"
      },
      "source": [
        "get_random_game()"
      ],
      "execution_count": 83,
      "outputs": [
        {
          "output_type": "stream",
          "text": [
            "--> El usuario ha jugado:  1 videojuegos\n",
            " * Videjuego seleccionado: A.V.A. Alliance of Valiant Arms™\n",
            "--> Ingrese la review del videojuego: \n",
            "best game ever\n",
            "<------------------------->\n",
            "Nuestra recomendaciones para usted: \n",
            "\n",
            "Life is Feudal: Your Own\n",
            "Starbound\n",
            "Team Fortress 2\n",
            "Borderlands 2\n",
            "Life is Strange - Episode 1\n",
            "Portal 2\n",
            "Warframe\n",
            "Robocraft\n",
            "Garry's Mod\n",
            "Dying Light\n"
          ],
          "name": "stdout"
        }
      ]
    },
    {
      "cell_type": "markdown",
      "metadata": {
        "id": "IEPvJs86FNoV"
      },
      "source": [
        "Falta emplear un dataframe en donde solo se encuentren los viejuegos con reviews mayores a 30 aparciciones"
      ]
    }
  ]
}