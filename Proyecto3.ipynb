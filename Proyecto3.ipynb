{
  "nbformat": 4,
  "nbformat_minor": 0,
  "metadata": {
    "colab": {
      "name": "Proyecto3.ipynb",
      "provenance": [],
      "collapsed_sections": [
        "jBJWqaW7u7SV",
        "N8rHZyDPFsMY"
      ],
      "mount_file_id": "1ahp042009K1w10hHBr-g8pTtrlLzYwvK",
      "authorship_tag": "ABX9TyMo0mtWqg1Bcg2xhSdByIHS"
    },
    "kernelspec": {
      "name": "python3",
      "display_name": "Python 3"
    }
  },
  "cells": [
    {
      "cell_type": "code",
      "metadata": {
        "colab": {
          "base_uri": "https://localhost:8080/"
        },
        "id": "QYVLd7rvIZDd",
        "outputId": "aaa03a97-485e-4a35-a9ad-8a563c279684"
      },
      "source": [
        "pip install scikit-surprise"
      ],
      "execution_count": 1,
      "outputs": [
        {
          "output_type": "stream",
          "text": [
            "Requirement already satisfied: scikit-surprise in /usr/local/lib/python3.6/dist-packages (1.1.1)\n",
            "Requirement already satisfied: numpy>=1.11.2 in /usr/local/lib/python3.6/dist-packages (from scikit-surprise) (1.18.5)\n",
            "Requirement already satisfied: scipy>=1.0.0 in /usr/local/lib/python3.6/dist-packages (from scikit-surprise) (1.4.1)\n",
            "Requirement already satisfied: joblib>=0.11 in /usr/local/lib/python3.6/dist-packages (from scikit-surprise) (0.17.0)\n",
            "Requirement already satisfied: six>=1.10.0 in /usr/local/lib/python3.6/dist-packages (from scikit-surprise) (1.15.0)\n"
          ],
          "name": "stdout"
        }
      ]
    },
    {
      "cell_type": "code",
      "metadata": {
        "id": "Nd53xcCqKUpV",
        "colab": {
          "base_uri": "https://localhost:8080/"
        },
        "outputId": "603a4a03-c510-46e3-e7ee-511bc5dcd947"
      },
      "source": [
        "import numpy as np\n",
        "import pandas as pd\n",
        "import matplotlib.pyplot as plt\n",
        "import seaborn as sns\n",
        "sns.set()\n",
        "\n",
        "import string \n",
        "import datetime\n",
        "import gzip\n",
        "\n",
        "from textblob import TextBlob\n",
        "\n",
        "import nltk\n",
        "nltk.download('punkt')\n",
        "nltk.download('stopwords')\n",
        "from nltk.corpus import stopwords\n",
        "from sklearn.metrics.pairwise import linear_kernel\n",
        "from sklearn.feature_extraction.text import TfidfVectorizer\n",
        "\n",
        "import warnings\n",
        "warnings.filterwarnings('ignore')"
      ],
      "execution_count": 2,
      "outputs": [
        {
          "output_type": "stream",
          "text": [
            "[nltk_data] Downloading package punkt to /root/nltk_data...\n",
            "[nltk_data]   Package punkt is already up-to-date!\n",
            "[nltk_data] Downloading package stopwords to /root/nltk_data...\n",
            "[nltk_data]   Package stopwords is already up-to-date!\n"
          ],
          "name": "stdout"
        }
      ]
    },
    {
      "cell_type": "code",
      "metadata": {
        "id": "jpFaP4s0I7_Z"
      },
      "source": [
        "from surprise import Dataset\n",
        "from surprise import Reader\n",
        "from surprise.model_selection import train_test_split"
      ],
      "execution_count": 3,
      "outputs": []
    },
    {
      "cell_type": "code",
      "metadata": {
        "id": "TWj6Sw20SUT4"
      },
      "source": [
        "def parse(path):\n",
        "    g = gzip.open(path, 'r')\n",
        "    for l in g:\n",
        "        yield eval(l)"
      ],
      "execution_count": 4,
      "outputs": []
    },
    {
      "cell_type": "code",
      "metadata": {
        "id": "OjmirkGnSc2b"
      },
      "source": [
        "url_review = '/content/drive/My Drive/Data/steam_reviews.json.gz'\n",
        "contador = 0\n",
        "data_reviews = []\n",
        "# Vamos a guardar una de cada 10 reviews para no llenar la memoria RAM. Si pones n = 3, \n",
        "# abrira uno de cada tres, y asi.\n",
        "n = 15\n",
        "for l in parse(url_review):\n",
        "    if contador%n == 0:\n",
        "        data_reviews.append(l)\n",
        "    else:\n",
        "        pass\n",
        "    contador += 1\n",
        "\n",
        "data_reviews = pd.DataFrame(data_reviews)"
      ],
      "execution_count": 5,
      "outputs": []
    },
    {
      "cell_type": "code",
      "metadata": {
        "id": "Tx6oE_jOzUfZ"
      },
      "source": [
        "url_games = '/content/drive/My Drive/Data/steam_games.json.gz'\n",
        "data_games = []\n",
        "for l in parse(url_games):\n",
        "    data_games.append(l)\n",
        "data_games = pd.DataFrame(data_games)"
      ],
      "execution_count": 6,
      "outputs": []
    },
    {
      "cell_type": "markdown",
      "metadata": {
        "id": "G01Aoe_F09UB"
      },
      "source": [
        "https://towardsdatascience.com/steam-recommendation-systems-4358917288eb"
      ]
    },
    {
      "cell_type": "markdown",
      "metadata": {
        "id": "aY2fodU1akiM"
      },
      "source": [
        "# Parte A Procesamiento de datos"
      ]
    },
    {
      "cell_type": "markdown",
      "metadata": {
        "id": "wmhdnBAPelW3"
      },
      "source": [
        "## Reviews"
      ]
    },
    {
      "cell_type": "code",
      "metadata": {
        "id": "9bhA0PfxT_MB",
        "colab": {
          "base_uri": "https://localhost:8080/",
          "height": 261
        },
        "outputId": "b347972c-ef4c-4aff-f234-0bb222efa6e5"
      },
      "source": [
        "data_reviews.head(4)"
      ],
      "execution_count": 7,
      "outputs": [
        {
          "output_type": "execute_result",
          "data": {
            "text/html": [
              "<div>\n",
              "<style scoped>\n",
              "    .dataframe tbody tr th:only-of-type {\n",
              "        vertical-align: middle;\n",
              "    }\n",
              "\n",
              "    .dataframe tbody tr th {\n",
              "        vertical-align: top;\n",
              "    }\n",
              "\n",
              "    .dataframe thead th {\n",
              "        text-align: right;\n",
              "    }\n",
              "</style>\n",
              "<table border=\"1\" class=\"dataframe\">\n",
              "  <thead>\n",
              "    <tr style=\"text-align: right;\">\n",
              "      <th></th>\n",
              "      <th>username</th>\n",
              "      <th>hours</th>\n",
              "      <th>products</th>\n",
              "      <th>product_id</th>\n",
              "      <th>page_order</th>\n",
              "      <th>date</th>\n",
              "      <th>text</th>\n",
              "      <th>early_access</th>\n",
              "      <th>page</th>\n",
              "      <th>user_id</th>\n",
              "      <th>compensation</th>\n",
              "      <th>found_funny</th>\n",
              "    </tr>\n",
              "  </thead>\n",
              "  <tbody>\n",
              "    <tr>\n",
              "      <th>0</th>\n",
              "      <td>Chaos Syren</td>\n",
              "      <td>0.1</td>\n",
              "      <td>41.0</td>\n",
              "      <td>725280</td>\n",
              "      <td>0</td>\n",
              "      <td>2017-12-17</td>\n",
              "      <td>This would not be acceptable as an entertainme...</td>\n",
              "      <td>False</td>\n",
              "      <td>1</td>\n",
              "      <td>NaN</td>\n",
              "      <td>NaN</td>\n",
              "      <td>NaN</td>\n",
              "    </tr>\n",
              "    <tr>\n",
              "      <th>1</th>\n",
              "      <td>Duha Nubie</td>\n",
              "      <td>11.3</td>\n",
              "      <td>73.0</td>\n",
              "      <td>35140</td>\n",
              "      <td>4</td>\n",
              "      <td>2018-01-03</td>\n",
              "      <td>first debut feel sweet</td>\n",
              "      <td>False</td>\n",
              "      <td>1</td>\n",
              "      <td>NaN</td>\n",
              "      <td>NaN</td>\n",
              "      <td>NaN</td>\n",
              "    </tr>\n",
              "    <tr>\n",
              "      <th>2</th>\n",
              "      <td>The_Cpt_FROGGY</td>\n",
              "      <td>7.8</td>\n",
              "      <td>2217.0</td>\n",
              "      <td>631920</td>\n",
              "      <td>0</td>\n",
              "      <td>2017-12-11</td>\n",
              "      <td>Somewhere on Zibylon:\\n~~~~~~~~~~~~~~~~~~\\nZib...</td>\n",
              "      <td>False</td>\n",
              "      <td>1</td>\n",
              "      <td>76561198003030375</td>\n",
              "      <td>Product received for free</td>\n",
              "      <td>NaN</td>\n",
              "    </tr>\n",
              "    <tr>\n",
              "      <th>3</th>\n",
              "      <td>S0YxSauCe</td>\n",
              "      <td>0.3</td>\n",
              "      <td>902.0</td>\n",
              "      <td>671270</td>\n",
              "      <td>4</td>\n",
              "      <td>2017-07-10</td>\n",
              "      <td>Easy game. All you have to do is put the hat t...</td>\n",
              "      <td>False</td>\n",
              "      <td>1</td>\n",
              "      <td>NaN</td>\n",
              "      <td>NaN</td>\n",
              "      <td>NaN</td>\n",
              "    </tr>\n",
              "  </tbody>\n",
              "</table>\n",
              "</div>"
            ],
            "text/plain": [
              "         username  hours  ...               compensation found_funny\n",
              "0     Chaos Syren    0.1  ...                        NaN         NaN\n",
              "1      Duha Nubie   11.3  ...                        NaN         NaN\n",
              "2  The_Cpt_FROGGY    7.8  ...  Product received for free         NaN\n",
              "3       S0YxSauCe    0.3  ...                        NaN         NaN\n",
              "\n",
              "[4 rows x 12 columns]"
            ]
          },
          "metadata": {
            "tags": []
          },
          "execution_count": 7
        }
      ]
    },
    {
      "cell_type": "code",
      "metadata": {
        "id": "I0huyNX7UB3E",
        "colab": {
          "base_uri": "https://localhost:8080/"
        },
        "outputId": "a20cf1b3-7d0a-47cc-dc07-42b51387aa53"
      },
      "source": [
        "data_reviews.shape"
      ],
      "execution_count": 8,
      "outputs": [
        {
          "output_type": "execute_result",
          "data": {
            "text/plain": [
              "(519538, 12)"
            ]
          },
          "metadata": {
            "tags": []
          },
          "execution_count": 8
        }
      ]
    },
    {
      "cell_type": "code",
      "metadata": {
        "colab": {
          "base_uri": "https://localhost:8080/"
        },
        "id": "NrmIuwWVvFeN",
        "outputId": "cbbcba86-57a4-421c-ae33-283878246bd1"
      },
      "source": [
        "data_reviews.dtypes"
      ],
      "execution_count": 9,
      "outputs": [
        {
          "output_type": "execute_result",
          "data": {
            "text/plain": [
              "username         object\n",
              "hours           float64\n",
              "products        float64\n",
              "product_id       object\n",
              "page_order        int64\n",
              "date             object\n",
              "text             object\n",
              "early_access       bool\n",
              "page              int64\n",
              "user_id          object\n",
              "compensation     object\n",
              "found_funny     float64\n",
              "dtype: object"
            ]
          },
          "metadata": {
            "tags": []
          },
          "execution_count": 9
        }
      ]
    },
    {
      "cell_type": "code",
      "metadata": {
        "id": "Ceo8n9KuQN51"
      },
      "source": [
        "#Elimino columnas\n",
        "data_reviews.drop(['page_order', 'page',\n",
        "                   'early_access', 'compensation', 'found_funny',\n",
        "                   'products', 'user_id'],\n",
        "                   axis=1, inplace=True)"
      ],
      "execution_count": 10,
      "outputs": []
    },
    {
      "cell_type": "code",
      "metadata": {
        "id": "IeDqcGAVhu1i"
      },
      "source": [
        "#Convertir a string columnas\n",
        "columnas = ['username', 'text']\n",
        "for i in columnas:\n",
        "  data_reviews[i] = data_reviews[i].astype('string')\n",
        "\n",
        "#Convertir a int64 columna product_id\n",
        "data_reviews['product_id'] = data_reviews['product_id'].astype('int64')\n",
        "\n",
        "#Conversion a tipo datetime64\n",
        "data_reviews['Fecha'] = pd.to_datetime(data_reviews['date'])\n",
        "data_reviews['Year'] = data_reviews['Fecha'].dt.year            #Nueva columna con el año del review\n",
        "data_reviews['month'] = data_reviews['Fecha'].dt.month          #Nueva columna con el mes del review"
      ],
      "execution_count": 11,
      "outputs": []
    },
    {
      "cell_type": "code",
      "metadata": {
        "id": "A-e77rJMhumc"
      },
      "source": [
        "#Elimino reviews duplicadas del mismo usuario para el mismo videojuego, dejando la mas reciente\n",
        "data_reviews.drop_duplicates(subset=['username', 'product_id'], keep='first', inplace=True)"
      ],
      "execution_count": 12,
      "outputs": []
    },
    {
      "cell_type": "code",
      "metadata": {
        "id": "InmydCcPk_7_"
      },
      "source": [
        "def valores_nulos(data):\n",
        "  print('<-- Porcentaje de valores nulos -->\\n')\n",
        "  print(data.isnull().sum() / data.shape[0] * 100)"
      ],
      "execution_count": 13,
      "outputs": []
    },
    {
      "cell_type": "code",
      "metadata": {
        "colab": {
          "base_uri": "https://localhost:8080/"
        },
        "id": "BmYKavKGkV-2",
        "outputId": "c2858aa7-34ce-48e9-ee01-850274421387"
      },
      "source": [
        "valores_nulos(data_reviews)"
      ],
      "execution_count": 14,
      "outputs": [
        {
          "output_type": "stream",
          "text": [
            "<-- Porcentaje de valores nulos -->\n",
            "\n",
            "username      0.000000\n",
            "hours         0.341593\n",
            "product_id    0.000000\n",
            "date          0.000000\n",
            "text          0.000000\n",
            "Fecha         0.000000\n",
            "Year          0.000000\n",
            "month         0.000000\n",
            "dtype: float64\n"
          ],
          "name": "stdout"
        }
      ]
    },
    {
      "cell_type": "markdown",
      "metadata": {
        "id": "QsCmiyPeCZv8"
      },
      "source": [
        " ## Info Games"
      ]
    },
    {
      "cell_type": "code",
      "metadata": {
        "colab": {
          "base_uri": "https://localhost:8080/"
        },
        "id": "pMzdad6Jv-AS",
        "outputId": "13b1fb33-972e-443f-eda5-80282dc7a374"
      },
      "source": [
        "data_games.shape"
      ],
      "execution_count": 15,
      "outputs": [
        {
          "output_type": "execute_result",
          "data": {
            "text/plain": [
              "(32135, 16)"
            ]
          },
          "metadata": {
            "tags": []
          },
          "execution_count": 15
        }
      ]
    },
    {
      "cell_type": "code",
      "metadata": {
        "colab": {
          "base_uri": "https://localhost:8080/"
        },
        "id": "JhKrNmdxeT7F",
        "outputId": "a1273105-b1d1-4e7f-875b-366a7b37c461"
      },
      "source": [
        "data_games.dtypes"
      ],
      "execution_count": 16,
      "outputs": [
        {
          "output_type": "execute_result",
          "data": {
            "text/plain": [
              "publisher          object\n",
              "genres             object\n",
              "app_name           object\n",
              "title              object\n",
              "url                object\n",
              "release_date       object\n",
              "tags               object\n",
              "discount_price    float64\n",
              "reviews_url        object\n",
              "specs              object\n",
              "price              object\n",
              "early_access         bool\n",
              "id                 object\n",
              "developer          object\n",
              "sentiment          object\n",
              "metascore          object\n",
              "dtype: object"
            ]
          },
          "metadata": {
            "tags": []
          },
          "execution_count": 16
        }
      ]
    },
    {
      "cell_type": "code",
      "metadata": {
        "id": "jcruDkfUviE9"
      },
      "source": [
        "data_games.dropna(subset=['tags', 'id', 'title'], axis=0, inplace=True)"
      ],
      "execution_count": 17,
      "outputs": []
    },
    {
      "cell_type": "code",
      "metadata": {
        "id": "bMFEmfsZnR_Z"
      },
      "source": [
        "#Convertir a string columnas\n",
        "columnas = ['genres', 'title','tags']\n",
        "for i in columnas:\n",
        "  data_games[i] = data_games[i].astype('string')\n",
        "\n",
        "#Convertir a int64 columna product_id\n",
        "data_games['id'] = data_games['id'].astype('int64')"
      ],
      "execution_count": 18,
      "outputs": []
    },
    {
      "cell_type": "code",
      "metadata": {
        "id": "bsL6I3a2xuGq"
      },
      "source": [
        "data_games.drop(['publisher','reviews_url', 'url', \n",
        "                 'early_access', 'discount_price', \n",
        "                 'app_name', 'release_date',\n",
        "                 'discount_price', 'specs', \n",
        "                 'sentiment', 'metascore'],\n",
        "                axis=1,\n",
        "                inplace=True)"
      ],
      "execution_count": 19,
      "outputs": []
    },
    {
      "cell_type": "code",
      "metadata": {
        "colab": {
          "base_uri": "https://localhost:8080/"
        },
        "id": "ZDR-Dt3JnJzC",
        "outputId": "1efb39d0-9507-48f5-fb1a-77b5886c0e82"
      },
      "source": [
        "valores_nulos(data_games)"
      ],
      "execution_count": 20,
      "outputs": [
        {
          "output_type": "stream",
          "text": [
            "<-- Porcentaje de valores nulos -->\n",
            "\n",
            "genres       3.666076\n",
            "title        0.000000\n",
            "tags         0.000000\n",
            "price        4.103867\n",
            "id           0.000000\n",
            "developer    4.087157\n",
            "dtype: float64\n"
          ],
          "name": "stdout"
        }
      ]
    },
    {
      "cell_type": "code",
      "metadata": {
        "colab": {
          "base_uri": "https://localhost:8080/",
          "height": 295
        },
        "id": "Bb8lVqUUoqg_",
        "outputId": "1f869e03-593f-4fa4-93eb-f7b151dd5bef"
      },
      "source": [
        "#Tranferencia del Nombre del videojuego segun su id\n",
        "df = pd.merge(data_reviews, data_games,  left_on='product_id', right_on='id')\n",
        "df.head(3)"
      ],
      "execution_count": 21,
      "outputs": [
        {
          "output_type": "execute_result",
          "data": {
            "text/html": [
              "<div>\n",
              "<style scoped>\n",
              "    .dataframe tbody tr th:only-of-type {\n",
              "        vertical-align: middle;\n",
              "    }\n",
              "\n",
              "    .dataframe tbody tr th {\n",
              "        vertical-align: top;\n",
              "    }\n",
              "\n",
              "    .dataframe thead th {\n",
              "        text-align: right;\n",
              "    }\n",
              "</style>\n",
              "<table border=\"1\" class=\"dataframe\">\n",
              "  <thead>\n",
              "    <tr style=\"text-align: right;\">\n",
              "      <th></th>\n",
              "      <th>username</th>\n",
              "      <th>hours</th>\n",
              "      <th>product_id</th>\n",
              "      <th>date</th>\n",
              "      <th>text</th>\n",
              "      <th>Fecha</th>\n",
              "      <th>Year</th>\n",
              "      <th>month</th>\n",
              "      <th>genres</th>\n",
              "      <th>title</th>\n",
              "      <th>tags</th>\n",
              "      <th>price</th>\n",
              "      <th>id</th>\n",
              "      <th>developer</th>\n",
              "    </tr>\n",
              "  </thead>\n",
              "  <tbody>\n",
              "    <tr>\n",
              "      <th>0</th>\n",
              "      <td>Chaos Syren</td>\n",
              "      <td>0.1</td>\n",
              "      <td>725280</td>\n",
              "      <td>2017-12-17</td>\n",
              "      <td>This would not be acceptable as an entertainme...</td>\n",
              "      <td>2017-12-17</td>\n",
              "      <td>2017</td>\n",
              "      <td>12</td>\n",
              "      <td>['Action', 'Adventure', 'Indie', 'Simulation']</td>\n",
              "      <td>Psi Project</td>\n",
              "      <td>['Action', 'Adventure', 'Indie', 'Simulation']</td>\n",
              "      <td>2.99</td>\n",
              "      <td>725280</td>\n",
              "      <td>Vyacheslav Shilikhin</td>\n",
              "    </tr>\n",
              "    <tr>\n",
              "      <th>1</th>\n",
              "      <td>Duha Nubie</td>\n",
              "      <td>11.3</td>\n",
              "      <td>35140</td>\n",
              "      <td>2018-01-03</td>\n",
              "      <td>first debut feel sweet</td>\n",
              "      <td>2018-01-03</td>\n",
              "      <td>2018</td>\n",
              "      <td>1</td>\n",
              "      <td>['Action', 'Adventure']</td>\n",
              "      <td>Batman: Arkham Asylum Game of the Year Edition</td>\n",
              "      <td>['Action', 'Batman', 'Stealth', 'Adventure', '...</td>\n",
              "      <td>19.99</td>\n",
              "      <td>35140</td>\n",
              "      <td>Rocksteady Studios,Feral Interactive (Mac)</td>\n",
              "    </tr>\n",
              "    <tr>\n",
              "      <th>2</th>\n",
              "      <td>MLGarbage</td>\n",
              "      <td>9.5</td>\n",
              "      <td>35140</td>\n",
              "      <td>2018-01-02</td>\n",
              "      <td>Fun Game. I played shadow of mordor before pla...</td>\n",
              "      <td>2018-01-02</td>\n",
              "      <td>2018</td>\n",
              "      <td>1</td>\n",
              "      <td>['Action', 'Adventure']</td>\n",
              "      <td>Batman: Arkham Asylum Game of the Year Edition</td>\n",
              "      <td>['Action', 'Batman', 'Stealth', 'Adventure', '...</td>\n",
              "      <td>19.99</td>\n",
              "      <td>35140</td>\n",
              "      <td>Rocksteady Studios,Feral Interactive (Mac)</td>\n",
              "    </tr>\n",
              "  </tbody>\n",
              "</table>\n",
              "</div>"
            ],
            "text/plain": [
              "      username  hours  ...      id                                   developer\n",
              "0  Chaos Syren    0.1  ...  725280                        Vyacheslav Shilikhin\n",
              "1   Duha Nubie   11.3  ...   35140  Rocksteady Studios,Feral Interactive (Mac)\n",
              "2    MLGarbage    9.5  ...   35140  Rocksteady Studios,Feral Interactive (Mac)\n",
              "\n",
              "[3 rows x 14 columns]"
            ]
          },
          "metadata": {
            "tags": []
          },
          "execution_count": 21
        }
      ]
    },
    {
      "cell_type": "markdown",
      "metadata": {
        "id": "vq9YlLvUm3fO"
      },
      "source": [
        "##Exploración de Información"
      ]
    },
    {
      "cell_type": "code",
      "metadata": {
        "colab": {
          "base_uri": "https://localhost:8080/"
        },
        "id": "5qrj2_lIg3-h",
        "outputId": "b0a74708-de5d-460d-8776-4b5a6d71ed7c"
      },
      "source": [
        "print('Un total de {} usuarios realizaron reviews de videojuegos'.format(len(df.username.unique())))"
      ],
      "execution_count": 22,
      "outputs": [
        {
          "output_type": "stream",
          "text": [
            "Un total de 388027 usuarios realizaron reviews de videojuegos\n"
          ],
          "name": "stdout"
        }
      ]
    },
    {
      "cell_type": "code",
      "metadata": {
        "colab": {
          "base_uri": "https://localhost:8080/"
        },
        "id": "JCpaEURihzUb",
        "outputId": "cce35cb2-c688-42da-b7be-187e1fe8f57b"
      },
      "source": [
        "print(\"<-- Top 10 de Usuarios con mas reviews -->\")\n",
        "df.username.value_counts().head(10)"
      ],
      "execution_count": 23,
      "outputs": [
        {
          "output_type": "stream",
          "text": [
            "<-- Top 10 de Usuarios con mas reviews -->\n"
          ],
          "name": "stdout"
        },
        {
          "output_type": "execute_result",
          "data": {
            "text/plain": [
              "Alex           119\n",
              "Nick            99\n",
              "Jack            96\n",
              "Chris           85\n",
              "Saint Aaron     76\n",
              "Dan             76\n",
              "123             74\n",
              "Kodyd194        73\n",
              "Matt            71\n",
              "Sam             71\n",
              "Name: username, dtype: Int64"
            ]
          },
          "metadata": {
            "tags": []
          },
          "execution_count": 23
        }
      ]
    },
    {
      "cell_type": "code",
      "metadata": {
        "colab": {
          "base_uri": "https://localhost:8080/"
        },
        "id": "GeWoc66CpQ0B",
        "outputId": "10be67f7-a8da-4f6a-c19d-19c9dc2495c0"
      },
      "source": [
        "print('<-- Videojuegos con mas Reviews -->\\n')\n",
        "df.title.value_counts().head(10)"
      ],
      "execution_count": 24,
      "outputs": [
        {
          "output_type": "stream",
          "text": [
            "<-- Videojuegos con mas Reviews -->\n",
            "\n"
          ],
          "name": "stdout"
        },
        {
          "output_type": "execute_result",
          "data": {
            "text/plain": [
              "Team Fortress 2                11731\n",
              "Rust                            6623\n",
              "Borderlands 2                   4733\n",
              "Fallout 4                       4454\n",
              "Grand Theft Auto V              3901\n",
              "Portal 2                        3678\n",
              "Undertale                       3659\n",
              "DayZ                            3625\n",
              "Warframe                        3553\n",
              "Life is Strange - Episode 1     3345\n",
              "Name: title, dtype: Int64"
            ]
          },
          "metadata": {
            "tags": []
          },
          "execution_count": 24
        }
      ]
    },
    {
      "cell_type": "code",
      "metadata": {
        "colab": {
          "base_uri": "https://localhost:8080/",
          "height": 318
        },
        "id": "TQvgT4FsxHoi",
        "outputId": "b26f5984-56a1-426b-f711-450a1a4603e4"
      },
      "source": [
        "year_review = df.groupby(['Year']).count()\n",
        "plt.title('Horas acumuladas de juego por año')\n",
        "sns.barplot(x = year_review.index,\n",
        "            y=year_review.hours)"
      ],
      "execution_count": 25,
      "outputs": [
        {
          "output_type": "execute_result",
          "data": {
            "text/plain": [
              "<matplotlib.axes._subplots.AxesSubplot at 0x7f2959df88d0>"
            ]
          },
          "metadata": {
            "tags": []
          },
          "execution_count": 25
        },
        {
          "output_type": "display_data",
          "data": {
            "image/png": "[encoded data removed]",
            "text/plain": [
              "<Figure size 432x288 with 1 Axes>"
            ]
          },
          "metadata": {
            "tags": []
          }
        }
      ]
    },
    {
      "cell_type": "code",
      "metadata": {
        "id": "Erf3a2D7eBpB",
        "colab": {
          "base_uri": "https://localhost:8080/",
          "height": 318
        },
        "outputId": "643e8963-c522-4960-a615-fab4554e9297"
      },
      "source": [
        "months_2017 = df[df['Year'] == 2017].groupby(['month']).count()\n",
        "plt.title('Horas acumuladas de juego por mes del 2017')\n",
        "sns.barplot(x= months_2017.index,\n",
        "            y=months_2017.hours)"
      ],
      "execution_count": 26,
      "outputs": [
        {
          "output_type": "execute_result",
          "data": {
            "text/plain": [
              "<matplotlib.axes._subplots.AxesSubplot at 0x7f295c114c18>"
            ]
          },
          "metadata": {
            "tags": []
          },
          "execution_count": 26
        },
        {
          "output_type": "display_data",
          "data": {
            "image/png": "[encoded data removed]",
            "text/plain": [
              "<Figure size 432x288 with 1 Axes>"
            ]
          },
          "metadata": {
            "tags": []
          }
        }
      ]
    },
    {
      "cell_type": "code",
      "metadata": {
        "colab": {
          "base_uri": "https://localhost:8080/"
        },
        "id": "I4os0Wvfw5oP",
        "outputId": "8a0e2e1e-cd68-4ab7-9956-c2f498e96c70"
      },
      "source": [
        "print('<-- Desarrolladores con mas videojuegos registrados -->\\n')\n",
        "data_games.developer.value_counts().head(10)"
      ],
      "execution_count": 27,
      "outputs": [
        {
          "output_type": "stream",
          "text": [
            "<-- Desarrolladores con mas videojuegos registrados -->\n",
            "\n"
          ],
          "name": "stdout"
        },
        {
          "output_type": "execute_result",
          "data": {
            "text/plain": [
              "Ubisoft - San Francisco       1259\n",
              "SmiteWorks USA, LLC            813\n",
              "Dovetail Games                 253\n",
              "KOEI TECMO GAMES CO., LTD.     232\n",
              "Paradox Development Studio     156\n",
              "Capcom                         130\n",
              "Ronimo Games                   123\n",
              "Choice of Games                100\n",
              "Stainless Games                 95\n",
              "Musopia                         95\n",
              "Name: developer, dtype: int64"
            ]
          },
          "metadata": {
            "tags": []
          },
          "execution_count": 27
        }
      ]
    },
    {
      "cell_type": "code",
      "metadata": {
        "colab": {
          "base_uri": "https://localhost:8080/"
        },
        "id": "PpR_swPpx-mu",
        "outputId": "1fa08546-2da0-43a4-f74c-fa82c600b4a0"
      },
      "source": [
        "print('<-- Desarrolladores con mas reviews -->\\n')\n",
        "df.developer.value_counts().head(10)"
      ],
      "execution_count": 28,
      "outputs": [
        {
          "output_type": "stream",
          "text": [
            "<-- Desarrolladores con mas reviews -->\n",
            "\n"
          ],
          "name": "stdout"
        },
        {
          "output_type": "execute_result",
          "data": {
            "text/plain": [
              "Valve                                       24337\n",
              "Facepunch Studios                            9733\n",
              "Bohemia Interactive                          7662\n",
              "Bethesda Game Studios                        6963\n",
              "Gearbox Software,Aspyr (Mac &amp; Linux)     4733\n",
              "Ubisoft Montreal                             4707\n",
              "Hi-Rez Studios                               4128\n",
              "Daybreak Game Company                        4051\n",
              "Rockstar North                               3947\n",
              "Digital Extremes                             3804\n",
              "Name: developer, dtype: int64"
            ]
          },
          "metadata": {
            "tags": []
          },
          "execution_count": 28
        }
      ]
    },
    {
      "cell_type": "code",
      "metadata": {
        "colab": {
          "base_uri": "https://localhost:8080/",
          "height": 338
        },
        "id": "Aqd3nCrUw07Y",
        "outputId": "8b22fca2-8ba5-4750-904f-50ca6fb86d6e"
      },
      "source": [
        "price_games = data_games.price.value_counts().head(10)\n",
        "sns.barplot(x=price_games.index[0:],\n",
        "            y=price_games)\n",
        "plt.title('Precio mas frecuente de Videojuegos Registrados')\n",
        "plt.xticks(rotation=50)\n",
        "plt.xlabel('Precio')\n",
        "plt.ylabel('Frecuencia')"
      ],
      "execution_count": 29,
      "outputs": [
        {
          "output_type": "execute_result",
          "data": {
            "text/plain": [
              "Text(0, 0.5, 'Frecuencia')"
            ]
          },
          "metadata": {
            "tags": []
          },
          "execution_count": 29
        },
        {
          "output_type": "display_data",
          "data": {
            "image/png": "[encoded data removed]",
            "text/plain": [
              "<Figure size 432x288 with 1 Axes>"
            ]
          },
          "metadata": {
            "tags": []
          }
        }
      ]
    },
    {
      "cell_type": "code",
      "metadata": {
        "colab": {
          "base_uri": "https://localhost:8080/",
          "height": 364
        },
        "id": "Y07u5knvwMys",
        "outputId": "f08503ce-d9e1-4a4b-fe8c-16ce202996a7"
      },
      "source": [
        "price_games = df.price.value_counts().head(10)\n",
        "sns.barplot(x=price_games.index[0:],\n",
        "            y=price_games)\n",
        "plt.title('Precio mas frecuente en Videojuegos con Reviews')\n",
        "plt.xticks(rotation=50)\n",
        "plt.xlabel('Precio')\n",
        "plt.ylabel('Frecuencia')"
      ],
      "execution_count": 30,
      "outputs": [
        {
          "output_type": "execute_result",
          "data": {
            "text/plain": [
              "Text(0, 0.5, 'Frecuencia')"
            ]
          },
          "metadata": {
            "tags": []
          },
          "execution_count": 30
        },
        {
          "output_type": "display_data",
          "data": {
            "image/png": "[encoded data removed]",
            "text/plain": [
              "<Figure size 432x288 with 1 Axes>"
            ]
          },
          "metadata": {
            "tags": []
          }
        }
      ]
    },
    {
      "cell_type": "markdown",
      "metadata": {
        "id": "CMe20pePIieb"
      },
      "source": [
        "# EDA"
      ]
    },
    {
      "cell_type": "code",
      "metadata": {
        "id": "Uc52ixIzHJnO"
      },
      "source": [
        "#Submuestra\n",
        "df_games = data_games.sample(frac=0.04)\n",
        "df_games.reset_index(drop=True, inplace=True)\n",
        "\n",
        "df_reviews = data_reviews.sample(frac=0.04)\n",
        "df_reviews.reset_index(drop=True, inplace=True)"
      ],
      "execution_count": 31,
      "outputs": []
    },
    {
      "cell_type": "code",
      "metadata": {
        "id": "h3tiocCbFcS1"
      },
      "source": [
        " #df_games['tags'] = df_games['tags'].fillna(' ')\n",
        " df_games['xtags'] = df_games['tags'].str.replace('[{}]'.format(string.punctuation), ' ')"
      ],
      "execution_count": 32,
      "outputs": []
    },
    {
      "cell_type": "code",
      "metadata": {
        "id": "IWN7smOyugIW",
        "colab": {
          "base_uri": "https://localhost:8080/",
          "height": 129
        },
        "outputId": "104fa0b4-0d54-40d3-bfae-cbe6eabbfc19"
      },
      "source": [
        "break"
      ],
      "execution_count": 33,
      "outputs": [
        {
          "output_type": "error",
          "ename": "SyntaxError",
          "evalue": "ignored",
          "traceback": [
            "\u001b[0;36m  File \u001b[0;32m\"<ipython-input-33-6aaf1f276005>\"\u001b[0;36m, line \u001b[0;32m1\u001b[0m\n\u001b[0;31m    break\u001b[0m\n\u001b[0m         ^\u001b[0m\n\u001b[0;31mSyntaxError\u001b[0m\u001b[0;31m:\u001b[0m 'break' outside loop\n"
          ]
        }
      ]
    },
    {
      "cell_type": "markdown",
      "metadata": {
        "id": "AkWD-SpnJrPz"
      },
      "source": [
        "# Recomendaciones"
      ]
    },
    {
      "cell_type": "code",
      "metadata": {
        "id": "gVtqQWAEI6uz"
      },
      "source": [
        "stopwords = nltk.corpus.stopwords.words('english')        #Defino las stopwords\n",
        "tfidf = TfidfVectorizer(stop_words=set(stopwords))        #Defino el modelo\n",
        "tfidf_matrix = tfidf.fit_transform(df_games['xtags'])   #Creo matriz"
      ],
      "execution_count": null,
      "outputs": []
    },
    {
      "cell_type": "code",
      "metadata": {
        "id": "9FxV-paRI6lP"
      },
      "source": [
        "'''\n",
        "Matriz de comparación\n",
        "Compara las etiquetas de un video seleccionado con la lista anterior\n",
        "en busca de palabras similares\n",
        "'''\n",
        "cosine_sim = linear_kernel(tfidf_matrix, tfidf_matrix)"
      ],
      "execution_count": null,
      "outputs": []
    },
    {
      "cell_type": "code",
      "metadata": {
        "id": "r0f5ugPhKZpO"
      },
      "source": [
        "print(len(tfidf.vocabulary_))\n",
        "print(tfidf_matrix.shape)"
      ],
      "execution_count": null,
      "outputs": []
    },
    {
      "cell_type": "code",
      "metadata": {
        "id": "g69mWexmI6cG"
      },
      "source": [
        "indices = pd.Series(df_games.index, index=df_games['title']).drop_duplicates()"
      ],
      "execution_count": null,
      "outputs": []
    },
    {
      "cell_type": "code",
      "metadata": {
        "id": "wkcB6kh1JRfy"
      },
      "source": [
        "def get_recomendation(title, cosine_sim=cosine_sim):\n",
        "    idx = indices[title]                                                        #Selecciona el titulo del videojuego                        \n",
        "    sim_scores = list(enumerate(cosine_sim[idx]))                               \n",
        "    sim_scores = sorted(sim_scores, key=lambda x: x[1], reverse=True)           #Ordena de mayor a menor las similitudes\n",
        "    sim_scores = sim_scores[1:6]                                                #Selecciona las primero 5 similitudes\n",
        "    games_indices = [i[0] for i in sim_scores]\n",
        "    return df_games['title'].iloc[games_indices]                                #Retorna el nombre de los videojuegos"
      ],
      "execution_count": null,
      "outputs": []
    },
    {
      "cell_type": "code",
      "metadata": {
        "id": "ITQvf_gEQX3j"
      },
      "source": [
        "def recomendation():\n",
        "  '''\n",
        "  Se seleccionara un id de un videojuego al azar, simulando que el usuario ya selecciono\n",
        "  el videojuego que va jugar y escribir su reseña'''\n",
        "  ids  = np.random.randint(df_games.shape[0])                         #Obtiene una linea al azar\n",
        "  ids  = df_games.id.iloc[ids]                                        #Obtiene el id del videojuego seleccionado al azar\n",
        "  name = (df_games.loc[df_games['id'] == ids]['title']).iloc[0]       #Busca el nombre del id del videojuego \n",
        "  print('Usted ha jugado: {}'.format(name))\n",
        "  input('Ingrese su reseña: ')\n",
        "  print('\\nNuestras recomendaciones basadas en su ultima review:')\n",
        "  print(get_recomendation(name))"
      ],
      "execution_count": null,
      "outputs": []
    },
    {
      "cell_type": "code",
      "metadata": {
        "id": "_d_FFYEgQXzp"
      },
      "source": [
        "recomendation()"
      ],
      "execution_count": null,
      "outputs": []
    },
    {
      "cell_type": "markdown",
      "metadata": {
        "id": "WqoViz3t-Kj3"
      },
      "source": [
        "# Procesamiento de lenguaje natural"
      ]
    },
    {
      "cell_type": "code",
      "metadata": {
        "id": "SZh-rtzlwJWv"
      },
      "source": [
        "df_reviews.drop(['hours', 'date', 'Fecha', 'Year', 'month'], axis=1, inplace=True)"
      ],
      "execution_count": null,
      "outputs": []
    },
    {
      "cell_type": "markdown",
      "metadata": {
        "id": "h7J9cJE3zItE"
      },
      "source": [
        "## Emojis"
      ]
    },
    {
      "cell_type": "code",
      "metadata": {
        "id": "Zo2vQjUEzIf3"
      },
      "source": [
        "pip install emoji"
      ],
      "execution_count": null,
      "outputs": []
    },
    {
      "cell_type": "code",
      "metadata": {
        "id": "UrUVeT0LylsM"
      },
      "source": [
        "#Elimino cualquier emoji presente en la review escrita\n",
        "import emoji"
      ],
      "execution_count": null,
      "outputs": []
    },
    {
      "cell_type": "code",
      "metadata": {
        "id": "BvgNx0YbwlPm"
      },
      "source": [
        "df_reviews.tail(2)"
      ],
      "execution_count": null,
      "outputs": []
    },
    {
      "cell_type": "code",
      "metadata": {
        "id": "BxbqRA9YwlMf"
      },
      "source": [
        "#df_reviews['xtext'] = emoji.demojize(df_reviews['text'])"
      ],
      "execution_count": null,
      "outputs": []
    },
    {
      "cell_type": "markdown",
      "metadata": {
        "id": "BG-UEbs61D6x"
      },
      "source": [
        "## Traduccion de comentario"
      ]
    },
    {
      "cell_type": "code",
      "metadata": {
        "id": "JTHI4FU1wk1c"
      },
      "source": [
        "#df_reviews['xtext'] = df_reviews['text'].apply(lambda x: TextBlob(x).translate(to='en'))"
      ],
      "execution_count": null,
      "outputs": []
    },
    {
      "cell_type": "code",
      "metadata": {
        "id": "fv50Rs6_wkyY"
      },
      "source": [
        "#Ya que todos los comentarios se encuentran en ingles, la celda anterior marca error, ya que no tiene acciones por realizar"
      ],
      "execution_count": null,
      "outputs": []
    },
    {
      "cell_type": "markdown",
      "metadata": {
        "id": "rOT82_sV75Pv"
      },
      "source": [
        "## Estandarizar el texto"
      ]
    },
    {
      "cell_type": "code",
      "metadata": {
        "id": "O2A3306gwksG"
      },
      "source": [
        " #Elimino signos\n",
        " df_reviews['xtext'] = df_reviews['text'].str.replace('[{}]'.format(string.punctuation), ' ')"
      ],
      "execution_count": null,
      "outputs": []
    },
    {
      "cell_type": "code",
      "metadata": {
        "id": "WGEA-G7Wwkl0"
      },
      "source": [
        "#Texto estandarizado\n",
        "comentario = df_reviews.xtext.iloc[1]\n",
        "comentario"
      ],
      "execution_count": null,
      "outputs": []
    },
    {
      "cell_type": "markdown",
      "metadata": {
        "id": "j17XK9E88teX"
      },
      "source": [
        "## Polaridad y subjetividad de reviews"
      ]
    },
    {
      "cell_type": "code",
      "metadata": {
        "id": "jHB9Z4ovGXAA"
      },
      "source": [
        "#Correcion de escritura\n",
        "#correciones = []\n",
        "\n",
        "#for i in range(df_reviews.shape[0]):\n",
        "#  correcion = df_reviews.xtext.iloc[i]\n",
        "#  correcion = TextBlob(correcion).correct()\n",
        "#  correciones.append(correcion)\n",
        "\n",
        "#df_reviews['xtext'] = correciones"
      ],
      "execution_count": null,
      "outputs": []
    },
    {
      "cell_type": "code",
      "metadata": {
        "id": "K6UyOXKw8r9o"
      },
      "source": [
        "#TextBlob(comentario).sentimen"
      ],
      "execution_count": null,
      "outputs": []
    },
    {
      "cell_type": "code",
      "metadata": {
        "id": "qj5MsPoG8r0l"
      },
      "source": [
        "#Creacion de una nueva columna con la polaridad de la review\n",
        "comentarios = []\n",
        "\n",
        "for i in range(df_reviews.shape[0]):\n",
        "  comentario = df_reviews.xtext.iloc[i]\n",
        "  comentario = TextBlob(comentario).polarity\n",
        "  comentarios.append(comentario)\n",
        "\n",
        "df_reviews['polariy'] = comentarios"
      ],
      "execution_count": null,
      "outputs": []
    },
    {
      "cell_type": "code",
      "metadata": {
        "id": "K8K0YJJP-VAm"
      },
      "source": [
        "#Creacion de una nueva columna con la subjetividad de la revoew\n",
        "comentarios = []\n",
        "\n",
        "for i in range(df_reviews.shape[0]):\n",
        "  comentario = df_reviews.xtext.iloc[i]\n",
        "  comentario = TextBlob(comentario).subjectivity\n",
        "  comentarios.append(comentario)\n",
        "\n",
        "df_reviews['subjectivity'] = comentarios"
      ],
      "execution_count": null,
      "outputs": []
    },
    {
      "cell_type": "code",
      "metadata": {
        "id": "XznZ0CnjbcHw"
      },
      "source": [
        "#Creo una copia de las review, que mas adelante empleare\n",
        "calificaciones = df_reviews[['username', 'product_id', 'polariy']]"
      ],
      "execution_count": null,
      "outputs": []
    },
    {
      "cell_type": "markdown",
      "metadata": {
        "id": "jBJWqaW7u7SV"
      },
      "source": [
        "# Machine Learning\n",
        "## Modelo Prediccion"
      ]
    },
    {
      "cell_type": "code",
      "metadata": {
        "id": "tHDJaXwtGCuE"
      },
      "source": [
        "  from surprise import Dataset\n",
        "from surprise import Reader\n",
        "from surprise.model_selection import train_test_split"
      ],
      "execution_count": null,
      "outputs": []
    },
    {
      "cell_type": "code",
      "metadata": {
        "id": "3Hd4pSkvcYA2"
      },
      "source": [
        "#Defino el modelo reader\n",
        "reader = Reader()\n",
        "\n",
        "#Creo Dataset para el modelo\n",
        "N_filas = 2000 # Limitamos el dataset a N_filas\n",
        "\n",
        "data = Dataset.load_from_df(calificaciones[['username', 'product_id', 'polariy']][:N_filas], reader)"
      ],
      "execution_count": null,
      "outputs": []
    },
    {
      "cell_type": "code",
      "metadata": {
        "id": "t7s2l5bu-Gmj"
      },
      "source": [
        "from surprise.model_selection.validation import cross_validate\n",
        "cross_validate(algo, data, measures=['RMSE', 'MAE'], cv=5, verbose=True)"
      ],
      "execution_count": null,
      "outputs": []
    },
    {
      "cell_type": "code",
      "metadata": {
        "id": "oC3_SIyIGCoG"
      },
      "source": [
        "#Division de Datos de entrenamiento y test\n",
        "trainset, testset = train_test_split(data, test_size=.25)"
      ],
      "execution_count": null,
      "outputs": []
    },
    {
      "cell_type": "code",
      "metadata": {
        "id": "1exHz3m8GCZq"
      },
      "source": [
        "from surprise import SVD\n",
        "algo = SVD()\n",
        "#Entreno modelo\n",
        "algo.fit(trainset)"
      ],
      "execution_count": null,
      "outputs": []
    },
    {
      "cell_type": "code",
      "metadata": {
        "id": "obU9b-pG_MRW"
      },
      "source": [
        "#Uso el usuario con mas reviews para emplear una prediccion usuario='123'\n",
        "df_reviews['estimate_escore'] = df_reviews['product_id'].apply(lambda x: algo.predict('123', x).est)"
      ],
      "execution_count": null,
      "outputs": []
    },
    {
      "cell_type": "code",
      "metadata": {
        "id": "SmijM3w-_MEu"
      },
      "source": [
        "df_reviews.head(3)"
      ],
      "execution_count": null,
      "outputs": []
    },
    {
      "cell_type": "code",
      "metadata": {
        "id": "mrtB-_HycgHz"
      },
      "source": [
        "#Realizo predicciones\n",
        "predictions = algo.test(testset)"
      ],
      "execution_count": null,
      "outputs": []
    },
    {
      "cell_type": "code",
      "metadata": {
        "id": "mc6uH8q62CiD"
      },
      "source": [
        "#Explorar predicciones\n",
        "predictions[3]"
      ],
      "execution_count": null,
      "outputs": []
    },
    {
      "cell_type": "code",
      "metadata": {
        "id": "_kFeW7zs2h0N"
      },
      "source": [
        "df[df['username'] == '123'].head(2)"
      ],
      "execution_count": null,
      "outputs": []
    },
    {
      "cell_type": "code",
      "metadata": {
        "id": "ZIXYEUYg25uG"
      },
      "source": [
        "df_reviews[df_reviews['username'] == '123']"
      ],
      "execution_count": null,
      "outputs": []
    },
    {
      "cell_type": "code",
      "metadata": {
        "id": "qZvXKUrw2tJd"
      },
      "source": [
        "#Prediccion\n",
        "algo.predict('123', '405500')"
      ],
      "execution_count": null,
      "outputs": []
    },
    {
      "cell_type": "code",
      "metadata": {
        "id": "2Fj7zbr93Ftc"
      },
      "source": [
        "#Selecciono el usuario con mas reviews\n",
        "calificaciones[calificaciones['username'] == '123']"
      ],
      "execution_count": null,
      "outputs": []
    },
    {
      "cell_type": "code",
      "metadata": {
        "id": "dA9zFJlCnYol"
      },
      "source": [
        "usuario = '123'  \n",
        "polariy = -1.0\n",
        "df_user = df_reviews[(df_reviews['username'] == usuario) & (df_reviews['polariy'] >= polariy)]\n",
        "df_user.reset_index(drop=True, inplace=True)\n",
        "names = []\n",
        "for i in df_user.product_id:\n",
        "  name = data_games[data_games['id'] == i]\n",
        "  name = name.title.values[0]\n",
        "  names.append(name)\n",
        "\n",
        "\n",
        "df_user['game_name'] = names"
      ],
      "execution_count": null,
      "outputs": []
    },
    {
      "cell_type": "code",
      "metadata": {
        "id": "HAU1fxD4LJH3"
      },
      "source": [
        "df_user"
      ],
      "execution_count": null,
      "outputs": []
    },
    {
      "cell_type": "code",
      "metadata": {
        "id": "0-KnoTTp57GX"
      },
      "source": [
        "#Creo una copia del Dataser donde se encuentran todos los juegos registrados\n",
        "recomendaciones_games = data_games.iloc[0:]"
      ],
      "execution_count": null,
      "outputs": []
    },
    {
      "cell_type": "code",
      "metadata": {
        "id": "kDjY_hGRAGO0"
      },
      "source": [
        "#Juegos que el usuario ya jugo\"\n",
        "juegos_jugados = data_reviews[data_reviews['username'] == usuario]\n",
        "#Elimino los juegos que tienen mas de 1 review para el mismo usuario, conservando la ultima review\n",
        "juegos_jugados.drop_duplicates(subset='product_id',keep='first', inplace=True)\n",
        "print('El usuario ya ha jugado',juegos_jugados.shape[0],'videojuegos\\n')\n",
        "juegos_jugados.head(3)"
      ],
      "execution_count": null,
      "outputs": []
    },
    {
      "cell_type": "code",
      "metadata": {
        "id": "y07qeJ74S6VQ"
      },
      "source": [
        "#Elimino los juegos que el usuario ya ha jugado\n",
        "for i in juegos_jugados.product_id:\n",
        "  id = i\n",
        "  recomendaciones_games.drop(recomendaciones_games[recomendaciones_games['id'] == id ].index, inplace=True)"
      ],
      "execution_count": null,
      "outputs": []
    },
    {
      "cell_type": "code",
      "metadata": {
        "id": "elB3LVPMScwG"
      },
      "source": [
        "recomendaciones_games.head(2)"
      ],
      "execution_count": null,
      "outputs": []
    },
    {
      "cell_type": "code",
      "metadata": {
        "id": "Jz3f3IMCswMx"
      },
      "source": [
        "usuario"
      ],
      "execution_count": null,
      "outputs": []
    },
    {
      "cell_type": "code",
      "metadata": {
        "id": "pJnKN8IGPted"
      },
      "source": [
        "#Realizo predicciones sobre de posible positividads\n",
        "recomendaciones_games['Score_estimate'] = recomendaciones_games['id'].apply(lambda x:algo.predict(usuario, x).est)"
      ],
      "execution_count": null,
      "outputs": []
    },
    {
      "cell_type": "code",
      "metadata": {
        "id": "0QtAwNI_CJap"
      },
      "source": [
        "recomendaciones_games.Score_estimate.max()"
      ],
      "execution_count": null,
      "outputs": []
    },
    {
      "cell_type": "code",
      "metadata": {
        "id": "NIzGADqatvvJ"
      },
      "source": [
        "from surprise import accuracy\n",
        "\n",
        "accuracy.rmse(predictions)"
      ],
      "execution_count": null,
      "outputs": []
    },
    {
      "cell_type": "code",
      "metadata": {
        "id": "Lk80GbTntvq4"
      },
      "source": [
        "from surprise.model_selection import cross_validate\n",
        "\n",
        "rmse_test_means = []\n",
        "factores = [1,2,4,8,16,32,64,128,256]\n",
        "\n",
        "for factor in factores:\n",
        "    print(f'\\nNúmero de Factores: {factor}')\n",
        "    algo = SVD(n_factors=factor)\n",
        "    cv = cross_validate(algo, data, measures=['RMSE'], cv = 3, verbose=True)\n",
        "    rmse_test_means.append(np.mean(cv['test_rmse']))"
      ],
      "execution_count": null,
      "outputs": []
    },
    {
      "cell_type": "code",
      "metadata": {
        "id": "CWGNBoMvtvj2"
      },
      "source": [
        "plt.scatter(factores, rmse_test_means)\n",
        "plt.xlabel('Numero de factores')\n",
        "plt.ylabel('Error RMSE')\n",
        "plt.show()"
      ],
      "execution_count": null,
      "outputs": []
    },
    {
      "cell_type": "code",
      "metadata": {
        "id": "IpRfL1E3cf0F"
      },
      "source": [
        "from surprise.model_selection import GridSearchCV\n",
        "\n",
        "param_grid = {'n_factors': [5,50,100],'n_epochs': [5, 10,20], 'lr_all': [0.001, 0.002, 0.005],\n",
        "              'reg_all': [0.002, 0.02, 0.2]}\n",
        "gs = GridSearchCV(SVD, param_grid, measures=['rmse'], cv=3, n_jobs = -1)\n",
        "gs.fit(data)\n"
      ],
      "execution_count": null,
      "outputs": []
    },
    {
      "cell_type": "code",
      "metadata": {
        "id": "pD5NHCxAuLU2"
      },
      "source": [
        "print(gs.best_score['rmse'])\n",
        "print(gs.best_params['rmse'])"
      ],
      "execution_count": null,
      "outputs": []
    },
    {
      "cell_type": "code",
      "metadata": {
        "id": "6VcDlUA8uLKl"
      },
      "source": [
        ""
      ],
      "execution_count": null,
      "outputs": []
    },
    {
      "cell_type": "code",
      "metadata": {
        "id": "X4DzTvX2uK_h"
      },
      "source": [
        ""
      ],
      "execution_count": null,
      "outputs": []
    },
    {
      "cell_type": "code",
      "metadata": {
        "id": "UoD1J1pYuKV_"
      },
      "source": [
        ""
      ],
      "execution_count": null,
      "outputs": []
    },
    {
      "cell_type": "code",
      "metadata": {
        "id": "yA3jTAqp-bFX"
      },
      "source": [
        "import nltk\n",
        "import goslate\n",
        "nltk.download('punkt')\n",
        "nltk.download('stopwords')"
      ],
      "execution_count": null,
      "outputs": []
    },
    {
      "cell_type": "code",
      "metadata": {
        "id": "XuRmign0AKcr"
      },
      "source": [
        "data_reviews.head(2)"
      ],
      "execution_count": null,
      "outputs": []
    },
    {
      "cell_type": "code",
      "metadata": {
        "id": "j8_rDxze-Ri9"
      },
      "source": [
        "valores_nulos(data_reviews)"
      ],
      "execution_count": null,
      "outputs": []
    },
    {
      "cell_type": "markdown",
      "metadata": {
        "id": "_oUpbzNC_gPr"
      },
      "source": [
        "\n",
        "https://www.youtube.com/watch?v=oy1lcj8s8sQ&t=620s  -->PRocesamiento de comentario\n",
        "\n",
        "https://stackoverflow.com/questions/57744725/how-to-convert-emojis-emoticons-to-their-meanings-in-python --> Convertir emojis to text\n"
      ]
    },
    {
      "cell_type": "code",
      "metadata": {
        "id": "aSiSEjMIDLh4"
      },
      "source": [
        "#Defino el modelo para traduccion\n",
        "gs = goslate.Goslate()"
      ],
      "execution_count": null,
      "outputs": []
    },
    {
      "cell_type": "code",
      "metadata": {
        "id": "9wn7u6TiAgeT"
      },
      "source": [
        "  s = data_reviews.text.iloc[2]"
      ],
      "execution_count": null,
      "outputs": []
    },
    {
      "cell_type": "code",
      "metadata": {
        "id": "F-087C49AjWH"
      },
      "source": [
        "TextBlob(s).translate(to = 'en')"
      ],
      "execution_count": null,
      "outputs": []
    },
    {
      "cell_type": "code",
      "metadata": {
        "id": "DdV_2Qj9A5Nv"
      },
      "source": [
        "for i in range(data_reviews.shape[0]):\n",
        "  reviews = data_reviews.text.iloc[i]\n",
        "  data_reviews['Traduccion'] = gs.translate(reviews,'en')"
      ],
      "execution_count": null,
      "outputs": []
    },
    {
      "cell_type": "code",
      "metadata": {
        "id": "BpPG4oeDBHhy"
      },
      "source": [
        "pip install goslate"
      ],
      "execution_count": null,
      "outputs": []
    },
    {
      "cell_type": "code",
      "metadata": {
        "id": "yMx5IFLdCtNM"
      },
      "source": [
        "import goslate"
      ],
      "execution_count": null,
      "outputs": []
    },
    {
      "cell_type": "code",
      "metadata": {
        "id": "rz7RW5-pCyvt"
      },
      "source": [
        "text = \"Hello World\"\n",
        "\n",
        "gs = goslate.Goslate()\n",
        "translatedText = gs.translate(text,'es')"
      ],
      "execution_count": null,
      "outputs": []
    },
    {
      "cell_type": "code",
      "metadata": {
        "id": "PVUPOlGrC123"
      },
      "source": [
        "print(translatedText)"
      ],
      "execution_count": null,
      "outputs": []
    },
    {
      "cell_type": "code",
      "metadata": {
        "id": "CvwtL3wsC2YD"
      },
      "source": [
        "for i in range(data_reviews.shape[0]):\n",
        "  reviews = data_reviews.text.iloc[i]\n",
        "  data_reviews['Traduccion'] = TextBlob(reviews).detect_language()"
      ],
      "execution_count": null,
      "outputs": []
    },
    {
      "cell_type": "markdown",
      "metadata": {
        "id": "N8rHZyDPFsMY"
      },
      "source": [
        "# Prueba Nuevo Filtro"
      ]
    },
    {
      "cell_type": "code",
      "metadata": {
        "id": "w7nN8-2KL6sw"
      },
      "source": [
        "x_game = data_games[['id', 'title']]\n",
        "x_game.head(2)"
      ],
      "execution_count": null,
      "outputs": []
    },
    {
      "cell_type": "code",
      "metadata": {
        "id": "tVZaWxxgMRa6"
      },
      "source": [
        "x_reviews = df_reviews[['username', 'product_id', 'polariy']]\n",
        "x_reviews.head(2)"
      ],
      "execution_count": null,
      "outputs": []
    },
    {
      "cell_type": "code",
      "metadata": {
        "id": "-1YXFecTMsDf"
      },
      "source": [
        "#Tranferencia del Nombre del videojuego segun su id\n",
        "df = pd.merge(x_reviews, x_game,  left_on='product_id', right_on='id')\n",
        "df.head(5)"
      ],
      "execution_count": null,
      "outputs": []
    },
    {
      "cell_type": "code",
      "metadata": {
        "id": "iM6pxr5uNymb"
      },
      "source": [
        "print('<-- Videojuegos con más reviews positivas-->\\n')\n",
        "df.groupby('title')['polariy'].mean().sort_values(ascending=False).head()"
      ],
      "execution_count": null,
      "outputs": []
    },
    {
      "cell_type": "code",
      "metadata": {
        "id": "NrYsaV5dPUZk"
      },
      "source": [
        "#Data de videojuego con el promedio de polaridad en sus reviews\n",
        "ratings = pd.DataFrame(df.groupby('title')['polariy'].mean())\n",
        "ratings.head()"
      ],
      "execution_count": null,
      "outputs": []
    },
    {
      "cell_type": "code",
      "metadata": {
        "id": "eiY6n59jPdhV"
      },
      "source": [
        "#Nueva columna, el numero de reviews recibidas por videojuego\n",
        "ratings['num of ratings'] = pd.DataFrame(df.groupby('title')['polariy'].count())\n",
        "ratings.head()"
      ],
      "execution_count": null,
      "outputs": []
    },
    {
      "cell_type": "code",
      "metadata": {
        "id": "qrHnZAGmQ0YL"
      },
      "source": [
        "plt.figure(figsize=(10,4))\n",
        "ratings['polariy'].hist(bins=70)\n",
        "plt.xlabel('-Negativo <----------------------------> Positivo')\n",
        "plt.title(\"Polaridad de Review's\")"
      ],
      "execution_count": null,
      "outputs": []
    },
    {
      "cell_type": "markdown",
      "metadata": {
        "id": "uiLkmWebR2yW"
      },
      "source": [
        "## Sistema Recomendación"
      ]
    },
    {
      "cell_type": "code",
      "metadata": {
        "id": "xur8PGhFRDht"
      },
      "source": [
        "moviemat = df.pivot_table(index='username',columns='title',values='polariy')\n",
        "moviemat.head()"
      ],
      "execution_count": null,
      "outputs": []
    },
    {
      "cell_type": "code",
      "metadata": {
        "id": "KrZZU5rjSF3E"
      },
      "source": [
        "#Videojuegos con mas reviews\n",
        "ratings.sort_values('num of ratings',ascending=False).head(5)"
      ],
      "execution_count": null,
      "outputs": []
    },
    {
      "cell_type": "code",
      "metadata": {
        "id": "d4UgR9YzSUgX"
      },
      "source": [
        "#Selecciono 2 videojuegos diferentes, entre e top de reviews\n",
        "starwars_user_ratings = moviemat['Borderlands 2']\n",
        "liarliar_user_ratings = moviemat['Grand Theft Auto V']\n",
        "starwars_user_ratings.head()         #Videojuego indie "
      ],
      "execution_count": null,
      "outputs": []
    },
    {
      "cell_type": "code",
      "metadata": {
        "id": "y4QPLKQfU6kv"
      },
      "source": [
        "similar_to_starwars = moviemat.corrwith(starwars_user_ratings)\n",
        "similar_to_liarliar = moviemat.corrwith(liarliar_user_ratings)"
      ],
      "execution_count": null,
      "outputs": []
    },
    {
      "cell_type": "code",
      "metadata": {
        "id": "Uuad44NccYAU"
      },
      "source": [
        "corr_starwars = pd.DataFrame(similar_to_starwars,columns=['Correlation'])\n",
        "corr_starwars.dropna(inplace=True)\n",
        "corr_starwars.head()"
      ],
      "execution_count": null,
      "outputs": []
    },
    {
      "cell_type": "code",
      "metadata": {
        "id": "6ugfdnmCctNf"
      },
      "source": [
        ""
      ],
      "execution_count": null,
      "outputs": []
    },
    {
      "cell_type": "markdown",
      "metadata": {
        "id": "AmsJldSF4YW6"
      },
      "source": [
        "# Nuevo intento"
      ]
    },
    {
      "cell_type": "code",
      "metadata": {
        "id": "zOuBDeIq6Tg9"
      },
      "source": [
        "from sklearn.model_selection import train_test_split\n",
        "from sklearn.metrics import accuracy_score, recall_score, precision_score"
      ],
      "execution_count": null,
      "outputs": []
    },
    {
      "cell_type": "code",
      "metadata": {
        "id": "n0Y3G2LNEL6j"
      },
      "source": [
        "from sklearn import svm"
      ],
      "execution_count": null,
      "outputs": []
    },
    {
      "cell_type": "code",
      "metadata": {
        "id": "pes5Kcr-Eg3r"
      },
      "source": [
        "df.head(2)"
      ],
      "execution_count": null,
      "outputs": []
    },
    {
      "cell_type": "code",
      "metadata": {
        "id": "VyEvkCqhGIur"
      },
      "source": [
        "from sklearn import preprocessing\n",
        "\n",
        "le = preprocessing.LabelEncoder()"
      ],
      "execution_count": null,
      "outputs": []
    },
    {
      "cell_type": "code",
      "metadata": {
        "id": "gO-m4AIrGIqM"
      },
      "source": [
        "le.fit(df['username'])\n",
        "df['tipo_username'] = le.transform(df['username'])\n",
        "\n",
        "df.head(2)"
      ],
      "execution_count": null,
      "outputs": []
    },
    {
      "cell_type": "code",
      "metadata": {
        "id": "DT14n-H2EdYv"
      },
      "source": [
        "svm_RBF = svm.SVC()"
      ],
      "execution_count": null,
      "outputs": []
    },
    {
      "cell_type": "code",
      "metadata": {
        "id": "zzUDHeQZFZSu"
      },
      "source": [
        "x = df[['tipo_username', 'product_id']].astype('int')\n",
        "y = df[['polariy']].astype('int')"
      ],
      "execution_count": null,
      "outputs": []
    },
    {
      "cell_type": "code",
      "metadata": {
        "id": "zIV1DMOyG7Oa"
      },
      "source": [
        "from sklearn.neighbors import KNeighborsClassifier\n",
        "vecinos = KNeighborsClassifier()"
      ],
      "execution_count": null,
      "outputs": []
    },
    {
      "cell_type": "code",
      "metadata": {
        "id": "s9O1jzPRG7CG"
      },
      "source": [
        "vecinos.fit(X_train,y_train)"
      ],
      "execution_count": null,
      "outputs": []
    },
    {
      "cell_type": "code",
      "metadata": {
        "id": "OBqQMTe_IsoQ"
      },
      "source": [
        "prediccion = vecinos.predict(X_test)"
      ],
      "execution_count": null,
      "outputs": []
    },
    {
      "cell_type": "code",
      "metadata": {
        "id": "mTZyMwNWIxXI"
      },
      "source": [
        "prediccion"
      ],
      "execution_count": null,
      "outputs": []
    },
    {
      "cell_type": "markdown",
      "metadata": {
        "id": "MU6nrAA0ICeM"
      },
      "source": [
        "# SVM"
      ]
    },
    {
      "cell_type": "code",
      "metadata": {
        "id": "BvgVqKUeIBwp"
      },
      "source": [
        ""
      ],
      "execution_count": null,
      "outputs": []
    },
    {
      "cell_type": "code",
      "metadata": {
        "id": "-M5CnMOQFjBy"
      },
      "source": [
        "from sklearn.model_selection import train_test_split\n",
        "X_train, X_test, y_train, y_test = train_test_split(x, y, test_size=0.25, random_state=40)"
      ],
      "execution_count": null,
      "outputs": []
    },
    {
      "cell_type": "code",
      "metadata": {
        "id": "5M8RAI26E0vF"
      },
      "source": [
        "svm_RBF.fit(X_train, y_train)"
      ],
      "execution_count": null,
      "outputs": []
    },
    {
      "cell_type": "code",
      "metadata": {
        "id": "wc9c66_qKLwE"
      },
      "source": [
        "df[df['username'] == '123']"
      ],
      "execution_count": null,
      "outputs": []
    },
    {
      "cell_type": "code",
      "metadata": {
        "id": "zmQGvcWIKE4X"
      },
      "source": [
        "df[df['tipo_username']== 196]"
      ],
      "execution_count": null,
      "outputs": []
    },
    {
      "cell_type": "code",
      "metadata": {
        "id": "A0Bk-tO4KWgu"
      },
      "source": [
        "X_train.head(2)"
      ],
      "execution_count": null,
      "outputs": []
    },
    {
      "cell_type": "code",
      "metadata": {
        "id": "0Xb8SV9mLiFP"
      },
      "source": [
        ""
      ],
      "execution_count": null,
      "outputs": []
    },
    {
      "cell_type": "code",
      "metadata": {
        "id": "LdTkocrvLiA7"
      },
      "source": [
        "reader = Reader()"
      ],
      "execution_count": null,
      "outputs": []
    },
    {
      "cell_type": "code",
      "metadata": {
        "id": "IOvqTMOALmoW"
      },
      "source": [
        "df.head(2)"
      ],
      "execution_count": null,
      "outputs": []
    },
    {
      "cell_type": "code",
      "metadata": {
        "id": "SnkVe4ATLh8i"
      },
      "source": [
        "N_filas = 100000 # Limitamos el dataset a N_filas\n",
        "\n",
        "data = Dataset.load_from_df(df[['tipo_username', 'product_id', 'polariy']][:N_filas], reader)"
      ],
      "execution_count": null,
      "outputs": []
    },
    {
      "cell_type": "code",
      "metadata": {
        "id": "fgn2jejLLh4M"
      },
      "source": [
        "from surprise.model_selection import train_test_split\n",
        "\n",
        "trainset, testset = train_test_split(data, test_size=.25)"
      ],
      "execution_count": null,
      "outputs": []
    },
    {
      "cell_type": "code",
      "metadata": {
        "id": "qsQCVja2Lhz8"
      },
      "source": [
        "from surprise import SVD\n",
        "algo = SVD()"
      ],
      "execution_count": null,
      "outputs": []
    },
    {
      "cell_type": "code",
      "metadata": {
        "id": "7NJGipuMLhvk"
      },
      "source": [
        "algo.fit(trainset)"
      ],
      "execution_count": null,
      "outputs": []
    },
    {
      "cell_type": "code",
      "metadata": {
        "id": "xCsObchAL6R5"
      },
      "source": [
        "predictions = algo.test(testset)\n",
        "predictions[4]"
      ],
      "execution_count": null,
      "outputs": []
    },
    {
      "cell_type": "code",
      "metadata": {
        "id": "Gz3xXxAiL8hk"
      },
      "source": [
        "df[df['tipo_username'] == 10549]"
      ],
      "execution_count": null,
      "outputs": []
    },
    {
      "cell_type": "code",
      "metadata": {
        "id": "7JeVEVZaMNum"
      },
      "source": [
        "df.dtypes"
      ],
      "execution_count": null,
      "outputs": []
    },
    {
      "cell_type": "code",
      "metadata": {
        "id": "C5sE0IKUMnR0"
      },
      "source": [
        "df['polariy'] = df['polariy'].astype('int')"
      ],
      "execution_count": null,
      "outputs": []
    },
    {
      "cell_type": "code",
      "metadata": {
        "id": "nmtVwXBDMuAZ"
      },
      "source": [
        "df.dtypes"
      ],
      "execution_count": null,
      "outputs": []
    },
    {
      "cell_type": "code",
      "metadata": {
        "id": "FZA-10TTMvdn"
      },
      "source": [
        "df['round'] = df['polariy'].round(0)"
      ],
      "execution_count": null,
      "outputs": []
    },
    {
      "cell_type": "code",
      "metadata": {
        "id": "Fb6NyygvM09x"
      },
      "source": [
        "df.head(5)"
      ],
      "execution_count": null,
      "outputs": []
    },
    {
      "cell_type": "code",
      "metadata": {
        "id": "1SBGOd-fM2La"
      },
      "source": [
        "df['round'].max()"
      ],
      "execution_count": null,
      "outputs": []
    },
    {
      "cell_type": "code",
      "metadata": {
        "id": "uWu4GOwrM802"
      },
      "source": [
        "df['round'].min()"
      ],
      "execution_count": null,
      "outputs": []
    },
    {
      "cell_type": "code",
      "metadata": {
        "id": "i9kAjsaxNEdm"
      },
      "source": [
        ""
      ],
      "execution_count": null,
      "outputs": []
    },
    {
      "cell_type": "code",
      "metadata": {
        "id": "lBpD9_K0Pr8z"
      },
      "source": [
        ""
      ],
      "execution_count": null,
      "outputs": []
    },
    {
      "cell_type": "code",
      "metadata": {
        "colab": {
          "base_uri": "https://localhost:8080/",
          "height": 213
        },
        "id": "Hl-QI9c5Pr3L",
        "outputId": "6a66079a-28ca-43fd-fad7-104dd330ddf4"
      },
      "source": [
        "df.head(2)"
      ],
      "execution_count": 34,
      "outputs": [
        {
          "output_type": "execute_result",
          "data": {
            "text/html": [
              "<div>\n",
              "<style scoped>\n",
              "    .dataframe tbody tr th:only-of-type {\n",
              "        vertical-align: middle;\n",
              "    }\n",
              "\n",
              "    .dataframe tbody tr th {\n",
              "        vertical-align: top;\n",
              "    }\n",
              "\n",
              "    .dataframe thead th {\n",
              "        text-align: right;\n",
              "    }\n",
              "</style>\n",
              "<table border=\"1\" class=\"dataframe\">\n",
              "  <thead>\n",
              "    <tr style=\"text-align: right;\">\n",
              "      <th></th>\n",
              "      <th>username</th>\n",
              "      <th>hours</th>\n",
              "      <th>product_id</th>\n",
              "      <th>date</th>\n",
              "      <th>text</th>\n",
              "      <th>Fecha</th>\n",
              "      <th>Year</th>\n",
              "      <th>month</th>\n",
              "      <th>genres</th>\n",
              "      <th>title</th>\n",
              "      <th>tags</th>\n",
              "      <th>price</th>\n",
              "      <th>id</th>\n",
              "      <th>developer</th>\n",
              "    </tr>\n",
              "  </thead>\n",
              "  <tbody>\n",
              "    <tr>\n",
              "      <th>0</th>\n",
              "      <td>Chaos Syren</td>\n",
              "      <td>0.1</td>\n",
              "      <td>725280</td>\n",
              "      <td>2017-12-17</td>\n",
              "      <td>This would not be acceptable as an entertainme...</td>\n",
              "      <td>2017-12-17</td>\n",
              "      <td>2017</td>\n",
              "      <td>12</td>\n",
              "      <td>['Action', 'Adventure', 'Indie', 'Simulation']</td>\n",
              "      <td>Psi Project</td>\n",
              "      <td>['Action', 'Adventure', 'Indie', 'Simulation']</td>\n",
              "      <td>2.99</td>\n",
              "      <td>725280</td>\n",
              "      <td>Vyacheslav Shilikhin</td>\n",
              "    </tr>\n",
              "    <tr>\n",
              "      <th>1</th>\n",
              "      <td>Duha Nubie</td>\n",
              "      <td>11.3</td>\n",
              "      <td>35140</td>\n",
              "      <td>2018-01-03</td>\n",
              "      <td>first debut feel sweet</td>\n",
              "      <td>2018-01-03</td>\n",
              "      <td>2018</td>\n",
              "      <td>1</td>\n",
              "      <td>['Action', 'Adventure']</td>\n",
              "      <td>Batman: Arkham Asylum Game of the Year Edition</td>\n",
              "      <td>['Action', 'Batman', 'Stealth', 'Adventure', '...</td>\n",
              "      <td>19.99</td>\n",
              "      <td>35140</td>\n",
              "      <td>Rocksteady Studios,Feral Interactive (Mac)</td>\n",
              "    </tr>\n",
              "  </tbody>\n",
              "</table>\n",
              "</div>"
            ],
            "text/plain": [
              "      username  hours  ...      id                                   developer\n",
              "0  Chaos Syren    0.1  ...  725280                        Vyacheslav Shilikhin\n",
              "1   Duha Nubie   11.3  ...   35140  Rocksteady Studios,Feral Interactive (Mac)\n",
              "\n",
              "[2 rows x 14 columns]"
            ]
          },
          "metadata": {
            "tags": []
          },
          "execution_count": 34
        }
      ]
    },
    {
      "cell_type": "code",
      "metadata": {
        "id": "rkFRHMCAPs_6"
      },
      "source": [
        " df['xtext'] = df['text'].str.replace('[{}]'.format(string.punctuation), ' ')"
      ],
      "execution_count": 35,
      "outputs": []
    },
    {
      "cell_type": "code",
      "metadata": {
        "id": "-bb1K7cGP8PV"
      },
      "source": [
        "df.drop(columns=[\n",
        "                 'hours', 'date',\n",
        "                 'Fecha', 'Year',\n",
        "                 'month', 'id',\n",
        "                 'developer'],\n",
        "         inplace=True)"
      ],
      "execution_count": 36,
      "outputs": []
    },
    {
      "cell_type": "code",
      "metadata": {
        "colab": {
          "base_uri": "https://localhost:8080/",
          "height": 162
        },
        "id": "icSiibQpQNN2",
        "outputId": "58950c01-e34f-4171-8e00-79d6454e3dac"
      },
      "source": [
        "df.head(2)"
      ],
      "execution_count": 37,
      "outputs": [
        {
          "output_type": "execute_result",
          "data": {
            "text/html": [
              "<div>\n",
              "<style scoped>\n",
              "    .dataframe tbody tr th:only-of-type {\n",
              "        vertical-align: middle;\n",
              "    }\n",
              "\n",
              "    .dataframe tbody tr th {\n",
              "        vertical-align: top;\n",
              "    }\n",
              "\n",
              "    .dataframe thead th {\n",
              "        text-align: right;\n",
              "    }\n",
              "</style>\n",
              "<table border=\"1\" class=\"dataframe\">\n",
              "  <thead>\n",
              "    <tr style=\"text-align: right;\">\n",
              "      <th></th>\n",
              "      <th>username</th>\n",
              "      <th>product_id</th>\n",
              "      <th>text</th>\n",
              "      <th>genres</th>\n",
              "      <th>title</th>\n",
              "      <th>tags</th>\n",
              "      <th>price</th>\n",
              "      <th>xtext</th>\n",
              "    </tr>\n",
              "  </thead>\n",
              "  <tbody>\n",
              "    <tr>\n",
              "      <th>0</th>\n",
              "      <td>Chaos Syren</td>\n",
              "      <td>725280</td>\n",
              "      <td>This would not be acceptable as an entertainme...</td>\n",
              "      <td>['Action', 'Adventure', 'Indie', 'Simulation']</td>\n",
              "      <td>Psi Project</td>\n",
              "      <td>['Action', 'Adventure', 'Indie', 'Simulation']</td>\n",
              "      <td>2.99</td>\n",
              "      <td>This would not be acceptable as an entertainme...</td>\n",
              "    </tr>\n",
              "    <tr>\n",
              "      <th>1</th>\n",
              "      <td>Duha Nubie</td>\n",
              "      <td>35140</td>\n",
              "      <td>first debut feel sweet</td>\n",
              "      <td>['Action', 'Adventure']</td>\n",
              "      <td>Batman: Arkham Asylum Game of the Year Edition</td>\n",
              "      <td>['Action', 'Batman', 'Stealth', 'Adventure', '...</td>\n",
              "      <td>19.99</td>\n",
              "      <td>first debut feel sweet</td>\n",
              "    </tr>\n",
              "  </tbody>\n",
              "</table>\n",
              "</div>"
            ],
            "text/plain": [
              "      username  ...                                              xtext\n",
              "0  Chaos Syren  ...  This would not be acceptable as an entertainme...\n",
              "1   Duha Nubie  ...                             first debut feel sweet\n",
              "\n",
              "[2 rows x 8 columns]"
            ]
          },
          "metadata": {
            "tags": []
          },
          "execution_count": 37
        }
      ]
    },
    {
      "cell_type": "code",
      "metadata": {
        "colab": {
          "base_uri": "https://localhost:8080/",
          "height": 179
        },
        "id": "aRrzWsyJQOUZ",
        "outputId": "a7b3d5ab-acb5-4452-b071-1d49aaf511fd"
      },
      "source": [
        "from sklearn import preprocessing\n",
        "\n",
        "le = preprocessing.LabelEncoder()\n",
        "le.fit(df['username'])\n",
        "df['#username'] = le.transform(df['username'])\n",
        "\n",
        "df.head(2)"
      ],
      "execution_count": 38,
      "outputs": [
        {
          "output_type": "execute_result",
          "data": {
            "text/html": [
              "<div>\n",
              "<style scoped>\n",
              "    .dataframe tbody tr th:only-of-type {\n",
              "        vertical-align: middle;\n",
              "    }\n",
              "\n",
              "    .dataframe tbody tr th {\n",
              "        vertical-align: top;\n",
              "    }\n",
              "\n",
              "    .dataframe thead th {\n",
              "        text-align: right;\n",
              "    }\n",
              "</style>\n",
              "<table border=\"1\" class=\"dataframe\">\n",
              "  <thead>\n",
              "    <tr style=\"text-align: right;\">\n",
              "      <th></th>\n",
              "      <th>username</th>\n",
              "      <th>product_id</th>\n",
              "      <th>text</th>\n",
              "      <th>genres</th>\n",
              "      <th>title</th>\n",
              "      <th>tags</th>\n",
              "      <th>price</th>\n",
              "      <th>xtext</th>\n",
              "      <th>#username</th>\n",
              "    </tr>\n",
              "  </thead>\n",
              "  <tbody>\n",
              "    <tr>\n",
              "      <th>0</th>\n",
              "      <td>Chaos Syren</td>\n",
              "      <td>725280</td>\n",
              "      <td>This would not be acceptable as an entertainme...</td>\n",
              "      <td>['Action', 'Adventure', 'Indie', 'Simulation']</td>\n",
              "      <td>Psi Project</td>\n",
              "      <td>['Action', 'Adventure', 'Indie', 'Simulation']</td>\n",
              "      <td>2.99</td>\n",
              "      <td>This would not be acceptable as an entertainme...</td>\n",
              "      <td>45116</td>\n",
              "    </tr>\n",
              "    <tr>\n",
              "      <th>1</th>\n",
              "      <td>Duha Nubie</td>\n",
              "      <td>35140</td>\n",
              "      <td>first debut feel sweet</td>\n",
              "      <td>['Action', 'Adventure']</td>\n",
              "      <td>Batman: Arkham Asylum Game of the Year Edition</td>\n",
              "      <td>['Action', 'Batman', 'Stealth', 'Adventure', '...</td>\n",
              "      <td>19.99</td>\n",
              "      <td>first debut feel sweet</td>\n",
              "      <td>73962</td>\n",
              "    </tr>\n",
              "  </tbody>\n",
              "</table>\n",
              "</div>"
            ],
            "text/plain": [
              "      username  ...  #username\n",
              "0  Chaos Syren  ...      45116\n",
              "1   Duha Nubie  ...      73962\n",
              "\n",
              "[2 rows x 9 columns]"
            ]
          },
          "metadata": {
            "tags": []
          },
          "execution_count": 38
        }
      ]
    },
    {
      "cell_type": "code",
      "metadata": {
        "id": "iYZXBQ17Qmej"
      },
      "source": [
        "df.drop(columns=['text', 'price'], inplace=True)"
      ],
      "execution_count": 39,
      "outputs": []
    },
    {
      "cell_type": "code",
      "metadata": {
        "colab": {
          "base_uri": "https://localhost:8080/"
        },
        "id": "dgusYSFCRsFn",
        "outputId": "e4d6c6d9-8c05-4132-e385-b05f8cc3ca09"
      },
      "source": [
        "df.shape"
      ],
      "execution_count": 40,
      "outputs": [
        {
          "output_type": "execute_result",
          "data": {
            "text/plain": [
              "(515076, 7)"
            ]
          },
          "metadata": {
            "tags": []
          },
          "execution_count": 40
        }
      ]
    },
    {
      "cell_type": "code",
      "metadata": {
        "id": "R4AQWs91Rpv3"
      },
      "source": [
        "df_games = df.sample(frac=0.1)\n",
        "df_games.reset_index(drop=True, inplace=True)"
      ],
      "execution_count": 43,
      "outputs": []
    },
    {
      "cell_type": "code",
      "metadata": {
        "colab": {
          "base_uri": "https://localhost:8080/"
        },
        "id": "SUOoKBNsRw_q",
        "outputId": "52439e70-8a8e-4ce6-80c2-d26618d34e90"
      },
      "source": [
        "df_games.shape"
      ],
      "execution_count": 44,
      "outputs": [
        {
          "output_type": "execute_result",
          "data": {
            "text/plain": [
              "(51508, 7)"
            ]
          },
          "metadata": {
            "tags": []
          },
          "execution_count": 44
        }
      ]
    },
    {
      "cell_type": "code",
      "metadata": {
        "id": "qcMbk7wfQ5iU"
      },
      "source": [
        "comentarios = []\n",
        "\n",
        "for i in range(df_games.shape[0]):\n",
        "  comentario = df_games.xtext.iloc[i]\n",
        "  comentario = TextBlob(comentario).polarity\n",
        "  comentarios.append(comentario)\n",
        "\n",
        "df_games['polarity'] = comentarios"
      ],
      "execution_count": 45,
      "outputs": []
    },
    {
      "cell_type": "code",
      "metadata": {
        "colab": {
          "base_uri": "https://localhost:8080/",
          "height": 128
        },
        "id": "yu-8b0hjQ5cf",
        "outputId": "02065095-e843-40df-9f31-adb7115fb470"
      },
      "source": [
        "df_games.head(2)"
      ],
      "execution_count": 46,
      "outputs": [
        {
          "output_type": "execute_result",
          "data": {
            "text/html": [
              "<div>\n",
              "<style scoped>\n",
              "    .dataframe tbody tr th:only-of-type {\n",
              "        vertical-align: middle;\n",
              "    }\n",
              "\n",
              "    .dataframe tbody tr th {\n",
              "        vertical-align: top;\n",
              "    }\n",
              "\n",
              "    .dataframe thead th {\n",
              "        text-align: right;\n",
              "    }\n",
              "</style>\n",
              "<table border=\"1\" class=\"dataframe\">\n",
              "  <thead>\n",
              "    <tr style=\"text-align: right;\">\n",
              "      <th></th>\n",
              "      <th>username</th>\n",
              "      <th>product_id</th>\n",
              "      <th>genres</th>\n",
              "      <th>title</th>\n",
              "      <th>tags</th>\n",
              "      <th>xtext</th>\n",
              "      <th>#username</th>\n",
              "      <th>polarity</th>\n",
              "    </tr>\n",
              "  </thead>\n",
              "  <tbody>\n",
              "    <tr>\n",
              "      <th>0</th>\n",
              "      <td>RockSteady</td>\n",
              "      <td>72200</td>\n",
              "      <td>['Casual', 'Indie', 'Simulation']</td>\n",
              "      <td>Universe Sandbox</td>\n",
              "      <td>['Simulation', 'Sandbox', 'Space', 'Physics', ...</td>\n",
              "      <td>I blew up Jupiter  Most of it formed in the as...</td>\n",
              "      <td>205967</td>\n",
              "      <td>0.121374</td>\n",
              "    </tr>\n",
              "    <tr>\n",
              "      <th>1</th>\n",
              "      <td>caidicus</td>\n",
              "      <td>557810</td>\n",
              "      <td>['Free to Play']</td>\n",
              "      <td>Clicker Guild</td>\n",
              "      <td>['Free to Play', 'Clicker', 'Casual']</td>\n",
              "      <td></td>\n",
              "      <td>298190</td>\n",
              "      <td>0.000000</td>\n",
              "    </tr>\n",
              "  </tbody>\n",
              "</table>\n",
              "</div>"
            ],
            "text/plain": [
              "     username  product_id  ... #username  polarity\n",
              "0  RockSteady       72200  ...    205967  0.121374\n",
              "1    caidicus      557810  ...    298190  0.000000\n",
              "\n",
              "[2 rows x 8 columns]"
            ]
          },
          "metadata": {
            "tags": []
          },
          "execution_count": 46
        }
      ]
    },
    {
      "cell_type": "code",
      "metadata": {
        "colab": {
          "base_uri": "https://localhost:8080/"
        },
        "id": "1pck-zMnTxkb",
        "outputId": "de60eaf1-0bfa-4ac7-d82e-a121eda6e255"
      },
      "source": [
        "df_games.dtypes"
      ],
      "execution_count": 47,
      "outputs": [
        {
          "output_type": "execute_result",
          "data": {
            "text/plain": [
              "username       string\n",
              "product_id      int64\n",
              "genres         string\n",
              "title          string\n",
              "tags           string\n",
              "xtext          string\n",
              "#username       int64\n",
              "polarity      float64\n",
              "dtype: object"
            ]
          },
          "metadata": {
            "tags": []
          },
          "execution_count": 47
        }
      ]
    },
    {
      "cell_type": "code",
      "metadata": {
        "id": "pRCw8kOEUiti"
      },
      "source": [
        "df_games['Round'] = df_games['polarity'].round(0)"
      ],
      "execution_count": 49,
      "outputs": []
    },
    {
      "cell_type": "code",
      "metadata": {
        "colab": {
          "base_uri": "https://localhost:8080/",
          "height": 128
        },
        "id": "DI7hEyPUUs2u",
        "outputId": "6b53a1fc-390f-4215-93c5-2db457a7a9ed"
      },
      "source": [
        "df_games.head(2)"
      ],
      "execution_count": 50,
      "outputs": [
        {
          "output_type": "execute_result",
          "data": {
            "text/html": [
              "<div>\n",
              "<style scoped>\n",
              "    .dataframe tbody tr th:only-of-type {\n",
              "        vertical-align: middle;\n",
              "    }\n",
              "\n",
              "    .dataframe tbody tr th {\n",
              "        vertical-align: top;\n",
              "    }\n",
              "\n",
              "    .dataframe thead th {\n",
              "        text-align: right;\n",
              "    }\n",
              "</style>\n",
              "<table border=\"1\" class=\"dataframe\">\n",
              "  <thead>\n",
              "    <tr style=\"text-align: right;\">\n",
              "      <th></th>\n",
              "      <th>username</th>\n",
              "      <th>product_id</th>\n",
              "      <th>genres</th>\n",
              "      <th>title</th>\n",
              "      <th>tags</th>\n",
              "      <th>xtext</th>\n",
              "      <th>#username</th>\n",
              "      <th>polarity</th>\n",
              "      <th>Round</th>\n",
              "    </tr>\n",
              "  </thead>\n",
              "  <tbody>\n",
              "    <tr>\n",
              "      <th>0</th>\n",
              "      <td>RockSteady</td>\n",
              "      <td>72200</td>\n",
              "      <td>['Casual', 'Indie', 'Simulation']</td>\n",
              "      <td>Universe Sandbox</td>\n",
              "      <td>['Simulation', 'Sandbox', 'Space', 'Physics', ...</td>\n",
              "      <td>I blew up Jupiter  Most of it formed in the as...</td>\n",
              "      <td>205967</td>\n",
              "      <td>0.121374</td>\n",
              "      <td>0.0</td>\n",
              "    </tr>\n",
              "    <tr>\n",
              "      <th>1</th>\n",
              "      <td>caidicus</td>\n",
              "      <td>557810</td>\n",
              "      <td>['Free to Play']</td>\n",
              "      <td>Clicker Guild</td>\n",
              "      <td>['Free to Play', 'Clicker', 'Casual']</td>\n",
              "      <td></td>\n",
              "      <td>298190</td>\n",
              "      <td>0.000000</td>\n",
              "      <td>0.0</td>\n",
              "    </tr>\n",
              "  </tbody>\n",
              "</table>\n",
              "</div>"
            ],
            "text/plain": [
              "     username  product_id  ...  polarity Round\n",
              "0  RockSteady       72200  ...  0.121374   0.0\n",
              "1    caidicus      557810  ...  0.000000   0.0\n",
              "\n",
              "[2 rows x 9 columns]"
            ]
          },
          "metadata": {
            "tags": []
          },
          "execution_count": 50
        }
      ]
    },
    {
      "cell_type": "code",
      "metadata": {
        "colab": {
          "base_uri": "https://localhost:8080/",
          "height": 302
        },
        "id": "IXw6kSS1VES4",
        "outputId": "04f72141-c7a8-4d8c-cb21-37fde4958c30"
      },
      "source": [
        "sns.kdeplot(df_games['Round'])"
      ],
      "execution_count": 51,
      "outputs": [
        {
          "output_type": "execute_result",
          "data": {
            "text/plain": [
              "<matplotlib.axes._subplots.AxesSubplot at 0x7f2949ab95f8>"
            ]
          },
          "metadata": {
            "tags": []
          },
          "execution_count": 51
        },
        {
          "output_type": "display_data",
          "data": {
            "image/png": "[encoded data removed]",
            "text/plain": [
              "<Figure size 432x288 with 1 Axes>"
            ]
          },
          "metadata": {
            "tags": []
          }
        }
      ]
    },
    {
      "cell_type": "code",
      "metadata": {
        "id": "e0qJ0Sn_YziK"
      },
      "source": [
        "good_games = df_games[df_games['Round'] == 1]"
      ],
      "execution_count": null,
      "outputs": []
    },
    {
      "cell_type": "code",
      "metadata": {
        "colab": {
          "base_uri": "https://localhost:8080/"
        },
        "id": "_lJFwyFPYJas",
        "outputId": "40d31089-2a61-41fd-e0d4-659261cfbf90"
      },
      "source": [
        "print('Juegos con reviews positivas\\n')\n",
        "df_games.groupby('title')['Round'].mean().sort_values(ascending=False).head()"
      ],
      "execution_count": 52,
      "outputs": [
        {
          "output_type": "stream",
          "text": [
            "Juegos con reviews positivas\n",
            "\n"
          ],
          "name": "stdout"
        },
        {
          "output_type": "execute_result",
          "data": {
            "text/plain": [
              "title\n",
              "Offensive Combat: Redux!                             1.0\n",
              "Deathstate: Abyssal Edition                          1.0\n",
              "Disciples III - Renaissance Steam Special Edition    1.0\n",
              "Shattered Planet                                     1.0\n",
              "SiNKR                                                1.0\n",
              "Name: Round, dtype: float64"
            ]
          },
          "metadata": {
            "tags": []
          },
          "execution_count": 52
        }
      ]
    },
    {
      "cell_type": "code",
      "metadata": {
        "colab": {
          "base_uri": "https://localhost:8080/"
        },
        "id": "5fVonU6jfjYW",
        "outputId": "f583e681-380b-47fb-c528-c733ff7d549d"
      },
      "source": [
        "print('Videojuegos con mas reviews\\n')\n",
        "df_games.groupby('title')['Round'].count().sort_values(ascending=False).head()"
      ],
      "execution_count": 53,
      "outputs": [
        {
          "output_type": "stream",
          "text": [
            "Videojuegos con mas reviews\n",
            "\n"
          ],
          "name": "stdout"
        },
        {
          "output_type": "execute_result",
          "data": {
            "text/plain": [
              "title\n",
              "Team Fortress 2       1193\n",
              "Rust                   679\n",
              "Borderlands 2          507\n",
              "Fallout 4              447\n",
              "Grand Theft Auto V     385\n",
              "Name: Round, dtype: int64"
            ]
          },
          "metadata": {
            "tags": []
          },
          "execution_count": 53
        }
      ]
    },
    {
      "cell_type": "markdown",
      "metadata": {
        "id": "E1FbV111f-cQ"
      },
      "source": [
        ""
      ]
    },
    {
      "cell_type": "code",
      "metadata": {
        "colab": {
          "base_uri": "https://localhost:8080/",
          "height": 235
        },
        "id": "svz7kntZf_kC",
        "outputId": "82070f42-4d8d-4ca1-dd07-df426b05e183"
      },
      "source": [
        "ratings = pd.DataFrame(df_games.groupby('title')['Round'].mean())\n",
        "ratings.head()"
      ],
      "execution_count": 54,
      "outputs": [
        {
          "output_type": "execute_result",
          "data": {
            "text/html": [
              "<div>\n",
              "<style scoped>\n",
              "    .dataframe tbody tr th:only-of-type {\n",
              "        vertical-align: middle;\n",
              "    }\n",
              "\n",
              "    .dataframe tbody tr th {\n",
              "        vertical-align: top;\n",
              "    }\n",
              "\n",
              "    .dataframe thead th {\n",
              "        text-align: right;\n",
              "    }\n",
              "</style>\n",
              "<table border=\"1\" class=\"dataframe\">\n",
              "  <thead>\n",
              "    <tr style=\"text-align: right;\">\n",
              "      <th></th>\n",
              "      <th>Round</th>\n",
              "    </tr>\n",
              "    <tr>\n",
              "      <th>title</th>\n",
              "      <th></th>\n",
              "    </tr>\n",
              "  </thead>\n",
              "  <tbody>\n",
              "    <tr>\n",
              "      <th>\"TWO DRAW\"</th>\n",
              "      <td>0.000000</td>\n",
              "    </tr>\n",
              "    <tr>\n",
              "      <th>#monstercakes</th>\n",
              "      <td>0.000000</td>\n",
              "    </tr>\n",
              "    <tr>\n",
              "      <th>&amp;gt;observer_</th>\n",
              "      <td>0.000000</td>\n",
              "    </tr>\n",
              "    <tr>\n",
              "      <th>.hack//G.U. Last Recode</th>\n",
              "      <td>0.166667</td>\n",
              "    </tr>\n",
              "    <tr>\n",
              "      <th>//N.P.P.D. RUSH//- The milk of Ultraviolet</th>\n",
              "      <td>0.000000</td>\n",
              "    </tr>\n",
              "  </tbody>\n",
              "</table>\n",
              "</div>"
            ],
            "text/plain": [
              "                                               Round\n",
              "title                                               \n",
              "\"TWO DRAW\"                                  0.000000\n",
              "#monstercakes                               0.000000\n",
              "&gt;observer_                               0.000000\n",
              ".hack//G.U. Last Recode                     0.166667\n",
              "//N.P.P.D. RUSH//- The milk of Ultraviolet  0.000000"
            ]
          },
          "metadata": {
            "tags": []
          },
          "execution_count": 54
        }
      ]
    },
    {
      "cell_type": "code",
      "metadata": {
        "colab": {
          "base_uri": "https://localhost:8080/",
          "height": 235
        },
        "id": "ys13y0dkfvq2",
        "outputId": "c0aea62b-c810-4d52-ea41-741d4271dd4b"
      },
      "source": [
        "ratings['num of ratings'] = pd.DataFrame(df_games.groupby('title')['Round'].count())\n",
        "ratings.head()"
      ],
      "execution_count": 55,
      "outputs": [
        {
          "output_type": "execute_result",
          "data": {
            "text/html": [
              "<div>\n",
              "<style scoped>\n",
              "    .dataframe tbody tr th:only-of-type {\n",
              "        vertical-align: middle;\n",
              "    }\n",
              "\n",
              "    .dataframe tbody tr th {\n",
              "        vertical-align: top;\n",
              "    }\n",
              "\n",
              "    .dataframe thead th {\n",
              "        text-align: right;\n",
              "    }\n",
              "</style>\n",
              "<table border=\"1\" class=\"dataframe\">\n",
              "  <thead>\n",
              "    <tr style=\"text-align: right;\">\n",
              "      <th></th>\n",
              "      <th>Round</th>\n",
              "      <th>num of ratings</th>\n",
              "    </tr>\n",
              "    <tr>\n",
              "      <th>title</th>\n",
              "      <th></th>\n",
              "      <th></th>\n",
              "    </tr>\n",
              "  </thead>\n",
              "  <tbody>\n",
              "    <tr>\n",
              "      <th>\"TWO DRAW\"</th>\n",
              "      <td>0.000000</td>\n",
              "      <td>1</td>\n",
              "    </tr>\n",
              "    <tr>\n",
              "      <th>#monstercakes</th>\n",
              "      <td>0.000000</td>\n",
              "      <td>1</td>\n",
              "    </tr>\n",
              "    <tr>\n",
              "      <th>&amp;gt;observer_</th>\n",
              "      <td>0.000000</td>\n",
              "      <td>3</td>\n",
              "    </tr>\n",
              "    <tr>\n",
              "      <th>.hack//G.U. Last Recode</th>\n",
              "      <td>0.166667</td>\n",
              "      <td>6</td>\n",
              "    </tr>\n",
              "    <tr>\n",
              "      <th>//N.P.P.D. RUSH//- The milk of Ultraviolet</th>\n",
              "      <td>0.000000</td>\n",
              "      <td>1</td>\n",
              "    </tr>\n",
              "  </tbody>\n",
              "</table>\n",
              "</div>"
            ],
            "text/plain": [
              "                                               Round  num of ratings\n",
              "title                                                               \n",
              "\"TWO DRAW\"                                  0.000000               1\n",
              "#monstercakes                               0.000000               1\n",
              "&gt;observer_                               0.000000               3\n",
              ".hack//G.U. Last Recode                     0.166667               6\n",
              "//N.P.P.D. RUSH//- The milk of Ultraviolet  0.000000               1"
            ]
          },
          "metadata": {
            "tags": []
          },
          "execution_count": 55
        }
      ]
    },
    {
      "cell_type": "code",
      "metadata": {
        "colab": {
          "base_uri": "https://localhost:8080/",
          "height": 128
        },
        "id": "69JkEDOGgnXi",
        "outputId": "14bffbc1-b1d9-4b58-93f4-587529b4c295"
      },
      "source": [
        "df_games.head(2)"
      ],
      "execution_count": 56,
      "outputs": [
        {
          "output_type": "execute_result",
          "data": {
            "text/html": [
              "<div>\n",
              "<style scoped>\n",
              "    .dataframe tbody tr th:only-of-type {\n",
              "        vertical-align: middle;\n",
              "    }\n",
              "\n",
              "    .dataframe tbody tr th {\n",
              "        vertical-align: top;\n",
              "    }\n",
              "\n",
              "    .dataframe thead th {\n",
              "        text-align: right;\n",
              "    }\n",
              "</style>\n",
              "<table border=\"1\" class=\"dataframe\">\n",
              "  <thead>\n",
              "    <tr style=\"text-align: right;\">\n",
              "      <th></th>\n",
              "      <th>username</th>\n",
              "      <th>product_id</th>\n",
              "      <th>genres</th>\n",
              "      <th>title</th>\n",
              "      <th>tags</th>\n",
              "      <th>xtext</th>\n",
              "      <th>#username</th>\n",
              "      <th>polarity</th>\n",
              "      <th>Round</th>\n",
              "    </tr>\n",
              "  </thead>\n",
              "  <tbody>\n",
              "    <tr>\n",
              "      <th>0</th>\n",
              "      <td>RockSteady</td>\n",
              "      <td>72200</td>\n",
              "      <td>['Casual', 'Indie', 'Simulation']</td>\n",
              "      <td>Universe Sandbox</td>\n",
              "      <td>['Simulation', 'Sandbox', 'Space', 'Physics', ...</td>\n",
              "      <td>I blew up Jupiter  Most of it formed in the as...</td>\n",
              "      <td>205967</td>\n",
              "      <td>0.121374</td>\n",
              "      <td>0.0</td>\n",
              "    </tr>\n",
              "    <tr>\n",
              "      <th>1</th>\n",
              "      <td>caidicus</td>\n",
              "      <td>557810</td>\n",
              "      <td>['Free to Play']</td>\n",
              "      <td>Clicker Guild</td>\n",
              "      <td>['Free to Play', 'Clicker', 'Casual']</td>\n",
              "      <td></td>\n",
              "      <td>298190</td>\n",
              "      <td>0.000000</td>\n",
              "      <td>0.0</td>\n",
              "    </tr>\n",
              "  </tbody>\n",
              "</table>\n",
              "</div>"
            ],
            "text/plain": [
              "     username  product_id  ...  polarity Round\n",
              "0  RockSteady       72200  ...  0.121374   0.0\n",
              "1    caidicus      557810  ...  0.000000   0.0\n",
              "\n",
              "[2 rows x 9 columns]"
            ]
          },
          "metadata": {
            "tags": []
          },
          "execution_count": 56
        }
      ]
    },
    {
      "cell_type": "code",
      "metadata": {
        "colab": {
          "base_uri": "https://localhost:8080/",
          "height": 437
        },
        "id": "COunEUSdgKpo",
        "outputId": "e0b19e04-b8fc-4990-e734-312f40aadeb8"
      },
      "source": [
        "moviemat = df_games.pivot_table(index='username',columns='title',values='polarity')\n",
        "moviemat.head()"
      ],
      "execution_count": 85,
      "outputs": [
        {
          "output_type": "execute_result",
          "data": {
            "text/html": [
              "<div>\n",
              "<style scoped>\n",
              "    .dataframe tbody tr th:only-of-type {\n",
              "        vertical-align: middle;\n",
              "    }\n",
              "\n",
              "    .dataframe tbody tr th {\n",
              "        vertical-align: top;\n",
              "    }\n",
              "\n",
              "    .dataframe thead th {\n",
              "        text-align: right;\n",
              "    }\n",
              "</style>\n",
              "<table border=\"1\" class=\"dataframe\">\n",
              "  <thead>\n",
              "    <tr style=\"text-align: right;\">\n",
              "      <th>title</th>\n",
              "      <th>\"TWO DRAW\"</th>\n",
              "      <th>#monstercakes</th>\n",
              "      <th>&amp;gt;observer_</th>\n",
              "      <th>.hack//G.U. Last Recode</th>\n",
              "      <th>//N.P.P.D. RUSH//- The milk of Ultraviolet</th>\n",
              "      <th>001 Game Creator</th>\n",
              "      <th>10 Second Ninja</th>\n",
              "      <th>10 Second Ninja X</th>\n",
              "      <th>10 Years After</th>\n",
              "      <th>10,000,000</th>\n",
              "      <th>100% Orange Juice</th>\n",
              "      <th>1000 Amps</th>\n",
              "      <th>1001 Spikes</th>\n",
              "      <th>12 Labours of Hercules</th>\n",
              "      <th>12 Labours of Hercules II: The Cretan Bull</th>\n",
              "      <th>12 Labours of Hercules III: Girl Power</th>\n",
              "      <th>12 Labours of Hercules IV: Mother Nature (Platinum Edition)</th>\n",
              "      <th>12 is Better Than 6</th>\n",
              "      <th>140</th>\n",
              "      <th>16bit Trader</th>\n",
              "      <th>18 Wheels of Steel: American Long Haul</th>\n",
              "      <th>18 Wheels of Steel: Extreme Trucker</th>\n",
              "      <th>1849</th>\n",
              "      <th>1953 - KGB Unleashed</th>\n",
              "      <th>1954 Alcatraz</th>\n",
              "      <th>1979 Revolution: Black Friday</th>\n",
              "      <th>1982</th>\n",
              "      <th>1Quest</th>\n",
              "      <th>200% Mixed Juice!</th>\n",
              "      <th>2064: Read Only Memories</th>\n",
              "      <th>20XX</th>\n",
              "      <th>24 HOURS</th>\n",
              "      <th>3 Stars of Destiny</th>\n",
              "      <th>3030 Deathwar Redux</th>\n",
              "      <th>3089 -- Futuristic Action RPG</th>\n",
              "      <th>35MM</th>\n",
              "      <th>3D MiniGolf</th>\n",
              "      <th>3DMark</th>\n",
              "      <th>3DRPG</th>\n",
              "      <th>3SwitcheD</th>\n",
              "      <th>...</th>\n",
              "      <th>eden*</th>\n",
              "      <th>emoj.io</th>\n",
              "      <th>eversion</th>\n",
              "      <th>fault - milestone one</th>\n",
              "      <th>fault - milestone two side:above</th>\n",
              "      <th>gravilon</th>\n",
              "      <th>hack_me 2</th>\n",
              "      <th>hackmud</th>\n",
              "      <th>hocus</th>\n",
              "      <th>how do you Do It?</th>\n",
              "      <th>iBomber Attack</th>\n",
              "      <th>iBomber Defense</th>\n",
              "      <th>ibb &amp;amp; obb</th>\n",
              "      <th>it's always monday</th>\n",
              "      <th>klocki</th>\n",
              "      <th>liteCam Android: No Root Android Screen Recorder</th>\n",
              "      <th>liteCam Game: 100 FPS Game Capture</th>\n",
              "      <th>oO</th>\n",
              "      <th>openCanvas 6</th>\n",
              "      <th>planetarian ~the reverie of a little planet~</th>\n",
              "      <th>rFactor</th>\n",
              "      <th>rFactor 2</th>\n",
              "      <th>realMYST</th>\n",
              "      <th>resident evil 4 / biohazard 4</th>\n",
              "      <th>room13</th>\n",
              "      <th>sZone-Online</th>\n",
              "      <th>samurai_jazz</th>\n",
              "      <th>stratO</th>\n",
              "      <th>the static speaks my name</th>\n",
              "      <th>theHunter Classic</th>\n",
              "      <th>theHunter: Call of the Wild™</th>\n",
              "      <th>theHunter: Primal</th>\n",
              "      <th>welcome to heaven</th>\n",
              "      <th>Астролорды: Облако Оорта</th>\n",
              "      <th>レイジングループ</th>\n",
              "      <th>侠客风云传(Tale of Wuxia)</th>\n",
              "      <th>天使帝國四《Empire of Angels IV》</th>\n",
              "      <th>家有大貓 Nekojishi</th>\n",
              "      <th>東方天空璋 ～ Hidden Star in Four Seasons.</th>\n",
              "      <th>龙魂时刻</th>\n",
              "    </tr>\n",
              "    <tr>\n",
              "      <th>username</th>\n",
              "      <th></th>\n",
              "      <th></th>\n",
              "      <th></th>\n",
              "      <th></th>\n",
              "      <th></th>\n",
              "      <th></th>\n",
              "      <th></th>\n",
              "      <th></th>\n",
              "      <th></th>\n",
              "      <th></th>\n",
              "      <th></th>\n",
              "      <th></th>\n",
              "      <th></th>\n",
              "      <th></th>\n",
              "      <th></th>\n",
              "      <th></th>\n",
              "      <th></th>\n",
              "      <th></th>\n",
              "      <th></th>\n",
              "      <th></th>\n",
              "      <th></th>\n",
              "      <th></th>\n",
              "      <th></th>\n",
              "      <th></th>\n",
              "      <th></th>\n",
              "      <th></th>\n",
              "      <th></th>\n",
              "      <th></th>\n",
              "      <th></th>\n",
              "      <th></th>\n",
              "      <th></th>\n",
              "      <th></th>\n",
              "      <th></th>\n",
              "      <th></th>\n",
              "      <th></th>\n",
              "      <th></th>\n",
              "      <th></th>\n",
              "      <th></th>\n",
              "      <th></th>\n",
              "      <th></th>\n",
              "      <th></th>\n",
              "      <th></th>\n",
              "      <th></th>\n",
              "      <th></th>\n",
              "      <th></th>\n",
              "      <th></th>\n",
              "      <th></th>\n",
              "      <th></th>\n",
              "      <th></th>\n",
              "      <th></th>\n",
              "      <th></th>\n",
              "      <th></th>\n",
              "      <th></th>\n",
              "      <th></th>\n",
              "      <th></th>\n",
              "      <th></th>\n",
              "      <th></th>\n",
              "      <th></th>\n",
              "      <th></th>\n",
              "      <th></th>\n",
              "      <th></th>\n",
              "      <th></th>\n",
              "      <th></th>\n",
              "      <th></th>\n",
              "      <th></th>\n",
              "      <th></th>\n",
              "      <th></th>\n",
              "      <th></th>\n",
              "      <th></th>\n",
              "      <th></th>\n",
              "      <th></th>\n",
              "      <th></th>\n",
              "      <th></th>\n",
              "      <th></th>\n",
              "      <th></th>\n",
              "      <th></th>\n",
              "      <th></th>\n",
              "      <th></th>\n",
              "      <th></th>\n",
              "      <th></th>\n",
              "      <th></th>\n",
              "    </tr>\n",
              "  </thead>\n",
              "  <tbody>\n",
              "    <tr>\n",
              "      <th>!-Word</th>\n",
              "      <td>NaN</td>\n",
              "      <td>NaN</td>\n",
              "      <td>NaN</td>\n",
              "      <td>NaN</td>\n",
              "      <td>NaN</td>\n",
              "      <td>NaN</td>\n",
              "      <td>NaN</td>\n",
              "      <td>NaN</td>\n",
              "      <td>NaN</td>\n",
              "      <td>NaN</td>\n",
              "      <td>NaN</td>\n",
              "      <td>NaN</td>\n",
              "      <td>NaN</td>\n",
              "      <td>NaN</td>\n",
              "      <td>NaN</td>\n",
              "      <td>NaN</td>\n",
              "      <td>NaN</td>\n",
              "      <td>NaN</td>\n",
              "      <td>NaN</td>\n",
              "      <td>NaN</td>\n",
              "      <td>NaN</td>\n",
              "      <td>NaN</td>\n",
              "      <td>NaN</td>\n",
              "      <td>NaN</td>\n",
              "      <td>NaN</td>\n",
              "      <td>NaN</td>\n",
              "      <td>NaN</td>\n",
              "      <td>NaN</td>\n",
              "      <td>NaN</td>\n",
              "      <td>NaN</td>\n",
              "      <td>NaN</td>\n",
              "      <td>NaN</td>\n",
              "      <td>NaN</td>\n",
              "      <td>NaN</td>\n",
              "      <td>NaN</td>\n",
              "      <td>NaN</td>\n",
              "      <td>NaN</td>\n",
              "      <td>NaN</td>\n",
              "      <td>NaN</td>\n",
              "      <td>NaN</td>\n",
              "      <td>...</td>\n",
              "      <td>NaN</td>\n",
              "      <td>NaN</td>\n",
              "      <td>NaN</td>\n",
              "      <td>NaN</td>\n",
              "      <td>NaN</td>\n",
              "      <td>NaN</td>\n",
              "      <td>NaN</td>\n",
              "      <td>NaN</td>\n",
              "      <td>NaN</td>\n",
              "      <td>NaN</td>\n",
              "      <td>NaN</td>\n",
              "      <td>NaN</td>\n",
              "      <td>NaN</td>\n",
              "      <td>NaN</td>\n",
              "      <td>NaN</td>\n",
              "      <td>NaN</td>\n",
              "      <td>NaN</td>\n",
              "      <td>NaN</td>\n",
              "      <td>NaN</td>\n",
              "      <td>NaN</td>\n",
              "      <td>NaN</td>\n",
              "      <td>NaN</td>\n",
              "      <td>NaN</td>\n",
              "      <td>NaN</td>\n",
              "      <td>NaN</td>\n",
              "      <td>NaN</td>\n",
              "      <td>NaN</td>\n",
              "      <td>NaN</td>\n",
              "      <td>NaN</td>\n",
              "      <td>NaN</td>\n",
              "      <td>NaN</td>\n",
              "      <td>NaN</td>\n",
              "      <td>NaN</td>\n",
              "      <td>NaN</td>\n",
              "      <td>NaN</td>\n",
              "      <td>NaN</td>\n",
              "      <td>NaN</td>\n",
              "      <td>NaN</td>\n",
              "      <td>NaN</td>\n",
              "      <td>NaN</td>\n",
              "    </tr>\n",
              "    <tr>\n",
              "      <th>!@#$ Spinn</th>\n",
              "      <td>NaN</td>\n",
              "      <td>NaN</td>\n",
              "      <td>NaN</td>\n",
              "      <td>NaN</td>\n",
              "      <td>NaN</td>\n",
              "      <td>NaN</td>\n",
              "      <td>NaN</td>\n",
              "      <td>NaN</td>\n",
              "      <td>NaN</td>\n",
              "      <td>NaN</td>\n",
              "      <td>NaN</td>\n",
              "      <td>NaN</td>\n",
              "      <td>NaN</td>\n",
              "      <td>NaN</td>\n",
              "      <td>NaN</td>\n",
              "      <td>NaN</td>\n",
              "      <td>NaN</td>\n",
              "      <td>NaN</td>\n",
              "      <td>NaN</td>\n",
              "      <td>NaN</td>\n",
              "      <td>NaN</td>\n",
              "      <td>NaN</td>\n",
              "      <td>NaN</td>\n",
              "      <td>NaN</td>\n",
              "      <td>NaN</td>\n",
              "      <td>NaN</td>\n",
              "      <td>NaN</td>\n",
              "      <td>NaN</td>\n",
              "      <td>NaN</td>\n",
              "      <td>NaN</td>\n",
              "      <td>NaN</td>\n",
              "      <td>NaN</td>\n",
              "      <td>NaN</td>\n",
              "      <td>NaN</td>\n",
              "      <td>NaN</td>\n",
              "      <td>NaN</td>\n",
              "      <td>NaN</td>\n",
              "      <td>NaN</td>\n",
              "      <td>NaN</td>\n",
              "      <td>NaN</td>\n",
              "      <td>...</td>\n",
              "      <td>NaN</td>\n",
              "      <td>NaN</td>\n",
              "      <td>NaN</td>\n",
              "      <td>NaN</td>\n",
              "      <td>NaN</td>\n",
              "      <td>NaN</td>\n",
              "      <td>NaN</td>\n",
              "      <td>NaN</td>\n",
              "      <td>NaN</td>\n",
              "      <td>NaN</td>\n",
              "      <td>NaN</td>\n",
              "      <td>NaN</td>\n",
              "      <td>NaN</td>\n",
              "      <td>NaN</td>\n",
              "      <td>NaN</td>\n",
              "      <td>NaN</td>\n",
              "      <td>NaN</td>\n",
              "      <td>NaN</td>\n",
              "      <td>NaN</td>\n",
              "      <td>NaN</td>\n",
              "      <td>NaN</td>\n",
              "      <td>NaN</td>\n",
              "      <td>NaN</td>\n",
              "      <td>NaN</td>\n",
              "      <td>NaN</td>\n",
              "      <td>NaN</td>\n",
              "      <td>NaN</td>\n",
              "      <td>NaN</td>\n",
              "      <td>NaN</td>\n",
              "      <td>NaN</td>\n",
              "      <td>NaN</td>\n",
              "      <td>NaN</td>\n",
              "      <td>NaN</td>\n",
              "      <td>NaN</td>\n",
              "      <td>NaN</td>\n",
              "      <td>NaN</td>\n",
              "      <td>NaN</td>\n",
              "      <td>NaN</td>\n",
              "      <td>NaN</td>\n",
              "      <td>NaN</td>\n",
              "    </tr>\n",
              "    <tr>\n",
              "      <th>!Ali  •{3x}•</th>\n",
              "      <td>NaN</td>\n",
              "      <td>NaN</td>\n",
              "      <td>NaN</td>\n",
              "      <td>NaN</td>\n",
              "      <td>NaN</td>\n",
              "      <td>NaN</td>\n",
              "      <td>NaN</td>\n",
              "      <td>NaN</td>\n",
              "      <td>NaN</td>\n",
              "      <td>NaN</td>\n",
              "      <td>NaN</td>\n",
              "      <td>NaN</td>\n",
              "      <td>NaN</td>\n",
              "      <td>NaN</td>\n",
              "      <td>NaN</td>\n",
              "      <td>NaN</td>\n",
              "      <td>NaN</td>\n",
              "      <td>NaN</td>\n",
              "      <td>NaN</td>\n",
              "      <td>NaN</td>\n",
              "      <td>NaN</td>\n",
              "      <td>NaN</td>\n",
              "      <td>NaN</td>\n",
              "      <td>NaN</td>\n",
              "      <td>NaN</td>\n",
              "      <td>NaN</td>\n",
              "      <td>NaN</td>\n",
              "      <td>NaN</td>\n",
              "      <td>NaN</td>\n",
              "      <td>NaN</td>\n",
              "      <td>NaN</td>\n",
              "      <td>NaN</td>\n",
              "      <td>NaN</td>\n",
              "      <td>NaN</td>\n",
              "      <td>NaN</td>\n",
              "      <td>NaN</td>\n",
              "      <td>NaN</td>\n",
              "      <td>NaN</td>\n",
              "      <td>NaN</td>\n",
              "      <td>NaN</td>\n",
              "      <td>...</td>\n",
              "      <td>NaN</td>\n",
              "      <td>NaN</td>\n",
              "      <td>NaN</td>\n",
              "      <td>NaN</td>\n",
              "      <td>NaN</td>\n",
              "      <td>NaN</td>\n",
              "      <td>NaN</td>\n",
              "      <td>NaN</td>\n",
              "      <td>NaN</td>\n",
              "      <td>NaN</td>\n",
              "      <td>NaN</td>\n",
              "      <td>NaN</td>\n",
              "      <td>NaN</td>\n",
              "      <td>NaN</td>\n",
              "      <td>NaN</td>\n",
              "      <td>NaN</td>\n",
              "      <td>NaN</td>\n",
              "      <td>NaN</td>\n",
              "      <td>NaN</td>\n",
              "      <td>NaN</td>\n",
              "      <td>NaN</td>\n",
              "      <td>NaN</td>\n",
              "      <td>NaN</td>\n",
              "      <td>NaN</td>\n",
              "      <td>NaN</td>\n",
              "      <td>NaN</td>\n",
              "      <td>NaN</td>\n",
              "      <td>NaN</td>\n",
              "      <td>NaN</td>\n",
              "      <td>NaN</td>\n",
              "      <td>NaN</td>\n",
              "      <td>NaN</td>\n",
              "      <td>NaN</td>\n",
              "      <td>NaN</td>\n",
              "      <td>NaN</td>\n",
              "      <td>NaN</td>\n",
              "      <td>NaN</td>\n",
              "      <td>NaN</td>\n",
              "      <td>NaN</td>\n",
              "      <td>NaN</td>\n",
              "    </tr>\n",
              "    <tr>\n",
              "      <th>!Attacker</th>\n",
              "      <td>NaN</td>\n",
              "      <td>NaN</td>\n",
              "      <td>NaN</td>\n",
              "      <td>NaN</td>\n",
              "      <td>NaN</td>\n",
              "      <td>NaN</td>\n",
              "      <td>NaN</td>\n",
              "      <td>NaN</td>\n",
              "      <td>NaN</td>\n",
              "      <td>NaN</td>\n",
              "      <td>NaN</td>\n",
              "      <td>NaN</td>\n",
              "      <td>NaN</td>\n",
              "      <td>NaN</td>\n",
              "      <td>NaN</td>\n",
              "      <td>NaN</td>\n",
              "      <td>NaN</td>\n",
              "      <td>NaN</td>\n",
              "      <td>NaN</td>\n",
              "      <td>NaN</td>\n",
              "      <td>NaN</td>\n",
              "      <td>NaN</td>\n",
              "      <td>NaN</td>\n",
              "      <td>NaN</td>\n",
              "      <td>NaN</td>\n",
              "      <td>NaN</td>\n",
              "      <td>NaN</td>\n",
              "      <td>NaN</td>\n",
              "      <td>NaN</td>\n",
              "      <td>NaN</td>\n",
              "      <td>NaN</td>\n",
              "      <td>NaN</td>\n",
              "      <td>NaN</td>\n",
              "      <td>NaN</td>\n",
              "      <td>NaN</td>\n",
              "      <td>NaN</td>\n",
              "      <td>NaN</td>\n",
              "      <td>NaN</td>\n",
              "      <td>NaN</td>\n",
              "      <td>NaN</td>\n",
              "      <td>...</td>\n",
              "      <td>NaN</td>\n",
              "      <td>NaN</td>\n",
              "      <td>NaN</td>\n",
              "      <td>NaN</td>\n",
              "      <td>NaN</td>\n",
              "      <td>NaN</td>\n",
              "      <td>NaN</td>\n",
              "      <td>NaN</td>\n",
              "      <td>NaN</td>\n",
              "      <td>NaN</td>\n",
              "      <td>NaN</td>\n",
              "      <td>NaN</td>\n",
              "      <td>NaN</td>\n",
              "      <td>NaN</td>\n",
              "      <td>NaN</td>\n",
              "      <td>NaN</td>\n",
              "      <td>NaN</td>\n",
              "      <td>NaN</td>\n",
              "      <td>NaN</td>\n",
              "      <td>NaN</td>\n",
              "      <td>NaN</td>\n",
              "      <td>NaN</td>\n",
              "      <td>NaN</td>\n",
              "      <td>NaN</td>\n",
              "      <td>NaN</td>\n",
              "      <td>NaN</td>\n",
              "      <td>NaN</td>\n",
              "      <td>NaN</td>\n",
              "      <td>NaN</td>\n",
              "      <td>NaN</td>\n",
              "      <td>NaN</td>\n",
              "      <td>NaN</td>\n",
              "      <td>NaN</td>\n",
              "      <td>NaN</td>\n",
              "      <td>NaN</td>\n",
              "      <td>NaN</td>\n",
              "      <td>NaN</td>\n",
              "      <td>NaN</td>\n",
              "      <td>NaN</td>\n",
              "      <td>NaN</td>\n",
              "    </tr>\n",
              "    <tr>\n",
              "      <th>!B0XY</th>\n",
              "      <td>NaN</td>\n",
              "      <td>NaN</td>\n",
              "      <td>NaN</td>\n",
              "      <td>NaN</td>\n",
              "      <td>NaN</td>\n",
              "      <td>NaN</td>\n",
              "      <td>NaN</td>\n",
              "      <td>NaN</td>\n",
              "      <td>NaN</td>\n",
              "      <td>NaN</td>\n",
              "      <td>NaN</td>\n",
              "      <td>NaN</td>\n",
              "      <td>NaN</td>\n",
              "      <td>NaN</td>\n",
              "      <td>NaN</td>\n",
              "      <td>NaN</td>\n",
              "      <td>NaN</td>\n",
              "      <td>NaN</td>\n",
              "      <td>NaN</td>\n",
              "      <td>NaN</td>\n",
              "      <td>NaN</td>\n",
              "      <td>NaN</td>\n",
              "      <td>NaN</td>\n",
              "      <td>NaN</td>\n",
              "      <td>NaN</td>\n",
              "      <td>NaN</td>\n",
              "      <td>NaN</td>\n",
              "      <td>NaN</td>\n",
              "      <td>NaN</td>\n",
              "      <td>NaN</td>\n",
              "      <td>NaN</td>\n",
              "      <td>NaN</td>\n",
              "      <td>NaN</td>\n",
              "      <td>NaN</td>\n",
              "      <td>NaN</td>\n",
              "      <td>NaN</td>\n",
              "      <td>NaN</td>\n",
              "      <td>NaN</td>\n",
              "      <td>NaN</td>\n",
              "      <td>NaN</td>\n",
              "      <td>...</td>\n",
              "      <td>NaN</td>\n",
              "      <td>NaN</td>\n",
              "      <td>NaN</td>\n",
              "      <td>NaN</td>\n",
              "      <td>NaN</td>\n",
              "      <td>NaN</td>\n",
              "      <td>NaN</td>\n",
              "      <td>NaN</td>\n",
              "      <td>NaN</td>\n",
              "      <td>NaN</td>\n",
              "      <td>NaN</td>\n",
              "      <td>NaN</td>\n",
              "      <td>NaN</td>\n",
              "      <td>NaN</td>\n",
              "      <td>NaN</td>\n",
              "      <td>NaN</td>\n",
              "      <td>NaN</td>\n",
              "      <td>NaN</td>\n",
              "      <td>NaN</td>\n",
              "      <td>NaN</td>\n",
              "      <td>NaN</td>\n",
              "      <td>NaN</td>\n",
              "      <td>NaN</td>\n",
              "      <td>NaN</td>\n",
              "      <td>NaN</td>\n",
              "      <td>NaN</td>\n",
              "      <td>NaN</td>\n",
              "      <td>NaN</td>\n",
              "      <td>NaN</td>\n",
              "      <td>NaN</td>\n",
              "      <td>NaN</td>\n",
              "      <td>NaN</td>\n",
              "      <td>NaN</td>\n",
              "      <td>NaN</td>\n",
              "      <td>NaN</td>\n",
              "      <td>NaN</td>\n",
              "      <td>NaN</td>\n",
              "      <td>NaN</td>\n",
              "      <td>NaN</td>\n",
              "      <td>NaN</td>\n",
              "    </tr>\n",
              "  </tbody>\n",
              "</table>\n",
              "<p>5 rows × 5543 columns</p>\n",
              "</div>"
            ],
            "text/plain": [
              "title         \"TWO DRAW\"  ...  龙魂时刻\n",
              "username                  ...      \n",
              "!-Word               NaN  ...   NaN\n",
              "!@#$ Spinn           NaN  ...   NaN\n",
              "!Ali  •{3x}•         NaN  ...   NaN\n",
              "!Attacker            NaN  ...   NaN\n",
              "!B0XY                NaN  ...   NaN\n",
              "\n",
              "[5 rows x 5543 columns]"
            ]
          },
          "metadata": {
            "tags": []
          },
          "execution_count": 85
        }
      ]
    },
    {
      "cell_type": "code",
      "metadata": {
        "id": "LVkonXYOjc-b"
      },
      "source": [
        "moviemat = moviemat.dropna(thresh=20, axis=1).fillna(0,axis=1)"
      ],
      "execution_count": 86,
      "outputs": []
    },
    {
      "cell_type": "code",
      "metadata": {
        "colab": {
          "base_uri": "https://localhost:8080/",
          "height": 796
        },
        "id": "fosf9Xj8jvKv",
        "outputId": "fdbb24ab-717c-4de0-813a-ec124b6d8152"
      },
      "source": [
        "corrMatrix = moviemat.corr(method='pearson')\n",
        "corrMatrix.head(10)"
      ],
      "execution_count": 87,
      "outputs": [
        {
          "output_type": "execute_result",
          "data": {
            "text/html": [
              "<div>\n",
              "<style scoped>\n",
              "    .dataframe tbody tr th:only-of-type {\n",
              "        vertical-align: middle;\n",
              "    }\n",
              "\n",
              "    .dataframe tbody tr th {\n",
              "        vertical-align: top;\n",
              "    }\n",
              "\n",
              "    .dataframe thead th {\n",
              "        text-align: right;\n",
              "    }\n",
              "</style>\n",
              "<table border=\"1\" class=\"dataframe\">\n",
              "  <thead>\n",
              "    <tr style=\"text-align: right;\">\n",
              "      <th>title</th>\n",
              "      <th>100% Orange Juice</th>\n",
              "      <th>8BitMMO</th>\n",
              "      <th>A Bird Story</th>\n",
              "      <th>A Hat in Time</th>\n",
              "      <th>A Story About My Uncle</th>\n",
              "      <th>A.V.A. Alliance of Valiant Arms™</th>\n",
              "      <th>ABZU</th>\n",
              "      <th>APB Reloaded</th>\n",
              "      <th>ARK: Survival Evolved</th>\n",
              "      <th>ARK: Survival Of The Fittest</th>\n",
              "      <th>ASTRONEER</th>\n",
              "      <th>Absolver</th>\n",
              "      <th>Ace of Spades: Battle Builder</th>\n",
              "      <th>AdVenture Capitalist</th>\n",
              "      <th>Age of Empires II HD</th>\n",
              "      <th>Age of Empires® III: Complete Collection</th>\n",
              "      <th>AirMech Strike</th>\n",
              "      <th>Alan Wake</th>\n",
              "      <th>Alien Swarm</th>\n",
              "      <th>Alien: Isolation</th>\n",
              "      <th>Aliens vs. Predator™</th>\n",
              "      <th>America's Army: Proving Grounds</th>\n",
              "      <th>American Truck Simulator</th>\n",
              "      <th>Amnesia: The Dark Descent</th>\n",
              "      <th>Antichamber</th>\n",
              "      <th>ArcheAge</th>\n",
              "      <th>ArcheBlade™</th>\n",
              "      <th>Arma 2: Operation Arrowhead</th>\n",
              "      <th>Arma 3</th>\n",
              "      <th>Assassin's Creed® Origins</th>\n",
              "      <th>Assassin's Creed® Unity</th>\n",
              "      <th>Assassin’s Creed® III</th>\n",
              "      <th>Assassin’s Creed® IV Black Flag™</th>\n",
              "      <th>Atlas Reactor</th>\n",
              "      <th>Aura Kingdom</th>\n",
              "      <th>Awesomenauts - the 2D moba</th>\n",
              "      <th>BLOCKADE 3D</th>\n",
              "      <th>BRINK</th>\n",
              "      <th>Baldur's Gate: Enhanced Edition</th>\n",
              "      <th>Banished</th>\n",
              "      <th>...</th>\n",
              "      <th>Transistor</th>\n",
              "      <th>Transmissions: Element 120</th>\n",
              "      <th>Tree of Savior (English Ver.)</th>\n",
              "      <th>Tribes: Ascend</th>\n",
              "      <th>Trine 2: Complete Story</th>\n",
              "      <th>Trine Enchanted Edition</th>\n",
              "      <th>Tropico 4</th>\n",
              "      <th>Tropico 5</th>\n",
              "      <th>Trove</th>\n",
              "      <th>Ultra Street Fighter® IV</th>\n",
              "      <th>Undertale</th>\n",
              "      <th>Unturned</th>\n",
              "      <th>VA-11 Hall-A: Cyberpunk Bartender Action</th>\n",
              "      <th>VVVVVV</th>\n",
              "      <th>Vampire: The Masquerade - Bloodlines</th>\n",
              "      <th>Verdun</th>\n",
              "      <th>WARMODE</th>\n",
              "      <th>Wallpaper Engine</th>\n",
              "      <th>Warface</th>\n",
              "      <th>Warframe</th>\n",
              "      <th>Wargame: Red Dragon</th>\n",
              "      <th>Warhammer 40,000: Dawn of War II</th>\n",
              "      <th>Warhammer 40,000: Space Marine</th>\n",
              "      <th>Warhammer: End Times - Vermintide</th>\n",
              "      <th>Wasteland 2: Director's Cut</th>\n",
              "      <th>Watch_Dogs® 2</th>\n",
              "      <th>Watch_Dogs™</th>\n",
              "      <th>Who's Your Daddy</th>\n",
              "      <th>WildStar</th>\n",
              "      <th>Wolfenstein II: The New Colossus</th>\n",
              "      <th>Wolfenstein: The New Order</th>\n",
              "      <th>World of Guns: Gun Disassembly</th>\n",
              "      <th>X Rebirth</th>\n",
              "      <th>XCOM: Enemy Unknown</th>\n",
              "      <th>XCOM® 2</th>\n",
              "      <th>Yet Another Zombie Defense</th>\n",
              "      <th>You Have to Win the Game</th>\n",
              "      <th>Youtubers Life</th>\n",
              "      <th>theHunter Classic</th>\n",
              "      <th>theHunter: Call of the Wild™</th>\n",
              "    </tr>\n",
              "    <tr>\n",
              "      <th>title</th>\n",
              "      <th></th>\n",
              "      <th></th>\n",
              "      <th></th>\n",
              "      <th></th>\n",
              "      <th></th>\n",
              "      <th></th>\n",
              "      <th></th>\n",
              "      <th></th>\n",
              "      <th></th>\n",
              "      <th></th>\n",
              "      <th></th>\n",
              "      <th></th>\n",
              "      <th></th>\n",
              "      <th></th>\n",
              "      <th></th>\n",
              "      <th></th>\n",
              "      <th></th>\n",
              "      <th></th>\n",
              "      <th></th>\n",
              "      <th></th>\n",
              "      <th></th>\n",
              "      <th></th>\n",
              "      <th></th>\n",
              "      <th></th>\n",
              "      <th></th>\n",
              "      <th></th>\n",
              "      <th></th>\n",
              "      <th></th>\n",
              "      <th></th>\n",
              "      <th></th>\n",
              "      <th></th>\n",
              "      <th></th>\n",
              "      <th></th>\n",
              "      <th></th>\n",
              "      <th></th>\n",
              "      <th></th>\n",
              "      <th></th>\n",
              "      <th></th>\n",
              "      <th></th>\n",
              "      <th></th>\n",
              "      <th></th>\n",
              "      <th></th>\n",
              "      <th></th>\n",
              "      <th></th>\n",
              "      <th></th>\n",
              "      <th></th>\n",
              "      <th></th>\n",
              "      <th></th>\n",
              "      <th></th>\n",
              "      <th></th>\n",
              "      <th></th>\n",
              "      <th></th>\n",
              "      <th></th>\n",
              "      <th></th>\n",
              "      <th></th>\n",
              "      <th></th>\n",
              "      <th></th>\n",
              "      <th></th>\n",
              "      <th></th>\n",
              "      <th></th>\n",
              "      <th></th>\n",
              "      <th></th>\n",
              "      <th></th>\n",
              "      <th></th>\n",
              "      <th></th>\n",
              "      <th></th>\n",
              "      <th></th>\n",
              "      <th></th>\n",
              "      <th></th>\n",
              "      <th></th>\n",
              "      <th></th>\n",
              "      <th></th>\n",
              "      <th></th>\n",
              "      <th></th>\n",
              "      <th></th>\n",
              "      <th></th>\n",
              "      <th></th>\n",
              "      <th></th>\n",
              "      <th></th>\n",
              "      <th></th>\n",
              "      <th></th>\n",
              "    </tr>\n",
              "  </thead>\n",
              "  <tbody>\n",
              "    <tr>\n",
              "      <th>100% Orange Juice</th>\n",
              "      <td>1.000000</td>\n",
              "      <td>-0.000008</td>\n",
              "      <td>0.000004</td>\n",
              "      <td>0.000020</td>\n",
              "      <td>0.000017</td>\n",
              "      <td>0.000003</td>\n",
              "      <td>0.000017</td>\n",
              "      <td>0.000006</td>\n",
              "      <td>0.000006</td>\n",
              "      <td>0.000001</td>\n",
              "      <td>0.000020</td>\n",
              "      <td>0.000007</td>\n",
              "      <td>0.000006</td>\n",
              "      <td>0.000013</td>\n",
              "      <td>0.000023</td>\n",
              "      <td>0.000016</td>\n",
              "      <td>0.000006</td>\n",
              "      <td>0.000012</td>\n",
              "      <td>0.000022</td>\n",
              "      <td>0.000008</td>\n",
              "      <td>0.000003</td>\n",
              "      <td>0.000012</td>\n",
              "      <td>0.000024</td>\n",
              "      <td>0.000002</td>\n",
              "      <td>0.000012</td>\n",
              "      <td>0.000005</td>\n",
              "      <td>0.000008</td>\n",
              "      <td>0.000017</td>\n",
              "      <td>0.000032</td>\n",
              "      <td>0.000012</td>\n",
              "      <td>-1.703715e-07</td>\n",
              "      <td>0.000005</td>\n",
              "      <td>0.000019</td>\n",
              "      <td>0.000014</td>\n",
              "      <td>0.000012</td>\n",
              "      <td>0.000021</td>\n",
              "      <td>0.000008</td>\n",
              "      <td>9.031313e-07</td>\n",
              "      <td>0.000013</td>\n",
              "      <td>0.000017</td>\n",
              "      <td>...</td>\n",
              "      <td>0.000033</td>\n",
              "      <td>0.000016</td>\n",
              "      <td>0.000009</td>\n",
              "      <td>0.000008</td>\n",
              "      <td>0.000023</td>\n",
              "      <td>0.000016</td>\n",
              "      <td>0.000013</td>\n",
              "      <td>0.000012</td>\n",
              "      <td>0.000019</td>\n",
              "      <td>0.000011</td>\n",
              "      <td>0.000041</td>\n",
              "      <td>0.000015</td>\n",
              "      <td>0.000016</td>\n",
              "      <td>0.000013</td>\n",
              "      <td>0.000012</td>\n",
              "      <td>0.000021</td>\n",
              "      <td>-0.000004</td>\n",
              "      <td>0.000031</td>\n",
              "      <td>0.000008</td>\n",
              "      <td>0.000045</td>\n",
              "      <td>0.000015</td>\n",
              "      <td>0.000008</td>\n",
              "      <td>0.000013</td>\n",
              "      <td>0.000012</td>\n",
              "      <td>0.000011</td>\n",
              "      <td>0.000017</td>\n",
              "      <td>0.000006</td>\n",
              "      <td>0.000007</td>\n",
              "      <td>0.000011</td>\n",
              "      <td>0.000018</td>\n",
              "      <td>0.000031</td>\n",
              "      <td>0.000011</td>\n",
              "      <td>-0.000006</td>\n",
              "      <td>0.000029</td>\n",
              "      <td>0.000019</td>\n",
              "      <td>0.000011</td>\n",
              "      <td>0.000010</td>\n",
              "      <td>0.000008</td>\n",
              "      <td>0.000004</td>\n",
              "      <td>0.000006</td>\n",
              "    </tr>\n",
              "    <tr>\n",
              "      <th>8BitMMO</th>\n",
              "      <td>-0.000008</td>\n",
              "      <td>1.000000</td>\n",
              "      <td>0.000026</td>\n",
              "      <td>0.000138</td>\n",
              "      <td>0.000116</td>\n",
              "      <td>0.000018</td>\n",
              "      <td>0.000122</td>\n",
              "      <td>0.000044</td>\n",
              "      <td>0.000043</td>\n",
              "      <td>0.000010</td>\n",
              "      <td>0.000142</td>\n",
              "      <td>0.000048</td>\n",
              "      <td>0.000045</td>\n",
              "      <td>0.000093</td>\n",
              "      <td>0.000158</td>\n",
              "      <td>0.000109</td>\n",
              "      <td>0.000041</td>\n",
              "      <td>0.000084</td>\n",
              "      <td>0.000153</td>\n",
              "      <td>0.000057</td>\n",
              "      <td>0.000018</td>\n",
              "      <td>0.000085</td>\n",
              "      <td>0.000164</td>\n",
              "      <td>0.000014</td>\n",
              "      <td>0.000086</td>\n",
              "      <td>0.000038</td>\n",
              "      <td>0.000059</td>\n",
              "      <td>0.000117</td>\n",
              "      <td>0.000225</td>\n",
              "      <td>0.000087</td>\n",
              "      <td>-1.188056e-06</td>\n",
              "      <td>0.000036</td>\n",
              "      <td>0.000136</td>\n",
              "      <td>0.000094</td>\n",
              "      <td>0.000086</td>\n",
              "      <td>0.000148</td>\n",
              "      <td>0.000055</td>\n",
              "      <td>6.297830e-06</td>\n",
              "      <td>0.000094</td>\n",
              "      <td>0.000118</td>\n",
              "      <td>...</td>\n",
              "      <td>0.000227</td>\n",
              "      <td>0.000112</td>\n",
              "      <td>0.000064</td>\n",
              "      <td>0.000058</td>\n",
              "      <td>0.000159</td>\n",
              "      <td>0.000112</td>\n",
              "      <td>0.000090</td>\n",
              "      <td>0.000081</td>\n",
              "      <td>0.000132</td>\n",
              "      <td>0.000076</td>\n",
              "      <td>0.000289</td>\n",
              "      <td>0.000105</td>\n",
              "      <td>0.000113</td>\n",
              "      <td>0.000091</td>\n",
              "      <td>0.000082</td>\n",
              "      <td>0.000145</td>\n",
              "      <td>-0.000029</td>\n",
              "      <td>0.000216</td>\n",
              "      <td>0.000052</td>\n",
              "      <td>0.000312</td>\n",
              "      <td>0.000103</td>\n",
              "      <td>0.000057</td>\n",
              "      <td>0.000088</td>\n",
              "      <td>0.000083</td>\n",
              "      <td>0.000076</td>\n",
              "      <td>0.000118</td>\n",
              "      <td>0.000042</td>\n",
              "      <td>0.000051</td>\n",
              "      <td>0.000079</td>\n",
              "      <td>0.000128</td>\n",
              "      <td>0.000219</td>\n",
              "      <td>0.000080</td>\n",
              "      <td>-0.000039</td>\n",
              "      <td>0.000200</td>\n",
              "      <td>0.000134</td>\n",
              "      <td>0.000074</td>\n",
              "      <td>0.000067</td>\n",
              "      <td>0.000058</td>\n",
              "      <td>0.000030</td>\n",
              "      <td>0.000039</td>\n",
              "    </tr>\n",
              "    <tr>\n",
              "      <th>A Bird Story</th>\n",
              "      <td>0.000004</td>\n",
              "      <td>0.000026</td>\n",
              "      <td>1.000000</td>\n",
              "      <td>-0.000068</td>\n",
              "      <td>-0.000057</td>\n",
              "      <td>-0.000009</td>\n",
              "      <td>-0.000060</td>\n",
              "      <td>-0.000021</td>\n",
              "      <td>-0.000021</td>\n",
              "      <td>-0.000005</td>\n",
              "      <td>-0.000069</td>\n",
              "      <td>-0.000024</td>\n",
              "      <td>-0.000022</td>\n",
              "      <td>-0.000046</td>\n",
              "      <td>-0.000077</td>\n",
              "      <td>-0.000053</td>\n",
              "      <td>-0.000020</td>\n",
              "      <td>-0.000041</td>\n",
              "      <td>-0.000075</td>\n",
              "      <td>-0.000028</td>\n",
              "      <td>-0.000009</td>\n",
              "      <td>-0.000042</td>\n",
              "      <td>-0.000080</td>\n",
              "      <td>-0.000007</td>\n",
              "      <td>-0.000042</td>\n",
              "      <td>-0.000019</td>\n",
              "      <td>-0.000029</td>\n",
              "      <td>-0.000057</td>\n",
              "      <td>-0.000110</td>\n",
              "      <td>-0.000043</td>\n",
              "      <td>5.812847e-07</td>\n",
              "      <td>-0.000018</td>\n",
              "      <td>-0.000066</td>\n",
              "      <td>-0.000046</td>\n",
              "      <td>-0.000042</td>\n",
              "      <td>-0.000072</td>\n",
              "      <td>-0.000027</td>\n",
              "      <td>-3.081364e-06</td>\n",
              "      <td>-0.000046</td>\n",
              "      <td>-0.000058</td>\n",
              "      <td>...</td>\n",
              "      <td>-0.000111</td>\n",
              "      <td>-0.000055</td>\n",
              "      <td>-0.000031</td>\n",
              "      <td>-0.000028</td>\n",
              "      <td>-0.000078</td>\n",
              "      <td>-0.000055</td>\n",
              "      <td>-0.000044</td>\n",
              "      <td>-0.000040</td>\n",
              "      <td>-0.000064</td>\n",
              "      <td>-0.000037</td>\n",
              "      <td>-0.000141</td>\n",
              "      <td>-0.000051</td>\n",
              "      <td>-0.000055</td>\n",
              "      <td>-0.000044</td>\n",
              "      <td>-0.000040</td>\n",
              "      <td>-0.000071</td>\n",
              "      <td>0.000014</td>\n",
              "      <td>-0.000106</td>\n",
              "      <td>-0.000026</td>\n",
              "      <td>-0.000153</td>\n",
              "      <td>-0.000051</td>\n",
              "      <td>-0.000028</td>\n",
              "      <td>-0.000043</td>\n",
              "      <td>-0.000041</td>\n",
              "      <td>-0.000037</td>\n",
              "      <td>-0.000058</td>\n",
              "      <td>-0.000020</td>\n",
              "      <td>-0.000025</td>\n",
              "      <td>-0.000039</td>\n",
              "      <td>-0.000062</td>\n",
              "      <td>-0.000107</td>\n",
              "      <td>-0.000039</td>\n",
              "      <td>0.000019</td>\n",
              "      <td>-0.000098</td>\n",
              "      <td>-0.000066</td>\n",
              "      <td>-0.000036</td>\n",
              "      <td>-0.000033</td>\n",
              "      <td>-0.000028</td>\n",
              "      <td>-0.000015</td>\n",
              "      <td>-0.000019</td>\n",
              "    </tr>\n",
              "    <tr>\n",
              "      <th>A Hat in Time</th>\n",
              "      <td>0.000020</td>\n",
              "      <td>0.000138</td>\n",
              "      <td>-0.000068</td>\n",
              "      <td>1.000000</td>\n",
              "      <td>-0.000297</td>\n",
              "      <td>-0.000045</td>\n",
              "      <td>-0.000311</td>\n",
              "      <td>-0.000111</td>\n",
              "      <td>-0.000110</td>\n",
              "      <td>-0.000025</td>\n",
              "      <td>-0.000363</td>\n",
              "      <td>-0.000124</td>\n",
              "      <td>-0.000114</td>\n",
              "      <td>-0.000238</td>\n",
              "      <td>-0.000405</td>\n",
              "      <td>-0.000279</td>\n",
              "      <td>-0.000105</td>\n",
              "      <td>-0.000214</td>\n",
              "      <td>-0.000390</td>\n",
              "      <td>-0.000146</td>\n",
              "      <td>-0.000047</td>\n",
              "      <td>-0.000217</td>\n",
              "      <td>-0.000420</td>\n",
              "      <td>-0.000036</td>\n",
              "      <td>-0.000219</td>\n",
              "      <td>-0.000097</td>\n",
              "      <td>-0.000151</td>\n",
              "      <td>-0.000300</td>\n",
              "      <td>0.009719</td>\n",
              "      <td>-0.000223</td>\n",
              "      <td>3.036407e-06</td>\n",
              "      <td>-0.000092</td>\n",
              "      <td>-0.000347</td>\n",
              "      <td>-0.000241</td>\n",
              "      <td>-0.000220</td>\n",
              "      <td>-0.000378</td>\n",
              "      <td>-0.000140</td>\n",
              "      <td>-1.609585e-05</td>\n",
              "      <td>-0.000239</td>\n",
              "      <td>-0.000300</td>\n",
              "      <td>...</td>\n",
              "      <td>-0.000580</td>\n",
              "      <td>-0.000287</td>\n",
              "      <td>-0.000163</td>\n",
              "      <td>-0.000149</td>\n",
              "      <td>-0.000407</td>\n",
              "      <td>-0.000287</td>\n",
              "      <td>-0.000229</td>\n",
              "      <td>-0.000207</td>\n",
              "      <td>-0.000337</td>\n",
              "      <td>-0.000194</td>\n",
              "      <td>-0.000138</td>\n",
              "      <td>-0.000268</td>\n",
              "      <td>-0.000290</td>\n",
              "      <td>-0.000232</td>\n",
              "      <td>-0.000210</td>\n",
              "      <td>-0.000370</td>\n",
              "      <td>0.000074</td>\n",
              "      <td>-0.000553</td>\n",
              "      <td>-0.000134</td>\n",
              "      <td>-0.000799</td>\n",
              "      <td>-0.000264</td>\n",
              "      <td>-0.000147</td>\n",
              "      <td>-0.000226</td>\n",
              "      <td>-0.000213</td>\n",
              "      <td>-0.000194</td>\n",
              "      <td>-0.000302</td>\n",
              "      <td>-0.000106</td>\n",
              "      <td>-0.000130</td>\n",
              "      <td>-0.000203</td>\n",
              "      <td>-0.000326</td>\n",
              "      <td>-0.000560</td>\n",
              "      <td>-0.000204</td>\n",
              "      <td>0.000100</td>\n",
              "      <td>0.026425</td>\n",
              "      <td>-0.000343</td>\n",
              "      <td>-0.000189</td>\n",
              "      <td>-0.000171</td>\n",
              "      <td>-0.000147</td>\n",
              "      <td>-0.000077</td>\n",
              "      <td>-0.000099</td>\n",
              "    </tr>\n",
              "    <tr>\n",
              "      <th>A Story About My Uncle</th>\n",
              "      <td>0.000017</td>\n",
              "      <td>0.000116</td>\n",
              "      <td>-0.000057</td>\n",
              "      <td>-0.000297</td>\n",
              "      <td>1.000000</td>\n",
              "      <td>-0.000038</td>\n",
              "      <td>-0.000261</td>\n",
              "      <td>-0.000094</td>\n",
              "      <td>-0.000092</td>\n",
              "      <td>-0.000021</td>\n",
              "      <td>-0.000305</td>\n",
              "      <td>-0.000104</td>\n",
              "      <td>-0.000096</td>\n",
              "      <td>-0.000200</td>\n",
              "      <td>-0.000340</td>\n",
              "      <td>-0.000234</td>\n",
              "      <td>-0.000088</td>\n",
              "      <td>-0.000180</td>\n",
              "      <td>-0.000328</td>\n",
              "      <td>-0.000123</td>\n",
              "      <td>-0.000039</td>\n",
              "      <td>-0.000182</td>\n",
              "      <td>-0.000352</td>\n",
              "      <td>-0.000030</td>\n",
              "      <td>-0.000184</td>\n",
              "      <td>-0.000082</td>\n",
              "      <td>-0.000127</td>\n",
              "      <td>-0.000252</td>\n",
              "      <td>-0.000484</td>\n",
              "      <td>-0.000187</td>\n",
              "      <td>2.550061e-06</td>\n",
              "      <td>-0.000078</td>\n",
              "      <td>-0.000292</td>\n",
              "      <td>-0.000203</td>\n",
              "      <td>-0.000185</td>\n",
              "      <td>-0.000317</td>\n",
              "      <td>-0.000117</td>\n",
              "      <td>-1.351776e-05</td>\n",
              "      <td>-0.000201</td>\n",
              "      <td>-0.000252</td>\n",
              "      <td>...</td>\n",
              "      <td>-0.000487</td>\n",
              "      <td>-0.000241</td>\n",
              "      <td>-0.000137</td>\n",
              "      <td>-0.000125</td>\n",
              "      <td>-0.000342</td>\n",
              "      <td>-0.000241</td>\n",
              "      <td>-0.000192</td>\n",
              "      <td>-0.000174</td>\n",
              "      <td>-0.000283</td>\n",
              "      <td>-0.000163</td>\n",
              "      <td>-0.000621</td>\n",
              "      <td>-0.000225</td>\n",
              "      <td>-0.000243</td>\n",
              "      <td>-0.000194</td>\n",
              "      <td>-0.000176</td>\n",
              "      <td>-0.000311</td>\n",
              "      <td>0.000062</td>\n",
              "      <td>-0.000464</td>\n",
              "      <td>-0.000113</td>\n",
              "      <td>-0.000671</td>\n",
              "      <td>-0.000222</td>\n",
              "      <td>-0.000123</td>\n",
              "      <td>-0.000190</td>\n",
              "      <td>-0.000179</td>\n",
              "      <td>-0.000163</td>\n",
              "      <td>-0.000253</td>\n",
              "      <td>-0.000089</td>\n",
              "      <td>-0.000109</td>\n",
              "      <td>-0.000170</td>\n",
              "      <td>-0.000274</td>\n",
              "      <td>-0.000470</td>\n",
              "      <td>-0.000171</td>\n",
              "      <td>0.000084</td>\n",
              "      <td>-0.000429</td>\n",
              "      <td>-0.000288</td>\n",
              "      <td>-0.000159</td>\n",
              "      <td>-0.000144</td>\n",
              "      <td>-0.000124</td>\n",
              "      <td>-0.000065</td>\n",
              "      <td>-0.000083</td>\n",
              "    </tr>\n",
              "    <tr>\n",
              "      <th>A.V.A. Alliance of Valiant Arms™</th>\n",
              "      <td>0.000003</td>\n",
              "      <td>0.000018</td>\n",
              "      <td>-0.000009</td>\n",
              "      <td>-0.000045</td>\n",
              "      <td>-0.000038</td>\n",
              "      <td>1.000000</td>\n",
              "      <td>-0.000040</td>\n",
              "      <td>-0.000014</td>\n",
              "      <td>-0.000014</td>\n",
              "      <td>-0.000003</td>\n",
              "      <td>-0.000046</td>\n",
              "      <td>-0.000016</td>\n",
              "      <td>-0.000015</td>\n",
              "      <td>-0.000030</td>\n",
              "      <td>-0.000052</td>\n",
              "      <td>-0.000036</td>\n",
              "      <td>-0.000013</td>\n",
              "      <td>-0.000027</td>\n",
              "      <td>-0.000050</td>\n",
              "      <td>-0.000019</td>\n",
              "      <td>-0.000006</td>\n",
              "      <td>-0.000028</td>\n",
              "      <td>-0.000054</td>\n",
              "      <td>-0.000005</td>\n",
              "      <td>-0.000028</td>\n",
              "      <td>-0.000012</td>\n",
              "      <td>-0.000019</td>\n",
              "      <td>-0.000038</td>\n",
              "      <td>-0.000073</td>\n",
              "      <td>-0.000028</td>\n",
              "      <td>3.870412e-07</td>\n",
              "      <td>-0.000012</td>\n",
              "      <td>-0.000044</td>\n",
              "      <td>-0.000031</td>\n",
              "      <td>-0.000028</td>\n",
              "      <td>-0.000048</td>\n",
              "      <td>-0.000018</td>\n",
              "      <td>-2.051688e-06</td>\n",
              "      <td>-0.000031</td>\n",
              "      <td>-0.000038</td>\n",
              "      <td>...</td>\n",
              "      <td>-0.000074</td>\n",
              "      <td>-0.000037</td>\n",
              "      <td>-0.000021</td>\n",
              "      <td>-0.000019</td>\n",
              "      <td>-0.000052</td>\n",
              "      <td>-0.000037</td>\n",
              "      <td>-0.000029</td>\n",
              "      <td>-0.000026</td>\n",
              "      <td>-0.000043</td>\n",
              "      <td>-0.000025</td>\n",
              "      <td>-0.000094</td>\n",
              "      <td>-0.000034</td>\n",
              "      <td>-0.000037</td>\n",
              "      <td>-0.000030</td>\n",
              "      <td>-0.000027</td>\n",
              "      <td>-0.000047</td>\n",
              "      <td>0.000009</td>\n",
              "      <td>-0.000070</td>\n",
              "      <td>-0.000017</td>\n",
              "      <td>-0.000102</td>\n",
              "      <td>-0.000034</td>\n",
              "      <td>-0.000019</td>\n",
              "      <td>-0.000029</td>\n",
              "      <td>-0.000027</td>\n",
              "      <td>-0.000025</td>\n",
              "      <td>-0.000038</td>\n",
              "      <td>-0.000014</td>\n",
              "      <td>-0.000017</td>\n",
              "      <td>-0.000026</td>\n",
              "      <td>-0.000042</td>\n",
              "      <td>-0.000071</td>\n",
              "      <td>-0.000026</td>\n",
              "      <td>0.000013</td>\n",
              "      <td>-0.000065</td>\n",
              "      <td>-0.000044</td>\n",
              "      <td>-0.000024</td>\n",
              "      <td>-0.000022</td>\n",
              "      <td>-0.000019</td>\n",
              "      <td>-0.000010</td>\n",
              "      <td>-0.000013</td>\n",
              "    </tr>\n",
              "    <tr>\n",
              "      <th>ABZU</th>\n",
              "      <td>0.000017</td>\n",
              "      <td>0.000122</td>\n",
              "      <td>-0.000060</td>\n",
              "      <td>-0.000311</td>\n",
              "      <td>-0.000261</td>\n",
              "      <td>-0.000040</td>\n",
              "      <td>1.000000</td>\n",
              "      <td>-0.000098</td>\n",
              "      <td>-0.000097</td>\n",
              "      <td>-0.000022</td>\n",
              "      <td>-0.000319</td>\n",
              "      <td>-0.000109</td>\n",
              "      <td>-0.000101</td>\n",
              "      <td>-0.000210</td>\n",
              "      <td>-0.000356</td>\n",
              "      <td>-0.000245</td>\n",
              "      <td>-0.000092</td>\n",
              "      <td>-0.000189</td>\n",
              "      <td>-0.000343</td>\n",
              "      <td>-0.000129</td>\n",
              "      <td>-0.000041</td>\n",
              "      <td>-0.000191</td>\n",
              "      <td>-0.000369</td>\n",
              "      <td>-0.000031</td>\n",
              "      <td>-0.000193</td>\n",
              "      <td>-0.000086</td>\n",
              "      <td>-0.000133</td>\n",
              "      <td>-0.000264</td>\n",
              "      <td>-0.000507</td>\n",
              "      <td>-0.000196</td>\n",
              "      <td>2.672600e-06</td>\n",
              "      <td>-0.000081</td>\n",
              "      <td>-0.000306</td>\n",
              "      <td>-0.000213</td>\n",
              "      <td>-0.000194</td>\n",
              "      <td>-0.000333</td>\n",
              "      <td>-0.000123</td>\n",
              "      <td>-1.416733e-05</td>\n",
              "      <td>-0.000211</td>\n",
              "      <td>-0.000264</td>\n",
              "      <td>...</td>\n",
              "      <td>-0.000511</td>\n",
              "      <td>-0.000253</td>\n",
              "      <td>-0.000143</td>\n",
              "      <td>-0.000131</td>\n",
              "      <td>-0.000359</td>\n",
              "      <td>-0.000253</td>\n",
              "      <td>-0.000201</td>\n",
              "      <td>-0.000182</td>\n",
              "      <td>-0.000296</td>\n",
              "      <td>-0.000171</td>\n",
              "      <td>-0.000650</td>\n",
              "      <td>-0.000236</td>\n",
              "      <td>-0.000255</td>\n",
              "      <td>-0.000204</td>\n",
              "      <td>-0.000185</td>\n",
              "      <td>-0.000326</td>\n",
              "      <td>0.000065</td>\n",
              "      <td>-0.000486</td>\n",
              "      <td>-0.000118</td>\n",
              "      <td>-0.000703</td>\n",
              "      <td>-0.000232</td>\n",
              "      <td>-0.000129</td>\n",
              "      <td>-0.000199</td>\n",
              "      <td>-0.000188</td>\n",
              "      <td>-0.000171</td>\n",
              "      <td>-0.000265</td>\n",
              "      <td>-0.000093</td>\n",
              "      <td>-0.000114</td>\n",
              "      <td>-0.000178</td>\n",
              "      <td>-0.000287</td>\n",
              "      <td>-0.000493</td>\n",
              "      <td>-0.000179</td>\n",
              "      <td>0.000088</td>\n",
              "      <td>-0.000449</td>\n",
              "      <td>-0.000302</td>\n",
              "      <td>-0.000167</td>\n",
              "      <td>-0.000151</td>\n",
              "      <td>-0.000130</td>\n",
              "      <td>-0.000068</td>\n",
              "      <td>-0.000087</td>\n",
              "    </tr>\n",
              "    <tr>\n",
              "      <th>APB Reloaded</th>\n",
              "      <td>0.000006</td>\n",
              "      <td>0.000044</td>\n",
              "      <td>-0.000021</td>\n",
              "      <td>-0.000111</td>\n",
              "      <td>-0.000094</td>\n",
              "      <td>-0.000014</td>\n",
              "      <td>-0.000098</td>\n",
              "      <td>1.000000</td>\n",
              "      <td>0.000452</td>\n",
              "      <td>-0.000008</td>\n",
              "      <td>-0.000114</td>\n",
              "      <td>-0.000039</td>\n",
              "      <td>-0.000036</td>\n",
              "      <td>-0.000075</td>\n",
              "      <td>-0.000128</td>\n",
              "      <td>-0.000088</td>\n",
              "      <td>-0.000033</td>\n",
              "      <td>-0.000068</td>\n",
              "      <td>-0.000123</td>\n",
              "      <td>-0.000046</td>\n",
              "      <td>-0.000015</td>\n",
              "      <td>-0.000068</td>\n",
              "      <td>-0.000132</td>\n",
              "      <td>-0.000200</td>\n",
              "      <td>-0.000069</td>\n",
              "      <td>-0.000031</td>\n",
              "      <td>-0.000048</td>\n",
              "      <td>-0.000095</td>\n",
              "      <td>-0.000182</td>\n",
              "      <td>-0.000070</td>\n",
              "      <td>9.571541e-07</td>\n",
              "      <td>-0.000029</td>\n",
              "      <td>-0.000109</td>\n",
              "      <td>-0.000076</td>\n",
              "      <td>-0.000069</td>\n",
              "      <td>-0.000119</td>\n",
              "      <td>-0.000044</td>\n",
              "      <td>-5.073830e-06</td>\n",
              "      <td>-0.000075</td>\n",
              "      <td>-0.000095</td>\n",
              "      <td>...</td>\n",
              "      <td>-0.000183</td>\n",
              "      <td>-0.000091</td>\n",
              "      <td>-0.000051</td>\n",
              "      <td>-0.000047</td>\n",
              "      <td>-0.000128</td>\n",
              "      <td>-0.000090</td>\n",
              "      <td>-0.000072</td>\n",
              "      <td>-0.000065</td>\n",
              "      <td>-0.000106</td>\n",
              "      <td>-0.000061</td>\n",
              "      <td>-0.000233</td>\n",
              "      <td>-0.000085</td>\n",
              "      <td>-0.000091</td>\n",
              "      <td>-0.000073</td>\n",
              "      <td>-0.000066</td>\n",
              "      <td>-0.000117</td>\n",
              "      <td>0.000023</td>\n",
              "      <td>-0.000174</td>\n",
              "      <td>-0.000042</td>\n",
              "      <td>-0.000252</td>\n",
              "      <td>-0.000083</td>\n",
              "      <td>-0.000046</td>\n",
              "      <td>-0.000071</td>\n",
              "      <td>-0.000067</td>\n",
              "      <td>-0.000061</td>\n",
              "      <td>-0.000095</td>\n",
              "      <td>-0.000033</td>\n",
              "      <td>-0.000041</td>\n",
              "      <td>-0.000064</td>\n",
              "      <td>-0.000103</td>\n",
              "      <td>-0.000176</td>\n",
              "      <td>-0.000064</td>\n",
              "      <td>0.000032</td>\n",
              "      <td>-0.000161</td>\n",
              "      <td>-0.000108</td>\n",
              "      <td>-0.000060</td>\n",
              "      <td>-0.000054</td>\n",
              "      <td>-0.000046</td>\n",
              "      <td>-0.000024</td>\n",
              "      <td>-0.000031</td>\n",
              "    </tr>\n",
              "    <tr>\n",
              "      <th>ARK: Survival Evolved</th>\n",
              "      <td>0.000006</td>\n",
              "      <td>0.000043</td>\n",
              "      <td>-0.000021</td>\n",
              "      <td>-0.000110</td>\n",
              "      <td>-0.000092</td>\n",
              "      <td>-0.000014</td>\n",
              "      <td>-0.000097</td>\n",
              "      <td>0.000452</td>\n",
              "      <td>1.000000</td>\n",
              "      <td>-0.000008</td>\n",
              "      <td>-0.000113</td>\n",
              "      <td>-0.000038</td>\n",
              "      <td>-0.000035</td>\n",
              "      <td>-0.000074</td>\n",
              "      <td>-0.000126</td>\n",
              "      <td>-0.000087</td>\n",
              "      <td>-0.000032</td>\n",
              "      <td>-0.000067</td>\n",
              "      <td>-0.000121</td>\n",
              "      <td>-0.000045</td>\n",
              "      <td>-0.000014</td>\n",
              "      <td>-0.000067</td>\n",
              "      <td>-0.000130</td>\n",
              "      <td>-0.000011</td>\n",
              "      <td>-0.000068</td>\n",
              "      <td>-0.000030</td>\n",
              "      <td>-0.000047</td>\n",
              "      <td>-0.000093</td>\n",
              "      <td>-0.000179</td>\n",
              "      <td>-0.000069</td>\n",
              "      <td>9.426446e-07</td>\n",
              "      <td>-0.000029</td>\n",
              "      <td>-0.000590</td>\n",
              "      <td>-0.000075</td>\n",
              "      <td>-0.000068</td>\n",
              "      <td>-0.000117</td>\n",
              "      <td>-0.000043</td>\n",
              "      <td>-4.996916e-06</td>\n",
              "      <td>-0.000074</td>\n",
              "      <td>-0.000093</td>\n",
              "      <td>...</td>\n",
              "      <td>-0.000180</td>\n",
              "      <td>-0.000089</td>\n",
              "      <td>-0.000051</td>\n",
              "      <td>-0.000046</td>\n",
              "      <td>-0.000127</td>\n",
              "      <td>-0.000089</td>\n",
              "      <td>-0.000071</td>\n",
              "      <td>-0.000064</td>\n",
              "      <td>-0.000104</td>\n",
              "      <td>-0.000060</td>\n",
              "      <td>-0.000229</td>\n",
              "      <td>-0.000083</td>\n",
              "      <td>-0.000090</td>\n",
              "      <td>-0.000072</td>\n",
              "      <td>-0.000065</td>\n",
              "      <td>-0.000115</td>\n",
              "      <td>0.000023</td>\n",
              "      <td>0.005491</td>\n",
              "      <td>-0.000042</td>\n",
              "      <td>-0.000248</td>\n",
              "      <td>-0.000082</td>\n",
              "      <td>-0.000046</td>\n",
              "      <td>-0.000070</td>\n",
              "      <td>-0.000066</td>\n",
              "      <td>-0.000060</td>\n",
              "      <td>-0.000094</td>\n",
              "      <td>-0.000033</td>\n",
              "      <td>-0.000040</td>\n",
              "      <td>-0.000063</td>\n",
              "      <td>-0.000101</td>\n",
              "      <td>-0.000174</td>\n",
              "      <td>-0.000063</td>\n",
              "      <td>0.000031</td>\n",
              "      <td>-0.000158</td>\n",
              "      <td>-0.000106</td>\n",
              "      <td>-0.000059</td>\n",
              "      <td>-0.000053</td>\n",
              "      <td>-0.000046</td>\n",
              "      <td>-0.000024</td>\n",
              "      <td>-0.000031</td>\n",
              "    </tr>\n",
              "    <tr>\n",
              "      <th>ARK: Survival Of The Fittest</th>\n",
              "      <td>0.000001</td>\n",
              "      <td>0.000010</td>\n",
              "      <td>-0.000005</td>\n",
              "      <td>-0.000025</td>\n",
              "      <td>-0.000021</td>\n",
              "      <td>-0.000003</td>\n",
              "      <td>-0.000022</td>\n",
              "      <td>-0.000008</td>\n",
              "      <td>-0.000008</td>\n",
              "      <td>1.000000</td>\n",
              "      <td>-0.000026</td>\n",
              "      <td>-0.000009</td>\n",
              "      <td>-0.000008</td>\n",
              "      <td>-0.000017</td>\n",
              "      <td>-0.000029</td>\n",
              "      <td>-0.000020</td>\n",
              "      <td>-0.000008</td>\n",
              "      <td>-0.000015</td>\n",
              "      <td>-0.000028</td>\n",
              "      <td>-0.000010</td>\n",
              "      <td>-0.000003</td>\n",
              "      <td>-0.000016</td>\n",
              "      <td>-0.000030</td>\n",
              "      <td>-0.000003</td>\n",
              "      <td>-0.000016</td>\n",
              "      <td>-0.000007</td>\n",
              "      <td>-0.000011</td>\n",
              "      <td>-0.000022</td>\n",
              "      <td>-0.000041</td>\n",
              "      <td>-0.000016</td>\n",
              "      <td>2.178841e-07</td>\n",
              "      <td>-0.000007</td>\n",
              "      <td>-0.000025</td>\n",
              "      <td>-0.000017</td>\n",
              "      <td>-0.000016</td>\n",
              "      <td>-0.000027</td>\n",
              "      <td>-0.000010</td>\n",
              "      <td>-1.154994e-06</td>\n",
              "      <td>-0.000017</td>\n",
              "      <td>-0.000022</td>\n",
              "      <td>...</td>\n",
              "      <td>-0.000042</td>\n",
              "      <td>-0.000021</td>\n",
              "      <td>-0.000012</td>\n",
              "      <td>-0.000011</td>\n",
              "      <td>-0.000029</td>\n",
              "      <td>-0.000021</td>\n",
              "      <td>-0.000016</td>\n",
              "      <td>-0.000015</td>\n",
              "      <td>-0.000024</td>\n",
              "      <td>-0.000014</td>\n",
              "      <td>-0.000053</td>\n",
              "      <td>-0.000019</td>\n",
              "      <td>-0.000021</td>\n",
              "      <td>-0.000017</td>\n",
              "      <td>-0.000015</td>\n",
              "      <td>-0.000027</td>\n",
              "      <td>0.000005</td>\n",
              "      <td>-0.000040</td>\n",
              "      <td>-0.000010</td>\n",
              "      <td>-0.000057</td>\n",
              "      <td>-0.000019</td>\n",
              "      <td>-0.000011</td>\n",
              "      <td>-0.000016</td>\n",
              "      <td>-0.000015</td>\n",
              "      <td>-0.000014</td>\n",
              "      <td>-0.000022</td>\n",
              "      <td>-0.000008</td>\n",
              "      <td>-0.000009</td>\n",
              "      <td>-0.000015</td>\n",
              "      <td>-0.000023</td>\n",
              "      <td>-0.000040</td>\n",
              "      <td>-0.000015</td>\n",
              "      <td>0.000007</td>\n",
              "      <td>-0.000037</td>\n",
              "      <td>-0.000025</td>\n",
              "      <td>-0.000014</td>\n",
              "      <td>-0.000012</td>\n",
              "      <td>-0.000011</td>\n",
              "      <td>-0.046329</td>\n",
              "      <td>-0.000007</td>\n",
              "    </tr>\n",
              "  </tbody>\n",
              "</table>\n",
              "<p>10 rows × 542 columns</p>\n",
              "</div>"
            ],
            "text/plain": [
              "title                             100% Orange Juice  ...  theHunter: Call of the Wild™\n",
              "title                                                ...                              \n",
              "100% Orange Juice                          1.000000  ...                      0.000006\n",
              "8BitMMO                                   -0.000008  ...                      0.000039\n",
              "A Bird Story                               0.000004  ...                     -0.000019\n",
              "A Hat in Time                              0.000020  ...                     -0.000099\n",
              "A Story About My Uncle                     0.000017  ...                     -0.000083\n",
              "A.V.A. Alliance of Valiant Arms™           0.000003  ...                     -0.000013\n",
              "ABZU                                       0.000017  ...                     -0.000087\n",
              "APB Reloaded                               0.000006  ...                     -0.000031\n",
              "ARK: Survival Evolved                      0.000006  ...                     -0.000031\n",
              "ARK: Survival Of The Fittest               0.000001  ...                     -0.000007\n",
              "\n",
              "[10 rows x 542 columns]"
            ]
          },
          "metadata": {
            "tags": []
          },
          "execution_count": 87
        }
      ]
    },
    {
      "cell_type": "code",
      "metadata": {
        "id": "lnTCEXkFj2Bl"
      },
      "source": [
        "def get_similar(movie_name,rating):\n",
        "    similar_ratings = corrMatrix[movie_name]*(rating-2.5)\n",
        "    similar_ratings = similar_ratings.sort_values(ascending=False)\n",
        "    #print(type(similar_ratings))\n",
        "    return similar_ratings"
      ],
      "execution_count": 88,
      "outputs": []
    },
    {
      "cell_type": "code",
      "metadata": {
        "colab": {
          "base_uri": "https://localhost:8080/",
          "height": 290
        },
        "id": "h9zTxyFzqBqn",
        "outputId": "a4ef579b-91a4-436c-d1c6-06e832790778"
      },
      "source": [
        "romantic_lover = [(\"Call of Duty®: Modern Warfare® 2\",.6), (\"Euro Truck Simulator 2\",0),\n",
        "                  (\"Battlefield: Bad Company™ 2\",1),(\"Life is Strange - Episode 1\",-0.6)]\n",
        "similar_movies = pd.DataFrame()\n",
        "for movie,rating in romantic_lover:\n",
        "    similar_movies = similar_movies.append(get_similar(movie,rating),ignore_index = True)\n",
        "\n",
        "similar_movies.head(10)"
      ],
      "execution_count": 90,
      "outputs": [
        {
          "output_type": "execute_result",
          "data": {
            "text/html": [
              "<div>\n",
              "<style scoped>\n",
              "    .dataframe tbody tr th:only-of-type {\n",
              "        vertical-align: middle;\n",
              "    }\n",
              "\n",
              "    .dataframe tbody tr th {\n",
              "        vertical-align: top;\n",
              "    }\n",
              "\n",
              "    .dataframe thead th {\n",
              "        text-align: right;\n",
              "    }\n",
              "</style>\n",
              "<table border=\"1\" class=\"dataframe\">\n",
              "  <thead>\n",
              "    <tr style=\"text-align: right;\">\n",
              "      <th></th>\n",
              "      <th>100% Orange Juice</th>\n",
              "      <th>8BitMMO</th>\n",
              "      <th>A Bird Story</th>\n",
              "      <th>A Hat in Time</th>\n",
              "      <th>A Story About My Uncle</th>\n",
              "      <th>A.V.A. Alliance of Valiant Arms™</th>\n",
              "      <th>ABZU</th>\n",
              "      <th>APB Reloaded</th>\n",
              "      <th>ARK: Survival Evolved</th>\n",
              "      <th>ARK: Survival Of The Fittest</th>\n",
              "      <th>ASTRONEER</th>\n",
              "      <th>Absolver</th>\n",
              "      <th>Ace of Spades: Battle Builder</th>\n",
              "      <th>AdVenture Capitalist</th>\n",
              "      <th>Age of Empires II HD</th>\n",
              "      <th>Age of Empires® III: Complete Collection</th>\n",
              "      <th>AirMech Strike</th>\n",
              "      <th>Alan Wake</th>\n",
              "      <th>Alien Swarm</th>\n",
              "      <th>Alien: Isolation</th>\n",
              "      <th>Aliens vs. Predator™</th>\n",
              "      <th>America's Army: Proving Grounds</th>\n",
              "      <th>American Truck Simulator</th>\n",
              "      <th>Amnesia: The Dark Descent</th>\n",
              "      <th>Antichamber</th>\n",
              "      <th>ArcheAge</th>\n",
              "      <th>ArcheBlade™</th>\n",
              "      <th>Arma 2: Operation Arrowhead</th>\n",
              "      <th>Arma 3</th>\n",
              "      <th>Assassin's Creed® Origins</th>\n",
              "      <th>Assassin's Creed® Unity</th>\n",
              "      <th>Assassin’s Creed® III</th>\n",
              "      <th>Assassin’s Creed® IV Black Flag™</th>\n",
              "      <th>Atlas Reactor</th>\n",
              "      <th>Aura Kingdom</th>\n",
              "      <th>Awesomenauts - the 2D moba</th>\n",
              "      <th>BLOCKADE 3D</th>\n",
              "      <th>BRINK</th>\n",
              "      <th>Baldur's Gate: Enhanced Edition</th>\n",
              "      <th>Banished</th>\n",
              "      <th>...</th>\n",
              "      <th>Transistor</th>\n",
              "      <th>Transmissions: Element 120</th>\n",
              "      <th>Tree of Savior (English Ver.)</th>\n",
              "      <th>Tribes: Ascend</th>\n",
              "      <th>Trine 2: Complete Story</th>\n",
              "      <th>Trine Enchanted Edition</th>\n",
              "      <th>Tropico 4</th>\n",
              "      <th>Tropico 5</th>\n",
              "      <th>Trove</th>\n",
              "      <th>Ultra Street Fighter® IV</th>\n",
              "      <th>Undertale</th>\n",
              "      <th>Unturned</th>\n",
              "      <th>VA-11 Hall-A: Cyberpunk Bartender Action</th>\n",
              "      <th>VVVVVV</th>\n",
              "      <th>Vampire: The Masquerade - Bloodlines</th>\n",
              "      <th>Verdun</th>\n",
              "      <th>WARMODE</th>\n",
              "      <th>Wallpaper Engine</th>\n",
              "      <th>Warface</th>\n",
              "      <th>Warframe</th>\n",
              "      <th>Wargame: Red Dragon</th>\n",
              "      <th>Warhammer 40,000: Dawn of War II</th>\n",
              "      <th>Warhammer 40,000: Space Marine</th>\n",
              "      <th>Warhammer: End Times - Vermintide</th>\n",
              "      <th>Wasteland 2: Director's Cut</th>\n",
              "      <th>Watch_Dogs® 2</th>\n",
              "      <th>Watch_Dogs™</th>\n",
              "      <th>Who's Your Daddy</th>\n",
              "      <th>WildStar</th>\n",
              "      <th>Wolfenstein II: The New Colossus</th>\n",
              "      <th>Wolfenstein: The New Order</th>\n",
              "      <th>World of Guns: Gun Disassembly</th>\n",
              "      <th>X Rebirth</th>\n",
              "      <th>XCOM: Enemy Unknown</th>\n",
              "      <th>XCOM® 2</th>\n",
              "      <th>Yet Another Zombie Defense</th>\n",
              "      <th>You Have to Win the Game</th>\n",
              "      <th>Youtubers Life</th>\n",
              "      <th>theHunter Classic</th>\n",
              "      <th>theHunter: Call of the Wild™</th>\n",
              "    </tr>\n",
              "  </thead>\n",
              "  <tbody>\n",
              "    <tr>\n",
              "      <th>0</th>\n",
              "      <td>-0.000053</td>\n",
              "      <td>-0.000371</td>\n",
              "      <td>0.000182</td>\n",
              "      <td>0.000949</td>\n",
              "      <td>0.000797</td>\n",
              "      <td>0.000121</td>\n",
              "      <td>0.000835</td>\n",
              "      <td>0.000299</td>\n",
              "      <td>0.000294</td>\n",
              "      <td>0.000068</td>\n",
              "      <td>0.000974</td>\n",
              "      <td>0.000332</td>\n",
              "      <td>0.000307</td>\n",
              "      <td>0.000640</td>\n",
              "      <td>0.001086</td>\n",
              "      <td>0.000748</td>\n",
              "      <td>0.000281</td>\n",
              "      <td>0.000576</td>\n",
              "      <td>0.001048</td>\n",
              "      <td>0.003722</td>\n",
              "      <td>0.000125</td>\n",
              "      <td>0.000583</td>\n",
              "      <td>0.001127</td>\n",
              "      <td>0.000096</td>\n",
              "      <td>0.000588</td>\n",
              "      <td>0.000262</td>\n",
              "      <td>0.000407</td>\n",
              "      <td>0.000806</td>\n",
              "      <td>0.001547</td>\n",
              "      <td>0.000598</td>\n",
              "      <td>-0.000008</td>\n",
              "      <td>0.000248</td>\n",
              "      <td>0.000932</td>\n",
              "      <td>0.000648</td>\n",
              "      <td>0.000592</td>\n",
              "      <td>0.001015</td>\n",
              "      <td>0.000375</td>\n",
              "      <td>0.000043</td>\n",
              "      <td>0.000643</td>\n",
              "      <td>0.000807</td>\n",
              "      <td>...</td>\n",
              "      <td>0.001559</td>\n",
              "      <td>0.000771</td>\n",
              "      <td>0.000437</td>\n",
              "      <td>0.000399</td>\n",
              "      <td>0.001094</td>\n",
              "      <td>0.000771</td>\n",
              "      <td>0.000615</td>\n",
              "      <td>0.000556</td>\n",
              "      <td>0.000904</td>\n",
              "      <td>0.000521</td>\n",
              "      <td>0.001984</td>\n",
              "      <td>0.000720</td>\n",
              "      <td>0.000778</td>\n",
              "      <td>0.000622</td>\n",
              "      <td>0.000563</td>\n",
              "      <td>0.000994</td>\n",
              "      <td>-0.000200</td>\n",
              "      <td>0.001484</td>\n",
              "      <td>0.000360</td>\n",
              "      <td>0.002145</td>\n",
              "      <td>0.000709</td>\n",
              "      <td>0.000394</td>\n",
              "      <td>0.000606</td>\n",
              "      <td>0.000573</td>\n",
              "      <td>0.000521</td>\n",
              "      <td>0.000810</td>\n",
              "      <td>0.000285</td>\n",
              "      <td>0.000348</td>\n",
              "      <td>0.000544</td>\n",
              "      <td>0.000876</td>\n",
              "      <td>0.001504</td>\n",
              "      <td>0.000547</td>\n",
              "      <td>-0.000269</td>\n",
              "      <td>0.001371</td>\n",
              "      <td>0.000920</td>\n",
              "      <td>0.000508</td>\n",
              "      <td>0.000459</td>\n",
              "      <td>0.000395</td>\n",
              "      <td>0.000207</td>\n",
              "      <td>0.000266</td>\n",
              "    </tr>\n",
              "    <tr>\n",
              "      <th>1</th>\n",
              "      <td>-0.000092</td>\n",
              "      <td>-0.000642</td>\n",
              "      <td>0.000314</td>\n",
              "      <td>0.001641</td>\n",
              "      <td>0.001379</td>\n",
              "      <td>0.000209</td>\n",
              "      <td>0.001445</td>\n",
              "      <td>0.000517</td>\n",
              "      <td>0.000510</td>\n",
              "      <td>0.000118</td>\n",
              "      <td>0.001686</td>\n",
              "      <td>0.000574</td>\n",
              "      <td>0.000531</td>\n",
              "      <td>0.001108</td>\n",
              "      <td>0.001880</td>\n",
              "      <td>0.001295</td>\n",
              "      <td>0.000486</td>\n",
              "      <td>0.000996</td>\n",
              "      <td>0.001813</td>\n",
              "      <td>0.000679</td>\n",
              "      <td>0.000216</td>\n",
              "      <td>0.001008</td>\n",
              "      <td>0.001950</td>\n",
              "      <td>0.000165</td>\n",
              "      <td>0.001017</td>\n",
              "      <td>0.000453</td>\n",
              "      <td>0.000704</td>\n",
              "      <td>0.001394</td>\n",
              "      <td>0.002677</td>\n",
              "      <td>0.001034</td>\n",
              "      <td>-0.000014</td>\n",
              "      <td>0.000429</td>\n",
              "      <td>0.001613</td>\n",
              "      <td>0.001122</td>\n",
              "      <td>0.001024</td>\n",
              "      <td>0.001756</td>\n",
              "      <td>0.000649</td>\n",
              "      <td>0.000075</td>\n",
              "      <td>0.001112</td>\n",
              "      <td>0.001396</td>\n",
              "      <td>...</td>\n",
              "      <td>0.002697</td>\n",
              "      <td>0.001334</td>\n",
              "      <td>0.000757</td>\n",
              "      <td>0.000691</td>\n",
              "      <td>0.001893</td>\n",
              "      <td>0.001334</td>\n",
              "      <td>0.001063</td>\n",
              "      <td>0.000963</td>\n",
              "      <td>0.001564</td>\n",
              "      <td>0.000901</td>\n",
              "      <td>0.003433</td>\n",
              "      <td>0.001246</td>\n",
              "      <td>0.001346</td>\n",
              "      <td>0.001076</td>\n",
              "      <td>0.000975</td>\n",
              "      <td>0.001720</td>\n",
              "      <td>-0.000345</td>\n",
              "      <td>0.002567</td>\n",
              "      <td>0.000623</td>\n",
              "      <td>0.003711</td>\n",
              "      <td>0.001226</td>\n",
              "      <td>0.000682</td>\n",
              "      <td>0.001049</td>\n",
              "      <td>0.000991</td>\n",
              "      <td>0.000901</td>\n",
              "      <td>0.001401</td>\n",
              "      <td>0.000493</td>\n",
              "      <td>0.000602</td>\n",
              "      <td>0.000942</td>\n",
              "      <td>0.001515</td>\n",
              "      <td>0.002602</td>\n",
              "      <td>0.000946</td>\n",
              "      <td>-0.000465</td>\n",
              "      <td>0.002372</td>\n",
              "      <td>0.001592</td>\n",
              "      <td>0.000880</td>\n",
              "      <td>0.000795</td>\n",
              "      <td>0.000684</td>\n",
              "      <td>0.000359</td>\n",
              "      <td>0.000461</td>\n",
              "    </tr>\n",
              "    <tr>\n",
              "      <th>2</th>\n",
              "      <td>-0.000030</td>\n",
              "      <td>-0.000206</td>\n",
              "      <td>0.000101</td>\n",
              "      <td>0.000527</td>\n",
              "      <td>0.000442</td>\n",
              "      <td>0.000067</td>\n",
              "      <td>0.000464</td>\n",
              "      <td>0.000166</td>\n",
              "      <td>0.000163</td>\n",
              "      <td>0.000038</td>\n",
              "      <td>0.000541</td>\n",
              "      <td>0.000184</td>\n",
              "      <td>0.000170</td>\n",
              "      <td>0.000356</td>\n",
              "      <td>0.000603</td>\n",
              "      <td>0.000415</td>\n",
              "      <td>0.000156</td>\n",
              "      <td>0.000320</td>\n",
              "      <td>0.000582</td>\n",
              "      <td>0.000218</td>\n",
              "      <td>0.000069</td>\n",
              "      <td>0.000323</td>\n",
              "      <td>0.000626</td>\n",
              "      <td>0.000053</td>\n",
              "      <td>0.000326</td>\n",
              "      <td>0.000145</td>\n",
              "      <td>0.000226</td>\n",
              "      <td>0.000447</td>\n",
              "      <td>0.000859</td>\n",
              "      <td>0.000332</td>\n",
              "      <td>-0.000005</td>\n",
              "      <td>0.000138</td>\n",
              "      <td>0.000517</td>\n",
              "      <td>0.000360</td>\n",
              "      <td>0.000329</td>\n",
              "      <td>0.000563</td>\n",
              "      <td>0.000208</td>\n",
              "      <td>0.000024</td>\n",
              "      <td>0.000357</td>\n",
              "      <td>0.000448</td>\n",
              "      <td>...</td>\n",
              "      <td>0.000865</td>\n",
              "      <td>0.000428</td>\n",
              "      <td>0.000243</td>\n",
              "      <td>0.000222</td>\n",
              "      <td>0.000607</td>\n",
              "      <td>0.000428</td>\n",
              "      <td>0.000341</td>\n",
              "      <td>0.000309</td>\n",
              "      <td>0.000502</td>\n",
              "      <td>0.000289</td>\n",
              "      <td>0.001101</td>\n",
              "      <td>0.000400</td>\n",
              "      <td>0.000432</td>\n",
              "      <td>0.000345</td>\n",
              "      <td>0.000313</td>\n",
              "      <td>0.000552</td>\n",
              "      <td>-0.000111</td>\n",
              "      <td>0.000824</td>\n",
              "      <td>0.000200</td>\n",
              "      <td>0.001191</td>\n",
              "      <td>0.000393</td>\n",
              "      <td>0.000219</td>\n",
              "      <td>0.000337</td>\n",
              "      <td>0.000318</td>\n",
              "      <td>0.000289</td>\n",
              "      <td>0.000450</td>\n",
              "      <td>0.000158</td>\n",
              "      <td>0.000193</td>\n",
              "      <td>0.000302</td>\n",
              "      <td>0.000486</td>\n",
              "      <td>0.000835</td>\n",
              "      <td>0.000304</td>\n",
              "      <td>-0.000149</td>\n",
              "      <td>0.000761</td>\n",
              "      <td>0.000511</td>\n",
              "      <td>0.000282</td>\n",
              "      <td>0.000255</td>\n",
              "      <td>0.000219</td>\n",
              "      <td>0.000115</td>\n",
              "      <td>0.000148</td>\n",
              "    </tr>\n",
              "    <tr>\n",
              "      <th>3</th>\n",
              "      <td>-0.000115</td>\n",
              "      <td>-0.000801</td>\n",
              "      <td>0.000392</td>\n",
              "      <td>0.002048</td>\n",
              "      <td>0.001720</td>\n",
              "      <td>0.000261</td>\n",
              "      <td>0.001803</td>\n",
              "      <td>0.000646</td>\n",
              "      <td>0.000636</td>\n",
              "      <td>0.000147</td>\n",
              "      <td>0.002104</td>\n",
              "      <td>0.000716</td>\n",
              "      <td>0.000662</td>\n",
              "      <td>0.001383</td>\n",
              "      <td>0.002346</td>\n",
              "      <td>0.001616</td>\n",
              "      <td>0.000606</td>\n",
              "      <td>0.001243</td>\n",
              "      <td>0.002263</td>\n",
              "      <td>0.000847</td>\n",
              "      <td>0.000270</td>\n",
              "      <td>0.001258</td>\n",
              "      <td>0.002433</td>\n",
              "      <td>0.000206</td>\n",
              "      <td>0.001269</td>\n",
              "      <td>0.000565</td>\n",
              "      <td>0.000878</td>\n",
              "      <td>0.001740</td>\n",
              "      <td>0.003341</td>\n",
              "      <td>0.001291</td>\n",
              "      <td>-0.000018</td>\n",
              "      <td>0.000535</td>\n",
              "      <td>0.002012</td>\n",
              "      <td>0.001400</td>\n",
              "      <td>0.001278</td>\n",
              "      <td>0.002191</td>\n",
              "      <td>0.000810</td>\n",
              "      <td>0.000093</td>\n",
              "      <td>0.001388</td>\n",
              "      <td>0.001742</td>\n",
              "      <td>...</td>\n",
              "      <td>0.003366</td>\n",
              "      <td>0.001665</td>\n",
              "      <td>0.000944</td>\n",
              "      <td>0.000862</td>\n",
              "      <td>0.002363</td>\n",
              "      <td>0.001664</td>\n",
              "      <td>0.001327</td>\n",
              "      <td>0.001201</td>\n",
              "      <td>0.001951</td>\n",
              "      <td>0.001124</td>\n",
              "      <td>0.004284</td>\n",
              "      <td>0.001555</td>\n",
              "      <td>0.001680</td>\n",
              "      <td>0.001342</td>\n",
              "      <td>0.001216</td>\n",
              "      <td>-0.065985</td>\n",
              "      <td>-0.000431</td>\n",
              "      <td>0.003204</td>\n",
              "      <td>0.000777</td>\n",
              "      <td>0.004630</td>\n",
              "      <td>0.001530</td>\n",
              "      <td>0.000851</td>\n",
              "      <td>0.001309</td>\n",
              "      <td>0.001237</td>\n",
              "      <td>0.001124</td>\n",
              "      <td>0.001748</td>\n",
              "      <td>0.000615</td>\n",
              "      <td>0.000752</td>\n",
              "      <td>0.001175</td>\n",
              "      <td>0.001891</td>\n",
              "      <td>0.003246</td>\n",
              "      <td>0.001181</td>\n",
              "      <td>-0.000581</td>\n",
              "      <td>0.002959</td>\n",
              "      <td>0.001986</td>\n",
              "      <td>0.001098</td>\n",
              "      <td>0.000992</td>\n",
              "      <td>0.000853</td>\n",
              "      <td>0.000448</td>\n",
              "      <td>0.000575</td>\n",
              "    </tr>\n",
              "  </tbody>\n",
              "</table>\n",
              "<p>4 rows × 542 columns</p>\n",
              "</div>"
            ],
            "text/plain": [
              "   100% Orange Juice   8BitMMO  ...  theHunter Classic  theHunter: Call of the Wild™\n",
              "0          -0.000053 -0.000371  ...           0.000207                      0.000266\n",
              "1          -0.000092 -0.000642  ...           0.000359                      0.000461\n",
              "2          -0.000030 -0.000206  ...           0.000115                      0.000148\n",
              "3          -0.000115 -0.000801  ...           0.000448                      0.000575\n",
              "\n",
              "[4 rows x 542 columns]"
            ]
          },
          "metadata": {
            "tags": []
          },
          "execution_count": 90
        }
      ]
    },
    {
      "cell_type": "code",
      "metadata": {
        "colab": {
          "base_uri": "https://localhost:8080/"
        },
        "id": "3JrDZaEUqihv",
        "outputId": "e7cb92a6-e867-4891-fe23-843ce1935178"
      },
      "source": [
        "similar_movies.sum().sort_values(ascending=False).head(20)"
      ],
      "execution_count": 91,
      "outputs": [
        {
          "output_type": "execute_result",
          "data": {
            "text/plain": [
              "Friday the 13th: The Game                   0.068029\n",
              "NBA 2K16                                    0.034913\n",
              "Team Fortress 2                             0.019885\n",
              "Just Cause 2: Multiplayer Mod               0.015259\n",
              "Borderlands 2                               0.014611\n",
              "Portal 2                                    0.011907\n",
              "Warframe                                    0.011676\n",
              "Undertale                                   0.010802\n",
              "DARK SOULS™ II: Scholar of the First Sin    0.009760\n",
              "Starbound                                   0.009593\n",
              "Garry's Mod                                 0.009259\n",
              "Sid Meier's Civilization® V                 0.009211\n",
              "Robocraft                                   0.009088\n",
              "Broforce                                    0.008995\n",
              "Only If                                     0.008493\n",
              "Transistor                                  0.008487\n",
              "Arma 3                                      0.008424\n",
              "Bastion                                     0.008338\n",
              "Wolfenstein: The New Order                  0.008186\n",
              "Wallpaper Engine                            0.008078\n",
              "dtype: float64"
            ]
          },
          "metadata": {
            "tags": []
          },
          "execution_count": 91
        }
      ]
    },
    {
      "cell_type": "code",
      "metadata": {
        "colab": {
          "base_uri": "https://localhost:8080/",
          "height": 228
        },
        "id": "DB6-HNjYz2t_",
        "outputId": "bd98a8f8-a5cf-455e-ecfe-2b4b41036fc9"
      },
      "source": [
        "romantic_lover = [(\"Call of Duty®: Modern Warfare® 2\",.6),(\"Battlefield: Bad Company™ 2\",1)]\n",
        "similar_movies = pd.DataFrame()\n",
        "for movie,rating in romantic_lover:\n",
        "    similar_movies = similar_movies.append(get_similar(movie,rating),ignore_index = True)\n",
        "\n",
        "similar_movies.head(10)"
      ],
      "execution_count": 92,
      "outputs": [
        {
          "output_type": "execute_result",
          "data": {
            "text/html": [
              "<div>\n",
              "<style scoped>\n",
              "    .dataframe tbody tr th:only-of-type {\n",
              "        vertical-align: middle;\n",
              "    }\n",
              "\n",
              "    .dataframe tbody tr th {\n",
              "        vertical-align: top;\n",
              "    }\n",
              "\n",
              "    .dataframe thead th {\n",
              "        text-align: right;\n",
              "    }\n",
              "</style>\n",
              "<table border=\"1\" class=\"dataframe\">\n",
              "  <thead>\n",
              "    <tr style=\"text-align: right;\">\n",
              "      <th></th>\n",
              "      <th>100% Orange Juice</th>\n",
              "      <th>8BitMMO</th>\n",
              "      <th>A Bird Story</th>\n",
              "      <th>A Hat in Time</th>\n",
              "      <th>A Story About My Uncle</th>\n",
              "      <th>A.V.A. Alliance of Valiant Arms™</th>\n",
              "      <th>ABZU</th>\n",
              "      <th>APB Reloaded</th>\n",
              "      <th>ARK: Survival Evolved</th>\n",
              "      <th>ARK: Survival Of The Fittest</th>\n",
              "      <th>ASTRONEER</th>\n",
              "      <th>Absolver</th>\n",
              "      <th>Ace of Spades: Battle Builder</th>\n",
              "      <th>AdVenture Capitalist</th>\n",
              "      <th>Age of Empires II HD</th>\n",
              "      <th>Age of Empires® III: Complete Collection</th>\n",
              "      <th>AirMech Strike</th>\n",
              "      <th>Alan Wake</th>\n",
              "      <th>Alien Swarm</th>\n",
              "      <th>Alien: Isolation</th>\n",
              "      <th>Aliens vs. Predator™</th>\n",
              "      <th>America's Army: Proving Grounds</th>\n",
              "      <th>American Truck Simulator</th>\n",
              "      <th>Amnesia: The Dark Descent</th>\n",
              "      <th>Antichamber</th>\n",
              "      <th>ArcheAge</th>\n",
              "      <th>ArcheBlade™</th>\n",
              "      <th>Arma 2: Operation Arrowhead</th>\n",
              "      <th>Arma 3</th>\n",
              "      <th>Assassin's Creed® Origins</th>\n",
              "      <th>Assassin's Creed® Unity</th>\n",
              "      <th>Assassin’s Creed® III</th>\n",
              "      <th>Assassin’s Creed® IV Black Flag™</th>\n",
              "      <th>Atlas Reactor</th>\n",
              "      <th>Aura Kingdom</th>\n",
              "      <th>Awesomenauts - the 2D moba</th>\n",
              "      <th>BLOCKADE 3D</th>\n",
              "      <th>BRINK</th>\n",
              "      <th>Baldur's Gate: Enhanced Edition</th>\n",
              "      <th>Banished</th>\n",
              "      <th>...</th>\n",
              "      <th>Transistor</th>\n",
              "      <th>Transmissions: Element 120</th>\n",
              "      <th>Tree of Savior (English Ver.)</th>\n",
              "      <th>Tribes: Ascend</th>\n",
              "      <th>Trine 2: Complete Story</th>\n",
              "      <th>Trine Enchanted Edition</th>\n",
              "      <th>Tropico 4</th>\n",
              "      <th>Tropico 5</th>\n",
              "      <th>Trove</th>\n",
              "      <th>Ultra Street Fighter® IV</th>\n",
              "      <th>Undertale</th>\n",
              "      <th>Unturned</th>\n",
              "      <th>VA-11 Hall-A: Cyberpunk Bartender Action</th>\n",
              "      <th>VVVVVV</th>\n",
              "      <th>Vampire: The Masquerade - Bloodlines</th>\n",
              "      <th>Verdun</th>\n",
              "      <th>WARMODE</th>\n",
              "      <th>Wallpaper Engine</th>\n",
              "      <th>Warface</th>\n",
              "      <th>Warframe</th>\n",
              "      <th>Wargame: Red Dragon</th>\n",
              "      <th>Warhammer 40,000: Dawn of War II</th>\n",
              "      <th>Warhammer 40,000: Space Marine</th>\n",
              "      <th>Warhammer: End Times - Vermintide</th>\n",
              "      <th>Wasteland 2: Director's Cut</th>\n",
              "      <th>Watch_Dogs® 2</th>\n",
              "      <th>Watch_Dogs™</th>\n",
              "      <th>Who's Your Daddy</th>\n",
              "      <th>WildStar</th>\n",
              "      <th>Wolfenstein II: The New Colossus</th>\n",
              "      <th>Wolfenstein: The New Order</th>\n",
              "      <th>World of Guns: Gun Disassembly</th>\n",
              "      <th>X Rebirth</th>\n",
              "      <th>XCOM: Enemy Unknown</th>\n",
              "      <th>XCOM® 2</th>\n",
              "      <th>Yet Another Zombie Defense</th>\n",
              "      <th>You Have to Win the Game</th>\n",
              "      <th>Youtubers Life</th>\n",
              "      <th>theHunter Classic</th>\n",
              "      <th>theHunter: Call of the Wild™</th>\n",
              "    </tr>\n",
              "  </thead>\n",
              "  <tbody>\n",
              "    <tr>\n",
              "      <th>0</th>\n",
              "      <td>-0.000053</td>\n",
              "      <td>-0.000371</td>\n",
              "      <td>0.000182</td>\n",
              "      <td>0.000949</td>\n",
              "      <td>0.000797</td>\n",
              "      <td>0.000121</td>\n",
              "      <td>0.000835</td>\n",
              "      <td>0.000299</td>\n",
              "      <td>0.000294</td>\n",
              "      <td>0.000068</td>\n",
              "      <td>0.000974</td>\n",
              "      <td>0.000332</td>\n",
              "      <td>0.000307</td>\n",
              "      <td>0.000640</td>\n",
              "      <td>0.001086</td>\n",
              "      <td>0.000748</td>\n",
              "      <td>0.000281</td>\n",
              "      <td>0.000576</td>\n",
              "      <td>0.001048</td>\n",
              "      <td>0.003722</td>\n",
              "      <td>0.000125</td>\n",
              "      <td>0.000583</td>\n",
              "      <td>0.001127</td>\n",
              "      <td>0.000096</td>\n",
              "      <td>0.000588</td>\n",
              "      <td>0.000262</td>\n",
              "      <td>0.000407</td>\n",
              "      <td>0.000806</td>\n",
              "      <td>0.001547</td>\n",
              "      <td>0.000598</td>\n",
              "      <td>-0.000008</td>\n",
              "      <td>0.000248</td>\n",
              "      <td>0.000932</td>\n",
              "      <td>0.000648</td>\n",
              "      <td>0.000592</td>\n",
              "      <td>0.001015</td>\n",
              "      <td>0.000375</td>\n",
              "      <td>0.000043</td>\n",
              "      <td>0.000643</td>\n",
              "      <td>0.000807</td>\n",
              "      <td>...</td>\n",
              "      <td>0.001559</td>\n",
              "      <td>0.000771</td>\n",
              "      <td>0.000437</td>\n",
              "      <td>0.000399</td>\n",
              "      <td>0.001094</td>\n",
              "      <td>0.000771</td>\n",
              "      <td>0.000615</td>\n",
              "      <td>0.000556</td>\n",
              "      <td>0.000904</td>\n",
              "      <td>0.000521</td>\n",
              "      <td>0.001984</td>\n",
              "      <td>0.00072</td>\n",
              "      <td>0.000778</td>\n",
              "      <td>0.000622</td>\n",
              "      <td>0.000563</td>\n",
              "      <td>0.000994</td>\n",
              "      <td>-0.000200</td>\n",
              "      <td>0.001484</td>\n",
              "      <td>0.00036</td>\n",
              "      <td>0.002145</td>\n",
              "      <td>0.000709</td>\n",
              "      <td>0.000394</td>\n",
              "      <td>0.000606</td>\n",
              "      <td>0.000573</td>\n",
              "      <td>0.000521</td>\n",
              "      <td>0.00081</td>\n",
              "      <td>0.000285</td>\n",
              "      <td>0.000348</td>\n",
              "      <td>0.000544</td>\n",
              "      <td>0.000876</td>\n",
              "      <td>0.001504</td>\n",
              "      <td>0.000547</td>\n",
              "      <td>-0.000269</td>\n",
              "      <td>0.001371</td>\n",
              "      <td>0.000920</td>\n",
              "      <td>0.000508</td>\n",
              "      <td>0.000459</td>\n",
              "      <td>0.000395</td>\n",
              "      <td>0.000207</td>\n",
              "      <td>0.000266</td>\n",
              "    </tr>\n",
              "    <tr>\n",
              "      <th>1</th>\n",
              "      <td>-0.000030</td>\n",
              "      <td>-0.000206</td>\n",
              "      <td>0.000101</td>\n",
              "      <td>0.000527</td>\n",
              "      <td>0.000442</td>\n",
              "      <td>0.000067</td>\n",
              "      <td>0.000464</td>\n",
              "      <td>0.000166</td>\n",
              "      <td>0.000163</td>\n",
              "      <td>0.000038</td>\n",
              "      <td>0.000541</td>\n",
              "      <td>0.000184</td>\n",
              "      <td>0.000170</td>\n",
              "      <td>0.000356</td>\n",
              "      <td>0.000603</td>\n",
              "      <td>0.000415</td>\n",
              "      <td>0.000156</td>\n",
              "      <td>0.000320</td>\n",
              "      <td>0.000582</td>\n",
              "      <td>0.000218</td>\n",
              "      <td>0.000069</td>\n",
              "      <td>0.000323</td>\n",
              "      <td>0.000626</td>\n",
              "      <td>0.000053</td>\n",
              "      <td>0.000326</td>\n",
              "      <td>0.000145</td>\n",
              "      <td>0.000226</td>\n",
              "      <td>0.000447</td>\n",
              "      <td>0.000859</td>\n",
              "      <td>0.000332</td>\n",
              "      <td>-0.000005</td>\n",
              "      <td>0.000138</td>\n",
              "      <td>0.000517</td>\n",
              "      <td>0.000360</td>\n",
              "      <td>0.000329</td>\n",
              "      <td>0.000563</td>\n",
              "      <td>0.000208</td>\n",
              "      <td>0.000024</td>\n",
              "      <td>0.000357</td>\n",
              "      <td>0.000448</td>\n",
              "      <td>...</td>\n",
              "      <td>0.000865</td>\n",
              "      <td>0.000428</td>\n",
              "      <td>0.000243</td>\n",
              "      <td>0.000222</td>\n",
              "      <td>0.000607</td>\n",
              "      <td>0.000428</td>\n",
              "      <td>0.000341</td>\n",
              "      <td>0.000309</td>\n",
              "      <td>0.000502</td>\n",
              "      <td>0.000289</td>\n",
              "      <td>0.001101</td>\n",
              "      <td>0.00040</td>\n",
              "      <td>0.000432</td>\n",
              "      <td>0.000345</td>\n",
              "      <td>0.000313</td>\n",
              "      <td>0.000552</td>\n",
              "      <td>-0.000111</td>\n",
              "      <td>0.000824</td>\n",
              "      <td>0.00020</td>\n",
              "      <td>0.001191</td>\n",
              "      <td>0.000393</td>\n",
              "      <td>0.000219</td>\n",
              "      <td>0.000337</td>\n",
              "      <td>0.000318</td>\n",
              "      <td>0.000289</td>\n",
              "      <td>0.00045</td>\n",
              "      <td>0.000158</td>\n",
              "      <td>0.000193</td>\n",
              "      <td>0.000302</td>\n",
              "      <td>0.000486</td>\n",
              "      <td>0.000835</td>\n",
              "      <td>0.000304</td>\n",
              "      <td>-0.000149</td>\n",
              "      <td>0.000761</td>\n",
              "      <td>0.000511</td>\n",
              "      <td>0.000282</td>\n",
              "      <td>0.000255</td>\n",
              "      <td>0.000219</td>\n",
              "      <td>0.000115</td>\n",
              "      <td>0.000148</td>\n",
              "    </tr>\n",
              "  </tbody>\n",
              "</table>\n",
              "<p>2 rows × 542 columns</p>\n",
              "</div>"
            ],
            "text/plain": [
              "   100% Orange Juice   8BitMMO  ...  theHunter Classic  theHunter: Call of the Wild™\n",
              "0          -0.000053 -0.000371  ...           0.000207                      0.000266\n",
              "1          -0.000030 -0.000206  ...           0.000115                      0.000148\n",
              "\n",
              "[2 rows x 542 columns]"
            ]
          },
          "metadata": {
            "tags": []
          },
          "execution_count": 92
        }
      ]
    },
    {
      "cell_type": "code",
      "metadata": {
        "colab": {
          "base_uri": "https://localhost:8080/"
        },
        "id": "vbhMqoWpsQwy",
        "outputId": "c4b7d46d-7dd2-44b5-cd2c-e85fe7982b40"
      },
      "source": [
        "similar_movies.sum().sort_values(ascending=False).head(20)"
      ],
      "execution_count": 93,
      "outputs": [
        {
          "output_type": "execute_result",
          "data": {
            "text/plain": [
              "Just Cause 2: Multiplayer Mod    0.011758\n",
              "Only If                          0.007645\n",
              "Team Fortress 2                  0.005027\n",
              "Call of Duty®: Black Ops III     0.004230\n",
              "Alien: Isolation                 0.003940\n",
              "Borderlands 2                    0.003693\n",
              "Grim Dawn                        0.003574\n",
              "Portal 2                         0.003401\n",
              "Warframe                         0.003335\n",
              "Undertale                        0.003086\n",
              "Life is Strange - Episode 1      0.002759\n",
              "Euro Truck Simulator 2           0.002742\n",
              "Starbound                        0.002740\n",
              "Garry's Mod                      0.002645\n",
              "Sid Meier's Civilization® V      0.002631\n",
              "Robocraft                        0.002596\n",
              "Mountain                         0.002513\n",
              "Transistor                       0.002424\n",
              "Arma 3                           0.002406\n",
              "Bastion                          0.002382\n",
              "dtype: float64"
            ]
          },
          "metadata": {
            "tags": []
          },
          "execution_count": 93
        }
      ]
    },
    {
      "cell_type": "code",
      "metadata": {
        "id": "ET1kVtFT0Ann"
      },
      "source": [
        ""
      ],
      "execution_count": null,
      "outputs": []
    }
  ]
}