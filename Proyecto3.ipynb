{
  "nbformat": 4,
  "nbformat_minor": 0,
  "metadata": {
    "colab": {
      "name": "Proyecto3.ipynb",
      "provenance": [],
      "collapsed_sections": [
        "h7J9cJE3zItE",
        "BG-UEbs61D6x"
      ],
      "mount_file_id": "1ahp042009K1w10hHBr-g8pTtrlLzYwvK",
      "authorship_tag": "ABX9TyOOTfFjhiU0BZF5WmzLMDil"
    },
    "kernelspec": {
      "name": "python3",
      "display_name": "Python 3"
    }
  },
  "cells": [
    {
      "cell_type": "code",
      "metadata": {
        "colab": {
          "base_uri": "https://localhost:8080/"
        },
        "id": "QYVLd7rvIZDd",
        "outputId": "a203e753-2a81-4c9c-a3f1-d9c83128b9a3"
      },
      "source": [
        "pip install scikit-surprise"
      ],
      "execution_count": 1,
      "outputs": [
        {
          "output_type": "stream",
          "text": [
            "Requirement already satisfied: scikit-surprise in /usr/local/lib/python3.6/dist-packages (1.1.1)\n",
            "Requirement already satisfied: numpy>=1.11.2 in /usr/local/lib/python3.6/dist-packages (from scikit-surprise) (1.18.5)\n",
            "Requirement already satisfied: joblib>=0.11 in /usr/local/lib/python3.6/dist-packages (from scikit-surprise) (0.17.0)\n",
            "Requirement already satisfied: six>=1.10.0 in /usr/local/lib/python3.6/dist-packages (from scikit-surprise) (1.15.0)\n",
            "Requirement already satisfied: scipy>=1.0.0 in /usr/local/lib/python3.6/dist-packages (from scikit-surprise) (1.4.1)\n"
          ],
          "name": "stdout"
        }
      ]
    },
    {
      "cell_type": "code",
      "metadata": {
        "id": "Nd53xcCqKUpV",
        "colab": {
          "base_uri": "https://localhost:8080/"
        },
        "outputId": "47a780f7-9b14-46c9-c306-1c4edf29dcc2"
      },
      "source": [
        "import numpy as np\n",
        "import pandas as pd\n",
        "import matplotlib.pyplot as plt\n",
        "import seaborn as sns\n",
        "sns.set()\n",
        "\n",
        "import string \n",
        "import datetime\n",
        "import gzip\n",
        "\n",
        "from textblob import TextBlob\n",
        "\n",
        "import nltk\n",
        "nltk.download('punkt')\n",
        "nltk.download('stopwords')\n",
        "from nltk.corpus import stopwords\n",
        "from sklearn.metrics.pairwise import linear_kernel\n",
        "from sklearn.feature_extraction.text import TfidfVectorizer\n",
        "\n",
        "import warnings\n",
        "warnings.filterwarnings('ignore')"
      ],
      "execution_count": 2,
      "outputs": [
        {
          "output_type": "stream",
          "text": [
            "[nltk_data] Downloading package punkt to /root/nltk_data...\n",
            "[nltk_data]   Package punkt is already up-to-date!\n",
            "[nltk_data] Downloading package stopwords to /root/nltk_data...\n",
            "[nltk_data]   Package stopwords is already up-to-date!\n"
          ],
          "name": "stdout"
        }
      ]
    },
    {
      "cell_type": "code",
      "metadata": {
        "id": "jpFaP4s0I7_Z"
      },
      "source": [
        "from surprise import Dataset\n",
        "from surprise import Reader\n",
        "from surprise.model_selection import train_test_split"
      ],
      "execution_count": 3,
      "outputs": []
    },
    {
      "cell_type": "code",
      "metadata": {
        "id": "TWj6Sw20SUT4"
      },
      "source": [
        "def parse(path):\n",
        "    g = gzip.open(path, 'r')\n",
        "    for l in g:\n",
        "        yield eval(l)"
      ],
      "execution_count": 4,
      "outputs": []
    },
    {
      "cell_type": "code",
      "metadata": {
        "id": "OjmirkGnSc2b"
      },
      "source": [
        "url_review = '/content/drive/My Drive/Data/steam_reviews.json.gz'\n",
        "contador = 0\n",
        "data_reviews = []\n",
        "# Vamos a guardar una de cada 10 reviews para no llenar la memoria RAM. Si pones n = 3, \n",
        "# abrira uno de cada tres, y asi.\n",
        "n = 15\n",
        "for l in parse(url_review):\n",
        "    if contador%n == 0:\n",
        "        data_reviews.append(l)\n",
        "    else:\n",
        "        pass\n",
        "    contador += 1\n",
        "\n",
        "data_reviews = pd.DataFrame(data_reviews)"
      ],
      "execution_count": 5,
      "outputs": []
    },
    {
      "cell_type": "code",
      "metadata": {
        "id": "Tx6oE_jOzUfZ"
      },
      "source": [
        "url_games = '/content/drive/My Drive/Data/steam_games.json.gz'\n",
        "data_games = []\n",
        "for l in parse(url_games):\n",
        "    data_games.append(l)\n",
        "data_games = pd.DataFrame(data_games)"
      ],
      "execution_count": 6,
      "outputs": []
    },
    {
      "cell_type": "markdown",
      "metadata": {
        "id": "G01Aoe_F09UB"
      },
      "source": [
        "https://towardsdatascience.com/steam-recommendation-systems-4358917288eb\n",
        "\n",
        "https://ansegura7.github.io/RS_Surprise/pages/RS_SVD.html"
      ]
    },
    {
      "cell_type": "markdown",
      "metadata": {
        "id": "aY2fodU1akiM"
      },
      "source": [
        "# Parte A Procesamiento de datos"
      ]
    },
    {
      "cell_type": "markdown",
      "metadata": {
        "id": "wmhdnBAPelW3"
      },
      "source": [
        "## Reviews"
      ]
    },
    {
      "cell_type": "code",
      "metadata": {
        "id": "9bhA0PfxT_MB",
        "colab": {
          "base_uri": "https://localhost:8080/",
          "height": 261
        },
        "outputId": "b1ef6337-4658-456f-db98-ab5ae4d3120c"
      },
      "source": [
        "data_reviews.head(4)"
      ],
      "execution_count": 7,
      "outputs": [
        {
          "output_type": "execute_result",
          "data": {
            "text/html": [
              "<div>\n",
              "<style scoped>\n",
              "    .dataframe tbody tr th:only-of-type {\n",
              "        vertical-align: middle;\n",
              "    }\n",
              "\n",
              "    .dataframe tbody tr th {\n",
              "        vertical-align: top;\n",
              "    }\n",
              "\n",
              "    .dataframe thead th {\n",
              "        text-align: right;\n",
              "    }\n",
              "</style>\n",
              "<table border=\"1\" class=\"dataframe\">\n",
              "  <thead>\n",
              "    <tr style=\"text-align: right;\">\n",
              "      <th></th>\n",
              "      <th>username</th>\n",
              "      <th>hours</th>\n",
              "      <th>products</th>\n",
              "      <th>product_id</th>\n",
              "      <th>page_order</th>\n",
              "      <th>date</th>\n",
              "      <th>text</th>\n",
              "      <th>early_access</th>\n",
              "      <th>page</th>\n",
              "      <th>user_id</th>\n",
              "      <th>compensation</th>\n",
              "      <th>found_funny</th>\n",
              "    </tr>\n",
              "  </thead>\n",
              "  <tbody>\n",
              "    <tr>\n",
              "      <th>0</th>\n",
              "      <td>Chaos Syren</td>\n",
              "      <td>0.1</td>\n",
              "      <td>41.0</td>\n",
              "      <td>725280</td>\n",
              "      <td>0</td>\n",
              "      <td>2017-12-17</td>\n",
              "      <td>This would not be acceptable as an entertainme...</td>\n",
              "      <td>False</td>\n",
              "      <td>1</td>\n",
              "      <td>NaN</td>\n",
              "      <td>NaN</td>\n",
              "      <td>NaN</td>\n",
              "    </tr>\n",
              "    <tr>\n",
              "      <th>1</th>\n",
              "      <td>Duha Nubie</td>\n",
              "      <td>11.3</td>\n",
              "      <td>73.0</td>\n",
              "      <td>35140</td>\n",
              "      <td>4</td>\n",
              "      <td>2018-01-03</td>\n",
              "      <td>first debut feel sweet</td>\n",
              "      <td>False</td>\n",
              "      <td>1</td>\n",
              "      <td>NaN</td>\n",
              "      <td>NaN</td>\n",
              "      <td>NaN</td>\n",
              "    </tr>\n",
              "    <tr>\n",
              "      <th>2</th>\n",
              "      <td>The_Cpt_FROGGY</td>\n",
              "      <td>7.8</td>\n",
              "      <td>2217.0</td>\n",
              "      <td>631920</td>\n",
              "      <td>0</td>\n",
              "      <td>2017-12-11</td>\n",
              "      <td>Somewhere on Zibylon:\\n~~~~~~~~~~~~~~~~~~\\nZib...</td>\n",
              "      <td>False</td>\n",
              "      <td>1</td>\n",
              "      <td>76561198003030375</td>\n",
              "      <td>Product received for free</td>\n",
              "      <td>NaN</td>\n",
              "    </tr>\n",
              "    <tr>\n",
              "      <th>3</th>\n",
              "      <td>S0YxSauCe</td>\n",
              "      <td>0.3</td>\n",
              "      <td>902.0</td>\n",
              "      <td>671270</td>\n",
              "      <td>4</td>\n",
              "      <td>2017-07-10</td>\n",
              "      <td>Easy game. All you have to do is put the hat t...</td>\n",
              "      <td>False</td>\n",
              "      <td>1</td>\n",
              "      <td>NaN</td>\n",
              "      <td>NaN</td>\n",
              "      <td>NaN</td>\n",
              "    </tr>\n",
              "  </tbody>\n",
              "</table>\n",
              "</div>"
            ],
            "text/plain": [
              "         username  hours  ...               compensation found_funny\n",
              "0     Chaos Syren    0.1  ...                        NaN         NaN\n",
              "1      Duha Nubie   11.3  ...                        NaN         NaN\n",
              "2  The_Cpt_FROGGY    7.8  ...  Product received for free         NaN\n",
              "3       S0YxSauCe    0.3  ...                        NaN         NaN\n",
              "\n",
              "[4 rows x 12 columns]"
            ]
          },
          "metadata": {
            "tags": []
          },
          "execution_count": 7
        }
      ]
    },
    {
      "cell_type": "code",
      "metadata": {
        "id": "I0huyNX7UB3E",
        "colab": {
          "base_uri": "https://localhost:8080/"
        },
        "outputId": "4ffb420a-b791-4dc8-9640-c6b88dfd1e0b"
      },
      "source": [
        "data_reviews.shape"
      ],
      "execution_count": 8,
      "outputs": [
        {
          "output_type": "execute_result",
          "data": {
            "text/plain": [
              "(519538, 12)"
            ]
          },
          "metadata": {
            "tags": []
          },
          "execution_count": 8
        }
      ]
    },
    {
      "cell_type": "code",
      "metadata": {
        "colab": {
          "base_uri": "https://localhost:8080/"
        },
        "id": "NrmIuwWVvFeN",
        "outputId": "e367ac08-1aa9-42c7-9fbb-d11ed3c8ec14"
      },
      "source": [
        "data_reviews.dtypes"
      ],
      "execution_count": 9,
      "outputs": [
        {
          "output_type": "execute_result",
          "data": {
            "text/plain": [
              "username         object\n",
              "hours           float64\n",
              "products        float64\n",
              "product_id       object\n",
              "page_order        int64\n",
              "date             object\n",
              "text             object\n",
              "early_access       bool\n",
              "page              int64\n",
              "user_id          object\n",
              "compensation     object\n",
              "found_funny     float64\n",
              "dtype: object"
            ]
          },
          "metadata": {
            "tags": []
          },
          "execution_count": 9
        }
      ]
    },
    {
      "cell_type": "code",
      "metadata": {
        "id": "Ceo8n9KuQN51"
      },
      "source": [
        "#Elimino columnas\n",
        "data_reviews.drop(['page_order', 'page',\n",
        "                   'early_access', 'compensation', 'found_funny',\n",
        "                   'products', 'user_id'],\n",
        "                   axis=1, inplace=True)"
      ],
      "execution_count": 10,
      "outputs": []
    },
    {
      "cell_type": "code",
      "metadata": {
        "id": "IeDqcGAVhu1i"
      },
      "source": [
        "#Convertir a string columnas\n",
        "columnas = ['username', 'text']\n",
        "for i in columnas:\n",
        "  data_reviews[i] = data_reviews[i].astype('string')\n",
        "\n",
        "#Convertir a int64 columna product_id\n",
        "data_reviews['product_id'] = data_reviews['product_id'].astype('int64')\n",
        "\n",
        "#Conversion a tipo datetime64\n",
        "data_reviews['Fecha'] = pd.to_datetime(data_reviews['date'])\n",
        "data_reviews['Year'] = data_reviews['Fecha'].dt.year            #Nueva columna con el año del review\n",
        "data_reviews['month'] = data_reviews['Fecha'].dt.month          #Nueva columna con el mes del review"
      ],
      "execution_count": 11,
      "outputs": []
    },
    {
      "cell_type": "code",
      "metadata": {
        "id": "A-e77rJMhumc"
      },
      "source": [
        "#Elimino reviews duplicadas del mismo usuario para el mismo videojuego, dejando la mas reciente\n",
        "data_reviews.drop_duplicates(subset=['username', 'product_id'], keep='first', inplace=True)"
      ],
      "execution_count": 12,
      "outputs": []
    },
    {
      "cell_type": "code",
      "metadata": {
        "id": "InmydCcPk_7_"
      },
      "source": [
        "def valores_nulos(data):\n",
        "  print('<-- Porcentaje de valores nulos -->\\n')\n",
        "  print(data.isnull().sum() / data.shape[0] * 100)"
      ],
      "execution_count": 13,
      "outputs": []
    },
    {
      "cell_type": "code",
      "metadata": {
        "colab": {
          "base_uri": "https://localhost:8080/"
        },
        "id": "BmYKavKGkV-2",
        "outputId": "cbf2b9a0-f8ad-43a8-b1d2-be4ebe35c4a6"
      },
      "source": [
        "valores_nulos(data_reviews)"
      ],
      "execution_count": 14,
      "outputs": [
        {
          "output_type": "stream",
          "text": [
            "<-- Porcentaje de valores nulos -->\n",
            "\n",
            "username      0.000000\n",
            "hours         0.341593\n",
            "product_id    0.000000\n",
            "date          0.000000\n",
            "text          0.000000\n",
            "Fecha         0.000000\n",
            "Year          0.000000\n",
            "month         0.000000\n",
            "dtype: float64\n"
          ],
          "name": "stdout"
        }
      ]
    },
    {
      "cell_type": "markdown",
      "metadata": {
        "id": "QsCmiyPeCZv8"
      },
      "source": [
        " ## Info Games"
      ]
    },
    {
      "cell_type": "code",
      "metadata": {
        "colab": {
          "base_uri": "https://localhost:8080/"
        },
        "id": "pMzdad6Jv-AS",
        "outputId": "8ad1166d-d894-44c1-9a41-c0b278d60fe2"
      },
      "source": [
        "data_games.shape"
      ],
      "execution_count": 15,
      "outputs": [
        {
          "output_type": "execute_result",
          "data": {
            "text/plain": [
              "(32135, 16)"
            ]
          },
          "metadata": {
            "tags": []
          },
          "execution_count": 15
        }
      ]
    },
    {
      "cell_type": "code",
      "metadata": {
        "colab": {
          "base_uri": "https://localhost:8080/"
        },
        "id": "JhKrNmdxeT7F",
        "outputId": "c8ece5ca-f13d-4f15-e17c-8dc7ecc3d563"
      },
      "source": [
        "data_games.dtypes"
      ],
      "execution_count": 16,
      "outputs": [
        {
          "output_type": "execute_result",
          "data": {
            "text/plain": [
              "publisher          object\n",
              "genres             object\n",
              "app_name           object\n",
              "title              object\n",
              "url                object\n",
              "release_date       object\n",
              "tags               object\n",
              "discount_price    float64\n",
              "reviews_url        object\n",
              "specs              object\n",
              "price              object\n",
              "early_access         bool\n",
              "id                 object\n",
              "developer          object\n",
              "sentiment          object\n",
              "metascore          object\n",
              "dtype: object"
            ]
          },
          "metadata": {
            "tags": []
          },
          "execution_count": 16
        }
      ]
    },
    {
      "cell_type": "code",
      "metadata": {
        "id": "jcruDkfUviE9"
      },
      "source": [
        "#Elimino valores nulos\n",
        "data_games.dropna(subset=['tags', 'id', 'title'], axis=0, inplace=True)"
      ],
      "execution_count": 17,
      "outputs": []
    },
    {
      "cell_type": "code",
      "metadata": {
        "id": "bMFEmfsZnR_Z"
      },
      "source": [
        "#Convertir a string columnas\n",
        "columnas = ['genres', 'title','tags']\n",
        "for i in columnas:\n",
        "  data_games[i] = data_games[i].astype('string')\n",
        "\n",
        "#Convertir a int64 columna product_id\n",
        "data_games['id'] = data_games['id'].astype('int64')"
      ],
      "execution_count": 18,
      "outputs": []
    },
    {
      "cell_type": "code",
      "metadata": {
        "id": "bsL6I3a2xuGq"
      },
      "source": [
        "data_games.drop(['publisher','reviews_url', 'url', \n",
        "                 'early_access', 'discount_price', \n",
        "                 'app_name', 'release_date',\n",
        "                 'discount_price', 'specs', \n",
        "                 'sentiment', 'metascore'],\n",
        "                axis=1,\n",
        "                inplace=True)"
      ],
      "execution_count": 19,
      "outputs": []
    },
    {
      "cell_type": "code",
      "metadata": {
        "colab": {
          "base_uri": "https://localhost:8080/"
        },
        "id": "ZDR-Dt3JnJzC",
        "outputId": "393165b4-0e73-4827-9ee9-caff83ef3bbb"
      },
      "source": [
        "valores_nulos(data_games)"
      ],
      "execution_count": 20,
      "outputs": [
        {
          "output_type": "stream",
          "text": [
            "<-- Porcentaje de valores nulos -->\n",
            "\n",
            "genres       3.666076\n",
            "title        0.000000\n",
            "tags         0.000000\n",
            "price        4.103867\n",
            "id           0.000000\n",
            "developer    4.087157\n",
            "dtype: float64\n"
          ],
          "name": "stdout"
        }
      ]
    },
    {
      "cell_type": "code",
      "metadata": {
        "colab": {
          "base_uri": "https://localhost:8080/",
          "height": 295
        },
        "id": "Bb8lVqUUoqg_",
        "outputId": "55a8e546-7104-4593-e7be-5da581f5e529"
      },
      "source": [
        "#Tranferencia del Nombre del videojuego segun su id\n",
        "df = pd.merge(data_reviews, data_games,  left_on='product_id', right_on='id')\n",
        "df.head(3)"
      ],
      "execution_count": 21,
      "outputs": [
        {
          "output_type": "execute_result",
          "data": {
            "text/html": [
              "<div>\n",
              "<style scoped>\n",
              "    .dataframe tbody tr th:only-of-type {\n",
              "        vertical-align: middle;\n",
              "    }\n",
              "\n",
              "    .dataframe tbody tr th {\n",
              "        vertical-align: top;\n",
              "    }\n",
              "\n",
              "    .dataframe thead th {\n",
              "        text-align: right;\n",
              "    }\n",
              "</style>\n",
              "<table border=\"1\" class=\"dataframe\">\n",
              "  <thead>\n",
              "    <tr style=\"text-align: right;\">\n",
              "      <th></th>\n",
              "      <th>username</th>\n",
              "      <th>hours</th>\n",
              "      <th>product_id</th>\n",
              "      <th>date</th>\n",
              "      <th>text</th>\n",
              "      <th>Fecha</th>\n",
              "      <th>Year</th>\n",
              "      <th>month</th>\n",
              "      <th>genres</th>\n",
              "      <th>title</th>\n",
              "      <th>tags</th>\n",
              "      <th>price</th>\n",
              "      <th>id</th>\n",
              "      <th>developer</th>\n",
              "    </tr>\n",
              "  </thead>\n",
              "  <tbody>\n",
              "    <tr>\n",
              "      <th>0</th>\n",
              "      <td>Chaos Syren</td>\n",
              "      <td>0.1</td>\n",
              "      <td>725280</td>\n",
              "      <td>2017-12-17</td>\n",
              "      <td>This would not be acceptable as an entertainme...</td>\n",
              "      <td>2017-12-17</td>\n",
              "      <td>2017</td>\n",
              "      <td>12</td>\n",
              "      <td>['Action', 'Adventure', 'Indie', 'Simulation']</td>\n",
              "      <td>Psi Project</td>\n",
              "      <td>['Action', 'Adventure', 'Indie', 'Simulation']</td>\n",
              "      <td>2.99</td>\n",
              "      <td>725280</td>\n",
              "      <td>Vyacheslav Shilikhin</td>\n",
              "    </tr>\n",
              "    <tr>\n",
              "      <th>1</th>\n",
              "      <td>Duha Nubie</td>\n",
              "      <td>11.3</td>\n",
              "      <td>35140</td>\n",
              "      <td>2018-01-03</td>\n",
              "      <td>first debut feel sweet</td>\n",
              "      <td>2018-01-03</td>\n",
              "      <td>2018</td>\n",
              "      <td>1</td>\n",
              "      <td>['Action', 'Adventure']</td>\n",
              "      <td>Batman: Arkham Asylum Game of the Year Edition</td>\n",
              "      <td>['Action', 'Batman', 'Stealth', 'Adventure', '...</td>\n",
              "      <td>19.99</td>\n",
              "      <td>35140</td>\n",
              "      <td>Rocksteady Studios,Feral Interactive (Mac)</td>\n",
              "    </tr>\n",
              "    <tr>\n",
              "      <th>2</th>\n",
              "      <td>MLGarbage</td>\n",
              "      <td>9.5</td>\n",
              "      <td>35140</td>\n",
              "      <td>2018-01-02</td>\n",
              "      <td>Fun Game. I played shadow of mordor before pla...</td>\n",
              "      <td>2018-01-02</td>\n",
              "      <td>2018</td>\n",
              "      <td>1</td>\n",
              "      <td>['Action', 'Adventure']</td>\n",
              "      <td>Batman: Arkham Asylum Game of the Year Edition</td>\n",
              "      <td>['Action', 'Batman', 'Stealth', 'Adventure', '...</td>\n",
              "      <td>19.99</td>\n",
              "      <td>35140</td>\n",
              "      <td>Rocksteady Studios,Feral Interactive (Mac)</td>\n",
              "    </tr>\n",
              "  </tbody>\n",
              "</table>\n",
              "</div>"
            ],
            "text/plain": [
              "      username  hours  ...      id                                   developer\n",
              "0  Chaos Syren    0.1  ...  725280                        Vyacheslav Shilikhin\n",
              "1   Duha Nubie   11.3  ...   35140  Rocksteady Studios,Feral Interactive (Mac)\n",
              "2    MLGarbage    9.5  ...   35140  Rocksteady Studios,Feral Interactive (Mac)\n",
              "\n",
              "[3 rows x 14 columns]"
            ]
          },
          "metadata": {
            "tags": []
          },
          "execution_count": 21
        }
      ]
    },
    {
      "cell_type": "markdown",
      "metadata": {
        "id": "vq9YlLvUm3fO"
      },
      "source": [
        "##Exploración de Información"
      ]
    },
    {
      "cell_type": "code",
      "metadata": {
        "colab": {
          "base_uri": "https://localhost:8080/"
        },
        "id": "5qrj2_lIg3-h",
        "outputId": "95609111-cc14-436f-dbc9-90468d82b0fc"
      },
      "source": [
        "print('Un total de {} usuarios realizaron reviews de videojuegos'.format(len(df.username.unique())))"
      ],
      "execution_count": 22,
      "outputs": [
        {
          "output_type": "stream",
          "text": [
            "Un total de 388027 usuarios realizaron reviews de videojuegos\n"
          ],
          "name": "stdout"
        }
      ]
    },
    {
      "cell_type": "code",
      "metadata": {
        "colab": {
          "base_uri": "https://localhost:8080/"
        },
        "id": "JCpaEURihzUb",
        "outputId": "b4c85cfe-8092-4146-f4c0-49d15657e352"
      },
      "source": [
        "print(\"<-- Top 10 de Usuarios con mas reviews -->\")\n",
        "df.username.value_counts().head(10)"
      ],
      "execution_count": 23,
      "outputs": [
        {
          "output_type": "stream",
          "text": [
            "<-- Top 10 de Usuarios con mas reviews -->\n"
          ],
          "name": "stdout"
        },
        {
          "output_type": "execute_result",
          "data": {
            "text/plain": [
              "Alex           119\n",
              "Nick            99\n",
              "Jack            96\n",
              "Chris           85\n",
              "Dan             76\n",
              "Saint Aaron     76\n",
              "123             74\n",
              "Kodyd194        73\n",
              "Matt            71\n",
              "Sam             71\n",
              "Name: username, dtype: Int64"
            ]
          },
          "metadata": {
            "tags": []
          },
          "execution_count": 23
        }
      ]
    },
    {
      "cell_type": "code",
      "metadata": {
        "colab": {
          "base_uri": "https://localhost:8080/"
        },
        "id": "GeWoc66CpQ0B",
        "outputId": "2ea5f5de-ce35-497f-a475-a08cf2702f1c"
      },
      "source": [
        "print('<-- Videojuegos con mas Reviews -->\\n')\n",
        "df.title.value_counts().head(10)"
      ],
      "execution_count": 24,
      "outputs": [
        {
          "output_type": "stream",
          "text": [
            "<-- Videojuegos con mas Reviews -->\n",
            "\n"
          ],
          "name": "stdout"
        },
        {
          "output_type": "execute_result",
          "data": {
            "text/plain": [
              "Team Fortress 2                11731\n",
              "Rust                            6623\n",
              "Borderlands 2                   4733\n",
              "Fallout 4                       4454\n",
              "Grand Theft Auto V              3901\n",
              "Portal 2                        3678\n",
              "Undertale                       3659\n",
              "DayZ                            3625\n",
              "Warframe                        3553\n",
              "Life is Strange - Episode 1     3345\n",
              "Name: title, dtype: Int64"
            ]
          },
          "metadata": {
            "tags": []
          },
          "execution_count": 24
        }
      ]
    },
    {
      "cell_type": "code",
      "metadata": {
        "colab": {
          "base_uri": "https://localhost:8080/",
          "height": 318
        },
        "id": "TQvgT4FsxHoi",
        "outputId": "7f775751-e4e0-46f9-ae7b-16d7c126c0ce"
      },
      "source": [
        "year_review = df.groupby(['Year']).count()\n",
        "plt.title('Horas acumuladas de juego por año')\n",
        "sns.barplot(x = year_review.index,\n",
        "            y=year_review.hours)"
      ],
      "execution_count": 25,
      "outputs": [
        {
          "output_type": "execute_result",
          "data": {
            "text/plain": [
              "<matplotlib.axes._subplots.AxesSubplot at 0x7fbade48b048>"
            ]
          },
          "metadata": {
            "tags": []
          },
          "execution_count": 25
        },
        {
          "output_type": "display_data",
          "data": {
            "image/png": "[encoded data removed]",
            "text/plain": [
              "<Figure size 432x288 with 1 Axes>"
            ]
          },
          "metadata": {
            "tags": []
          }
        }
      ]
    },
    {
      "cell_type": "code",
      "metadata": {
        "id": "Erf3a2D7eBpB",
        "colab": {
          "base_uri": "https://localhost:8080/",
          "height": 318
        },
        "outputId": "5de9b177-4b16-4bd3-af64-1e17979b9264"
      },
      "source": [
        "months_2017 = df[df['Year'] == 2017].groupby(['month']).count()\n",
        "plt.title('Horas acumuladas de juego por mes del 2017')\n",
        "sns.barplot(x= months_2017.index,\n",
        "            y=months_2017.hours)"
      ],
      "execution_count": 26,
      "outputs": [
        {
          "output_type": "execute_result",
          "data": {
            "text/plain": [
              "<matplotlib.axes._subplots.AxesSubplot at 0x7fbaf070c400>"
            ]
          },
          "metadata": {
            "tags": []
          },
          "execution_count": 26
        },
        {
          "output_type": "display_data",
          "data": {
            "image/png": "[encoded data removed]",
            "text/plain": [
              "<Figure size 432x288 with 1 Axes>"
            ]
          },
          "metadata": {
            "tags": []
          }
        }
      ]
    },
    {
      "cell_type": "code",
      "metadata": {
        "colab": {
          "base_uri": "https://localhost:8080/"
        },
        "id": "I4os0Wvfw5oP",
        "outputId": "d418b6df-6f86-4640-aa39-248dcc423b82"
      },
      "source": [
        "print('<-- Desarrolladores con mas videojuegos registrados -->\\n')\n",
        "data_games.developer.value_counts().head(10)"
      ],
      "execution_count": 27,
      "outputs": [
        {
          "output_type": "stream",
          "text": [
            "<-- Desarrolladores con mas videojuegos registrados -->\n",
            "\n"
          ],
          "name": "stdout"
        },
        {
          "output_type": "execute_result",
          "data": {
            "text/plain": [
              "Ubisoft - San Francisco       1259\n",
              "SmiteWorks USA, LLC            813\n",
              "Dovetail Games                 253\n",
              "KOEI TECMO GAMES CO., LTD.     232\n",
              "Paradox Development Studio     156\n",
              "Capcom                         130\n",
              "Ronimo Games                   123\n",
              "Choice of Games                100\n",
              "Stainless Games                 95\n",
              "Musopia                         95\n",
              "Name: developer, dtype: int64"
            ]
          },
          "metadata": {
            "tags": []
          },
          "execution_count": 27
        }
      ]
    },
    {
      "cell_type": "code",
      "metadata": {
        "colab": {
          "base_uri": "https://localhost:8080/"
        },
        "id": "PpR_swPpx-mu",
        "outputId": "da26227a-6805-4238-886b-9f404b7fe442"
      },
      "source": [
        "print('<-- Desarrolladores con mas reviews -->\\n')\n",
        "df.developer.value_counts().head(10)"
      ],
      "execution_count": 28,
      "outputs": [
        {
          "output_type": "stream",
          "text": [
            "<-- Desarrolladores con mas reviews -->\n",
            "\n"
          ],
          "name": "stdout"
        },
        {
          "output_type": "execute_result",
          "data": {
            "text/plain": [
              "Valve                                       24337\n",
              "Facepunch Studios                            9733\n",
              "Bohemia Interactive                          7662\n",
              "Bethesda Game Studios                        6963\n",
              "Gearbox Software,Aspyr (Mac &amp; Linux)     4733\n",
              "Ubisoft Montreal                             4707\n",
              "Hi-Rez Studios                               4128\n",
              "Daybreak Game Company                        4051\n",
              "Rockstar North                               3947\n",
              "Digital Extremes                             3804\n",
              "Name: developer, dtype: int64"
            ]
          },
          "metadata": {
            "tags": []
          },
          "execution_count": 28
        }
      ]
    },
    {
      "cell_type": "code",
      "metadata": {
        "colab": {
          "base_uri": "https://localhost:8080/",
          "height": 338
        },
        "id": "Aqd3nCrUw07Y",
        "outputId": "1cb9d1ca-e008-4131-fda7-dfe8e7a81194"
      },
      "source": [
        "price_games = data_games.price.value_counts().head(10)\n",
        "sns.barplot(x=price_games.index[0:],\n",
        "            y=price_games)\n",
        "plt.title('Precio mas frecuente de Videojuegos Registrados')\n",
        "plt.xticks(rotation=50)\n",
        "plt.xlabel('Precio')\n",
        "plt.ylabel('Frecuencia')"
      ],
      "execution_count": 29,
      "outputs": [
        {
          "output_type": "execute_result",
          "data": {
            "text/plain": [
              "Text(0, 0.5, 'Frecuencia')"
            ]
          },
          "metadata": {
            "tags": []
          },
          "execution_count": 29
        },
        {
          "output_type": "display_data",
          "data": {
            "image/png": "[encoded data removed]",
            "text/plain": [
              "<Figure size 432x288 with 1 Axes>"
            ]
          },
          "metadata": {
            "tags": []
          }
        }
      ]
    },
    {
      "cell_type": "code",
      "metadata": {
        "colab": {
          "base_uri": "https://localhost:8080/",
          "height": 364
        },
        "id": "Y07u5knvwMys",
        "outputId": "3e2f319a-27bd-4591-964f-0eb0785e6a02"
      },
      "source": [
        "price_games = df.price.value_counts().head(10)\n",
        "sns.barplot(x=price_games.index[0:],\n",
        "            y=price_games)\n",
        "plt.title('Precio mas frecuente en Videojuegos con Reviews')\n",
        "plt.xticks(rotation=50)\n",
        "plt.xlabel('Precio')\n",
        "plt.ylabel('Frecuencia')"
      ],
      "execution_count": 30,
      "outputs": [
        {
          "output_type": "execute_result",
          "data": {
            "text/plain": [
              "Text(0, 0.5, 'Frecuencia')"
            ]
          },
          "metadata": {
            "tags": []
          },
          "execution_count": 30
        },
        {
          "output_type": "display_data",
          "data": {
            "image/png": "[encoded data removed]",
            "text/plain": [
              "<Figure size 432x288 with 1 Axes>"
            ]
          },
          "metadata": {
            "tags": []
          }
        }
      ]
    },
    {
      "cell_type": "markdown",
      "metadata": {
        "id": "AkWD-SpnJrPz"
      },
      "source": [
        "# Recomendaciones"
      ]
    },
    {
      "cell_type": "markdown",
      "metadata": {
        "id": "Mh91C5DTySBJ"
      },
      "source": [
        "Este sistema de recomendación se basa en la similitud del genero del videojuego del cual se realiza la review"
      ]
    },
    {
      "cell_type": "code",
      "metadata": {
        "id": "Uc52ixIzHJnO"
      },
      "source": [
        "#Submuestra\n",
        "df_games = data_games.sample(frac=0.04)\n",
        "df_games.reset_index(drop=True, inplace=True)\n",
        "\n",
        "df_reviews = data_reviews.sample(frac=0.04)\n",
        "df_reviews.reset_index(drop=True, inplace=True)"
      ],
      "execution_count": 31,
      "outputs": []
    },
    {
      "cell_type": "code",
      "metadata": {
        "id": "h3tiocCbFcS1"
      },
      "source": [
        " #df_games['tags'] = df_games['tags'].fillna(' ')\n",
        " df_games['xtags'] = df_games['tags'].str.replace('[{}]'.format(string.punctuation), ' ')"
      ],
      "execution_count": 32,
      "outputs": []
    },
    {
      "cell_type": "code",
      "metadata": {
        "id": "IWN7smOyugIW",
        "colab": {
          "base_uri": "https://localhost:8080/",
          "height": 129
        },
        "outputId": "bf01b17a-6512-4b87-8f73-092c766496bf"
      },
      "source": [
        "break"
      ],
      "execution_count": 33,
      "outputs": [
        {
          "output_type": "error",
          "ename": "SyntaxError",
          "evalue": "ignored",
          "traceback": [
            "\u001b[0;36m  File \u001b[0;32m\"<ipython-input-33-6aaf1f276005>\"\u001b[0;36m, line \u001b[0;32m1\u001b[0m\n\u001b[0;31m    break\u001b[0m\n\u001b[0m         ^\u001b[0m\n\u001b[0;31mSyntaxError\u001b[0m\u001b[0;31m:\u001b[0m 'break' outside loop\n"
          ]
        }
      ]
    },
    {
      "cell_type": "code",
      "metadata": {
        "id": "gVtqQWAEI6uz"
      },
      "source": [
        "stopwords = nltk.corpus.stopwords.words('english')        #Defino las stopwords\n",
        "tfidf = TfidfVectorizer(stop_words=set(stopwords))        #Defino el modelo\n",
        "tfidf_matrix = tfidf.fit_transform(df_games['xtags'])   #Creo matriz"
      ],
      "execution_count": null,
      "outputs": []
    },
    {
      "cell_type": "code",
      "metadata": {
        "id": "9FxV-paRI6lP"
      },
      "source": [
        "'''\n",
        "Matriz de comparación\n",
        "Compara las etiquetas de un video seleccionado con la lista anterior\n",
        "en busca de palabras similares\n",
        "'''\n",
        "cosine_sim = linear_kernel(tfidf_matrix, tfidf_matrix)"
      ],
      "execution_count": null,
      "outputs": []
    },
    {
      "cell_type": "code",
      "metadata": {
        "id": "r0f5ugPhKZpO"
      },
      "source": [
        "print(len(tfidf.vocabulary_))\n",
        "print(tfidf_matrix.shape)"
      ],
      "execution_count": null,
      "outputs": []
    },
    {
      "cell_type": "code",
      "metadata": {
        "id": "g69mWexmI6cG"
      },
      "source": [
        "indices = pd.Series(df_games.index, index=df_games['title']).drop_duplicates()"
      ],
      "execution_count": null,
      "outputs": []
    },
    {
      "cell_type": "code",
      "metadata": {
        "id": "wkcB6kh1JRfy"
      },
      "source": [
        "def get_recomendation(title, cosine_sim=cosine_sim):\n",
        "    idx = indices[title]                                                        #Selecciona el titulo del videojuego                        \n",
        "    sim_scores = list(enumerate(cosine_sim[idx]))                               \n",
        "    sim_scores = sorted(sim_scores, key=lambda x: x[1], reverse=True)           #Ordena de mayor a menor las similitudes\n",
        "    sim_scores = sim_scores[1:6]                                                #Selecciona las primero 5 similitudes\n",
        "    games_indices = [i[0] for i in sim_scores]\n",
        "    return df_games['title'].iloc[games_indices]                                #Retorna el nombre de los videojuegos"
      ],
      "execution_count": null,
      "outputs": []
    },
    {
      "cell_type": "code",
      "metadata": {
        "id": "ITQvf_gEQX3j"
      },
      "source": [
        "def recomendation():\n",
        "  '''\n",
        "  Se seleccionara un id de un videojuego al azar, simulando que el usuario ya selecciono\n",
        "  el videojuego que va jugar y escribir su reseña'''\n",
        "  ids  = np.random.randint(df_games.shape[0])                         #Obtiene una linea al azar\n",
        "  ids  = df_games.id.iloc[ids]                                        #Obtiene el id del videojuego seleccionado al azar\n",
        "  name = (df_games.loc[df_games['id'] == ids]['title']).iloc[0]       #Busca el nombre del id del videojuego \n",
        "  print('Usted ha jugado: {}'.format(name))\n",
        "  input('Ingrese su reseña: ')\n",
        "  print('\\nNuestras recomendaciones basadas en su ultima review:')\n",
        "  print(get_recomendation(name))"
      ],
      "execution_count": null,
      "outputs": []
    },
    {
      "cell_type": "code",
      "metadata": {
        "id": "_d_FFYEgQXzp"
      },
      "source": [
        "recomendation()"
      ],
      "execution_count": null,
      "outputs": []
    },
    {
      "cell_type": "markdown",
      "metadata": {
        "id": "WqoViz3t-Kj3"
      },
      "source": [
        "# Procesamiento de lenguaje natural"
      ]
    },
    {
      "cell_type": "markdown",
      "metadata": {
        "id": "QpsVRpMryuAV"
      },
      "source": [
        "Realizo procesamiento de lenguaje, para intentar obtener una calificacion a la review realizada por el usuario , obteniendo una calificacion para la polaridad del comentario.\n",
        "Si el comentario es positivo, el valor sera igual o cercano a 1, mientras, que, si el comentario es negativo, el valor sera igual o cercano a -1, si el comentario es neutro el valor sera cercano o igual a 0"
      ]
    },
    {
      "cell_type": "code",
      "metadata": {
        "colab": {
          "base_uri": "https://localhost:8080/",
          "height": 213
        },
        "id": "lu4U6JuE5IN0",
        "outputId": "8622fc21-004d-45ff-8034-2e89745166dc"
      },
      "source": [
        "df.head(2)"
      ],
      "execution_count": 34,
      "outputs": [
        {
          "output_type": "execute_result",
          "data": {
            "text/html": [
              "<div>\n",
              "<style scoped>\n",
              "    .dataframe tbody tr th:only-of-type {\n",
              "        vertical-align: middle;\n",
              "    }\n",
              "\n",
              "    .dataframe tbody tr th {\n",
              "        vertical-align: top;\n",
              "    }\n",
              "\n",
              "    .dataframe thead th {\n",
              "        text-align: right;\n",
              "    }\n",
              "</style>\n",
              "<table border=\"1\" class=\"dataframe\">\n",
              "  <thead>\n",
              "    <tr style=\"text-align: right;\">\n",
              "      <th></th>\n",
              "      <th>username</th>\n",
              "      <th>hours</th>\n",
              "      <th>product_id</th>\n",
              "      <th>date</th>\n",
              "      <th>text</th>\n",
              "      <th>Fecha</th>\n",
              "      <th>Year</th>\n",
              "      <th>month</th>\n",
              "      <th>genres</th>\n",
              "      <th>title</th>\n",
              "      <th>tags</th>\n",
              "      <th>price</th>\n",
              "      <th>id</th>\n",
              "      <th>developer</th>\n",
              "    </tr>\n",
              "  </thead>\n",
              "  <tbody>\n",
              "    <tr>\n",
              "      <th>0</th>\n",
              "      <td>Chaos Syren</td>\n",
              "      <td>0.1</td>\n",
              "      <td>725280</td>\n",
              "      <td>2017-12-17</td>\n",
              "      <td>This would not be acceptable as an entertainme...</td>\n",
              "      <td>2017-12-17</td>\n",
              "      <td>2017</td>\n",
              "      <td>12</td>\n",
              "      <td>['Action', 'Adventure', 'Indie', 'Simulation']</td>\n",
              "      <td>Psi Project</td>\n",
              "      <td>['Action', 'Adventure', 'Indie', 'Simulation']</td>\n",
              "      <td>2.99</td>\n",
              "      <td>725280</td>\n",
              "      <td>Vyacheslav Shilikhin</td>\n",
              "    </tr>\n",
              "    <tr>\n",
              "      <th>1</th>\n",
              "      <td>Duha Nubie</td>\n",
              "      <td>11.3</td>\n",
              "      <td>35140</td>\n",
              "      <td>2018-01-03</td>\n",
              "      <td>first debut feel sweet</td>\n",
              "      <td>2018-01-03</td>\n",
              "      <td>2018</td>\n",
              "      <td>1</td>\n",
              "      <td>['Action', 'Adventure']</td>\n",
              "      <td>Batman: Arkham Asylum Game of the Year Edition</td>\n",
              "      <td>['Action', 'Batman', 'Stealth', 'Adventure', '...</td>\n",
              "      <td>19.99</td>\n",
              "      <td>35140</td>\n",
              "      <td>Rocksteady Studios,Feral Interactive (Mac)</td>\n",
              "    </tr>\n",
              "  </tbody>\n",
              "</table>\n",
              "</div>"
            ],
            "text/plain": [
              "      username  hours  ...      id                                   developer\n",
              "0  Chaos Syren    0.1  ...  725280                        Vyacheslav Shilikhin\n",
              "1   Duha Nubie   11.3  ...   35140  Rocksteady Studios,Feral Interactive (Mac)\n",
              "\n",
              "[2 rows x 14 columns]"
            ]
          },
          "metadata": {
            "tags": []
          },
          "execution_count": 34
        }
      ]
    },
    {
      "cell_type": "code",
      "metadata": {
        "id": "SZh-rtzlwJWv"
      },
      "source": [
        "df.drop(['hours', 'date', 'Fecha', 'Year', 'month', 'developer', 'price','id'], axis=1, inplace=True)"
      ],
      "execution_count": 35,
      "outputs": []
    },
    {
      "cell_type": "markdown",
      "metadata": {
        "id": "rOT82_sV75Pv"
      },
      "source": [
        "## Estandarizar el texto"
      ]
    },
    {
      "cell_type": "code",
      "metadata": {
        "id": "yvTTgj7dzo7w"
      },
      "source": [
        " #Elimino signos de puntuacion\n",
        " df['xtext'] = df['text'].str.replace('[{}]'.format(string.punctuation), ' ')"
      ],
      "execution_count": 36,
      "outputs": []
    },
    {
      "cell_type": "markdown",
      "metadata": {
        "id": "nOINlU176LDQ"
      },
      "source": [
        "## Conversion de nombre de usuarios a numeros"
      ]
    },
    {
      "cell_type": "code",
      "metadata": {
        "colab": {
          "base_uri": "https://localhost:8080/",
          "height": 162
        },
        "id": "1byVdnLO6Wa0",
        "outputId": "8b5f6591-6616-4e23-e4a5-ea454a32fddb"
      },
      "source": [
        "from sklearn import preprocessing\n",
        "\n",
        "le = preprocessing.LabelEncoder()\n",
        "le.fit(df['username'])\n",
        "df['x_username'] = le.transform(df['username'])\n",
        "\n",
        "df.head(2)"
      ],
      "execution_count": 37,
      "outputs": [
        {
          "output_type": "execute_result",
          "data": {
            "text/html": [
              "<div>\n",
              "<style scoped>\n",
              "    .dataframe tbody tr th:only-of-type {\n",
              "        vertical-align: middle;\n",
              "    }\n",
              "\n",
              "    .dataframe tbody tr th {\n",
              "        vertical-align: top;\n",
              "    }\n",
              "\n",
              "    .dataframe thead th {\n",
              "        text-align: right;\n",
              "    }\n",
              "</style>\n",
              "<table border=\"1\" class=\"dataframe\">\n",
              "  <thead>\n",
              "    <tr style=\"text-align: right;\">\n",
              "      <th></th>\n",
              "      <th>username</th>\n",
              "      <th>product_id</th>\n",
              "      <th>text</th>\n",
              "      <th>genres</th>\n",
              "      <th>title</th>\n",
              "      <th>tags</th>\n",
              "      <th>xtext</th>\n",
              "      <th>x_username</th>\n",
              "    </tr>\n",
              "  </thead>\n",
              "  <tbody>\n",
              "    <tr>\n",
              "      <th>0</th>\n",
              "      <td>Chaos Syren</td>\n",
              "      <td>725280</td>\n",
              "      <td>This would not be acceptable as an entertainme...</td>\n",
              "      <td>['Action', 'Adventure', 'Indie', 'Simulation']</td>\n",
              "      <td>Psi Project</td>\n",
              "      <td>['Action', 'Adventure', 'Indie', 'Simulation']</td>\n",
              "      <td>This would not be acceptable as an entertainme...</td>\n",
              "      <td>45116</td>\n",
              "    </tr>\n",
              "    <tr>\n",
              "      <th>1</th>\n",
              "      <td>Duha Nubie</td>\n",
              "      <td>35140</td>\n",
              "      <td>first debut feel sweet</td>\n",
              "      <td>['Action', 'Adventure']</td>\n",
              "      <td>Batman: Arkham Asylum Game of the Year Edition</td>\n",
              "      <td>['Action', 'Batman', 'Stealth', 'Adventure', '...</td>\n",
              "      <td>first debut feel sweet</td>\n",
              "      <td>73962</td>\n",
              "    </tr>\n",
              "  </tbody>\n",
              "</table>\n",
              "</div>"
            ],
            "text/plain": [
              "      username  ...  x_username\n",
              "0  Chaos Syren  ...       45116\n",
              "1   Duha Nubie  ...       73962\n",
              "\n",
              "[2 rows x 8 columns]"
            ]
          },
          "metadata": {
            "tags": []
          },
          "execution_count": 37
        }
      ]
    },
    {
      "cell_type": "code",
      "metadata": {
        "id": "WPPXhxcO6ROI"
      },
      "source": [
        "#Submuestra\n",
        "df_sub= df.sample(frac=0.1)\n",
        "df_sub.reset_index(drop=True, inplace=True)"
      ],
      "execution_count": 38,
      "outputs": []
    },
    {
      "cell_type": "markdown",
      "metadata": {
        "id": "h7J9cJE3zItE"
      },
      "source": [
        "## Emojis"
      ]
    },
    {
      "cell_type": "code",
      "metadata": {
        "id": "Zo2vQjUEzIf3"
      },
      "source": [
        "pip install emoji"
      ],
      "execution_count": null,
      "outputs": []
    },
    {
      "cell_type": "code",
      "metadata": {
        "id": "UrUVeT0LylsM"
      },
      "source": [
        "#Elimino cualquier emoji presente en la review escrita\n",
        "import emoji"
      ],
      "execution_count": null,
      "outputs": []
    },
    {
      "cell_type": "code",
      "metadata": {
        "id": "BvgNx0YbwlPm"
      },
      "source": [
        "df_reviews.xtext.iloc[1]"
      ],
      "execution_count": null,
      "outputs": []
    },
    {
      "cell_type": "code",
      "metadata": {
        "id": "BxbqRA9YwlMf"
      },
      "source": [
        "#df_reviews['xtext'] = emoji.demojize(df_reviews['xtext'])"
      ],
      "execution_count": null,
      "outputs": []
    },
    {
      "cell_type": "markdown",
      "metadata": {
        "id": "BG-UEbs61D6x"
      },
      "source": [
        "## Traduccion de comentario"
      ]
    },
    {
      "cell_type": "code",
      "metadata": {
        "id": "JTHI4FU1wk1c"
      },
      "source": [
        "#df_reviews['xtext'] = df_reviews['text'].apply(lambda x: TextBlob(x).translate(to='en'))"
      ],
      "execution_count": null,
      "outputs": []
    },
    {
      "cell_type": "code",
      "metadata": {
        "id": "fv50Rs6_wkyY"
      },
      "source": [
        "#Ya que todos los comentarios se encuentran en ingles, la celda anterior marca error, ya que no tiene acciones por realizar"
      ],
      "execution_count": null,
      "outputs": []
    },
    {
      "cell_type": "markdown",
      "metadata": {
        "id": "j17XK9E88teX"
      },
      "source": [
        "## Polaridad y subjetividad de reviews"
      ]
    },
    {
      "cell_type": "code",
      "metadata": {
        "id": "jHB9Z4ovGXAA"
      },
      "source": [
        "#Correcion de escritura\n",
        "#correciones = []\n",
        "#for i in range(df_sub.shape[0]):\n",
        "#  correcion = df_sub.xtext.iloc[i]\n",
        "#  correcion = TextBlob(correcion).correct()\n",
        "#  correciones.append(correcion)\n",
        "#df_sub['xtext'] = correciones"
      ],
      "execution_count": null,
      "outputs": []
    },
    {
      "cell_type": "code",
      "metadata": {
        "id": "K6UyOXKw8r9o"
      },
      "source": [
        "#TextBlob(comentario).sentimen"
      ],
      "execution_count": null,
      "outputs": []
    },
    {
      "cell_type": "code",
      "metadata": {
        "id": "qj5MsPoG8r0l"
      },
      "source": [
        "#Creacion de una nueva columna con la polaridad de la review\n",
        "comentarios = []\n",
        "\n",
        "for i in range(df_sub.shape[0]):\n",
        "  comentario = df_sub.xtext.iloc[i]\n",
        "  comentario = TextBlob(comentario).polarity\n",
        "  comentarios.append(comentario)\n",
        "\n",
        "df_sub['polarity'] = comentarios"
      ],
      "execution_count": 39,
      "outputs": []
    },
    {
      "cell_type": "code",
      "metadata": {
        "id": "K8K0YJJP-VAm"
      },
      "source": [
        "#Creacion de una nueva columna con la subjetividad de la revoew\n",
        "comentarios = []\n",
        "\n",
        "for i in range(df_sub.shape[0]):\n",
        "  comentario = df_sub.xtext.iloc[i]\n",
        "  comentario = TextBlob(comentario).subjectivity\n",
        "  comentarios.append(comentario)\n",
        "\n",
        "df_sub['subjectivity'] = comentarios"
      ],
      "execution_count": 40,
      "outputs": []
    },
    {
      "cell_type": "markdown",
      "metadata": {
        "id": "RIdWtFmu-Bwe"
      },
      "source": [
        "## Analisis de comentarios"
      ]
    },
    {
      "cell_type": "code",
      "metadata": {
        "colab": {
          "base_uri": "https://localhost:8080/",
          "height": 179
        },
        "id": "fm0in2wh-FtL",
        "outputId": "b29c3a10-c602-43ae-c40d-0b9273c0352d"
      },
      "source": [
        "df_sub.head(2)"
      ],
      "execution_count": 41,
      "outputs": [
        {
          "output_type": "execute_result",
          "data": {
            "text/html": [
              "<div>\n",
              "<style scoped>\n",
              "    .dataframe tbody tr th:only-of-type {\n",
              "        vertical-align: middle;\n",
              "    }\n",
              "\n",
              "    .dataframe tbody tr th {\n",
              "        vertical-align: top;\n",
              "    }\n",
              "\n",
              "    .dataframe thead th {\n",
              "        text-align: right;\n",
              "    }\n",
              "</style>\n",
              "<table border=\"1\" class=\"dataframe\">\n",
              "  <thead>\n",
              "    <tr style=\"text-align: right;\">\n",
              "      <th></th>\n",
              "      <th>username</th>\n",
              "      <th>product_id</th>\n",
              "      <th>text</th>\n",
              "      <th>genres</th>\n",
              "      <th>title</th>\n",
              "      <th>tags</th>\n",
              "      <th>xtext</th>\n",
              "      <th>x_username</th>\n",
              "      <th>polarity</th>\n",
              "      <th>subjectivity</th>\n",
              "    </tr>\n",
              "  </thead>\n",
              "  <tbody>\n",
              "    <tr>\n",
              "      <th>0</th>\n",
              "      <td>River &amp; Johnny</td>\n",
              "      <td>4000</td>\n",
              "      <td>its fun i guess</td>\n",
              "      <td>['Indie', 'Simulation']</td>\n",
              "      <td>Garry's Mod</td>\n",
              "      <td>['Sandbox', 'Multiplayer', 'Funny', 'Moddable'...</td>\n",
              "      <td>its fun i guess</td>\n",
              "      <td>205211</td>\n",
              "      <td>0.3</td>\n",
              "      <td>0.2</td>\n",
              "    </tr>\n",
              "    <tr>\n",
              "      <th>1</th>\n",
              "      <td>sad piece of shit</td>\n",
              "      <td>306130</td>\n",
              "      <td>go ♥♥♥♥ you self i cant buy dlc for this game</td>\n",
              "      <td>['Massively Multiplayer', 'RPG']</td>\n",
              "      <td>The Elder Scrolls® Online: Tamriel Unlimited™</td>\n",
              "      <td>['RPG', 'Open World', 'MMORPG', 'Massively Mul...</td>\n",
              "      <td>go ♥♥♥♥ you self i cant buy dlc for this game</td>\n",
              "      <td>352056</td>\n",
              "      <td>-0.4</td>\n",
              "      <td>0.4</td>\n",
              "    </tr>\n",
              "  </tbody>\n",
              "</table>\n",
              "</div>"
            ],
            "text/plain": [
              "            username  product_id  ... polarity subjectivity\n",
              "0     River & Johnny        4000  ...      0.3          0.2\n",
              "1  sad piece of shit      306130  ...     -0.4          0.4\n",
              "\n",
              "[2 rows x 10 columns]"
            ]
          },
          "metadata": {
            "tags": []
          },
          "execution_count": 41
        }
      ]
    },
    {
      "cell_type": "code",
      "metadata": {
        "colab": {
          "base_uri": "https://localhost:8080/"
        },
        "id": "Sbfm3KHg-Scp",
        "outputId": "ba238396-5de4-4568-fd64-daabff507bc6"
      },
      "source": [
        "print('<-- Videojuegos con más reviews positivas-->\\n')\n",
        "df_sub.groupby('title')['polarity'].mean().sort_values(ascending=False).head()"
      ],
      "execution_count": 42,
      "outputs": [
        {
          "output_type": "stream",
          "text": [
            "<-- Videojuegos con más reviews positivas-->\n",
            "\n"
          ],
          "name": "stdout"
        },
        {
          "output_type": "execute_result",
          "data": {
            "text/plain": [
              "title\n",
              "DRAGON BALL Xenoverse 2 - Steve Aoki Pack    1.0\n",
              "Croixleur Sigma                              1.0\n",
              "Tap Tap Infinity                             1.0\n",
              "Gravi                                        1.0\n",
              "Over The Void                                1.0\n",
              "Name: polarity, dtype: float64"
            ]
          },
          "metadata": {
            "tags": []
          },
          "execution_count": 42
        }
      ]
    },
    {
      "cell_type": "code",
      "metadata": {
        "colab": {
          "base_uri": "https://localhost:8080/",
          "height": 235
        },
        "id": "3_D58Ku6-Cgi",
        "outputId": "08849b69-ea3f-49b4-9a6d-655c17a5e2c4"
      },
      "source": [
        "#Data de videojuego con el promedio de polaridad en sus reviews\n",
        "ratings = pd.DataFrame(df_sub.groupby('title')['polarity'].mean())\n",
        "ratings.head()"
      ],
      "execution_count": 43,
      "outputs": [
        {
          "output_type": "execute_result",
          "data": {
            "text/html": [
              "<div>\n",
              "<style scoped>\n",
              "    .dataframe tbody tr th:only-of-type {\n",
              "        vertical-align: middle;\n",
              "    }\n",
              "\n",
              "    .dataframe tbody tr th {\n",
              "        vertical-align: top;\n",
              "    }\n",
              "\n",
              "    .dataframe thead th {\n",
              "        text-align: right;\n",
              "    }\n",
              "</style>\n",
              "<table border=\"1\" class=\"dataframe\">\n",
              "  <thead>\n",
              "    <tr style=\"text-align: right;\">\n",
              "      <th></th>\n",
              "      <th>polarity</th>\n",
              "    </tr>\n",
              "    <tr>\n",
              "      <th>title</th>\n",
              "      <th></th>\n",
              "    </tr>\n",
              "  </thead>\n",
              "  <tbody>\n",
              "    <tr>\n",
              "      <th>&amp;gt;observer_</th>\n",
              "      <td>0.063423</td>\n",
              "    </tr>\n",
              "    <tr>\n",
              "      <th>- Arcane RERaise -</th>\n",
              "      <td>-0.288889</td>\n",
              "    </tr>\n",
              "    <tr>\n",
              "      <th>- Arcane Raise -</th>\n",
              "      <td>-0.101481</td>\n",
              "    </tr>\n",
              "    <tr>\n",
              "      <th>.hack//G.U. Last Recode</th>\n",
              "      <td>0.290690</td>\n",
              "    </tr>\n",
              "    <tr>\n",
              "      <th>//N.P.P.D. RUSH//- The milk of Ultraviolet</th>\n",
              "      <td>-0.019547</td>\n",
              "    </tr>\n",
              "  </tbody>\n",
              "</table>\n",
              "</div>"
            ],
            "text/plain": [
              "                                            polarity\n",
              "title                                               \n",
              "&gt;observer_                               0.063423\n",
              "- Arcane RERaise -                         -0.288889\n",
              "- Arcane Raise -                           -0.101481\n",
              ".hack//G.U. Last Recode                     0.290690\n",
              "//N.P.P.D. RUSH//- The milk of Ultraviolet -0.019547"
            ]
          },
          "metadata": {
            "tags": []
          },
          "execution_count": 43
        }
      ]
    },
    {
      "cell_type": "code",
      "metadata": {
        "colab": {
          "base_uri": "https://localhost:8080/",
          "height": 235
        },
        "id": "P5-CHLYW_Aix",
        "outputId": "1b0ee1af-1893-4372-91d2-a1892cca0c04"
      },
      "source": [
        "#Nueva columna, el numero de reviews recibidas por videojuego\n",
        "ratings['num of ratings'] = pd.DataFrame(df_sub.groupby('title')['polarity'].count())\n",
        "ratings.head()"
      ],
      "execution_count": 44,
      "outputs": [
        {
          "output_type": "execute_result",
          "data": {
            "text/html": [
              "<div>\n",
              "<style scoped>\n",
              "    .dataframe tbody tr th:only-of-type {\n",
              "        vertical-align: middle;\n",
              "    }\n",
              "\n",
              "    .dataframe tbody tr th {\n",
              "        vertical-align: top;\n",
              "    }\n",
              "\n",
              "    .dataframe thead th {\n",
              "        text-align: right;\n",
              "    }\n",
              "</style>\n",
              "<table border=\"1\" class=\"dataframe\">\n",
              "  <thead>\n",
              "    <tr style=\"text-align: right;\">\n",
              "      <th></th>\n",
              "      <th>polarity</th>\n",
              "      <th>num of ratings</th>\n",
              "    </tr>\n",
              "    <tr>\n",
              "      <th>title</th>\n",
              "      <th></th>\n",
              "      <th></th>\n",
              "    </tr>\n",
              "  </thead>\n",
              "  <tbody>\n",
              "    <tr>\n",
              "      <th>&amp;gt;observer_</th>\n",
              "      <td>0.063423</td>\n",
              "      <td>2</td>\n",
              "    </tr>\n",
              "    <tr>\n",
              "      <th>- Arcane RERaise -</th>\n",
              "      <td>-0.288889</td>\n",
              "      <td>1</td>\n",
              "    </tr>\n",
              "    <tr>\n",
              "      <th>- Arcane Raise -</th>\n",
              "      <td>-0.101481</td>\n",
              "      <td>1</td>\n",
              "    </tr>\n",
              "    <tr>\n",
              "      <th>.hack//G.U. Last Recode</th>\n",
              "      <td>0.290690</td>\n",
              "      <td>3</td>\n",
              "    </tr>\n",
              "    <tr>\n",
              "      <th>//N.P.P.D. RUSH//- The milk of Ultraviolet</th>\n",
              "      <td>-0.019547</td>\n",
              "      <td>4</td>\n",
              "    </tr>\n",
              "  </tbody>\n",
              "</table>\n",
              "</div>"
            ],
            "text/plain": [
              "                                            polarity  num of ratings\n",
              "title                                                               \n",
              "&gt;observer_                               0.063423               2\n",
              "- Arcane RERaise -                         -0.288889               1\n",
              "- Arcane Raise -                           -0.101481               1\n",
              ".hack//G.U. Last Recode                     0.290690               3\n",
              "//N.P.P.D. RUSH//- The milk of Ultraviolet -0.019547               4"
            ]
          },
          "metadata": {
            "tags": []
          },
          "execution_count": 44
        }
      ]
    },
    {
      "cell_type": "code",
      "metadata": {
        "colab": {
          "base_uri": "https://localhost:8080/",
          "height": 318
        },
        "id": "XwaoW8ue_Tbp",
        "outputId": "84baa947-6862-4fd2-ab02-4d248371d3d9"
      },
      "source": [
        "plt.figure(figsize=(10,4))\n",
        "ratings['polarity'].hist(bins=70)\n",
        "plt.xlabel('-Negativo <----------------------------> Positivo')\n",
        "plt.title(\"Polaridad de Review's\")"
      ],
      "execution_count": 45,
      "outputs": [
        {
          "output_type": "execute_result",
          "data": {
            "text/plain": [
              "Text(0.5, 1.0, \"Polaridad de Review's\")"
            ]
          },
          "metadata": {
            "tags": []
          },
          "execution_count": 45
        },
        {
          "output_type": "display_data",
          "data": {
            "image/png": "[encoded data removed]",
            "text/plain": [
              "<Figure size 720x288 with 1 Axes>"
            ]
          },
          "metadata": {
            "tags": []
          }
        }
      ]
    },
    {
      "cell_type": "markdown",
      "metadata": {
        "id": "jBJWqaW7u7SV"
      },
      "source": [
        "# Machine Learning\n",
        "## Surprise"
      ]
    },
    {
      "cell_type": "code",
      "metadata": {
        "id": "XznZ0CnjbcHw"
      },
      "source": [
        "#Creo una copia de las review, que mas adelante empleare\n",
        "calificaciones = df_sub[['x_username', 'product_id', 'polarity']]"
      ],
      "execution_count": 68,
      "outputs": []
    },
    {
      "cell_type": "code",
      "metadata": {
        "id": "rSH80tXpKz1r"
      },
      "source": [
        "calificaciones"
      ],
      "execution_count": null,
      "outputs": []
    },
    {
      "cell_type": "markdown",
      "metadata": {
        "id": "j0UmCH8qA1Dw"
      },
      "source": [
        "\n",
        "###Intento nuevo\n",
        "\n",
        "https://ansegura7.github.io/RS_Surprise/pages/RS_SVD.html"
      ]
    },
    {
      "cell_type": "code",
      "metadata": {
        "id": "dSuAvcqmAZnc"
      },
      "source": [
        "from sklearn.model_selection import train_test_split\n",
        "train_data, test_data = train_test_split(calificaciones, test_size = 0.2)"
      ],
      "execution_count": 70,
      "outputs": []
    },
    {
      "cell_type": "code",
      "metadata": {
        "colab": {
          "base_uri": "https://localhost:8080/",
          "height": 268
        },
        "id": "7oxTPAjhAZhx",
        "outputId": "336a5627-faf9-4477-ca11-75ab60875298"
      },
      "source": [
        "plt.figure(figsize = (10, 4))\n",
        "train_data.polarity.plot.hist(bins = 10)\n",
        "plt.show()"
      ],
      "execution_count": 71,
      "outputs": [
        {
          "output_type": "display_data",
          "data": {
            "image/png": "[encoded data removed]",
            "text/plain": [
              "<Figure size 720x288 with 1 Axes>"
            ]
          },
          "metadata": {
            "tags": []
          }
        }
      ]
    },
    {
      "cell_type": "code",
      "metadata": {
        "colab": {
          "base_uri": "https://localhost:8080/",
          "height": 268
        },
        "id": "TfWJWpT1AZcL",
        "outputId": "0bef2185-f879-40fd-bb36-b1770117103e"
      },
      "source": [
        "plt.figure(figsize = (10, 4))\n",
        "test_data.polarity.plot.hist(bins = 10)\n",
        "plt.show()"
      ],
      "execution_count": 72,
      "outputs": [
        {
          "output_type": "display_data",
          "data": {
            "image/png": "[encoded data removed]",
            "text/plain": [
              "<Figure size 720x288 with 1 Axes>"
            ]
          },
          "metadata": {
            "tags": []
          }
        }
      ]
    },
    {
      "cell_type": "code",
      "metadata": {
        "id": "qFXou9hFAZWc"
      },
      "source": [
        "reader = Reader(rating_scale = (-1.00, 1.00))\n",
        "data_train = Dataset.load_from_df(train_data[['x_username', 'product_id', 'polarity']], reader)\n",
        "data_test = Dataset.load_from_df(test_data[['x_username', 'product_id', 'polarity']], reader)"
      ],
      "execution_count": 73,
      "outputs": []
    },
    {
      "cell_type": "code",
      "metadata": {
        "id": "h02HInLyAZQv"
      },
      "source": [
        "# Build full trainset\n",
        "data_train = data_train.build_full_trainset()\n",
        "data_test = data_test.build_full_trainset()"
      ],
      "execution_count": 74,
      "outputs": []
    },
    {
      "cell_type": "code",
      "metadata": {
        "colab": {
          "base_uri": "https://localhost:8080/"
        },
        "id": "Nm6t8C_UAZK9",
        "outputId": "6465cf8b-fdf0-4247-ed29-9604699d4ebe"
      },
      "source": [
        "print('Train rating', data_train.global_mean)\n",
        "print('Test rating', data_test.global_mean)"
      ],
      "execution_count": 75,
      "outputs": [
        {
          "output_type": "stream",
          "text": [
            "Train rating 0.0964195909706116\n",
            "Test rating 0.09610437244455755\n"
          ],
          "name": "stdout"
        }
      ]
    },
    {
      "cell_type": "code",
      "metadata": {
        "id": "jBxL81rlCWJC"
      },
      "source": [
        "# Create the trainset and testset\n",
        "data_trainset = data_train.build_testset()\n",
        "data_testset = data_test.build_testset()"
      ],
      "execution_count": 76,
      "outputs": []
    },
    {
      "cell_type": "code",
      "metadata": {
        "id": "yT8NoasMAZEt"
      },
      "source": [
        "# Create SVD algorithm with 5 factors\n",
        "from surprise import SVD\n",
        "k_factors = 5\n",
        "algo = SVD(n_factors= k_factors, n_epochs= 200, biased= True, lr_all= 0.005, reg_all= 0, init_mean= 0, init_std_dev= 0.01)"
      ],
      "execution_count": 77,
      "outputs": []
    },
    {
      "cell_type": "code",
      "metadata": {
        "colab": {
          "base_uri": "https://localhost:8080/"
        },
        "id": "xMlNyT6hAY-V",
        "outputId": "391ba4f0-1f63-4679-b395-ecf076a95a0a"
      },
      "source": [
        "algo.fit(data_train)"
      ],
      "execution_count": 79,
      "outputs": [
        {
          "output_type": "execute_result",
          "data": {
            "text/plain": [
              "<surprise.prediction_algorithms.matrix_factorization.SVD at 0x7fbaddc4d630>"
            ]
          },
          "metadata": {
            "tags": []
          },
          "execution_count": 79
        }
      ]
    },
    {
      "cell_type": "code",
      "metadata": {
        "colab": {
          "base_uri": "https://localhost:8080/"
        },
        "id": "2T6hO5EfAY3-",
        "outputId": "354dc91d-9923-463b-d6ce-a4a154b610f2"
      },
      "source": [
        "# Calculate RMSE for training dataset\n",
        "from surprise import accuracy\n",
        "train_pred = algo.test(data_trainset)\n",
        "accuracy.rmse(train_pred)"
      ],
      "execution_count": 80,
      "outputs": [
        {
          "output_type": "stream",
          "text": [
            "RMSE: 0.0969\n"
          ],
          "name": "stdout"
        },
        {
          "output_type": "execute_result",
          "data": {
            "text/plain": [
              "0.09687541451994693"
            ]
          },
          "metadata": {
            "tags": []
          },
          "execution_count": 80
        }
      ]
    },
    {
      "cell_type": "code",
      "metadata": {
        "colab": {
          "base_uri": "https://localhost:8080/"
        },
        "id": "9podDEfpAYxx",
        "outputId": "7f86c9c0-2886-458a-9895-608230f06296"
      },
      "source": [
        "# Calculate RMSE for test dataset\n",
        "test_pred = algo.test(data_testset)\n",
        "accuracy.rmse(test_pred)"
      ],
      "execution_count": 81,
      "outputs": [
        {
          "output_type": "stream",
          "text": [
            "RMSE: 0.2613\n"
          ],
          "name": "stdout"
        },
        {
          "output_type": "execute_result",
          "data": {
            "text/plain": [
              "0.26133519089687013"
            ]
          },
          "metadata": {
            "tags": []
          },
          "execution_count": 81
        }
      ]
    },
    {
      "cell_type": "code",
      "metadata": {
        "colab": {
          "base_uri": "https://localhost:8080/",
          "height": 204
        },
        "id": "gMJlElyuAYq0",
        "outputId": "307b2e30-d666-4de2-a1e0-06e69d1148b7"
      },
      "source": [
        "train_data.head(5)"
      ],
      "execution_count": 82,
      "outputs": [
        {
          "output_type": "execute_result",
          "data": {
            "text/html": [
              "<div>\n",
              "<style scoped>\n",
              "    .dataframe tbody tr th:only-of-type {\n",
              "        vertical-align: middle;\n",
              "    }\n",
              "\n",
              "    .dataframe tbody tr th {\n",
              "        vertical-align: top;\n",
              "    }\n",
              "\n",
              "    .dataframe thead th {\n",
              "        text-align: right;\n",
              "    }\n",
              "</style>\n",
              "<table border=\"1\" class=\"dataframe\">\n",
              "  <thead>\n",
              "    <tr style=\"text-align: right;\">\n",
              "      <th></th>\n",
              "      <th>x_username</th>\n",
              "      <th>product_id</th>\n",
              "      <th>polarity</th>\n",
              "    </tr>\n",
              "  </thead>\n",
              "  <tbody>\n",
              "    <tr>\n",
              "      <th>33389</th>\n",
              "      <td>9141</td>\n",
              "      <td>440</td>\n",
              "      <td>0.375556</td>\n",
              "    </tr>\n",
              "    <tr>\n",
              "      <th>51054</th>\n",
              "      <td>189545</td>\n",
              "      <td>207230</td>\n",
              "      <td>-0.017143</td>\n",
              "    </tr>\n",
              "    <tr>\n",
              "      <th>8872</th>\n",
              "      <td>368795</td>\n",
              "      <td>315430</td>\n",
              "      <td>0.026667</td>\n",
              "    </tr>\n",
              "    <tr>\n",
              "      <th>47172</th>\n",
              "      <td>86121</td>\n",
              "      <td>365590</td>\n",
              "      <td>-0.100000</td>\n",
              "    </tr>\n",
              "    <tr>\n",
              "      <th>9308</th>\n",
              "      <td>215090</td>\n",
              "      <td>271590</td>\n",
              "      <td>0.364286</td>\n",
              "    </tr>\n",
              "  </tbody>\n",
              "</table>\n",
              "</div>"
            ],
            "text/plain": [
              "       x_username  product_id  polarity\n",
              "33389        9141         440  0.375556\n",
              "51054      189545      207230 -0.017143\n",
              "8872       368795      315430  0.026667\n",
              "47172       86121      365590 -0.100000\n",
              "9308       215090      271590  0.364286"
            ]
          },
          "metadata": {
            "tags": []
          },
          "execution_count": 82
        }
      ]
    },
    {
      "cell_type": "code",
      "metadata": {
        "colab": {
          "base_uri": "https://localhost:8080/"
        },
        "id": "o3ZZPq9aAYjg",
        "outputId": "6d463ea9-32a0-4ebf-9a55-c00e6db23cee"
      },
      "source": [
        "# Prediction without real rating\n",
        "p1 = algo.predict(uid = train_data.iloc[0].x_username, iid = train_data.iloc[0].product_id, verbose = True)"
      ],
      "execution_count": 83,
      "outputs": [
        {
          "output_type": "stream",
          "text": [
            "user: 9141.0     item: 440.0      r_ui = None   est = 0.36   {'was_impossible': False}\n"
          ],
          "name": "stdout"
        }
      ]
    },
    {
      "cell_type": "code",
      "metadata": {
        "colab": {
          "base_uri": "https://localhost:8080/",
          "height": 204
        },
        "id": "eUYd8h33Hryt",
        "outputId": "976b670b-8714-4403-c84a-3edbca78de6c"
      },
      "source": [
        "test_data.head(5)"
      ],
      "execution_count": 84,
      "outputs": [
        {
          "output_type": "execute_result",
          "data": {
            "text/html": [
              "<div>\n",
              "<style scoped>\n",
              "    .dataframe tbody tr th:only-of-type {\n",
              "        vertical-align: middle;\n",
              "    }\n",
              "\n",
              "    .dataframe tbody tr th {\n",
              "        vertical-align: top;\n",
              "    }\n",
              "\n",
              "    .dataframe thead th {\n",
              "        text-align: right;\n",
              "    }\n",
              "</style>\n",
              "<table border=\"1\" class=\"dataframe\">\n",
              "  <thead>\n",
              "    <tr style=\"text-align: right;\">\n",
              "      <th></th>\n",
              "      <th>x_username</th>\n",
              "      <th>product_id</th>\n",
              "      <th>polarity</th>\n",
              "    </tr>\n",
              "  </thead>\n",
              "  <tbody>\n",
              "    <tr>\n",
              "      <th>24128</th>\n",
              "      <td>240456</td>\n",
              "      <td>220240</td>\n",
              "      <td>0.034615</td>\n",
              "    </tr>\n",
              "    <tr>\n",
              "      <th>2617</th>\n",
              "      <td>310160</td>\n",
              "      <td>65980</td>\n",
              "      <td>-0.143576</td>\n",
              "    </tr>\n",
              "    <tr>\n",
              "      <th>15611</th>\n",
              "      <td>66684</td>\n",
              "      <td>213670</td>\n",
              "      <td>0.055769</td>\n",
              "    </tr>\n",
              "    <tr>\n",
              "      <th>19706</th>\n",
              "      <td>343227</td>\n",
              "      <td>301520</td>\n",
              "      <td>0.228350</td>\n",
              "    </tr>\n",
              "    <tr>\n",
              "      <th>13281</th>\n",
              "      <td>346622</td>\n",
              "      <td>50300</td>\n",
              "      <td>-0.400000</td>\n",
              "    </tr>\n",
              "  </tbody>\n",
              "</table>\n",
              "</div>"
            ],
            "text/plain": [
              "       x_username  product_id  polarity\n",
              "24128      240456      220240  0.034615\n",
              "2617       310160       65980 -0.143576\n",
              "15611       66684      213670  0.055769\n",
              "19706      343227      301520  0.228350\n",
              "13281      346622       50300 -0.400000"
            ]
          },
          "metadata": {
            "tags": []
          },
          "execution_count": 84
        }
      ]
    },
    {
      "cell_type": "code",
      "metadata": {
        "colab": {
          "base_uri": "https://localhost:8080/"
        },
        "id": "v49wbHA9AYdy",
        "outputId": "c8f51bfa-4412-4930-d584-e386ef75a516"
      },
      "source": [
        "# Prediction with real rating\n",
        "p2 = algo.predict(uid = 240456, iid = 220240, r_ui = 0.034615, verbose = True)"
      ],
      "execution_count": 85,
      "outputs": [
        {
          "output_type": "stream",
          "text": [
            "user: 240456     item: 220240     r_ui = 0.03   est = 0.08   {'was_impossible': False}\n"
          ],
          "name": "stdout"
        }
      ]
    },
    {
      "cell_type": "markdown",
      "metadata": {
        "id": "jo29hfLYIcVF"
      },
      "source": [
        "## Optimizacion de Hyperparametros"
      ]
    },
    {
      "cell_type": "code",
      "metadata": {
        "colab": {
          "base_uri": "https://localhost:8080/",
          "height": 340
        },
        "id": "yCVqg1E9AYXt",
        "outputId": "77dbc16d-53ab-483c-90f8-abfc7bb0efd0"
      },
      "source": [
        "from surprise.model_selection import GridSearchCV\n",
        "\n",
        "param_grid = {\n",
        "    'n_factors': [5,50,100],\n",
        "    'n_epochs' : [50,100,150,200],\n",
        "    'lr_all'   : [0.001, 0.002, 0.005],\n",
        "    'reg_all'  : [0, 0.002, 0.02, 0.2],\n",
        "    'biased'   : [True,False],\n",
        "    'init_mean': [0],\n",
        "    'init_std_dev': [0.01]\n",
        "    }\n",
        "gs = GridSearchCV(SVD, param_grid, measures=['rmse'], cv=5, n_jobs = -1)\n",
        "gs.fit(data_trainset)"
      ],
      "execution_count": 90,
      "outputs": [
        {
          "output_type": "error",
          "ename": "AttributeError",
          "evalue": "ignored",
          "traceback": [
            "\u001b[0;31m---------------------------------------------------------------------------\u001b[0m",
            "\u001b[0;31mAttributeError\u001b[0m                            Traceback (most recent call last)",
            "\u001b[0;32m<ipython-input-90-3d12e1b2f0e1>\u001b[0m in \u001b[0;36m<module>\u001b[0;34m()\u001b[0m\n\u001b[1;32m     11\u001b[0m     }\n\u001b[1;32m     12\u001b[0m \u001b[0mgs\u001b[0m \u001b[0;34m=\u001b[0m \u001b[0mGridSearchCV\u001b[0m\u001b[0;34m(\u001b[0m\u001b[0mSVD\u001b[0m\u001b[0;34m,\u001b[0m \u001b[0mparam_grid\u001b[0m\u001b[0;34m,\u001b[0m \u001b[0mmeasures\u001b[0m\u001b[0;34m=\u001b[0m\u001b[0;34m[\u001b[0m\u001b[0;34m'rmse'\u001b[0m\u001b[0;34m]\u001b[0m\u001b[0;34m,\u001b[0m \u001b[0mcv\u001b[0m\u001b[0;34m=\u001b[0m\u001b[0;36m5\u001b[0m\u001b[0;34m,\u001b[0m \u001b[0mn_jobs\u001b[0m \u001b[0;34m=\u001b[0m \u001b[0;34m-\u001b[0m\u001b[0;36m1\u001b[0m\u001b[0;34m)\u001b[0m\u001b[0;34m\u001b[0m\u001b[0;34m\u001b[0m\u001b[0m\n\u001b[0;32m---> 13\u001b[0;31m \u001b[0mgs\u001b[0m\u001b[0;34m.\u001b[0m\u001b[0mfit\u001b[0m\u001b[0;34m(\u001b[0m\u001b[0mdata_trainset\u001b[0m\u001b[0;34m)\u001b[0m\u001b[0;34m\u001b[0m\u001b[0;34m\u001b[0m\u001b[0m\n\u001b[0m",
            "\u001b[0;32m/usr/local/lib/python3.6/dist-packages/surprise/model_selection/search.py\u001b[0m in \u001b[0;36mfit\u001b[0;34m(self, data)\u001b[0m\n\u001b[1;32m     84\u001b[0m                                    self.return_train_measures)\n\u001b[1;32m     85\u001b[0m             for params, (trainset, testset) in product(self.param_combinations,\n\u001b[0;32m---> 86\u001b[0;31m                                                        cv.split(data))\n\u001b[0m\u001b[1;32m     87\u001b[0m         )\n\u001b[1;32m     88\u001b[0m         out = Parallel(n_jobs=self.n_jobs,\n",
            "\u001b[0;32m/usr/local/lib/python3.6/dist-packages/surprise/model_selection/split.py\u001b[0m in \u001b[0;36msplit\u001b[0;34m(self, data)\u001b[0m\n\u001b[1;32m     93\u001b[0m         \"\"\"\n\u001b[1;32m     94\u001b[0m \u001b[0;34m\u001b[0m\u001b[0m\n\u001b[0;32m---> 95\u001b[0;31m         \u001b[0;32mif\u001b[0m \u001b[0mself\u001b[0m\u001b[0;34m.\u001b[0m\u001b[0mn_splits\u001b[0m \u001b[0;34m>\u001b[0m \u001b[0mlen\u001b[0m\u001b[0;34m(\u001b[0m\u001b[0mdata\u001b[0m\u001b[0;34m.\u001b[0m\u001b[0mraw_ratings\u001b[0m\u001b[0;34m)\u001b[0m \u001b[0;32mor\u001b[0m \u001b[0mself\u001b[0m\u001b[0;34m.\u001b[0m\u001b[0mn_splits\u001b[0m \u001b[0;34m<\u001b[0m \u001b[0;36m2\u001b[0m\u001b[0;34m:\u001b[0m\u001b[0;34m\u001b[0m\u001b[0;34m\u001b[0m\u001b[0m\n\u001b[0m\u001b[1;32m     96\u001b[0m             raise ValueError('Incorrect value for n_splits={0}. '\n\u001b[1;32m     97\u001b[0m                              \u001b[0;34m'Must be >=2 and less than the number '\u001b[0m\u001b[0;34m\u001b[0m\u001b[0;34m\u001b[0m\u001b[0m\n",
            "\u001b[0;31mAttributeError\u001b[0m: 'list' object has no attribute 'raw_ratings'"
          ]
        }
      ]
    },
    {
      "cell_type": "code",
      "metadata": {
        "id": "ocBxzaYqI00-"
      },
      "source": [
        "data = pd.read"
      ],
      "execution_count": null,
      "outputs": []
    },
    {
      "cell_type": "code",
      "metadata": {
        "id": "SSrQHOSnI0sh"
      },
      "source": [
        ""
      ],
      "execution_count": null,
      "outputs": []
    },
    {
      "cell_type": "code",
      "metadata": {
        "id": "pCHBlFwrI0lw"
      },
      "source": [
        ""
      ],
      "execution_count": null,
      "outputs": []
    },
    {
      "cell_type": "code",
      "metadata": {
        "id": "tHDJaXwtGCuE"
      },
      "source": [
        "  from surprise import Dataset\n",
        "from surprise import Reader\n",
        "from surprise.model_selection import train_test_split"
      ],
      "execution_count": null,
      "outputs": []
    },
    {
      "cell_type": "code",
      "metadata": {
        "id": "3Hd4pSkvcYA2"
      },
      "source": [
        "#Defino el modelo reader\n",
        "reader = Reader()\n",
        "\n",
        "#Creo Dataset para el modelo\n",
        "N_filas = 2000 # Limitamos el dataset a N_filas\n",
        "\n",
        "data = Dataset.load_from_df(calificaciones[['username', 'product_id', 'polarity']][:N_filas], reader)"
      ],
      "execution_count": null,
      "outputs": []
    },
    {
      "cell_type": "code",
      "metadata": {
        "id": "Y3VOznv18DwL"
      },
      "source": [
        "from surprise import SVD\n",
        "algo = SVD()"
      ],
      "execution_count": null,
      "outputs": []
    },
    {
      "cell_type": "code",
      "metadata": {
        "id": "t7s2l5bu-Gmj"
      },
      "source": [
        "from surprise.model_selection.validation import cross_validate\n",
        "cross_validate(algo, data, measures=['RMSE', 'MAE'], cv=5, verbose=True)"
      ],
      "execution_count": null,
      "outputs": []
    },
    {
      "cell_type": "code",
      "metadata": {
        "id": "oC3_SIyIGCoG"
      },
      "source": [
        "#Division de Datos de entrenamiento y test\n",
        "trainset, testset = train_test_split(data, test_size=.25)"
      ],
      "execution_count": null,
      "outputs": []
    },
    {
      "cell_type": "code",
      "metadata": {
        "id": "1exHz3m8GCZq"
      },
      "source": [
        "#Entreno modelo\n",
        "algo.fit(trainset)"
      ],
      "execution_count": null,
      "outputs": []
    },
    {
      "cell_type": "code",
      "metadata": {
        "id": "Lfm0cK3T8bNJ"
      },
      "source": [
        "usuario = df_sub[df_sub['username'] == '123']"
      ],
      "execution_count": null,
      "outputs": []
    },
    {
      "cell_type": "code",
      "metadata": {
        "id": "obU9b-pG_MRW"
      },
      "source": [
        "#Uso el usuario con mas reviews para emplear una prediccion usuario='123'\n",
        "usuario['estimate_escore'] = usuario['product_id'].apply(lambda x: algo.predict('123', x).est)"
      ],
      "execution_count": null,
      "outputs": []
    },
    {
      "cell_type": "code",
      "metadata": {
        "id": "6TNipjE58Py7"
      },
      "source": [
        "usuario.head(4)"
      ],
      "execution_count": null,
      "outputs": []
    },
    {
      "cell_type": "code",
      "metadata": {
        "id": "1_Q2n_p49G8D"
      },
      "source": [
        "print('Calificacion maxima asiganada por el modelo: ',usuario.estimate_escore.max())\n",
        "print('Calificacion minima asiganada por el modelo: ', usuario.estimate_escore.min())"
      ],
      "execution_count": null,
      "outputs": []
    },
    {
      "cell_type": "markdown",
      "metadata": {
        "id": "86Gw2wpQ9EP2"
      },
      "source": [
        "El modelo asigna 1 a todos los videojuegos, lo cual se traduce como si le gustaran todos los videojuegos"
      ]
    },
    {
      "cell_type": "code",
      "metadata": {
        "id": "mrtB-_HycgHz"
      },
      "source": [
        "#Realizo predicciones\n",
        "predictions = algo.test(testset)"
      ],
      "execution_count": null,
      "outputs": []
    },
    {
      "cell_type": "code",
      "metadata": {
        "id": "mc6uH8q62CiD"
      },
      "source": [
        "#Explorar predicciones\n",
        "predictions[3]"
      ],
      "execution_count": null,
      "outputs": []
    },
    {
      "cell_type": "code",
      "metadata": {
        "id": "_kFeW7zs2h0N"
      },
      "source": [
        "df[df['username'] == '123'].head(2)"
      ],
      "execution_count": null,
      "outputs": []
    },
    {
      "cell_type": "code",
      "metadata": {
        "id": "ZIXYEUYg25uG"
      },
      "source": [
        "df_reviews[df_reviews['username'] == '123']"
      ],
      "execution_count": null,
      "outputs": []
    },
    {
      "cell_type": "code",
      "metadata": {
        "id": "qZvXKUrw2tJd"
      },
      "source": [
        "#Prediccion\n",
        "algo.predict('123', '405500')"
      ],
      "execution_count": null,
      "outputs": []
    },
    {
      "cell_type": "code",
      "metadata": {
        "id": "2Fj7zbr93Ftc"
      },
      "source": [
        "#Selecciono el usuario con mas reviews\n",
        "calificaciones[calificaciones['username'] == '123']"
      ],
      "execution_count": null,
      "outputs": []
    },
    {
      "cell_type": "code",
      "metadata": {
        "id": "dA9zFJlCnYol"
      },
      "source": [
        "usuario = '123'  \n",
        "polariy = -1.0\n",
        "df_user = df_reviews[(df_reviews['username'] == usuario) & (df_reviews['polariy'] >= polariy)]\n",
        "df_user.reset_index(drop=True, inplace=True)\n",
        "names = []\n",
        "for i in df_user.product_id:\n",
        "  name = data_games[data_games['id'] == i]\n",
        "  name = name.title.values[0]\n",
        "  names.append(name)\n",
        "\n",
        "\n",
        "df_user['game_name'] = names"
      ],
      "execution_count": null,
      "outputs": []
    },
    {
      "cell_type": "code",
      "metadata": {
        "id": "HAU1fxD4LJH3"
      },
      "source": [
        "df_user"
      ],
      "execution_count": null,
      "outputs": []
    },
    {
      "cell_type": "code",
      "metadata": {
        "id": "0-KnoTTp57GX"
      },
      "source": [
        "#Creo una copia del Dataser donde se encuentran todos los juegos registrados\n",
        "recomendaciones_games = data_games.iloc[0:]"
      ],
      "execution_count": null,
      "outputs": []
    },
    {
      "cell_type": "code",
      "metadata": {
        "id": "kDjY_hGRAGO0"
      },
      "source": [
        "#Juegos que el usuario ya jugo\"\n",
        "juegos_jugados = data_reviews[data_reviews['username'] == usuario]\n",
        "#Elimino los juegos que tienen mas de 1 review para el mismo usuario, conservando la ultima review\n",
        "juegos_jugados.drop_duplicates(subset='product_id',keep='first', inplace=True)\n",
        "print('El usuario ya ha jugado',juegos_jugados.shape[0],'videojuegos\\n')\n",
        "juegos_jugados.head(3)"
      ],
      "execution_count": null,
      "outputs": []
    },
    {
      "cell_type": "code",
      "metadata": {
        "id": "y07qeJ74S6VQ"
      },
      "source": [
        "#Elimino los juegos que el usuario ya ha jugado\n",
        "for i in juegos_jugados.product_id:\n",
        "  id = i\n",
        "  recomendaciones_games.drop(recomendaciones_games[recomendaciones_games['id'] == id ].index, inplace=True)"
      ],
      "execution_count": null,
      "outputs": []
    },
    {
      "cell_type": "code",
      "metadata": {
        "id": "elB3LVPMScwG"
      },
      "source": [
        "recomendaciones_games.head(2)"
      ],
      "execution_count": null,
      "outputs": []
    },
    {
      "cell_type": "code",
      "metadata": {
        "id": "Jz3f3IMCswMx"
      },
      "source": [
        "usuario"
      ],
      "execution_count": null,
      "outputs": []
    },
    {
      "cell_type": "code",
      "metadata": {
        "id": "pJnKN8IGPted"
      },
      "source": [
        "#Realizo predicciones sobre de posible positividads\n",
        "recomendaciones_games['Score_estimate'] = recomendaciones_games['id'].apply(lambda x:algo.predict(usuario, x).est)"
      ],
      "execution_count": null,
      "outputs": []
    },
    {
      "cell_type": "code",
      "metadata": {
        "id": "0QtAwNI_CJap"
      },
      "source": [
        "recomendaciones_games.Score_estimate.max()"
      ],
      "execution_count": null,
      "outputs": []
    },
    {
      "cell_type": "code",
      "metadata": {
        "id": "NIzGADqatvvJ"
      },
      "source": [
        "from surprise import accuracy\n",
        "\n",
        "accuracy.rmse(predictions)"
      ],
      "execution_count": null,
      "outputs": []
    },
    {
      "cell_type": "code",
      "metadata": {
        "id": "Lk80GbTntvq4"
      },
      "source": [
        "from surprise.model_selection import cross_validate\n",
        "\n",
        "rmse_test_means = []\n",
        "factores = [1,2,4,8,16,32,64,128,256]\n",
        "\n",
        "for factor in factores:\n",
        "    print(f'\\nNúmero de Factores: {factor}')\n",
        "    algo = SVD(n_factors=factor)\n",
        "    cv = cross_validate(algo, data, measures=['RMSE'], cv = 3, verbose=True)\n",
        "    rmse_test_means.append(np.mean(cv['test_rmse']))"
      ],
      "execution_count": null,
      "outputs": []
    },
    {
      "cell_type": "code",
      "metadata": {
        "id": "CWGNBoMvtvj2"
      },
      "source": [
        "plt.scatter(factores, rmse_test_means)\n",
        "plt.xlabel('Numero de factores')\n",
        "plt.ylabel('Error RMSE')\n",
        "plt.show()"
      ],
      "execution_count": null,
      "outputs": []
    },
    {
      "cell_type": "code",
      "metadata": {
        "id": "IpRfL1E3cf0F"
      },
      "source": [
        "from surprise.model_selection import GridSearchCV\n",
        "\n",
        "param_grid = {'n_factors': [5,50,100],'n_epochs': [5, 10,20], 'lr_all': [0.001, 0.002, 0.005],\n",
        "              'reg_all': [0.002, 0.02, 0.2]}\n",
        "gs = GridSearchCV(SVD, param_grid, measures=['rmse'], cv=3, n_jobs = -1)\n",
        "gs.fit(data)\n"
      ],
      "execution_count": null,
      "outputs": []
    },
    {
      "cell_type": "code",
      "metadata": {
        "id": "pD5NHCxAuLU2"
      },
      "source": [
        "print(gs.best_score['rmse'])\n",
        "print(gs.best_params['rmse'])"
      ],
      "execution_count": null,
      "outputs": []
    },
    {
      "cell_type": "markdown",
      "metadata": {
        "id": "N8rHZyDPFsMY"
      },
      "source": [
        "# Prueba Nuevo Filtro"
      ]
    },
    {
      "cell_type": "markdown",
      "metadata": {
        "id": "uiLkmWebR2yW"
      },
      "source": [
        "## Sistema Recomendación"
      ]
    },
    {
      "cell_type": "markdown",
      "metadata": {
        "id": "AmsJldSF4YW6"
      },
      "source": [
        "# Recomendaciones basadas en calificaciones"
      ]
    },
    {
      "cell_type": "code",
      "metadata": {
        "id": "f4uSKJETQZTj"
      },
      "source": [
        "df_sub.head(2)"
      ],
      "execution_count": null,
      "outputs": []
    },
    {
      "cell_type": "code",
      "metadata": {
        "id": "iYZXBQ17Qmej"
      },
      "source": [
        "df_sub.drop(columns=['text'], inplace=True)"
      ],
      "execution_count": null,
      "outputs": []
    },
    {
      "cell_type": "code",
      "metadata": {
        "id": "dgusYSFCRsFn"
      },
      "source": [
        "df_sub.shape"
      ],
      "execution_count": null,
      "outputs": []
    },
    {
      "cell_type": "code",
      "metadata": {
        "id": "COunEUSdgKpo"
      },
      "source": [
        "gamemat = df_sub.pivot_table(index='username',columns='title',values='polarity')\n",
        "gamemat.head()"
      ],
      "execution_count": null,
      "outputs": []
    },
    {
      "cell_type": "code",
      "metadata": {
        "id": "LVkonXYOjc-b"
      },
      "source": [
        "#Elimino videojuegos con menos de 20 reviews\n",
        "gamemat = gamemat.dropna(thresh=30, axis=1).fillna(0,axis=1)"
      ],
      "execution_count": null,
      "outputs": []
    },
    {
      "cell_type": "code",
      "metadata": {
        "id": "fosf9Xj8jvKv"
      },
      "source": [
        "corrMatrix = gamemat.corr(method='pearson')\n",
        "corrMatrix.head(10)"
      ],
      "execution_count": null,
      "outputs": []
    },
    {
      "cell_type": "code",
      "metadata": {
        "id": "lnTCEXkFj2Bl"
      },
      "source": [
        "def get_similar(game_name,rating):\n",
        "    similar_ratings = corrMatrix[game_name]*(rating-2.5)\n",
        "    similar_ratings = similar_ratings.sort_values(ascending=False)\n",
        "    #print(type(similar_ratings))\n",
        "    return similar_ratings"
      ],
      "execution_count": null,
      "outputs": []
    },
    {
      "cell_type": "code",
      "metadata": {
        "id": "h9zTxyFzqBqn"
      },
      "source": [
        "games = [(\"Call of Duty®: Modern Warfare® 2\",.6), (\"Euro Truck Simulator 2\",0),\n",
        "                  (\"Battlefield: Bad Company™ 2\",1),(\"Life is Strange - Episode 1\",-0.6)]\n",
        "similar_games = pd.DataFrame()\n",
        "for game,rating in games:\n",
        "    similar_games = similar_games.append(get_similar(game,rating),ignore_index = True)\n",
        "\n",
        "similar_games.head(10)"
      ],
      "execution_count": null,
      "outputs": []
    },
    {
      "cell_type": "code",
      "metadata": {
        "id": "3JrDZaEUqihv"
      },
      "source": [
        "similar_games.sum().sort_values(ascending=False).head(20)"
      ],
      "execution_count": null,
      "outputs": []
    },
    {
      "cell_type": "code",
      "metadata": {
        "id": "DB6-HNjYz2t_"
      },
      "source": [
        "games = [(\"Call of Duty®: Modern Warfare® 2\",0.6),(\"Battlefield: Bad Company™ 2\",1)]\n",
        "similar_games = pd.DataFrame()\n",
        "for game,rating in games:\n",
        "    similar_games = similar_games.append(get_similar(game,rating),ignore_index = True)\n",
        "\n",
        "similar_games.head(10)"
      ],
      "execution_count": null,
      "outputs": []
    },
    {
      "cell_type": "code",
      "metadata": {
        "id": "vbhMqoWpsQwy"
      },
      "source": [
        "similar_games.sum().sort_values(ascending=False).head(20)"
      ],
      "execution_count": null,
      "outputs": []
    },
    {
      "cell_type": "code",
      "metadata": {
        "id": "5KPWgvq2Wi-D"
      },
      "source": [
        "x = similar_games.sum().sort_values(ascending=False).head(20)"
      ],
      "execution_count": null,
      "outputs": []
    },
    {
      "cell_type": "code",
      "metadata": {
        "id": "oKy4sRIaWkS0"
      },
      "source": [
        "x = x.to_frame()\n",
        "x"
      ],
      "execution_count": null,
      "outputs": []
    },
    {
      "cell_type": "code",
      "metadata": {
        "id": "BncBbBcfWTYx"
      },
      "source": [
        "usuario = df_sub[df_sub['username'] == '123']\n",
        "usuario.head(1)"
      ],
      "execution_count": null,
      "outputs": []
    },
    {
      "cell_type": "code",
      "metadata": {
        "id": "FyER-6gvqkwG"
      },
      "source": [
        "usuario.shape"
      ],
      "execution_count": null,
      "outputs": []
    },
    {
      "cell_type": "code",
      "metadata": {
        "id": "sG0cAqox-que"
      },
      "source": [
        "x.shape"
      ],
      "execution_count": null,
      "outputs": []
    },
    {
      "cell_type": "code",
      "metadata": {
        "id": "5l9mwlgIpKtt"
      },
      "source": [
        "#Elimino los juegos que el usuario ya ha jugado\n",
        "for i in x.index:\n",
        "  name = i\n",
        "  x.drop(usuario[usuario['title'] == name ].index, inplace=True)"
      ],
      "execution_count": null,
      "outputs": []
    },
    {
      "cell_type": "code",
      "metadata": {
        "id": "T8Vr2Lsv-yJJ"
      },
      "source": [
        "x.shape"
      ],
      "execution_count": null,
      "outputs": []
    },
    {
      "cell_type": "code",
      "metadata": {
        "id": "sRLygQC_25lF"
      },
      "source": [
        "def get_random_game():\n",
        "  all_games = data_games[['id', 'title']]\n",
        "  x = int(np.random.randint(df_sub.shape[0], size=1))\n",
        "  x = df_sub.username.iloc[x]\n",
        "  usuario = df[df['username'] == x]\n",
        "  print('--> El usuario ha jugado: ',usuario.shape[0], 'videojuegos')\n",
        "  for i in usuario.title:\n",
        "    game = i\n",
        "    all_games.drop(all_games[all_games['title'] == game ].index, inplace=True)\n",
        "    \n",
        "  game = df_sub.title.iloc[int(np.random.randint(df_sub.shape[0], size=1))]\n",
        "  print(' * Videjuego seleccionado:', game)\n",
        "\n",
        "  rating = str(input('--> Ingrese la review del videojuego: '))\n",
        "  rating = TextBlob(rating).polarity\n",
        "\n",
        "  similar_games = pd.DataFrame()\n",
        "  similar_games = similar_games.append(get_similar(game,rating),ignore_index = True)\n",
        "  x = similar_games.sum().sort_values(ascending=False).head(10)\n",
        "\n",
        "  #Elimino los juegos que el usuario ya ha jugado\n",
        "  for i in x.index:\n",
        "    name = i\n",
        "    usuario.drop(usuario[usuario['title'] == name ].index, inplace=True)\n",
        "\n",
        "  print('<------------------------->')\n",
        "  print(\"Nuestra recomendaciones para usted: \\n\")\n",
        "  for i in x.index:\n",
        "    print(i)"
      ],
      "execution_count": null,
      "outputs": []
    },
    {
      "cell_type": "code",
      "metadata": {
        "id": "G_5pycuM567c"
      },
      "source": [
        "get_random_game()"
      ],
      "execution_count": null,
      "outputs": []
    },
    {
      "cell_type": "markdown",
      "metadata": {
        "id": "IEPvJs86FNoV"
      },
      "source": [
        "Falta emplear un dataframe en donde solo se encuentren los viejuegos con reviews mayores a 30 aparciciones"
      ]
    }
  ]
}