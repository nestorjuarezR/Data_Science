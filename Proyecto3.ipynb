{
  "nbformat": 4,
  "nbformat_minor": 0,
  "metadata": {
    "colab": {
      "name": "Proyecto3.ipynb",
      "provenance": [],
      "collapsed_sections": [],
      "mount_file_id": "1ahp042009K1w10hHBr-g8pTtrlLzYwvK",
      "authorship_tag": "ABX9TyOIzQVCIbZJYylMoPkSEyVX"
    },
    "kernelspec": {
      "name": "python3",
      "display_name": "Python 3"
    }
  },
  "cells": [
    {
      "cell_type": "code",
      "metadata": {
        "id": "Nd53xcCqKUpV"
      },
      "source": [
        "import numpy as np\n",
        "import pandas as pd\n",
        "import matplotlib.pyplot as plt\n",
        "import seaborn as sns\n",
        "sns.set()\n",
        "\n",
        "import string \n",
        "import datetime\n",
        "import gzip\n",
        "\n",
        "import nltk\n",
        "nltk.download('punkt')\n",
        "nltk.download('stopwords')\n",
        "from nltk.corpus import stopwords\n",
        "from sklearn.metrics.pairwise import linear_kernel\n",
        "from sklearn.feature_extraction.text import TfidfVectorizer"
      ],
      "execution_count": 1,
      "outputs": []
    },
    {
      "cell_type": "code",
      "metadata": {
        "id": "TWj6Sw20SUT4"
      },
      "source": [
        "def parse(path):\n",
        "    g = gzip.open(path, 'r')\n",
        "    for l in g:\n",
        "        yield eval(l)"
      ],
      "execution_count": 2,
      "outputs": []
    },
    {
      "cell_type": "code",
      "metadata": {
        "id": "Gen3VCjxShx7"
      },
      "source": [
        "url_review = '/content/drive/My Drive/Data/steam_reviews.json.gz'"
      ],
      "execution_count": 3,
      "outputs": []
    },
    {
      "cell_type": "code",
      "metadata": {
        "id": "OjmirkGnSc2b"
      },
      "source": [
        "contador = 0\n",
        "data_reviews = []\n",
        "# Vamos a guardar una de cada 10 reviews para no llenar la memoria RAM. Si pones n = 3, \n",
        "# abrira uno de cada tres, y asi.\n",
        "n = 15\n",
        "for l in parse(url_review):\n",
        "    if contador%n == 0:\n",
        "        data_reviews.append(l)\n",
        "    else:\n",
        "        pass\n",
        "    contador += 1\n",
        "\n",
        "data_reviews = pd.DataFrame(data_reviews)"
      ],
      "execution_count": 4,
      "outputs": []
    },
    {
      "cell_type": "code",
      "metadata": {
        "id": "AZB5Tc-dzP8z"
      },
      "source": [
        "url_games = '/content/drive/My Drive/Data/steam_games.json.gz'"
      ],
      "execution_count": 7,
      "outputs": []
    },
    {
      "cell_type": "code",
      "metadata": {
        "id": "Tx6oE_jOzUfZ"
      },
      "source": [
        "data_games = []\n",
        "for l in parse(url_games):\n",
        "    data_games.append(l)\n",
        "data_games = pd.DataFrame(data_games)"
      ],
      "execution_count": 8,
      "outputs": []
    },
    {
      "cell_type": "markdown",
      "metadata": {
        "id": "G01Aoe_F09UB"
      },
      "source": [
        "https://towardsdatascience.com/steam-recommendation-systems-4358917288eb"
      ]
    },
    {
      "cell_type": "markdown",
      "metadata": {
        "id": "aY2fodU1akiM"
      },
      "source": [
        "# Parte A Exploración de datos"
      ]
    },
    {
      "cell_type": "markdown",
      "metadata": {
        "id": "wmhdnBAPelW3"
      },
      "source": [
        "## Reviews"
      ]
    },
    {
      "cell_type": "code",
      "metadata": {
        "id": "9bhA0PfxT_MB",
        "colab": {
          "base_uri": "https://localhost:8080/",
          "height": 261
        },
        "outputId": "3654f65f-bc3e-4bdc-c1ae-08f972401f78"
      },
      "source": [
        "data_reviews.head(4)"
      ],
      "execution_count": 9,
      "outputs": [
        {
          "output_type": "execute_result",
          "data": {
            "text/html": [
              "<div>\n",
              "<style scoped>\n",
              "    .dataframe tbody tr th:only-of-type {\n",
              "        vertical-align: middle;\n",
              "    }\n",
              "\n",
              "    .dataframe tbody tr th {\n",
              "        vertical-align: top;\n",
              "    }\n",
              "\n",
              "    .dataframe thead th {\n",
              "        text-align: right;\n",
              "    }\n",
              "</style>\n",
              "<table border=\"1\" class=\"dataframe\">\n",
              "  <thead>\n",
              "    <tr style=\"text-align: right;\">\n",
              "      <th></th>\n",
              "      <th>username</th>\n",
              "      <th>hours</th>\n",
              "      <th>products</th>\n",
              "      <th>product_id</th>\n",
              "      <th>page_order</th>\n",
              "      <th>date</th>\n",
              "      <th>text</th>\n",
              "      <th>early_access</th>\n",
              "      <th>page</th>\n",
              "      <th>user_id</th>\n",
              "      <th>compensation</th>\n",
              "      <th>found_funny</th>\n",
              "    </tr>\n",
              "  </thead>\n",
              "  <tbody>\n",
              "    <tr>\n",
              "      <th>0</th>\n",
              "      <td>Chaos Syren</td>\n",
              "      <td>0.1</td>\n",
              "      <td>41.0</td>\n",
              "      <td>725280</td>\n",
              "      <td>0</td>\n",
              "      <td>2017-12-17</td>\n",
              "      <td>This would not be acceptable as an entertainme...</td>\n",
              "      <td>False</td>\n",
              "      <td>1</td>\n",
              "      <td>NaN</td>\n",
              "      <td>NaN</td>\n",
              "      <td>NaN</td>\n",
              "    </tr>\n",
              "    <tr>\n",
              "      <th>1</th>\n",
              "      <td>Duha Nubie</td>\n",
              "      <td>11.3</td>\n",
              "      <td>73.0</td>\n",
              "      <td>35140</td>\n",
              "      <td>4</td>\n",
              "      <td>2018-01-03</td>\n",
              "      <td>first debut feel sweet</td>\n",
              "      <td>False</td>\n",
              "      <td>1</td>\n",
              "      <td>NaN</td>\n",
              "      <td>NaN</td>\n",
              "      <td>NaN</td>\n",
              "    </tr>\n",
              "    <tr>\n",
              "      <th>2</th>\n",
              "      <td>The_Cpt_FROGGY</td>\n",
              "      <td>7.8</td>\n",
              "      <td>2217.0</td>\n",
              "      <td>631920</td>\n",
              "      <td>0</td>\n",
              "      <td>2017-12-11</td>\n",
              "      <td>Somewhere on Zibylon:\\n~~~~~~~~~~~~~~~~~~\\nZib...</td>\n",
              "      <td>False</td>\n",
              "      <td>1</td>\n",
              "      <td>76561198003030375</td>\n",
              "      <td>Product received for free</td>\n",
              "      <td>NaN</td>\n",
              "    </tr>\n",
              "    <tr>\n",
              "      <th>3</th>\n",
              "      <td>S0YxSauCe</td>\n",
              "      <td>0.3</td>\n",
              "      <td>902.0</td>\n",
              "      <td>671270</td>\n",
              "      <td>4</td>\n",
              "      <td>2017-07-10</td>\n",
              "      <td>Easy game. All you have to do is put the hat t...</td>\n",
              "      <td>False</td>\n",
              "      <td>1</td>\n",
              "      <td>NaN</td>\n",
              "      <td>NaN</td>\n",
              "      <td>NaN</td>\n",
              "    </tr>\n",
              "  </tbody>\n",
              "</table>\n",
              "</div>"
            ],
            "text/plain": [
              "         username  hours  ...               compensation found_funny\n",
              "0     Chaos Syren    0.1  ...                        NaN         NaN\n",
              "1      Duha Nubie   11.3  ...                        NaN         NaN\n",
              "2  The_Cpt_FROGGY    7.8  ...  Product received for free         NaN\n",
              "3       S0YxSauCe    0.3  ...                        NaN         NaN\n",
              "\n",
              "[4 rows x 12 columns]"
            ]
          },
          "metadata": {
            "tags": []
          },
          "execution_count": 9
        }
      ]
    },
    {
      "cell_type": "code",
      "metadata": {
        "id": "I0huyNX7UB3E",
        "colab": {
          "base_uri": "https://localhost:8080/"
        },
        "outputId": "86b653e7-4e4d-4ea4-a1c0-e2eea5566697"
      },
      "source": [
        "data_reviews.shape"
      ],
      "execution_count": 10,
      "outputs": [
        {
          "output_type": "execute_result",
          "data": {
            "text/plain": [
              "(519538, 12)"
            ]
          },
          "metadata": {
            "tags": []
          },
          "execution_count": 10
        }
      ]
    },
    {
      "cell_type": "code",
      "metadata": {
        "colab": {
          "base_uri": "https://localhost:8080/"
        },
        "id": "NrmIuwWVvFeN",
        "outputId": "a70d114c-42f7-4c5a-b221-e8ba37d6c7ff"
      },
      "source": [
        "data_reviews.dtypes"
      ],
      "execution_count": 11,
      "outputs": [
        {
          "output_type": "execute_result",
          "data": {
            "text/plain": [
              "username         object\n",
              "hours           float64\n",
              "products        float64\n",
              "product_id       object\n",
              "page_order        int64\n",
              "date             object\n",
              "text             object\n",
              "early_access       bool\n",
              "page              int64\n",
              "user_id          object\n",
              "compensation     object\n",
              "found_funny     float64\n",
              "dtype: object"
            ]
          },
          "metadata": {
            "tags": []
          },
          "execution_count": 11
        }
      ]
    },
    {
      "cell_type": "code",
      "metadata": {
        "id": "Ceo8n9KuQN51"
      },
      "source": [
        "#Elimino columnas\n",
        "data_reviews.drop(['page_order', 'page', 'early_access', 'compensation'], axis=1, inplace=True)"
      ],
      "execution_count": 12,
      "outputs": []
    },
    {
      "cell_type": "code",
      "metadata": {
        "id": "InmydCcPk_7_"
      },
      "source": [
        "def valores_nulos(data):\n",
        "  print('<-- Porcentaje de valores nulos -->\\n')\n",
        "  print(data.isnull().sum() / data.shape[0] * 100)"
      ],
      "execution_count": 13,
      "outputs": []
    },
    {
      "cell_type": "code",
      "metadata": {
        "colab": {
          "base_uri": "https://localhost:8080/"
        },
        "id": "BmYKavKGkV-2",
        "outputId": "49babf74-46b8-4d63-c5fe-3e04f9565ed1"
      },
      "source": [
        "valores_nulos(data_reviews)"
      ],
      "execution_count": 14,
      "outputs": [
        {
          "output_type": "stream",
          "text": [
            "<-- Porcentaje de valores nulos -->\n",
            "\n",
            "username        0.000000\n",
            "hours           0.338763\n",
            "products        0.193826\n",
            "product_id      0.000000\n",
            "date            0.000000\n",
            "text            0.000000\n",
            "user_id        59.197210\n",
            "found_funny    84.535876\n",
            "dtype: float64\n"
          ],
          "name": "stdout"
        }
      ]
    },
    {
      "cell_type": "code",
      "metadata": {
        "colab": {
          "base_uri": "https://localhost:8080/"
        },
        "id": "5qrj2_lIg3-h",
        "outputId": "fb220125-efe2-4689-9c97-50bd034c25ab"
      },
      "source": [
        "print('Un total de {} usuarios realizaron reviews de videojuegos'.format(len(data_reviews.username.unique())))"
      ],
      "execution_count": 15,
      "outputs": [
        {
          "output_type": "stream",
          "text": [
            "Un total de 388028 usuarios realizaron reviews de videojuegos\n"
          ],
          "name": "stdout"
        }
      ]
    },
    {
      "cell_type": "code",
      "metadata": {
        "colab": {
          "base_uri": "https://localhost:8080/"
        },
        "id": "JCpaEURihzUb",
        "outputId": "ddf88867-af4d-4587-9a52-5ff1cb3aa8e8"
      },
      "source": [
        "print(\"<-- Top 10 de Usuarios con mas reviews -->\")\n",
        "data_reviews.username.value_counts().head(10)"
      ],
      "execution_count": 16,
      "outputs": [
        {
          "output_type": "stream",
          "text": [
            "<-- Top 10 de Usuarios con mas reviews -->\n"
          ],
          "name": "stdout"
        },
        {
          "output_type": "execute_result",
          "data": {
            "text/plain": [
              "Alex           135\n",
              "123            123\n",
              "Nick           103\n",
              "Jack           100\n",
              "Chris           93\n",
              "Dan             83\n",
              "Matt            83\n",
              "Sam             82\n",
              "Saint Aaron     76\n",
              "Kodyd194        73\n",
              "Name: username, dtype: int64"
            ]
          },
          "metadata": {
            "tags": []
          },
          "execution_count": 16
        }
      ]
    },
    {
      "cell_type": "code",
      "metadata": {
        "colab": {
          "base_uri": "https://localhost:8080/"
        },
        "id": "u1v3nVlKX0M5",
        "outputId": "32ce8747-a22d-4c88-a347-2e1a96af151c"
      },
      "source": [
        "print('<-- Top 10 Videojuegos con mas reviews -->\\n ')\n",
        "top_games = data_reviews.product_id.value_counts().head(10)\n",
        "i = 0\n",
        "while i <= 9:\n",
        "  ids = top_games.index[i]\n",
        "  ids = data_games[data_games['id'] == ids]\n",
        "  print('-->', ids.title.iloc[0])\n",
        "  i = i + 1"
      ],
      "execution_count": 17,
      "outputs": [
        {
          "output_type": "stream",
          "text": [
            "<-- Top 10 Videojuegos con mas reviews -->\n",
            " \n",
            "--> Team Fortress 2\n",
            "--> Rust\n",
            "--> Borderlands 2\n",
            "--> Fallout 4\n",
            "--> Grand Theft Auto V\n",
            "--> Portal 2\n",
            "--> Undertale\n",
            "--> DayZ\n",
            "--> Warframe\n",
            "--> Life is Strange - Episode 1\n"
          ],
          "name": "stdout"
        }
      ]
    },
    {
      "cell_type": "code",
      "metadata": {
        "id": "yQIl450l2P7j"
      },
      "source": [
        "#Convertir a string columnas\n",
        "columnas = ['username', 'text']\n",
        "for i in columnas:\n",
        "  data_reviews[i] = data_reviews[i].astype('string')\n",
        "\n",
        "#Convertir a int64 columna product_id\n",
        "data_reviews['product_id'] = data_reviews['product_id'].astype('int64')"
      ],
      "execution_count": 18,
      "outputs": []
    },
    {
      "cell_type": "code",
      "metadata": {
        "id": "oXOJM_rJuDJ5"
      },
      "source": [
        "#Conversion a tipo datetime64\n",
        "data_reviews['Fecha'] = pd.to_datetime(data_reviews['date'])\n",
        "data_reviews['Year'] = data_reviews['Fecha'].dt.year            #Nueva columna con el año del review\n",
        "data_reviews['month'] = data_reviews['Fecha'].dt.month          #Nueva columna con el mes del review"
      ],
      "execution_count": 19,
      "outputs": []
    },
    {
      "cell_type": "code",
      "metadata": {
        "colab": {
          "base_uri": "https://localhost:8080/",
          "height": 359
        },
        "id": "TQvgT4FsxHoi",
        "outputId": "21a5acfb-4dee-4b30-fbec-1999ef6bbe0f"
      },
      "source": [
        "year_review = data_reviews.groupby(['Year']).count()\n",
        "year_review"
      ],
      "execution_count": 20,
      "outputs": [
        {
          "output_type": "execute_result",
          "data": {
            "text/html": [
              "<div>\n",
              "<style scoped>\n",
              "    .dataframe tbody tr th:only-of-type {\n",
              "        vertical-align: middle;\n",
              "    }\n",
              "\n",
              "    .dataframe tbody tr th {\n",
              "        vertical-align: top;\n",
              "    }\n",
              "\n",
              "    .dataframe thead th {\n",
              "        text-align: right;\n",
              "    }\n",
              "</style>\n",
              "<table border=\"1\" class=\"dataframe\">\n",
              "  <thead>\n",
              "    <tr style=\"text-align: right;\">\n",
              "      <th></th>\n",
              "      <th>username</th>\n",
              "      <th>hours</th>\n",
              "      <th>products</th>\n",
              "      <th>product_id</th>\n",
              "      <th>date</th>\n",
              "      <th>text</th>\n",
              "      <th>user_id</th>\n",
              "      <th>found_funny</th>\n",
              "      <th>Fecha</th>\n",
              "      <th>month</th>\n",
              "    </tr>\n",
              "    <tr>\n",
              "      <th>Year</th>\n",
              "      <th></th>\n",
              "      <th></th>\n",
              "      <th></th>\n",
              "      <th></th>\n",
              "      <th></th>\n",
              "      <th></th>\n",
              "      <th></th>\n",
              "      <th></th>\n",
              "      <th></th>\n",
              "      <th></th>\n",
              "    </tr>\n",
              "  </thead>\n",
              "  <tbody>\n",
              "    <tr>\n",
              "      <th>2010</th>\n",
              "      <td>850</td>\n",
              "      <td>825</td>\n",
              "      <td>847</td>\n",
              "      <td>850</td>\n",
              "      <td>850</td>\n",
              "      <td>850</td>\n",
              "      <td>136</td>\n",
              "      <td>24</td>\n",
              "      <td>850</td>\n",
              "      <td>850</td>\n",
              "    </tr>\n",
              "    <tr>\n",
              "      <th>2011</th>\n",
              "      <td>4983</td>\n",
              "      <td>4857</td>\n",
              "      <td>4979</td>\n",
              "      <td>4983</td>\n",
              "      <td>4983</td>\n",
              "      <td>4983</td>\n",
              "      <td>1014</td>\n",
              "      <td>168</td>\n",
              "      <td>4983</td>\n",
              "      <td>4983</td>\n",
              "    </tr>\n",
              "    <tr>\n",
              "      <th>2012</th>\n",
              "      <td>6721</td>\n",
              "      <td>6594</td>\n",
              "      <td>6714</td>\n",
              "      <td>6721</td>\n",
              "      <td>6721</td>\n",
              "      <td>6721</td>\n",
              "      <td>1656</td>\n",
              "      <td>208</td>\n",
              "      <td>6721</td>\n",
              "      <td>6721</td>\n",
              "    </tr>\n",
              "    <tr>\n",
              "      <th>2013</th>\n",
              "      <td>21887</td>\n",
              "      <td>21702</td>\n",
              "      <td>21856</td>\n",
              "      <td>21887</td>\n",
              "      <td>21887</td>\n",
              "      <td>21887</td>\n",
              "      <td>6841</td>\n",
              "      <td>854</td>\n",
              "      <td>21887</td>\n",
              "      <td>21887</td>\n",
              "    </tr>\n",
              "    <tr>\n",
              "      <th>2014</th>\n",
              "      <td>78862</td>\n",
              "      <td>78861</td>\n",
              "      <td>78514</td>\n",
              "      <td>78862</td>\n",
              "      <td>78862</td>\n",
              "      <td>78862</td>\n",
              "      <td>31222</td>\n",
              "      <td>5531</td>\n",
              "      <td>78862</td>\n",
              "      <td>78862</td>\n",
              "    </tr>\n",
              "    <tr>\n",
              "      <th>2015</th>\n",
              "      <td>105251</td>\n",
              "      <td>104526</td>\n",
              "      <td>105149</td>\n",
              "      <td>105251</td>\n",
              "      <td>105251</td>\n",
              "      <td>105251</td>\n",
              "      <td>42193</td>\n",
              "      <td>19987</td>\n",
              "      <td>105251</td>\n",
              "      <td>105251</td>\n",
              "    </tr>\n",
              "    <tr>\n",
              "      <th>2016</th>\n",
              "      <td>136073</td>\n",
              "      <td>135693</td>\n",
              "      <td>135854</td>\n",
              "      <td>136073</td>\n",
              "      <td>136073</td>\n",
              "      <td>136073</td>\n",
              "      <td>56404</td>\n",
              "      <td>26292</td>\n",
              "      <td>136073</td>\n",
              "      <td>136073</td>\n",
              "    </tr>\n",
              "    <tr>\n",
              "      <th>2017</th>\n",
              "      <td>161474</td>\n",
              "      <td>161290</td>\n",
              "      <td>161189</td>\n",
              "      <td>161474</td>\n",
              "      <td>161474</td>\n",
              "      <td>161474</td>\n",
              "      <td>70935</td>\n",
              "      <td>26918</td>\n",
              "      <td>161474</td>\n",
              "      <td>161474</td>\n",
              "    </tr>\n",
              "    <tr>\n",
              "      <th>2018</th>\n",
              "      <td>3437</td>\n",
              "      <td>3430</td>\n",
              "      <td>3429</td>\n",
              "      <td>3437</td>\n",
              "      <td>3437</td>\n",
              "      <td>3437</td>\n",
              "      <td>1585</td>\n",
              "      <td>360</td>\n",
              "      <td>3437</td>\n",
              "      <td>3437</td>\n",
              "    </tr>\n",
              "  </tbody>\n",
              "</table>\n",
              "</div>"
            ],
            "text/plain": [
              "      username   hours  products  ...  found_funny   Fecha   month\n",
              "Year                              ...                             \n",
              "2010       850     825       847  ...           24     850     850\n",
              "2011      4983    4857      4979  ...          168    4983    4983\n",
              "2012      6721    6594      6714  ...          208    6721    6721\n",
              "2013     21887   21702     21856  ...          854   21887   21887\n",
              "2014     78862   78861     78514  ...         5531   78862   78862\n",
              "2015    105251  104526    105149  ...        19987  105251  105251\n",
              "2016    136073  135693    135854  ...        26292  136073  136073\n",
              "2017    161474  161290    161189  ...        26918  161474  161474\n",
              "2018      3437    3430      3429  ...          360    3437    3437\n",
              "\n",
              "[9 rows x 10 columns]"
            ]
          },
          "metadata": {
            "tags": []
          },
          "execution_count": 20
        }
      ]
    },
    {
      "cell_type": "code",
      "metadata": {
        "colab": {
          "base_uri": "https://localhost:8080/",
          "height": 318
        },
        "id": "aBi9pdeTxlmo",
        "outputId": "e66ece31-7f7d-488b-89dc-03aed1659873"
      },
      "source": [
        "plt.title('Horas acumuladas de juego por año')\n",
        "sns.barplot(x = year_review.index,\n",
        "            y=year_review.hours)"
      ],
      "execution_count": 21,
      "outputs": [
        {
          "output_type": "execute_result",
          "data": {
            "text/plain": [
              "<matplotlib.axes._subplots.AxesSubplot at 0x7f6aa828f7b8>"
            ]
          },
          "metadata": {
            "tags": []
          },
          "execution_count": 21
        },
        {
          "output_type": "display_data",
          "data": {
            "image/png": "[encoded data removed]",
            "text/plain": [
              "<Figure size 432x288 with 1 Axes>"
            ]
          },
          "metadata": {
            "tags": [],
            "needs_background": "light"
          }
        }
      ]
    },
    {
      "cell_type": "code",
      "metadata": {
        "id": "Erf3a2D7eBpB"
      },
      "source": [
        "months_2017 = data_reviews[data_reviews['Year'] == 2017].groupby(['month']).count()"
      ],
      "execution_count": 22,
      "outputs": []
    },
    {
      "cell_type": "code",
      "metadata": {
        "colab": {
          "base_uri": "https://localhost:8080/",
          "height": 318
        },
        "id": "04apRl5ltueZ",
        "outputId": "92b9f5fb-3b30-406f-e95a-c5bb8745d32f"
      },
      "source": [
        "plt.title('Horas acumuladas de juego por mes del 2017')\n",
        "sns.barplot(x= months_2017.index,\n",
        "            y=months_2017.hours)"
      ],
      "execution_count": 23,
      "outputs": [
        {
          "output_type": "execute_result",
          "data": {
            "text/plain": [
              "<matplotlib.axes._subplots.AxesSubplot at 0x7f6aa782a390>"
            ]
          },
          "metadata": {
            "tags": []
          },
          "execution_count": 23
        },
        {
          "output_type": "display_data",
          "data": {
            "image/png": "[encoded data removed]",
            "text/plain": [
              "<Figure size 432x288 with 1 Axes>"
            ]
          },
          "metadata": {
            "tags": [],
            "needs_background": "light"
          }
        }
      ]
    },
    {
      "cell_type": "markdown",
      "metadata": {
        "id": "QsCmiyPeCZv8"
      },
      "source": [
        " ## Info Games"
      ]
    },
    {
      "cell_type": "code",
      "metadata": {
        "colab": {
          "base_uri": "https://localhost:8080/"
        },
        "id": "pMzdad6Jv-AS",
        "outputId": "c11749da-bbed-4762-dc8d-7ec04a5dfaa6"
      },
      "source": [
        "data_games.shape"
      ],
      "execution_count": 24,
      "outputs": [
        {
          "output_type": "execute_result",
          "data": {
            "text/plain": [
              "(32135, 16)"
            ]
          },
          "metadata": {
            "tags": []
          },
          "execution_count": 24
        }
      ]
    },
    {
      "cell_type": "code",
      "metadata": {
        "colab": {
          "base_uri": "https://localhost:8080/"
        },
        "id": "JhKrNmdxeT7F",
        "outputId": "12b3ec42-000b-4650-9e15-57a2de46bc82"
      },
      "source": [
        "data_games.dtypes"
      ],
      "execution_count": 25,
      "outputs": [
        {
          "output_type": "execute_result",
          "data": {
            "text/plain": [
              "publisher          object\n",
              "genres             object\n",
              "app_name           object\n",
              "title              object\n",
              "url                object\n",
              "release_date       object\n",
              "tags               object\n",
              "discount_price    float64\n",
              "reviews_url        object\n",
              "specs              object\n",
              "price              object\n",
              "early_access         bool\n",
              "id                 object\n",
              "developer          object\n",
              "sentiment          object\n",
              "metascore          object\n",
              "dtype: object"
            ]
          },
          "metadata": {
            "tags": []
          },
          "execution_count": 25
        }
      ]
    },
    {
      "cell_type": "code",
      "metadata": {
        "id": "bsL6I3a2xuGq"
      },
      "source": [
        "data_games.drop(['reviews_url', 'url', 'early_access', 'discount_price'],\n",
        "                axis=1,\n",
        "                inplace=True)"
      ],
      "execution_count": 26,
      "outputs": []
    },
    {
      "cell_type": "code",
      "metadata": {
        "id": "ZoCsEMCBUD-_",
        "colab": {
          "base_uri": "https://localhost:8080/",
          "height": 196
        },
        "outputId": "52716b47-4f54-4aea-a3f2-cffda48dff12"
      },
      "source": [
        "data_games.head(2)"
      ],
      "execution_count": 27,
      "outputs": [
        {
          "output_type": "execute_result",
          "data": {
            "text/html": [
              "<div>\n",
              "<style scoped>\n",
              "    .dataframe tbody tr th:only-of-type {\n",
              "        vertical-align: middle;\n",
              "    }\n",
              "\n",
              "    .dataframe tbody tr th {\n",
              "        vertical-align: top;\n",
              "    }\n",
              "\n",
              "    .dataframe thead th {\n",
              "        text-align: right;\n",
              "    }\n",
              "</style>\n",
              "<table border=\"1\" class=\"dataframe\">\n",
              "  <thead>\n",
              "    <tr style=\"text-align: right;\">\n",
              "      <th></th>\n",
              "      <th>publisher</th>\n",
              "      <th>genres</th>\n",
              "      <th>app_name</th>\n",
              "      <th>title</th>\n",
              "      <th>release_date</th>\n",
              "      <th>tags</th>\n",
              "      <th>specs</th>\n",
              "      <th>price</th>\n",
              "      <th>id</th>\n",
              "      <th>developer</th>\n",
              "      <th>sentiment</th>\n",
              "      <th>metascore</th>\n",
              "    </tr>\n",
              "  </thead>\n",
              "  <tbody>\n",
              "    <tr>\n",
              "      <th>0</th>\n",
              "      <td>Kotoshiro</td>\n",
              "      <td>[Action, Casual, Indie, Simulation, Strategy]</td>\n",
              "      <td>Lost Summoner Kitty</td>\n",
              "      <td>Lost Summoner Kitty</td>\n",
              "      <td>2018-01-04</td>\n",
              "      <td>[Strategy, Action, Indie, Casual, Simulation]</td>\n",
              "      <td>[Single-player]</td>\n",
              "      <td>4.99</td>\n",
              "      <td>761140</td>\n",
              "      <td>Kotoshiro</td>\n",
              "      <td>NaN</td>\n",
              "      <td>NaN</td>\n",
              "    </tr>\n",
              "    <tr>\n",
              "      <th>1</th>\n",
              "      <td>Making Fun, Inc.</td>\n",
              "      <td>[Free to Play, Indie, RPG, Strategy]</td>\n",
              "      <td>Ironbound</td>\n",
              "      <td>Ironbound</td>\n",
              "      <td>2018-01-04</td>\n",
              "      <td>[Free to Play, Strategy, Indie, RPG, Card Game...</td>\n",
              "      <td>[Single-player, Multi-player, Online Multi-Pla...</td>\n",
              "      <td>Free To Play</td>\n",
              "      <td>643980</td>\n",
              "      <td>Secret Level SRL</td>\n",
              "      <td>Mostly Positive</td>\n",
              "      <td>NaN</td>\n",
              "    </tr>\n",
              "  </tbody>\n",
              "</table>\n",
              "</div>"
            ],
            "text/plain": [
              "          publisher  ... metascore\n",
              "0         Kotoshiro  ...       NaN\n",
              "1  Making Fun, Inc.  ...       NaN\n",
              "\n",
              "[2 rows x 12 columns]"
            ]
          },
          "metadata": {
            "tags": []
          },
          "execution_count": 27
        }
      ]
    },
    {
      "cell_type": "code",
      "metadata": {
        "id": "Oubg_dOKYH3K",
        "colab": {
          "base_uri": "https://localhost:8080/"
        },
        "outputId": "94feb94d-7ef4-4ac6-f846-67bfae021e0c"
      },
      "source": [
        "data_games.shape"
      ],
      "execution_count": 28,
      "outputs": [
        {
          "output_type": "execute_result",
          "data": {
            "text/plain": [
              "(32135, 12)"
            ]
          },
          "metadata": {
            "tags": []
          },
          "execution_count": 28
        }
      ]
    },
    {
      "cell_type": "code",
      "metadata": {
        "id": "BIR5ibKqYNr6",
        "colab": {
          "base_uri": "https://localhost:8080/"
        },
        "outputId": "f9e0bb10-4e6b-4f7a-89ca-5b8688352cac"
      },
      "source": [
        "valores_nulos(data_games)"
      ],
      "execution_count": 29,
      "outputs": [
        {
          "output_type": "stream",
          "text": [
            "<-- Porcentaje de valores nulos -->\n",
            "\n",
            "publisher       25.056792\n",
            "genres          10.216275\n",
            "app_name         0.006224\n",
            "title            6.379337\n",
            "release_date     6.432239\n",
            "tags             0.507235\n",
            "specs            2.084954\n",
            "price            4.285047\n",
            "id               0.006224\n",
            "developer       10.266065\n",
            "sentiment       22.349463\n",
            "metascore       91.669519\n",
            "dtype: float64\n"
          ],
          "name": "stdout"
        }
      ]
    },
    {
      "cell_type": "code",
      "metadata": {
        "colab": {
          "base_uri": "https://localhost:8080/"
        },
        "id": "I4os0Wvfw5oP",
        "outputId": "176542a3-b530-4406-e9e4-e2d0687c2d35"
      },
      "source": [
        "print('<-- Desarrolladores con mas videojuegos registrados -->\\n')\n",
        "data_games.developer.value_counts().head(10)"
      ],
      "execution_count": 30,
      "outputs": [
        {
          "output_type": "stream",
          "text": [
            "<-- Desarrolladores con mas videojuegos registrados -->\n",
            "\n"
          ],
          "name": "stdout"
        },
        {
          "output_type": "execute_result",
          "data": {
            "text/plain": [
              "Ubisoft - San Francisco       1259\n",
              "SmiteWorks USA, LLC            813\n",
              "Dovetail Games                 253\n",
              "KOEI TECMO GAMES CO., LTD.     232\n",
              "Paradox Development Studio     156\n",
              "Capcom                         130\n",
              "Ronimo Games                   123\n",
              "Choice of Games                100\n",
              "Musopia                         95\n",
              "Stainless Games                 95\n",
              "Name: developer, dtype: int64"
            ]
          },
          "metadata": {
            "tags": []
          },
          "execution_count": 30
        }
      ]
    },
    {
      "cell_type": "code",
      "metadata": {
        "colab": {
          "base_uri": "https://localhost:8080/",
          "height": 318
        },
        "id": "Aqd3nCrUw07Y",
        "outputId": "0f6a5218-023d-4d83-d388-34849e547c1d"
      },
      "source": [
        "price_games = data_games.price.value_counts().head(10)\n",
        "sns.barplot(x=price_games.index[0:],\n",
        "            y=price_games)\n",
        "plt.title('Precio mas frecuente de Videojuegos registrados')\n",
        "plt.xlabel('Precio')\n",
        "plt.ylabel('Frecuencia')"
      ],
      "execution_count": 31,
      "outputs": [
        {
          "output_type": "execute_result",
          "data": {
            "text/plain": [
              "Text(0, 0.5, 'Frecuencia')"
            ]
          },
          "metadata": {
            "tags": []
          },
          "execution_count": 31
        },
        {
          "output_type": "display_data",
          "data": {
            "image/png": "[encoded data removed]",
            "text/plain": [
              "<Figure size 432x288 with 1 Axes>"
            ]
          },
          "metadata": {
            "tags": [],
            "needs_background": "light"
          }
        }
      ]
    },
    {
      "cell_type": "markdown",
      "metadata": {
        "id": "CMe20pePIieb"
      },
      "source": [
        "# EDA"
      ]
    },
    {
      "cell_type": "code",
      "metadata": {
        "colab": {
          "base_uri": "https://localhost:8080/"
        },
        "id": "7OQRmx1PFTuI",
        "outputId": "06a61c22-7ae4-43fd-feb9-9d1aafb4db50"
      },
      "source": [
        "valores_nulos(data_games)"
      ],
      "execution_count": 32,
      "outputs": [
        {
          "output_type": "stream",
          "text": [
            "<-- Porcentaje de valores nulos -->\n",
            "\n",
            "publisher       25.056792\n",
            "genres          10.216275\n",
            "app_name         0.006224\n",
            "title            6.379337\n",
            "release_date     6.432239\n",
            "tags             0.507235\n",
            "specs            2.084954\n",
            "price            4.285047\n",
            "id               0.006224\n",
            "developer       10.266065\n",
            "sentiment       22.349463\n",
            "metascore       91.669519\n",
            "dtype: float64\n"
          ],
          "name": "stdout"
        }
      ]
    },
    {
      "cell_type": "code",
      "metadata": {
        "id": "1MQ94t7NFP1x"
      },
      "source": [
        "#Elimino valore nulos en data_games\n",
        "data_games.dropna(subset=['tags', 'id', 'title'], axis=0, inplace=True)"
      ],
      "execution_count": 33,
      "outputs": []
    },
    {
      "cell_type": "code",
      "metadata": {
        "id": "Md4E5z1263-A"
      },
      "source": [
        "#Convertir a string\n",
        "data_games['genres'] = data_games['genres'].astype('string')\n",
        "data_games['tags'] = data_games['tags'].astype('string')"
      ],
      "execution_count": 34,
      "outputs": []
    },
    {
      "cell_type": "code",
      "metadata": {
        "colab": {
          "base_uri": "https://localhost:8080/",
          "height": 179
        },
        "id": "GvjvT0Bs4hiy",
        "outputId": "613c0c0d-421c-4e41-f1b2-2e4149ac17df"
      },
      "source": [
        "data_games.head(2)"
      ],
      "execution_count": 35,
      "outputs": [
        {
          "output_type": "execute_result",
          "data": {
            "text/html": [
              "<div>\n",
              "<style scoped>\n",
              "    .dataframe tbody tr th:only-of-type {\n",
              "        vertical-align: middle;\n",
              "    }\n",
              "\n",
              "    .dataframe tbody tr th {\n",
              "        vertical-align: top;\n",
              "    }\n",
              "\n",
              "    .dataframe thead th {\n",
              "        text-align: right;\n",
              "    }\n",
              "</style>\n",
              "<table border=\"1\" class=\"dataframe\">\n",
              "  <thead>\n",
              "    <tr style=\"text-align: right;\">\n",
              "      <th></th>\n",
              "      <th>publisher</th>\n",
              "      <th>genres</th>\n",
              "      <th>app_name</th>\n",
              "      <th>title</th>\n",
              "      <th>release_date</th>\n",
              "      <th>tags</th>\n",
              "      <th>specs</th>\n",
              "      <th>price</th>\n",
              "      <th>id</th>\n",
              "      <th>developer</th>\n",
              "      <th>sentiment</th>\n",
              "      <th>metascore</th>\n",
              "    </tr>\n",
              "  </thead>\n",
              "  <tbody>\n",
              "    <tr>\n",
              "      <th>0</th>\n",
              "      <td>Kotoshiro</td>\n",
              "      <td>['Action', 'Casual', 'Indie', 'Simulation', 'S...</td>\n",
              "      <td>Lost Summoner Kitty</td>\n",
              "      <td>Lost Summoner Kitty</td>\n",
              "      <td>2018-01-04</td>\n",
              "      <td>['Strategy', 'Action', 'Indie', 'Casual', 'Sim...</td>\n",
              "      <td>[Single-player]</td>\n",
              "      <td>4.99</td>\n",
              "      <td>761140</td>\n",
              "      <td>Kotoshiro</td>\n",
              "      <td>NaN</td>\n",
              "      <td>NaN</td>\n",
              "    </tr>\n",
              "    <tr>\n",
              "      <th>1</th>\n",
              "      <td>Making Fun, Inc.</td>\n",
              "      <td>['Free to Play', 'Indie', 'RPG', 'Strategy']</td>\n",
              "      <td>Ironbound</td>\n",
              "      <td>Ironbound</td>\n",
              "      <td>2018-01-04</td>\n",
              "      <td>['Free to Play', 'Strategy', 'Indie', 'RPG', '...</td>\n",
              "      <td>[Single-player, Multi-player, Online Multi-Pla...</td>\n",
              "      <td>Free To Play</td>\n",
              "      <td>643980</td>\n",
              "      <td>Secret Level SRL</td>\n",
              "      <td>Mostly Positive</td>\n",
              "      <td>NaN</td>\n",
              "    </tr>\n",
              "  </tbody>\n",
              "</table>\n",
              "</div>"
            ],
            "text/plain": [
              "          publisher  ... metascore\n",
              "0         Kotoshiro  ...       NaN\n",
              "1  Making Fun, Inc.  ...       NaN\n",
              "\n",
              "[2 rows x 12 columns]"
            ]
          },
          "metadata": {
            "tags": []
          },
          "execution_count": 35
        }
      ]
    },
    {
      "cell_type": "code",
      "metadata": {
        "id": "Uc52ixIzHJnO"
      },
      "source": [
        "#Submuestra\n",
        "df_games = data_games.sample(frac=0.04)\n",
        "df_games.reset_index(drop=True, inplace=True)\n",
        "\n",
        "df_reviews = data_reviews.sample(frac=0.04)\n",
        "df_reviews.reset_index(drop=True, inplace=True)"
      ],
      "execution_count": 36,
      "outputs": []
    },
    {
      "cell_type": "code",
      "metadata": {
        "id": "h3tiocCbFcS1"
      },
      "source": [
        " #df_games['tags'] = df_games['tags'].fillna(' ')\n",
        " df_games['xtags'] = df_games['tags'].str.replace('[{}]'.format(string.punctuation), ' ')"
      ],
      "execution_count": 37,
      "outputs": []
    },
    {
      "cell_type": "code",
      "metadata": {
        "colab": {
          "base_uri": "https://localhost:8080/",
          "height": 230
        },
        "id": "Xspj6r5WFpbd",
        "outputId": "d3acbd67-a63c-44ac-d566-8b2653dfe294"
      },
      "source": [
        "df_games.head(2)"
      ],
      "execution_count": 38,
      "outputs": [
        {
          "output_type": "execute_result",
          "data": {
            "text/html": [
              "<div>\n",
              "<style scoped>\n",
              "    .dataframe tbody tr th:only-of-type {\n",
              "        vertical-align: middle;\n",
              "    }\n",
              "\n",
              "    .dataframe tbody tr th {\n",
              "        vertical-align: top;\n",
              "    }\n",
              "\n",
              "    .dataframe thead th {\n",
              "        text-align: right;\n",
              "    }\n",
              "</style>\n",
              "<table border=\"1\" class=\"dataframe\">\n",
              "  <thead>\n",
              "    <tr style=\"text-align: right;\">\n",
              "      <th></th>\n",
              "      <th>publisher</th>\n",
              "      <th>genres</th>\n",
              "      <th>app_name</th>\n",
              "      <th>title</th>\n",
              "      <th>release_date</th>\n",
              "      <th>tags</th>\n",
              "      <th>specs</th>\n",
              "      <th>price</th>\n",
              "      <th>id</th>\n",
              "      <th>developer</th>\n",
              "      <th>sentiment</th>\n",
              "      <th>metascore</th>\n",
              "      <th>xtags</th>\n",
              "    </tr>\n",
              "  </thead>\n",
              "  <tbody>\n",
              "    <tr>\n",
              "      <th>0</th>\n",
              "      <td>Gaslamp Games, Inc.</td>\n",
              "      <td>['Casual', 'Indie', 'RPG']</td>\n",
              "      <td>Dungeons of Dredmor</td>\n",
              "      <td>Dungeons of Dredmor</td>\n",
              "      <td>2011-07-13</td>\n",
              "      <td>['Rogue-like', 'Turn-Based', 'RPG', 'Indie', '...</td>\n",
              "      <td>[Single-player, Steam Achievements, Steam Trad...</td>\n",
              "      <td>4.99</td>\n",
              "      <td>98800</td>\n",
              "      <td>Gaslamp Games, Inc.</td>\n",
              "      <td>Very Positive</td>\n",
              "      <td>79</td>\n",
              "      <td>Rogue like    Turn Based    RPG    Indie    ...</td>\n",
              "    </tr>\n",
              "    <tr>\n",
              "      <th>1</th>\n",
              "      <td>Rhino Games</td>\n",
              "      <td>['Action', 'Adventure', 'Casual', 'Indie']</td>\n",
              "      <td>Cuco</td>\n",
              "      <td>Cuco</td>\n",
              "      <td>2017-09-29</td>\n",
              "      <td>['Action', 'Adventure', 'Indie', 'Casual']</td>\n",
              "      <td>[Single-player, Steam Achievements, Full contr...</td>\n",
              "      <td>0.99</td>\n",
              "      <td>715720</td>\n",
              "      <td>Yah_Shi</td>\n",
              "      <td>9 user reviews</td>\n",
              "      <td>NaN</td>\n",
              "      <td>Action    Adventure    Indie    Casual</td>\n",
              "    </tr>\n",
              "  </tbody>\n",
              "</table>\n",
              "</div>"
            ],
            "text/plain": [
              "             publisher  ...                                              xtags\n",
              "0  Gaslamp Games, Inc.  ...    Rogue like    Turn Based    RPG    Indie    ...\n",
              "1          Rhino Games  ...           Action    Adventure    Indie    Casual  \n",
              "\n",
              "[2 rows x 13 columns]"
            ]
          },
          "metadata": {
            "tags": []
          },
          "execution_count": 38
        }
      ]
    },
    {
      "cell_type": "markdown",
      "metadata": {
        "id": "AkWD-SpnJrPz"
      },
      "source": [
        "# Recomendaciones"
      ]
    },
    {
      "cell_type": "code",
      "metadata": {
        "id": "gVtqQWAEI6uz"
      },
      "source": [
        "stopwords = nltk.corpus.stopwords.words('english')        #Defino las stopwords\n",
        "tfidf = TfidfVectorizer(stop_words=set(stopwords))        #Defino el modelo\n",
        "tfidf_matrix = tfidf.fit_transform(df_games['xtags'])   #Creo matriz"
      ],
      "execution_count": 40,
      "outputs": []
    },
    {
      "cell_type": "code",
      "metadata": {
        "id": "9FxV-paRI6lP"
      },
      "source": [
        "'''\n",
        "Matriz de comparación\n",
        "Compara las etiquetas de un video seleccionado con la lista anterior\n",
        "en busca de palabras similares\n",
        "'''\n",
        "cosine_sim = linear_kernel(tfidf_matrix, tfidf_matrix)"
      ],
      "execution_count": 41,
      "outputs": []
    },
    {
      "cell_type": "code",
      "metadata": {
        "colab": {
          "base_uri": "https://localhost:8080/"
        },
        "id": "r0f5ugPhKZpO",
        "outputId": "89cbd9e8-cb70-467d-f541-8295cf3448e6"
      },
      "source": [
        "print(len(tfidf.vocabulary_))\n",
        "print(tfidf_matrix.shape)"
      ],
      "execution_count": 42,
      "outputs": [
        {
          "output_type": "stream",
          "text": [
            "335\n",
            "(1197, 335)\n"
          ],
          "name": "stdout"
        }
      ]
    },
    {
      "cell_type": "code",
      "metadata": {
        "id": "g69mWexmI6cG"
      },
      "source": [
        "indices = pd.Series(df_games.index, index=df_games['title']).drop_duplicates()"
      ],
      "execution_count": 43,
      "outputs": []
    },
    {
      "cell_type": "code",
      "metadata": {
        "id": "wkcB6kh1JRfy"
      },
      "source": [
        "def get_recomendation(title, cosine_sim=cosine_sim):\n",
        "    idx = indices[title]                                                        #Selecciona el titulo del videojuego                        \n",
        "    sim_scores = list(enumerate(cosine_sim[idx]))                               \n",
        "    sim_scores = sorted(sim_scores, key=lambda x: x[1], reverse=True)           #Ordena de mayor a menor las similitudes\n",
        "    sim_scores = sim_scores[1:6]                                                #Selecciona las primero 5 similitudes\n",
        "    games_indices = [i[0] for i in sim_scores]\n",
        "    return df_games['title'].iloc[games_indices]                                #Retorna el nombre de los videojuegos"
      ],
      "execution_count": 44,
      "outputs": []
    },
    {
      "cell_type": "code",
      "metadata": {
        "id": "ITQvf_gEQX3j"
      },
      "source": [
        "def recomendation():\n",
        "  '''\n",
        "  Se seleccionara un id de un videojuego al azar, simulando que el usuario ya selecciono\n",
        "  el videojuego que va jugar y escribir su reseña'''\n",
        "  ids  = np.random.randint(df_games.shape[0])                         #Obtiene una linea al azar\n",
        "  ids  = df_games.id.iloc[ids]                                        #Obtiene el id del videojuego seleccionado al azar\n",
        "  name = (df_games.loc[df_games['id'] == ids]['title']).iloc[0]       #Busca el nombre del id del videojuego \n",
        "  print('Usted ha jugado: {}'.format(name))\n",
        "  input('Ingrese su reseña: ')\n",
        "  print('\\nNuestras recomendaciones:')\n",
        "  print(get_recomendation(name))"
      ],
      "execution_count": 47,
      "outputs": []
    },
    {
      "cell_type": "code",
      "metadata": {
        "colab": {
          "base_uri": "https://localhost:8080/"
        },
        "id": "_d_FFYEgQXzp",
        "outputId": "869f6da0-cd76-4171-b8ca-99f8eaba098c"
      },
      "source": [
        "recomendation()"
      ],
      "execution_count": 48,
      "outputs": [
        {
          "output_type": "stream",
          "text": [
            "Usted ha jugado: TankZone Battle\n",
            "Ingrese su reseña: excelente\n",
            "\n",
            "Nuestras recomendaciones:\n",
            "612                           PlanetSide 2\n",
            "39           Military Life: Tank Simulator\n",
            "1112       Tom Clancy's Rainbow Six® Vegas\n",
            "466     White Noise 2 - Corey &amp; Shaira\n",
            "240                         Sniper Elite 3\n",
            "Name: title, dtype: object\n"
          ],
          "name": "stdout"
        }
      ]
    },
    {
      "cell_type": "code",
      "metadata": {
        "id": "pOilhG-uQXqY"
      },
      "source": [
        ""
      ],
      "execution_count": 48,
      "outputs": []
    },
    {
      "cell_type": "markdown",
      "metadata": {
        "id": "WqoViz3t-Kj3"
      },
      "source": [
        "# Procesamiento de lenguaje natural"
      ]
    },
    {
      "cell_type": "code",
      "metadata": {
        "id": "yA3jTAqp-bFX"
      },
      "source": [
        "from textblob import TextBlob\n",
        "import nltk\n",
        "import goslate\n",
        "nltk.download('punkt')\n",
        "nltk.download('stopwords')"
      ],
      "execution_count": null,
      "outputs": []
    },
    {
      "cell_type": "code",
      "metadata": {
        "id": "XuRmign0AKcr"
      },
      "source": [
        "data_reviews.head(2)"
      ],
      "execution_count": null,
      "outputs": []
    },
    {
      "cell_type": "code",
      "metadata": {
        "id": "j8_rDxze-Ri9"
      },
      "source": [
        "valores_nulos(data_reviews)"
      ],
      "execution_count": null,
      "outputs": []
    },
    {
      "cell_type": "markdown",
      "metadata": {
        "id": "_oUpbzNC_gPr"
      },
      "source": [
        "\n",
        "https://www.youtube.com/watch?v=oy1lcj8s8sQ&t=620s  -->PRocesamiento de comentario\n",
        "\n",
        "https://stackoverflow.com/questions/57744725/how-to-convert-emojis-emoticons-to-their-meanings-in-python --> Convertir emojis to text\n"
      ]
    },
    {
      "cell_type": "code",
      "metadata": {
        "id": "aSiSEjMIDLh4"
      },
      "source": [
        "#Defino el modelo para traduccion\n",
        "gs = goslate.Goslate()"
      ],
      "execution_count": null,
      "outputs": []
    },
    {
      "cell_type": "code",
      "metadata": {
        "id": "9wn7u6TiAgeT"
      },
      "source": [
        "  s = data_reviews.text.iloc[2]"
      ],
      "execution_count": null,
      "outputs": []
    },
    {
      "cell_type": "code",
      "metadata": {
        "id": "F-087C49AjWH"
      },
      "source": [
        "TextBlob(s).translate(to = 'en')"
      ],
      "execution_count": null,
      "outputs": []
    },
    {
      "cell_type": "code",
      "metadata": {
        "id": "DdV_2Qj9A5Nv"
      },
      "source": [
        "for i in range(data_reviews.shape[0]):\n",
        "  reviews = data_reviews.text.iloc[i]\n",
        "  data_reviews['Traduccion'] = gs.translate(reviews,'en')"
      ],
      "execution_count": null,
      "outputs": []
    },
    {
      "cell_type": "code",
      "metadata": {
        "id": "BpPG4oeDBHhy"
      },
      "source": [
        "pip install goslate"
      ],
      "execution_count": null,
      "outputs": []
    },
    {
      "cell_type": "code",
      "metadata": {
        "id": "yMx5IFLdCtNM"
      },
      "source": [
        "import goslate"
      ],
      "execution_count": null,
      "outputs": []
    },
    {
      "cell_type": "code",
      "metadata": {
        "id": "rz7RW5-pCyvt"
      },
      "source": [
        "text = \"Hello World\"\n",
        "\n",
        "gs = goslate.Goslate()\n",
        "translatedText = gs.translate(text,'es')"
      ],
      "execution_count": null,
      "outputs": []
    },
    {
      "cell_type": "code",
      "metadata": {
        "id": "PVUPOlGrC123"
      },
      "source": [
        "print(translatedText)"
      ],
      "execution_count": null,
      "outputs": []
    },
    {
      "cell_type": "code",
      "metadata": {
        "id": "CvwtL3wsC2YD"
      },
      "source": [
        "for i in range(data_reviews.shape[0]):\n",
        "  reviews = data_reviews.text.iloc[i]\n",
        "  data_reviews['Traduccion'] = TextBlob(reviews).detect_language()"
      ],
      "execution_count": null,
      "outputs": []
    },
    {
      "cell_type": "markdown",
      "metadata": {
        "id": "N8rHZyDPFsMY"
      },
      "source": [
        ""
      ]
    },
    {
      "cell_type": "code",
      "metadata": {
        "id": "1ir7K3UIgoN-"
      },
      "source": [
        "import emoji"
      ],
      "execution_count": null,
      "outputs": []
    },
    {
      "cell_type": "code",
      "metadata": {
        "id": "P13InhQEgx8o"
      },
      "source": [
        "corazon = '😁'"
      ],
      "execution_count": null,
      "outputs": []
    },
    {
      "cell_type": "code",
      "metadata": {
        "id": "XMHgP6r1gtOW"
      },
      "source": [
        "print(emoji.demojize(corazon))"
      ],
      "execution_count": null,
      "outputs": []
    },
    {
      "cell_type": "code",
      "metadata": {
        "id": "PHdW7zilg72b"
      },
      "source": [
        "s = emoji.demojize(corazon)"
      ],
      "execution_count": null,
      "outputs": []
    },
    {
      "cell_type": "code",
      "metadata": {
        "id": "qOAcgKc1hmNQ"
      },
      "source": [
        "print(s)"
      ],
      "execution_count": null,
      "outputs": []
    },
    {
      "cell_type": "code",
      "metadata": {
        "id": "-UdgRt5BrMq_"
      },
      "source": [
        "a = data_reviews.text.iloc[6]"
      ],
      "execution_count": null,
      "outputs": []
    },
    {
      "cell_type": "code",
      "metadata": {
        "id": "J50ZUd5nrUfq"
      },
      "source": [
        "print(emoji.demojize(a))"
      ],
      "execution_count": null,
      "outputs": []
    },
    {
      "cell_type": "code",
      "metadata": {
        "id": "41XIkWcjyZ4q"
      },
      "source": [
        "reviews_text = []\n",
        "for i in range(data_reviews.shape[0]):\n",
        "    review = emoji.demojize(data_reviews.text.iloc[i])\n",
        "    reviews_text.append(review)"
      ],
      "execution_count": null,
      "outputs": []
    },
    {
      "cell_type": "code",
      "metadata": {
        "id": "85G5yTJv5NS0"
      },
      "source": [
        "def listToString(s): \n",
        "    str1 = \"\"   \n",
        "    for ele in s:  \n",
        "        str1 += ele   \n",
        "    return str1  "
      ],
      "execution_count": null,
      "outputs": []
    },
    {
      "cell_type": "code",
      "metadata": {
        "id": "88hRjUKp5FKL"
      },
      "source": [
        "data_reviews['no_emojis'] = listToString(reviews_text)"
      ],
      "execution_count": null,
      "outputs": []
    },
    {
      "cell_type": "code",
      "metadata": {
        "id": "PdKN7-f35BaL"
      },
      "source": [
        "data_reviews"
      ],
      "execution_count": null,
      "outputs": []
    },
    {
      "cell_type": "code",
      "metadata": {
        "id": "-oqEsYAK5Wf4"
      },
      "source": [
        ""
      ],
      "execution_count": null,
      "outputs": []
    }
  ]
}