{
  "nbformat": 4,
  "nbformat_minor": 0,
  "metadata": {
    "colab": {
      "name": "Clustering.ipynb",
      "provenance": [],
      "authorship_tag": "ABX9TyNCthoIDSgeLwnAQCPJe3UB",
      "include_colab_link": true
    },
    "kernelspec": {
      "name": "python3",
      "display_name": "Python 3"
    }
  },
  "cells": [
    {
      "cell_type": "markdown",
      "metadata": {
        "id": "view-in-github",
        "colab_type": "text"
      },
      "source": [
        "<a href=\"https://colab.research.google.com/github/nestorjuarezR/Data_Science/blob/main/Clustering.ipynb\" target=\"_parent\"><img src=\"https://colab.research.google.com/assets/colab-badge.svg\" alt=\"Open In Colab\"/></a>"
      ]
    },
    {
      "cell_type": "code",
      "metadata": {
        "colab": {
          "base_uri": "https://localhost:8080/"
        },
        "id": "juy3UFUmjHGR",
        "outputId": "e3949f88-f910-403d-ae84-853259bbe98c"
      },
      "source": [
        "pip install kneed"
      ],
      "execution_count": 2,
      "outputs": [
        {
          "output_type": "stream",
          "text": [
            "Collecting kneed\n",
            "  Downloading https://files.pythonhosted.org/packages/c3/6b/e130913aaaad1373060e259ab222ca2330672db696b297b082c3f3089fcc/kneed-0.7.0-py2.py3-none-any.whl\n",
            "Requirement already satisfied: numpy>=1.14.2 in /usr/local/lib/python3.7/dist-packages (from kneed) (1.19.5)\n",
            "Requirement already satisfied: scipy in /usr/local/lib/python3.7/dist-packages (from kneed) (1.4.1)\n",
            "Requirement already satisfied: matplotlib in /usr/local/lib/python3.7/dist-packages (from kneed) (3.2.2)\n",
            "Requirement already satisfied: pyparsing!=2.0.4,!=2.1.2,!=2.1.6,>=2.0.1 in /usr/local/lib/python3.7/dist-packages (from matplotlib->kneed) (2.4.7)\n",
            "Requirement already satisfied: kiwisolver>=1.0.1 in /usr/local/lib/python3.7/dist-packages (from matplotlib->kneed) (1.3.1)\n",
            "Requirement already satisfied: python-dateutil>=2.1 in /usr/local/lib/python3.7/dist-packages (from matplotlib->kneed) (2.8.1)\n",
            "Requirement already satisfied: cycler>=0.10 in /usr/local/lib/python3.7/dist-packages (from matplotlib->kneed) (0.10.0)\n",
            "Requirement already satisfied: six>=1.5 in /usr/local/lib/python3.7/dist-packages (from python-dateutil>=2.1->matplotlib->kneed) (1.15.0)\n",
            "Installing collected packages: kneed\n",
            "Successfully installed kneed-0.7.0\n"
          ],
          "name": "stdout"
        }
      ]
    },
    {
      "cell_type": "code",
      "metadata": {
        "id": "pIIG312hhUKY"
      },
      "source": [
        "import matplotlib.pyplot as plt\n",
        "from sklearn.datasets import make_blobs\n",
        "from sklearn.preprocessing import StandardScaler\n",
        "from sklearn.cluster import  KMeans, DBSCAN\n",
        "from kneed import KneeLocator\n",
        "from sklearn.metrics import silhouette_score, adjusted_rand_score"
      ],
      "execution_count": 3,
      "outputs": []
    },
    {
      "cell_type": "code",
      "metadata": {
        "id": "Yw9THP2qize1"
      },
      "source": [
        "#Crear datos de prueba\n",
        "datos, etiquetas = make_blobs(\n",
        "    n_samples = 200,\n",
        "    centers = 3,\n",
        "    cluster_std = 2.75,\n",
        "    random_state=42\n",
        ")"
      ],
      "execution_count": 4,
      "outputs": []
    },
    {
      "cell_type": "code",
      "metadata": {
        "colab": {
          "base_uri": "https://localhost:8080/"
        },
        "id": "uctWvN4Pjnnt",
        "outputId": "cb7d8953-5aa0-4c36-f2ec-0518625aaf05"
      },
      "source": [
        "datos[:5]"
      ],
      "execution_count": 5,
      "outputs": [
        {
          "output_type": "execute_result",
          "data": {
            "text/plain": [
              "array([[  9.77075874,   3.27621022],\n",
              "       [ -9.71349666,  11.27451802],\n",
              "       [ -6.91330582,  -9.34755911],\n",
              "       [-10.86185913, -10.75063497],\n",
              "       [ -8.50038027,  -4.54370383]])"
            ]
          },
          "metadata": {
            "tags": []
          },
          "execution_count": 5
        }
      ]
    },
    {
      "cell_type": "code",
      "metadata": {
        "colab": {
          "base_uri": "https://localhost:8080/"
        },
        "id": "dJosXjpljuEy",
        "outputId": "316d1466-8d46-4f71-d6e5-cc0ae727a34e"
      },
      "source": [
        "etiquetas[:5]"
      ],
      "execution_count": 6,
      "outputs": [
        {
          "output_type": "execute_result",
          "data": {
            "text/plain": [
              "array([1, 0, 2, 2, 2])"
            ]
          },
          "metadata": {
            "tags": []
          },
          "execution_count": 6
        }
      ]
    },
    {
      "cell_type": "markdown",
      "metadata": {
        "id": "Wz9LZE7JkAHc"
      },
      "source": [
        "# Escalado de datos"
      ]
    },
    {
      "cell_type": "code",
      "metadata": {
        "id": "wRG8sps1j4Ln"
      },
      "source": [
        "scalador = StandardScaler()\n",
        "datos_escalados = scalador.fit_transform(datos)"
      ],
      "execution_count": 8,
      "outputs": []
    },
    {
      "cell_type": "code",
      "metadata": {
        "colab": {
          "base_uri": "https://localhost:8080/"
        },
        "id": "FtwE7aZ2kLJQ",
        "outputId": "e9fb6d75-c79b-4957-841b-9d0e9c76ce42"
      },
      "source": [
        "datos_escalados[:5]"
      ],
      "execution_count": 9,
      "outputs": [
        {
          "output_type": "execute_result",
          "data": {
            "text/plain": [
              "array([[ 2.13082109,  0.25604351],\n",
              "       [-1.52698523,  1.41036744],\n",
              "       [-1.00130152, -1.56583175],\n",
              "       [-1.74256891, -1.76832509],\n",
              "       [-1.29924521, -0.87253446]])"
            ]
          },
          "metadata": {
            "tags": []
          },
          "execution_count": 9
        }
      ]
    },
    {
      "cell_type": "markdown",
      "metadata": {
        "id": "Dt3EHUv_kWbE"
      },
      "source": [
        "# KMEANS"
      ]
    },
    {
      "cell_type": "code",
      "metadata": {
        "id": "ooCRXft5kPHx"
      },
      "source": [
        "modelo = KMeans(\n",
        "    init='random',\n",
        "    n_clusters = 3,\n",
        "    n_init = 10,\n",
        "    max_iter = 300,\n",
        "    random_state = 42\n",
        ")"
      ],
      "execution_count": 11,
      "outputs": []
    },
    {
      "cell_type": "code",
      "metadata": {
        "colab": {
          "base_uri": "https://localhost:8080/"
        },
        "id": "kVCndgMDkeRU",
        "outputId": "f3878ddd-675e-4f73-a2a7-b8cafcc08f5a"
      },
      "source": [
        "modelo.fit(datos_escalados)"
      ],
      "execution_count": 12,
      "outputs": [
        {
          "output_type": "execute_result",
          "data": {
            "text/plain": [
              "KMeans(algorithm='auto', copy_x=True, init='random', max_iter=300, n_clusters=3,\n",
              "       n_init=10, n_jobs=None, precompute_distances='auto', random_state=42,\n",
              "       tol=0.0001, verbose=0)"
            ]
          },
          "metadata": {
            "tags": []
          },
          "execution_count": 12
        }
      ]
    },
    {
      "cell_type": "code",
      "metadata": {
        "colab": {
          "base_uri": "https://localhost:8080/"
        },
        "id": "0NA-hAuHkpxs",
        "outputId": "f3299c50-ba21-40bd-f28b-02f63c72c238"
      },
      "source": [
        "modelo.inertia_"
      ],
      "execution_count": 13,
      "outputs": [
        {
          "output_type": "execute_result",
          "data": {
            "text/plain": [
              "74.57960106819854"
            ]
          },
          "metadata": {
            "tags": []
          },
          "execution_count": 13
        }
      ]
    },
    {
      "cell_type": "code",
      "metadata": {
        "colab": {
          "base_uri": "https://localhost:8080/"
        },
        "id": "5wu9MyNjkv5m",
        "outputId": "c9c56c8d-c8b0-4527-bcc6-84d0a36a94dc"
      },
      "source": [
        "#Coordenadas del centro de los clusters\n",
        "modelo.cluster_centers_"
      ],
      "execution_count": 14,
      "outputs": [
        {
          "output_type": "execute_result",
          "data": {
            "text/plain": [
              "array([[ 1.19539276,  0.13158148],\n",
              "       [-0.25813925,  1.05589975],\n",
              "       [-0.91941183, -1.18551732]])"
            ]
          },
          "metadata": {
            "tags": []
          },
          "execution_count": 14
        }
      ]
    },
    {
      "cell_type": "code",
      "metadata": {
        "colab": {
          "base_uri": "https://localhost:8080/"
        },
        "id": "DafRGZVWky7W",
        "outputId": "1af8b142-846f-4f73-e67e-5ac5d4808092"
      },
      "source": [
        "#Numero de iteracciones necesarias\n",
        "modelo.n_iter_"
      ],
      "execution_count": 15,
      "outputs": [
        {
          "output_type": "execute_result",
          "data": {
            "text/plain": [
              "6"
            ]
          },
          "metadata": {
            "tags": []
          },
          "execution_count": 15
        }
      ]
    },
    {
      "cell_type": "code",
      "metadata": {
        "colab": {
          "base_uri": "https://localhost:8080/"
        },
        "id": "AeBF0ty2lAst",
        "outputId": "2faaf702-ca36-407d-877a-d74083ce6bbe"
      },
      "source": [
        "print(f'Etiquetas establecidad por el modelo: {modelo.labels_[:5]}')"
      ],
      "execution_count": 19,
      "outputs": [
        {
          "output_type": "stream",
          "text": [
            "Etiquetas establecidad por el modelo: [0 1 2 2 2]\n"
          ],
          "name": "stdout"
        }
      ]
    },
    {
      "cell_type": "code",
      "metadata": {
        "colab": {
          "base_uri": "https://localhost:8080/"
        },
        "id": "8RxOUq0plIak",
        "outputId": "671470e8-af74-4192-dfff-ca30ce7c4810"
      },
      "source": [
        "print(f'Etiquetas reales de los datos:{etiquetas[:5]}')"
      ],
      "execution_count": 20,
      "outputs": [
        {
          "output_type": "stream",
          "text": [
            "Etiquetas reales de los datos:[1 0 2 2 2]\n"
          ],
          "name": "stdout"
        }
      ]
    },
    {
      "cell_type": "code",
      "metadata": {
        "id": "slhtveVNlLBn"
      },
      "source": [
        "y_pred = modelo.predict(datos_escalados)"
      ],
      "execution_count": 21,
      "outputs": []
    },
    {
      "cell_type": "code",
      "metadata": {
        "colab": {
          "base_uri": "https://localhost:8080/",
          "height": 282
        },
        "id": "TfnATNzxlnL9",
        "outputId": "a1e654c0-dcb8-45e2-a212-004e7ee886c7"
      },
      "source": [
        "plt.scatter(\n",
        "    datos_escalados[:,0],\n",
        "    datos_escalados[:,1],\n",
        "    c=y_pred,\n",
        "    s=50,\n",
        "    cmap = 'viridis'\n",
        ")\n",
        "\n",
        "centros = modelo.cluster_centers_\n",
        "plt.scatter(\n",
        "    centros[:,0],\n",
        "    centros[:,1],\n",
        "    c='black',\n",
        "    s=200,\n",
        "    alpha=0.5\n",
        "    )"
      ],
      "execution_count": 22,
      "outputs": [
        {
          "output_type": "execute_result",
          "data": {
            "text/plain": [
              "<matplotlib.collections.PathCollection at 0x7f4d7a96e1d0>"
            ]
          },
          "metadata": {
            "tags": []
          },
          "execution_count": 22
        },
        {
          "output_type": "display_data",
          "data": {
            "image/png": "[encoded data removed]",
            "text/plain": [
              "<Figure size 432x288 with 1 Axes>"
            ]
          },
          "metadata": {
            "tags": [],
            "needs_background": "light"
          }
        }
      ]
    },
    {
      "cell_type": "markdown",
      "metadata": {
        "id": "EKLZ73x8ma-D"
      },
      "source": [
        "#Validación"
      ]
    },
    {
      "cell_type": "markdown",
      "metadata": {
        "id": "uYVziti3mgXY"
      },
      "source": [
        "## Codo Elbow"
      ]
    },
    {
      "cell_type": "code",
      "metadata": {
        "id": "c8u26qd2mtVU"
      },
      "source": [
        "sse = []\n",
        "rango = range(1,11)\n",
        "\n",
        "for k in rango:\n",
        "  m = KMeans(\n",
        "      init='random',\n",
        "      n_clusters= k,\n",
        "      n_init = 10,\n",
        "      max_iter = 300,\n",
        "      random_state=40\n",
        "  )\n",
        "  m.fit(datos_escalados)\n",
        "  sse.append(m.inertia_)"
      ],
      "execution_count": 25,
      "outputs": []
    },
    {
      "cell_type": "code",
      "metadata": {
        "colab": {
          "base_uri": "https://localhost:8080/",
          "height": 279
        },
        "id": "pxze1Ds3nber",
        "outputId": "3f8c6ed6-4002-48fc-a531-03cc863960ca"
      },
      "source": [
        "plt.plot(rango, sse)\n",
        "plt.xticks(rango)\n",
        "plt.xlabel('Numero de clústers')\n",
        "plt.ylabel('SSE')\n",
        "plt.show()"
      ],
      "execution_count": 26,
      "outputs": [
        {
          "output_type": "display_data",
          "data": {
            "image/png": "[encoded data removed]",
            "text/plain": [
              "<Figure size 432x288 with 1 Axes>"
            ]
          },
          "metadata": {
            "tags": [],
            "needs_background": "light"
          }
        }
      ]
    },
    {
      "cell_type": "code",
      "metadata": {
        "colab": {
          "base_uri": "https://localhost:8080/"
        },
        "id": "BeO4YMOXoAyq",
        "outputId": "0f8735f6-21d8-4452-e27e-f12a53224600"
      },
      "source": [
        "kl = KneeLocator(rango,\n",
        "                 sse,\n",
        "                 curve='convex',\n",
        "                 direction = 'decreasing')\n",
        "print(f'Numero de optimo de clústers: {kl.elbow}')"
      ],
      "execution_count": 28,
      "outputs": [
        {
          "output_type": "stream",
          "text": [
            "Numero de optimo de clústers: 3\n"
          ],
          "name": "stdout"
        }
      ]
    },
    {
      "cell_type": "markdown",
      "metadata": {
        "id": "JqZ0A95cmk6r"
      },
      "source": [
        "##Silhouette Coefficient"
      ]
    },
    {
      "cell_type": "code",
      "metadata": {
        "id": "JZVR8F32mPeJ"
      },
      "source": [
        "coeficientes = []\n",
        "rango = range(2,11)\n",
        "\n",
        "for k in rango:\n",
        "  m = KMeans(\n",
        "      init='random',\n",
        "      n_clusters= k,\n",
        "      n_init = 10,\n",
        "      max_iter = 300,\n",
        "      random_state=40\n",
        "  )\n",
        "  m.fit(datos_escalados)\n",
        "  score = silhouette_score(datos_escalados, m.labels_)\n",
        "  coeficientes.append(score)"
      ],
      "execution_count": 29,
      "outputs": []
    },
    {
      "cell_type": "code",
      "metadata": {
        "colab": {
          "base_uri": "https://localhost:8080/",
          "height": 280
        },
        "id": "kkHHPFMkpJZz",
        "outputId": "017546ae-a140-4ba7-b15a-e294a178deca"
      },
      "source": [
        "plt.plot(rango, coeficientes)\n",
        "plt.xticks(rango)\n",
        "plt.xlabel('Numero de clústers')\n",
        "plt.ylabel('Coeficiente de silueta')\n",
        "plt.show()"
      ],
      "execution_count": 31,
      "outputs": [
        {
          "output_type": "display_data",
          "data": {
            "image/png": "[encoded data removed]",
            "text/plain": [
              "<Figure size 432x288 with 1 Axes>"
            ]
          },
          "metadata": {
            "tags": [],
            "needs_background": "light"
          }
        }
      ]
    },
    {
      "cell_type": "markdown",
      "metadata": {
        "id": "3v7F-H92pr68"
      },
      "source": [
        "#Comparativa de modelos"
      ]
    },
    {
      "cell_type": "code",
      "metadata": {
        "colab": {
          "base_uri": "https://localhost:8080/"
        },
        "id": "PSFD6ubkpOVE",
        "outputId": "137958a9-979a-4937-9d59-2cab5f7b60d4"
      },
      "source": [
        "dbscan = DBSCAN(eps=0.3)\n",
        "dbscan.fit(datos_escalados)"
      ],
      "execution_count": 32,
      "outputs": [
        {
          "output_type": "execute_result",
          "data": {
            "text/plain": [
              "DBSCAN(algorithm='auto', eps=0.3, leaf_size=30, metric='euclidean',\n",
              "       metric_params=None, min_samples=5, n_jobs=None, p=None)"
            ]
          },
          "metadata": {
            "tags": []
          },
          "execution_count": 32
        }
      ]
    },
    {
      "cell_type": "code",
      "metadata": {
        "id": "Lo3PTk76p0P2"
      },
      "source": [
        "kmeans_silhouette = silhouette_score(datos_escalados, modelo.labels_).round(2)\n",
        "dbscan_silhouette = silhouette_score(datos_escalados, dbscan.labels_).round(2)"
      ],
      "execution_count": 34,
      "outputs": []
    },
    {
      "cell_type": "code",
      "metadata": {
        "colab": {
          "base_uri": "https://localhost:8080/"
        },
        "id": "e9QY9iMfqNAU",
        "outputId": "43cd0a15-2951-4c81-c79f-16f7b6800ff1"
      },
      "source": [
        "print(f'Coeficiente de Kmeans: {kmeans_silhouette}')\n",
        "print(f'Coeficiente de DBSCAN: {dbscan_silhouette}')"
      ],
      "execution_count": 35,
      "outputs": [
        {
          "output_type": "stream",
          "text": [
            "Coeficiente de Kmeans: 0.59\n",
            "Coeficiente de DBSCAN: 0.35\n"
          ],
          "name": "stdout"
        }
      ]
    },
    {
      "cell_type": "code",
      "metadata": {
        "id": "pSSQd_inqwuo"
      },
      "source": [
        "ari_kmeans = adjusted_rand_score(etiquetas, modelo.labels_)\n",
        "ari_dbscan = adjusted_rand_score(etiquetas, dbscan.labels_)"
      ],
      "execution_count": 42,
      "outputs": []
    },
    {
      "cell_type": "code",
      "metadata": {
        "colab": {
          "base_uri": "https://localhost:8080/"
        },
        "id": "mucqJLLFqwoL",
        "outputId": "4351dea1-3280-4f1e-b914-32c62406da52"
      },
      "source": [
        "print(f'Score de modelo Kmeans: {round(ari_kmeans, 2)}')\n",
        "print(f'Score de modelo DBSCAN: {round(ari_dbscan, 2)}')"
      ],
      "execution_count": 44,
      "outputs": [
        {
          "output_type": "stream",
          "text": [
            "Score de modelo Kmeans: 0.96\n",
            "Score de modelo DBSCAN: 0.42\n"
          ],
          "name": "stdout"
        }
      ]
    }
  ]
}